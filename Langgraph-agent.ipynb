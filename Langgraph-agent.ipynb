{
 "cells": [
  {
   "cell_type": "code",
   "execution_count": 1,
   "id": "83b528b3-a642-4aaa-9bdd-6781bf812293",
   "metadata": {},
   "outputs": [],
   "source": [
    "import getpass\n",
    "import os\n",
    "from langchain_groq import ChatGroq"
   ]
  },
  {
   "cell_type": "code",
   "execution_count": 2,
   "id": "935ededc-2a60-41a0-9e68-afc920650be7",
   "metadata": {},
   "outputs": [
    {
     "name": "stdin",
     "output_type": "stream",
     "text": [
      " ········\n"
     ]
    }
   ],
   "source": [
    "os.environ[\"GROQ_API_KEY\"] = getpass.getpass()"
   ]
  },
  {
   "cell_type": "code",
   "execution_count": 3,
   "id": "be067b35-d702-4bab-9b82-705710935c5f",
   "metadata": {},
   "outputs": [],
   "source": [
    "from langchain_core.messages import HumanMessage, AIMessage, SystemMessage, trim_messages, ToolMessage\n",
    "from langchain_core.prompts import ChatPromptTemplate, MessagesPlaceholder\n",
    "from langchain_core.runnables import RunnableSequence, RunnableMap, RunnableParallel\n",
    "from langchain_core.runnables.history import RunnableWithMessageHistory\n",
    "\n",
    "\n",
    "from operator import itemgetter\n",
    "from langchain_core.runnables import RunnablePassthrough\n",
    "from langchain_community.document_loaders import PyMuPDFLoader\n",
    "from langchain_text_splitters import RecursiveCharacterTextSplitter\n",
    "from langchain_community.embeddings import HuggingFaceInstructEmbeddings\n",
    "from langchain_chroma import Chroma\n",
    "\n",
    "from langchain.chains.combine_documents import create_stuff_documents_chain\n",
    "from langchain.chains import create_retrieval_chain"
   ]
  },
  {
   "cell_type": "code",
   "execution_count": 4,
   "id": "ffdf8064-c847-467b-be79-664d848c3052",
   "metadata": {},
   "outputs": [],
   "source": [
    "LLAMA_8B = \"llama3-8b-8192\"\n",
    "LLAMA_70B = \"llama3-70b-8192\"\n",
    "GEMMA2_9B = \"gemma2-9b-it\"\n",
    "\n",
    "model = ChatGroq(model=LLAMA_8B)"
   ]
  },
  {
   "cell_type": "code",
   "execution_count": 5,
   "id": "5ff68290-4ac4-4080-a9cb-1e64bdc6f851",
   "metadata": {},
   "outputs": [],
   "source": [
    "llm = model"
   ]
  },
  {
   "cell_type": "code",
   "execution_count": 6,
   "id": "b45ad362-1cd8-4fcf-8aee-280f9100d332",
   "metadata": {},
   "outputs": [
    {
     "data": {
      "text/plain": [
       "ChatGroq(client=<groq.resources.chat.completions.Completions object at 0x0000020C3B3A9FD0>, async_client=<groq.resources.chat.completions.AsyncCompletions object at 0x0000020C3B3AAB70>, model_name='llama3-8b-8192', model_kwargs={}, groq_api_key=SecretStr('**********'))"
      ]
     },
     "execution_count": 6,
     "metadata": {},
     "output_type": "execute_result"
    }
   ],
   "source": [
    "llm"
   ]
  },
  {
   "cell_type": "code",
   "execution_count": 23,
   "id": "97f824f8-20b3-4a7d-888f-1c70aeeadd8e",
   "metadata": {},
   "outputs": [],
   "source": [
    "from langgraph.checkpoint.memory import MemorySaver"
   ]
  },
  {
   "cell_type": "code",
   "execution_count": 8,
   "id": "1a5b8143-94a0-4dde-a71e-0de35e3371ce",
   "metadata": {},
   "outputs": [],
   "source": [
    "from langchain_core.tools import tool\n",
    "from langchain_core.messages import SystemMessage\n",
    "from langgraph.prebuilt import ToolNode\n",
    "from langgraph.graph import MessagesState, StateGraph\n",
    "from langgraph.checkpoint.memory import MemorySaver"
   ]
  },
  {
   "cell_type": "code",
   "execution_count": 9,
   "id": "f3202bf8-6b0a-4e23-83f3-820fb68f1c9c",
   "metadata": {},
   "outputs": [],
   "source": [
    "from langgraph.graph import START, StateGraph, END\n",
    "from typing_extensions import List, TypedDict"
   ]
  },
  {
   "cell_type": "code",
   "execution_count": 10,
   "id": "c767eba9-864e-43ae-a308-ad85bc6bd5bb",
   "metadata": {},
   "outputs": [],
   "source": [
    "from pydantic import BaseModel\n",
    "from collections.abc import Callable\n",
    "from langchain_core.documents import Document\n",
    "from typing import Optional, Any, Iterable, Iterator, Generator\n",
    "from textwrap import dedent"
   ]
  },
  {
   "cell_type": "code",
   "execution_count": 11,
   "id": "b424b0d7-1e4e-4114-9d2d-c00923399147",
   "metadata": {},
   "outputs": [],
   "source": [
    "# @tool\n",
    "def jodo(a: float, b: float) -> float:\n",
    "    \"\"\"Adds two numbers.\"\"\"\n",
    "    return a + b\n",
    "\n",
    "# @tool\n",
    "def kamkaro(a: float, b: float) -> float:\n",
    "    \"\"\"Subtracts two numbers.\"\"\"\n",
    "    return a - b\n",
    "\n",
    "# @tool\n",
    "def prod_bro(a: float, b: float) -> float:\n",
    "    \"\"\"Multiplies two numbers.\"\"\"\n",
    "    return a * b\n",
    "\n",
    "# @tool\n",
    "def gandhi(a: float, b: float) -> float:\n",
    "    \"\"\"Divides two numbers.\"\"\"\n",
    "    if b == 0:\n",
    "        return \"Cannot divide by zero.\"\n",
    "    return a / b\n",
    "\n",
    "\n",
    "tools = [jodo, kamkaro, prod_bro, gandhi]"
   ]
  },
  {
   "cell_type": "markdown",
   "id": "ddc808fd-1508-4436-b7b6-5228ed5683b8",
   "metadata": {},
   "source": [
    " - `class collections.abc.Iterator`\n",
    "\n",
    "$ \\hspace{10mm} $ ABC for classes that provide the `__iter__()` and `__next__()` methods.\n",
    "\n",
    "\n",
    " - `class collections.abc.Iterable`\r\n",
    "\n",
    "$ \\hspace{10mm} $ ABC for classes that provide the `__iter__()` method.\n",
    "\n",
    " - `class collections.abc.Generator`\n",
    "\n",
    "$ \\hspace{10mm} $ ABC for generator classes that implement the protocol defined in PEP 342 that extends iterators with the `send()`, `throw()` and `close()` methods.\r\n",
    "."
   ]
  },
  {
   "cell_type": "markdown",
   "id": "2ddceeaa-eb5b-4a63-8c05-6f2aa39a97a5",
   "metadata": {
    "jp-MarkdownHeadingCollapsed": true
   },
   "source": [
    "### Basic calculator agent"
   ]
  },
  {
   "cell_type": "code",
   "execution_count": 11,
   "id": "70029c4f-e97b-4f5e-8dfb-3d28878777fc",
   "metadata": {},
   "outputs": [],
   "source": [
    "from langchain_core.language_models.chat_models import BaseChatModel\n",
    "from langchain_core.runnables.graph import Graph\n",
    "from langchain_core.runnables.base import Runnable\n"
   ]
  },
  {
   "cell_type": "code",
   "execution_count": 11,
   "id": "2fbf679e-f9b7-480e-9735-d75aad45d82c",
   "metadata": {},
   "outputs": [
    {
     "data": {
      "text/plain": [
       "False"
      ]
     },
     "execution_count": 11,
     "metadata": {},
     "output_type": "execute_result"
    }
   ],
   "source": [
    "issubclass(Graph, Runnable)"
   ]
  },
  {
   "cell_type": "code",
   "execution_count": 12,
   "id": "6320e389-8e34-4aa9-84ab-df622a139400",
   "metadata": {},
   "outputs": [],
   "source": [
    "class State(TypedDict):\n",
    "    question: str\n",
    "    answer: str\n",
    "    context: Optional[List[Document]]\n",
    "\n",
    "\n",
    "class Agent(BaseModel):\n",
    "    model: BaseChatModel\n",
    "    tools: List[Callable]\n",
    "    context: Optional[List[Document]]\n",
    "    workflow: Any = None\n",
    "\n",
    "\n",
    "    def _create_agent_workflow(self):\n",
    "        def bind(state: State):\n",
    "            llm_with_tools = self.model.bind_tools(tools)\n",
    "            response = llm_with_tools.invoke(state[\"question\"])\n",
    "            return {\"answer\": [response]}\n",
    "\n",
    "        toolnode = ToolNode(tools)\n",
    "        tools_cache = {tool.__name__: tool for tool in tools}\n",
    "\n",
    "        def call_tool(state: State):\n",
    "            last_message = state[\"answer\"][-1]\n",
    "            tool_call = last_message.tool_calls[0]\n",
    "            tool_name = tool_call[\"name\"]\n",
    "            arguments = tool_call[\"args\"]\n",
    "        \n",
    "            if tool_name not in tools_cache:\n",
    "                output = f\"Tool `{tool_name}` is not defined\"\n",
    "\n",
    "            else:\n",
    "                output = tools_cache[tool_name](**arguments)\n",
    "        \n",
    "            return {\n",
    "                \"question\": state[\"question\"],\n",
    "                \"answer\": str(output),\n",
    "            }\n",
    "\n",
    "        graph_builder = StateGraph(State)\n",
    "\n",
    "        graph_builder.add_node(bind)\n",
    "        graph_builder.add_node(toolnode)\n",
    "        graph_builder.add_node(call_tool)\n",
    "        \n",
    "        graph_builder.add_edge(START, \"bind\")\n",
    "        graph_builder.add_edge(\"bind\", \"call_tool\")\n",
    "        self.workflow = graph_builder.compile()\n",
    "\n",
    "\n",
    "    def run(self, input):\n",
    "        if not self.workflow:\n",
    "            print(\"Initializing workflow\")\n",
    "            self._create_agent_workflow()\n",
    "\n",
    "        response = self.workflow.invoke(input)\n",
    "        return response"
   ]
  },
  {
   "cell_type": "code",
   "execution_count": 13,
   "id": "60af2729-f316-4f90-9e0a-bf3552624abc",
   "metadata": {},
   "outputs": [],
   "source": [
    "calculator = Agent(model=model, tools=tools, context=[])"
   ]
  },
  {
   "cell_type": "code",
   "execution_count": 14,
   "id": "b0858ab3-ff4c-4ca7-9b39-ab2df2bef4b6",
   "metadata": {},
   "outputs": [
    {
     "name": "stdout",
     "output_type": "stream",
     "text": [
      "Initializing workflow\n"
     ]
    },
    {
     "data": {
      "text/plain": [
       "{'question': 'What if you have 3 and then I take one from you?', 'answer': '2'}"
      ]
     },
     "execution_count": 14,
     "metadata": {},
     "output_type": "execute_result"
    }
   ],
   "source": [
    "calculator.run({\"question\": \"What if you have 3 and then I take one from you?\"})"
   ]
  },
  {
   "cell_type": "code",
   "execution_count": null,
   "id": "8e88b670-f032-4264-a5eb-6e8b78a25c8d",
   "metadata": {},
   "outputs": [],
   "source": []
  },
  {
   "cell_type": "markdown",
   "id": "37ad5c83-17c4-4bf7-8c45-b9b02f1773cc",
   "metadata": {
    "jp-MarkdownHeadingCollapsed": true
   },
   "source": [
    "### Basic calculator agent"
   ]
  },
  {
   "cell_type": "code",
   "execution_count": 15,
   "id": "41159f1a-49e9-4812-84b9-76b9b0a49457",
   "metadata": {},
   "outputs": [],
   "source": [
    "class State(TypedDict):\n",
    "    question: str\n",
    "    answer: str"
   ]
  },
  {
   "cell_type": "code",
   "execution_count": 19,
   "id": "85a79167-77a4-4932-95a5-24780308d316",
   "metadata": {},
   "outputs": [],
   "source": [
    "def calculate(state: State):\n",
    "    llm_with_tools = llm.bind_tools(tool_list)\n",
    "    response = llm_with_tools.invoke(state[\"question\"])\n",
    "    return {\"answer\": [response]}\n",
    "\n",
    "\n",
    "tools = ToolNode(tool_list)\n",
    "\n",
    "\n",
    "def call_tool(state: State):\n",
    "    last_message = state[\"answer\"][-1]\n",
    "    tool_call = last_message.tool_calls[0]\n",
    "    function_name = tool_call[\"name\"]\n",
    "    arguments = tool_call[\"args\"]\n",
    "\n",
    "    if function_name == \"add\":\n",
    "        output = add(**arguments)\n",
    "    elif function_name == \"subtract\":\n",
    "         output = subtract(**arguments)\n",
    "    elif function_name == \"multiply\":\n",
    "        output = multiply(**arguments)\n",
    "    elif function_name == \"divide\":\n",
    "         output = divide(**arguments)\n",
    "    else:\n",
    "        output = f\"Tool `{function_name}` is not defined\"\n",
    "\n",
    "    return {\n",
    "        \"question\": state[\"question\"],\n",
    "        \"answer\": str(output),\n",
    "    }"
   ]
  },
  {
   "cell_type": "code",
   "execution_count": 64,
   "id": "69599444-6fbe-4c1f-a72e-f1c87e898d91",
   "metadata": {},
   "outputs": [],
   "source": [
    "graph_builder = StateGraph(State)\n",
    "\n",
    "graph_builder.add_node(calculate)\n",
    "graph_builder.add_node(tools)\n",
    "graph_builder.add_node(call_tool)\n",
    "\n",
    "graph_builder.add_edge(START, \"calculate\")\n",
    "graph_builder.add_edge(\"calculate\", \"call_tool\")\n",
    "graph = graph_builder.compile()"
   ]
  },
  {
   "cell_type": "code",
   "execution_count": 65,
   "id": "f710b178-e330-445f-acd4-08916fdb2dca",
   "metadata": {},
   "outputs": [
    {
     "data": {
      "text/plain": [
       "'What if you have 2 and then you have one more?'"
      ]
     },
     "execution_count": 65,
     "metadata": {},
     "output_type": "execute_result"
    }
   ],
   "source": [
    "\"What if you have 2 and then you have one more?\""
   ]
  },
  {
   "cell_type": "code",
   "execution_count": 66,
   "id": "34f70327-9f22-42d7-89d3-84a76ef65636",
   "metadata": {},
   "outputs": [
    {
     "name": "stdout",
     "output_type": "stream",
     "text": [
      "2\n"
     ]
    }
   ],
   "source": [
    "response = graph.invoke({\"question\": \"What if you have 3 and then I take one from you?\"})\n",
    "print(response[\"answer\"])"
   ]
  },
  {
   "cell_type": "code",
   "execution_count": 67,
   "id": "f53b255d-e579-4409-a508-30348a0ebfb6",
   "metadata": {},
   "outputs": [
    {
     "data": {
      "text/plain": [
       "{'question': 'What if you have 3 and then I take one from you?', 'answer': '2'}"
      ]
     },
     "execution_count": 67,
     "metadata": {},
     "output_type": "execute_result"
    }
   ],
   "source": [
    "response"
   ]
  },
  {
   "cell_type": "markdown",
   "id": "fbf36e90-cf73-4a6b-ad97-ad1c70caa7c9",
   "metadata": {
    "jp-MarkdownHeadingCollapsed": true
   },
   "source": [
    "### Basic calculator agent with system prompt"
   ]
  },
  {
   "cell_type": "code",
   "execution_count": 11,
   "id": "dca6ccd4-4a35-4431-b1a8-0be028018ab5",
   "metadata": {},
   "outputs": [],
   "source": [
    "prompt = ChatPromptTemplate.from_messages(\n",
    "    [\n",
    "        (\"system\", \"You are a helpful calculator. You have the following functions available to you: {functions} \\n. When using a function, reply in the following format. \\n```tool_code\\n{{ function_name: <function name>, arguments: {{ arg1: <value>, arg2: <value> }} }} \\n```\"),\n",
    "        MessagesPlaceholder(variable_name=\"messages\"),\n",
    "        MessagesPlaceholder(variable_name=\"functions\"),\n",
    "    ]\n",
    ")"
   ]
  },
  {
   "cell_type": "code",
   "execution_count": 12,
   "id": "bf445502-ddee-47c0-90fb-0c4251b45a7f",
   "metadata": {},
   "outputs": [],
   "source": [
    "class CalculatorState(TypedDict):\n",
    "    messages: List[AIMessage | HumanMessage]\n",
    "    tool_output: str = None\n",
    "    output: str = None"
   ]
  },
  {
   "cell_type": "code",
   "execution_count": 18,
   "id": "47e1e300-8b55-4917-a2e4-04afbedeef7d",
   "metadata": {},
   "outputs": [],
   "source": [
    "tools_dict = {tool.__name__: tool for tool in tools}"
   ]
  },
  {
   "cell_type": "code",
   "execution_count": 23,
   "id": "b96d3d41-0dc9-43c8-bcb9-8cda3811490e",
   "metadata": {},
   "outputs": [],
   "source": [
    "def call_llm(state: CalculatorState):\n",
    "    \"\"\"Call the LLM to decide next step.\"\"\"\n",
    "    runnable = (prompt | llm.bind_tools(tools))\n",
    "    response = runnable.invoke({\"messages\": state[\"messages\"], \"functions\": ['add', 'subtract', 'multiply', 'divide']})\n",
    "    print(response)\n",
    "    return {\"messages\": state[\"messages\"] + [response]}\n",
    "\n",
    "\n",
    "def check_tool_call(state: CalculatorState):\n",
    "    \"\"\"Check if llm is asking to use tool or not.\"\"\"\n",
    "    last_message = state[\"messages\"][-1]\n",
    "\n",
    "    print(last_message)\n",
    "\n",
    "    if last_message.tool_calls:\n",
    "        return \"call_tool\"\n",
    "    return \"user_response\"\n",
    "\n",
    "\n",
    "def call_tool(state: CalculatorState):\n",
    "    \"\"\"If llm returned a tool call, call the tool\"\"\"\n",
    "    last_message = state[\"messages\"][-1]\n",
    "    tool_call = last_message.tool_calls[0]\n",
    "    function_name = tool_call.function.name\n",
    "    arguments = tool_call.function.arguments\n",
    "\n",
    "    if function_name == \"add\":\n",
    "        output = add(**arguments)\n",
    "    elif function_name == \"subtract\":\n",
    "         output = subtract(**arguments)\n",
    "    elif function_name == \"multiply\":\n",
    "        output = multiply(**arguments)\n",
    "    elif function_name == \"divide\":\n",
    "         output = divide(**arguments)\n",
    "    else:\n",
    "        output = f\"Tool `{function_name}` is not defined\"\n",
    "\n",
    "    return {\n",
    "       \"messages\": state[\"messages\"] + [AIMessage(content=\"\", tool_call_id=tool_call.id, tool_call_result=str(output))],\n",
    "        \"tool_output\": output\n",
    "    }\n",
    "\n",
    "\n",
    "def user_response(state: CalculatorState):\n",
    "    \"\"\"Return last llm output to user.\"\"\"\n",
    "    last_message = state[\"messages\"][-1]\n",
    "    return {\"messages\": state[\"messages\"], \"output\": last_message.content}\n"
   ]
  },
  {
   "cell_type": "code",
   "execution_count": 24,
   "id": "7cb7092b-dfea-4837-a72e-9e91b381638a",
   "metadata": {},
   "outputs": [],
   "source": [
    "workflow = StateGraph(CalculatorState)\n",
    "workflow.add_node(\"call_llm\", call_llm)\n",
    "workflow.add_node(\"check_tool_call\", check_tool_call)\n",
    "workflow.add_node(\"call_tool\", call_tool)\n",
    "workflow.add_node(\"user_response\", user_response)\n",
    "\n",
    "workflow.set_entry_point(\"call_llm\")\n",
    "\n",
    "workflow.add_conditional_edges(\n",
    "    \"call_llm\",\n",
    "    check_tool_call,\n",
    "    {\n",
    "        \"call_tool\": \"call_tool\",\n",
    "        \"user_response\": \"user_response\"\n",
    "    },\n",
    ")\n",
    "\n",
    "workflow.add_edge(\"call_tool\", \"call_llm\")\n",
    "workflow.add_edge(\"user_response\", END)\n",
    "\n",
    "app = workflow.compile()"
   ]
  },
  {
   "cell_type": "code",
   "execution_count": 25,
   "id": "d1210c06-388a-4854-827e-76a0a87beaa7",
   "metadata": {},
   "outputs": [],
   "source": [
    "input_question = \"What if you have 3 and then I take one from you?\""
   ]
  },
  {
   "cell_type": "code",
   "execution_count": 26,
   "id": "e16389b5-911b-4f3e-9839-9d26c8d4485a",
   "metadata": {},
   "outputs": [
    {
     "name": "stdout",
     "output_type": "stream",
     "text": [
      "content='```tool-use>\\n{\\n\\t\"tool_calls\": [\\n\\t\\t{\\n\\t\\t\\t\"id\": \"pending\",\\n\\t\\t\\t\"type\": \"function\",\\n\\t\\t\\t\"function\": {\\n\\t\\t\\t\\t\"name\": \"add\",\\n\\t\\t\\t\\t\"description\": \"Adds two numbers.\",\\n\\t\\t\\t\\t\"parameters\": {\\n\\t\\t\\t\\t\\t\"a\": 3,\\n\\t\\t\\t\\t\\t\"b\": 1\\n\\t\\t\\t\\t}\\n\\t\\t\\t}\\n\\t\\t},\\n\\t\\t{\\n\\t\\t\\t\"id\": \"pending\",\\n\\t\\t\\t\"type\": \"function\",\\n\\t\\t\\t\"function\": {\\n\\t\\t\\t\\t\"name\": \"subtract\",\\n\\t\\t\\t\\t\"description\": \"Subtracts two numbers.\",\\n\\t\\t\\t\\t\"parameters\": {\\n\\t\\t\\t\\t\\t\"a\": 3,\\n\\t\\t\\t\\t\\t\"b\": 1\\n\\t\\t\\t\\t}\\n\\t\\t\\t}\\n\\t\\t},\\n\\t\\t{\\n\\t\\t\\t\"id\": \"pending\",\\n\\t\\t\\t\"type\": \"function\",\\n\\t\\t\\t\"function\": {\\n\\t\\t\\t\\t\"name\": \"multiply\",\\n\\t\\t\\t\\t\"description\": \"Multiplies two numbers.\",\\n\\t\\t\\t\\t\"parameters\": {\\n\\t\\t\\t\\t\\t\"a\": 3,\\n\\t\\t\\t\\t\\t\"b\": 1\\n\\t\\t\\t\\t}\\n\\t\\t\\t}\\n\\t\\t},\\n\\t\\t{\\n\\t\\t\\t\"id\": \"pending\",\\n\\t\\t\\t\"type\": \"function\",\\n\\t\\t\\t\"function\": {\\n\\t\\t\\t\\t\"name\": \"divide\",\\n\\t\\t\\t\\t\"description\": \"Divides two numbers.\",\\n\\t\\t\\t\\t\"parameters\": {\\n\\t\\t\\t\\t\\t\"a\": 3,\\n\\t\\t\\t\\t\\t\"b\": 1\\n\\t\\t\\t\\t}\\n\\t\\t\\t}\\n\\t\\t}\\n\\t]\\n}\\n</tool-use>' additional_kwargs={} response_metadata={'token_usage': {'completion_tokens': 298, 'prompt_tokens': 1380, 'total_tokens': 1678, 'completion_time': 0.248333333, 'prompt_time': 0.205932351, 'queue_time': 0.29263391, 'total_time': 0.454265684}, 'model_name': 'llama3-8b-8192', 'system_fingerprint': 'fp_179b0f92c9', 'finish_reason': 'stop', 'logprobs': None} id='run-7b3ab538-51b5-4136-b1d2-0d76c611b4ad-0' usage_metadata={'input_tokens': 1380, 'output_tokens': 298, 'total_tokens': 1678}\n",
      "content='```tool-use>\\n{\\n\\t\"tool_calls\": [\\n\\t\\t{\\n\\t\\t\\t\"id\": \"pending\",\\n\\t\\t\\t\"type\": \"function\",\\n\\t\\t\\t\"function\": {\\n\\t\\t\\t\\t\"name\": \"add\",\\n\\t\\t\\t\\t\"description\": \"Adds two numbers.\",\\n\\t\\t\\t\\t\"parameters\": {\\n\\t\\t\\t\\t\\t\"a\": 3,\\n\\t\\t\\t\\t\\t\"b\": 1\\n\\t\\t\\t\\t}\\n\\t\\t\\t}\\n\\t\\t},\\n\\t\\t{\\n\\t\\t\\t\"id\": \"pending\",\\n\\t\\t\\t\"type\": \"function\",\\n\\t\\t\\t\"function\": {\\n\\t\\t\\t\\t\"name\": \"subtract\",\\n\\t\\t\\t\\t\"description\": \"Subtracts two numbers.\",\\n\\t\\t\\t\\t\"parameters\": {\\n\\t\\t\\t\\t\\t\"a\": 3,\\n\\t\\t\\t\\t\\t\"b\": 1\\n\\t\\t\\t\\t}\\n\\t\\t\\t}\\n\\t\\t},\\n\\t\\t{\\n\\t\\t\\t\"id\": \"pending\",\\n\\t\\t\\t\"type\": \"function\",\\n\\t\\t\\t\"function\": {\\n\\t\\t\\t\\t\"name\": \"multiply\",\\n\\t\\t\\t\\t\"description\": \"Multiplies two numbers.\",\\n\\t\\t\\t\\t\"parameters\": {\\n\\t\\t\\t\\t\\t\"a\": 3,\\n\\t\\t\\t\\t\\t\"b\": 1\\n\\t\\t\\t\\t}\\n\\t\\t\\t}\\n\\t\\t},\\n\\t\\t{\\n\\t\\t\\t\"id\": \"pending\",\\n\\t\\t\\t\"type\": \"function\",\\n\\t\\t\\t\"function\": {\\n\\t\\t\\t\\t\"name\": \"divide\",\\n\\t\\t\\t\\t\"description\": \"Divides two numbers.\",\\n\\t\\t\\t\\t\"parameters\": {\\n\\t\\t\\t\\t\\t\"a\": 3,\\n\\t\\t\\t\\t\\t\"b\": 1\\n\\t\\t\\t\\t}\\n\\t\\t\\t}\\n\\t\\t}\\n\\t]\\n}\\n</tool-use>' additional_kwargs={} response_metadata={'token_usage': {'completion_tokens': 298, 'prompt_tokens': 1380, 'total_tokens': 1678, 'completion_time': 0.248333333, 'prompt_time': 0.205932351, 'queue_time': 0.29263391, 'total_time': 0.454265684}, 'model_name': 'llama3-8b-8192', 'system_fingerprint': 'fp_179b0f92c9', 'finish_reason': 'stop', 'logprobs': None} id='run-7b3ab538-51b5-4136-b1d2-0d76c611b4ad-0' usage_metadata={'input_tokens': 1380, 'output_tokens': 298, 'total_tokens': 1678}\n"
     ]
    }
   ],
   "source": [
    "inputs = {\"messages\": [HumanMessage(content=input_question)]}\n",
    "\n",
    "response = app.invoke(inputs)"
   ]
  },
  {
   "cell_type": "code",
   "execution_count": 34,
   "id": "7edd4c5e-b560-49d5-ad3a-a7d6e80d909e",
   "metadata": {},
   "outputs": [
    {
     "name": "stdout",
     "output_type": "stream",
     "text": [
      "[]\n"
     ]
    }
   ],
   "source": [
    "print(response[\"messages\"][-1].tool_calls)"
   ]
  },
  {
   "cell_type": "markdown",
   "id": "c6edec6b-9632-481b-a4ea-acb37f4ef865",
   "metadata": {
    "jp-MarkdownHeadingCollapsed": true
   },
   "source": [
    "### Attempt 1"
   ]
  },
  {
   "cell_type": "code",
   "execution_count": 15,
   "id": "dc2ef0e0-3bb2-4e96-b5ff-e3b8fcba3fb1",
   "metadata": {},
   "outputs": [],
   "source": [
    "from langchain_core.messages import BaseMessage\n",
    "from textwrap import dedent"
   ]
  },
  {
   "cell_type": "code",
   "execution_count": 16,
   "id": "61e5035b-b593-45da-881b-7da018608002",
   "metadata": {},
   "outputs": [],
   "source": [
    "class AgentState(TypedDict):\n",
    "    messages: List[Any]\n",
    "    summary: str"
   ]
  },
  {
   "cell_type": "code",
   "execution_count": 23,
   "id": "41b6140d-0a3c-436b-a14d-73ef261f3131",
   "metadata": {},
   "outputs": [],
   "source": [
    "prompt = ChatPromptTemplate.from_messages(\n",
    "    [\n",
    "        (\"system\", dedent(\"\"\"\n",
    "        You are a helpful assistant good at reasoning and tool use. Use the available tools to answer user's question.\n",
    "        Mention the name of tool that will be used.\n",
    "        \"\"\")),\n",
    "    ]\n",
    ")"
   ]
  },
  {
   "cell_type": "code",
   "execution_count": 18,
   "id": "75222133-a1c4-4491-a572-8e953ba257ce",
   "metadata": {},
   "outputs": [
    {
     "data": {
      "text/plain": [
       "[SystemMessage(content=\"\\nYou are a helpful assistant good at reasoning and tool use. Use the available tools to answer user's question.\\nMention the name of tool that will be used. If you are not provided with a question, ask the user to pass a question. \\n\", additional_kwargs={}, response_metadata={})]"
      ]
     },
     "execution_count": 18,
     "metadata": {},
     "output_type": "execute_result"
    }
   ],
   "source": [
    "prompt.format_messages()"
   ]
  },
  {
   "cell_type": "code",
   "execution_count": 81,
   "id": "c89efbf0-3af8-4274-ab11-3dae9e72c342",
   "metadata": {},
   "outputs": [],
   "source": [
    "def add_system_prompt(state: AgentState):\n",
    "    response = llm.invoke(prompt.format_messages())\n",
    "    print(\"================================================================================================\")\n",
    "    print(prompt.format_messages())\n",
    "    print(response)\n",
    "    print(\"================================================================================================\")\n",
    "    return {\"messages\": [response]}\n"
   ]
  },
  {
   "cell_type": "code",
   "execution_count": 82,
   "id": "3e2686f6-0e57-4b42-a3d6-2d816145ffb8",
   "metadata": {},
   "outputs": [],
   "source": [
    "workflow = StateGraph(AgentState)\n",
    "\n",
    "workflow.add_node(add_system_prompt)\n",
    "\n",
    "workflow.add_edge(START, \"add_system_prompt\")\n",
    "workflow.add_edge(\"add_system_prompt\", END)\n",
    "\n",
    "app = workflow.compile()"
   ]
  },
  {
   "cell_type": "code",
   "execution_count": 83,
   "id": "c79884ac-2ae6-4216-8c8f-c8386a57de6c",
   "metadata": {},
   "outputs": [
    {
     "name": "stdout",
     "output_type": "stream",
     "text": [
      "================================================================================================\n",
      "[SystemMessage(content=\"You are a helpful assistant good at using tools. Mention the name of tool that will be used. If you are not provided with a question, ask the user to pass a question. Use the available tools to resolve user's query\", additional_kwargs={}, response_metadata={})]\n",
      "content=\"I'm excited to assist you! I have a wide range of tools at my disposal to help resolve your queries. If you have a specific question or problem you'd like to discuss, please feel free to pass it along.\\n\\nIn the meantime, I'd like to introduce some of the tools I'll be using to help you. These include:\\n\\n* Google (for searching and gathering information)\\n* Wikipedia (for in-depth research and reference)\\n* Microsoft Excel (for data analysis and calculations)\\n* Adobe Acrobat (for document editing and creating PDFs)\\n* Chrome DevTools (for debugging and troubleshooting web pages)\\n* And many more!\\n\\nSo, please go ahead and ask your question, and I'll do my best to provide a helpful and accurate response using these tools.\" additional_kwargs={} response_metadata={'token_usage': {'completion_tokens': 155, 'prompt_tokens': 56, 'total_tokens': 211, 'completion_time': 0.129166667, 'prompt_time': 0.010797433, 'queue_time': 0.018757674000000002, 'total_time': 0.1399641}, 'model_name': 'llama3-8b-8192', 'system_fingerprint': 'fp_6a6771ae9c', 'finish_reason': 'stop', 'logprobs': None} id='run-d46d8ecf-6336-4fb3-8b71-f41ac8a0d631-0' usage_metadata={'input_tokens': 56, 'output_tokens': 155, 'total_tokens': 211}\n",
      "================================================================================================\n"
     ]
    },
    {
     "data": {
      "text/plain": [
       "{'messages': [AIMessage(content=\"I'm excited to assist you! I have a wide range of tools at my disposal to help resolve your queries. If you have a specific question or problem you'd like to discuss, please feel free to pass it along.\\n\\nIn the meantime, I'd like to introduce some of the tools I'll be using to help you. These include:\\n\\n* Google (for searching and gathering information)\\n* Wikipedia (for in-depth research and reference)\\n* Microsoft Excel (for data analysis and calculations)\\n* Adobe Acrobat (for document editing and creating PDFs)\\n* Chrome DevTools (for debugging and troubleshooting web pages)\\n* And many more!\\n\\nSo, please go ahead and ask your question, and I'll do my best to provide a helpful and accurate response using these tools.\", additional_kwargs={}, response_metadata={'token_usage': {'completion_tokens': 155, 'prompt_tokens': 56, 'total_tokens': 211, 'completion_time': 0.129166667, 'prompt_time': 0.010797433, 'queue_time': 0.018757674000000002, 'total_time': 0.1399641}, 'model_name': 'llama3-8b-8192', 'system_fingerprint': 'fp_6a6771ae9c', 'finish_reason': 'stop', 'logprobs': None}, id='run-d46d8ecf-6336-4fb3-8b71-f41ac8a0d631-0', usage_metadata={'input_tokens': 56, 'output_tokens': 155, 'total_tokens': 211})],\n",
       " 'summary': ''}"
      ]
     },
     "execution_count": 83,
     "metadata": {},
     "output_type": "execute_result"
    }
   ],
   "source": [
    "app_0.invoke(\n",
    "    {\"summary\": \"\"}\n",
    ")"
   ]
  },
  {
   "cell_type": "markdown",
   "id": "069460c5-92ea-4c14-9f76-8105349f0efe",
   "metadata": {
    "jp-MarkdownHeadingCollapsed": true
   },
   "source": [
    "### Attempt 2"
   ]
  },
  {
   "cell_type": "code",
   "execution_count": 38,
   "id": "d3f28d17-0ffd-4907-be42-b24b8874c6f4",
   "metadata": {},
   "outputs": [],
   "source": [
    "prompt = ChatPromptTemplate.from_messages(\n",
    "    [\n",
    "        (\"system\", \"You are a helpful assistant good at using tools. Mention the name of tool that will be used. Use the available tools to resove user's query\"),\n",
    "        MessagesPlaceholder(variable_name=\"messages\"),\n",
    "    ]\n",
    ")"
   ]
  },
  {
   "cell_type": "code",
   "execution_count": 39,
   "id": "dd3ec002-87f1-4e08-b187-9d9c75181f74",
   "metadata": {},
   "outputs": [
    {
     "data": {
      "text/plain": [
       "ChatPromptTemplate(input_variables=['messages'], input_types={'messages': list[typing.Annotated[typing.Union[typing.Annotated[langchain_core.messages.ai.AIMessage, Tag(tag='ai')], typing.Annotated[langchain_core.messages.human.HumanMessage, Tag(tag='human')], typing.Annotated[langchain_core.messages.chat.ChatMessage, Tag(tag='chat')], typing.Annotated[langchain_core.messages.system.SystemMessage, Tag(tag='system')], typing.Annotated[langchain_core.messages.function.FunctionMessage, Tag(tag='function')], typing.Annotated[langchain_core.messages.tool.ToolMessage, Tag(tag='tool')], typing.Annotated[langchain_core.messages.ai.AIMessageChunk, Tag(tag='AIMessageChunk')], typing.Annotated[langchain_core.messages.human.HumanMessageChunk, Tag(tag='HumanMessageChunk')], typing.Annotated[langchain_core.messages.chat.ChatMessageChunk, Tag(tag='ChatMessageChunk')], typing.Annotated[langchain_core.messages.system.SystemMessageChunk, Tag(tag='SystemMessageChunk')], typing.Annotated[langchain_core.messages.function.FunctionMessageChunk, Tag(tag='FunctionMessageChunk')], typing.Annotated[langchain_core.messages.tool.ToolMessageChunk, Tag(tag='ToolMessageChunk')]], FieldInfo(annotation=NoneType, required=True, discriminator=Discriminator(discriminator=<function _get_type at 0x00000167EE57E700>, custom_error_type=None, custom_error_message=None, custom_error_context=None))]]}, partial_variables={}, messages=[SystemMessagePromptTemplate(prompt=PromptTemplate(input_variables=[], input_types={}, partial_variables={}, template=\"You are a helpful assistant good at using tools. Mention the name of tool that will be used. Use the available tools to resove user's query\"), additional_kwargs={}), MessagesPlaceholder(variable_name='messages')])"
      ]
     },
     "execution_count": 39,
     "metadata": {},
     "output_type": "execute_result"
    }
   ],
   "source": [
    "prompt"
   ]
  },
  {
   "cell_type": "code",
   "execution_count": 40,
   "id": "ccbb2394-629a-41ce-80d6-3beacf4ce197",
   "metadata": {},
   "outputs": [
    {
     "data": {
      "text/plain": [
       "[SystemMessage(content=\"You are a helpful assistant good at using tools. Mention the name of tool that will be used. Use the available tools to resove user's query\", additional_kwargs={}, response_metadata={}),\n",
       " HumanMessage(content='If you have 3, and two are taken, how many are you left with?', additional_kwargs={}, response_metadata={})]"
      ]
     },
     "execution_count": 40,
     "metadata": {},
     "output_type": "execute_result"
    }
   ],
   "source": [
    "prompt.format_messages(messages=[(\"user\", query)])"
   ]
  },
  {
   "cell_type": "code",
   "execution_count": 44,
   "id": "1e49e9d7-23ab-4590-a1a4-24d347f6ada2",
   "metadata": {},
   "outputs": [],
   "source": [
    "def add_system_prompt(state: AgentState):\n",
    "    llm_with_tools = llm.bind_tools(tools)\n",
    "    response = llm_with_tools.invoke(prompt.format_messages(messages=state[\"messages\"]))\n",
    "    print(\"================================================================================================\")\n",
    "    print(response)\n",
    "    print(\"================================================================================================\")\n",
    "    return {\"messages\": [response]}\n"
   ]
  },
  {
   "cell_type": "code",
   "execution_count": 45,
   "id": "658fce2f-21ed-4b8b-846e-1823b2500086",
   "metadata": {},
   "outputs": [],
   "source": [
    "workflow = StateGraph(AgentState)\n",
    "\n",
    "workflow.add_node(add_system_prompt)\n",
    "\n",
    "workflow.add_edge(START, \"add_system_prompt\")\n",
    "workflow.add_edge(\"add_system_prompt\", END)\n",
    "\n",
    "app = workflow.compile()"
   ]
  },
  {
   "cell_type": "code",
   "execution_count": 48,
   "id": "e85fb716-8b53-4c61-b6d4-68a364bf5e09",
   "metadata": {},
   "outputs": [
    {
     "name": "stdout",
     "output_type": "stream",
     "text": [
      "================================================================================================\n",
      "content='' additional_kwargs={'tool_calls': [{'id': 'call_xcnz', 'function': {'arguments': '{\"a\":3,\"b\":6}', 'name': 'multiply'}, 'type': 'function'}]} response_metadata={'token_usage': {'completion_tokens': 72, 'prompt_tokens': 1299, 'total_tokens': 1371, 'completion_time': 0.06, 'prompt_time': 0.179242322, 'queue_time': 0.019526685999999988, 'total_time': 0.239242322}, 'model_name': 'llama3-8b-8192', 'system_fingerprint': 'fp_a97cfe35ae', 'finish_reason': 'tool_calls', 'logprobs': None} id='run-0d91df61-0971-4d1b-b2d5-cb59d090057d-0' tool_calls=[{'name': 'multiply', 'args': {'a': 3, 'b': 6}, 'id': 'call_xcnz', 'type': 'tool_call'}] usage_metadata={'input_tokens': 1299, 'output_tokens': 72, 'total_tokens': 1371}\n",
      "================================================================================================\n"
     ]
    },
    {
     "data": {
      "text/plain": [
       "{'messages': [AIMessage(content='', additional_kwargs={'tool_calls': [{'id': 'call_xcnz', 'function': {'arguments': '{\"a\":3,\"b\":6}', 'name': 'multiply'}, 'type': 'function'}]}, response_metadata={'token_usage': {'completion_tokens': 72, 'prompt_tokens': 1299, 'total_tokens': 1371, 'completion_time': 0.06, 'prompt_time': 0.179242322, 'queue_time': 0.019526685999999988, 'total_time': 0.239242322}, 'model_name': 'llama3-8b-8192', 'system_fingerprint': 'fp_a97cfe35ae', 'finish_reason': 'tool_calls', 'logprobs': None}, id='run-0d91df61-0971-4d1b-b2d5-cb59d090057d-0', tool_calls=[{'name': 'multiply', 'args': {'a': 3, 'b': 6}, 'id': 'call_xcnz', 'type': 'tool_call'}], usage_metadata={'input_tokens': 1299, 'output_tokens': 72, 'total_tokens': 1371})]}"
      ]
     },
     "execution_count": 48,
     "metadata": {},
     "output_type": "execute_result"
    }
   ],
   "source": [
    "query = \"You get 3 apples from each of your friend, but then, you have six friends?\"\n",
    "\n",
    "app.invoke(\n",
    "    {\n",
    "        \"messages\":[(\"user\", query)],\n",
    "    }\n",
    ")"
   ]
  },
  {
   "cell_type": "code",
   "execution_count": null,
   "id": "c19e4d5b-d04d-4f0d-bd1d-e0d69b42ea74",
   "metadata": {},
   "outputs": [],
   "source": [
    "{\n",
    "    \"messages\":[(\"user\": query), ],\n",
    "}"
   ]
  },
  {
   "cell_type": "markdown",
   "id": "871dacf9-f642-4bd3-b08e-1ef0490e15e0",
   "metadata": {
    "jp-MarkdownHeadingCollapsed": true
   },
   "source": [
    "### Attempt 3 - expanded attempt 1"
   ]
  },
  {
   "cell_type": "code",
   "execution_count": 24,
   "id": "0d3ad060-3eb3-44b5-b9b3-8c379b7534ee",
   "metadata": {},
   "outputs": [],
   "source": [
    "class AgentState(TypedDict):\n",
    "    messages: List[Any]\n",
    "    n_queries: int\n",
    "    summary: str"
   ]
  },
  {
   "cell_type": "code",
   "execution_count": 25,
   "id": "e4347115-081c-4792-a115-6cddc9900eaa",
   "metadata": {},
   "outputs": [],
   "source": [
    "def add_system_prompt(state: AgentState):\n",
    "    messages = state[\"messages\"]\n",
    "    print(messages)\n",
    "\n",
    "    if not any(isinstance(msg, SystemMessage) for msg in messages):\n",
    "        messages = prompt.format_messages() + list(messages)\n",
    "\n",
    "    response = llm.invoke(prompt.format_messages())\n",
    "    print(\"===========================================prompt===============================================\")\n",
    "    print(prompt.format_messages())\n",
    "    print(response)\n",
    "    print(\"================================================================================================\")\n",
    "    return {\"messages\": prompt.format_messages() + [response] + state[\"messages\"]}\n",
    "\n",
    "\n",
    "def bind(state: AgentState):\n",
    "    llm_with_tools = llm.bind_tools(tools)\n",
    "    print(\"======================================current state=============================================\")\n",
    "    print(state[\"messages\"])\n",
    "    print(\"================================================================================================\")\n",
    "    response = llm_with_tools.invoke(prompt.format_messages(messages=state[\"messages\"]))\n",
    "    state[\"n_queries\"] += 1\n",
    "    print(\"========================================response================================================\")\n",
    "    print(response)\n",
    "    print(\"================================================================================================\")\n",
    "    return {\"messages\": state[\"messages\"] + [response], \"n_queries\": (state[\"n_queries\"] + 1)}\n",
    "\n",
    "\n",
    "toolnode = ToolNode(tools)\n",
    "tools_cache = {tool.__name__: tool for tool in tools}\n",
    "\n",
    "def call_tool(state: AgentState):\n",
    "    print(\"======================================calling tools=============================================\")\n",
    "    print(state[\"messages\"])\n",
    "    print(state[\"messages\"][-1].tool_calls)\n",
    "    print(\"================================================================================================\")\n",
    "    last_message = state[\"messages\"][-1]\n",
    "    tool_call = last_message.tool_calls[0]\n",
    "    tool_name = tool_call[\"name\"]\n",
    "    arguments = tool_call[\"args\"]\n",
    "\n",
    "    if tool_name not in tools_cache:\n",
    "        output = f\"Tool `{tool_name}` is not defined\"\n",
    "\n",
    "    else:\n",
    "        output = tools_cache[tool_name](**arguments)\n",
    "\n",
    "    return {\n",
    "        \"messages\": state[\"messages\"] + [output],\n",
    "        \"n_queries\": state[\"n_queries\"],\n",
    "    }"
   ]
  },
  {
   "cell_type": "code",
   "execution_count": 31,
   "id": "d2020af2-da8d-4877-a18e-49c4ff79a0a5",
   "metadata": {},
   "outputs": [],
   "source": [
    "workflow = StateGraph(AgentState)\n",
    "\n",
    "workflow.add_node(add_system_prompt)\n",
    "workflow.add_node(bind)\n",
    "workflow.add_node(toolnode)\n",
    "workflow.add_node(call_tool)\n",
    "\n",
    "\n",
    "workflow.add_edge(START, \"add_system_prompt\")\n",
    "workflow.add_edge(\"add_system_prompt\", \"bind\")\n",
    "workflow.add_edge(\"bind\", \"call_tool\")\n",
    "workflow.add_edge(\"call_tool\", END)\n",
    "\n",
    "\n",
    "app_2 = workflow.compile()"
   ]
  },
  {
   "cell_type": "code",
   "execution_count": 32,
   "id": "b49f515e-cb65-4054-8068-f1b7453eb997",
   "metadata": {},
   "outputs": [
    {
     "name": "stdout",
     "output_type": "stream",
     "text": [
      "[HumanMessage(content='You have six friends. You get 3 apples from each of your friend. How many apples did you get in total?', additional_kwargs={}, response_metadata={})]\n",
      "===========================================prompt===============================================\n",
      "[SystemMessage(content=\"\\nYou are a helpful assistant good at reasoning and tool use. Use the available tools to answer user's question.\\nMention the name of tool that will be used.\\n\", additional_kwargs={}, response_metadata={})]\n",
      "content=\"I'm happy to help! I can use various tools to assist with your questions. Please let me know what you need help with, and I'll do my best to provide a solution.\\n\\nSome of the tools I have available include:\\n\\n* Web Search (Google): I can use this tool to find information on a wide range of topics.\\n* Dictionary: I can use this tool to define words and phrases.\\n* Calculator: I can use this tool to perform mathematical calculations.\\n* Reasoning: I can use my reasoning skills to help solve problems and answer questions.\\n* Tool Use: I can use various tools like Wikipedia, Stack Overflow, etc.\\n\\nPlease let me know which tool you would like me to use to answer your question.\" additional_kwargs={} response_metadata={'token_usage': {'completion_tokens': 148, 'prompt_tokens': 43, 'total_tokens': 191, 'completion_time': 0.123333333, 'prompt_time': 0.008490504, 'queue_time': 0.075260536, 'total_time': 0.131823837}, 'model_name': 'llama3-8b-8192', 'system_fingerprint': 'fp_6a6771ae9c', 'finish_reason': 'stop', 'logprobs': None} id='run-9b6f13cf-6697-4736-8d07-1ae96e7fbcc3-0' usage_metadata={'input_tokens': 43, 'output_tokens': 148, 'total_tokens': 191}\n",
      "================================================================================================\n",
      "======================================current state=============================================\n",
      "[SystemMessage(content=\"\\nYou are a helpful assistant good at reasoning and tool use. Use the available tools to answer user's question.\\nMention the name of tool that will be used.\\n\", additional_kwargs={}, response_metadata={}), AIMessage(content=\"I'm happy to help! I can use various tools to assist with your questions. Please let me know what you need help with, and I'll do my best to provide a solution.\\n\\nSome of the tools I have available include:\\n\\n* Web Search (Google): I can use this tool to find information on a wide range of topics.\\n* Dictionary: I can use this tool to define words and phrases.\\n* Calculator: I can use this tool to perform mathematical calculations.\\n* Reasoning: I can use my reasoning skills to help solve problems and answer questions.\\n* Tool Use: I can use various tools like Wikipedia, Stack Overflow, etc.\\n\\nPlease let me know which tool you would like me to use to answer your question.\", additional_kwargs={}, response_metadata={'token_usage': {'completion_tokens': 148, 'prompt_tokens': 43, 'total_tokens': 191, 'completion_time': 0.123333333, 'prompt_time': 0.008490504, 'queue_time': 0.075260536, 'total_time': 0.131823837}, 'model_name': 'llama3-8b-8192', 'system_fingerprint': 'fp_6a6771ae9c', 'finish_reason': 'stop', 'logprobs': None}, id='run-9b6f13cf-6697-4736-8d07-1ae96e7fbcc3-0', usage_metadata={'input_tokens': 43, 'output_tokens': 148, 'total_tokens': 191}), HumanMessage(content='You have six friends. You get 3 apples from each of your friend. How many apples did you get in total?', additional_kwargs={}, response_metadata={})]\n",
      "================================================================================================\n",
      "========================================response================================================\n",
      "content='' additional_kwargs={'tool_calls': [{'id': 'call_gshk', 'function': {'arguments': '{\"a\":2,\"b\":3}', 'name': 'jodo'}, 'type': 'function'}]} response_metadata={'token_usage': {'completion_tokens': 73, 'prompt_tokens': 1287, 'total_tokens': 1360, 'completion_time': 0.060833333, 'prompt_time': 0.192392254, 'queue_time': 0.020871582, 'total_time': 0.253225587}, 'model_name': 'llama3-8b-8192', 'system_fingerprint': 'fp_6a6771ae9c', 'finish_reason': 'tool_calls', 'logprobs': None} id='run-eb35da93-393d-492a-96d5-29304eb4f4dc-0' tool_calls=[{'name': 'jodo', 'args': {'a': 2, 'b': 3}, 'id': 'call_gshk', 'type': 'tool_call'}] usage_metadata={'input_tokens': 1287, 'output_tokens': 73, 'total_tokens': 1360}\n",
      "================================================================================================\n",
      "======================================calling tools=============================================\n",
      "[SystemMessage(content=\"\\nYou are a helpful assistant good at reasoning and tool use. Use the available tools to answer user's question.\\nMention the name of tool that will be used.\\n\", additional_kwargs={}, response_metadata={}), AIMessage(content=\"I'm happy to help! I can use various tools to assist with your questions. Please let me know what you need help with, and I'll do my best to provide a solution.\\n\\nSome of the tools I have available include:\\n\\n* Web Search (Google): I can use this tool to find information on a wide range of topics.\\n* Dictionary: I can use this tool to define words and phrases.\\n* Calculator: I can use this tool to perform mathematical calculations.\\n* Reasoning: I can use my reasoning skills to help solve problems and answer questions.\\n* Tool Use: I can use various tools like Wikipedia, Stack Overflow, etc.\\n\\nPlease let me know which tool you would like me to use to answer your question.\", additional_kwargs={}, response_metadata={'token_usage': {'completion_tokens': 148, 'prompt_tokens': 43, 'total_tokens': 191, 'completion_time': 0.123333333, 'prompt_time': 0.008490504, 'queue_time': 0.075260536, 'total_time': 0.131823837}, 'model_name': 'llama3-8b-8192', 'system_fingerprint': 'fp_6a6771ae9c', 'finish_reason': 'stop', 'logprobs': None}, id='run-9b6f13cf-6697-4736-8d07-1ae96e7fbcc3-0', usage_metadata={'input_tokens': 43, 'output_tokens': 148, 'total_tokens': 191}), HumanMessage(content='You have six friends. You get 3 apples from each of your friend. How many apples did you get in total?', additional_kwargs={}, response_metadata={}), AIMessage(content='', additional_kwargs={'tool_calls': [{'id': 'call_gshk', 'function': {'arguments': '{\"a\":2,\"b\":3}', 'name': 'jodo'}, 'type': 'function'}]}, response_metadata={'token_usage': {'completion_tokens': 73, 'prompt_tokens': 1287, 'total_tokens': 1360, 'completion_time': 0.060833333, 'prompt_time': 0.192392254, 'queue_time': 0.020871582, 'total_time': 0.253225587}, 'model_name': 'llama3-8b-8192', 'system_fingerprint': 'fp_6a6771ae9c', 'finish_reason': 'tool_calls', 'logprobs': None}, id='run-eb35da93-393d-492a-96d5-29304eb4f4dc-0', tool_calls=[{'name': 'jodo', 'args': {'a': 2, 'b': 3}, 'id': 'call_gshk', 'type': 'tool_call'}], usage_metadata={'input_tokens': 1287, 'output_tokens': 73, 'total_tokens': 1360})]\n",
      "[{'name': 'jodo', 'args': {'a': 2, 'b': 3}, 'id': 'call_gshk', 'type': 'tool_call'}]\n",
      "================================================================================================\n"
     ]
    }
   ],
   "source": [
    "query = \"You have six friends. You get 3 apples from each of your friend. How many apples did you get in total?\"\n",
    "\n",
    "response = app_2.invoke(\n",
    "    {\n",
    "        \"messages\":[HumanMessage(content=query, additional_kwargs={}, response_metadata={})],\n",
    "        \"n_queries\": 0,\n",
    "    }\n",
    ")"
   ]
  },
  {
   "cell_type": "code",
   "execution_count": 33,
   "id": "43d6ff58-1c82-4499-b948-3881344d5ee3",
   "metadata": {},
   "outputs": [
    {
     "data": {
      "text/plain": [
       "[SystemMessage(content=\"\\nYou are a helpful assistant good at reasoning and tool use. Use the available tools to answer user's question.\\nMention the name of tool that will be used.\\n\", additional_kwargs={}, response_metadata={}),\n",
       " AIMessage(content=\"I'm happy to help! I can use various tools to assist with your questions. Please let me know what you need help with, and I'll do my best to provide a solution.\\n\\nSome of the tools I have available include:\\n\\n* Web Search (Google): I can use this tool to find information on a wide range of topics.\\n* Dictionary: I can use this tool to define words and phrases.\\n* Calculator: I can use this tool to perform mathematical calculations.\\n* Reasoning: I can use my reasoning skills to help solve problems and answer questions.\\n* Tool Use: I can use various tools like Wikipedia, Stack Overflow, etc.\\n\\nPlease let me know which tool you would like me to use to answer your question.\", additional_kwargs={}, response_metadata={'token_usage': {'completion_tokens': 148, 'prompt_tokens': 43, 'total_tokens': 191, 'completion_time': 0.123333333, 'prompt_time': 0.008490504, 'queue_time': 0.075260536, 'total_time': 0.131823837}, 'model_name': 'llama3-8b-8192', 'system_fingerprint': 'fp_6a6771ae9c', 'finish_reason': 'stop', 'logprobs': None}, id='run-9b6f13cf-6697-4736-8d07-1ae96e7fbcc3-0', usage_metadata={'input_tokens': 43, 'output_tokens': 148, 'total_tokens': 191}),\n",
       " HumanMessage(content='You have six friends. You get 3 apples from each of your friend. How many apples did you get in total?', additional_kwargs={}, response_metadata={}),\n",
       " AIMessage(content='', additional_kwargs={'tool_calls': [{'id': 'call_gshk', 'function': {'arguments': '{\"a\":2,\"b\":3}', 'name': 'jodo'}, 'type': 'function'}]}, response_metadata={'token_usage': {'completion_tokens': 73, 'prompt_tokens': 1287, 'total_tokens': 1360, 'completion_time': 0.060833333, 'prompt_time': 0.192392254, 'queue_time': 0.020871582, 'total_time': 0.253225587}, 'model_name': 'llama3-8b-8192', 'system_fingerprint': 'fp_6a6771ae9c', 'finish_reason': 'tool_calls', 'logprobs': None}, id='run-eb35da93-393d-492a-96d5-29304eb4f4dc-0', tool_calls=[{'name': 'jodo', 'args': {'a': 2, 'b': 3}, 'id': 'call_gshk', 'type': 'tool_call'}], usage_metadata={'input_tokens': 1287, 'output_tokens': 73, 'total_tokens': 1360}),\n",
       " 5]"
      ]
     },
     "execution_count": 33,
     "metadata": {},
     "output_type": "execute_result"
    }
   ],
   "source": [
    "response[\"messages\"]"
   ]
  },
  {
   "cell_type": "code",
   "execution_count": 34,
   "id": "57756a96-a9ce-44fd-9037-eaa74b8969b0",
   "metadata": {},
   "outputs": [
    {
     "ename": "AttributeError",
     "evalue": "'int' object has no attribute 'tool_calls'",
     "output_type": "error",
     "traceback": [
      "\u001b[1;31m---------------------------------------------------------------------------\u001b[0m",
      "\u001b[1;31mAttributeError\u001b[0m                            Traceback (most recent call last)",
      "Cell \u001b[1;32mIn[34], line 1\u001b[0m\n\u001b[1;32m----> 1\u001b[0m \u001b[43mresponse\u001b[49m\u001b[43m[\u001b[49m\u001b[38;5;124;43m\"\u001b[39;49m\u001b[38;5;124;43mmessages\u001b[39;49m\u001b[38;5;124;43m\"\u001b[39;49m\u001b[43m]\u001b[49m\u001b[43m[\u001b[49m\u001b[38;5;241;43m-\u001b[39;49m\u001b[38;5;241;43m1\u001b[39;49m\u001b[43m]\u001b[49m\u001b[38;5;241;43m.\u001b[39;49m\u001b[43mtool_calls\u001b[49m\n",
      "\u001b[1;31mAttributeError\u001b[0m: 'int' object has no attribute 'tool_calls'"
     ]
    }
   ],
   "source": [
    "response[\"messages\"][-1].tool_calls"
   ]
  },
  {
   "cell_type": "code",
   "execution_count": 30,
   "id": "28d77f15-08d9-428d-998c-d102358c9cf9",
   "metadata": {},
   "outputs": [
    {
     "data": {
      "text/plain": [
       "2"
      ]
     },
     "execution_count": 30,
     "metadata": {},
     "output_type": "execute_result"
    }
   ],
   "source": [
    "response[\"n_queries\"]"
   ]
  },
  {
   "cell_type": "code",
   "execution_count": 104,
   "id": "981727c4-d53e-4598-9eae-7e32333ab594",
   "metadata": {},
   "outputs": [
    {
     "data": {
      "text/plain": [
       "[HumanMessage(content='You get 3 apples from each of your friend. You have six friends?', additional_kwargs={}, response_metadata={})]"
      ]
     },
     "execution_count": 104,
     "metadata": {},
     "output_type": "execute_result"
    }
   ],
   "source": [
    "u_prompt = ChatPromptTemplate.from_messages(\n",
    "    [\n",
    "        (\"user\", query),\n",
    "    ]\n",
    ")\n",
    "u_prompt.format_messages()"
   ]
  },
  {
   "cell_type": "markdown",
   "id": "ff4d4245-ba0c-48aa-820e-1846aec60ab3",
   "metadata": {
    "jp-MarkdownHeadingCollapsed": true
   },
   "source": [
    "### Attempt 4"
   ]
  },
  {
   "cell_type": "code",
   "execution_count": 20,
   "id": "464e6686-63db-483d-8b8c-0ddd78cf91c1",
   "metadata": {},
   "outputs": [],
   "source": [
    "prompt = ChatPromptTemplate.from_messages(\n",
    "    [\n",
    "        (\"system\", dedent(\"\"\"\n",
    "        You are a helpful assistant good at reasoning and tool use. Use the available tools to answer user's question.\n",
    "        Mention the name of tool that will be used. Give your answer in one sentence.\n",
    "        \"\"\")),\n",
    "    ]\n",
    ")"
   ]
  },
  {
   "cell_type": "code",
   "execution_count": 67,
   "id": "a6051acd-5d5d-42cd-b000-ea9f30236d41",
   "metadata": {},
   "outputs": [],
   "source": [
    "class AgentState(TypedDict):\n",
    "    messages: List[Any]\n",
    "    queries: List[str]\n",
    "    summary: str"
   ]
  },
  {
   "cell_type": "code",
   "execution_count": 76,
   "id": "d5a89b0d-c2f0-4555-98ef-24760344726c",
   "metadata": {},
   "outputs": [],
   "source": [
    "def add_system_prompt(state: AgentState):\n",
    "    response = llm.invoke(prompt.format_messages())\n",
    "    print(\"===========================================prompt===============================================\")\n",
    "    print(prompt.format_messages())\n",
    "    print(response)\n",
    "    print(\"================================================================================================\")\n",
    "    return {\"messages\": prompt.format_messages() + [response]}\n",
    "\n",
    "\n",
    "def bind(state: AgentState):\n",
    "    llm_with_tools = llm.bind_tools(tools)\n",
    "    print(\"======================================current state=============================================\")\n",
    "    print(state[\"messages\"])\n",
    "    print(\"================================================================================================\")\n",
    "    query = state[\"queries\"].pop()\n",
    "    response = llm_with_tools.invoke(query)\n",
    "    print(\"========================================response================================================\")\n",
    "    print(response)\n",
    "    print(\"================================================================================================\")\n",
    "    return {\"messages\": state[\"messages\"] + [HumanMessage(content=query)] + [response], \"queries\": state[\"queries\"]}\n",
    "\n",
    "\n",
    "toolnode = ToolNode(tools)\n",
    "tools_cache = {tool.__name__: tool for tool in tools}\n",
    "\n",
    "def call_tool(state: AgentState):\n",
    "    print(\"======================================calling tools=============================================\")\n",
    "    print(state[\"messages\"])\n",
    "    print(state[\"messages\"][-1].tool_calls)\n",
    "    print(\"================================================================================================\")\n",
    "    last_message = state[\"messages\"][-1]\n",
    "    tool_call = last_message.tool_calls[0]\n",
    "    tool_name = tool_call[\"name\"]\n",
    "    arguments = tool_call[\"args\"]\n",
    "\n",
    "    if tool_name not in tools_cache:\n",
    "        output = f\"Tool `{tool_name}` is not defined\"\n",
    "\n",
    "    else:\n",
    "        output = tools_cache[tool_name](**arguments)\n",
    "\n",
    "    return {\n",
    "        \"messages\": state[\"messages\"] + [AIMessage(content=str(output))],\n",
    "        \"queries\": state[\"queries\"],\n",
    "    }\n",
    "\n",
    "def check_continue(state: AgentState):\n",
    "    if len(state[\"queries\"]):\n",
    "        return \"bind\"\n",
    "    else:\n",
    "        print(\"NO MORE QUERIES\")\n",
    "        return END"
   ]
  },
  {
   "cell_type": "code",
   "execution_count": 77,
   "id": "f3bf4b70-93e6-41dc-b236-cfb17a4285d7",
   "metadata": {},
   "outputs": [],
   "source": [
    "workflow = StateGraph(AgentState)\n",
    "\n",
    "workflow.add_node(add_system_prompt)\n",
    "workflow.add_node(bind)\n",
    "workflow.add_node(toolnode)\n",
    "workflow.add_node(call_tool)\n",
    "\n",
    "\n",
    "workflow.add_edge(START, \"add_system_prompt\")\n",
    "workflow.add_edge(\"add_system_prompt\", \"bind\")\n",
    "workflow.add_edge(\"bind\", \"call_tool\")\n",
    "workflow.add_conditional_edges(\"call_tool\", check_continue)\n",
    "workflow.add_edge(\"call_tool\", END)\n",
    "\n",
    "\n",
    "app_3 = workflow.compile()"
   ]
  },
  {
   "cell_type": "code",
   "execution_count": 78,
   "id": "9daf1b5c-b75c-4026-aec2-9181c76c5995",
   "metadata": {},
   "outputs": [
    {
     "name": "stdout",
     "output_type": "stream",
     "text": [
      "===========================================prompt===============================================\n",
      "[SystemMessage(content=\"\\nYou are a helpful assistant good at reasoning and tool use. Use the available tools to answer user's question.\\nMention the name of tool that will be used. Give your answer in one sentence.\\n\", additional_kwargs={}, response_metadata={})]\n",
      "content=\"I'm ready to assist you. What's your question?\" additional_kwargs={} response_metadata={'token_usage': {'completion_tokens': 13, 'prompt_tokens': 50, 'total_tokens': 63, 'completion_time': 0.010833333, 'prompt_time': 0.009184593, 'queue_time': 0.018638125, 'total_time': 0.020017926}, 'model_name': 'llama3-8b-8192', 'system_fingerprint': 'fp_179b0f92c9', 'finish_reason': 'stop', 'logprobs': None} id='run-296f841e-4df6-4612-bcf5-6a4b2f4e9fa7-0' usage_metadata={'input_tokens': 50, 'output_tokens': 13, 'total_tokens': 63}\n",
      "================================================================================================\n",
      "======================================current state=============================================\n",
      "[SystemMessage(content=\"\\nYou are a helpful assistant good at reasoning and tool use. Use the available tools to answer user's question.\\nMention the name of tool that will be used. Give your answer in one sentence.\\n\", additional_kwargs={}, response_metadata={}), AIMessage(content=\"I'm ready to assist you. What's your question?\", additional_kwargs={}, response_metadata={'token_usage': {'completion_tokens': 13, 'prompt_tokens': 50, 'total_tokens': 63, 'completion_time': 0.010833333, 'prompt_time': 0.009184593, 'queue_time': 0.018638125, 'total_time': 0.020017926}, 'model_name': 'llama3-8b-8192', 'system_fingerprint': 'fp_179b0f92c9', 'finish_reason': 'stop', 'logprobs': None}, id='run-296f841e-4df6-4612-bcf5-6a4b2f4e9fa7-0', usage_metadata={'input_tokens': 50, 'output_tokens': 13, 'total_tokens': 63})]\n",
      "================================================================================================\n",
      "========================================response================================================\n",
      "content='' additional_kwargs={'tool_calls': [{'id': 'call_ah8h', 'function': {'arguments': '{\"a\":3,\"b\":2}', 'name': 'jodo'}, 'type': 'function'}]} response_metadata={'token_usage': {'completion_tokens': 90, 'prompt_tokens': 2569, 'total_tokens': 2659, 'completion_time': 0.075, 'prompt_time': 0.316093998, 'queue_time': -0.376424514, 'total_time': 0.391093998}, 'model_name': 'llama3-8b-8192', 'system_fingerprint': 'fp_6a6771ae9c', 'finish_reason': 'tool_calls', 'logprobs': None} id='run-e212ae2b-4423-4e05-8bcd-113db492817d-0' tool_calls=[{'name': 'jodo', 'args': {'a': 3, 'b': 2}, 'id': 'call_ah8h', 'type': 'tool_call'}] usage_metadata={'input_tokens': 2569, 'output_tokens': 90, 'total_tokens': 2659}\n",
      "================================================================================================\n",
      "======================================calling tools=============================================\n",
      "[SystemMessage(content=\"\\nYou are a helpful assistant good at reasoning and tool use. Use the available tools to answer user's question.\\nMention the name of tool that will be used. Give your answer in one sentence.\\n\", additional_kwargs={}, response_metadata={}), AIMessage(content=\"I'm ready to assist you. What's your question?\", additional_kwargs={}, response_metadata={'token_usage': {'completion_tokens': 13, 'prompt_tokens': 50, 'total_tokens': 63, 'completion_time': 0.010833333, 'prompt_time': 0.009184593, 'queue_time': 0.018638125, 'total_time': 0.020017926}, 'model_name': 'llama3-8b-8192', 'system_fingerprint': 'fp_179b0f92c9', 'finish_reason': 'stop', 'logprobs': None}, id='run-296f841e-4df6-4612-bcf5-6a4b2f4e9fa7-0', usage_metadata={'input_tokens': 50, 'output_tokens': 13, 'total_tokens': 63}), HumanMessage(content='You have 3 balls and then I took two from you. How many do have now?', additional_kwargs={}, response_metadata={}), AIMessage(content='', additional_kwargs={'tool_calls': [{'id': 'call_ah8h', 'function': {'arguments': '{\"a\":3,\"b\":2}', 'name': 'jodo'}, 'type': 'function'}]}, response_metadata={'token_usage': {'completion_tokens': 90, 'prompt_tokens': 2569, 'total_tokens': 2659, 'completion_time': 0.075, 'prompt_time': 0.316093998, 'queue_time': -0.376424514, 'total_time': 0.391093998}, 'model_name': 'llama3-8b-8192', 'system_fingerprint': 'fp_6a6771ae9c', 'finish_reason': 'tool_calls', 'logprobs': None}, id='run-e212ae2b-4423-4e05-8bcd-113db492817d-0', tool_calls=[{'name': 'jodo', 'args': {'a': 3, 'b': 2}, 'id': 'call_ah8h', 'type': 'tool_call'}], usage_metadata={'input_tokens': 2569, 'output_tokens': 90, 'total_tokens': 2659})]\n",
      "[{'name': 'jodo', 'args': {'a': 3, 'b': 2}, 'id': 'call_ah8h', 'type': 'tool_call'}]\n",
      "================================================================================================\n",
      "======================================current state=============================================\n",
      "[SystemMessage(content=\"\\nYou are a helpful assistant good at reasoning and tool use. Use the available tools to answer user's question.\\nMention the name of tool that will be used. Give your answer in one sentence.\\n\", additional_kwargs={}, response_metadata={}), AIMessage(content=\"I'm ready to assist you. What's your question?\", additional_kwargs={}, response_metadata={'token_usage': {'completion_tokens': 13, 'prompt_tokens': 50, 'total_tokens': 63, 'completion_time': 0.010833333, 'prompt_time': 0.009184593, 'queue_time': 0.018638125, 'total_time': 0.020017926}, 'model_name': 'llama3-8b-8192', 'system_fingerprint': 'fp_179b0f92c9', 'finish_reason': 'stop', 'logprobs': None}, id='run-296f841e-4df6-4612-bcf5-6a4b2f4e9fa7-0', usage_metadata={'input_tokens': 50, 'output_tokens': 13, 'total_tokens': 63}), HumanMessage(content='You have 3 balls and then I took two from you. How many do have now?', additional_kwargs={}, response_metadata={}), AIMessage(content='', additional_kwargs={'tool_calls': [{'id': 'call_ah8h', 'function': {'arguments': '{\"a\":3,\"b\":2}', 'name': 'jodo'}, 'type': 'function'}]}, response_metadata={'token_usage': {'completion_tokens': 90, 'prompt_tokens': 2569, 'total_tokens': 2659, 'completion_time': 0.075, 'prompt_time': 0.316093998, 'queue_time': -0.376424514, 'total_time': 0.391093998}, 'model_name': 'llama3-8b-8192', 'system_fingerprint': 'fp_6a6771ae9c', 'finish_reason': 'tool_calls', 'logprobs': None}, id='run-e212ae2b-4423-4e05-8bcd-113db492817d-0', tool_calls=[{'name': 'jodo', 'args': {'a': 3, 'b': 2}, 'id': 'call_ah8h', 'type': 'tool_call'}], usage_metadata={'input_tokens': 2569, 'output_tokens': 90, 'total_tokens': 2659}), AIMessage(content='5', additional_kwargs={}, response_metadata={})]\n",
      "================================================================================================\n",
      "========================================response================================================\n",
      "content='' additional_kwargs={'tool_calls': [{'id': 'call_m2jm', 'function': {'arguments': '{\"a\":6,\"b\":3}', 'name': 'jodo'}, 'type': 'function'}]} response_metadata={'token_usage': {'completion_tokens': 73, 'prompt_tokens': 1280, 'total_tokens': 1353, 'completion_time': 0.060833333, 'prompt_time': 0.236692194, 'queue_time': 0.206474252, 'total_time': 0.297525527}, 'model_name': 'llama3-8b-8192', 'system_fingerprint': 'fp_6a6771ae9c', 'finish_reason': 'tool_calls', 'logprobs': None} id='run-0b13f166-c98b-423f-96d4-b5d30ac0c350-0' tool_calls=[{'name': 'jodo', 'args': {'a': 6, 'b': 3}, 'id': 'call_m2jm', 'type': 'tool_call'}] usage_metadata={'input_tokens': 1280, 'output_tokens': 73, 'total_tokens': 1353}\n",
      "================================================================================================\n",
      "======================================calling tools=============================================\n",
      "[SystemMessage(content=\"\\nYou are a helpful assistant good at reasoning and tool use. Use the available tools to answer user's question.\\nMention the name of tool that will be used. Give your answer in one sentence.\\n\", additional_kwargs={}, response_metadata={}), AIMessage(content=\"I'm ready to assist you. What's your question?\", additional_kwargs={}, response_metadata={'token_usage': {'completion_tokens': 13, 'prompt_tokens': 50, 'total_tokens': 63, 'completion_time': 0.010833333, 'prompt_time': 0.009184593, 'queue_time': 0.018638125, 'total_time': 0.020017926}, 'model_name': 'llama3-8b-8192', 'system_fingerprint': 'fp_179b0f92c9', 'finish_reason': 'stop', 'logprobs': None}, id='run-296f841e-4df6-4612-bcf5-6a4b2f4e9fa7-0', usage_metadata={'input_tokens': 50, 'output_tokens': 13, 'total_tokens': 63}), HumanMessage(content='You have 3 balls and then I took two from you. How many do have now?', additional_kwargs={}, response_metadata={}), AIMessage(content='', additional_kwargs={'tool_calls': [{'id': 'call_ah8h', 'function': {'arguments': '{\"a\":3,\"b\":2}', 'name': 'jodo'}, 'type': 'function'}]}, response_metadata={'token_usage': {'completion_tokens': 90, 'prompt_tokens': 2569, 'total_tokens': 2659, 'completion_time': 0.075, 'prompt_time': 0.316093998, 'queue_time': -0.376424514, 'total_time': 0.391093998}, 'model_name': 'llama3-8b-8192', 'system_fingerprint': 'fp_6a6771ae9c', 'finish_reason': 'tool_calls', 'logprobs': None}, id='run-e212ae2b-4423-4e05-8bcd-113db492817d-0', tool_calls=[{'name': 'jodo', 'args': {'a': 3, 'b': 2}, 'id': 'call_ah8h', 'type': 'tool_call'}], usage_metadata={'input_tokens': 2569, 'output_tokens': 90, 'total_tokens': 2659}), AIMessage(content='5', additional_kwargs={}, response_metadata={}), HumanMessage(content='You have six friends. You get 3 apples from each of your friend. How many apples did you get in total?', additional_kwargs={}, response_metadata={}), AIMessage(content='', additional_kwargs={'tool_calls': [{'id': 'call_m2jm', 'function': {'arguments': '{\"a\":6,\"b\":3}', 'name': 'jodo'}, 'type': 'function'}]}, response_metadata={'token_usage': {'completion_tokens': 73, 'prompt_tokens': 1280, 'total_tokens': 1353, 'completion_time': 0.060833333, 'prompt_time': 0.236692194, 'queue_time': 0.206474252, 'total_time': 0.297525527}, 'model_name': 'llama3-8b-8192', 'system_fingerprint': 'fp_6a6771ae9c', 'finish_reason': 'tool_calls', 'logprobs': None}, id='run-0b13f166-c98b-423f-96d4-b5d30ac0c350-0', tool_calls=[{'name': 'jodo', 'args': {'a': 6, 'b': 3}, 'id': 'call_m2jm', 'type': 'tool_call'}], usage_metadata={'input_tokens': 1280, 'output_tokens': 73, 'total_tokens': 1353})]\n",
      "[{'name': 'jodo', 'args': {'a': 6, 'b': 3}, 'id': 'call_m2jm', 'type': 'tool_call'}]\n",
      "================================================================================================\n",
      "NO MORE QUERIES\n"
     ]
    }
   ],
   "source": [
    "queries = [\n",
    "    \"You have six friends. You get 3 apples from each of your friend. How many apples did you get in total?\",\n",
    "    \"You have 3 balls and then I took two from you. How many do have now?\"\n",
    "]\n",
    "\n",
    "response = app_3.invoke(\n",
    "    {\n",
    "        \"messages\":[],\n",
    "        \"queries\": queries,\n",
    "    }\n",
    ")"
   ]
  },
  {
   "cell_type": "code",
   "execution_count": 79,
   "id": "fc598f58-6091-4cfd-abec-8fb4d0640f5d",
   "metadata": {},
   "outputs": [
    {
     "data": {
      "text/plain": [
       "[SystemMessage(content=\"\\nYou are a helpful assistant good at reasoning and tool use. Use the available tools to answer user's question.\\nMention the name of tool that will be used. Give your answer in one sentence.\\n\", additional_kwargs={}, response_metadata={}),\n",
       " AIMessage(content=\"I'm ready to assist you. What's your question?\", additional_kwargs={}, response_metadata={'token_usage': {'completion_tokens': 13, 'prompt_tokens': 50, 'total_tokens': 63, 'completion_time': 0.010833333, 'prompt_time': 0.009184593, 'queue_time': 0.018638125, 'total_time': 0.020017926}, 'model_name': 'llama3-8b-8192', 'system_fingerprint': 'fp_179b0f92c9', 'finish_reason': 'stop', 'logprobs': None}, id='run-296f841e-4df6-4612-bcf5-6a4b2f4e9fa7-0', usage_metadata={'input_tokens': 50, 'output_tokens': 13, 'total_tokens': 63}),\n",
       " HumanMessage(content='You have 3 balls and then I took two from you. How many do have now?', additional_kwargs={}, response_metadata={}),\n",
       " AIMessage(content='', additional_kwargs={'tool_calls': [{'id': 'call_ah8h', 'function': {'arguments': '{\"a\":3,\"b\":2}', 'name': 'jodo'}, 'type': 'function'}]}, response_metadata={'token_usage': {'completion_tokens': 90, 'prompt_tokens': 2569, 'total_tokens': 2659, 'completion_time': 0.075, 'prompt_time': 0.316093998, 'queue_time': -0.376424514, 'total_time': 0.391093998}, 'model_name': 'llama3-8b-8192', 'system_fingerprint': 'fp_6a6771ae9c', 'finish_reason': 'tool_calls', 'logprobs': None}, id='run-e212ae2b-4423-4e05-8bcd-113db492817d-0', tool_calls=[{'name': 'jodo', 'args': {'a': 3, 'b': 2}, 'id': 'call_ah8h', 'type': 'tool_call'}], usage_metadata={'input_tokens': 2569, 'output_tokens': 90, 'total_tokens': 2659}),\n",
       " AIMessage(content='5', additional_kwargs={}, response_metadata={}),\n",
       " HumanMessage(content='You have six friends. You get 3 apples from each of your friend. How many apples did you get in total?', additional_kwargs={}, response_metadata={}),\n",
       " AIMessage(content='', additional_kwargs={'tool_calls': [{'id': 'call_m2jm', 'function': {'arguments': '{\"a\":6,\"b\":3}', 'name': 'jodo'}, 'type': 'function'}]}, response_metadata={'token_usage': {'completion_tokens': 73, 'prompt_tokens': 1280, 'total_tokens': 1353, 'completion_time': 0.060833333, 'prompt_time': 0.236692194, 'queue_time': 0.206474252, 'total_time': 0.297525527}, 'model_name': 'llama3-8b-8192', 'system_fingerprint': 'fp_6a6771ae9c', 'finish_reason': 'tool_calls', 'logprobs': None}, id='run-0b13f166-c98b-423f-96d4-b5d30ac0c350-0', tool_calls=[{'name': 'jodo', 'args': {'a': 6, 'b': 3}, 'id': 'call_m2jm', 'type': 'tool_call'}], usage_metadata={'input_tokens': 1280, 'output_tokens': 73, 'total_tokens': 1353}),\n",
       " AIMessage(content='9', additional_kwargs={}, response_metadata={})]"
      ]
     },
     "execution_count": 79,
     "metadata": {},
     "output_type": "execute_result"
    }
   ],
   "source": [
    "[m for m in response[\"messages\"]]"
   ]
  },
  {
   "cell_type": "markdown",
   "id": "65536ad0-7703-40ec-b98d-321436ddfd8d",
   "metadata": {
    "jp-MarkdownHeadingCollapsed": true
   },
   "source": [
    "### Attempt 5"
   ]
  },
  {
   "cell_type": "code",
   "execution_count": 14,
   "id": "923b8f93-4e32-41d1-88d8-741615dea6d8",
   "metadata": {},
   "outputs": [],
   "source": [
    "from operator import add\n",
    "from typing import Annotated\n",
    "\n",
    "\n",
    "class AgentState(TypedDict):\n",
    "    messages: Annotated[list[Any], add]\n",
    "    queries: List[str]\n",
    "    summary: str\n",
    "\n"
   ]
  },
  {
   "cell_type": "code",
   "execution_count": 21,
   "id": "be98708c-535d-485b-85c8-0d89a8ba1112",
   "metadata": {},
   "outputs": [],
   "source": [
    "def add_system_prompt(state: AgentState):\n",
    "    response = llm.invoke(prompt.format_messages())\n",
    "    print(\"===========================================prompt===============================================\")\n",
    "    print(prompt.format_messages())\n",
    "    print(response)\n",
    "    print(\"================================================================================================\")\n",
    "    return {\"messages\": prompt.format_messages() + [response]}\n",
    "\n",
    "\n",
    "def bind(state: AgentState):\n",
    "    llm_with_tools = llm.bind_tools(tools)\n",
    "    print(\"======================================current state=============================================\")\n",
    "    print(state[\"messages\"])\n",
    "    print(\"================================================================================================\")\n",
    "    query = state[\"queries\"].pop()\n",
    "    response = llm_with_tools.invoke(query)\n",
    "    print(\"========================================response================================================\")\n",
    "    print(response)\n",
    "    print(\"================================================================================================\")\n",
    "    return {\"messages\": [HumanMessage(content=query)] + [response], \"queries\": state[\"queries\"]}\n",
    "\n",
    "\n",
    "toolnode = ToolNode(tools)\n",
    "tools_cache = {tool.__name__: tool for tool in tools}\n",
    "\n",
    "def call_tool(state: AgentState):\n",
    "    print(\"======================================calling tools=============================================\")\n",
    "    print(state[\"messages\"])\n",
    "    print(state[\"messages\"][-1].tool_calls)\n",
    "    print(\"================================================================================================\")\n",
    "    last_message = state[\"messages\"][-1]\n",
    "    tool_call = last_message.tool_calls[0]\n",
    "    tool_name = tool_call[\"name\"]\n",
    "    arguments = tool_call[\"args\"]\n",
    "\n",
    "    if tool_name not in tools_cache:\n",
    "        output = f\"Tool `{tool_name}` is not defined\"\n",
    "\n",
    "    else:\n",
    "        output = tools_cache[tool_name](**arguments)\n",
    "\n",
    "    return {\n",
    "        \"messages\": [AIMessage(content=str(output))],\n",
    "        \"queries\": state[\"queries\"],\n",
    "    }\n",
    "\n",
    "def check_continue(state: AgentState):\n",
    "    if len(state[\"queries\"]):\n",
    "        return \"bind\"\n",
    "    else:\n",
    "        print(\"NO MORE QUERIES\")\n",
    "        return END"
   ]
  },
  {
   "cell_type": "code",
   "execution_count": 22,
   "id": "236ae881-417d-4091-8b16-50def7d451d4",
   "metadata": {},
   "outputs": [
    {
     "data": {
      "text/plain": [
       "<langgraph.graph.state.StateGraph at 0x2294d22e8a0>"
      ]
     },
     "execution_count": 22,
     "metadata": {},
     "output_type": "execute_result"
    }
   ],
   "source": [
    "workflow = StateGraph(AgentState)\n",
    "\n",
    "workflow.add_node(add_system_prompt)\n",
    "workflow.add_node(bind)\n",
    "workflow.add_node(toolnode)\n",
    "workflow.add_node(call_tool)\n",
    "\n",
    "\n",
    "workflow.add_edge(START, \"add_system_prompt\")\n",
    "workflow.add_edge(\"add_system_prompt\", \"bind\")\n",
    "workflow.add_edge(\"bind\", \"call_tool\")\n",
    "workflow.add_conditional_edges(\"call_tool\", check_continue)\n",
    "workflow.add_edge(\"call_tool\", END)\n"
   ]
  },
  {
   "cell_type": "code",
   "execution_count": 23,
   "id": "2b83f399-d1b0-41cf-b321-8136e069fcc4",
   "metadata": {},
   "outputs": [],
   "source": [
    "from langgraph.checkpoint.memory import MemorySaver\n",
    "checkpointer = MemorySaver()"
   ]
  },
  {
   "cell_type": "code",
   "execution_count": 24,
   "id": "b3f78be1-8a0f-4c7b-9048-764d98b17a3e",
   "metadata": {},
   "outputs": [],
   "source": [
    "app_4 = workflow.compile(checkpointer=checkpointer)"
   ]
  },
  {
   "cell_type": "code",
   "execution_count": 25,
   "id": "d66740f4-4511-430a-9e72-965ec8b4616b",
   "metadata": {},
   "outputs": [
    {
     "name": "stdout",
     "output_type": "stream",
     "text": [
      "===========================================prompt===============================================\n",
      "[SystemMessage(content=\"\\nYou are a helpful assistant good at reasoning and tool use. Use the available tools to answer user's question.\\nMention the name of tool that will be used. Give your answer in one sentence.\\n\", additional_kwargs={}, response_metadata={})]\n",
      "content=\"I'm ready to help! What's your question?\" additional_kwargs={} response_metadata={'token_usage': {'completion_tokens': 12, 'prompt_tokens': 50, 'total_tokens': 62, 'completion_time': 0.01, 'prompt_time': 0.018415525, 'queue_time': 0.15682026300000002, 'total_time': 0.028415525}, 'model_name': 'llama3-8b-8192', 'system_fingerprint': 'fp_6a6771ae9c', 'finish_reason': 'stop', 'logprobs': None} id='run-73acf0a7-1c57-4f39-b499-20e9d4ab1594-0' usage_metadata={'input_tokens': 50, 'output_tokens': 12, 'total_tokens': 62}\n",
      "================================================================================================\n",
      "======================================current state=============================================\n",
      "[SystemMessage(content=\"\\nYou are a helpful assistant good at reasoning and tool use. Use the available tools to answer user's question.\\nMention the name of tool that will be used. Give your answer in one sentence.\\n\", additional_kwargs={}, response_metadata={}), AIMessage(content=\"I'm ready to help! What's your question?\", additional_kwargs={}, response_metadata={'token_usage': {'completion_tokens': 12, 'prompt_tokens': 50, 'total_tokens': 62, 'completion_time': 0.01, 'prompt_time': 0.018415525, 'queue_time': 0.15682026300000002, 'total_time': 0.028415525}, 'model_name': 'llama3-8b-8192', 'system_fingerprint': 'fp_6a6771ae9c', 'finish_reason': 'stop', 'logprobs': None}, id='run-73acf0a7-1c57-4f39-b499-20e9d4ab1594-0', usage_metadata={'input_tokens': 50, 'output_tokens': 12, 'total_tokens': 62})]\n",
      "================================================================================================\n",
      "========================================response================================================\n",
      "content='' additional_kwargs={'tool_calls': [{'id': 'call_5zf7', 'function': {'arguments': '{\"a\":3,\"b\":-2}', 'name': 'jodo'}, 'type': 'function'}]} response_metadata={'token_usage': {'completion_tokens': 73, 'prompt_tokens': 1274, 'total_tokens': 1347, 'completion_time': 0.060833333, 'prompt_time': 0.157497865, 'queue_time': 0.02063537600000001, 'total_time': 0.218331198}, 'model_name': 'llama3-8b-8192', 'system_fingerprint': 'fp_6a6771ae9c', 'finish_reason': 'tool_calls', 'logprobs': None} id='run-c4f9cc26-1cc1-407d-a905-ff3457688186-0' tool_calls=[{'name': 'jodo', 'args': {'a': 3, 'b': -2}, 'id': 'call_5zf7', 'type': 'tool_call'}] usage_metadata={'input_tokens': 1274, 'output_tokens': 73, 'total_tokens': 1347}\n",
      "================================================================================================\n",
      "======================================calling tools=============================================\n",
      "[SystemMessage(content=\"\\nYou are a helpful assistant good at reasoning and tool use. Use the available tools to answer user's question.\\nMention the name of tool that will be used. Give your answer in one sentence.\\n\", additional_kwargs={}, response_metadata={}), AIMessage(content=\"I'm ready to help! What's your question?\", additional_kwargs={}, response_metadata={'token_usage': {'completion_tokens': 12, 'prompt_tokens': 50, 'total_tokens': 62, 'completion_time': 0.01, 'prompt_time': 0.018415525, 'queue_time': 0.15682026300000002, 'total_time': 0.028415525}, 'model_name': 'llama3-8b-8192', 'system_fingerprint': 'fp_6a6771ae9c', 'finish_reason': 'stop', 'logprobs': None}, id='run-73acf0a7-1c57-4f39-b499-20e9d4ab1594-0', usage_metadata={'input_tokens': 50, 'output_tokens': 12, 'total_tokens': 62}), HumanMessage(content='You have 3 balls and then I took two from you. How many do have now?', additional_kwargs={}, response_metadata={}), AIMessage(content='', additional_kwargs={'tool_calls': [{'id': 'call_5zf7', 'function': {'arguments': '{\"a\":3,\"b\":-2}', 'name': 'jodo'}, 'type': 'function'}]}, response_metadata={'token_usage': {'completion_tokens': 73, 'prompt_tokens': 1274, 'total_tokens': 1347, 'completion_time': 0.060833333, 'prompt_time': 0.157497865, 'queue_time': 0.02063537600000001, 'total_time': 0.218331198}, 'model_name': 'llama3-8b-8192', 'system_fingerprint': 'fp_6a6771ae9c', 'finish_reason': 'tool_calls', 'logprobs': None}, id='run-c4f9cc26-1cc1-407d-a905-ff3457688186-0', tool_calls=[{'name': 'jodo', 'args': {'a': 3, 'b': -2}, 'id': 'call_5zf7', 'type': 'tool_call'}], usage_metadata={'input_tokens': 1274, 'output_tokens': 73, 'total_tokens': 1347})]\n",
      "[{'name': 'jodo', 'args': {'a': 3, 'b': -2}, 'id': 'call_5zf7', 'type': 'tool_call'}]\n",
      "================================================================================================\n",
      "======================================current state=============================================\n",
      "[SystemMessage(content=\"\\nYou are a helpful assistant good at reasoning and tool use. Use the available tools to answer user's question.\\nMention the name of tool that will be used. Give your answer in one sentence.\\n\", additional_kwargs={}, response_metadata={}), AIMessage(content=\"I'm ready to help! What's your question?\", additional_kwargs={}, response_metadata={'token_usage': {'completion_tokens': 12, 'prompt_tokens': 50, 'total_tokens': 62, 'completion_time': 0.01, 'prompt_time': 0.018415525, 'queue_time': 0.15682026300000002, 'total_time': 0.028415525}, 'model_name': 'llama3-8b-8192', 'system_fingerprint': 'fp_6a6771ae9c', 'finish_reason': 'stop', 'logprobs': None}, id='run-73acf0a7-1c57-4f39-b499-20e9d4ab1594-0', usage_metadata={'input_tokens': 50, 'output_tokens': 12, 'total_tokens': 62}), HumanMessage(content='You have 3 balls and then I took two from you. How many do have now?', additional_kwargs={}, response_metadata={}), AIMessage(content='', additional_kwargs={'tool_calls': [{'id': 'call_5zf7', 'function': {'arguments': '{\"a\":3,\"b\":-2}', 'name': 'jodo'}, 'type': 'function'}]}, response_metadata={'token_usage': {'completion_tokens': 73, 'prompt_tokens': 1274, 'total_tokens': 1347, 'completion_time': 0.060833333, 'prompt_time': 0.157497865, 'queue_time': 0.02063537600000001, 'total_time': 0.218331198}, 'model_name': 'llama3-8b-8192', 'system_fingerprint': 'fp_6a6771ae9c', 'finish_reason': 'tool_calls', 'logprobs': None}, id='run-c4f9cc26-1cc1-407d-a905-ff3457688186-0', tool_calls=[{'name': 'jodo', 'args': {'a': 3, 'b': -2}, 'id': 'call_5zf7', 'type': 'tool_call'}], usage_metadata={'input_tokens': 1274, 'output_tokens': 73, 'total_tokens': 1347}), AIMessage(content='1', additional_kwargs={}, response_metadata={})]\n",
      "================================================================================================\n",
      "========================================response================================================\n",
      "content='' additional_kwargs={'tool_calls': [{'id': 'call_nsz5', 'function': {'arguments': '{\"a\":6,\"b\":3}', 'name': 'jodo'}, 'type': 'function'}]} response_metadata={'token_usage': {'completion_tokens': 73, 'prompt_tokens': 1280, 'total_tokens': 1353, 'completion_time': 0.060833333, 'prompt_time': 0.187136983, 'queue_time': 0.266696638, 'total_time': 0.247970316}, 'model_name': 'llama3-8b-8192', 'system_fingerprint': 'fp_6a6771ae9c', 'finish_reason': 'tool_calls', 'logprobs': None} id='run-47470aee-1581-4896-96f5-68f32fb18892-0' tool_calls=[{'name': 'jodo', 'args': {'a': 6, 'b': 3}, 'id': 'call_nsz5', 'type': 'tool_call'}] usage_metadata={'input_tokens': 1280, 'output_tokens': 73, 'total_tokens': 1353}\n",
      "================================================================================================\n",
      "======================================calling tools=============================================\n",
      "[SystemMessage(content=\"\\nYou are a helpful assistant good at reasoning and tool use. Use the available tools to answer user's question.\\nMention the name of tool that will be used. Give your answer in one sentence.\\n\", additional_kwargs={}, response_metadata={}), AIMessage(content=\"I'm ready to help! What's your question?\", additional_kwargs={}, response_metadata={'token_usage': {'completion_tokens': 12, 'prompt_tokens': 50, 'total_tokens': 62, 'completion_time': 0.01, 'prompt_time': 0.018415525, 'queue_time': 0.15682026300000002, 'total_time': 0.028415525}, 'model_name': 'llama3-8b-8192', 'system_fingerprint': 'fp_6a6771ae9c', 'finish_reason': 'stop', 'logprobs': None}, id='run-73acf0a7-1c57-4f39-b499-20e9d4ab1594-0', usage_metadata={'input_tokens': 50, 'output_tokens': 12, 'total_tokens': 62}), HumanMessage(content='You have 3 balls and then I took two from you. How many do have now?', additional_kwargs={}, response_metadata={}), AIMessage(content='', additional_kwargs={'tool_calls': [{'id': 'call_5zf7', 'function': {'arguments': '{\"a\":3,\"b\":-2}', 'name': 'jodo'}, 'type': 'function'}]}, response_metadata={'token_usage': {'completion_tokens': 73, 'prompt_tokens': 1274, 'total_tokens': 1347, 'completion_time': 0.060833333, 'prompt_time': 0.157497865, 'queue_time': 0.02063537600000001, 'total_time': 0.218331198}, 'model_name': 'llama3-8b-8192', 'system_fingerprint': 'fp_6a6771ae9c', 'finish_reason': 'tool_calls', 'logprobs': None}, id='run-c4f9cc26-1cc1-407d-a905-ff3457688186-0', tool_calls=[{'name': 'jodo', 'args': {'a': 3, 'b': -2}, 'id': 'call_5zf7', 'type': 'tool_call'}], usage_metadata={'input_tokens': 1274, 'output_tokens': 73, 'total_tokens': 1347}), AIMessage(content='1', additional_kwargs={}, response_metadata={}), HumanMessage(content='You have six friends. You get 3 apples from each of your friend. How many apples did you get in total?', additional_kwargs={}, response_metadata={}), AIMessage(content='', additional_kwargs={'tool_calls': [{'id': 'call_nsz5', 'function': {'arguments': '{\"a\":6,\"b\":3}', 'name': 'jodo'}, 'type': 'function'}]}, response_metadata={'token_usage': {'completion_tokens': 73, 'prompt_tokens': 1280, 'total_tokens': 1353, 'completion_time': 0.060833333, 'prompt_time': 0.187136983, 'queue_time': 0.266696638, 'total_time': 0.247970316}, 'model_name': 'llama3-8b-8192', 'system_fingerprint': 'fp_6a6771ae9c', 'finish_reason': 'tool_calls', 'logprobs': None}, id='run-47470aee-1581-4896-96f5-68f32fb18892-0', tool_calls=[{'name': 'jodo', 'args': {'a': 6, 'b': 3}, 'id': 'call_nsz5', 'type': 'tool_call'}], usage_metadata={'input_tokens': 1280, 'output_tokens': 73, 'total_tokens': 1353})]\n",
      "[{'name': 'jodo', 'args': {'a': 6, 'b': 3}, 'id': 'call_nsz5', 'type': 'tool_call'}]\n",
      "================================================================================================\n",
      "NO MORE QUERIES\n"
     ]
    }
   ],
   "source": [
    "queries = [\n",
    "    \"You have six friends. You get 3 apples from each of your friend. How many apples did you get in total?\",\n",
    "    \"You have 3 balls and then I took two from you. How many do have now?\"\n",
    "]\n",
    "\n",
    "config = {\"configurable\": {\"thread_id\": \"1\"}}\n",
    "response = app_4.invoke(\n",
    "    input={\n",
    "        \"messages\":[],\n",
    "        \"queries\": queries,\n",
    "    },\n",
    "    config=config,\n",
    ")"
   ]
  },
  {
   "cell_type": "code",
   "execution_count": 26,
   "id": "cd474cb3-0f8c-482c-8555-4e216a132299",
   "metadata": {},
   "outputs": [
    {
     "data": {
      "text/plain": [
       "[SystemMessage(content=\"\\nYou are a helpful assistant good at reasoning and tool use. Use the available tools to answer user's question.\\nMention the name of tool that will be used. Give your answer in one sentence.\\n\", additional_kwargs={}, response_metadata={}),\n",
       " AIMessage(content=\"I'm ready to help! What's your question?\", additional_kwargs={}, response_metadata={'token_usage': {'completion_tokens': 12, 'prompt_tokens': 50, 'total_tokens': 62, 'completion_time': 0.01, 'prompt_time': 0.018415525, 'queue_time': 0.15682026300000002, 'total_time': 0.028415525}, 'model_name': 'llama3-8b-8192', 'system_fingerprint': 'fp_6a6771ae9c', 'finish_reason': 'stop', 'logprobs': None}, id='run-73acf0a7-1c57-4f39-b499-20e9d4ab1594-0', usage_metadata={'input_tokens': 50, 'output_tokens': 12, 'total_tokens': 62}),\n",
       " HumanMessage(content='You have 3 balls and then I took two from you. How many do have now?', additional_kwargs={}, response_metadata={}),\n",
       " AIMessage(content='', additional_kwargs={'tool_calls': [{'id': 'call_5zf7', 'function': {'arguments': '{\"a\":3,\"b\":-2}', 'name': 'jodo'}, 'type': 'function'}]}, response_metadata={'token_usage': {'completion_tokens': 73, 'prompt_tokens': 1274, 'total_tokens': 1347, 'completion_time': 0.060833333, 'prompt_time': 0.157497865, 'queue_time': 0.02063537600000001, 'total_time': 0.218331198}, 'model_name': 'llama3-8b-8192', 'system_fingerprint': 'fp_6a6771ae9c', 'finish_reason': 'tool_calls', 'logprobs': None}, id='run-c4f9cc26-1cc1-407d-a905-ff3457688186-0', tool_calls=[{'name': 'jodo', 'args': {'a': 3, 'b': -2}, 'id': 'call_5zf7', 'type': 'tool_call'}], usage_metadata={'input_tokens': 1274, 'output_tokens': 73, 'total_tokens': 1347}),\n",
       " AIMessage(content='1', additional_kwargs={}, response_metadata={}),\n",
       " HumanMessage(content='You have six friends. You get 3 apples from each of your friend. How many apples did you get in total?', additional_kwargs={}, response_metadata={}),\n",
       " AIMessage(content='', additional_kwargs={'tool_calls': [{'id': 'call_nsz5', 'function': {'arguments': '{\"a\":6,\"b\":3}', 'name': 'jodo'}, 'type': 'function'}]}, response_metadata={'token_usage': {'completion_tokens': 73, 'prompt_tokens': 1280, 'total_tokens': 1353, 'completion_time': 0.060833333, 'prompt_time': 0.187136983, 'queue_time': 0.266696638, 'total_time': 0.247970316}, 'model_name': 'llama3-8b-8192', 'system_fingerprint': 'fp_6a6771ae9c', 'finish_reason': 'tool_calls', 'logprobs': None}, id='run-47470aee-1581-4896-96f5-68f32fb18892-0', tool_calls=[{'name': 'jodo', 'args': {'a': 6, 'b': 3}, 'id': 'call_nsz5', 'type': 'tool_call'}], usage_metadata={'input_tokens': 1280, 'output_tokens': 73, 'total_tokens': 1353}),\n",
       " AIMessage(content='9', additional_kwargs={}, response_metadata={})]"
      ]
     },
     "execution_count": 26,
     "metadata": {},
     "output_type": "execute_result"
    }
   ],
   "source": [
    "[m for m in response[\"messages\"]]"
   ]
  },
  {
   "cell_type": "markdown",
   "id": "b86b72fa-6578-4b15-9caa-ad32e4bd10ce",
   "metadata": {},
   "source": [
    "### Adding conversation summary"
   ]
  },
  {
   "cell_type": "markdown",
   "id": "65002b7d-cec8-4ee7-8715-265f4f9fd344",
   "metadata": {},
   "source": [
    "Using [MessagesState](https://github.com/langchain-ai/langgraph/blob/main/libs/langgraph/langgraph/graph/message.py#L263)"
   ]
  },
  {
   "cell_type": "code",
   "execution_count": 13,
   "id": "560278f1-0467-4450-b891-f6df669383b5",
   "metadata": {},
   "outputs": [],
   "source": [
    "from langgraph.graph import MessagesState"
   ]
  },
  {
   "cell_type": "code",
   "execution_count": 24,
   "id": "a5f3616d-2a39-424e-9cd4-a0fc2c71a7ae",
   "metadata": {},
   "outputs": [],
   "source": []
  },
  {
   "cell_type": "code",
   "execution_count": 54,
   "id": "ceab490b-57e1-40a2-b81e-428aadae22e2",
   "metadata": {},
   "outputs": [],
   "source": [
    "class AgentState(MessagesState):\n",
    "    queries: List[str]\n",
    "    summary: str"
   ]
  },
  {
   "cell_type": "code",
   "execution_count": 64,
   "id": "01c1ee8e-0b72-46ea-a51a-50c4fb8232b6",
   "metadata": {},
   "outputs": [],
   "source": [
    "def add_system_prompt(state: AgentState):\n",
    "    response = llm.invoke(prompt.format_messages())\n",
    "    print(\"===========================================prompt===============================================\")\n",
    "    print(prompt.format_messages())\n",
    "    print(response)\n",
    "    print(\"================================================================================================\")\n",
    "    return {\"messages\": prompt.format_messages() + [response]}\n",
    "\n",
    "\n",
    "def bind(state: AgentState):\n",
    "    llm_with_tools = llm.bind_tools(tools)\n",
    "    print(\"======================================current state=============================================\")\n",
    "    print(state[\"messages\"])\n",
    "    print(\"================================================================================================\")\n",
    "    query = state[\"queries\"].pop()\n",
    "    response = llm_with_tools.invoke(query)\n",
    "    print(\"========================================response================================================\")\n",
    "    print(response)\n",
    "    print(\"================================================================================================\")\n",
    "    return {\n",
    "        \"messages\": [HumanMessage(content=query)] + [response],\n",
    "        \"queries\": state[\"queries\"],\n",
    "        \"summary\": state[\"summary\"],\n",
    "    }\n",
    "\n",
    "\n",
    "toolnode = ToolNode(tools)\n",
    "tools_cache = {tool.__name__: tool for tool in tools}\n",
    "\n",
    "def call_tool(state: AgentState):\n",
    "    print(\"======================================calling tools=============================================\")\n",
    "    print(state[\"messages\"])\n",
    "    print(state[\"messages\"][-1].tool_calls)\n",
    "    print(\"================================================================================================\")\n",
    "    last_message = state[\"messages\"][-1]\n",
    "    tool_call = last_message.tool_calls[0]\n",
    "    tool_name = tool_call[\"name\"]\n",
    "    arguments = tool_call[\"args\"]\n",
    "\n",
    "    if tool_name not in tools_cache:\n",
    "        output = f\"Tool `{tool_name}` is not defined\"\n",
    "\n",
    "    else:\n",
    "        output = tools_cache[tool_name](**arguments)\n",
    "\n",
    "    return {\n",
    "        \"messages\": [AIMessage(content=str(output))],\n",
    "        \"queries\": state[\"queries\"],\n",
    "        \"summary\": state[\"summary\"],\n",
    "    }\n",
    "\n",
    "\n",
    "def summarize_conversation(state: AgentState):\n",
    "    summary = state.get(\"summary\", \"\")\n",
    "    if summary:\n",
    "        summary_message = (\n",
    "            f\"This is summary of the conversation to date: {summary}\\n\\n\"\n",
    "            \"Extend the summary by taking into account the new messages above:\"\n",
    "        )\n",
    "    else:\n",
    "        summary_message = \"Create a summary of the conversation above:\"\n",
    "\n",
    "    messages = state[\"messages\"] + [HumanMessage(content=summary_message)]\n",
    "    response = model.invoke(messages)\n",
    "\n",
    "    print(\"====================================summarization response======================================\")\n",
    "    print(response)\n",
    "    print(\"================================================================================================\")\n",
    "    \n",
    "    return {\n",
    "        \"summary\": response.content,\n",
    "        \"messages\": messages + [response],\n",
    "        \"queries\": state[\"queries\"],\n",
    "    }\n",
    "\n",
    "\n",
    "def check_summarization(state: AgentState):\n",
    "    if len(state[\"queries\"]):\n",
    "        return \"bind\"\n",
    "    else:\n",
    "        print(\"NO MORE QUERIES\")\n",
    "        return END\n",
    "\n",
    "\n",
    "def check_continue(state: AgentState):\n",
    "    n_msg = len(state[\"messages\"])\n",
    "    if n_msg % 6 == 0 and n_msg != 0:\n",
    "        return \"summarize_conversation\"\n",
    "\n",
    "    if len(state[\"queries\"]):\n",
    "        return \"bind\"\n",
    "    else:\n",
    "        print(\"NO MORE QUERIES\")\n",
    "        return END\n"
   ]
  },
  {
   "cell_type": "code",
   "execution_count": 65,
   "id": "70030b61-fc1a-4683-80ed-09a5828be036",
   "metadata": {},
   "outputs": [
    {
     "data": {
      "text/plain": [
       "<langgraph.graph.state.StateGraph at 0x20c3cfd52e0>"
      ]
     },
     "execution_count": 65,
     "metadata": {},
     "output_type": "execute_result"
    }
   ],
   "source": [
    "workflow = StateGraph(AgentState)\n",
    "checkpointer = MemorySaver()\n",
    "\n",
    "# workflow.add_node(add_system_prompt)\n",
    "workflow.add_node(bind)\n",
    "workflow.add_node(toolnode)\n",
    "workflow.add_node(call_tool)\n",
    "workflow.add_node(summarize_conversation)\n",
    "\n",
    "\n",
    "workflow.set_entry_point()  # Equivalent to calling `add_edge(START, key)`.\n",
    "\n",
    "workflow.add_edge(START, \"bind\")\n",
    "# workflow.add_edge(\"add_system_prompt\", \"bind\")\n",
    "workflow.add_edge(\"bind\", \"call_tool\")\n",
    "workflow.add_conditional_edges(\"call_tool\", check_continue)\n",
    "workflow.add_conditional_edges(\"summarize_conversation\", check_summarization)\n",
    "workflow.add_edge(\"call_tool\", END)\n"
   ]
  },
  {
   "cell_type": "code",
   "execution_count": 66,
   "id": "faec4bdf-c9bf-4e24-bed6-14aa0b311728",
   "metadata": {},
   "outputs": [],
   "source": [
    "app_5 = workflow.compile(checkpointer=checkpointer)"
   ]
  },
  {
   "cell_type": "code",
   "execution_count": 69,
   "id": "58eb0ea9-80d2-48f3-9e8b-ab0412b3daaf",
   "metadata": {},
   "outputs": [
    {
     "name": "stdout",
     "output_type": "stream",
     "text": [
      "======================================current state=============================================\n",
      "[HumanMessage(content='You have 3 balls and then I took two from you. How many do have now?', additional_kwargs={}, response_metadata={}, id='321323cc-aca6-444c-92f8-940db9c6d3f0'), AIMessage(content='', additional_kwargs={'tool_calls': [{'id': 'call_t5ts', 'function': {'arguments': '{\"a\":3,\"b\":-2}', 'name': 'jodo'}, 'type': 'function'}]}, response_metadata={'token_usage': {'completion_tokens': 73, 'prompt_tokens': 1274, 'total_tokens': 1347, 'completion_time': 0.060833333, 'prompt_time': 0.159345903, 'queue_time': 0.02059138699999999, 'total_time': 0.220179236}, 'model_name': 'llama3-8b-8192', 'system_fingerprint': 'fp_179b0f92c9', 'finish_reason': 'tool_calls', 'logprobs': None}, id='run-6a4aa925-04ab-40b6-bf15-0713ccfe7fca-0', tool_calls=[{'name': 'jodo', 'args': {'a': 3, 'b': -2}, 'id': 'call_t5ts', 'type': 'tool_call'}], usage_metadata={'input_tokens': 1274, 'output_tokens': 73, 'total_tokens': 1347}), AIMessage(content='1', additional_kwargs={}, response_metadata={}, id='a66f3691-822a-47f4-b741-2144787c43df'), HumanMessage(content='You have six friends. You get 3 apples from each of your friend. How many apples did you get in total?', additional_kwargs={}, response_metadata={}, id='8309aa4a-8876-4fc0-b963-bf381c4e4662'), AIMessage(content='', additional_kwargs={'tool_calls': [{'id': 'call_j7c5', 'function': {'arguments': '{\"a\":6,\"b\":3}', 'name': 'jodo'}, 'type': 'function'}]}, response_metadata={'token_usage': {'completion_tokens': 73, 'prompt_tokens': 1280, 'total_tokens': 1353, 'completion_time': 0.060833333, 'prompt_time': 0.165421722, 'queue_time': 0.11306630000000001, 'total_time': 0.226255055}, 'model_name': 'llama3-8b-8192', 'system_fingerprint': 'fp_a97cfe35ae', 'finish_reason': 'tool_calls', 'logprobs': None}, id='run-13f88c29-1399-475f-9a93-a8a3b035e01c-0', tool_calls=[{'name': 'jodo', 'args': {'a': 6, 'b': 3}, 'id': 'call_j7c5', 'type': 'tool_call'}], usage_metadata={'input_tokens': 1280, 'output_tokens': 73, 'total_tokens': 1353}), AIMessage(content='9', additional_kwargs={}, response_metadata={}, id='8fea9025-f994-4853-9e23-07284c41627c'), HumanMessage(content='Create a summary of the conversation above:', additional_kwargs={}, response_metadata={}, id='97b9c89e-e348-4340-8d17-820fa2945c0f'), AIMessage(content='Here is a summary of our conversation:\\n\\n* I had 3 balls and you took 2 from me, leaving me with 1 ball.\\n* I had 6 friends and each of them gave me 3 apples, so I got a total of 9 apples.', additional_kwargs={}, response_metadata={'token_usage': {'completion_tokens': 56, 'prompt_tokens': 104, 'total_tokens': 160, 'completion_time': 0.046666667, 'prompt_time': 0.012911815, 'queue_time': 0.018300335, 'total_time': 0.059578482}, 'model_name': 'llama3-8b-8192', 'system_fingerprint': 'fp_179b0f92c9', 'finish_reason': 'stop', 'logprobs': None}, id='run-55baefb0-22d2-49c8-af93-90bcc599ef5e-0', usage_metadata={'input_tokens': 104, 'output_tokens': 56, 'total_tokens': 160})]\n",
      "================================================================================================\n",
      "========================================response================================================\n",
      "content='' additional_kwargs={'tool_calls': [{'id': 'call_mqce', 'function': {'arguments': '{\"a\":10,\"b\":5}', 'name': 'jodo'}, 'type': 'function'}]} response_metadata={'token_usage': {'completion_tokens': 73, 'prompt_tokens': 1277, 'total_tokens': 1350, 'completion_time': 0.060833333, 'prompt_time': 0.229179983, 'queue_time': 0.315220732, 'total_time': 0.290013316}, 'model_name': 'llama3-8b-8192', 'system_fingerprint': 'fp_a97cfe35ae', 'finish_reason': 'tool_calls', 'logprobs': None} id='run-81681714-ad03-4d39-b71f-bd2f1b335d94-0' tool_calls=[{'name': 'jodo', 'args': {'a': 10, 'b': 5}, 'id': 'call_mqce', 'type': 'tool_call'}] usage_metadata={'input_tokens': 1277, 'output_tokens': 73, 'total_tokens': 1350}\n",
      "================================================================================================\n",
      "======================================calling tools=============================================\n",
      "[HumanMessage(content='You have 3 balls and then I took two from you. How many do have now?', additional_kwargs={}, response_metadata={}, id='321323cc-aca6-444c-92f8-940db9c6d3f0'), AIMessage(content='', additional_kwargs={'tool_calls': [{'id': 'call_t5ts', 'function': {'arguments': '{\"a\":3,\"b\":-2}', 'name': 'jodo'}, 'type': 'function'}]}, response_metadata={'token_usage': {'completion_tokens': 73, 'prompt_tokens': 1274, 'total_tokens': 1347, 'completion_time': 0.060833333, 'prompt_time': 0.159345903, 'queue_time': 0.02059138699999999, 'total_time': 0.220179236}, 'model_name': 'llama3-8b-8192', 'system_fingerprint': 'fp_179b0f92c9', 'finish_reason': 'tool_calls', 'logprobs': None}, id='run-6a4aa925-04ab-40b6-bf15-0713ccfe7fca-0', tool_calls=[{'name': 'jodo', 'args': {'a': 3, 'b': -2}, 'id': 'call_t5ts', 'type': 'tool_call'}], usage_metadata={'input_tokens': 1274, 'output_tokens': 73, 'total_tokens': 1347}), AIMessage(content='1', additional_kwargs={}, response_metadata={}, id='a66f3691-822a-47f4-b741-2144787c43df'), HumanMessage(content='You have six friends. You get 3 apples from each of your friend. How many apples did you get in total?', additional_kwargs={}, response_metadata={}, id='8309aa4a-8876-4fc0-b963-bf381c4e4662'), AIMessage(content='', additional_kwargs={'tool_calls': [{'id': 'call_j7c5', 'function': {'arguments': '{\"a\":6,\"b\":3}', 'name': 'jodo'}, 'type': 'function'}]}, response_metadata={'token_usage': {'completion_tokens': 73, 'prompt_tokens': 1280, 'total_tokens': 1353, 'completion_time': 0.060833333, 'prompt_time': 0.165421722, 'queue_time': 0.11306630000000001, 'total_time': 0.226255055}, 'model_name': 'llama3-8b-8192', 'system_fingerprint': 'fp_a97cfe35ae', 'finish_reason': 'tool_calls', 'logprobs': None}, id='run-13f88c29-1399-475f-9a93-a8a3b035e01c-0', tool_calls=[{'name': 'jodo', 'args': {'a': 6, 'b': 3}, 'id': 'call_j7c5', 'type': 'tool_call'}], usage_metadata={'input_tokens': 1280, 'output_tokens': 73, 'total_tokens': 1353}), AIMessage(content='9', additional_kwargs={}, response_metadata={}, id='8fea9025-f994-4853-9e23-07284c41627c'), HumanMessage(content='Create a summary of the conversation above:', additional_kwargs={}, response_metadata={}, id='97b9c89e-e348-4340-8d17-820fa2945c0f'), AIMessage(content='Here is a summary of our conversation:\\n\\n* I had 3 balls and you took 2 from me, leaving me with 1 ball.\\n* I had 6 friends and each of them gave me 3 apples, so I got a total of 9 apples.', additional_kwargs={}, response_metadata={'token_usage': {'completion_tokens': 56, 'prompt_tokens': 104, 'total_tokens': 160, 'completion_time': 0.046666667, 'prompt_time': 0.012911815, 'queue_time': 0.018300335, 'total_time': 0.059578482}, 'model_name': 'llama3-8b-8192', 'system_fingerprint': 'fp_179b0f92c9', 'finish_reason': 'stop', 'logprobs': None}, id='run-55baefb0-22d2-49c8-af93-90bcc599ef5e-0', usage_metadata={'input_tokens': 104, 'output_tokens': 56, 'total_tokens': 160}), HumanMessage(content='You have 10 pens and five students. If you distribute them equally, how much each of them get?', additional_kwargs={}, response_metadata={}, id='e5b59544-1dd8-4180-9110-ed6832b29620'), AIMessage(content='', additional_kwargs={'tool_calls': [{'id': 'call_mqce', 'function': {'arguments': '{\"a\":10,\"b\":5}', 'name': 'jodo'}, 'type': 'function'}]}, response_metadata={'token_usage': {'completion_tokens': 73, 'prompt_tokens': 1277, 'total_tokens': 1350, 'completion_time': 0.060833333, 'prompt_time': 0.229179983, 'queue_time': 0.315220732, 'total_time': 0.290013316}, 'model_name': 'llama3-8b-8192', 'system_fingerprint': 'fp_a97cfe35ae', 'finish_reason': 'tool_calls', 'logprobs': None}, id='run-81681714-ad03-4d39-b71f-bd2f1b335d94-0', tool_calls=[{'name': 'jodo', 'args': {'a': 10, 'b': 5}, 'id': 'call_mqce', 'type': 'tool_call'}], usage_metadata={'input_tokens': 1277, 'output_tokens': 73, 'total_tokens': 1350})]\n",
      "[{'name': 'jodo', 'args': {'a': 10, 'b': 5}, 'id': 'call_mqce', 'type': 'tool_call'}]\n",
      "================================================================================================\n",
      "======================================current state=============================================\n",
      "[HumanMessage(content='You have 3 balls and then I took two from you. How many do have now?', additional_kwargs={}, response_metadata={}, id='321323cc-aca6-444c-92f8-940db9c6d3f0'), AIMessage(content='', additional_kwargs={'tool_calls': [{'id': 'call_t5ts', 'function': {'arguments': '{\"a\":3,\"b\":-2}', 'name': 'jodo'}, 'type': 'function'}]}, response_metadata={'token_usage': {'completion_tokens': 73, 'prompt_tokens': 1274, 'total_tokens': 1347, 'completion_time': 0.060833333, 'prompt_time': 0.159345903, 'queue_time': 0.02059138699999999, 'total_time': 0.220179236}, 'model_name': 'llama3-8b-8192', 'system_fingerprint': 'fp_179b0f92c9', 'finish_reason': 'tool_calls', 'logprobs': None}, id='run-6a4aa925-04ab-40b6-bf15-0713ccfe7fca-0', tool_calls=[{'name': 'jodo', 'args': {'a': 3, 'b': -2}, 'id': 'call_t5ts', 'type': 'tool_call'}], usage_metadata={'input_tokens': 1274, 'output_tokens': 73, 'total_tokens': 1347}), AIMessage(content='1', additional_kwargs={}, response_metadata={}, id='a66f3691-822a-47f4-b741-2144787c43df'), HumanMessage(content='You have six friends. You get 3 apples from each of your friend. How many apples did you get in total?', additional_kwargs={}, response_metadata={}, id='8309aa4a-8876-4fc0-b963-bf381c4e4662'), AIMessage(content='', additional_kwargs={'tool_calls': [{'id': 'call_j7c5', 'function': {'arguments': '{\"a\":6,\"b\":3}', 'name': 'jodo'}, 'type': 'function'}]}, response_metadata={'token_usage': {'completion_tokens': 73, 'prompt_tokens': 1280, 'total_tokens': 1353, 'completion_time': 0.060833333, 'prompt_time': 0.165421722, 'queue_time': 0.11306630000000001, 'total_time': 0.226255055}, 'model_name': 'llama3-8b-8192', 'system_fingerprint': 'fp_a97cfe35ae', 'finish_reason': 'tool_calls', 'logprobs': None}, id='run-13f88c29-1399-475f-9a93-a8a3b035e01c-0', tool_calls=[{'name': 'jodo', 'args': {'a': 6, 'b': 3}, 'id': 'call_j7c5', 'type': 'tool_call'}], usage_metadata={'input_tokens': 1280, 'output_tokens': 73, 'total_tokens': 1353}), AIMessage(content='9', additional_kwargs={}, response_metadata={}, id='8fea9025-f994-4853-9e23-07284c41627c'), HumanMessage(content='Create a summary of the conversation above:', additional_kwargs={}, response_metadata={}, id='97b9c89e-e348-4340-8d17-820fa2945c0f'), AIMessage(content='Here is a summary of our conversation:\\n\\n* I had 3 balls and you took 2 from me, leaving me with 1 ball.\\n* I had 6 friends and each of them gave me 3 apples, so I got a total of 9 apples.', additional_kwargs={}, response_metadata={'token_usage': {'completion_tokens': 56, 'prompt_tokens': 104, 'total_tokens': 160, 'completion_time': 0.046666667, 'prompt_time': 0.012911815, 'queue_time': 0.018300335, 'total_time': 0.059578482}, 'model_name': 'llama3-8b-8192', 'system_fingerprint': 'fp_179b0f92c9', 'finish_reason': 'stop', 'logprobs': None}, id='run-55baefb0-22d2-49c8-af93-90bcc599ef5e-0', usage_metadata={'input_tokens': 104, 'output_tokens': 56, 'total_tokens': 160}), HumanMessage(content='You have 10 pens and five students. If you distribute them equally, how much each of them get?', additional_kwargs={}, response_metadata={}, id='e5b59544-1dd8-4180-9110-ed6832b29620'), AIMessage(content='', additional_kwargs={'tool_calls': [{'id': 'call_mqce', 'function': {'arguments': '{\"a\":10,\"b\":5}', 'name': 'jodo'}, 'type': 'function'}]}, response_metadata={'token_usage': {'completion_tokens': 73, 'prompt_tokens': 1277, 'total_tokens': 1350, 'completion_time': 0.060833333, 'prompt_time': 0.229179983, 'queue_time': 0.315220732, 'total_time': 0.290013316}, 'model_name': 'llama3-8b-8192', 'system_fingerprint': 'fp_a97cfe35ae', 'finish_reason': 'tool_calls', 'logprobs': None}, id='run-81681714-ad03-4d39-b71f-bd2f1b335d94-0', tool_calls=[{'name': 'jodo', 'args': {'a': 10, 'b': 5}, 'id': 'call_mqce', 'type': 'tool_call'}], usage_metadata={'input_tokens': 1277, 'output_tokens': 73, 'total_tokens': 1350}), AIMessage(content='15', additional_kwargs={}, response_metadata={}, id='91e4d956-038c-4bc4-a96d-4b00f48a5dc2')]\n",
      "================================================================================================\n",
      "========================================response================================================\n",
      "content='' additional_kwargs={'tool_calls': [{'id': 'call_5p8r', 'function': {'arguments': '{\"a\":10,\"b\":5}', 'name': 'jodo'}, 'type': 'function'}]} response_metadata={'token_usage': {'completion_tokens': 73, 'prompt_tokens': 1271, 'total_tokens': 1344, 'completion_time': 0.060833333, 'prompt_time': 0.158834275, 'queue_time': 0.022832903000000015, 'total_time': 0.219667608}, 'model_name': 'llama3-8b-8192', 'system_fingerprint': 'fp_179b0f92c9', 'finish_reason': 'tool_calls', 'logprobs': None} id='run-fcfffaf9-ee98-4f9c-a75a-e5d2c82823d5-0' tool_calls=[{'name': 'jodo', 'args': {'a': 10, 'b': 5}, 'id': 'call_5p8r', 'type': 'tool_call'}] usage_metadata={'input_tokens': 1271, 'output_tokens': 73, 'total_tokens': 1344}\n",
      "================================================================================================\n",
      "======================================calling tools=============================================\n",
      "[HumanMessage(content='You have 3 balls and then I took two from you. How many do have now?', additional_kwargs={}, response_metadata={}, id='321323cc-aca6-444c-92f8-940db9c6d3f0'), AIMessage(content='', additional_kwargs={'tool_calls': [{'id': 'call_t5ts', 'function': {'arguments': '{\"a\":3,\"b\":-2}', 'name': 'jodo'}, 'type': 'function'}]}, response_metadata={'token_usage': {'completion_tokens': 73, 'prompt_tokens': 1274, 'total_tokens': 1347, 'completion_time': 0.060833333, 'prompt_time': 0.159345903, 'queue_time': 0.02059138699999999, 'total_time': 0.220179236}, 'model_name': 'llama3-8b-8192', 'system_fingerprint': 'fp_179b0f92c9', 'finish_reason': 'tool_calls', 'logprobs': None}, id='run-6a4aa925-04ab-40b6-bf15-0713ccfe7fca-0', tool_calls=[{'name': 'jodo', 'args': {'a': 3, 'b': -2}, 'id': 'call_t5ts', 'type': 'tool_call'}], usage_metadata={'input_tokens': 1274, 'output_tokens': 73, 'total_tokens': 1347}), AIMessage(content='1', additional_kwargs={}, response_metadata={}, id='a66f3691-822a-47f4-b741-2144787c43df'), HumanMessage(content='You have six friends. You get 3 apples from each of your friend. How many apples did you get in total?', additional_kwargs={}, response_metadata={}, id='8309aa4a-8876-4fc0-b963-bf381c4e4662'), AIMessage(content='', additional_kwargs={'tool_calls': [{'id': 'call_j7c5', 'function': {'arguments': '{\"a\":6,\"b\":3}', 'name': 'jodo'}, 'type': 'function'}]}, response_metadata={'token_usage': {'completion_tokens': 73, 'prompt_tokens': 1280, 'total_tokens': 1353, 'completion_time': 0.060833333, 'prompt_time': 0.165421722, 'queue_time': 0.11306630000000001, 'total_time': 0.226255055}, 'model_name': 'llama3-8b-8192', 'system_fingerprint': 'fp_a97cfe35ae', 'finish_reason': 'tool_calls', 'logprobs': None}, id='run-13f88c29-1399-475f-9a93-a8a3b035e01c-0', tool_calls=[{'name': 'jodo', 'args': {'a': 6, 'b': 3}, 'id': 'call_j7c5', 'type': 'tool_call'}], usage_metadata={'input_tokens': 1280, 'output_tokens': 73, 'total_tokens': 1353}), AIMessage(content='9', additional_kwargs={}, response_metadata={}, id='8fea9025-f994-4853-9e23-07284c41627c'), HumanMessage(content='Create a summary of the conversation above:', additional_kwargs={}, response_metadata={}, id='97b9c89e-e348-4340-8d17-820fa2945c0f'), AIMessage(content='Here is a summary of our conversation:\\n\\n* I had 3 balls and you took 2 from me, leaving me with 1 ball.\\n* I had 6 friends and each of them gave me 3 apples, so I got a total of 9 apples.', additional_kwargs={}, response_metadata={'token_usage': {'completion_tokens': 56, 'prompt_tokens': 104, 'total_tokens': 160, 'completion_time': 0.046666667, 'prompt_time': 0.012911815, 'queue_time': 0.018300335, 'total_time': 0.059578482}, 'model_name': 'llama3-8b-8192', 'system_fingerprint': 'fp_179b0f92c9', 'finish_reason': 'stop', 'logprobs': None}, id='run-55baefb0-22d2-49c8-af93-90bcc599ef5e-0', usage_metadata={'input_tokens': 104, 'output_tokens': 56, 'total_tokens': 160}), HumanMessage(content='You have 10 pens and five students. If you distribute them equally, how much each of them get?', additional_kwargs={}, response_metadata={}, id='e5b59544-1dd8-4180-9110-ed6832b29620'), AIMessage(content='', additional_kwargs={'tool_calls': [{'id': 'call_mqce', 'function': {'arguments': '{\"a\":10,\"b\":5}', 'name': 'jodo'}, 'type': 'function'}]}, response_metadata={'token_usage': {'completion_tokens': 73, 'prompt_tokens': 1277, 'total_tokens': 1350, 'completion_time': 0.060833333, 'prompt_time': 0.229179983, 'queue_time': 0.315220732, 'total_time': 0.290013316}, 'model_name': 'llama3-8b-8192', 'system_fingerprint': 'fp_a97cfe35ae', 'finish_reason': 'tool_calls', 'logprobs': None}, id='run-81681714-ad03-4d39-b71f-bd2f1b335d94-0', tool_calls=[{'name': 'jodo', 'args': {'a': 10, 'b': 5}, 'id': 'call_mqce', 'type': 'tool_call'}], usage_metadata={'input_tokens': 1277, 'output_tokens': 73, 'total_tokens': 1350}), AIMessage(content='15', additional_kwargs={}, response_metadata={}, id='91e4d956-038c-4bc4-a96d-4b00f48a5dc2'), HumanMessage(content='You were ten years old 5 years ago. How old are you now?', additional_kwargs={}, response_metadata={}, id='0faf29bd-f80a-425c-89b7-cbd235c9f376'), AIMessage(content='', additional_kwargs={'tool_calls': [{'id': 'call_5p8r', 'function': {'arguments': '{\"a\":10,\"b\":5}', 'name': 'jodo'}, 'type': 'function'}]}, response_metadata={'token_usage': {'completion_tokens': 73, 'prompt_tokens': 1271, 'total_tokens': 1344, 'completion_time': 0.060833333, 'prompt_time': 0.158834275, 'queue_time': 0.022832903000000015, 'total_time': 0.219667608}, 'model_name': 'llama3-8b-8192', 'system_fingerprint': 'fp_179b0f92c9', 'finish_reason': 'tool_calls', 'logprobs': None}, id='run-fcfffaf9-ee98-4f9c-a75a-e5d2c82823d5-0', tool_calls=[{'name': 'jodo', 'args': {'a': 10, 'b': 5}, 'id': 'call_5p8r', 'type': 'tool_call'}], usage_metadata={'input_tokens': 1271, 'output_tokens': 73, 'total_tokens': 1344})]\n",
      "[{'name': 'jodo', 'args': {'a': 10, 'b': 5}, 'id': 'call_5p8r', 'type': 'tool_call'}]\n",
      "================================================================================================\n",
      "======================================current state=============================================\n",
      "[HumanMessage(content='You have 3 balls and then I took two from you. How many do have now?', additional_kwargs={}, response_metadata={}, id='321323cc-aca6-444c-92f8-940db9c6d3f0'), AIMessage(content='', additional_kwargs={'tool_calls': [{'id': 'call_t5ts', 'function': {'arguments': '{\"a\":3,\"b\":-2}', 'name': 'jodo'}, 'type': 'function'}]}, response_metadata={'token_usage': {'completion_tokens': 73, 'prompt_tokens': 1274, 'total_tokens': 1347, 'completion_time': 0.060833333, 'prompt_time': 0.159345903, 'queue_time': 0.02059138699999999, 'total_time': 0.220179236}, 'model_name': 'llama3-8b-8192', 'system_fingerprint': 'fp_179b0f92c9', 'finish_reason': 'tool_calls', 'logprobs': None}, id='run-6a4aa925-04ab-40b6-bf15-0713ccfe7fca-0', tool_calls=[{'name': 'jodo', 'args': {'a': 3, 'b': -2}, 'id': 'call_t5ts', 'type': 'tool_call'}], usage_metadata={'input_tokens': 1274, 'output_tokens': 73, 'total_tokens': 1347}), AIMessage(content='1', additional_kwargs={}, response_metadata={}, id='a66f3691-822a-47f4-b741-2144787c43df'), HumanMessage(content='You have six friends. You get 3 apples from each of your friend. How many apples did you get in total?', additional_kwargs={}, response_metadata={}, id='8309aa4a-8876-4fc0-b963-bf381c4e4662'), AIMessage(content='', additional_kwargs={'tool_calls': [{'id': 'call_j7c5', 'function': {'arguments': '{\"a\":6,\"b\":3}', 'name': 'jodo'}, 'type': 'function'}]}, response_metadata={'token_usage': {'completion_tokens': 73, 'prompt_tokens': 1280, 'total_tokens': 1353, 'completion_time': 0.060833333, 'prompt_time': 0.165421722, 'queue_time': 0.11306630000000001, 'total_time': 0.226255055}, 'model_name': 'llama3-8b-8192', 'system_fingerprint': 'fp_a97cfe35ae', 'finish_reason': 'tool_calls', 'logprobs': None}, id='run-13f88c29-1399-475f-9a93-a8a3b035e01c-0', tool_calls=[{'name': 'jodo', 'args': {'a': 6, 'b': 3}, 'id': 'call_j7c5', 'type': 'tool_call'}], usage_metadata={'input_tokens': 1280, 'output_tokens': 73, 'total_tokens': 1353}), AIMessage(content='9', additional_kwargs={}, response_metadata={}, id='8fea9025-f994-4853-9e23-07284c41627c'), HumanMessage(content='Create a summary of the conversation above:', additional_kwargs={}, response_metadata={}, id='97b9c89e-e348-4340-8d17-820fa2945c0f'), AIMessage(content='Here is a summary of our conversation:\\n\\n* I had 3 balls and you took 2 from me, leaving me with 1 ball.\\n* I had 6 friends and each of them gave me 3 apples, so I got a total of 9 apples.', additional_kwargs={}, response_metadata={'token_usage': {'completion_tokens': 56, 'prompt_tokens': 104, 'total_tokens': 160, 'completion_time': 0.046666667, 'prompt_time': 0.012911815, 'queue_time': 0.018300335, 'total_time': 0.059578482}, 'model_name': 'llama3-8b-8192', 'system_fingerprint': 'fp_179b0f92c9', 'finish_reason': 'stop', 'logprobs': None}, id='run-55baefb0-22d2-49c8-af93-90bcc599ef5e-0', usage_metadata={'input_tokens': 104, 'output_tokens': 56, 'total_tokens': 160}), HumanMessage(content='You have 10 pens and five students. If you distribute them equally, how much each of them get?', additional_kwargs={}, response_metadata={}, id='e5b59544-1dd8-4180-9110-ed6832b29620'), AIMessage(content='', additional_kwargs={'tool_calls': [{'id': 'call_mqce', 'function': {'arguments': '{\"a\":10,\"b\":5}', 'name': 'jodo'}, 'type': 'function'}]}, response_metadata={'token_usage': {'completion_tokens': 73, 'prompt_tokens': 1277, 'total_tokens': 1350, 'completion_time': 0.060833333, 'prompt_time': 0.229179983, 'queue_time': 0.315220732, 'total_time': 0.290013316}, 'model_name': 'llama3-8b-8192', 'system_fingerprint': 'fp_a97cfe35ae', 'finish_reason': 'tool_calls', 'logprobs': None}, id='run-81681714-ad03-4d39-b71f-bd2f1b335d94-0', tool_calls=[{'name': 'jodo', 'args': {'a': 10, 'b': 5}, 'id': 'call_mqce', 'type': 'tool_call'}], usage_metadata={'input_tokens': 1277, 'output_tokens': 73, 'total_tokens': 1350}), AIMessage(content='15', additional_kwargs={}, response_metadata={}, id='91e4d956-038c-4bc4-a96d-4b00f48a5dc2'), HumanMessage(content='You were ten years old 5 years ago. How old are you now?', additional_kwargs={}, response_metadata={}, id='0faf29bd-f80a-425c-89b7-cbd235c9f376'), AIMessage(content='', additional_kwargs={'tool_calls': [{'id': 'call_5p8r', 'function': {'arguments': '{\"a\":10,\"b\":5}', 'name': 'jodo'}, 'type': 'function'}]}, response_metadata={'token_usage': {'completion_tokens': 73, 'prompt_tokens': 1271, 'total_tokens': 1344, 'completion_time': 0.060833333, 'prompt_time': 0.158834275, 'queue_time': 0.022832903000000015, 'total_time': 0.219667608}, 'model_name': 'llama3-8b-8192', 'system_fingerprint': 'fp_179b0f92c9', 'finish_reason': 'tool_calls', 'logprobs': None}, id='run-fcfffaf9-ee98-4f9c-a75a-e5d2c82823d5-0', tool_calls=[{'name': 'jodo', 'args': {'a': 10, 'b': 5}, 'id': 'call_5p8r', 'type': 'tool_call'}], usage_metadata={'input_tokens': 1271, 'output_tokens': 73, 'total_tokens': 1344}), AIMessage(content='15', additional_kwargs={}, response_metadata={}, id='9a5af8b5-3385-4a9c-bc46-39ce465fc7b2')]\n",
      "================================================================================================\n",
      "========================================response================================================\n",
      "content='' additional_kwargs={'tool_calls': [{'id': 'call_88sh', 'function': {'arguments': '{\"a\":3,\"b\":-2}', 'name': 'jodo'}, 'type': 'function'}]} response_metadata={'token_usage': {'completion_tokens': 80, 'prompt_tokens': 1274, 'total_tokens': 1354, 'completion_time': 0.066666667, 'prompt_time': 0.265691861, 'queue_time': 0.240619374, 'total_time': 0.332358528}, 'model_name': 'llama3-8b-8192', 'system_fingerprint': 'fp_6a6771ae9c', 'finish_reason': 'tool_calls', 'logprobs': None} id='run-91cc4154-ca2d-4f8c-bbc8-db0d16808d9b-0' tool_calls=[{'name': 'jodo', 'args': {'a': 3, 'b': -2}, 'id': 'call_88sh', 'type': 'tool_call'}] usage_metadata={'input_tokens': 1274, 'output_tokens': 80, 'total_tokens': 1354}\n",
      "================================================================================================\n",
      "======================================calling tools=============================================\n",
      "[HumanMessage(content='You have 3 balls and then I took two from you. How many do have now?', additional_kwargs={}, response_metadata={}, id='321323cc-aca6-444c-92f8-940db9c6d3f0'), AIMessage(content='', additional_kwargs={'tool_calls': [{'id': 'call_t5ts', 'function': {'arguments': '{\"a\":3,\"b\":-2}', 'name': 'jodo'}, 'type': 'function'}]}, response_metadata={'token_usage': {'completion_tokens': 73, 'prompt_tokens': 1274, 'total_tokens': 1347, 'completion_time': 0.060833333, 'prompt_time': 0.159345903, 'queue_time': 0.02059138699999999, 'total_time': 0.220179236}, 'model_name': 'llama3-8b-8192', 'system_fingerprint': 'fp_179b0f92c9', 'finish_reason': 'tool_calls', 'logprobs': None}, id='run-6a4aa925-04ab-40b6-bf15-0713ccfe7fca-0', tool_calls=[{'name': 'jodo', 'args': {'a': 3, 'b': -2}, 'id': 'call_t5ts', 'type': 'tool_call'}], usage_metadata={'input_tokens': 1274, 'output_tokens': 73, 'total_tokens': 1347}), AIMessage(content='1', additional_kwargs={}, response_metadata={}, id='a66f3691-822a-47f4-b741-2144787c43df'), HumanMessage(content='You have six friends. You get 3 apples from each of your friend. How many apples did you get in total?', additional_kwargs={}, response_metadata={}, id='8309aa4a-8876-4fc0-b963-bf381c4e4662'), AIMessage(content='', additional_kwargs={'tool_calls': [{'id': 'call_j7c5', 'function': {'arguments': '{\"a\":6,\"b\":3}', 'name': 'jodo'}, 'type': 'function'}]}, response_metadata={'token_usage': {'completion_tokens': 73, 'prompt_tokens': 1280, 'total_tokens': 1353, 'completion_time': 0.060833333, 'prompt_time': 0.165421722, 'queue_time': 0.11306630000000001, 'total_time': 0.226255055}, 'model_name': 'llama3-8b-8192', 'system_fingerprint': 'fp_a97cfe35ae', 'finish_reason': 'tool_calls', 'logprobs': None}, id='run-13f88c29-1399-475f-9a93-a8a3b035e01c-0', tool_calls=[{'name': 'jodo', 'args': {'a': 6, 'b': 3}, 'id': 'call_j7c5', 'type': 'tool_call'}], usage_metadata={'input_tokens': 1280, 'output_tokens': 73, 'total_tokens': 1353}), AIMessage(content='9', additional_kwargs={}, response_metadata={}, id='8fea9025-f994-4853-9e23-07284c41627c'), HumanMessage(content='Create a summary of the conversation above:', additional_kwargs={}, response_metadata={}, id='97b9c89e-e348-4340-8d17-820fa2945c0f'), AIMessage(content='Here is a summary of our conversation:\\n\\n* I had 3 balls and you took 2 from me, leaving me with 1 ball.\\n* I had 6 friends and each of them gave me 3 apples, so I got a total of 9 apples.', additional_kwargs={}, response_metadata={'token_usage': {'completion_tokens': 56, 'prompt_tokens': 104, 'total_tokens': 160, 'completion_time': 0.046666667, 'prompt_time': 0.012911815, 'queue_time': 0.018300335, 'total_time': 0.059578482}, 'model_name': 'llama3-8b-8192', 'system_fingerprint': 'fp_179b0f92c9', 'finish_reason': 'stop', 'logprobs': None}, id='run-55baefb0-22d2-49c8-af93-90bcc599ef5e-0', usage_metadata={'input_tokens': 104, 'output_tokens': 56, 'total_tokens': 160}), HumanMessage(content='You have 10 pens and five students. If you distribute them equally, how much each of them get?', additional_kwargs={}, response_metadata={}, id='e5b59544-1dd8-4180-9110-ed6832b29620'), AIMessage(content='', additional_kwargs={'tool_calls': [{'id': 'call_mqce', 'function': {'arguments': '{\"a\":10,\"b\":5}', 'name': 'jodo'}, 'type': 'function'}]}, response_metadata={'token_usage': {'completion_tokens': 73, 'prompt_tokens': 1277, 'total_tokens': 1350, 'completion_time': 0.060833333, 'prompt_time': 0.229179983, 'queue_time': 0.315220732, 'total_time': 0.290013316}, 'model_name': 'llama3-8b-8192', 'system_fingerprint': 'fp_a97cfe35ae', 'finish_reason': 'tool_calls', 'logprobs': None}, id='run-81681714-ad03-4d39-b71f-bd2f1b335d94-0', tool_calls=[{'name': 'jodo', 'args': {'a': 10, 'b': 5}, 'id': 'call_mqce', 'type': 'tool_call'}], usage_metadata={'input_tokens': 1277, 'output_tokens': 73, 'total_tokens': 1350}), AIMessage(content='15', additional_kwargs={}, response_metadata={}, id='91e4d956-038c-4bc4-a96d-4b00f48a5dc2'), HumanMessage(content='You were ten years old 5 years ago. How old are you now?', additional_kwargs={}, response_metadata={}, id='0faf29bd-f80a-425c-89b7-cbd235c9f376'), AIMessage(content='', additional_kwargs={'tool_calls': [{'id': 'call_5p8r', 'function': {'arguments': '{\"a\":10,\"b\":5}', 'name': 'jodo'}, 'type': 'function'}]}, response_metadata={'token_usage': {'completion_tokens': 73, 'prompt_tokens': 1271, 'total_tokens': 1344, 'completion_time': 0.060833333, 'prompt_time': 0.158834275, 'queue_time': 0.022832903000000015, 'total_time': 0.219667608}, 'model_name': 'llama3-8b-8192', 'system_fingerprint': 'fp_179b0f92c9', 'finish_reason': 'tool_calls', 'logprobs': None}, id='run-fcfffaf9-ee98-4f9c-a75a-e5d2c82823d5-0', tool_calls=[{'name': 'jodo', 'args': {'a': 10, 'b': 5}, 'id': 'call_5p8r', 'type': 'tool_call'}], usage_metadata={'input_tokens': 1271, 'output_tokens': 73, 'total_tokens': 1344}), AIMessage(content='15', additional_kwargs={}, response_metadata={}, id='9a5af8b5-3385-4a9c-bc46-39ce465fc7b2'), HumanMessage(content='You have 3 balls and then I took two from you. How many do have now?', additional_kwargs={}, response_metadata={}, id='59c94132-7c07-404a-8fa0-2132810aeaf4'), AIMessage(content='', additional_kwargs={'tool_calls': [{'id': 'call_88sh', 'function': {'arguments': '{\"a\":3,\"b\":-2}', 'name': 'jodo'}, 'type': 'function'}]}, response_metadata={'token_usage': {'completion_tokens': 80, 'prompt_tokens': 1274, 'total_tokens': 1354, 'completion_time': 0.066666667, 'prompt_time': 0.265691861, 'queue_time': 0.240619374, 'total_time': 0.332358528}, 'model_name': 'llama3-8b-8192', 'system_fingerprint': 'fp_6a6771ae9c', 'finish_reason': 'tool_calls', 'logprobs': None}, id='run-91cc4154-ca2d-4f8c-bbc8-db0d16808d9b-0', tool_calls=[{'name': 'jodo', 'args': {'a': 3, 'b': -2}, 'id': 'call_88sh', 'type': 'tool_call'}], usage_metadata={'input_tokens': 1274, 'output_tokens': 80, 'total_tokens': 1354})]\n",
      "[{'name': 'jodo', 'args': {'a': 3, 'b': -2}, 'id': 'call_88sh', 'type': 'tool_call'}]\n",
      "================================================================================================\n",
      "======================================current state=============================================\n",
      "[HumanMessage(content='You have 3 balls and then I took two from you. How many do have now?', additional_kwargs={}, response_metadata={}, id='321323cc-aca6-444c-92f8-940db9c6d3f0'), AIMessage(content='', additional_kwargs={'tool_calls': [{'id': 'call_t5ts', 'function': {'arguments': '{\"a\":3,\"b\":-2}', 'name': 'jodo'}, 'type': 'function'}]}, response_metadata={'token_usage': {'completion_tokens': 73, 'prompt_tokens': 1274, 'total_tokens': 1347, 'completion_time': 0.060833333, 'prompt_time': 0.159345903, 'queue_time': 0.02059138699999999, 'total_time': 0.220179236}, 'model_name': 'llama3-8b-8192', 'system_fingerprint': 'fp_179b0f92c9', 'finish_reason': 'tool_calls', 'logprobs': None}, id='run-6a4aa925-04ab-40b6-bf15-0713ccfe7fca-0', tool_calls=[{'name': 'jodo', 'args': {'a': 3, 'b': -2}, 'id': 'call_t5ts', 'type': 'tool_call'}], usage_metadata={'input_tokens': 1274, 'output_tokens': 73, 'total_tokens': 1347}), AIMessage(content='1', additional_kwargs={}, response_metadata={}, id='a66f3691-822a-47f4-b741-2144787c43df'), HumanMessage(content='You have six friends. You get 3 apples from each of your friend. How many apples did you get in total?', additional_kwargs={}, response_metadata={}, id='8309aa4a-8876-4fc0-b963-bf381c4e4662'), AIMessage(content='', additional_kwargs={'tool_calls': [{'id': 'call_j7c5', 'function': {'arguments': '{\"a\":6,\"b\":3}', 'name': 'jodo'}, 'type': 'function'}]}, response_metadata={'token_usage': {'completion_tokens': 73, 'prompt_tokens': 1280, 'total_tokens': 1353, 'completion_time': 0.060833333, 'prompt_time': 0.165421722, 'queue_time': 0.11306630000000001, 'total_time': 0.226255055}, 'model_name': 'llama3-8b-8192', 'system_fingerprint': 'fp_a97cfe35ae', 'finish_reason': 'tool_calls', 'logprobs': None}, id='run-13f88c29-1399-475f-9a93-a8a3b035e01c-0', tool_calls=[{'name': 'jodo', 'args': {'a': 6, 'b': 3}, 'id': 'call_j7c5', 'type': 'tool_call'}], usage_metadata={'input_tokens': 1280, 'output_tokens': 73, 'total_tokens': 1353}), AIMessage(content='9', additional_kwargs={}, response_metadata={}, id='8fea9025-f994-4853-9e23-07284c41627c'), HumanMessage(content='Create a summary of the conversation above:', additional_kwargs={}, response_metadata={}, id='97b9c89e-e348-4340-8d17-820fa2945c0f'), AIMessage(content='Here is a summary of our conversation:\\n\\n* I had 3 balls and you took 2 from me, leaving me with 1 ball.\\n* I had 6 friends and each of them gave me 3 apples, so I got a total of 9 apples.', additional_kwargs={}, response_metadata={'token_usage': {'completion_tokens': 56, 'prompt_tokens': 104, 'total_tokens': 160, 'completion_time': 0.046666667, 'prompt_time': 0.012911815, 'queue_time': 0.018300335, 'total_time': 0.059578482}, 'model_name': 'llama3-8b-8192', 'system_fingerprint': 'fp_179b0f92c9', 'finish_reason': 'stop', 'logprobs': None}, id='run-55baefb0-22d2-49c8-af93-90bcc599ef5e-0', usage_metadata={'input_tokens': 104, 'output_tokens': 56, 'total_tokens': 160}), HumanMessage(content='You have 10 pens and five students. If you distribute them equally, how much each of them get?', additional_kwargs={}, response_metadata={}, id='e5b59544-1dd8-4180-9110-ed6832b29620'), AIMessage(content='', additional_kwargs={'tool_calls': [{'id': 'call_mqce', 'function': {'arguments': '{\"a\":10,\"b\":5}', 'name': 'jodo'}, 'type': 'function'}]}, response_metadata={'token_usage': {'completion_tokens': 73, 'prompt_tokens': 1277, 'total_tokens': 1350, 'completion_time': 0.060833333, 'prompt_time': 0.229179983, 'queue_time': 0.315220732, 'total_time': 0.290013316}, 'model_name': 'llama3-8b-8192', 'system_fingerprint': 'fp_a97cfe35ae', 'finish_reason': 'tool_calls', 'logprobs': None}, id='run-81681714-ad03-4d39-b71f-bd2f1b335d94-0', tool_calls=[{'name': 'jodo', 'args': {'a': 10, 'b': 5}, 'id': 'call_mqce', 'type': 'tool_call'}], usage_metadata={'input_tokens': 1277, 'output_tokens': 73, 'total_tokens': 1350}), AIMessage(content='15', additional_kwargs={}, response_metadata={}, id='91e4d956-038c-4bc4-a96d-4b00f48a5dc2'), HumanMessage(content='You were ten years old 5 years ago. How old are you now?', additional_kwargs={}, response_metadata={}, id='0faf29bd-f80a-425c-89b7-cbd235c9f376'), AIMessage(content='', additional_kwargs={'tool_calls': [{'id': 'call_5p8r', 'function': {'arguments': '{\"a\":10,\"b\":5}', 'name': 'jodo'}, 'type': 'function'}]}, response_metadata={'token_usage': {'completion_tokens': 73, 'prompt_tokens': 1271, 'total_tokens': 1344, 'completion_time': 0.060833333, 'prompt_time': 0.158834275, 'queue_time': 0.022832903000000015, 'total_time': 0.219667608}, 'model_name': 'llama3-8b-8192', 'system_fingerprint': 'fp_179b0f92c9', 'finish_reason': 'tool_calls', 'logprobs': None}, id='run-fcfffaf9-ee98-4f9c-a75a-e5d2c82823d5-0', tool_calls=[{'name': 'jodo', 'args': {'a': 10, 'b': 5}, 'id': 'call_5p8r', 'type': 'tool_call'}], usage_metadata={'input_tokens': 1271, 'output_tokens': 73, 'total_tokens': 1344}), AIMessage(content='15', additional_kwargs={}, response_metadata={}, id='9a5af8b5-3385-4a9c-bc46-39ce465fc7b2'), HumanMessage(content='You have 3 balls and then I took two from you. How many do have now?', additional_kwargs={}, response_metadata={}, id='59c94132-7c07-404a-8fa0-2132810aeaf4'), AIMessage(content='', additional_kwargs={'tool_calls': [{'id': 'call_88sh', 'function': {'arguments': '{\"a\":3,\"b\":-2}', 'name': 'jodo'}, 'type': 'function'}]}, response_metadata={'token_usage': {'completion_tokens': 80, 'prompt_tokens': 1274, 'total_tokens': 1354, 'completion_time': 0.066666667, 'prompt_time': 0.265691861, 'queue_time': 0.240619374, 'total_time': 0.332358528}, 'model_name': 'llama3-8b-8192', 'system_fingerprint': 'fp_6a6771ae9c', 'finish_reason': 'tool_calls', 'logprobs': None}, id='run-91cc4154-ca2d-4f8c-bbc8-db0d16808d9b-0', tool_calls=[{'name': 'jodo', 'args': {'a': 3, 'b': -2}, 'id': 'call_88sh', 'type': 'tool_call'}], usage_metadata={'input_tokens': 1274, 'output_tokens': 80, 'total_tokens': 1354}), AIMessage(content='1', additional_kwargs={}, response_metadata={}, id='ea5fc75e-dedb-4b49-a39f-7f28fc7bd7cd')]\n",
      "================================================================================================\n",
      "========================================response================================================\n",
      "content='' additional_kwargs={'tool_calls': [{'id': 'call_6qyh', 'function': {'arguments': '{\"a\":6,\"b\":3}', 'name': 'jodo'}, 'type': 'function'}]} response_metadata={'token_usage': {'completion_tokens': 73, 'prompt_tokens': 1280, 'total_tokens': 1353, 'completion_time': 0.060833333, 'prompt_time': 0.157966463, 'queue_time': 0.02106814800000001, 'total_time': 0.218799796}, 'model_name': 'llama3-8b-8192', 'system_fingerprint': 'fp_6a6771ae9c', 'finish_reason': 'tool_calls', 'logprobs': None} id='run-2f43c93d-0ef9-40d5-80cd-ce7725e88d61-0' tool_calls=[{'name': 'jodo', 'args': {'a': 6, 'b': 3}, 'id': 'call_6qyh', 'type': 'tool_call'}] usage_metadata={'input_tokens': 1280, 'output_tokens': 73, 'total_tokens': 1353}\n",
      "================================================================================================\n",
      "======================================calling tools=============================================\n",
      "[HumanMessage(content='You have 3 balls and then I took two from you. How many do have now?', additional_kwargs={}, response_metadata={}, id='321323cc-aca6-444c-92f8-940db9c6d3f0'), AIMessage(content='', additional_kwargs={'tool_calls': [{'id': 'call_t5ts', 'function': {'arguments': '{\"a\":3,\"b\":-2}', 'name': 'jodo'}, 'type': 'function'}]}, response_metadata={'token_usage': {'completion_tokens': 73, 'prompt_tokens': 1274, 'total_tokens': 1347, 'completion_time': 0.060833333, 'prompt_time': 0.159345903, 'queue_time': 0.02059138699999999, 'total_time': 0.220179236}, 'model_name': 'llama3-8b-8192', 'system_fingerprint': 'fp_179b0f92c9', 'finish_reason': 'tool_calls', 'logprobs': None}, id='run-6a4aa925-04ab-40b6-bf15-0713ccfe7fca-0', tool_calls=[{'name': 'jodo', 'args': {'a': 3, 'b': -2}, 'id': 'call_t5ts', 'type': 'tool_call'}], usage_metadata={'input_tokens': 1274, 'output_tokens': 73, 'total_tokens': 1347}), AIMessage(content='1', additional_kwargs={}, response_metadata={}, id='a66f3691-822a-47f4-b741-2144787c43df'), HumanMessage(content='You have six friends. You get 3 apples from each of your friend. How many apples did you get in total?', additional_kwargs={}, response_metadata={}, id='8309aa4a-8876-4fc0-b963-bf381c4e4662'), AIMessage(content='', additional_kwargs={'tool_calls': [{'id': 'call_j7c5', 'function': {'arguments': '{\"a\":6,\"b\":3}', 'name': 'jodo'}, 'type': 'function'}]}, response_metadata={'token_usage': {'completion_tokens': 73, 'prompt_tokens': 1280, 'total_tokens': 1353, 'completion_time': 0.060833333, 'prompt_time': 0.165421722, 'queue_time': 0.11306630000000001, 'total_time': 0.226255055}, 'model_name': 'llama3-8b-8192', 'system_fingerprint': 'fp_a97cfe35ae', 'finish_reason': 'tool_calls', 'logprobs': None}, id='run-13f88c29-1399-475f-9a93-a8a3b035e01c-0', tool_calls=[{'name': 'jodo', 'args': {'a': 6, 'b': 3}, 'id': 'call_j7c5', 'type': 'tool_call'}], usage_metadata={'input_tokens': 1280, 'output_tokens': 73, 'total_tokens': 1353}), AIMessage(content='9', additional_kwargs={}, response_metadata={}, id='8fea9025-f994-4853-9e23-07284c41627c'), HumanMessage(content='Create a summary of the conversation above:', additional_kwargs={}, response_metadata={}, id='97b9c89e-e348-4340-8d17-820fa2945c0f'), AIMessage(content='Here is a summary of our conversation:\\n\\n* I had 3 balls and you took 2 from me, leaving me with 1 ball.\\n* I had 6 friends and each of them gave me 3 apples, so I got a total of 9 apples.', additional_kwargs={}, response_metadata={'token_usage': {'completion_tokens': 56, 'prompt_tokens': 104, 'total_tokens': 160, 'completion_time': 0.046666667, 'prompt_time': 0.012911815, 'queue_time': 0.018300335, 'total_time': 0.059578482}, 'model_name': 'llama3-8b-8192', 'system_fingerprint': 'fp_179b0f92c9', 'finish_reason': 'stop', 'logprobs': None}, id='run-55baefb0-22d2-49c8-af93-90bcc599ef5e-0', usage_metadata={'input_tokens': 104, 'output_tokens': 56, 'total_tokens': 160}), HumanMessage(content='You have 10 pens and five students. If you distribute them equally, how much each of them get?', additional_kwargs={}, response_metadata={}, id='e5b59544-1dd8-4180-9110-ed6832b29620'), AIMessage(content='', additional_kwargs={'tool_calls': [{'id': 'call_mqce', 'function': {'arguments': '{\"a\":10,\"b\":5}', 'name': 'jodo'}, 'type': 'function'}]}, response_metadata={'token_usage': {'completion_tokens': 73, 'prompt_tokens': 1277, 'total_tokens': 1350, 'completion_time': 0.060833333, 'prompt_time': 0.229179983, 'queue_time': 0.315220732, 'total_time': 0.290013316}, 'model_name': 'llama3-8b-8192', 'system_fingerprint': 'fp_a97cfe35ae', 'finish_reason': 'tool_calls', 'logprobs': None}, id='run-81681714-ad03-4d39-b71f-bd2f1b335d94-0', tool_calls=[{'name': 'jodo', 'args': {'a': 10, 'b': 5}, 'id': 'call_mqce', 'type': 'tool_call'}], usage_metadata={'input_tokens': 1277, 'output_tokens': 73, 'total_tokens': 1350}), AIMessage(content='15', additional_kwargs={}, response_metadata={}, id='91e4d956-038c-4bc4-a96d-4b00f48a5dc2'), HumanMessage(content='You were ten years old 5 years ago. How old are you now?', additional_kwargs={}, response_metadata={}, id='0faf29bd-f80a-425c-89b7-cbd235c9f376'), AIMessage(content='', additional_kwargs={'tool_calls': [{'id': 'call_5p8r', 'function': {'arguments': '{\"a\":10,\"b\":5}', 'name': 'jodo'}, 'type': 'function'}]}, response_metadata={'token_usage': {'completion_tokens': 73, 'prompt_tokens': 1271, 'total_tokens': 1344, 'completion_time': 0.060833333, 'prompt_time': 0.158834275, 'queue_time': 0.022832903000000015, 'total_time': 0.219667608}, 'model_name': 'llama3-8b-8192', 'system_fingerprint': 'fp_179b0f92c9', 'finish_reason': 'tool_calls', 'logprobs': None}, id='run-fcfffaf9-ee98-4f9c-a75a-e5d2c82823d5-0', tool_calls=[{'name': 'jodo', 'args': {'a': 10, 'b': 5}, 'id': 'call_5p8r', 'type': 'tool_call'}], usage_metadata={'input_tokens': 1271, 'output_tokens': 73, 'total_tokens': 1344}), AIMessage(content='15', additional_kwargs={}, response_metadata={}, id='9a5af8b5-3385-4a9c-bc46-39ce465fc7b2'), HumanMessage(content='You have 3 balls and then I took two from you. How many do have now?', additional_kwargs={}, response_metadata={}, id='59c94132-7c07-404a-8fa0-2132810aeaf4'), AIMessage(content='', additional_kwargs={'tool_calls': [{'id': 'call_88sh', 'function': {'arguments': '{\"a\":3,\"b\":-2}', 'name': 'jodo'}, 'type': 'function'}]}, response_metadata={'token_usage': {'completion_tokens': 80, 'prompt_tokens': 1274, 'total_tokens': 1354, 'completion_time': 0.066666667, 'prompt_time': 0.265691861, 'queue_time': 0.240619374, 'total_time': 0.332358528}, 'model_name': 'llama3-8b-8192', 'system_fingerprint': 'fp_6a6771ae9c', 'finish_reason': 'tool_calls', 'logprobs': None}, id='run-91cc4154-ca2d-4f8c-bbc8-db0d16808d9b-0', tool_calls=[{'name': 'jodo', 'args': {'a': 3, 'b': -2}, 'id': 'call_88sh', 'type': 'tool_call'}], usage_metadata={'input_tokens': 1274, 'output_tokens': 80, 'total_tokens': 1354}), AIMessage(content='1', additional_kwargs={}, response_metadata={}, id='ea5fc75e-dedb-4b49-a39f-7f28fc7bd7cd'), HumanMessage(content='You have six friends. You get 3 apples from each of your friend. How many apples did you get in total?', additional_kwargs={}, response_metadata={}, id='158d4682-0168-4d85-a8ca-367600ce6222'), AIMessage(content='', additional_kwargs={'tool_calls': [{'id': 'call_6qyh', 'function': {'arguments': '{\"a\":6,\"b\":3}', 'name': 'jodo'}, 'type': 'function'}]}, response_metadata={'token_usage': {'completion_tokens': 73, 'prompt_tokens': 1280, 'total_tokens': 1353, 'completion_time': 0.060833333, 'prompt_time': 0.157966463, 'queue_time': 0.02106814800000001, 'total_time': 0.218799796}, 'model_name': 'llama3-8b-8192', 'system_fingerprint': 'fp_6a6771ae9c', 'finish_reason': 'tool_calls', 'logprobs': None}, id='run-2f43c93d-0ef9-40d5-80cd-ce7725e88d61-0', tool_calls=[{'name': 'jodo', 'args': {'a': 6, 'b': 3}, 'id': 'call_6qyh', 'type': 'tool_call'}], usage_metadata={'input_tokens': 1280, 'output_tokens': 73, 'total_tokens': 1353})]\n",
      "[{'name': 'jodo', 'args': {'a': 6, 'b': 3}, 'id': 'call_6qyh', 'type': 'tool_call'}]\n",
      "================================================================================================\n",
      "NO MORE QUERIES\n"
     ]
    }
   ],
   "source": [
    "queries = [\n",
    "    \"You have six friends. You get 3 apples from each of your friend. How many apples did you get in total?\",\n",
    "    \"You have 3 balls and then I took two from you. How many do have now?\",\n",
    "    \"You were ten years old 5 years ago. How old are you now?\",\n",
    "    \"You have 10 pens and five students. If you distribute them equally, how much each of them get?\",\n",
    "]\n",
    "\n",
    "config = {\"configurable\": {\"thread_id\": \"1\"}}\n",
    "response = app_5.invoke(\n",
    "    input={\n",
    "        \"messages\":[],\n",
    "        \"queries\": queries,\n",
    "        \"summary\": \"\",\n",
    "    },\n",
    "    config=config,\n",
    ")"
   ]
  },
  {
   "cell_type": "code",
   "execution_count": 70,
   "id": "83755742-147c-43d1-bb3a-61488e30cc89",
   "metadata": {},
   "outputs": [
    {
     "data": {
      "text/plain": [
       "[HumanMessage(content='You have 3 balls and then I took two from you. How many do have now?', additional_kwargs={}, response_metadata={}, id='321323cc-aca6-444c-92f8-940db9c6d3f0'),\n",
       " AIMessage(content='', additional_kwargs={'tool_calls': [{'id': 'call_t5ts', 'function': {'arguments': '{\"a\":3,\"b\":-2}', 'name': 'jodo'}, 'type': 'function'}]}, response_metadata={'token_usage': {'completion_tokens': 73, 'prompt_tokens': 1274, 'total_tokens': 1347, 'completion_time': 0.060833333, 'prompt_time': 0.159345903, 'queue_time': 0.02059138699999999, 'total_time': 0.220179236}, 'model_name': 'llama3-8b-8192', 'system_fingerprint': 'fp_179b0f92c9', 'finish_reason': 'tool_calls', 'logprobs': None}, id='run-6a4aa925-04ab-40b6-bf15-0713ccfe7fca-0', tool_calls=[{'name': 'jodo', 'args': {'a': 3, 'b': -2}, 'id': 'call_t5ts', 'type': 'tool_call'}], usage_metadata={'input_tokens': 1274, 'output_tokens': 73, 'total_tokens': 1347}),\n",
       " AIMessage(content='1', additional_kwargs={}, response_metadata={}, id='a66f3691-822a-47f4-b741-2144787c43df'),\n",
       " HumanMessage(content='You have six friends. You get 3 apples from each of your friend. How many apples did you get in total?', additional_kwargs={}, response_metadata={}, id='8309aa4a-8876-4fc0-b963-bf381c4e4662'),\n",
       " AIMessage(content='', additional_kwargs={'tool_calls': [{'id': 'call_j7c5', 'function': {'arguments': '{\"a\":6,\"b\":3}', 'name': 'jodo'}, 'type': 'function'}]}, response_metadata={'token_usage': {'completion_tokens': 73, 'prompt_tokens': 1280, 'total_tokens': 1353, 'completion_time': 0.060833333, 'prompt_time': 0.165421722, 'queue_time': 0.11306630000000001, 'total_time': 0.226255055}, 'model_name': 'llama3-8b-8192', 'system_fingerprint': 'fp_a97cfe35ae', 'finish_reason': 'tool_calls', 'logprobs': None}, id='run-13f88c29-1399-475f-9a93-a8a3b035e01c-0', tool_calls=[{'name': 'jodo', 'args': {'a': 6, 'b': 3}, 'id': 'call_j7c5', 'type': 'tool_call'}], usage_metadata={'input_tokens': 1280, 'output_tokens': 73, 'total_tokens': 1353}),\n",
       " AIMessage(content='9', additional_kwargs={}, response_metadata={}, id='8fea9025-f994-4853-9e23-07284c41627c'),\n",
       " HumanMessage(content='Create a summary of the conversation above:', additional_kwargs={}, response_metadata={}, id='97b9c89e-e348-4340-8d17-820fa2945c0f'),\n",
       " AIMessage(content='Here is a summary of our conversation:\\n\\n* I had 3 balls and you took 2 from me, leaving me with 1 ball.\\n* I had 6 friends and each of them gave me 3 apples, so I got a total of 9 apples.', additional_kwargs={}, response_metadata={'token_usage': {'completion_tokens': 56, 'prompt_tokens': 104, 'total_tokens': 160, 'completion_time': 0.046666667, 'prompt_time': 0.012911815, 'queue_time': 0.018300335, 'total_time': 0.059578482}, 'model_name': 'llama3-8b-8192', 'system_fingerprint': 'fp_179b0f92c9', 'finish_reason': 'stop', 'logprobs': None}, id='run-55baefb0-22d2-49c8-af93-90bcc599ef5e-0', usage_metadata={'input_tokens': 104, 'output_tokens': 56, 'total_tokens': 160}),\n",
       " HumanMessage(content='You have 10 pens and five students. If you distribute them equally, how much each of them get?', additional_kwargs={}, response_metadata={}, id='e5b59544-1dd8-4180-9110-ed6832b29620'),\n",
       " AIMessage(content='', additional_kwargs={'tool_calls': [{'id': 'call_mqce', 'function': {'arguments': '{\"a\":10,\"b\":5}', 'name': 'jodo'}, 'type': 'function'}]}, response_metadata={'token_usage': {'completion_tokens': 73, 'prompt_tokens': 1277, 'total_tokens': 1350, 'completion_time': 0.060833333, 'prompt_time': 0.229179983, 'queue_time': 0.315220732, 'total_time': 0.290013316}, 'model_name': 'llama3-8b-8192', 'system_fingerprint': 'fp_a97cfe35ae', 'finish_reason': 'tool_calls', 'logprobs': None}, id='run-81681714-ad03-4d39-b71f-bd2f1b335d94-0', tool_calls=[{'name': 'jodo', 'args': {'a': 10, 'b': 5}, 'id': 'call_mqce', 'type': 'tool_call'}], usage_metadata={'input_tokens': 1277, 'output_tokens': 73, 'total_tokens': 1350}),\n",
       " AIMessage(content='15', additional_kwargs={}, response_metadata={}, id='91e4d956-038c-4bc4-a96d-4b00f48a5dc2'),\n",
       " HumanMessage(content='You were ten years old 5 years ago. How old are you now?', additional_kwargs={}, response_metadata={}, id='0faf29bd-f80a-425c-89b7-cbd235c9f376'),\n",
       " AIMessage(content='', additional_kwargs={'tool_calls': [{'id': 'call_5p8r', 'function': {'arguments': '{\"a\":10,\"b\":5}', 'name': 'jodo'}, 'type': 'function'}]}, response_metadata={'token_usage': {'completion_tokens': 73, 'prompt_tokens': 1271, 'total_tokens': 1344, 'completion_time': 0.060833333, 'prompt_time': 0.158834275, 'queue_time': 0.022832903000000015, 'total_time': 0.219667608}, 'model_name': 'llama3-8b-8192', 'system_fingerprint': 'fp_179b0f92c9', 'finish_reason': 'tool_calls', 'logprobs': None}, id='run-fcfffaf9-ee98-4f9c-a75a-e5d2c82823d5-0', tool_calls=[{'name': 'jodo', 'args': {'a': 10, 'b': 5}, 'id': 'call_5p8r', 'type': 'tool_call'}], usage_metadata={'input_tokens': 1271, 'output_tokens': 73, 'total_tokens': 1344}),\n",
       " AIMessage(content='15', additional_kwargs={}, response_metadata={}, id='9a5af8b5-3385-4a9c-bc46-39ce465fc7b2'),\n",
       " HumanMessage(content='You have 3 balls and then I took two from you. How many do have now?', additional_kwargs={}, response_metadata={}, id='59c94132-7c07-404a-8fa0-2132810aeaf4'),\n",
       " AIMessage(content='', additional_kwargs={'tool_calls': [{'id': 'call_88sh', 'function': {'arguments': '{\"a\":3,\"b\":-2}', 'name': 'jodo'}, 'type': 'function'}]}, response_metadata={'token_usage': {'completion_tokens': 80, 'prompt_tokens': 1274, 'total_tokens': 1354, 'completion_time': 0.066666667, 'prompt_time': 0.265691861, 'queue_time': 0.240619374, 'total_time': 0.332358528}, 'model_name': 'llama3-8b-8192', 'system_fingerprint': 'fp_6a6771ae9c', 'finish_reason': 'tool_calls', 'logprobs': None}, id='run-91cc4154-ca2d-4f8c-bbc8-db0d16808d9b-0', tool_calls=[{'name': 'jodo', 'args': {'a': 3, 'b': -2}, 'id': 'call_88sh', 'type': 'tool_call'}], usage_metadata={'input_tokens': 1274, 'output_tokens': 80, 'total_tokens': 1354}),\n",
       " AIMessage(content='1', additional_kwargs={}, response_metadata={}, id='ea5fc75e-dedb-4b49-a39f-7f28fc7bd7cd'),\n",
       " HumanMessage(content='You have six friends. You get 3 apples from each of your friend. How many apples did you get in total?', additional_kwargs={}, response_metadata={}, id='158d4682-0168-4d85-a8ca-367600ce6222'),\n",
       " AIMessage(content='', additional_kwargs={'tool_calls': [{'id': 'call_6qyh', 'function': {'arguments': '{\"a\":6,\"b\":3}', 'name': 'jodo'}, 'type': 'function'}]}, response_metadata={'token_usage': {'completion_tokens': 73, 'prompt_tokens': 1280, 'total_tokens': 1353, 'completion_time': 0.060833333, 'prompt_time': 0.157966463, 'queue_time': 0.02106814800000001, 'total_time': 0.218799796}, 'model_name': 'llama3-8b-8192', 'system_fingerprint': 'fp_6a6771ae9c', 'finish_reason': 'tool_calls', 'logprobs': None}, id='run-2f43c93d-0ef9-40d5-80cd-ce7725e88d61-0', tool_calls=[{'name': 'jodo', 'args': {'a': 6, 'b': 3}, 'id': 'call_6qyh', 'type': 'tool_call'}], usage_metadata={'input_tokens': 1280, 'output_tokens': 73, 'total_tokens': 1353}),\n",
       " AIMessage(content='9', additional_kwargs={}, response_metadata={}, id='0278ba05-3a7e-4d87-abfc-940ac5f1dab9')]"
      ]
     },
     "execution_count": 70,
     "metadata": {},
     "output_type": "execute_result"
    }
   ],
   "source": [
    "response[\"messages\"]"
   ]
  },
  {
   "cell_type": "code",
   "execution_count": 40,
   "id": "0e2ced51-2b0f-4c29-b0b0-a071346f7e50",
   "metadata": {},
   "outputs": [
    {
     "data": {
      "text/plain": [
       "True"
      ]
     },
     "execution_count": 40,
     "metadata": {},
     "output_type": "execute_result"
    }
   ],
   "source": [
    "not 0"
   ]
  },
  {
   "cell_type": "code",
   "execution_count": null,
   "id": "f6d88997-281f-45e7-bfe4-d50ee9c66a72",
   "metadata": {},
   "outputs": [],
   "source": []
  },
  {
   "cell_type": "code",
   "execution_count": null,
   "id": "a006ecc1-6868-4095-a7f3-2f38c7c2145e",
   "metadata": {},
   "outputs": [],
   "source": []
  },
  {
   "cell_type": "code",
   "execution_count": 65,
   "id": "b65be597-4b44-4885-94f8-dea4b3fd0c1c",
   "metadata": {},
   "outputs": [
    {
     "data": {
      "text/plain": [
       "4"
      ]
     },
     "execution_count": 65,
     "metadata": {},
     "output_type": "execute_result"
    }
   ],
   "source": [
    "[1,2,3,400,4].pop()"
   ]
  },
  {
   "cell_type": "code",
   "execution_count": null,
   "id": "853dc16b-dc51-4fdd-9d29-f1ae5c390b81",
   "metadata": {},
   "outputs": [],
   "source": [
    "\n",
    "tools = [\n",
    "    Tool(\n",
    "        name=\"add\",\n",
    "        func=add,\n",
    "        description=\"Adds two numbers.\",\n",
    "    ),\n",
    "    Tool(\n",
    "        name=\"subtract\",\n",
    "        func=subtract,\n",
    "        description=\"Subtracts two numbers.\",\n",
    "    ),\n",
    "    Tool(\n",
    "        name=\"multiply\",\n",
    "        func=multiply,\n",
    "        description=\"Multiplies two numbers.\",\n",
    "    ),\n",
    "    Tool(\n",
    "        name=\"divide\",\n",
    "        func=divide,\n",
    "        description=\"Divides two numbers.\",\n",
    "    ),\n",
    "]\n",
    "\n",
    "prompt = ChatPromptTemplate.from_messages(\n",
    "    [\n",
    "        (\"system\", \"You are a helpful calculator. You have the following functions available to you: {functions} \\n. When using a function, reply in the following format. \\n```tool_code\\n{{ function_name: <function name>, arguments: {{ arg1: <value>, arg2: <value> }} }} \\n```\"),\n",
    "        MessagesPlaceholder(variable_name=\"messages\"),\n",
    "    ]\n",
    ")\n",
    "\n",
    "def agent(messages, agent_scratchpad):\n",
    "    formatted_messages = prompt.format_messages(\n",
    "        messages=messages,\n",
    "        agent_scratchpad=format_to_openai_function_messages(agent_scratchpad),\n",
    "    )\n",
    "    response = llm.invoke(formatted_messages)\n",
    "    return response\n",
    "\n",
    "output_parser = OpenAIFunctionsAgentOutputParser()\n",
    "\n",
    "tool_executor = ToolExecutor(tools)\n",
    "\n",
    "class AgentState:\n",
    "    messages: List\n",
    "    agent_scratchpad: List\n",
    "    tool_output: dict\n",
    "\n",
    "\n",
    "def call_tool(state):\n",
    "    \"\"\"Calls the tool and updates intermediate steps\"\"\"\n",
    "    response = output_parser.parse(state.intermediate_steps.pop())\n",
    "    \n",
    "    if response.tool not in [\"add\", \"subtract\", \"multiply\", \"divide\"]:\n",
    "        return {\"messages\": state.messages, \"agent_scratchpad\":state.agent_scratchpad, \"tool_output\": None, \"intermediate_steps\":state.intermediate_steps}\n",
    "    \n",
    "    tool_output = tool_executor.invoke(\n",
    "        {\"tool_call\": response.tool, \"tool_input\": response.tool_input}\n",
    "    )\n",
    "    \n",
    "    state.intermediate_steps.append(AIMessage(content=str(tool_output),tool_calls=[])) # Add output as agent message\n",
    "    return {\"messages\": state.messages, \"agent_scratchpad\":state.agent_scratchpad, \"tool_output\": tool_output, \"intermediate_steps\":state.intermediate_steps}\n",
    "    \n",
    "def end(state):\n",
    "    return {\"messages\": state.messages, \"agent_scratchpad\": state.agent_scratchpad, \"tool_output\": None, \"intermediate_steps\": state.intermediate_steps}\n",
    "\n",
    "workflow = StateGraph(AgentState)\n",
    "workflow.add_node(\"agent\", agent)\n",
    "workflow.add_node(\"call_tool\", call_tool)\n",
    "workflow.add_node(\"end\", end)\n",
    "\n",
    "workflow.set_entry_point(\"agent\")\n",
    "workflow.add_conditional_edges(\n",
    "    \"agent\",\n",
    "    should_continue,\n",
    "    {\n",
    "      \"call_tool\": \"call_tool\",\n",
    "      \"end\": \"end\"\n",
    "     }\n",
    ")\n",
    "workflow.add_edge(\"call_tool\",\"agent\")\n",
    "\n",
    "app = workflow.compile()\n",
    "\n",
    "# 8. Run the Agent\n",
    "inputs = {\"messages\": [HumanMessage(content=\"What is 2 + 2 and then multiply by 10?\")] , \"agent_scratchpad\": [], \"intermediate_steps\": [], \"tool_output\": None}\n",
    "result = app.invoke(inputs)\n",
    "\n",
    "print(\"Result: \")\n",
    "if result[\"tool_output\"] is not None:\n",
    "    print(result[\"tool_output\"])\n",
    "else:\n",
    "    print(result[\"messages\"][-1].content)"
   ]
  },
  {
   "cell_type": "code",
   "execution_count": null,
   "id": "8f470af8-50ba-428e-ab99-3377368fb4dd",
   "metadata": {},
   "outputs": [],
   "source": []
  },
  {
   "cell_type": "code",
   "execution_count": null,
   "id": "821616cc-020b-4a43-8552-c46be0350b99",
   "metadata": {},
   "outputs": [],
   "source": []
  },
  {
   "cell_type": "code",
   "execution_count": null,
   "id": "74230715-2eb6-4f2f-95bf-5370f62e8fa3",
   "metadata": {},
   "outputs": [],
   "source": []
  },
  {
   "cell_type": "code",
   "execution_count": 14,
   "id": "67b01257-a212-4ecc-a5e7-433ddecd58fc",
   "metadata": {},
   "outputs": [
    {
     "ename": "NameError",
     "evalue": "name 'tools' is not defined",
     "output_type": "error",
     "traceback": [
      "\u001b[1;31m---------------------------------------------------------------------------\u001b[0m",
      "\u001b[1;31mNameError\u001b[0m                                 Traceback (most recent call last)",
      "Cell \u001b[1;32mIn[14], line 1\u001b[0m\n\u001b[1;32m----> 1\u001b[0m tools_dict \u001b[38;5;241m=\u001b[39m {tool\u001b[38;5;241m.\u001b[39m\u001b[38;5;18m__name__\u001b[39m: tool \u001b[38;5;28;01mfor\u001b[39;00m tool \u001b[38;5;129;01min\u001b[39;00m \u001b[43mtools\u001b[49m}\n",
      "\u001b[1;31mNameError\u001b[0m: name 'tools' is not defined"
     ]
    }
   ],
   "source": [
    "tools_dict = {tool.__name__: tool for tool in tools}"
   ]
  },
  {
   "cell_type": "code",
   "execution_count": 26,
   "id": "6ba26f3d-02a3-4426-aa34-69497bae01b6",
   "metadata": {},
   "outputs": [
    {
     "data": {
      "text/plain": [
       "4"
      ]
     },
     "execution_count": 26,
     "metadata": {},
     "output_type": "execute_result"
    }
   ],
   "source": [
    "tools_dict[\"add\"](1, 3)"
   ]
  },
  {
   "cell_type": "code",
   "execution_count": null,
   "id": "fc4b42c4-026d-42c6-ac40-c039fbe5f568",
   "metadata": {},
   "outputs": [],
   "source": []
  },
  {
   "cell_type": "code",
   "execution_count": null,
   "id": "c94d1199-8eb1-473d-8fd1-34de17daf0cb",
   "metadata": {},
   "outputs": [],
   "source": []
  },
  {
   "cell_type": "code",
   "execution_count": null,
   "id": "65b95797-7816-4567-a960-b3015356cbf2",
   "metadata": {},
   "outputs": [],
   "source": []
  },
  {
   "cell_type": "code",
   "execution_count": null,
   "id": "40f647c2-c013-453d-8238-9620399b2633",
   "metadata": {},
   "outputs": [],
   "source": []
  }
 ],
 "metadata": {
  "kernelspec": {
   "display_name": "Python 3 (ipykernel)",
   "language": "python",
   "name": "python3"
  },
  "language_info": {
   "codemirror_mode": {
    "name": "ipython",
    "version": 3
   },
   "file_extension": ".py",
   "mimetype": "text/x-python",
   "name": "python",
   "nbconvert_exporter": "python",
   "pygments_lexer": "ipython3",
   "version": "3.12.0"
  }
 },
 "nbformat": 4,
 "nbformat_minor": 5
}
