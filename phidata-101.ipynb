{
 "cells": [
  {
   "cell_type": "code",
   "execution_count": 1,
   "id": "c59a02c7-d15d-44a9-b6ae-286c905f10af",
   "metadata": {},
   "outputs": [],
   "source": [
    "import os\n",
    "import getpass"
   ]
  },
  {
   "cell_type": "code",
   "execution_count": 2,
   "id": "d7f2593a-e5c3-4ecc-be53-3696d89511d6",
   "metadata": {},
   "outputs": [],
   "source": [
    "from phi.agent import Agent\n",
    "from phi.model.groq import Groq\n",
    "from phi.embedder.huggingface import HuggingfaceCustomEmbedder\n",
    "from phi.embedder.sentence_transformer import SentenceTransformerEmbedder\n",
    "from phi.knowledge.pdf import PDFReader, PDFKnowledgeBase\n",
    "from phi.vectordb.chroma import ChromaDb"
   ]
  },
  {
   "cell_type": "code",
   "execution_count": 3,
   "id": "addf9cec-c41e-402d-90e8-a2b0d259f8df",
   "metadata": {},
   "outputs": [
    {
     "name": "stdin",
     "output_type": "stream",
     "text": [
      " ········\n"
     ]
    }
   ],
   "source": [
    "os.environ[\"GROQ_API_KEY\"] = getpass.getpass()"
   ]
  },
  {
   "cell_type": "code",
   "execution_count": 4,
   "id": "f4663756-3fe0-40fe-8bdb-e1b9cfe6c9a9",
   "metadata": {},
   "outputs": [],
   "source": [
    "model = Groq(id=\"llama3-8b-8192\")"
   ]
  },
  {
   "cell_type": "code",
   "execution_count": 5,
   "id": "a110e2b2-b148-4c57-b781-22b53ae229db",
   "metadata": {},
   "outputs": [],
   "source": [
    "# from phi.llm.groq import Groq\n",
    "from phi.document.chunking.recursive import RecursiveChunking"
   ]
  },
  {
   "cell_type": "code",
   "execution_count": 6,
   "id": "9f3291e8-d09e-4452-8991-65be6ea0b854",
   "metadata": {},
   "outputs": [],
   "source": [
    "reader = PDFReader(chunk_size=2000, chunking_strategy=RecursiveChunking())"
   ]
  },
  {
   "cell_type": "code",
   "execution_count": 7,
   "id": "b8b10675-e455-4c52-b6ff-866f005ec696",
   "metadata": {},
   "outputs": [],
   "source": [
    "vector_db = ChromaDb(\n",
    "    embedder=SentenceTransformerEmbedder(\n",
    "        dimensions=768,\n",
    "        model=\"sentence-transformers/all-mpnet-base-v2\",\n",
    "    ),\n",
    "    collection=\"a_dance_with_dragons\",\n",
    ")"
   ]
  },
  {
   "cell_type": "code",
   "execution_count": 8,
   "id": "13ba95c6-9336-4a95-ad6f-c3b3f685436d",
   "metadata": {},
   "outputs": [],
   "source": [
    "knowledge_base = PDFKnowledgeBase(\n",
    "    path=\"./A_Dance_With_Dragons.pdf\",\n",
    "    reader=reader,\n",
    "    vector_db=vector_db,\n",
    ")"
   ]
  },
  {
   "cell_type": "code",
   "execution_count": 9,
   "id": "6885a2d6-ca5c-422d-a95b-0ac0451916e1",
   "metadata": {},
   "outputs": [
    {
     "data": {
      "text/html": [
       "<pre style=\"white-space:pre;overflow-x:auto;line-height:normal;font-family:Menlo,'DejaVu Sans Mono',consolas,'Courier New',monospace\"><span style=\"color: #000080; text-decoration-color: #000080\">INFO    </span> Creating collection                                                                                       \n",
       "</pre>\n"
      ],
      "text/plain": [
       "\u001b[34mINFO    \u001b[0m Creating collection                                                                                       \n"
      ]
     },
     "metadata": {},
     "output_type": "display_data"
    },
    {
     "data": {
      "text/html": [
       "<pre style=\"white-space:pre;overflow-x:auto;line-height:normal;font-family:Menlo,'DejaVu Sans Mono',consolas,'Courier New',monospace\"><span style=\"color: #000080; text-decoration-color: #000080\">INFO    </span> Loading knowledge base                                                                                    \n",
       "</pre>\n"
      ],
      "text/plain": [
       "\u001b[34mINFO    \u001b[0m Loading knowledge base                                                                                    \n"
      ]
     },
     "metadata": {},
     "output_type": "display_data"
    },
    {
     "data": {
      "text/html": [
       "<pre style=\"white-space:pre;overflow-x:auto;line-height:normal;font-family:Menlo,'DejaVu Sans Mono',consolas,'Courier New',monospace\"><span style=\"color: #000080; text-decoration-color: #000080\">INFO    </span> Reading: A_Dance_With_Dragons                                                                             \n",
       "</pre>\n"
      ],
      "text/plain": [
       "\u001b[34mINFO    \u001b[0m Reading: A_Dance_With_Dragons                                                                             \n"
      ]
     },
     "metadata": {},
     "output_type": "display_data"
    },
    {
     "data": {
      "text/html": [
       "<pre style=\"white-space:pre;overflow-x:auto;line-height:normal;font-family:Menlo,'DejaVu Sans Mono',consolas,'Courier New',monospace\"><span style=\"color: #000080; text-decoration-color: #000080\">INFO    </span> Added <span style=\"color: #008080; text-decoration-color: #008080; font-weight: bold\">890</span> documents to knowledge base                                                                     \n",
       "</pre>\n"
      ],
      "text/plain": [
       "\u001b[34mINFO    \u001b[0m Added \u001b[1;36m890\u001b[0m documents to knowledge base                                                                     \n"
      ]
     },
     "metadata": {},
     "output_type": "display_data"
    }
   ],
   "source": [
    "knowledge_base.load()"
   ]
  },
  {
   "cell_type": "code",
   "execution_count": 26,
   "id": "e052566f-6a7b-496b-a5af-8b06a6f6c60f",
   "metadata": {},
   "outputs": [],
   "source": [
    "del agent"
   ]
  },
  {
   "cell_type": "code",
   "execution_count": 27,
   "id": "aeda718b-24bf-4d25-83b5-9f7ee578defb",
   "metadata": {},
   "outputs": [],
   "source": [
    "agent = Agent(\n",
    "    model=model,\n",
    "    knowledge=knowledge_base,\n",
    "    add_history_to_messages=True,\n",
    "    num_history_responses=3,\n",
    "    # add_references=True,\n",
    "    show_tool_calls=True,\n",
    "    markdown=True,\n",
    ")"
   ]
  },
  {
   "cell_type": "code",
   "execution_count": 28,
   "id": "9e94bdfb-27bd-4532-ba87-555287203c9c",
   "metadata": {},
   "outputs": [
    {
     "data": {
      "application/vnd.jupyter.widget-view+json": {
       "model_id": "be57e5bde2d545b6aca80619012cbd7a",
       "version_major": 2,
       "version_minor": 0
      },
      "text/plain": [
       "Output()"
      ]
     },
     "metadata": {},
     "output_type": "display_data"
    },
    {
     "data": {
      "text/html": [
       "<pre style=\"white-space:pre;overflow-x:auto;line-height:normal;font-family:Menlo,'DejaVu Sans Mono',consolas,'Courier New',monospace\"></pre>\n"
      ],
      "text/plain": []
     },
     "metadata": {},
     "output_type": "display_data"
    }
   ],
   "source": [
    "agent.print_response(\"How many times had Varamyr died?\", stream=True)"
   ]
  },
  {
   "cell_type": "code",
   "execution_count": 31,
   "id": "121a2ef9-9c4a-4f2e-aee7-01409c0fe360",
   "metadata": {},
   "outputs": [
    {
     "data": {
      "application/vnd.jupyter.widget-view+json": {
       "model_id": "a3eafc4012d044898d42a2def5855aa0",
       "version_major": 2,
       "version_minor": 0
      },
      "text/plain": [
       "Output()"
      ]
     },
     "metadata": {},
     "output_type": "display_data"
    },
    {
     "data": {
      "text/html": [
       "<pre style=\"white-space:pre;overflow-x:auto;line-height:normal;font-family:Menlo,'DejaVu Sans Mono',consolas,'Courier New',monospace\"></pre>\n"
      ],
      "text/plain": []
     },
     "metadata": {},
     "output_type": "display_data"
    }
   ],
   "source": [
    "agent.print_response(\"What was the name of crow who had slain Orell?\", stream=True)"
   ]
  },
  {
   "cell_type": "code",
   "execution_count": 34,
   "id": "0c097ff6-8d92-4bf3-8847-eef142e3b7b1",
   "metadata": {},
   "outputs": [],
   "source": [
    "runresponse = agent.run(\"Who is the current King, Lord of the seven kingdoms, protector of the realm?\")"
   ]
  },
  {
   "cell_type": "code",
   "execution_count": 38,
   "id": "cf38c10c-bba3-4b20-b4f4-d193f6028642",
   "metadata": {},
   "outputs": [
    {
     "data": {
      "text/plain": [
       "[Message(role='system', content='## Instructions\\nUse markdown to format your answers.', name=None, tool_call_id=None, tool_calls=None, audio=None, images=None, videos=None, tool_name=None, tool_args=None, tool_call_error=None, stop_after_tool_call=False, metrics={}, references=None, created_at=1734952058),\n",
       " Message(role='user', content='Who is the current King, Lord of the seven kingdoms, protector of the realm?', name=None, tool_call_id=None, tool_calls=None, audio=None, images=None, videos=None, tool_name=None, tool_args=None, tool_call_error=None, stop_after_tool_call=False, metrics={}, references=None, created_at=1734952058),\n",
       " Message(role='assistant', content=None, name=None, tool_call_id=None, tool_calls=[{'id': 'call_zv35', 'function': {'arguments': '{\"query\":\"Who is the current King, Lord of the Seven Kingdoms, and Protector of the Realm?\"}', 'name': 'search_knowledge_base'}, 'type': 'function'}], audio=None, images=None, videos=None, tool_name=None, tool_args=None, tool_call_error=None, stop_after_tool_call=False, metrics={'time': 1.2729923999868333, 'input_tokens': 1173, 'prompt_tokens': 1173, 'output_tokens': 85, 'completion_tokens': 85, 'total_tokens': 1258, 'completion_time': 0.070833333, 'prompt_time': 0.147805626, 'queue_time': 0.0006000329999999998, 'total_time': 0.218638959}, references=None, created_at=1734952059),\n",
       " Message(role='tool', content='[\\n  {\\n    \"content\": \"\\\\u2014LADY MARGOT, a cousin, m. Lord Titus Peake, \\\\u2014bannermen and sworn swords, Lords of the West: \\\\u2014DAMON MARBRAND, Lord of Ashemark, \\\\u2014ROLAND CRAKEHALL, Lord of Crakehall, \\\\u2014SEBASTON FARMAN, Lord of Fair Isle, \\\\u2014TYTOS BRAX, Lord of Hornvale, \\\\u2014QUENTEN BANEFORT, Lord of Banefort, \\\\u2014SER HARYS SWYFT, goodfather to Ser Kevan Lannister, \\\\u2014REGENARD ESTREN, Lord of Wyndhall, \\\\u2014GAWEN WESTERLING, Lord of the Crag, \\\\u2014LORD SELMOND STACKSPEAR, \\\\u2014TERRENCE KENNING, Lord of Kayce, \",\\n    \"meta_data\": {}\\n  },\\n  {\\n    \"content\": \" \\\\u2014her sworn shield, {SER ARYS OAKHEART}, slain by Areo Hotah, \\\\u2014her bedmaid and companion, ROSAMUND LANNISTER, a distant cousin, \\\\u2014his bannermen, the Lords of Dorne: \\\\u2014ANDERS YRONWOOD, Lord of Yronwood, Warden of the Stone Way, the Bloodroyal, \\\\u2014YNYS, his eldest daughter, m. Ryon Allyrion, \\\\u2014SER CLETUS, his son and heir, \\\\u2014GWYNETH, his youngest daughter, a girl of twelve, \\\\u2014HARMEN ULLER, Lord of Hellholt, \\\\u2014DELONNE ALLYRION, Lady of Godsgrace, \\\\u2014RYON ALLYRION, her son and heir, \\\\u2014DAGOS MANWOODY, Lord of Kingsgrave, \\\\u2014LARRA BLACKMONT, Lady of Blackmont, \",\\n    \"meta_data\": {}\\n  },\\n  {\\n    \"content\": \"\\\\u2014{CRAGORN}, who blew the hellhorn and died, \\\\u2014his lords bannermen: \\\\u2014ERIK IRONMAKER, called ERIK ANVIL-BREAKER and ERIK THE JUST, Lord Steward of the Iron Islands, castellan of Pyke, an old man once renowned, m. Asha Greyjoy, \\\\u2014lords of Pyke: \\\\u2014GERMUND BOTLEY, Lord of Lordsport, \\\\u2014WALDON WYNCH, Lord of Iron Holt, \\\\u2014lords of Old Wyk: \\\\u2014DUNSTAN DRUMM, The Drumm, Lord of Old Wyk, \\\\u2014NORNE GOODBROTHER, of Shatterstone, \\\\u2014THE STONEHOUSE, \\\\u2014lords of Great Wyk: \\\\u2014GOROLD GOODBROTHER, Lord of the Hammerhorn, \\\\u2014TRISTON FARWYND, Lord of Sealskin Point, \",\\n    \"meta_data\": {}\\n  },\\n  {\\n    \"content\": \" \\\\u2014CHEZDHAR ZO RHAEZN, MAEZON ZO RHAEZN, GRAZDHAN ZO RHAEZN, noblemen and brothers, mocked as THE CLANKER LORDS, \\\\u2014THE CHARIOTEER, THE BEASTMASTER, THE PERFUMED HERO, noblemen and slavers, \\\\u2014in Astapor, the Red City: \\\\u2014CLEON THE GREAT, called THE BUTCHER KING, \\\\u2014CLEON II, his successor, king for eight days, \\\\u2014KING CUTTHROAT, a barber, slit the throat of Cleon II to steal his crown, \\\\u2014QUEEN WHORE, concubine to King Cleon II, claimed the throne after his murder. THE QUEEN ACROSS THE WATER DAENERYS TARGARYEN, the First of Her Name, Queen of Meereen, Queen of the Andals and the Rhoynar and the First Men, Lord of the Seven Kingdoms, Protector of the Realm, Khaleesi of the Great Grass Sea, called DAENERYS STORMBORN, the UNBURNT, MOTHER OF DRAGONS, \\\\u2014her dragons, DROGON, VISERION, RHAEGAL, \\\\u2014her brother, {RHAEGAR}, Prince of Dragonstone, slain by Robert Baratheon on the Trident, \\\\u2014Rhaegar\\\\u2019s daughter, {RHAENYS}, murdered during the Sack of King\\\\u2019s Landing, \",\\n    \"meta_data\": {}\\n  },\\n  {\\n    \"content\": \" \\\\u2014NYMELLA TOLAND, Lady of Ghost Hill, \\\\u2014QUENTYN QORGYLE, Lord of Sandstone, \\\\u2014SER DEZIEL DALT, the Knight of Lemonwood, \\\\u2014FRANKLYN FOWLER, Lord of Skyreach, called THE OLD HAWK, the Warden of the Prince\\\\u2019s Pass, \\\\u2014SER SYMON SANTAGAR, the Knight of Spottswood, \\\\u2014EDRIC DAYNE, Lord of Starfall, a squire, \\\\u2014TREBOR JORDAYNE, Lord of the Tor, \\\\u2014TREMOND GARGALEN, Lord of Salt Shore, \\\\u2014DAERON VAITH, Lord of the Red Dunes. HOUSE STARK The Starks trace their descent from Brandon the Builder and the Kings of Winter. For thousands of years, they ruled from Winterfell as Kings in the North, until Torrhen Stark, the King Who Knelt, chose to swear fealty to Aegon the Dragon rather than give battle. When Lord Eddard Stark of Winterfell was executed by King Joffrey, the northmen foreswore their loyalty to the Iron Throne and proclaimed Lord Eddard\\\\u2019s son Robb as King in the North. During the War of the Five Kings, he won every battle, but was betrayed and murdered by the Freys and Boltons at the Twins during his uncle\\\\u2019s wedding. \",\\n    \"meta_data\": {}\\n  }\\n]', name=None, tool_call_id='call_zv35', tool_calls=None, audio=None, images=None, videos=None, tool_name='search_knowledge_base', tool_args={'query': 'Who is the current King, Lord of the Seven Kingdoms, and Protector of the Realm?'}, tool_call_error=False, stop_after_tool_call=False, metrics={'time': 4.107890099985525}, references=None, created_at=1734952063),\n",
       " Message(role='assistant', content='According to the text, the current King, Lord of the Seven Kingdoms, and Protector of the Realm is Daenerys Stormborn Targaryen, the Queen of Meereen, Queen of the Andals and the Rhoyanar and the First Men, Lord of the Seven Kingdoms, Protector of the Realm, Khaleesi of the Great Grass Sea, called Daenerys Stormborn, the Unburnt, Mother of Dragons.', name=None, tool_call_id=None, tool_calls=None, audio=None, images=None, videos=None, tool_name=None, tool_args=None, tool_call_error=None, stop_after_tool_call=False, metrics={'time': 1.431552299996838, 'input_tokens': 2647, 'prompt_tokens': 2647, 'output_tokens': 93, 'completion_tokens': 93, 'total_tokens': 2740, 'completion_time': 0.0775, 'prompt_time': 0.344234917, 'queue_time': 0.0006819890000000495, 'total_time': 0.421734917}, references=None, created_at=1734952065)]"
      ]
     },
     "execution_count": 38,
     "metadata": {},
     "output_type": "execute_result"
    }
   ],
   "source": [
    "runresponse.messages"
   ]
  },
  {
   "cell_type": "code",
   "execution_count": 33,
   "id": "38f60665-2ac9-4836-b924-8a5efed8360e",
   "metadata": {},
   "outputs": [
    {
     "data": {
      "application/vnd.jupyter.widget-view+json": {
       "model_id": "e4b4ab226687439a8d8ee34c2d284cb9",
       "version_major": 2,
       "version_minor": 0
      },
      "text/plain": [
       "Output()"
      ]
     },
     "metadata": {},
     "output_type": "display_data"
    },
    {
     "data": {
      "text/html": [
       "<pre style=\"white-space:pre;overflow-x:auto;line-height:normal;font-family:Menlo,'DejaVu Sans Mono',consolas,'Courier New',monospace\"></pre>\n"
      ],
      "text/plain": []
     },
     "metadata": {},
     "output_type": "display_data"
    }
   ],
   "source": [
    "agent.print_response(\"Who is the current King, Lord of the seven kingdoms, protector of the realm?\", stream=True)"
   ]
  },
  {
   "cell_type": "code",
   "execution_count": null,
   "id": "8d6dfca8-1e0b-4afb-8315-8b55e26af185",
   "metadata": {},
   "outputs": [],
   "source": []
  }
 ],
 "metadata": {
  "kernelspec": {
   "display_name": "Python 3 (ipykernel)",
   "language": "python",
   "name": "python3"
  },
  "language_info": {
   "codemirror_mode": {
    "name": "ipython",
    "version": 3
   },
   "file_extension": ".py",
   "mimetype": "text/x-python",
   "name": "python",
   "nbconvert_exporter": "python",
   "pygments_lexer": "ipython3",
   "version": "3.12.0"
  }
 },
 "nbformat": 4,
 "nbformat_minor": 5
}
