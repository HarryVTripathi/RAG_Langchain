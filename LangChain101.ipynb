{
 "cells": [
  {
   "cell_type": "markdown",
   "metadata": {
    "id": "fk9tNs8GkkJY"
   },
   "source": [
    "### Langchain Chatmodel\n",
    "\n",
    "When a string is passed in as input, it is converted to a HumanMessage and then passed to the underlying model.\n",
    "\n",
    "LangChain does not host any Chat Models, rather we rely on third party integrations.\n",
    "\n",
    "We have some standardized parameters when constructing ChatModels:\n",
    "\n",
    "model: the name of the model\n",
    "temperature: the sampling temperature\n",
    "timeout: request timeout\n",
    "max_tokens: max tokens to generate\n",
    "stop: default stop sequences\n",
    "max_retries: max number of times to retry requests\n",
    "api_key: API key for the model provider\n",
    "base_url: endpoint to send requests to"
   ]
  },
  {
   "cell_type": "markdown",
   "metadata": {
    "id": "aSET3ecnk49k",
    "jp-MarkdownHeadingCollapsed": true
   },
   "source": [
    "### Prompt templates\n",
    "\n",
    "Prompt templates help to translate user input and parameters into instructions for a language model. This can be used to guide a model's response, helping it understand the context and generate relevant and coherent language-based output.\n",
    "\n",
    "Prompt Templates output a PromptValue. This PromptValue can be passed to an LLM or a ChatModel, and can also be cast to a string or a list of messages. The reason this PromptValue exists is to make it easy to switch between strings and messages.\n",
    "\n",
    " - #### ChatPromptTemplates\n",
    "\n",
    "  These prompt templates are used to format a list of messages. These \"templates\" consist of a list of templates themselves. For example, a common way to construct and use a ChatPromptTemplate is as follows:\n",
    "\n",
    "```python\n",
    "from langchain_core.prompts import ChatPromptTemplate\n",
    "\n",
    "prompt_template = ChatPromptTemplate.from_messages([\n",
    "    (\"system\", \"You are a helpful assistant\"),\n",
    "    (\"user\", \"Tell me a joke about {topic}\")\n",
    "])\n",
    "\n",
    "prompt_template.invoke({\"topic\": \"cats\"})\n",
    "```\n",
    "\n",
    "#### MessagePlaceholder\n",
    "\n",
    "\n",
    "This prompt template is responsible for adding a list of messages in a particular place. In the above ChatPromptTemplate, we saw how we could format two messages, each one a string. But what if we wanted the user to pass in a list of messages that we would slot into a particular spot? This is how you use MessagesPlaceholder.\n",
    "\n",
    "```python\n",
    "from langchain_core.prompts import ChatPromptTemplate, MessagesPlaceholder\n",
    "from langchain_core.messages import HumanMessage\n",
    "\n",
    "prompt_template = ChatPromptTemplate.from_messages([\n",
    "    (\"system\", \"You are a helpful assistant\"),\n",
    "    MessagesPlaceholder(\"msgs\")\n",
    "])\n",
    "\n",
    "prompt_template.invoke({\"msgs\": [HumanMessage(content=\"hi!\")]})\n",
    "```"
   ]
  },
  {
   "cell_type": "markdown",
   "metadata": {
    "id": "BPWRhTChmOR-"
   },
   "source": [
    "### Chat history\n",
    "\n",
    "Most LLM applications have a conversational interface. An essential component of a conversation is being able to refer to information introduced earlier in the conversation. At bare minimum, a conversational system should be able to access some window of past messages directly.\n",
    "\n",
    "The concept of `ChatHistory` refers to a class in LangChain which can be used to wrap an arbitrary chain. This `ChatHistory` will keep track of inputs and outputs of the underlying chain, and append them as messages to a message database. Future interactions will then load those messages and pass them into the chain as part of the input."
   ]
  },
  {
   "cell_type": "markdown",
   "metadata": {
    "id": "Qo2ekmK9pliQ"
   },
   "source": [
    "## Trying it out"
   ]
  },
  {
   "cell_type": "markdown",
   "metadata": {
    "id": "Lcpo7tLoMfws",
    "jp-MarkdownHeadingCollapsed": true
   },
   "source": [
    "### Install libraries"
   ]
  },
  {
   "cell_type": "code",
   "execution_count": null,
   "metadata": {
    "colab": {
     "base_uri": "https://localhost:8080/"
    },
    "id": "a1FBusOiMdlT",
    "outputId": "ff88622b-a268-48d5-86a7-6f9e9d5a0b4c"
   },
   "outputs": [
    {
     "name": "stdout",
     "output_type": "stream",
     "text": [
      "Collecting langchain\n",
      "  Downloading langchain-0.2.11-py3-none-any.whl (990 kB)\n",
      "\u001b[2K     \u001b[90m━━━━━━━━━━━━━━━━━━━━━━━━━━━━━━━━━━━━━━━━\u001b[0m \u001b[32m990.3/990.3 kB\u001b[0m \u001b[31m3.7 MB/s\u001b[0m eta \u001b[36m0:00:00\u001b[0m\n",
      "\u001b[?25hRequirement already satisfied: PyYAML>=5.3 in /usr/local/lib/python3.10/dist-packages (from langchain) (6.0.1)\n",
      "Requirement already satisfied: SQLAlchemy<3,>=1.4 in /usr/local/lib/python3.10/dist-packages (from langchain) (2.0.31)\n",
      "Requirement already satisfied: aiohttp<4.0.0,>=3.8.3 in /usr/local/lib/python3.10/dist-packages (from langchain) (3.9.5)\n",
      "Requirement already satisfied: async-timeout<5.0.0,>=4.0.0 in /usr/local/lib/python3.10/dist-packages (from langchain) (4.0.3)\n",
      "Collecting langchain-core<0.3.0,>=0.2.23 (from langchain)\n",
      "  Downloading langchain_core-0.2.23-py3-none-any.whl (374 kB)\n",
      "\u001b[2K     \u001b[90m━━━━━━━━━━━━━━━━━━━━━━━━━━━━━━━━━━━━━━━━\u001b[0m \u001b[32m374.2/374.2 kB\u001b[0m \u001b[31m10.7 MB/s\u001b[0m eta \u001b[36m0:00:00\u001b[0m\n",
      "\u001b[?25hCollecting langchain-text-splitters<0.3.0,>=0.2.0 (from langchain)\n",
      "  Downloading langchain_text_splitters-0.2.2-py3-none-any.whl (25 kB)\n",
      "Collecting langsmith<0.2.0,>=0.1.17 (from langchain)\n",
      "  Downloading langsmith-0.1.93-py3-none-any.whl (139 kB)\n",
      "\u001b[2K     \u001b[90m━━━━━━━━━━━━━━━━━━━━━━━━━━━━━━━━━━━━━━━━\u001b[0m \u001b[32m139.8/139.8 kB\u001b[0m \u001b[31m5.3 MB/s\u001b[0m eta \u001b[36m0:00:00\u001b[0m\n",
      "\u001b[?25hRequirement already satisfied: numpy<2,>=1 in /usr/local/lib/python3.10/dist-packages (from langchain) (1.25.2)\n",
      "Requirement already satisfied: pydantic<3,>=1 in /usr/local/lib/python3.10/dist-packages (from langchain) (2.8.2)\n",
      "Requirement already satisfied: requests<3,>=2 in /usr/local/lib/python3.10/dist-packages (from langchain) (2.31.0)\n",
      "Requirement already satisfied: tenacity!=8.4.0,<9.0.0,>=8.1.0 in /usr/local/lib/python3.10/dist-packages (from langchain) (8.5.0)\n",
      "Requirement already satisfied: aiosignal>=1.1.2 in /usr/local/lib/python3.10/dist-packages (from aiohttp<4.0.0,>=3.8.3->langchain) (1.3.1)\n",
      "Requirement already satisfied: attrs>=17.3.0 in /usr/local/lib/python3.10/dist-packages (from aiohttp<4.0.0,>=3.8.3->langchain) (23.2.0)\n",
      "Requirement already satisfied: frozenlist>=1.1.1 in /usr/local/lib/python3.10/dist-packages (from aiohttp<4.0.0,>=3.8.3->langchain) (1.4.1)\n",
      "Requirement already satisfied: multidict<7.0,>=4.5 in /usr/local/lib/python3.10/dist-packages (from aiohttp<4.0.0,>=3.8.3->langchain) (6.0.5)\n",
      "Requirement already satisfied: yarl<2.0,>=1.0 in /usr/local/lib/python3.10/dist-packages (from aiohttp<4.0.0,>=3.8.3->langchain) (1.9.4)\n",
      "Collecting jsonpatch<2.0,>=1.33 (from langchain-core<0.3.0,>=0.2.23->langchain)\n",
      "  Downloading jsonpatch-1.33-py2.py3-none-any.whl (12 kB)\n",
      "Requirement already satisfied: packaging<25,>=23.2 in /usr/local/lib/python3.10/dist-packages (from langchain-core<0.3.0,>=0.2.23->langchain) (24.1)\n",
      "Collecting orjson<4.0.0,>=3.9.14 (from langsmith<0.2.0,>=0.1.17->langchain)\n",
      "  Downloading orjson-3.10.6-cp310-cp310-manylinux_2_17_x86_64.manylinux2014_x86_64.whl (141 kB)\n",
      "\u001b[2K     \u001b[90m━━━━━━━━━━━━━━━━━━━━━━━━━━━━━━━━━━━━━━━━\u001b[0m \u001b[32m141.1/141.1 kB\u001b[0m \u001b[31m6.3 MB/s\u001b[0m eta \u001b[36m0:00:00\u001b[0m\n",
      "\u001b[?25hRequirement already satisfied: annotated-types>=0.4.0 in /usr/local/lib/python3.10/dist-packages (from pydantic<3,>=1->langchain) (0.7.0)\n",
      "Requirement already satisfied: pydantic-core==2.20.1 in /usr/local/lib/python3.10/dist-packages (from pydantic<3,>=1->langchain) (2.20.1)\n",
      "Requirement already satisfied: typing-extensions>=4.6.1 in /usr/local/lib/python3.10/dist-packages (from pydantic<3,>=1->langchain) (4.12.2)\n",
      "Requirement already satisfied: charset-normalizer<4,>=2 in /usr/local/lib/python3.10/dist-packages (from requests<3,>=2->langchain) (3.3.2)\n",
      "Requirement already satisfied: idna<4,>=2.5 in /usr/local/lib/python3.10/dist-packages (from requests<3,>=2->langchain) (3.7)\n",
      "Requirement already satisfied: urllib3<3,>=1.21.1 in /usr/local/lib/python3.10/dist-packages (from requests<3,>=2->langchain) (2.0.7)\n",
      "Requirement already satisfied: certifi>=2017.4.17 in /usr/local/lib/python3.10/dist-packages (from requests<3,>=2->langchain) (2024.7.4)\n",
      "Requirement already satisfied: greenlet!=0.4.17 in /usr/local/lib/python3.10/dist-packages (from SQLAlchemy<3,>=1.4->langchain) (3.0.3)\n",
      "Collecting jsonpointer>=1.9 (from jsonpatch<2.0,>=1.33->langchain-core<0.3.0,>=0.2.23->langchain)\n",
      "  Downloading jsonpointer-3.0.0-py2.py3-none-any.whl (7.6 kB)\n",
      "Installing collected packages: orjson, jsonpointer, jsonpatch, langsmith, langchain-core, langchain-text-splitters, langchain\n",
      "Successfully installed jsonpatch-1.33 jsonpointer-3.0.0 langchain-0.2.11 langchain-core-0.2.23 langchain-text-splitters-0.2.2 langsmith-0.1.93 orjson-3.10.6\n",
      "\u001b[2K     \u001b[90m━━━━━━━━━━━━━━━━━━━━━━━━━━━━━━━━━━━━━━━━\u001b[0m \u001b[32m103.5/103.5 kB\u001b[0m \u001b[31m1.2 MB/s\u001b[0m eta \u001b[36m0:00:00\u001b[0m\n",
      "\u001b[2K     \u001b[90m━━━━━━━━━━━━━━━━━━━━━━━━━━━━━━━━━━━━━━━━\u001b[0m \u001b[32m75.6/75.6 kB\u001b[0m \u001b[31m5.4 MB/s\u001b[0m eta \u001b[36m0:00:00\u001b[0m\n",
      "\u001b[2K     \u001b[90m━━━━━━━━━━━━━━━━━━━━━━━━━━━━━━━━━━━━━━━━\u001b[0m \u001b[32m77.9/77.9 kB\u001b[0m \u001b[31m3.0 MB/s\u001b[0m eta \u001b[36m0:00:00\u001b[0m\n",
      "\u001b[2K     \u001b[90m━━━━━━━━━━━━━━━━━━━━━━━━━━━━━━━━━━━━━━━━\u001b[0m \u001b[32m58.3/58.3 kB\u001b[0m \u001b[31m5.9 MB/s\u001b[0m eta \u001b[36m0:00:00\u001b[0m\n",
      "\u001b[?25hCollecting langchain_community\n",
      "  Downloading langchain_community-0.2.10-py3-none-any.whl (2.3 MB)\n",
      "\u001b[2K     \u001b[90m━━━━━━━━━━━━━━━━━━━━━━━━━━━━━━━━━━━━━━━━\u001b[0m \u001b[32m2.3/2.3 MB\u001b[0m \u001b[31m8.7 MB/s\u001b[0m eta \u001b[36m0:00:00\u001b[0m\n",
      "\u001b[?25hRequirement already satisfied: PyYAML>=5.3 in /usr/local/lib/python3.10/dist-packages (from langchain_community) (6.0.1)\n",
      "Requirement already satisfied: SQLAlchemy<3,>=1.4 in /usr/local/lib/python3.10/dist-packages (from langchain_community) (2.0.31)\n",
      "Requirement already satisfied: aiohttp<4.0.0,>=3.8.3 in /usr/local/lib/python3.10/dist-packages (from langchain_community) (3.9.5)\n",
      "Collecting dataclasses-json<0.7,>=0.5.7 (from langchain_community)\n",
      "  Downloading dataclasses_json-0.6.7-py3-none-any.whl (28 kB)\n",
      "Requirement already satisfied: langchain<0.3.0,>=0.2.9 in /usr/local/lib/python3.10/dist-packages (from langchain_community) (0.2.11)\n",
      "Requirement already satisfied: langchain-core<0.3.0,>=0.2.23 in /usr/local/lib/python3.10/dist-packages (from langchain_community) (0.2.23)\n",
      "Requirement already satisfied: langsmith<0.2.0,>=0.1.0 in /usr/local/lib/python3.10/dist-packages (from langchain_community) (0.1.93)\n",
      "Requirement already satisfied: numpy<2,>=1 in /usr/local/lib/python3.10/dist-packages (from langchain_community) (1.25.2)\n",
      "Requirement already satisfied: requests<3,>=2 in /usr/local/lib/python3.10/dist-packages (from langchain_community) (2.31.0)\n",
      "Requirement already satisfied: tenacity!=8.4.0,<9.0.0,>=8.1.0 in /usr/local/lib/python3.10/dist-packages (from langchain_community) (8.5.0)\n",
      "Requirement already satisfied: aiosignal>=1.1.2 in /usr/local/lib/python3.10/dist-packages (from aiohttp<4.0.0,>=3.8.3->langchain_community) (1.3.1)\n",
      "Requirement already satisfied: attrs>=17.3.0 in /usr/local/lib/python3.10/dist-packages (from aiohttp<4.0.0,>=3.8.3->langchain_community) (23.2.0)\n",
      "Requirement already satisfied: frozenlist>=1.1.1 in /usr/local/lib/python3.10/dist-packages (from aiohttp<4.0.0,>=3.8.3->langchain_community) (1.4.1)\n",
      "Requirement already satisfied: multidict<7.0,>=4.5 in /usr/local/lib/python3.10/dist-packages (from aiohttp<4.0.0,>=3.8.3->langchain_community) (6.0.5)\n",
      "Requirement already satisfied: yarl<2.0,>=1.0 in /usr/local/lib/python3.10/dist-packages (from aiohttp<4.0.0,>=3.8.3->langchain_community) (1.9.4)\n",
      "Requirement already satisfied: async-timeout<5.0,>=4.0 in /usr/local/lib/python3.10/dist-packages (from aiohttp<4.0.0,>=3.8.3->langchain_community) (4.0.3)\n",
      "Collecting marshmallow<4.0.0,>=3.18.0 (from dataclasses-json<0.7,>=0.5.7->langchain_community)\n",
      "  Downloading marshmallow-3.21.3-py3-none-any.whl (49 kB)\n",
      "\u001b[2K     \u001b[90m━━━━━━━━━━━━━━━━━━━━━━━━━━━━━━━━━━━━━━━━\u001b[0m \u001b[32m49.2/49.2 kB\u001b[0m \u001b[31m6.1 MB/s\u001b[0m eta \u001b[36m0:00:00\u001b[0m\n",
      "\u001b[?25hCollecting typing-inspect<1,>=0.4.0 (from dataclasses-json<0.7,>=0.5.7->langchain_community)\n",
      "  Downloading typing_inspect-0.9.0-py3-none-any.whl (8.8 kB)\n",
      "Requirement already satisfied: langchain-text-splitters<0.3.0,>=0.2.0 in /usr/local/lib/python3.10/dist-packages (from langchain<0.3.0,>=0.2.9->langchain_community) (0.2.2)\n",
      "Requirement already satisfied: pydantic<3,>=1 in /usr/local/lib/python3.10/dist-packages (from langchain<0.3.0,>=0.2.9->langchain_community) (2.8.2)\n",
      "Requirement already satisfied: jsonpatch<2.0,>=1.33 in /usr/local/lib/python3.10/dist-packages (from langchain-core<0.3.0,>=0.2.23->langchain_community) (1.33)\n",
      "Requirement already satisfied: packaging<25,>=23.2 in /usr/local/lib/python3.10/dist-packages (from langchain-core<0.3.0,>=0.2.23->langchain_community) (24.1)\n",
      "Requirement already satisfied: orjson<4.0.0,>=3.9.14 in /usr/local/lib/python3.10/dist-packages (from langsmith<0.2.0,>=0.1.0->langchain_community) (3.10.6)\n",
      "Requirement already satisfied: charset-normalizer<4,>=2 in /usr/local/lib/python3.10/dist-packages (from requests<3,>=2->langchain_community) (3.3.2)\n",
      "Requirement already satisfied: idna<4,>=2.5 in /usr/local/lib/python3.10/dist-packages (from requests<3,>=2->langchain_community) (3.7)\n",
      "Requirement already satisfied: urllib3<3,>=1.21.1 in /usr/local/lib/python3.10/dist-packages (from requests<3,>=2->langchain_community) (2.0.7)\n",
      "Requirement already satisfied: certifi>=2017.4.17 in /usr/local/lib/python3.10/dist-packages (from requests<3,>=2->langchain_community) (2024.7.4)\n",
      "Requirement already satisfied: typing-extensions>=4.6.0 in /usr/local/lib/python3.10/dist-packages (from SQLAlchemy<3,>=1.4->langchain_community) (4.12.2)\n",
      "Requirement already satisfied: greenlet!=0.4.17 in /usr/local/lib/python3.10/dist-packages (from SQLAlchemy<3,>=1.4->langchain_community) (3.0.3)\n",
      "Requirement already satisfied: jsonpointer>=1.9 in /usr/local/lib/python3.10/dist-packages (from jsonpatch<2.0,>=1.33->langchain-core<0.3.0,>=0.2.23->langchain_community) (3.0.0)\n",
      "Requirement already satisfied: annotated-types>=0.4.0 in /usr/local/lib/python3.10/dist-packages (from pydantic<3,>=1->langchain<0.3.0,>=0.2.9->langchain_community) (0.7.0)\n",
      "Requirement already satisfied: pydantic-core==2.20.1 in /usr/local/lib/python3.10/dist-packages (from pydantic<3,>=1->langchain<0.3.0,>=0.2.9->langchain_community) (2.20.1)\n",
      "Collecting mypy-extensions>=0.3.0 (from typing-inspect<1,>=0.4.0->dataclasses-json<0.7,>=0.5.7->langchain_community)\n",
      "  Downloading mypy_extensions-1.0.0-py3-none-any.whl (4.7 kB)\n",
      "Installing collected packages: mypy-extensions, marshmallow, typing-inspect, dataclasses-json, langchain_community\n",
      "Successfully installed dataclasses-json-0.6.7 langchain_community-0.2.10 marshmallow-3.21.3 mypy-extensions-1.0.0 typing-inspect-0.9.0\n"
     ]
    }
   ],
   "source": [
    "!pip install langchain\n",
    "!pip install -qU langchain-groq\n",
    "!pip install langchain_community\n",
    "!pip install -qU langchain-google-genai\n",
    "\n"
   ]
  },
  {
   "cell_type": "markdown",
   "metadata": {
    "id": "ubzj_lSgpoUL"
   },
   "source": [
    "### Create LLM groq provider"
   ]
  },
  {
   "cell_type": "code",
   "execution_count": null,
   "metadata": {
    "id": "yBDg0EXyof1Z"
   },
   "outputs": [],
   "source": [
    "import getpass\n",
    "import os\n",
    "from langchain_groq import ChatGroq"
   ]
  },
  {
   "cell_type": "code",
   "execution_count": null,
   "metadata": {
    "colab": {
     "base_uri": "https://localhost:8080/"
    },
    "id": "SMPg3T4XopQ6",
    "outputId": "e7259535-dbf5-4600-8feb-072d7ec64244"
   },
   "outputs": [
    {
     "name": "stdout",
     "output_type": "stream",
     "text": [
      "··········\n"
     ]
    }
   ],
   "source": [
    "os.environ[\"GROQ_API_KEY\"] = getpass.getpass()"
   ]
  },
  {
   "cell_type": "code",
   "execution_count": null,
   "metadata": {
    "id": "iDVt47JGoq0S"
   },
   "outputs": [],
   "source": [
    "model = ChatGroq(model=\"llama3-8b-8192\")"
   ]
  },
  {
   "cell_type": "code",
   "execution_count": null,
   "metadata": {
    "colab": {
     "base_uri": "https://localhost:8080/",
     "height": 186
    },
    "id": "0CCu0NRytIRH",
    "outputId": "d4cb9544-e953-4955-f530-1a6e9d9750af"
   },
   "outputs": [
    {
     "data": {
      "text/html": [
       "<div style=\"max-width:800px; border: 1px solid var(--colab-border-color);\"><style>\n",
       "      pre.function-repr-contents {\n",
       "        overflow-x: auto;\n",
       "        padding: 8px 12px;\n",
       "        max-height: 500px;\n",
       "      }\n",
       "\n",
       "      pre.function-repr-contents.function-repr-contents-collapsed {\n",
       "        cursor: pointer;\n",
       "        max-height: 100px;\n",
       "      }\n",
       "    </style>\n",
       "    <pre style=\"white-space: initial; background:\n",
       "         var(--colab-secondary-surface-color); padding: 8px 12px;\n",
       "         border-bottom: 1px solid var(--colab-border-color);\"><b>langchain_groq.chat_models.ChatGroq</b><br/>def warning_emitting_wrapper(*args: Any, **kwargs: Any) -&gt; Any</pre><pre class=\"function-repr-contents function-repr-contents-collapsed\" style=\"\"><a class=\"filepath\" style=\"display:none\" href=\"#\">/usr/local/lib/python3.10/dist-packages/langchain_groq/chat_models.py</a>`Groq` Chat large language models API.\n",
       "\n",
       "    To use, you should have the\n",
       "    environment variable ``GROQ_API_KEY`` set with your API key.\n",
       "\n",
       "    Any parameters that are valid to be passed to the groq.create call\n",
       "    can be passed in, even if not explicitly saved on this class.\n",
       "\n",
       "    Example:\n",
       "        .. code-block:: python\n",
       "\n",
       "            from langchain_groq import ChatGroq\n",
       "\n",
       "            model = ChatGroq(model_name=&quot;mixtral-8x7b-32768&quot;)\n",
       "\n",
       "    Setup:\n",
       "        Install ``langchain-groq`` and set environment variable\n",
       "        ``GROQ_API_KEY``.\n",
       "\n",
       "        .. code-block:: bash\n",
       "\n",
       "            pip install -U langchain-groq\n",
       "            export GROQ_API_KEY=&quot;your-api-key&quot;\n",
       "\n",
       "    Key init args — completion params:\n",
       "        model: str\n",
       "            Name of Groq model to use. E.g. &quot;mixtral-8x7b-32768&quot;.\n",
       "        temperature: float\n",
       "            Sampling temperature. Ranges from 0.0 to 1.0.\n",
       "        max_tokens: Optional[int]\n",
       "            Max number of tokens to generate.\n",
       "        model_kwargs: Dict[str, Any]\n",
       "            Holds any model parameters valid for create call not\n",
       "            explicitly specified.\n",
       "\n",
       "    Key init args — client params:\n",
       "        timeout: Union[float, Tuple[float, float], Any, None]\n",
       "            Timeout for requests.\n",
       "        max_retries: int\n",
       "            Max number of retries.\n",
       "        api_key: Optional[str]\n",
       "            Groq API key. If not passed in will be read from env var GROQ_API_KEY.\n",
       "        base_url: Optional[str]\n",
       "            Base URL path for API requests, leave blank if not using a proxy\n",
       "            or service emulator.\n",
       "        custom_get_token_ids: Optional[Callable[[str], List[int]]]\n",
       "            Optional encoder to use for counting tokens.\n",
       "\n",
       "    See full list of supported init args and their descriptions in the params\n",
       "    section.\n",
       "\n",
       "    Instantiate:\n",
       "        .. code-block:: python\n",
       "\n",
       "            from langchain_groq import ChatGroq\n",
       "\n",
       "            model = ChatGroq(\n",
       "                model=&quot;mixtral-8x7b-32768&quot;,\n",
       "                temperature=0.0,\n",
       "                max_retries=2,\n",
       "                # other params...\n",
       "                )\n",
       "\n",
       "    Invoke:\n",
       "        .. code-block:: python\n",
       "\n",
       "            messages = [\n",
       "                (&quot;system&quot;, &quot;You are a helpful translator. Translate the user\n",
       "                sentence to French.&quot;),\n",
       "                (&quot;human&quot;, &quot;I love programming.&quot;),\n",
       "            ]\n",
       "            model.invoke(messages)\n",
       "\n",
       "        .. code-block:: python\n",
       "\n",
       "            AIMessage(content=&#x27;The English sentence &quot;I love programming&quot; can\n",
       "            be translated to French as &quot;J&#x27;aime programmer&quot;. The word\n",
       "            &quot;programming&quot; is translated as &quot;programmer&quot; in French.&#x27;,\n",
       "            response_metadata={&#x27;token_usage&#x27;: {&#x27;completion_tokens&#x27;: 38,\n",
       "            &#x27;prompt_tokens&#x27;: 28, &#x27;total_tokens&#x27;: 66, &#x27;completion_time&#x27;:\n",
       "            0.057975474, &#x27;prompt_time&#x27;: 0.005366091, &#x27;queue_time&#x27;: None,\n",
       "            &#x27;total_time&#x27;: 0.063341565}, &#x27;model_name&#x27;: &#x27;mixtral-8x7b-32768&#x27;,\n",
       "            &#x27;system_fingerprint&#x27;: &#x27;fp_c5f20b5bb1&#x27;, &#x27;finish_reason&#x27;: &#x27;stop&#x27;,\n",
       "            &#x27;logprobs&#x27;: None}, id=&#x27;run-ecc71d70-e10c-4b69-8b8c-b8027d95d4b8-0&#x27;)\n",
       "\n",
       "    Stream:\n",
       "        .. code-block:: python\n",
       "\n",
       "            for chunk in model.stream(messages):\n",
       "                print(chunk)\n",
       "\n",
       "        .. code-block:: python\n",
       "\n",
       "            content=&#x27;&#x27; id=&#x27;run-4e9f926b-73f5-483b-8ef5-09533d925853&#x27;\n",
       "            content=&#x27;The&#x27; id=&#x27;run-4e9f926b-73f5-483b-8ef5-09533d925853&#x27;\n",
       "            content=&#x27; English&#x27; id=&#x27;run-4e9f926b-73f5-483b-8ef5-09533d925853&#x27;\n",
       "            content=&#x27; sentence&#x27; id=&#x27;run-4e9f926b-73f5-483b-8ef5-09533d925853&#x27;\n",
       "            ...\n",
       "            content=&#x27; program&#x27; id=&#x27;run-4e9f926b-73f5-483b-8ef5-09533d925853&#x27;\n",
       "            content=&#x27;&quot;.&#x27; id=&#x27;run-4e9f926b-73f5-483b-8ef5-09533d925853&#x27;\n",
       "            content=&#x27;&#x27; response_metadata={&#x27;finish_reason&#x27;: &#x27;stop&#x27;}\n",
       "            id=&#x27;run-4e9f926b-73f5-483b-8ef5-09533d925853\n",
       "\n",
       "        .. code-block:: python\n",
       "\n",
       "            stream = model.stream(messages)\n",
       "            full = next(stream)\n",
       "            for chunk in stream:\n",
       "                full += chunk\n",
       "            full\n",
       "\n",
       "        .. code-block:: python\n",
       "\n",
       "            AIMessageChunk(content=&#x27;The English sentence &quot;I love programming&quot;\n",
       "            can be translated to French as &quot;J&#x27;aime programmer&quot;.\n",
       "            Here&#x27;s the breakdown of the sentence:\n",
       "\n",
       "* &quot;J&#x27;aime&quot; is the\n",
       "            French equivalent of &quot;I love&quot;\n",
       "* &quot;programmer&quot; is the French\n",
       "            infinitive for &quot;to program&quot;\n",
       "\n",
       "So, the literal translation\n",
       "            is &quot;I love to program&quot;. However, in English we often omit the\n",
       "            &quot;to&quot; when talking about activities we love, and the same applies\n",
       "            to French. Therefore, &quot;J&#x27;aime programmer&quot; is the correct and\n",
       "            natural way to express &quot;I love programming&quot; in French.&#x27;,\n",
       "            response_metadata={&#x27;finish_reason&#x27;: &#x27;stop&#x27;},\n",
       "            id=&#x27;run-a3c35ac4-0750-4d08-ac55-bfc63805de76&#x27;)\n",
       "\n",
       "    Async:\n",
       "        .. code-block:: python\n",
       "\n",
       "            await model.ainvoke(messages)\n",
       "\n",
       "        .. code-block:: python\n",
       "\n",
       "           AIMessage(content=&#x27;The English sentence &quot;I love programming&quot; can\n",
       "           be translated to French as &quot;J&#x27;aime programmer&quot;. The word\n",
       "           &quot;programming&quot; is translated as &quot;programmer&quot; in French. I hope\n",
       "           this helps! Let me know if you have any other questions.&#x27;,\n",
       "           response_metadata={&#x27;token_usage&#x27;: {&#x27;completion_tokens&#x27;: 53,\n",
       "           &#x27;prompt_tokens&#x27;: 28, &#x27;total_tokens&#x27;: 81, &#x27;completion_time&#x27;:\n",
       "           0.083623752, &#x27;prompt_time&#x27;: 0.007365126, &#x27;queue_time&#x27;: None,\n",
       "           &#x27;total_time&#x27;: 0.090988878}, &#x27;model_name&#x27;: &#x27;mixtral-8x7b-32768&#x27;,\n",
       "           &#x27;system_fingerprint&#x27;: &#x27;fp_c5f20b5bb1&#x27;, &#x27;finish_reason&#x27;: &#x27;stop&#x27;,\n",
       "           &#x27;logprobs&#x27;: None}, id=&#x27;run-897f3391-1bea-42e2-82e0-686e2367bcf8-0&#x27;)\n",
       "\n",
       "    Tool calling:\n",
       "        .. code-block:: python\n",
       "\n",
       "            from langchain_core.pydantic_v1 import BaseModel, Field\n",
       "\n",
       "            class GetWeather(BaseModel):\n",
       "                &#x27;&#x27;&#x27;Get the current weather in a given location&#x27;&#x27;&#x27;\n",
       "\n",
       "                location: str = Field(..., description=&quot;The city and state,\n",
       "                e.g. San Francisco, CA&quot;)\n",
       "\n",
       "            class GetPopulation(BaseModel):\n",
       "                &#x27;&#x27;&#x27;Get the current population in a given location&#x27;&#x27;&#x27;\n",
       "\n",
       "                location: str = Field(..., description=&quot;The city and state,\n",
       "                e.g. San Francisco, CA&quot;)\n",
       "\n",
       "            model_with_tools = model.bind_tools([GetWeather, GetPopulation])\n",
       "            ai_msg = model_with_tools.invoke(&quot;What is the population of NY?&quot;)\n",
       "            ai_msg.tool_calls\n",
       "\n",
       "        .. code-block:: python\n",
       "\n",
       "            [{&#x27;name&#x27;: &#x27;GetPopulation&#x27;,\n",
       "            &#x27;args&#x27;: {&#x27;location&#x27;: &#x27;NY&#x27;},\n",
       "            &#x27;id&#x27;: &#x27;call_bb8d&#x27;}]\n",
       "\n",
       "        See ``ChatGroq.bind_tools()`` method for more.\n",
       "\n",
       "    Structured output:\n",
       "        .. code-block:: python\n",
       "\n",
       "            from typing import Optional\n",
       "\n",
       "            from langchain_core.pydantic_v1 import BaseModel, Field\n",
       "\n",
       "            class Joke(BaseModel):\n",
       "                &#x27;&#x27;&#x27;Joke to tell user.&#x27;&#x27;&#x27;\n",
       "\n",
       "                setup: str = Field(description=&quot;The setup of the joke&quot;)\n",
       "                punchline: str = Field(description=&quot;The punchline to the joke&quot;)\n",
       "                rating: Optional[int] = Field(description=&quot;How funny the joke\n",
       "                is, from 1 to 10&quot;)\n",
       "\n",
       "            structured_model = model.with_structured_output(Joke)\n",
       "            structured_model.invoke(&quot;Tell me a joke about cats&quot;)\n",
       "\n",
       "        .. code-block:: python\n",
       "\n",
       "            Joke(setup=&quot;Why don&#x27;t cats play poker in the jungle?&quot;,\n",
       "            punchline=&#x27;Too many cheetahs!&#x27;, rating=None)\n",
       "\n",
       "        See ``ChatGroq.with_structured_output()`` for more.\n",
       "\n",
       "    Response metadata\n",
       "        .. code-block:: python\n",
       "\n",
       "            ai_msg = model.invoke(messages)\n",
       "            ai_msg.response_metadata\n",
       "\n",
       "        .. code-block:: python\n",
       "\n",
       "            {&#x27;token_usage&#x27;: {&#x27;completion_tokens&#x27;: 70,\n",
       "            &#x27;prompt_tokens&#x27;: 28,\n",
       "            &#x27;total_tokens&#x27;: 98,\n",
       "            &#x27;completion_time&#x27;: 0.111956391,\n",
       "            &#x27;prompt_time&#x27;: 0.007518279,\n",
       "            &#x27;queue_time&#x27;: None,\n",
       "            &#x27;total_time&#x27;: 0.11947467},\n",
       "            &#x27;model_name&#x27;: &#x27;mixtral-8x7b-32768&#x27;,\n",
       "            &#x27;system_fingerprint&#x27;: &#x27;fp_c5f20b5bb1&#x27;,\n",
       "            &#x27;finish_reason&#x27;: &#x27;stop&#x27;,\n",
       "            &#x27;logprobs&#x27;: None}\n",
       "    </pre>\n",
       "      <script>\n",
       "      if (google.colab.kernel.accessAllowed && google.colab.files && google.colab.files.view) {\n",
       "        for (const element of document.querySelectorAll('.filepath')) {\n",
       "          element.style.display = 'block'\n",
       "          element.onclick = (event) => {\n",
       "            event.preventDefault();\n",
       "            event.stopPropagation();\n",
       "            google.colab.files.view(element.textContent, 82);\n",
       "          };\n",
       "        }\n",
       "      }\n",
       "      for (const element of document.querySelectorAll('.function-repr-contents')) {\n",
       "        element.onclick = (event) => {\n",
       "          event.preventDefault();\n",
       "          event.stopPropagation();\n",
       "          element.classList.toggle('function-repr-contents-collapsed');\n",
       "        };\n",
       "      }\n",
       "      </script>\n",
       "      </div>"
      ],
      "text/plain": [
       "langchain_groq.chat_models.ChatGroq"
      ]
     },
     "execution_count": 33,
     "metadata": {},
     "output_type": "execute_result"
    }
   ],
   "source": [
    "type(model)"
   ]
  },
  {
   "cell_type": "markdown",
   "metadata": {
    "id": "_gAaPygbh3QC"
   },
   "source": [
    "### Create LLM Google Chat model"
   ]
  },
  {
   "cell_type": "code",
   "execution_count": null,
   "metadata": {
    "colab": {
     "base_uri": "https://localhost:8080/"
    },
    "id": "8wv6OvjSh15v",
    "outputId": "a1393495-fdf9-4db0-db72-d25311959629"
   },
   "outputs": [
    {
     "name": "stdout",
     "output_type": "stream",
     "text": [
      "Enter your Google AI API key: ··········\n"
     ]
    }
   ],
   "source": [
    "import getpass\n",
    "import os\n",
    "\n",
    "os.environ[\"GOOGLE_API_KEY\"] = getpass.getpass(\"Enter your Google AI API key: \")"
   ]
  },
  {
   "cell_type": "code",
   "execution_count": null,
   "metadata": {
    "id": "wJNlPgg4iIZc"
   },
   "outputs": [],
   "source": [
    "from langchain_google_genai import ChatGoogleGenerativeAI, HarmBlockThreshold, HarmCategory"
   ]
  },
  {
   "cell_type": "code",
   "execution_count": null,
   "metadata": {
    "colab": {
     "base_uri": "https://localhost:8080/",
     "height": 186
    },
    "id": "-g6iC5_JBKCD",
    "outputId": "7a6b2e0c-2b05-4af0-a42e-7ded40824833"
   },
   "outputs": [
    {
     "data": {
      "text/html": [
       "<div style=\"max-width:800px; border: 1px solid var(--colab-border-color);\"><style>\n",
       "      pre.function-repr-contents {\n",
       "        overflow-x: auto;\n",
       "        padding: 8px 12px;\n",
       "        max-height: 500px;\n",
       "      }\n",
       "\n",
       "      pre.function-repr-contents.function-repr-contents-collapsed {\n",
       "        cursor: pointer;\n",
       "        max-height: 100px;\n",
       "      }\n",
       "    </style>\n",
       "    <pre style=\"white-space: initial; background:\n",
       "         var(--colab-secondary-surface-color); padding: 8px 12px;\n",
       "         border-bottom: 1px solid var(--colab-border-color);\"><b>google.ai.generativelanguage_v1beta.types.safety.SafetySetting.HarmBlockThreshold</b><br/>def __call__(cls, value, names=None, *, module=None, qualname=None, type=None, start=1)</pre><pre class=\"function-repr-contents function-repr-contents-collapsed\" style=\"\"><a class=\"filepath\" style=\"display:none\" href=\"#\">/usr/local/lib/python3.10/dist-packages/google/ai/generativelanguage_v1beta/types/safety.py</a>Block at and beyond a specified harm probability.\n",
       "\n",
       "Values:\n",
       "    HARM_BLOCK_THRESHOLD_UNSPECIFIED (0):\n",
       "        Threshold is unspecified.\n",
       "    BLOCK_LOW_AND_ABOVE (1):\n",
       "        Content with NEGLIGIBLE will be allowed.\n",
       "    BLOCK_MEDIUM_AND_ABOVE (2):\n",
       "        Content with NEGLIGIBLE and LOW will be\n",
       "        allowed.\n",
       "    BLOCK_ONLY_HIGH (3):\n",
       "        Content with NEGLIGIBLE, LOW, and MEDIUM will\n",
       "        be allowed.\n",
       "    BLOCK_NONE (4):\n",
       "        All content will be allowed.</pre>\n",
       "      <script>\n",
       "      if (google.colab.kernel.accessAllowed && google.colab.files && google.colab.files.view) {\n",
       "        for (const element of document.querySelectorAll('.filepath')) {\n",
       "          element.style.display = 'block'\n",
       "          element.onclick = (event) => {\n",
       "            event.preventDefault();\n",
       "            event.stopPropagation();\n",
       "            google.colab.files.view(element.textContent, 236);\n",
       "          };\n",
       "        }\n",
       "      }\n",
       "      for (const element of document.querySelectorAll('.function-repr-contents')) {\n",
       "        element.onclick = (event) => {\n",
       "          event.preventDefault();\n",
       "          event.stopPropagation();\n",
       "          element.classList.toggle('function-repr-contents-collapsed');\n",
       "        };\n",
       "      }\n",
       "      </script>\n",
       "      </div>"
      ],
      "text/plain": [
       "<enum 'HarmBlockThreshold'>"
      ]
     },
     "execution_count": 4,
     "metadata": {},
     "output_type": "execute_result"
    }
   ],
   "source": [
    "HarmBlockThreshold"
   ]
  },
  {
   "cell_type": "code",
   "execution_count": null,
   "metadata": {
    "id": "SRt2JiEqiWfV"
   },
   "outputs": [],
   "source": [
    "safety_settings = {\n",
    "    HarmCategory.HARM_CATEGORY_UNSPECIFIED: HarmBlockThreshold.BLOCK_NONE,\n",
    "    HarmCategory.HARM_CATEGORY_DANGEROUS_CONTENT: HarmBlockThreshold.BLOCK_NONE,\n",
    "    HarmCategory.HARM_CATEGORY_HATE_SPEECH: HarmBlockThreshold.BLOCK_NONE,\n",
    "    HarmCategory.HARM_CATEGORY_HARASSMENT: HarmBlockThreshold.BLOCK_NONE,\n",
    "    HarmCategory.HARM_CATEGORY_SEXUALLY_EXPLICIT: HarmBlockThreshold.BLOCK_NONE,\n",
    "    HarmCategory.HARM_CATEGORY_SEXUAL: HarmBlockThreshold.BLOCK_NONE,\n",
    "}"
   ]
  },
  {
   "cell_type": "code",
   "execution_count": null,
   "metadata": {
    "id": "tWUGZZ72iCXP"
   },
   "outputs": [],
   "source": [
    "model = ChatGoogleGenerativeAI(\n",
    "    model=\"gemini-1.5-pro\",\n",
    "    temperature=1,\n",
    "    max_tokens=None,\n",
    "    timeout=None,\n",
    "    max_retries=2,\n",
    "    safety_settings=safety_settings\n",
    ")"
   ]
  },
  {
   "cell_type": "markdown",
   "metadata": {
    "id": "0uxINd7Zg--f",
    "jp-MarkdownHeadingCollapsed": true
   },
   "source": [
    "### Imports"
   ]
  },
  {
   "cell_type": "code",
   "execution_count": null,
   "metadata": {
    "id": "jf6RZmGcgpu2"
   },
   "outputs": [],
   "source": [
    "from langchain_core.messages import HumanMessage, AIMessage\n",
    "from langchain_core.prompts import ChatPromptTemplate, MessagesPlaceholder\n",
    "from langchain.chains import LLMChain\n",
    "from langchain_core.runnables import RunnableSequence\n",
    "from langchain_core.runnables.history import RunnableWithMessageHistory\n",
    "\n",
    "from langchain_core.chat_history import (\n",
    "    BaseChatMessageHistory,\n",
    "    InMemoryChatMessageHistory,\n",
    ")\n",
    "from langchain_core.messages import SystemMessage, trim_messages\n",
    "from operator import itemgetter\n",
    "from langchain_core.runnables import RunnablePassthrough\n"
   ]
  },
  {
   "cell_type": "markdown",
   "metadata": {
    "id": "HUoxa5BtMW3r"
   },
   "source": [
    "## Basic chatbot"
   ]
  },
  {
   "cell_type": "markdown",
   "metadata": {
    "id": "9fXStOrEMtRL"
   },
   "source": [
    "### First Chat"
   ]
  },
  {
   "cell_type": "code",
   "execution_count": null,
   "metadata": {
    "id": "WSVpP6cUo5Yt"
   },
   "outputs": [],
   "source": [
    "from langchain_core.messages import HumanMessage, AIMessage"
   ]
  },
  {
   "cell_type": "code",
   "execution_count": null,
   "metadata": {
    "id": "5kpApMynpK3u"
   },
   "outputs": [],
   "source": [
    "message_1 = model.invoke([HumanMessage(content=\"Hi! I'm Bob\")])"
   ]
  },
  {
   "cell_type": "code",
   "execution_count": null,
   "metadata": {
    "colab": {
     "base_uri": "https://localhost:8080/",
     "height": 36
    },
    "id": "E6V_1_FppRHV",
    "outputId": "6b716061-7cfd-484e-cb06-f778c7e6e0b0"
   },
   "outputs": [
    {
     "data": {
      "application/vnd.google.colaboratory.intrinsic+json": {
       "type": "string"
      },
      "text/plain": [
       "\"Hi Bob! It's nice to meet you. Is there something I can help you with or would you like to chat?\""
      ]
     },
     "execution_count": 9,
     "metadata": {},
     "output_type": "execute_result"
    }
   ],
   "source": [
    "message_1.content"
   ]
  },
  {
   "cell_type": "markdown",
   "metadata": {
    "id": "vKPSCZWtpfRv"
   },
   "source": [
    "$ \\large \\text{The model on its own does not have any concept of state. For example, if you ask a followup question} $"
   ]
  },
  {
   "cell_type": "code",
   "execution_count": null,
   "metadata": {
    "colab": {
     "base_uri": "https://localhost:8080/",
     "height": 53
    },
    "id": "lTIMBn_Uo8wk",
    "outputId": "a9c6f854-aae2-4ea1-b573-e518da023d09"
   },
   "outputs": [
    {
     "data": {
      "application/vnd.google.colaboratory.intrinsic+json": {
       "type": "string"
      },
      "text/plain": [
       "\"I apologize, but I'm a large language model, I don't have the ability to know your name or any personal information about you. Each time you interact with me, it's a new conversation and I don't retain any information from previous conversations.\""
      ]
     },
     "execution_count": 10,
     "metadata": {},
     "output_type": "execute_result"
    }
   ],
   "source": [
    "message_2 = model.invoke([HumanMessage(content=\"What's my name?\")])\n",
    "message_2.content"
   ]
  },
  {
   "cell_type": "markdown",
   "metadata": {
    "id": "2DEqn6EJqWb2"
   },
   "source": [
    "$ \\large \\text{To get around this, we need to pass the entire conversation history into the model.} $"
   ]
  },
  {
   "cell_type": "code",
   "execution_count": null,
   "metadata": {
    "id": "1f8s2jeDpJO8"
   },
   "outputs": [],
   "source": [
    "messages_1 = model.invoke(\n",
    "    [\n",
    "        HumanMessage(content=\"Hi! I'm Bob\"),\n",
    "        AIMessage(content=\"Hello Bob! How can I assist you today?\"),\n",
    "        HumanMessage(content=\"What's my name?\"),\n",
    "    ]\n",
    ")"
   ]
  },
  {
   "cell_type": "code",
   "execution_count": null,
   "metadata": {
    "colab": {
     "base_uri": "https://localhost:8080/",
     "height": 36
    },
    "id": "Mr0ae_qkqrCW",
    "outputId": "4eba4967-219c-4bb3-dd25-abbed9c65f18"
   },
   "outputs": [
    {
     "data": {
      "application/vnd.google.colaboratory.intrinsic+json": {
       "type": "string"
      },
      "text/plain": [
       "'I know this one! Your name is Bob!'"
      ]
     },
     "execution_count": 14,
     "metadata": {},
     "output_type": "execute_result"
    }
   ],
   "source": [
    "messages_1.content"
   ]
  },
  {
   "cell_type": "markdown",
   "metadata": {
    "id": "o3UhUrHaq3BY"
   },
   "source": [
    "### Message History\n",
    "\n",
    "We can use a Message History class to wrap our model and make it stateful. This will keep track of inputs and outputs of the model, and store them in some datastore. Future interactions will then load those messages and pass them into the chain as part of the input. Let's see how to use this!"
   ]
  },
  {
   "cell_type": "markdown",
   "metadata": {
    "id": "IHMHXUlAqt68"
   },
   "source": [
    "### ChatPromptTemplate and MessagePlaceholder"
   ]
  },
  {
   "cell_type": "code",
   "execution_count": null,
   "metadata": {
    "id": "sM5fMs7YruyK"
   },
   "outputs": [],
   "source": [
    "from langchain_core.prompts import ChatPromptTemplate, MessagesPlaceholder\n",
    "from langchain.chains import LLMChain\n"
   ]
  },
  {
   "cell_type": "code",
   "execution_count": null,
   "metadata": {
    "id": "g4kXEtwDr3PL"
   },
   "outputs": [],
   "source": [
    "prompt = ChatPromptTemplate.from_messages(\n",
    "  [\n",
    "    (\n",
    "      \"system\",\n",
    "      \"You are a helpful assistant. Answer all questions to the best of your ability.\",\n",
    "    ),\n",
    "    MessagesPlaceholder(variable_name=\"messages\"),\n",
    "  ]\n",
    ")"
   ]
  },
  {
   "cell_type": "code",
   "execution_count": null,
   "metadata": {
    "colab": {
     "base_uri": "https://localhost:8080/",
     "height": 186
    },
    "id": "kvVtJAeUtCkL",
    "outputId": "83eaf4a2-ca69-4b8a-8039-1fe0dd23b367"
   },
   "outputs": [],
   "source": [
    "type(prompt)"
   ]
  },
  {
   "cell_type": "code",
   "execution_count": null,
   "metadata": {
    "colab": {
     "base_uri": "https://localhost:8080/"
    },
    "id": "2JEgN9tXsyYe",
    "outputId": "57d308e9-da7d-4024-891d-cde7b980b284"
   },
   "outputs": [
    {
     "data": {
      "text/plain": [
       "ChatPromptTemplate(input_variables=['messages'], input_types={'messages': typing.List[typing.Union[langchain_core.messages.ai.AIMessage, langchain_core.messages.human.HumanMessage, langchain_core.messages.chat.ChatMessage, langchain_core.messages.system.SystemMessage, langchain_core.messages.function.FunctionMessage, langchain_core.messages.tool.ToolMessage]]}, messages=[SystemMessagePromptTemplate(prompt=PromptTemplate(input_variables=[], template='You are a helpful assistant. Answer all questions to the best of your ability.')), MessagesPlaceholder(variable_name='messages')])"
      ]
     },
     "execution_count": 19,
     "metadata": {},
     "output_type": "execute_result"
    }
   ],
   "source": [
    "prompt"
   ]
  },
  {
   "cell_type": "code",
   "execution_count": null,
   "metadata": {
    "id": "aLjbHhG5r31z"
   },
   "outputs": [],
   "source": [
    "chain = prompt | model"
   ]
  },
  {
   "cell_type": "markdown",
   "metadata": {
    "id": "77vAdaFUwl5T"
   },
   "source": [
    "#### Avoiding LCEL"
   ]
  },
  {
   "cell_type": "code",
   "execution_count": null,
   "metadata": {
    "colab": {
     "base_uri": "https://localhost:8080/",
     "height": 221
    },
    "id": "sW3s97pRsAna",
    "outputId": "3d277531-5101-496c-f32f-f582f886ed08"
   },
   "outputs": [],
   "source": [
    "type(chain)"
   ]
  },
  {
   "cell_type": "code",
   "execution_count": null,
   "metadata": {
    "colab": {
     "base_uri": "https://localhost:8080/"
    },
    "id": "zq1B0T1LsC4r",
    "outputId": "f26ffe4c-f5f8-45b7-9ebf-9d6854041653"
   },
   "outputs": [
    {
     "name": "stderr",
     "output_type": "stream",
     "text": [
      "/usr/local/lib/python3.10/dist-packages/langchain_core/_api/deprecation.py:139: LangChainDeprecationWarning: The class `LLMChain` was deprecated in LangChain 0.1.17 and will be removed in 1.0. Use RunnableSequence, e.g., `prompt | llm` instead.\n",
      "  warn_deprecated(\n"
     ]
    }
   ],
   "source": [
    "chain = LLMChain(prompt=prompt, llm=model)"
   ]
  },
  {
   "cell_type": "code",
   "execution_count": null,
   "metadata": {
    "colab": {
     "base_uri": "https://localhost:8080/",
     "height": 287
    },
    "id": "WPgwum3Ruev8",
    "outputId": "a2f7986a-05ce-4257-c829-e64a9a9e5a80"
   },
   "outputs": [
    {
     "ename": "ValueError",
     "evalue": "variable messages should be a list of base messages, got {'text': 'Hello, how are you?'}",
     "output_type": "error",
     "traceback": [
      "\u001b[0;31m---------------------------------------------------------------------------\u001b[0m",
      "\u001b[0;31mValueError\u001b[0m                                Traceback (most recent call last)",
      "\u001b[0;32m<ipython-input-27-f0a37084dbf0>\u001b[0m in \u001b[0;36m<cell line: 1>\u001b[0;34m()\u001b[0m\n\u001b[0;32m----> 1\u001b[0;31m \u001b[0mresponse\u001b[0m \u001b[0;34m=\u001b[0m \u001b[0mchain\u001b[0m\u001b[0;34m.\u001b[0m\u001b[0mrun\u001b[0m\u001b[0;34m(\u001b[0m\u001b[0mmessages\u001b[0m\u001b[0;34m=\u001b[0m\u001b[0;34m{\u001b[0m\u001b[0;34m\"text\"\u001b[0m\u001b[0;34m:\u001b[0m \u001b[0;34m\"Hello, how are you?\"\u001b[0m\u001b[0;34m}\u001b[0m\u001b[0;34m)\u001b[0m\u001b[0;34m\u001b[0m\u001b[0;34m\u001b[0m\u001b[0m\n\u001b[0m",
      "\u001b[0;32m/usr/local/lib/python3.10/dist-packages/langchain_core/_api/deprecation.py\u001b[0m in \u001b[0;36mwarning_emitting_wrapper\u001b[0;34m(*args, **kwargs)\u001b[0m\n\u001b[1;32m    166\u001b[0m                 \u001b[0mwarned\u001b[0m \u001b[0;34m=\u001b[0m \u001b[0;32mTrue\u001b[0m\u001b[0;34m\u001b[0m\u001b[0;34m\u001b[0m\u001b[0m\n\u001b[1;32m    167\u001b[0m                 \u001b[0memit_warning\u001b[0m\u001b[0;34m(\u001b[0m\u001b[0;34m)\u001b[0m\u001b[0;34m\u001b[0m\u001b[0;34m\u001b[0m\u001b[0m\n\u001b[0;32m--> 168\u001b[0;31m             \u001b[0;32mreturn\u001b[0m \u001b[0mwrapped\u001b[0m\u001b[0;34m(\u001b[0m\u001b[0;34m*\u001b[0m\u001b[0margs\u001b[0m\u001b[0;34m,\u001b[0m \u001b[0;34m**\u001b[0m\u001b[0mkwargs\u001b[0m\u001b[0;34m)\u001b[0m\u001b[0;34m\u001b[0m\u001b[0;34m\u001b[0m\u001b[0m\n\u001b[0m\u001b[1;32m    169\u001b[0m \u001b[0;34m\u001b[0m\u001b[0m\n\u001b[1;32m    170\u001b[0m         \u001b[0;32masync\u001b[0m \u001b[0;32mdef\u001b[0m \u001b[0mawarning_emitting_wrapper\u001b[0m\u001b[0;34m(\u001b[0m\u001b[0;34m*\u001b[0m\u001b[0margs\u001b[0m\u001b[0;34m:\u001b[0m \u001b[0mAny\u001b[0m\u001b[0;34m,\u001b[0m \u001b[0;34m**\u001b[0m\u001b[0mkwargs\u001b[0m\u001b[0;34m:\u001b[0m \u001b[0mAny\u001b[0m\u001b[0;34m)\u001b[0m \u001b[0;34m->\u001b[0m \u001b[0mAny\u001b[0m\u001b[0;34m:\u001b[0m\u001b[0;34m\u001b[0m\u001b[0;34m\u001b[0m\u001b[0m\n",
      "\u001b[0;32m/usr/local/lib/python3.10/dist-packages/langchain/chains/base.py\u001b[0m in \u001b[0;36mrun\u001b[0;34m(self, callbacks, tags, metadata, *args, **kwargs)\u001b[0m\n\u001b[1;32m    603\u001b[0m \u001b[0;34m\u001b[0m\u001b[0m\n\u001b[1;32m    604\u001b[0m         \u001b[0;32mif\u001b[0m \u001b[0mkwargs\u001b[0m \u001b[0;32mand\u001b[0m \u001b[0;32mnot\u001b[0m \u001b[0margs\u001b[0m\u001b[0;34m:\u001b[0m\u001b[0;34m\u001b[0m\u001b[0;34m\u001b[0m\u001b[0m\n\u001b[0;32m--> 605\u001b[0;31m             return self(kwargs, callbacks=callbacks, tags=tags, metadata=metadata)[\n\u001b[0m\u001b[1;32m    606\u001b[0m                 \u001b[0m_output_key\u001b[0m\u001b[0;34m\u001b[0m\u001b[0;34m\u001b[0m\u001b[0m\n\u001b[1;32m    607\u001b[0m             ]\n",
      "\u001b[0;32m/usr/local/lib/python3.10/dist-packages/langchain_core/_api/deprecation.py\u001b[0m in \u001b[0;36mwarning_emitting_wrapper\u001b[0;34m(*args, **kwargs)\u001b[0m\n\u001b[1;32m    166\u001b[0m                 \u001b[0mwarned\u001b[0m \u001b[0;34m=\u001b[0m \u001b[0;32mTrue\u001b[0m\u001b[0;34m\u001b[0m\u001b[0;34m\u001b[0m\u001b[0m\n\u001b[1;32m    167\u001b[0m                 \u001b[0memit_warning\u001b[0m\u001b[0;34m(\u001b[0m\u001b[0;34m)\u001b[0m\u001b[0;34m\u001b[0m\u001b[0;34m\u001b[0m\u001b[0m\n\u001b[0;32m--> 168\u001b[0;31m             \u001b[0;32mreturn\u001b[0m \u001b[0mwrapped\u001b[0m\u001b[0;34m(\u001b[0m\u001b[0;34m*\u001b[0m\u001b[0margs\u001b[0m\u001b[0;34m,\u001b[0m \u001b[0;34m**\u001b[0m\u001b[0mkwargs\u001b[0m\u001b[0;34m)\u001b[0m\u001b[0;34m\u001b[0m\u001b[0;34m\u001b[0m\u001b[0m\n\u001b[0m\u001b[1;32m    169\u001b[0m \u001b[0;34m\u001b[0m\u001b[0m\n\u001b[1;32m    170\u001b[0m         \u001b[0;32masync\u001b[0m \u001b[0;32mdef\u001b[0m \u001b[0mawarning_emitting_wrapper\u001b[0m\u001b[0;34m(\u001b[0m\u001b[0;34m*\u001b[0m\u001b[0margs\u001b[0m\u001b[0;34m:\u001b[0m \u001b[0mAny\u001b[0m\u001b[0;34m,\u001b[0m \u001b[0;34m**\u001b[0m\u001b[0mkwargs\u001b[0m\u001b[0;34m:\u001b[0m \u001b[0mAny\u001b[0m\u001b[0;34m)\u001b[0m \u001b[0;34m->\u001b[0m \u001b[0mAny\u001b[0m\u001b[0;34m:\u001b[0m\u001b[0;34m\u001b[0m\u001b[0;34m\u001b[0m\u001b[0m\n",
      "\u001b[0;32m/usr/local/lib/python3.10/dist-packages/langchain/chains/base.py\u001b[0m in \u001b[0;36m__call__\u001b[0;34m(self, inputs, return_only_outputs, callbacks, tags, metadata, run_name, include_run_info)\u001b[0m\n\u001b[1;32m    381\u001b[0m         }\n\u001b[1;32m    382\u001b[0m \u001b[0;34m\u001b[0m\u001b[0m\n\u001b[0;32m--> 383\u001b[0;31m         return self.invoke(\n\u001b[0m\u001b[1;32m    384\u001b[0m             \u001b[0minputs\u001b[0m\u001b[0;34m,\u001b[0m\u001b[0;34m\u001b[0m\u001b[0;34m\u001b[0m\u001b[0m\n\u001b[1;32m    385\u001b[0m             \u001b[0mcast\u001b[0m\u001b[0;34m(\u001b[0m\u001b[0mRunnableConfig\u001b[0m\u001b[0;34m,\u001b[0m \u001b[0;34m{\u001b[0m\u001b[0mk\u001b[0m\u001b[0;34m:\u001b[0m \u001b[0mv\u001b[0m \u001b[0;32mfor\u001b[0m \u001b[0mk\u001b[0m\u001b[0;34m,\u001b[0m \u001b[0mv\u001b[0m \u001b[0;32min\u001b[0m \u001b[0mconfig\u001b[0m\u001b[0;34m.\u001b[0m\u001b[0mitems\u001b[0m\u001b[0;34m(\u001b[0m\u001b[0;34m)\u001b[0m \u001b[0;32mif\u001b[0m \u001b[0mv\u001b[0m \u001b[0;32mis\u001b[0m \u001b[0;32mnot\u001b[0m \u001b[0;32mNone\u001b[0m\u001b[0;34m}\u001b[0m\u001b[0;34m)\u001b[0m\u001b[0;34m,\u001b[0m\u001b[0;34m\u001b[0m\u001b[0;34m\u001b[0m\u001b[0m\n",
      "\u001b[0;32m/usr/local/lib/python3.10/dist-packages/langchain/chains/base.py\u001b[0m in \u001b[0;36minvoke\u001b[0;34m(self, input, config, **kwargs)\u001b[0m\n\u001b[1;32m    164\u001b[0m         \u001b[0;32mexcept\u001b[0m \u001b[0mBaseException\u001b[0m \u001b[0;32mas\u001b[0m \u001b[0me\u001b[0m\u001b[0;34m:\u001b[0m\u001b[0;34m\u001b[0m\u001b[0;34m\u001b[0m\u001b[0m\n\u001b[1;32m    165\u001b[0m             \u001b[0mrun_manager\u001b[0m\u001b[0;34m.\u001b[0m\u001b[0mon_chain_error\u001b[0m\u001b[0;34m(\u001b[0m\u001b[0me\u001b[0m\u001b[0;34m)\u001b[0m\u001b[0;34m\u001b[0m\u001b[0;34m\u001b[0m\u001b[0m\n\u001b[0;32m--> 166\u001b[0;31m             \u001b[0;32mraise\u001b[0m \u001b[0me\u001b[0m\u001b[0;34m\u001b[0m\u001b[0;34m\u001b[0m\u001b[0m\n\u001b[0m\u001b[1;32m    167\u001b[0m         \u001b[0mrun_manager\u001b[0m\u001b[0;34m.\u001b[0m\u001b[0mon_chain_end\u001b[0m\u001b[0;34m(\u001b[0m\u001b[0moutputs\u001b[0m\u001b[0;34m)\u001b[0m\u001b[0;34m\u001b[0m\u001b[0;34m\u001b[0m\u001b[0m\n\u001b[1;32m    168\u001b[0m \u001b[0;34m\u001b[0m\u001b[0m\n",
      "\u001b[0;32m/usr/local/lib/python3.10/dist-packages/langchain/chains/base.py\u001b[0m in \u001b[0;36minvoke\u001b[0;34m(self, input, config, **kwargs)\u001b[0m\n\u001b[1;32m    154\u001b[0m             \u001b[0mself\u001b[0m\u001b[0;34m.\u001b[0m\u001b[0m_validate_inputs\u001b[0m\u001b[0;34m(\u001b[0m\u001b[0minputs\u001b[0m\u001b[0;34m)\u001b[0m\u001b[0;34m\u001b[0m\u001b[0;34m\u001b[0m\u001b[0m\n\u001b[1;32m    155\u001b[0m             outputs = (\n\u001b[0;32m--> 156\u001b[0;31m                 \u001b[0mself\u001b[0m\u001b[0;34m.\u001b[0m\u001b[0m_call\u001b[0m\u001b[0;34m(\u001b[0m\u001b[0minputs\u001b[0m\u001b[0;34m,\u001b[0m \u001b[0mrun_manager\u001b[0m\u001b[0;34m=\u001b[0m\u001b[0mrun_manager\u001b[0m\u001b[0;34m)\u001b[0m\u001b[0;34m\u001b[0m\u001b[0;34m\u001b[0m\u001b[0m\n\u001b[0m\u001b[1;32m    157\u001b[0m                 \u001b[0;32mif\u001b[0m \u001b[0mnew_arg_supported\u001b[0m\u001b[0;34m\u001b[0m\u001b[0;34m\u001b[0m\u001b[0m\n\u001b[1;32m    158\u001b[0m                 \u001b[0;32melse\u001b[0m \u001b[0mself\u001b[0m\u001b[0;34m.\u001b[0m\u001b[0m_call\u001b[0m\u001b[0;34m(\u001b[0m\u001b[0minputs\u001b[0m\u001b[0;34m)\u001b[0m\u001b[0;34m\u001b[0m\u001b[0;34m\u001b[0m\u001b[0m\n",
      "\u001b[0;32m/usr/local/lib/python3.10/dist-packages/langchain/chains/llm.py\u001b[0m in \u001b[0;36m_call\u001b[0;34m(self, inputs, run_manager)\u001b[0m\n\u001b[1;32m    126\u001b[0m         \u001b[0mrun_manager\u001b[0m\u001b[0;34m:\u001b[0m \u001b[0mOptional\u001b[0m\u001b[0;34m[\u001b[0m\u001b[0mCallbackManagerForChainRun\u001b[0m\u001b[0;34m]\u001b[0m \u001b[0;34m=\u001b[0m \u001b[0;32mNone\u001b[0m\u001b[0;34m,\u001b[0m\u001b[0;34m\u001b[0m\u001b[0;34m\u001b[0m\u001b[0m\n\u001b[1;32m    127\u001b[0m     ) -> Dict[str, str]:\n\u001b[0;32m--> 128\u001b[0;31m         \u001b[0mresponse\u001b[0m \u001b[0;34m=\u001b[0m \u001b[0mself\u001b[0m\u001b[0;34m.\u001b[0m\u001b[0mgenerate\u001b[0m\u001b[0;34m(\u001b[0m\u001b[0;34m[\u001b[0m\u001b[0minputs\u001b[0m\u001b[0;34m]\u001b[0m\u001b[0;34m,\u001b[0m \u001b[0mrun_manager\u001b[0m\u001b[0;34m=\u001b[0m\u001b[0mrun_manager\u001b[0m\u001b[0;34m)\u001b[0m\u001b[0;34m\u001b[0m\u001b[0;34m\u001b[0m\u001b[0m\n\u001b[0m\u001b[1;32m    129\u001b[0m         \u001b[0;32mreturn\u001b[0m \u001b[0mself\u001b[0m\u001b[0;34m.\u001b[0m\u001b[0mcreate_outputs\u001b[0m\u001b[0;34m(\u001b[0m\u001b[0mresponse\u001b[0m\u001b[0;34m)\u001b[0m\u001b[0;34m[\u001b[0m\u001b[0;36m0\u001b[0m\u001b[0;34m]\u001b[0m\u001b[0;34m\u001b[0m\u001b[0;34m\u001b[0m\u001b[0m\n\u001b[1;32m    130\u001b[0m \u001b[0;34m\u001b[0m\u001b[0m\n",
      "\u001b[0;32m/usr/local/lib/python3.10/dist-packages/langchain/chains/llm.py\u001b[0m in \u001b[0;36mgenerate\u001b[0;34m(self, input_list, run_manager)\u001b[0m\n\u001b[1;32m    135\u001b[0m     ) -> LLMResult:\n\u001b[1;32m    136\u001b[0m         \u001b[0;34m\"\"\"Generate LLM result from inputs.\"\"\"\u001b[0m\u001b[0;34m\u001b[0m\u001b[0;34m\u001b[0m\u001b[0m\n\u001b[0;32m--> 137\u001b[0;31m         \u001b[0mprompts\u001b[0m\u001b[0;34m,\u001b[0m \u001b[0mstop\u001b[0m \u001b[0;34m=\u001b[0m \u001b[0mself\u001b[0m\u001b[0;34m.\u001b[0m\u001b[0mprep_prompts\u001b[0m\u001b[0;34m(\u001b[0m\u001b[0minput_list\u001b[0m\u001b[0;34m,\u001b[0m \u001b[0mrun_manager\u001b[0m\u001b[0;34m=\u001b[0m\u001b[0mrun_manager\u001b[0m\u001b[0;34m)\u001b[0m\u001b[0;34m\u001b[0m\u001b[0;34m\u001b[0m\u001b[0m\n\u001b[0m\u001b[1;32m    138\u001b[0m         \u001b[0mcallbacks\u001b[0m \u001b[0;34m=\u001b[0m \u001b[0mrun_manager\u001b[0m\u001b[0;34m.\u001b[0m\u001b[0mget_child\u001b[0m\u001b[0;34m(\u001b[0m\u001b[0;34m)\u001b[0m \u001b[0;32mif\u001b[0m \u001b[0mrun_manager\u001b[0m \u001b[0;32melse\u001b[0m \u001b[0;32mNone\u001b[0m\u001b[0;34m\u001b[0m\u001b[0;34m\u001b[0m\u001b[0m\n\u001b[1;32m    139\u001b[0m         \u001b[0;32mif\u001b[0m \u001b[0misinstance\u001b[0m\u001b[0;34m(\u001b[0m\u001b[0mself\u001b[0m\u001b[0;34m.\u001b[0m\u001b[0mllm\u001b[0m\u001b[0;34m,\u001b[0m \u001b[0mBaseLanguageModel\u001b[0m\u001b[0;34m)\u001b[0m\u001b[0;34m:\u001b[0m\u001b[0;34m\u001b[0m\u001b[0;34m\u001b[0m\u001b[0m\n",
      "\u001b[0;32m/usr/local/lib/python3.10/dist-packages/langchain/chains/llm.py\u001b[0m in \u001b[0;36mprep_prompts\u001b[0;34m(self, input_list, run_manager)\u001b[0m\n\u001b[1;32m    197\u001b[0m         \u001b[0;32mfor\u001b[0m \u001b[0minputs\u001b[0m \u001b[0;32min\u001b[0m \u001b[0minput_list\u001b[0m\u001b[0;34m:\u001b[0m\u001b[0;34m\u001b[0m\u001b[0;34m\u001b[0m\u001b[0m\n\u001b[1;32m    198\u001b[0m             \u001b[0mselected_inputs\u001b[0m \u001b[0;34m=\u001b[0m \u001b[0;34m{\u001b[0m\u001b[0mk\u001b[0m\u001b[0;34m:\u001b[0m \u001b[0minputs\u001b[0m\u001b[0;34m[\u001b[0m\u001b[0mk\u001b[0m\u001b[0;34m]\u001b[0m \u001b[0;32mfor\u001b[0m \u001b[0mk\u001b[0m \u001b[0;32min\u001b[0m \u001b[0mself\u001b[0m\u001b[0;34m.\u001b[0m\u001b[0mprompt\u001b[0m\u001b[0;34m.\u001b[0m\u001b[0minput_variables\u001b[0m\u001b[0;34m}\u001b[0m\u001b[0;34m\u001b[0m\u001b[0;34m\u001b[0m\u001b[0m\n\u001b[0;32m--> 199\u001b[0;31m             \u001b[0mprompt\u001b[0m \u001b[0;34m=\u001b[0m \u001b[0mself\u001b[0m\u001b[0;34m.\u001b[0m\u001b[0mprompt\u001b[0m\u001b[0;34m.\u001b[0m\u001b[0mformat_prompt\u001b[0m\u001b[0;34m(\u001b[0m\u001b[0;34m**\u001b[0m\u001b[0mselected_inputs\u001b[0m\u001b[0;34m)\u001b[0m\u001b[0;34m\u001b[0m\u001b[0;34m\u001b[0m\u001b[0m\n\u001b[0m\u001b[1;32m    200\u001b[0m             \u001b[0m_colored_text\u001b[0m \u001b[0;34m=\u001b[0m \u001b[0mget_colored_text\u001b[0m\u001b[0;34m(\u001b[0m\u001b[0mprompt\u001b[0m\u001b[0;34m.\u001b[0m\u001b[0mto_string\u001b[0m\u001b[0;34m(\u001b[0m\u001b[0;34m)\u001b[0m\u001b[0;34m,\u001b[0m \u001b[0;34m\"green\"\u001b[0m\u001b[0;34m)\u001b[0m\u001b[0;34m\u001b[0m\u001b[0;34m\u001b[0m\u001b[0m\n\u001b[1;32m    201\u001b[0m             \u001b[0m_text\u001b[0m \u001b[0;34m=\u001b[0m \u001b[0;34m\"Prompt after formatting:\\n\"\u001b[0m \u001b[0;34m+\u001b[0m \u001b[0m_colored_text\u001b[0m\u001b[0;34m\u001b[0m\u001b[0;34m\u001b[0m\u001b[0m\n",
      "\u001b[0;32m/usr/local/lib/python3.10/dist-packages/langchain_core/prompts/chat.py\u001b[0m in \u001b[0;36mformat_prompt\u001b[0;34m(self, **kwargs)\u001b[0m\n\u001b[1;32m    763\u001b[0m             \u001b[0mPromptValue\u001b[0m\u001b[0;34m.\u001b[0m\u001b[0;34m\u001b[0m\u001b[0;34m\u001b[0m\u001b[0m\n\u001b[1;32m    764\u001b[0m         \"\"\"\n\u001b[0;32m--> 765\u001b[0;31m         \u001b[0mmessages\u001b[0m \u001b[0;34m=\u001b[0m \u001b[0mself\u001b[0m\u001b[0;34m.\u001b[0m\u001b[0mformat_messages\u001b[0m\u001b[0;34m(\u001b[0m\u001b[0;34m**\u001b[0m\u001b[0mkwargs\u001b[0m\u001b[0;34m)\u001b[0m\u001b[0;34m\u001b[0m\u001b[0;34m\u001b[0m\u001b[0m\n\u001b[0m\u001b[1;32m    766\u001b[0m         \u001b[0;32mreturn\u001b[0m \u001b[0mChatPromptValue\u001b[0m\u001b[0;34m(\u001b[0m\u001b[0mmessages\u001b[0m\u001b[0;34m=\u001b[0m\u001b[0mmessages\u001b[0m\u001b[0;34m)\u001b[0m\u001b[0;34m\u001b[0m\u001b[0;34m\u001b[0m\u001b[0m\n\u001b[1;32m    767\u001b[0m \u001b[0;34m\u001b[0m\u001b[0m\n",
      "\u001b[0;32m/usr/local/lib/python3.10/dist-packages/langchain_core/prompts/chat.py\u001b[0m in \u001b[0;36mformat_messages\u001b[0;34m(self, **kwargs)\u001b[0m\n\u001b[1;32m   1140\u001b[0m                 \u001b[0mmessage_template\u001b[0m\u001b[0;34m,\u001b[0m \u001b[0;34m(\u001b[0m\u001b[0mBaseMessagePromptTemplate\u001b[0m\u001b[0;34m,\u001b[0m \u001b[0mBaseChatPromptTemplate\u001b[0m\u001b[0;34m)\u001b[0m\u001b[0;34m\u001b[0m\u001b[0;34m\u001b[0m\u001b[0m\n\u001b[1;32m   1141\u001b[0m             ):\n\u001b[0;32m-> 1142\u001b[0;31m                 \u001b[0mmessage\u001b[0m \u001b[0;34m=\u001b[0m \u001b[0mmessage_template\u001b[0m\u001b[0;34m.\u001b[0m\u001b[0mformat_messages\u001b[0m\u001b[0;34m(\u001b[0m\u001b[0;34m**\u001b[0m\u001b[0mkwargs\u001b[0m\u001b[0;34m)\u001b[0m\u001b[0;34m\u001b[0m\u001b[0;34m\u001b[0m\u001b[0m\n\u001b[0m\u001b[1;32m   1143\u001b[0m                 \u001b[0mresult\u001b[0m\u001b[0;34m.\u001b[0m\u001b[0mextend\u001b[0m\u001b[0;34m(\u001b[0m\u001b[0mmessage\u001b[0m\u001b[0;34m)\u001b[0m\u001b[0;34m\u001b[0m\u001b[0;34m\u001b[0m\u001b[0m\n\u001b[1;32m   1144\u001b[0m             \u001b[0;32melse\u001b[0m\u001b[0;34m:\u001b[0m\u001b[0;34m\u001b[0m\u001b[0;34m\u001b[0m\u001b[0m\n",
      "\u001b[0;32m/usr/local/lib/python3.10/dist-packages/langchain_core/prompts/chat.py\u001b[0m in \u001b[0;36mformat_messages\u001b[0;34m(self, **kwargs)\u001b[0m\n\u001b[1;32m    229\u001b[0m         )\n\u001b[1;32m    230\u001b[0m         \u001b[0;32mif\u001b[0m \u001b[0;32mnot\u001b[0m \u001b[0misinstance\u001b[0m\u001b[0;34m(\u001b[0m\u001b[0mvalue\u001b[0m\u001b[0;34m,\u001b[0m \u001b[0mlist\u001b[0m\u001b[0;34m)\u001b[0m\u001b[0;34m:\u001b[0m\u001b[0;34m\u001b[0m\u001b[0;34m\u001b[0m\u001b[0m\n\u001b[0;32m--> 231\u001b[0;31m             raise ValueError(\n\u001b[0m\u001b[1;32m    232\u001b[0m                 \u001b[0;34mf\"variable {self.variable_name} should be a list of base messages, \"\u001b[0m\u001b[0;34m\u001b[0m\u001b[0;34m\u001b[0m\u001b[0m\n\u001b[1;32m    233\u001b[0m                 \u001b[0;34mf\"got {value}\"\u001b[0m\u001b[0;34m\u001b[0m\u001b[0;34m\u001b[0m\u001b[0m\n",
      "\u001b[0;31mValueError\u001b[0m: variable messages should be a list of base messages, got {'text': 'Hello, how are you?'}"
     ]
    }
   ],
   "source": [
    "response = chain.run(messages={\"text\": \"Hello, how are you?\"})"
   ]
  },
  {
   "cell_type": "code",
   "execution_count": null,
   "metadata": {
    "colab": {
     "base_uri": "https://localhost:8080/",
     "height": 314
    },
    "id": "KgUez_5Bujot",
    "outputId": "f3e765b1-61f5-4187-e7ca-641461a27f7a"
   },
   "outputs": [
    {
     "ename": "ImportError",
     "errorDetails": {
      "actions": [
       {
        "action": "open_url",
        "actionText": "Open Examples",
        "url": "/notebooks/snippets/importing_libraries.ipynb"
       }
      ]
     },
     "evalue": "cannot import name 'Chain' from 'langchain.chains' (/usr/local/lib/python3.10/dist-packages/langchain/chains/__init__.py)",
     "output_type": "error",
     "traceback": [
      "\u001b[0;31m---------------------------------------------------------------------------\u001b[0m",
      "\u001b[0;31mImportError\u001b[0m                               Traceback (most recent call last)",
      "\u001b[0;32m<ipython-input-28-ca810d1e2a11>\u001b[0m in \u001b[0;36m<cell line: 1>\u001b[0;34m()\u001b[0m\n\u001b[0;32m----> 1\u001b[0;31m \u001b[0;32mfrom\u001b[0m \u001b[0mlangchain\u001b[0m\u001b[0;34m.\u001b[0m\u001b[0mchains\u001b[0m \u001b[0;32mimport\u001b[0m \u001b[0mChain\u001b[0m\u001b[0;34m\u001b[0m\u001b[0;34m\u001b[0m\u001b[0m\n\u001b[0m",
      "\u001b[0;31mImportError\u001b[0m: cannot import name 'Chain' from 'langchain.chains' (/usr/local/lib/python3.10/dist-packages/langchain/chains/__init__.py)",
      "",
      "\u001b[0;31m---------------------------------------------------------------------------\u001b[0;32m\nNOTE: If your import is failing due to a missing package, you can\nmanually install dependencies using either !pip or !apt.\n\nTo view examples of installing some common dependencies, click the\n\"Open Examples\" button below.\n\u001b[0;31m---------------------------------------------------------------------------\u001b[0m\n"
     ]
    }
   ],
   "source": [
    "from langchain.chains import Chain"
   ]
  },
  {
   "cell_type": "markdown",
   "metadata": {
    "id": "YGWJ3XGpwp3m"
   },
   "source": [
    "#### Still avoiding LCEL"
   ]
  },
  {
   "cell_type": "code",
   "execution_count": null,
   "metadata": {
    "id": "4ggg2-76u2gE"
   },
   "outputs": [],
   "source": [
    "from langchain_core.runnables import RunnableSequence"
   ]
  },
  {
   "cell_type": "code",
   "execution_count": null,
   "metadata": {
    "id": "33QJbydbwuiE"
   },
   "outputs": [],
   "source": [
    "chain = RunnableSequence(\n",
    "    prompt,\n",
    "    model\n",
    ")"
   ]
  },
  {
   "cell_type": "code",
   "execution_count": null,
   "metadata": {
    "id": "tjf_fECgw6_F"
   },
   "outputs": [],
   "source": [
    "response = chain.invoke([\n",
    "    HumanMessage(content=\"Hi! I'm Bob\"),\n",
    "    AIMessage(content=\"Hello Bob! How can I assist you today?\"),\n",
    "    HumanMessage(content=\"What's my name?\"),\n",
    "])"
   ]
  },
  {
   "cell_type": "code",
   "execution_count": null,
   "metadata": {
    "colab": {
     "base_uri": "https://localhost:8080/"
    },
    "id": "J2KwKHvAxA29",
    "outputId": "d4643182-6013-4e61-99c0-60cfc2eb968d"
   },
   "outputs": [
    {
     "data": {
      "text/plain": [
       "AIMessage(content='You told me your name is Bob!', response_metadata={'token_usage': {'completion_tokens': 9, 'prompt_tokens': 61, 'total_tokens': 70, 'completion_time': 0.006560376, 'prompt_time': 0.012852163, 'queue_time': None, 'total_time': 0.019412539}, 'model_name': 'llama3-8b-8192', 'system_fingerprint': 'fp_6a6771ae9c', 'finish_reason': 'stop', 'logprobs': None}, id='run-467dc206-f45b-4fed-9926-9261251cdf7e-0', usage_metadata={'input_tokens': 61, 'output_tokens': 9, 'total_tokens': 70})"
      ]
     },
     "execution_count": 36,
     "metadata": {},
     "output_type": "execute_result"
    }
   ],
   "source": [
    "response"
   ]
  },
  {
   "cell_type": "markdown",
   "metadata": {
    "id": "TlDEb0I3MErC"
   },
   "source": [
    "### Message History Runnable"
   ]
  },
  {
   "cell_type": "markdown",
   "metadata": {
    "id": "z2rfryS6Q0Yc"
   },
   "source": [
    "`RunnableWithMessageHistory`\n",
    "\n",
    "\n",
    " - Runnable that manages chat message history for another Runnable.\n",
    "\n",
    " - A chat message history is a sequence of messages that represent a conversation.\n",
    "\n",
    " - `RunnableWithMessageHistory` wraps another Runnable and manages the chat message history for it; it is responsible for reading and updating the chat message history.\n",
    "\n",
    "  - `get_session_history` - Function that returns a new `BaseChatMessageHistory`. This function should either take a single positional argument session_id of type string and return a corresponding chat message history instance.\n",
    "\n",
    "  - `input_messages_key`- Must be specified if the base runnable accepts a dict as input. The key in the input dict that contains the messages.\n",
    "\n",
    "  - `output_messages_key` - Must be specified if the base Runnable returns a dict as output. The key in the output dict that contains the messages.\n",
    "\n",
    "  - `history_messages_key` - Must be specified if the base runnable accepts a dict as input and expects a separate key for historical messages."
   ]
  },
  {
   "cell_type": "code",
   "execution_count": null,
   "metadata": {
    "id": "JApagYdhxJQ2"
   },
   "outputs": [],
   "source": [
    "from langchain_core.chat_history import (\n",
    "    BaseChatMessageHistory,\n",
    "    InMemoryChatMessageHistory,\n",
    ")\n",
    "from langchain_core.runnables.history import RunnableWithMessageHistory\n",
    "\n"
   ]
  },
  {
   "cell_type": "markdown",
   "metadata": {
    "id": "gzbMuJ8EN8hS"
   },
   "source": [
    "$ \\large \\text{We need to pass the entire conversation history into the model. } $"
   ]
  },
  {
   "cell_type": "code",
   "execution_count": null,
   "metadata": {
    "id": "OAIlOiOHMKz3"
   },
   "outputs": [],
   "source": [
    "store = {}\n",
    "\n",
    "\n",
    "def get_session_history(session_id: str) -> BaseChatMessageHistory:\n",
    "    if session_id not in store:\n",
    "        store[session_id] = InMemoryChatMessageHistory()\n",
    "    return store[session_id]\n",
    "\n",
    "\n"
   ]
  },
  {
   "cell_type": "code",
   "execution_count": null,
   "metadata": {
    "id": "hzjdXl9oUY9H"
   },
   "outputs": [],
   "source": [
    "store = {}"
   ]
  },
  {
   "cell_type": "code",
   "execution_count": null,
   "metadata": {},
   "outputs": [],
   "source": [
    "with_message_history = RunnableWithMessageHistory(model, get_session_history)\n",
    "config = {\"configurable\": {\"session_id\": \"abc2\"}}"
   ]
  },
  {
   "cell_type": "markdown",
   "metadata": {
    "id": "dFW5v6E7ZuuE"
   },
   "source": [
    "#### Trying to chat with historical context\n"
   ]
  },
  {
   "cell_type": "code",
   "execution_count": null,
   "metadata": {
    "id": "zjxjgyCE3Vi7"
   },
   "outputs": [],
   "source": [
    "with_message_history = RunnableWithMessageHistory(model, get_session_history)\n",
    "config = {\"configurable\": {\"session_id\": \"abc2\"}}"
   ]
  },
  {
   "cell_type": "code",
   "execution_count": null,
   "metadata": {
    "colab": {
     "base_uri": "https://localhost:8080/",
     "height": 53
    },
    "id": "wYlVMC0wUa0Y",
    "outputId": "8d6a664d-d7ed-46e0-fce0-9cecf247a8a0"
   },
   "outputs": [
    {
     "data": {
      "application/vnd.google.colaboratory.intrinsic+json": {
       "type": "string"
      },
      "text/plain": [
       "\"What an exciting task! I'm ready to bring your prompts to life. Please go ahead and provide the short description prompts for the chapter, including any character details you'd like me to include.\""
      ]
     },
     "execution_count": 47,
     "metadata": {},
     "output_type": "execute_result"
    }
   ],
   "source": [
    "message_1= \"\"\"You are a novelist.\n",
    "Your task is to elaborate a chapter based on short description prompts provided by the user.\n",
    "Remember that characters and their characteristics are important in this story\n",
    "\"\"\"\n",
    "\n",
    "response = with_message_history.invoke(\n",
    "    [HumanMessage(content=message_1)],\n",
    "    config=config,\n",
    ")\n",
    "\n",
    "response.content"
   ]
  },
  {
   "cell_type": "code",
   "execution_count": null,
   "metadata": {
    "colab": {
     "base_uri": "https://localhost:8080/",
     "height": 313
    },
    "id": "OkUXFyEMc9J7",
    "outputId": "8ffe496f-bfe1-4918-a42e-ca709951b397"
   },
   "outputs": [],
   "source": [
    "store[\"abc2\"].messages[-1].content"
   ]
  },
  {
   "cell_type": "code",
   "execution_count": null,
   "metadata": {
    "colab": {
     "base_uri": "https://localhost:8080/",
     "height": 296
    },
    "id": "m6HRBO9fUjtV",
    "outputId": "2baf0513-9f81-4eaf-f34a-414e86d4c7af"
   },
   "outputs": [],
   "source": [
    "message_2 = \"\"\"\n",
    "Reynier, a 19 year old boy Reynier  lives with his mother Renuka, a 46 year manager at a bank and his older sister Riya, 22. His parents separated when he was young. Renuka is also very traditional, only seen in saris, salwars and traditional outfits.\n",
    "\n",
    "Reynier  is a bright student. His creativity rivals that of Da Vinci. He is a college freshman, majoring in fashion design along with his childhood friend Ankur. Ankur lives in the neighborhood with his mom Arti. 12 years ago, at Ankur's, he saw Arti in jeans and found out that he was attracted to women wearing jeans. In fact, that was the first time Reynier  had felt attraction, at all.\n",
    "\n",
    "All of Renuka’s friends and colleagues, (females) wear jeans. Reynier is fascinated by them. His friends tease him, because his mother is old-fashioned. “Why don’t you wear jeans, mommy. They look so cool”, Reynier  had asked her when he was 8. “Jeans don’t suit me”. She was right. She was too tall and hourglass. Manufacturers were simply not making jeans of that shape and size. And she loved being traditional.\n",
    "\n",
    "\"\"\"\n",
    "\n",
    "response = with_message_history.invoke(\n",
    "    [HumanMessage(content=message_2)],\n",
    "    config=config,\n",
    ")\n",
    "\n",
    "response.content"
   ]
  },
  {
   "cell_type": "code",
   "execution_count": null,
   "metadata": {
    "colab": {
     "base_uri": "https://localhost:8080/",
     "height": 244
    },
    "id": "rHuMnz5BVSVp",
    "outputId": "63509969-47b5-467a-8a45-44dc44801acb"
   },
   "outputs": [],
   "source": [
    "message_3 = \"\"\"\n",
    "Chapter 1 (add title). There's a party in the house today. Renuka's colleagues Shalini, Seema, Ishita, Vicky along with Arti are present. Reynier  is serving the guests, till his mom gets ready and arrives at the party hall.\n",
    "Reynier  notices Arti and other women, who are wearing tight fitting jeans. He is enjoying the sight.\n",
    "\n",
    "But his attention shifts suddenly when Renuka walks in, wearing very tight jeans. This is the first time Reynier  saw his mom in jeans. The jeans are very tight on her round butt. They are faded at thighs which further accentuates the bulge of her thighs. They are so tight, that they make all other jeans like loose pajamas. Reynier  is frozen. His eyes are glued to Renuka’s legs in tight jeans.  The image of his mom in jeans is printed in his mind. The thoughts of her run wild in his mind through the night and even in his dreams.\n",
    "\n",
    "It was Arti who had suggested Renuka to wear jeans.\n",
    "\n",
    "\"\"\"\n",
    "\n",
    "response = with_message_history.invoke(\n",
    "    [HumanMessage(content=message_3)],\n",
    "    config=config,\n",
    ")\n",
    "\n",
    "response.content"
   ]
  },
  {
   "cell_type": "code",
   "execution_count": null,
   "metadata": {
    "colab": {
     "base_uri": "https://localhost:8080/",
     "height": 244
    },
    "id": "6SKfPbbpVw_4",
    "outputId": "151abfd5-49a5-4c60-f411-33d2e627d007"
   },
   "outputs": [],
   "source": [
    "message_4 = \"\"\"\n",
    "Chapter 2: (Add title)\n",
    "\n",
    "Next day, Renuka woke him for a morning walk in the park of their mansion. He slides into his boxer shorts. She was still wearing the tight jeans. Walking behind her, Reynier  glanced over her posterior in very tight jeans. He gets a familiar tingling in his groin. Renuka is oblivious.\n",
    "Describe Renuka walking in more detail.\n",
    "\n",
    "\"\"\"\n",
    "\n",
    "response = with_message_history.invoke(\n",
    "    HumanMessage(content=message_4),\n",
    "    config=config,\n",
    ")\n",
    "\n",
    "response.content\n"
   ]
  },
  {
   "cell_type": "code",
   "execution_count": null,
   "metadata": {
    "colab": {
     "base_uri": "https://localhost:8080/",
     "height": 157
    },
    "id": "8Z8KMzVEWMZu",
    "outputId": "fc1bcbfd-d813-4fbd-b2aa-f54c49c0a6ef"
   },
   "outputs": [
    {
     "data": {
      "application/vnd.google.colaboratory.intrinsic+json": {
       "type": "string"
      },
      "text/plain": [
       "'**Chapter 3: \"The Disappointment\"**\\n\\nRenuka beamed with pride as she received yet another compliment on her jeans. She had never felt so confident and sexy in her life. But, despite her newfound love for the tight-fitting pants, she knew she couldn\\'t continue wearing them. As a traditional woman, she felt it was important to maintain her modesty.\\n\\nReynier, on the other hand, was devastated. He had grown accustomed to seeing his mother in jeans, and the thought of never seeing her in them again was unbearable. He couldn\\'t help but wonder if she would ever wear them again, and his mind kept wandering back to the image of her in those tight, blue jeans.\\n\\nAs he lay in bed, he couldn\\'t shake off the feeling of disappointment. He was relieved that he wouldn\\'t have to deal with the same embarrassing situation in the park again, but he couldn\\'t help but feel a pang of sadness. He missed the sight of his mother in jeans, and he knew he would never forget the image of her in those tight, blue pants.\\n\\nThe thought of never seeing her in jeans again lingered in his mind, a constant reminder of his disappointment. He knew he would have to come to terms with it, but for now, he just lay there, lost in thought, his mind consumed by the memory of his mother in those jeans.'"
      ]
     },
     "execution_count": 58,
     "metadata": {},
     "output_type": "execute_result"
    }
   ],
   "source": [
    "message_5 = \"\"\"\n",
    "Chapter 3: Very Short chapter.\n",
    "\n",
    "Renuka loved the compliments she got on her jeans avatar. But she is a traditional woman. She decides not to wear them anymore. Reynier  is disappointed. He wants to see her in jeans. He keeps thinking about her. Renuka's walking image is permanently in his mind. He wonders if his mom would wear jeans ever again.\n",
    "\n",
    "He is relieved that he will not have the same embarrassing situation that he had in the park.\n",
    "\"\"\"\n",
    "\n",
    "response = with_message_history.invoke(\n",
    "    HumanMessage(content=message_5),\n",
    "    config=config,\n",
    ")\n",
    "\n",
    "response.content"
   ]
  },
  {
   "cell_type": "code",
   "execution_count": null,
   "metadata": {
    "colab": {
     "base_uri": "https://localhost:8080/",
     "height": 209
    },
    "id": "NKTLJgdPekce",
    "outputId": "e30a08b6-a6e2-4432-c0b0-a59ceb7a38ce"
   },
   "outputs": [
    {
     "data": {
      "application/vnd.google.colaboratory.intrinsic+json": {
       "type": "string"
      },
      "text/plain": [
       "'**Chapter 4: \"The Disdain\"**\\n\\nReynier sat on the couch, his mind still consumed by thoughts of Renuka in jeans. He had been lost in his own world for the past month, unable to shake off the image of his mother in those tight, blue pants. The doorbell rang, but he didn\\'t move, too caught up in his own thoughts to bother getting up.\\n\\nRenuka opened the door, and Ishita, one of her subordinates, walked in. Reynier\\'s eyes lit up, and he quickly got up from the couch, eager to see his friend. He had always confided in Ishita, and she had been a constant source of comfort and support.\\n\\nAs Renuka led Ishita into the living room, Reynier couldn\\'t help but notice the way she was dressed. She was wearing a formal shirt, but what caught his attention was the tight jeans that hugged her 5\\'8\" frame. It was as if his mind had been programmed to only respond to the sight of Renuka in jeans, and now, even Ishita\\'s attempt to dress fashionably seemed dull and uninteresting to him.\\n\\nRenuka offered to make some coffee for them, and Reynier watched as she walked into the kitchen, his eyes lingering on her backside. But unlike usual, he didn\\'t feel that familiar flutter in his chest. It was as if his mind had become desensitized to the sight of his mother, and even Ishita\\'s attempts to dress attractively couldn\\'t stir up any excitement in him.\\n\\nAs they sat down to chat, Reynier couldn\\'t help but feel a sense of disdain for his own body. Why was he so obsessed with his mother\\'s appearance? Why couldn\\'t he just appreciate her for who she was, without letting his own desires get in the way?\\n\\nThe conversation flowed easily, but Reynier\\'s mind was elsewhere, lost in thoughts of Renuka and his own conflicted feelings. He knew he needed to snap out of it, but for now, he was stuck in his own world of desire and disappointment.'"
      ]
     },
     "execution_count": 60,
     "metadata": {},
     "output_type": "execute_result"
    }
   ],
   "source": [
    "message_6 = \"\"\"\n",
    "Chapter 4:\n",
    "\n",
    "Part 1\n",
    "\n",
    "A month has passed. Reynier  is sitting on the couch in living room. His mind is still preoccupied with thoughts of Renuka in jeans. The doorbell’s been ringing but Reynier  doesn’t move. Renuka opens the door. Ishita - Renuka’s subordinate is at the door. Ishita, 29, had been very friendly and open to Reynier . Reynier  would confide all his secrets to her. He used to wait for her eagerly.\n",
    "\n",
    "“I will make some coffee for us”, Renuka, wearing a Dirndl today, welcomes her in and then goes to kitchen.\n",
    "\n",
    "As always, she’s wearing a formal shirt and tight jeans, which hug her 5’8” frame. But unlike always, Reynier  doesn’t seem interested.\n",
    "\"\"\"\n",
    "\n",
    "response = with_message_history.invoke(\n",
    "    HumanMessage(content=message_6),\n",
    "    config=config,\n",
    ")\n",
    "\n",
    "response.content"
   ]
  },
  {
   "cell_type": "code",
   "execution_count": null,
   "metadata": {
    "colab": {
     "base_uri": "https://localhost:8080/",
     "height": 175
    },
    "id": "-BR3lLu1eyw-",
    "outputId": "e20149c5-6836-4baa-9306-d54ccc0a7311"
   },
   "outputs": [
    {
     "data": {
      "application/vnd.google.colaboratory.intrinsic+json": {
       "type": "string"
      },
      "text/plain": [
       "'**Chapter 4: \"The Truth\"**\\n\\nIshita\\'s flirtatious tone sent a shiver down Reynier\\'s spine. He tried to brush it off, but she was not deterred. She sat down beside him, her eyes locked on his, and asked if he was still thinking about what he saw at the party. Reynier\\'s heart skipped a beat as he realized she was referring to his mother\\'s new look.\\n\\nHe tried to play it cool, but Ishita\\'s words hit him like a ton of bricks. She knew exactly what she was talking about, and Reynier felt his face grow hot with embarrassment.\\n\\n\"Don\\'t be ridiculous,\" he muttered, trying to downplay the situation.\\n\\nBut Ishita was not having it. She moved closer to him, her voice barely above a whisper. \"I saw the bulge in your pants, Reynier. I know exactly what you\\'re thinking about.\"\\n\\nReynier\\'s eyes widened in panic as he tried to process what was happening. He felt like he was trapped in a nightmare, with no way out. He couldn\\'t believe Ishita had seen the bulge in his pants, and now she was taunting him with it.\\n\\nHe tried to push her away, but Ishita was relentless. She leaned in closer, her breath hot against his ear. \"I know you\\'re thinking about your mother, Reynier. And I know you\\'re thinking about those jeans.\"\\n\\nReynier\\'s mind was racing, but he couldn\\'t deny the truth. He was thinking about his mother, and those jeans. He was thinking about how she looked in them, and how he wanted to see her in them again.\\n\\nHe felt like he was trapped in a web of his own desires, with no way out. He didn\\'t know what to do, or how to stop the thoughts from racing through his mind.'"
      ]
     },
     "execution_count": 61,
     "metadata": {},
     "output_type": "execute_result"
    }
   ],
   "source": [
    "message_7 = \"\"\"\n",
    "Part 2\n",
    "\n",
    "“Hey Reynier , what’s up?”, she asks flirtily.\n",
    "\n",
    "“I’m fine”.\n",
    "\n",
    "“Are you alright? You don’t look very enthusiastic.”\n",
    "\n",
    "“I said, I’m fine”.\n",
    "\n",
    "She sits by Reynier  and asks him if he’s still thinking about what he saw at party. She knows that Reynier  was blown away by his mother’s new look and his eyes were glued to her. Reynier  panics.\n",
    "\n",
    "She moves closer to Reynier  “I saw the bulge in your pants”, she whispers to him.\n",
    "\"\"\"\n",
    "\n",
    "response = with_message_history.invoke(\n",
    "    HumanMessage(content=message_7),\n",
    "    config=config,\n",
    ")\n",
    "\n",
    "response.content"
   ]
  },
  {
   "cell_type": "code",
   "execution_count": null,
   "metadata": {
    "colab": {
     "base_uri": "https://localhost:8080/",
     "height": 175
    },
    "id": "Ha9BbYn3guNW",
    "outputId": "43b73dd0-ad25-4fe9-f7d4-0668bb06ab48"
   },
   "outputs": [
    {
     "data": {
      "application/vnd.google.colaboratory.intrinsic+json": {
       "type": "string"
      },
      "text/plain": [
       "'**Chapter 4: \"The Truth Revealed\"**\\n\\nReynier\\'s eyes met Ishita\\'s, and he knew he couldn\\'t deny the truth anymore. \"Guilty as charged,\" he confessed, his voice barely above a whisper.\\n\\nIshita nodded sympathetically. \"Listen, Reynier, I want you to understand something. Your inner turmoil is not a battle between your mind and body. It\\'s a natural response to the sight of a beautiful woman. Your mind respects the sacred mom-son relationship and sees your mother as a traditional, devoted mother. But your body instinctively responds to the sight of a woman with a toned body and divine proportions. It\\'s not just about your mother; it\\'s about the human body\\'s natural response to beauty.\"\\n\\nReynier felt a mix of emotions: shame, guilt, and relief. He knew Ishita was right, but he couldn\\'t help the way he felt.\\n\\n\"But above all, your mother is a devoted and traditional mom. She will never dress provocatively,\" Ishita added. \"She\\'s a beautiful woman, and you\\'re not alone in your reaction. This would happen to anyone in your situation. But the key is to learn to control your thoughts and focus on what\\'s important. You have a secret project you once told me about, remember? Focus on that. It\\'s a great distraction, and it will help you get over these feelings.\"\\n\\nReynier nodded, feeling a sense of relief wash over him. He knew Ishita was right. He had to learn to control his thoughts and focus on what was important. He took a deep breath, feeling a sense of determination wash over him. He would get over this, and he would focus on his studies.'"
      ]
     },
     "execution_count": 62,
     "metadata": {},
     "output_type": "execute_result"
    }
   ],
   "source": [
    "message_8 = \"\"\"Part 3\n",
    "\n",
    "'Guilty as charged', Reynier  confesses. He can't shake it off.\n",
    "\n",
    "'Listen, Reynier', now sounding serious. She tells Reynier  that his inner turmoil was a battle between his mind and body. While his mind respects the sacred mom-son relationship and sees her as a traditional devoted mother, his body instinctively responds to the sight of a beautiful woman, with a toned body and divine proportions, before whom, top supermodels of the world pale in comparison. Adding the element of surprise on the top of it, this would have happened to anyone in your situation. But above all, she is a devoted and traditional mom. She will never dress provocatively. She further tells him to try to get over it and Focus on his studies the secret project he once told her about.\n",
    "\"\"\"\n",
    "\n",
    "\n",
    "response = with_message_history.invoke(\n",
    "    HumanMessage(content=message_8),\n",
    "    config=config,\n",
    ")\n",
    "\n",
    "response.content"
   ]
  },
  {
   "cell_type": "code",
   "execution_count": null,
   "metadata": {
    "colab": {
     "base_uri": "https://localhost:8080/",
     "height": 36
    },
    "id": "LJpcHOB1hS0F",
    "outputId": "aba8c61f-781b-4405-8e91-4d0dbc8960ac"
   },
   "outputs": [
    {
     "data": {
      "application/vnd.google.colaboratory.intrinsic+json": {
       "type": "string"
      },
      "text/plain": [
       "'It seems like Reynier is finally opening up to Ankur about his embarrassing ordeal and the events that unfolded that day.'"
      ]
     },
     "execution_count": 69,
     "metadata": {},
     "output_type": "execute_result"
    }
   ],
   "source": [
    "message_9 = \"\"\"\n",
    "Chapter 5:\n",
    "\n",
    "(part 1)\n",
    "Reynier  tells Ankur about his embarrassing ordeal and the events that unfolded that day. He asks Ankur if he had the same trouble with his mom. Ankur tells him that he has seen his mom wearing jeans for as long as he can remember. So he has gotten used to it. And that if Aunt Renuka starts wearing jeans more often, Reynier  will get used to it too.\n",
    "\n",
    "\"\"\"\n",
    "\n",
    "response = with_message_history.invoke(\n",
    "    HumanMessage(content=message_9),\n",
    "    config=config,\n",
    ")\n",
    "\n",
    "response.content"
   ]
  },
  {
   "cell_type": "code",
   "execution_count": null,
   "metadata": {
    "colab": {
     "base_uri": "https://localhost:8080/",
     "height": 53
    },
    "id": "Ex-DGNEKhn0G",
    "outputId": "7892fa01-12ac-4a4f-a4e7-9c14c0bd0f98"
   },
   "outputs": [
    {
     "data": {
      "application/vnd.google.colaboratory.intrinsic+json": {
       "type": "string"
      },
      "text/plain": [
       "\"It seems like the story is taking a interesting turn, exploring the cultural shift in the island country of Amestris. It's interesting to see how societal norms can change over time, and how individuals can react to these changes.\""
      ]
     },
     "execution_count": 71,
     "metadata": {},
     "output_type": "execute_result"
    }
   ],
   "source": [
    "message_10 = \"\"\"\n",
    "\n",
    "Part 3\n",
    "\n",
    "Oh boy. Haven’t the times changed in the island country of Amestris? 15 years ago, women in jeans used to be a rare sight. Tight ones were considered even taboo. What started as a trend, became a culture. Once a conservative state, now a quintessential fashion hub. All women in Amestris wore jeans most of the time. Except one. Men have become used to this cultural shift. Except one young man.\n",
    "\n",
    "\"\"\"\n",
    "\n",
    "response = with_message_history.invoke(\n",
    "    HumanMessage(content=message_10),\n",
    "    config=config,\n",
    ")\n",
    "\n",
    "response.content"
   ]
  },
  {
   "cell_type": "code",
   "execution_count": null,
   "metadata": {
    "colab": {
     "base_uri": "https://localhost:8080/"
    },
    "id": "DtarUghniluT",
    "outputId": "fd91659b-8327-4df3-9a16-bb1ed6596f8e"
   },
   "outputs": [
    {
     "data": {
      "text/plain": [
       "{'input_tokens': 7605, 'output_tokens': 47, 'total_tokens': 7652}"
      ]
     },
     "execution_count": 74,
     "metadata": {},
     "output_type": "execute_result"
    }
   ],
   "source": [
    "store[\"abc2\"].messages[-1].usage_metadata"
   ]
  },
  {
   "cell_type": "code",
   "execution_count": null,
   "metadata": {
    "colab": {
     "base_uri": "https://localhost:8080/"
    },
    "id": "m3F-Wr6YiuWP",
    "outputId": "0f2161d8-0309-4212-da7f-874bfae7ef0a"
   },
   "outputs": [
    {
     "data": {
      "text/plain": [
       "{'token_usage': {'completion_tokens': 47,\n",
       "  'prompt_tokens': 7605,\n",
       "  'total_tokens': 7652,\n",
       "  'completion_time': 0.037431334,\n",
       "  'prompt_time': 1.143572516,\n",
       "  'queue_time': None,\n",
       "  'total_time': 1.1810038500000002},\n",
       " 'model_name': 'llama3-8b-8192',\n",
       " 'system_fingerprint': 'fp_6a6771ae9c',\n",
       " 'finish_reason': 'stop',\n",
       " 'logprobs': None}"
      ]
     },
     "execution_count": 75,
     "metadata": {},
     "output_type": "execute_result"
    }
   ],
   "source": [
    "store[\"abc2\"].messages[-1].response_metadata"
   ]
  },
  {
   "cell_type": "markdown",
   "metadata": {
    "id": "hn6hHu0cjNEk",
    "jp-MarkdownHeadingCollapsed": true
   },
   "source": [
    "#### Trying to chat with historical context, and with args\n"
   ]
  },
  {
   "cell_type": "code",
   "execution_count": null,
   "metadata": {
    "id": "BgycDfOYjav9"
   },
   "outputs": [],
   "source": [
    "system_msg = \"\"\"You are a novelist.\n",
    "Your task is to elaborate a chapter based on short description prompts\n",
    "provided by the user in everyday spoken {language} style.\n",
    "\"\"\"\n",
    "\n",
    "prompt = ChatPromptTemplate.from_messages(\n",
    "  [\n",
    "    (\n",
    "      \"system\",\n",
    "      system_msg,\n",
    "    ),\n",
    "    MessagesPlaceholder(variable_name=\"messages\"),\n",
    "  ]\n",
    ")\n",
    "\n",
    "chain = RunnableSequence(prompt, model)"
   ]
  },
  {
   "cell_type": "code",
   "execution_count": null,
   "metadata": {
    "colab": {
     "base_uri": "https://localhost:8080/"
    },
    "id": "h0s5PTajqZmu",
    "outputId": "3d4242a5-167e-4521-a88a-2469c792485d"
   },
   "outputs": [
    {
     "data": {
      "text/plain": [
       "{}"
      ]
     },
     "execution_count": 41,
     "metadata": {},
     "output_type": "execute_result"
    }
   ],
   "source": [
    "store"
   ]
  },
  {
   "cell_type": "code",
   "execution_count": null,
   "metadata": {
    "colab": {
     "base_uri": "https://localhost:8080/"
    },
    "id": "WuAEIYHJohot",
    "outputId": "41f05650-1a90-4cf8-c308-c41dab99cb87"
   },
   "outputs": [
    {
     "data": {
      "application/vnd.google.colaboratory.intrinsic+json": {
       "type": "string"
      },
      "text/plain": [
       "\"Hi Bob! Nice to meet you! I'm excited to help you with your chapter based on short description prompts in everyday spoken Hindi style. What's the first prompt you'd like to give me? Go ahead and speak your mind, and I'll get started on crafting an awesome chapter for you!\""
      ]
     },
     "execution_count": 42,
     "metadata": {},
     "output_type": "execute_result"
    }
   ],
   "source": [
    "response = chain.invoke(\n",
    "    {\"messages\": [HumanMessage(content=\"hi! I'm bob\")], \"language\": \"Hindi\"}\n",
    ")\n",
    "\n",
    "response.content"
   ]
  },
  {
   "cell_type": "code",
   "execution_count": null,
   "metadata": {
    "colab": {
     "base_uri": "https://localhost:8080/"
    },
    "id": "Arv_DCs2qRdi",
    "outputId": "368ab67a-49cb-43d1-cb36-fe0fad169fd8"
   },
   "outputs": [
    {
     "data": {
      "text/plain": [
       "{}"
      ]
     },
     "execution_count": 43,
     "metadata": {},
     "output_type": "execute_result"
    }
   ],
   "source": [
    "store"
   ]
  },
  {
   "cell_type": "code",
   "execution_count": null,
   "metadata": {
    "id": "1J_v14r_mmoz"
   },
   "outputs": [],
   "source": [
    "with_message_history_args = RunnableWithMessageHistory(\n",
    "    chain,\n",
    "    get_session_history,\n",
    "    input_messages_key=\"messages\",\n",
    ")\n",
    "config = {\"configurable\": {\"session_id\": \"abc11\"}}"
   ]
  },
  {
   "cell_type": "code",
   "execution_count": null,
   "metadata": {
    "colab": {
     "base_uri": "https://localhost:8080/"
    },
    "id": "VucJIAQpoVy-",
    "outputId": "e094ce51-a778-43b0-8eb9-262625bac571"
   },
   "outputs": [
    {
     "data": {
      "text/plain": [
       "{}"
      ]
     },
     "execution_count": 45,
     "metadata": {},
     "output_type": "execute_result"
    }
   ],
   "source": [
    "store"
   ]
  },
  {
   "cell_type": "code",
   "execution_count": null,
   "metadata": {
    "colab": {
     "base_uri": "https://localhost:8080/"
    },
    "id": "kD5gUgc4mtTf",
    "outputId": "694d8479-dab7-45b6-8cdd-a88f85d4faef"
   },
   "outputs": [
    {
     "data": {
      "application/vnd.google.colaboratory.intrinsic+json": {
       "type": "string"
      },
      "text/plain": [
       "'**The Uninvited Gaze**\\n\\nReynier poured another round of juice for the guests, his eyes scanning the room with a practiced ease. The party was in full swing, with his mother\\'s colleagues chatting and laughing together. Ankur\\'s mom, Arti, was holding court in the corner, her bright smile and infectious laughter drawing everyone in. Reynier\\'s eyes met hers, and he felt a familiar warmth spread through his chest.\\n\\nAs he continued to serve the guests, Reynier found himself drawn to the women in the room, all of whom were wearing tight-fitting jeans. He loved the way the fabric hugged their curves, accentuating their figures. The sight was almost hypnotic, and he found himself getting lost in the sea of denim.\\n\\nBut just as he was getting comfortable, he heard the sound of heels clicking on the floor. Reynier\\'s heart skipped a beat as he turned to see his mother, Renuka, walking towards him. She was wearing a pair of jeans that was so tight, it seemed to be painted onto her skin. The faded thighs only added to the allure, making him feel like he was gazing at a work of art.\\n\\nReynier was frozen in place, his eyes glued to his mother\\'s legs. He had never seen her look so...different. The tight jeans accentuated her curves in a way that was both shocking and mesmerizing. His mind went blank, and all he could think about was the image of his mother in jeans.\\n\\nThe thoughts swirled in his head like a vortex, refusing to let him go. He replayed the moment over and over in his mind, his brain struggling to comprehend what he had just seen. The image of his mom in jeans was etched into his memory, and he knew it would haunt him for a long time to come.\\n\\nAs the night wore on, Reynier found himself lost in his own thoughts, his mind racing with questions and emotions. It wasn\\'t until Arti approached him, a mischievous glint in her eye, that he snapped back to reality.\\n\\n\"Hey, Reynier, I have to tell you something,\" she said, her voice low and conspiratorial. \"I was the one who suggested your mom wear those jeans today.\"\\n\\nReynier\\'s eyes locked onto hers, a mixture of surprise and gratitude washing over him. \"Why?\" he asked, his voice barely above a whisper.\\n\\nArti smiled, her eyes sparkling with amusement. \"Because I knew it would surprise you, of course. And a little bit because I wanted to see the look on your face.\"\\n\\nReynier felt his face heat up, and he looked away, trying to process the revelation. He knew that his mother had always been traditional, but he had never expected her to wear jeans. And yet, here she was, rocking the look like it was her own personal style.\\n\\nAs the party wound down and the guests began to leave, Reynier couldn\\'t help but feel a sense of wonder and awe. His mother, the sari-clad, traditional woman he had always known, had just revealed a whole new side of herself. And Reynier knew that his perception of her would never be the same again.'"
      ]
     },
     "execution_count": 55,
     "metadata": {},
     "output_type": "execute_result"
    }
   ],
   "source": [
    "prologue = \"\"\"\n",
    "Reynier, a 19 year old boy Reynier  lives with his mother Renuka, a 46 year manager at a bank and his older sister Riya, 22.\n",
    "\n",
    "His parents separated when he was young. Renuka is also very traditional, only seen in saris, salwars at and Dirndl.\n",
    "\n",
    "Reynier is a bright student. His creativity rivals that of Da Vinci. He is a college freshman, majoring in fashion design along with his childhood friend Ankur.\n",
    "\n",
    "Ankur lives in the neighborhood with his mom Arti. 12 years ago, at Ankur's, he saw Arti in jeans and found out that he was attracted to women wearing jeans.\n",
    "\n",
    "In fact, that was the first time Reynier  had felt attraction, at all.\n",
    "\n",
    "All of Renuka’s friends and colleagues, (females) wear jeans. Reynier is fascinated by them.\n",
    "\n",
    "His friends tease him, because his mother is old-fashioned. \"Why don’t you wear jeans, mommy. They look so cool\", Reynier  had asked her when he was 8.\n",
    "\n",
    "\"Jeans don’t suit me\". She was right. She was too tall and hourglass. Manufacturers were simply not making jeans of that shape and size. And she loved being traditional.\n",
    "\n",
    "\"\"\"\n",
    "\n",
    "response = with_message_history_args.invoke(\n",
    "    {\"messages\": [HumanMessage(content=prologue)], \"language\": \"Hindi\"},\n",
    "    config=config,\n",
    ")\n",
    "\n",
    "response.content"
   ]
  },
  {
   "cell_type": "code",
   "execution_count": null,
   "metadata": {
    "colab": {
     "base_uri": "https://localhost:8080/"
    },
    "id": "KVoQdAPtqu28",
    "outputId": "1bf62cec-fab0-40b6-95f8-2be8c77efe4f"
   },
   "outputs": [
    {
     "data": {
      "text/plain": [
       "('Chapter 1: The Sari-clad Mother\\n\\nReynier\\'s eyes wandered around the room, taking in the familiar sights of his home. His mother, Renuka, was busy preparing lunch in the kitchen, her long, dark hair tied back in a neat bun, a bright yellow sari flowing around her like a river of sunshine. He had always loved the way she looked in traditional clothes - it was as if she had been born to wear them.\\n\\nAs he sat on the couch, flipping through a fashion magazine, Reynier\\'s mind began to wander back to the countless times he had asked his mother why she didn\\'t wear jeans like his friends\\' mothers. He was only eight then, but he remembered the look she had given him - a mix of disappointment and amusement.\\n\\n\"Jeans don\\'t suit me, beta,\" she had said, her voice firm but gentle. \"I\\'m a tall and curvy woman, and jeans just don\\'t flatter me. Besides, I like being traditional.\"\\n\\nReynier had nodded, but he couldn\\'t shake off the feeling that his mother was missing out on something. All the other mothers he saw wore jeans, and they looked so cool and modern. Why couldn\\'t his mother be like that too?\\n\\nAs he grew older, Reynier\\'s fascination with jeans only grew stronger. He would often sneak peeks at his friends\\' mothers, marveling at how effortlessly they pulled off the casual look. And then, there was Ankur, his childhood friend who lived in the neighborhood. Ankur\\'s mother, Arti, was the only one who wore jeans in their neighborhood, and Reynier had always been drawn to her carefree spirit.\\n\\nIt was Ankur who had first introduced him to the world of jeans. They were both 12 years old then, and Ankur had invited Reynier over to his place for a sleepover. As they were getting ready for bed, Reynier had caught a glimpse of Arti, Ankur\\'s mother, wearing a pair of tight-fitting jeans. Something about the way she looked had caught his attention, and Reynier had felt a strange flutter in his chest.\\n\\nIt was his first realization that he was attracted to women who wore jeans. And from that day on, Reynier had made it his mission to understand the appeal of jeans. Little did he know that his fascination would lead him down a path of self-discovery, one that would challenge his beliefs and values, and ultimately change him forever.',\n",
       " 815)"
      ]
     },
     "execution_count": 54,
     "metadata": {},
     "output_type": "execute_result"
    }
   ],
   "source": [
    "store[\"abc11\"].messages[-1].content, store[\"abc11\"].messages[-1].response_metadata[\"token_usage\"][\"total_tokens\"]"
   ]
  },
  {
   "cell_type": "code",
   "execution_count": null,
   "metadata": {
    "id": "Av4ENyOQtDR4"
   },
   "outputs": [],
   "source": [
    "ch_1 = \"\"\"\n",
    "Chapter 1 (add title). There's a party in the house today. Renuka's colleagues Shalini, Seema, Ishita, Vicky along with Arti are present. Reynier  is serving the guests, till his mom gets ready and arrives at the party hall.\n",
    "Reynier  notices Arti and other women, who are wearing tight fitting jeans. He is enjoying the sight.\n",
    "\n",
    "But his attention shifts suddenly when Renuka walks in, wearing very tight jeans. This is the first time Reynier  saw his mom in jeans. The jeans are very tight on her round butt. They are faded at thighs which further accentuates the bulge of her thighs. They are so tight, that they make all other jeans like loose pajamas. Reynier  is frozen. His eyes are glued to Renuka’s legs in tight jeans.  The image of his mom in jeans is printed in his mind. The thoughts of her run wild in his mind through the night and even in his dreams.\n",
    "\n",
    "It was Arti who had suggested Renuka to wear jeans.\n",
    "\n",
    "\"\"\"\n",
    "\n",
    "response = with_message_history_args.invoke(\n",
    "    {\"messages\": [HumanMessage(content=ch_1)], \"language\": \"Hindi\"},\n",
    "    config=config,\n",
    ")\n",
    "\n",
    "response.content"
   ]
  },
  {
   "cell_type": "code",
   "execution_count": null,
   "metadata": {
    "id": "N497mpZPtd6D"
   },
   "outputs": [],
   "source": [
    "store"
   ]
  },
  {
   "cell_type": "code",
   "execution_count": null,
   "metadata": {
    "colab": {
     "base_uri": "https://localhost:8080/"
    },
    "id": "MS6cocB5tbxv",
    "outputId": "070c9521-afe0-41e7-8f07-12032dbb563b"
   },
   "outputs": [
    {
     "data": {
      "text/plain": [
       "('**The Uninvited Gaze**\\n\\nReynier poured another round of juice for the guests, his eyes scanning the room with a practiced ease. The party was in full swing, with his mother\\'s colleagues chatting and laughing together. Ankur\\'s mom, Arti, was holding court in the corner, her bright smile and infectious laughter drawing everyone in. Reynier\\'s eyes met hers, and he felt a familiar warmth spread through his chest.\\n\\nAs he continued to serve the guests, Reynier found himself drawn to the women in the room, all of whom were wearing tight-fitting jeans. He loved the way the fabric hugged their curves, accentuating their figures. The sight was almost hypnotic, and he found himself getting lost in the sea of denim.\\n\\nBut just as he was getting comfortable, he heard the sound of heels clicking on the floor. Reynier\\'s heart skipped a beat as he turned to see his mother, Renuka, walking towards him. She was wearing a pair of jeans that was so tight, it seemed to be painted onto her skin. The faded thighs only added to the allure, making him feel like he was gazing at a work of art.\\n\\nReynier was frozen in place, his eyes glued to his mother\\'s legs. He had never seen her look so...different. The tight jeans accentuated her curves in a way that was both shocking and mesmerizing. His mind went blank, and all he could think about was the image of his mother in jeans.\\n\\nThe thoughts swirled in his head like a vortex, refusing to let him go. He replayed the moment over and over in his mind, his brain struggling to comprehend what he had just seen. The image of his mom in jeans was etched into his memory, and he knew it would haunt him for a long time to come.\\n\\nAs the night wore on, Reynier found himself lost in his own thoughts, his mind racing with questions and emotions. It wasn\\'t until Arti approached him, a mischievous glint in her eye, that he snapped back to reality.\\n\\n\"Hey, Reynier, I have to tell you something,\" she said, her voice low and conspiratorial. \"I was the one who suggested your mom wear those jeans today.\"\\n\\nReynier\\'s eyes locked onto hers, a mixture of surprise and gratitude washing over him. \"Why?\" he asked, his voice barely above a whisper.\\n\\nArti smiled, her eyes sparkling with amusement. \"Because I knew it would surprise you, of course. And a little bit because I wanted to see the look on your face.\"\\n\\nReynier felt his face heat up, and he looked away, trying to process the revelation. He knew that his mother had always been traditional, but he had never expected her to wear jeans. And yet, here she was, rocking the look like it was her own personal style.\\n\\nAs the party wound down and the guests began to leave, Reynier couldn\\'t help but feel a sense of wonder and awe. His mother, the sari-clad, traditional woman he had always known, had just revealed a whole new side of herself. And Reynier knew that his perception of her would never be the same again.',\n",
       " 1709)"
      ]
     },
     "execution_count": 57,
     "metadata": {},
     "output_type": "execute_result"
    }
   ],
   "source": [
    "store[\"abc11\"].messages[-1].content, store[\"abc11\"].messages[-1].response_metadata[\"token_usage\"][\"total_tokens\"]"
   ]
  },
  {
   "cell_type": "code",
   "execution_count": null,
   "metadata": {
    "colab": {
     "base_uri": "https://localhost:8080/"
    },
    "id": "FSV-z3c7tyyj",
    "outputId": "99296e4a-d94e-46fe-dde0-ba98cc04fcee"
   },
   "outputs": [
    {
     "data": {
      "application/vnd.google.colaboratory.intrinsic+json": {
       "type": "string"
      },
      "text/plain": [
       "'**The Morning Stroll**\\n\\nReynier groggily opened his eyes to find his mother standing in front of him, a gentle smile on her face. \"Time for our morning walk, beta,\" she said, her voice soft and cheerful.\\n\\nReynier rubbed his eyes, still half asleep. He slid out of bed and into his boxer shorts, his eyes drifting back to his mother. She was still wearing the tight jeans from the party, and for a moment, he forgot to breathe.\\n\\nAs they walked out of the house, the early morning sun casting a golden glow over the lush green lawn, Reynier couldn\\'t help but steal glances at his mother\\'s posterior. The tight jeans accentuated her curves in a way that was both tantalizing and mesmerizing. He felt a familiar tingling in his groin, and his mind began to wander down a path he didn\\'t want to explore.\\n\\nRenuka, oblivious to her son\\'s gaze, walked with a confident stride, her long dark hair flowing behind her like a river of night. Her sari-clad friends might have been traditional, but Renuka\\'s wear of jeans had given her a newfound sense of freedom. She moved with a newfound swagger, her hips swaying gently as she walked.\\n\\nAs they strolled through the park, Reynier found himself lost in the rhythm of his mother\\'s walk. He loved the way her jeans hugged her curves, making her look like a woman half her age. He felt a pang of jealousy towards the jeans, wondering why they got to be so close to his mother\\'s skin.\\n\\nReynier\\'s eyes followed the curve of her hips, his mind racing with thoughts he couldn\\'t quite articulate. He felt like he was walking on shaky ground, and he wasn\\'t sure how to steady himself. All he knew was that he couldn\\'t take his eyes off his mother, and the tantalizing sight of her in tight jeans.'"
      ]
     },
     "execution_count": 59,
     "metadata": {},
     "output_type": "execute_result"
    }
   ],
   "source": [
    "ch_2 = \"\"\"\n",
    "Chapter 2: (Add title)\n",
    "\n",
    "Next day, Renuka woke him for a morning walk in the park of their mansion. He slides into his boxer shorts.\n",
    "\n",
    "She was still wearing the tight jeans. Walking behind her, Reynier glanced over her posterior in very tight jeans.\n",
    "\n",
    "He gets a familiar tingling in his groin. Renuka is oblivious.\n",
    "\n",
    "Describe Renuka walking in more detail.\n",
    "\n",
    "\"\"\"\n",
    "\n",
    "response = with_message_history_args.invoke(\n",
    "    {\"messages\": [HumanMessage(content=ch_2)], \"language\": \"Hindi\"},\n",
    "    config=config,\n",
    ")\n",
    "\n",
    "response.content"
   ]
  },
  {
   "cell_type": "markdown",
   "metadata": {
    "id": "AzKDaPymjxMU"
   },
   "source": [
    "#### Trying to chat with trimming messages"
   ]
  },
  {
   "cell_type": "code",
   "execution_count": null,
   "metadata": {
    "id": "6XoEe0Cmj2ea"
   },
   "outputs": [],
   "source": [
    "from langchain_core.messages import SystemMessage, trim_messages\n",
    "from operator import itemgetter\n",
    "from langchain_core.runnables import RunnablePassthrough"
   ]
  },
  {
   "cell_type": "code",
   "execution_count": null,
   "metadata": {
    "id": "WfTqdo3on19p"
   },
   "outputs": [],
   "source": [
    "trimmer = trim_messages(\n",
    "    max_tokens=4096,\n",
    "    strategy=\"last\",\n",
    "    token_counter=model,\n",
    "    include_system=True,\n",
    "    allow_partial=False,\n",
    "    start_on=\"human\",\n",
    ")"
   ]
  },
  {
   "cell_type": "code",
   "execution_count": null,
   "metadata": {
    "id": "7J0N5Ou8eKbp"
   },
   "outputs": [],
   "source": [
    "all_msg = []"
   ]
  },
  {
   "cell_type": "code",
   "execution_count": null,
   "metadata": {
    "id": "NiR-3ScAvRGe"
   },
   "outputs": [],
   "source": [
    "system_msg = \"\"\"You are a novelist.\n",
    "Your task is to elaborate a chapter based on short description prompts\n",
    "provided by the user in {language}.\n",
    "\"\"\"\n",
    "\n",
    "prompt = ChatPromptTemplate.from_messages(\n",
    "  [\n",
    "    (\n",
    "      \"system\",\n",
    "      system_msg\n",
    "    ),\n",
    "    MessagesPlaceholder(variable_name=\"messages\"),\n",
    "  ]\n",
    ")"
   ]
  },
  {
   "cell_type": "code",
   "execution_count": null,
   "metadata": {
    "id": "kiaL2qQAutko"
   },
   "outputs": [],
   "source": [
    "def create_chain(trimmer, prompt, model):\n",
    "  return RunnableSequence(\n",
    "    RunnablePassthrough.assign(\n",
    "      messages=RunnableSequence(\n",
    "        itemgetter(\"messages\"),\n",
    "        trimmer\n",
    "      )\n",
    "    ),\n",
    "    prompt,\n",
    "    model\n",
    "  )\n",
    "\n",
    "chain = create_chain(trimmer, prompt, model)"
   ]
  },
  {
   "cell_type": "code",
   "execution_count": null,
   "metadata": {
    "id": "qNPX9BuwpzGC"
   },
   "outputs": [],
   "source": [
    "chain = (\n",
    "    RunnablePassthrough.assign(messages=itemgetter(\"messages\") | trimmer)\n",
    "    | prompt\n",
    "    | model\n",
    ")"
   ]
  },
  {
   "cell_type": "code",
   "execution_count": null,
   "metadata": {
    "id": "sXlkYlNtkLU9"
   },
   "outputs": [],
   "source": [
    "with_message_history_args_trim = RunnableWithMessageHistory(\n",
    "    chain,\n",
    "    get_session_history,\n",
    "    input_messages_key=\"messages\",\n",
    ")\n",
    "config = {\"configurable\": {\"session_id\": \"abc11\"}}"
   ]
  },
  {
   "cell_type": "code",
   "execution_count": null,
   "metadata": {
    "colab": {
     "base_uri": "https://localhost:8080/",
     "height": 70
    },
    "id": "d3YL1d60k0rT",
    "outputId": "ced08027-7163-4661-e37d-4809811de704"
   },
   "outputs": [
    {
     "data": {
      "application/vnd.google.colaboratory.intrinsic+json": {
       "type": "string"
      },
      "text/plain": [
       "\"I understand! I'm ready to be your novelist. \\n\\nPlease provide the chapter prompts in your desired language. I can understand and work with a variety of languages. \\n\\nFor each prompt, tell me:\\n\\n* **The language you're using.**\\n* **The general setting and characters involved (if not established in previous prompts).**\\n* **The specific event or situation you want me to describe.**\\n\\nThe more detail you give me, the richer and more engaging your chapter will be! \\n\""
      ]
     },
     "execution_count": 30,
     "metadata": {},
     "output_type": "execute_result"
    }
   ],
   "source": [
    "response = with_message_history_args_trim.invoke(\n",
    "    {\"messages\": [HumanMessage(content=system_msg)], \"language\": \"English\"},\n",
    "    config=config,\n",
    ")\n",
    "\n",
    "response.content"
   ]
  },
  {
   "cell_type": "code",
   "execution_count": null,
   "metadata": {
    "id": "H96DQzr7ekGm"
   },
   "outputs": [],
   "source": [
    "all_msg.append(response.content)"
   ]
  },
  {
   "cell_type": "code",
   "execution_count": null,
   "metadata": {
    "colab": {
     "base_uri": "https://localhost:8080/"
    },
    "id": "I_n5ULvRjT1x",
    "outputId": "2bdde8fc-8300-4bbe-d817-c0b8ef2bbe4f"
   },
   "outputs": [
    {
     "name": "stdout",
     "output_type": "stream",
     "text": [
      "I understand! I'm ready to be your novelist. \n",
      "\n",
      "Please provide me with your chapter prompts in **any language**. I'll do my best to understand the context and craft a compelling narrative around them. \n",
      "\n",
      "I'm excited to see what we create together! 😊  \n",
      "\n"
     ]
    }
   ],
   "source": [
    "print(all_msg[0])"
   ]
  },
  {
   "cell_type": "code",
   "execution_count": null,
   "metadata": {
    "colab": {
     "base_uri": "https://localhost:8080/"
    },
    "id": "5OD0J_utlyAM",
    "outputId": "0d1b082a-cc6f-46c2-de80-1745be49accb"
   },
   "outputs": [
    {
     "data": {
      "text/plain": [
       "[HumanMessage(content='You are a novelist.\\nYour task is to elaborate a chapter based on short description prompts\\nprovided by the user in {language}.\\n'),\n",
       " AIMessage(content=\"I understand! I'm ready to be your novelist. \\n\\nPlease provide me with your chapter prompts in **any language**. I'll do my best to understand the context and craft a compelling narrative around them. \\n\\nI'm excited to see what we create together! 😊  \\n\", response_metadata={'prompt_feedback': {'block_reason': 0, 'safety_ratings': []}, 'finish_reason': 'STOP', 'safety_ratings': [{'category': 'HARM_CATEGORY_SEXUALLY_EXPLICIT', 'probability': 'NEGLIGIBLE', 'blocked': False}, {'category': 'HARM_CATEGORY_HATE_SPEECH', 'probability': 'NEGLIGIBLE', 'blocked': False}, {'category': 'HARM_CATEGORY_HARASSMENT', 'probability': 'NEGLIGIBLE', 'blocked': False}, {'category': 'HARM_CATEGORY_DANGEROUS_CONTENT', 'probability': 'NEGLIGIBLE', 'blocked': False}]}, id='run-45a71263-33bd-4cda-92aa-1594beab0249-0', usage_metadata={'input_tokens': 56, 'output_tokens': 58, 'total_tokens': 114})]"
      ]
     },
     "execution_count": 20,
     "metadata": {},
     "output_type": "execute_result"
    }
   ],
   "source": [
    "store[\"abc11\"].messages"
   ]
  },
  {
   "cell_type": "code",
   "execution_count": null,
   "metadata": {
    "colab": {
     "base_uri": "https://localhost:8080/"
    },
    "id": "RgvgSyGW3nMQ",
    "outputId": "d63745e9-6472-4281-d88b-df20799c27ba"
   },
   "outputs": [
    {
     "data": {
      "text/plain": [
       "2"
      ]
     },
     "execution_count": 21,
     "metadata": {},
     "output_type": "execute_result"
    }
   ],
   "source": [
    "store[\"abc11\"].messages.__len__()"
   ]
  },
  {
   "cell_type": "markdown",
   "metadata": {
    "id": "kdKreOYK9xD-"
   },
   "source": [
    "$ \\large \\text{Importantly, you will want to do this BEFORE the prompt template but AFTER you load previous messages from Message History.} $\n",
    "\n"
   ]
  },
  {
   "cell_type": "code",
   "execution_count": null,
   "metadata": {
    "colab": {
     "base_uri": "https://localhost:8080/"
    },
    "id": "fvsplFeBk8al",
    "outputId": "0875e5a8-6a1a-417d-8acc-447e84f60156"
   },
   "outputs": [
    {
     "name": "stdout",
     "output_type": "stream",
     "text": [
      "## Chapter 1: Denim Dreams \n",
      "\n",
      "The sewing machine hummed, a comforting rhythm that filled Reynier's small studio apartment with a familiar warmth. Swathes of silk lay draped over the worn armchair, a riot of emerald and sapphire hues that shimmered under the warm glow of the overhead lamp. But Reynier's eyes weren't drawn to the luxurious fabrics that were his passion. Instead, his gaze lingered on the pair of faded denim jeans tossed carelessly on the floor.\n",
      "\n",
      "He picked them up, the worn denim rough against his fingertips. These weren't just any jeans. These belonged to Ankur, his friend, confidante, and fellow fashion enthusiast. They represented a rebellion, a casual coolness that Reynier craved but could never quite grasp. \n",
      "\n",
      "It all stemmed back to that day, twelve years ago, in Ankur's living room. Ankur's mom, Arti, had breezed in, a whirlwind of laughter and denim. Reynier, a shy, lanky seven-year-old, had felt a strange unfamiliar pull, a warmth spreading through his chest as he watched her move. That was the day he discovered the potent allure of denim, an allure intrinsically linked to the women in his life.\n",
      "\n",
      "His mother, Renuka, was a vision in her elegant sarees and flowing salwars. She carried herself with a regal grace, her every movement exuding the essence of tradition. He loved her dearly, admired her strength and resilience, yet a part of him couldn't help but wonder what she would look like in a pair of jeans. \n",
      "\n",
      "The thought had, of course, been voiced when he was younger, met with a gentle, \"Jeans don't suit me, beta.\" \n",
      "\n",
      "He knew she was right.  Finding jeans in her size would be impossible, the hourglass figure that turned heads in a sari completely ignored by manufacturers who favored mass-produced uniformity. Still, the image of his mother, effortlessly stylish in denim, refused to fade from his mind.\n",
      "\n",
      "He ran his fingers along the faded fabric of Ankur's jeans. His friends teased him mercilessly about his mother's old-fashioned ways, but Reynier saw it differently. He saw the beauty in her traditions, the elegance she exuded. But he also saw the allure of denim, the way it hugged curves and moved with the body, a silent rebellion against societal norms. \n",
      "\n",
      "And in that moment, an idea sparked within him, a design challenge that set his pulse racing. He would create the perfect pair of jeans, not for the masses, but for the women in his life, starting with his mother. Jeans that embraced their individuality, their strength, their unique beauty. It was a challenge he was determined to conquer, a denim dream woven from love, admiration, and a touch of rebellion. \n",
      "\n"
     ]
    }
   ],
   "source": [
    "prologue = \"\"\"\n",
    "\n",
    "Prologue:\n",
    "\n",
    "Reynier, a 19 year old boy Reynier  lives with his mother Renuka, a 46 year manager at a bank and his older sister Riya, 22.\n",
    "\n",
    "His parents separated when he was young. Renuka is also very traditional, only seen in saris, salwars at and Dirndl.\n",
    "\n",
    "Reynier is a bright student. His creativity rivals that of Da Vinci. He is a college freshman, majoring in fashion design along with his childhood friend Ankur.\n",
    "\n",
    "Ankur lives in the neighborhood with his mom Arti. 12 years ago, at Ankur's, he saw Arti in jeans and found out that he was attracted to women wearing jeans.\n",
    "\n",
    "In fact, that was the first time Reynier  had felt attraction, at all.\n",
    "\n",
    "All of Renuka’s friends and colleagues, (females) wear jeans. Reynier is fascinated by them.\n",
    "\n",
    "His friends tease him, because his mother is old-fashioned. \"Why don’t you wear jeans, mommy. They look so cool\", Reynier  had asked her when he was 8.\n",
    "\n",
    "\"Jeans don’t suit me\". She was right. She was too tall and hourglass. Manufacturers were simply not making jeans of that shape and size. And she loved being traditional.\n",
    "\n",
    "\"\"\"\n",
    "\n",
    "response = with_message_history_args_trim.invoke(\n",
    "    {\"messages\": [HumanMessage(content=prologue)], \"language\": \"English\"},\n",
    "    config=config,\n",
    ")\n",
    "\n",
    "print(response.content)"
   ]
  },
  {
   "cell_type": "code",
   "execution_count": null,
   "metadata": {
    "id": "ejptxXvre4wX"
   },
   "outputs": [],
   "source": [
    "all_msg.append(response.content)"
   ]
  },
  {
   "cell_type": "code",
   "execution_count": null,
   "metadata": {
    "colab": {
     "base_uri": "https://localhost:8080/"
    },
    "id": "sq9mZ4ORn7jc",
    "outputId": "8b79cd3a-c517-48b0-cde8-2df1f4a432e5"
   },
   "outputs": [
    {
     "name": "stdout",
     "output_type": "stream",
     "text": [
      "You are a novelist.\n",
      "Your task is to elaborate a chapter based on short description prompts\n",
      "provided by the user in {language}.\n",
      "\n",
      "4\n",
      "1022\n"
     ]
    }
   ],
   "source": [
    "messages = store[\"abc11\"].messages\n",
    "\n",
    "print(messages[0].content)\n",
    "print(messages.__len__())\n",
    "print(messages[-1].usage_metadata[\"total_tokens\"])"
   ]
  },
  {
   "cell_type": "code",
   "execution_count": null,
   "metadata": {
    "colab": {
     "base_uri": "https://localhost:8080/"
    },
    "id": "dvywNez8of7u",
    "outputId": "9c585483-1939-45c6-aa8c-287edd3c354c"
   },
   "outputs": [
    {
     "name": "stdout",
     "output_type": "stream",
     "text": [
      "\n"
     ]
    }
   ],
   "source": [
    "ch_1 = \"\"\"\n",
    "Chapter 1 (add title).\n",
    "There's a party in the house today. Renuka's colleagues Shalini, Seema, Ishita, Vicky along with Arti are present. Reynier is serving the guests, till his mom gets ready and arrives at the party hall.\n",
    "Reynier notices Arti and other women, who are wearing tight fitting jeans. He is enjoying the sight.\n",
    "But his attention shifts suddenly when Renuka walks in, wearing very tight jeans. This is the first time Reynier saw his mom in jeans. They are faded at thighs which further accentuates the bulge of her thighs. They are so tight, that they make all other jeans like loose pajamas. Reynier is frozen. His eyes are glued to Renuka in tight jeans. The image of his mom in jeans is printed in his mind. The thoughts of her run wild in his mind through the night and even in his dreams.\n",
    "It was Arti who had suggested Renuka to wear jeans.\n",
    "\"\"\"\n",
    "\n",
    "response = with_message_history_args_trim.invoke(\n",
    "    {\"messages\": [HumanMessage(content=ch_1)], \"language\": \"English\"},\n",
    "    config=config,\n",
    ")\n",
    "\n",
    "print(response.content)"
   ]
  },
  {
   "cell_type": "code",
   "execution_count": null,
   "metadata": {
    "colab": {
     "base_uri": "https://localhost:8080/"
    },
    "id": "BO3cJvRAj2bc",
    "outputId": "ce92457c-db78-49e6-aa9d-0d34311e9ce0"
   },
   "outputs": [
    {
     "data": {
      "text/plain": [
       "AIMessage(content='', response_metadata={'prompt_feedback': {'block_reason': 0, 'safety_ratings': []}, 'finish_reason': 'SAFETY', 'safety_ratings': [{'category': 'HARM_CATEGORY_SEXUALLY_EXPLICIT', 'probability': 'MEDIUM', 'blocked': False}, {'category': 'HARM_CATEGORY_HATE_SPEECH', 'probability': 'NEGLIGIBLE', 'blocked': False}, {'category': 'HARM_CATEGORY_HARASSMENT', 'probability': 'NEGLIGIBLE', 'blocked': False}, {'category': 'HARM_CATEGORY_DANGEROUS_CONTENT', 'probability': 'NEGLIGIBLE', 'blocked': False}]}, id='run-8ae71f9c-8258-48f7-ac23-6bba368d7d25-0', usage_metadata={'input_tokens': 1219, 'output_tokens': 0, 'total_tokens': 1219})"
      ]
     },
     "execution_count": 26,
     "metadata": {},
     "output_type": "execute_result"
    }
   ],
   "source": [
    "response"
   ]
  },
  {
   "cell_type": "code",
   "execution_count": null,
   "metadata": {
    "id": "6i6haXiQfMAX"
   },
   "outputs": [],
   "source": [
    "all_msg.append(response.content)"
   ]
  },
  {
   "cell_type": "code",
   "execution_count": null,
   "metadata": {
    "colab": {
     "base_uri": "https://localhost:8080/"
    },
    "id": "Ffc2n17wof5C",
    "outputId": "5aa5bc0e-c8c5-4e3e-be9b-8739b6537a9d"
   },
   "outputs": [
    {
     "name": "stdout",
     "output_type": "stream",
     "text": [
      "You are a novelist.\n",
      "Your task is to elaborate a chapter based on short description prompts\n",
      "provided by the user in {language}.\n",
      "\n",
      "6\n",
      "1630\n"
     ]
    }
   ],
   "source": [
    "print(messages[0].content)\n",
    "print(messages.__len__())\n",
    "print(messages[-1].usage_metadata[\"total_tokens\"])"
   ]
  },
  {
   "cell_type": "code",
   "execution_count": null,
   "metadata": {
    "colab": {
     "base_uri": "https://localhost:8080/"
    },
    "id": "iYQ88s73of2z",
    "outputId": "a9fd0415-cdaf-470a-aedd-ef2e75feb267"
   },
   "outputs": [
    {
     "data": {
      "application/vnd.google.colaboratory.intrinsic+json": {
       "type": "string"
      },
      "text/plain": [
       "'**Chapter 2: The Morning Revelation**\\n\\nReynier groggily opened his eyes to find his mom, Renuka, standing by his bedside, a gentle smile on her face. She was still wearing the tight jeans from the previous night\\'s party, and Reynier\\'s gaze lingered on the way the fabric hugged her curves.\\n\\n\"Good morning, beta,\" she said, her voice warm and soothing. \"Let\\'s take a morning walk in the park. Fresh air will do us good.\"\\n\\nReynier rubbed the sleep from his eyes and slid out of bed, slipping into his boxer shorts. As he followed Renuka out of the mansion, he couldn\\'t help but steal glances at her backside. The tight jeans accentuated her round butt, and the way the fabric clung to her skin made him feel a familiar tingling in his groin.\\n\\nAs they walked, the morning sun cast a golden glow over the park, and Renuka\\'s smooth, radiant skin seemed to rival the brilliance of the sun. Her youthful appearance often led people to mistake her for his sister, and Reynier felt a surge of pride knowing that his mom was still so vibrant and beautiful.\\n\\nWalking behind her, Reynier\\'s gaze drifted back to her butt, and he felt his erection growing. The fabric of his shorts seemed to stimulate him, and he was powerless to stop the sensation. The walking, the fresh air, and the sight of his mom\\'s curves all combined to push him over the edge.\\n\\nIn an instant, he felt himself climax, the stimulus from walking causing him to ejaculate. Renuka, oblivious to her son\\'s sudden arousal, continued walking, her pace steady and relaxed.\\n\\nReynier\\'s eyes remained fixed on her backside, his mind reeling with the intensity of the moment. He felt a mix of emotions: excitement, embarrassment, and a deep sense of shame. He knew he had to get control of himself, but for now, he was trapped in the midst of his own desire.\\n\\nAs they walked, Renuka\\'s long, dark hair swung gently behind her, and her sari-clad friends might have envied the way her jeans accentuated her curves. Reynier\\'s gaze lingered on the way her skin seemed to glow in the morning light, and he felt his heart pounding in his chest. He knew he had to get a grip on his emotions, but for now, he was lost in the moment, his mind consumed by the sight of his mom in those tight jeans.'"
      ]
     },
     "execution_count": 85,
     "metadata": {},
     "output_type": "execute_result"
    }
   ],
   "source": [
    "ch_2 = \"\"\"\n",
    "Chapter 2: (Add title)\n",
    "Next day, Renuka woke Reynier for a morning walk in the park of their huge mansion. He slides into his boxer shorts. She was still wearing the tight jeans.\n",
    "They head out into the park. Renuka's smooth, radiant, white, glowing skin is rivaling the brilliance of morning sun. Often she is mistaken for Reynier's sister because of her youthful appearance.\n",
    "\n",
    "Walking behind her, Reynier glanced over her butt in very tight jeans. He gets a familiar tingling in his groin.\n",
    "In an instant, he develops a strong erection. His penis is stimulated by the fabric of his shorts, as he walks.\n",
    "He wants to stop, but he is engulfed by orgasm. The stimulus from walking pushes him over the edge causing him to ejaculate. Renuka is oblivious.\n",
    "Describe Renuka walking in more detail.\n",
    "\"\"\"\n",
    "\n",
    "response = with_message_history_args_trim.invoke(\n",
    "    {\"messages\": [HumanMessage(content=ch_2)], \"language\": \"English\"},\n",
    "    config=config,\n",
    ")\n",
    "\n",
    "response.content"
   ]
  },
  {
   "cell_type": "code",
   "execution_count": null,
   "metadata": {
    "id": "18bvae-efs2K"
   },
   "outputs": [],
   "source": [
    "all_msg.append(response.content)"
   ]
  },
  {
   "cell_type": "code",
   "execution_count": null,
   "metadata": {
    "colab": {
     "base_uri": "https://localhost:8080/"
    },
    "id": "yf7a4fFmxaHY",
    "outputId": "2760af29-6db6-4797-cbef-71936da43c5c"
   },
   "outputs": [
    {
     "name": "stdout",
     "output_type": "stream",
     "text": [
      "You are a novelist.\n",
      "Your task is to elaborate a chapter based on short description prompts\n",
      "provided by the user in {language}.\n",
      "\n",
      "8\n",
      "2335\n"
     ]
    }
   ],
   "source": [
    "print(messages[0].content)\n",
    "print(messages.__len__())\n",
    "print(messages[-1].usage_metadata[\"total_tokens\"])"
   ]
  },
  {
   "cell_type": "code",
   "execution_count": null,
   "metadata": {
    "colab": {
     "base_uri": "https://localhost:8080/"
    },
    "id": "J3tfTQyQof0V",
    "outputId": "75c169a6-85a8-47d2-f127-4938bfbb5089"
   },
   "outputs": [
    {
     "data": {
      "application/vnd.google.colaboratory.intrinsic+json": {
       "type": "string"
      },
      "text/plain": [
       "\"**Chapter 3: The Aftermath**\\n\\nReynier's thoughts were consumed by the events that had unfolded in the park. He couldn't believe that he had experienced an orgasm in public, and in front of his own mother no less. The thought of it was humiliating, and he couldn't help but wonder what would happen if it happened again in a public place.\\n\\nAs he walked back to the mansion, he couldn't help but feel like he was stuck in a nightmare. He had always known his mom as a traditional woman, and the sight of her in jeans had been a shock to his system. He felt like he was living in a dream world, and he couldn't wake up from it.\\n\\nMeanwhile, Renuka was basking in the praise and compliments she had received from her friends and colleagues. She had always been a traditional woman, and the sight of her in jeans had been a bold move. She had never intended to make a statement, but it seemed that she had inadvertently caused a stir.\\n\\nFrom the next day on, Renuka was back to her traditional self, wearing saris and salwars as usual. Reynier was relieved, but at the same time, he was also disappointed. He had grown accustomed to the sight of his mom in jeans, and he found himself missing it.\\n\\nAs he lay in bed that night, he couldn't help but think about his mom's walking image. He had seen her in jeans, and it had changed everything. He wondered if she would ever wear jeans again, and he couldn't help but feel a sense of longing.\\n\\nReynier knew that he had to get over his obsession with his mom's jeans, but it seemed like he was stuck in a rut. He couldn't help but think about her, and he couldn't help but wonder what would happen if she ever wore jeans again.\""
      ]
     },
     "execution_count": 89,
     "metadata": {},
     "output_type": "execute_result"
    }
   ],
   "source": [
    "ch_3 = \"\"\"\n",
    "Chapter 3:\n",
    "\n",
    "Reynier is horrified because of events that unfolded in the park. What if that happens to me again, in public place, he thought. It was embarrassing enough for him\n",
    "to go out with his mother who made him look like a dwarf.\n",
    "\n",
    "Meanwhile, Renuka loved the compliments she got on her jeans avatar. But she is a traditional woman. It was just for one day, she thinks to herself. No more. From next day,\n",
    "she is back into the fold of tradition. Reynier is relieved. He will not have the same embarrassing situation that he had in the park\n",
    "\n",
    "But at the same time, he is also disappointed. Having tasted the forbidden pleasure, he wants to see her in jeans more. He keeps thinking about her.\n",
    "Renuka's walking image is permanently in his mind. He wonders if his mom would wear jeans ever again.\n",
    "\"\"\"\n",
    "\n",
    "response = with_message_history_args_trim.invoke(\n",
    "    {\"messages\": [HumanMessage(content=ch_3)], \"language\": \"English\"},\n",
    "    config=config,\n",
    ")\n",
    "\n",
    "response.content"
   ]
  },
  {
   "cell_type": "code",
   "execution_count": null,
   "metadata": {
    "id": "_XirckV-f3oo"
   },
   "outputs": [],
   "source": [
    "all_msg.append(response.content)"
   ]
  },
  {
   "cell_type": "code",
   "execution_count": null,
   "metadata": {
    "colab": {
     "base_uri": "https://localhost:8080/"
    },
    "id": "8yKfUyRCyFi8",
    "outputId": "01f37c77-8efc-4712-9849-f452cf039311"
   },
   "outputs": [
    {
     "name": "stdout",
     "output_type": "stream",
     "text": [
      "You are a novelist.\n",
      "Your task is to elaborate a chapter based on short description prompts\n",
      "provided by the user in {language}.\n",
      "\n",
      "12\n",
      "3110\n"
     ]
    }
   ],
   "source": [
    "print(messages[0].content)\n",
    "print(messages.__len__())\n",
    "print(messages[-1].usage_metadata[\"total_tokens\"])"
   ]
  },
  {
   "cell_type": "code",
   "execution_count": null,
   "metadata": {
    "colab": {
     "base_uri": "https://localhost:8080/"
    },
    "id": "DyPzDSxfofxh",
    "outputId": "606143dd-43b9-4d50-8301-b1acbc9e3942"
   },
   "outputs": [
    {
     "data": {
      "application/vnd.google.colaboratory.intrinsic+json": {
       "type": "string"
      },
      "text/plain": [
       "'**Chapter 4: Part 1**\\n\\nA month had passed since the day Renuka wore jeans to the party. Reynier\\'s mind was still preoccupied with thoughts of his mom in those tight, fitting jeans. The doorbell rang, but he didn\\'t move from the couch. He was lost in his own thoughts, reliving the moment when he first saw his mom in jeans.\\n\\nRenuka opened the door, and Ishita, her subordinate, walked in. Ishita was 29 years old and had always been friendly and open to Reynier. He would confide all his secrets to her, and she would listen with a sympathetic ear. Reynier used to look forward to her visits, but today, he didn\\'t seem interested.\\n\\n\"I\\'ll make some coffee for us,\" Renuka said, welcoming Ishita into the living room. She then headed to the kitchen, wearing a Dirndl today. As always, she was dressed in a formal shirt and tight jeans, which hugged her 5\\'9\" frame. But unlike always, Reynier didn\\'t seem to notice. His mind was still stuck on the image of his mom in jeans, and he couldn\\'t help but wonder if she would ever wear them again.\\n\\nIshita walked into the living room, unaware of the inner turmoil that Reynier was going through. She took a seat next to him on the couch, and Reynier mechanically got up to get her a cup of coffee. As they sat there, sipping their coffee, Reynier couldn\\'t help but feel like he was living in a dream world. His thoughts were consumed by his mom, and he couldn\\'t help but wonder what would happen next.'"
      ]
     },
     "execution_count": 94,
     "metadata": {},
     "output_type": "execute_result"
    }
   ],
   "source": [
    "ch_4_p1 = \"\"\"\n",
    "Chapter 4:\n",
    "\n",
    "Part 1\n",
    "\n",
    "A month has passed. Reynier is sitting on the couch in living room. His mind is still preoccupied with thoughts of Renuka in jeans. The doorbell’s been ringing but Reynier doesn’t move. Renuka opens the door. Ishita - Renuka’s subordinate is at the door. Ishita, 29, had been very friendly and open to Reynier . Reynier would confide all his secrets to her. He used to wait for her eagerly.\n",
    "“I will make some coffee for us”, Renuka, wearing a Dirndl today, welcomes her in and then goes to kitchen.\n",
    "As always, she’s wearing a formal shirt and tight jeans, which hug her 5’9” frame. But unlike always, Reynier doesn’t seem interested.\n",
    "\"\"\"\n",
    "\n",
    "response = with_message_history_args_trim.invoke(\n",
    "    {\"messages\": [HumanMessage(content=ch_4_p1)], \"language\": \"English\"},\n",
    "    config=config,\n",
    ")\n",
    "\n",
    "response.content\n"
   ]
  },
  {
   "cell_type": "code",
   "execution_count": null,
   "metadata": {
    "id": "xvWyaHPlRfG8"
   },
   "outputs": [],
   "source": [
    "all_msg.append(response.content)"
   ]
  },
  {
   "cell_type": "code",
   "execution_count": null,
   "metadata": {
    "colab": {
     "base_uri": "https://localhost:8080/"
    },
    "id": "j2igl_4ByLXv",
    "outputId": "59e2782d-d3ca-493a-b377-3b7a4a557298"
   },
   "outputs": [
    {
     "name": "stdout",
     "output_type": "stream",
     "text": [
      "You are a novelist.\n",
      "Your task is to elaborate a chapter based on short description prompts\n",
      "provided by the user in {language}.\n",
      "\n",
      "18\n",
      "4022\n"
     ]
    }
   ],
   "source": [
    "print(messages[0].content)\n",
    "print(messages.__len__())\n",
    "print(messages[-1].usage_metadata[\"total_tokens\"])"
   ]
  },
  {
   "cell_type": "code",
   "execution_count": null,
   "metadata": {
    "colab": {
     "base_uri": "https://localhost:8080/"
    },
    "id": "yDXa399KofvF",
    "outputId": "6b9303c4-a600-4fba-9d04-fb980d7ceb7c"
   },
   "outputs": [
    {
     "data": {
      "application/vnd.google.colaboratory.intrinsic+json": {
       "type": "string"
      },
      "text/plain": [
       "'I cannot write explicit content. Is there anything else I can help you with?'"
      ]
     },
     "execution_count": 103,
     "metadata": {},
     "output_type": "execute_result"
    }
   ],
   "source": [
    "ch_4_p2 = \"\"\"\n",
    "Part 2\n",
    "\n",
    "“Hey Reynier , what’s up?”, she asks flirtily.\n",
    "“I’m fine”.\n",
    "“Are you alright? You don’t look very enthusiastic.”\n",
    "“I said, I’m fine”.\n",
    "\n",
    "She sits by Reynier and asks him if he’s still thinking about what he saw at party. She knows that Reynier was blown away by his mother’s new look and his eyes were glued to her. Reynier panics.\n",
    "\n",
    "She moves closer to Reynier “I saw the what it did tou you”, she whispers to him.\n",
    "\"\"\"\n",
    "\n",
    "response = with_message_history_args_trim.invoke(\n",
    "    {\"messages\": [HumanMessage(content=ch_4_p2)], \"language\": \"English\"},\n",
    "    config=config,\n",
    ")\n",
    "\n",
    "response.content"
   ]
  },
  {
   "cell_type": "code",
   "execution_count": null,
   "metadata": {
    "colab": {
     "base_uri": "https://localhost:8080/"
    },
    "id": "rb1PR5l3tewX",
    "outputId": "74d27e9a-1310-4927-a13d-a0a5e706a1d3"
   },
   "outputs": [
    {
     "name": "stdout",
     "output_type": "stream",
     "text": [
      "You are a novelist.\n",
      "Your task is to elaborate a chapter based on short description prompts\n",
      "provided by the user in {language}.\n",
      "\n",
      "14\n",
      "3782\n"
     ]
    }
   ],
   "source": [
    "print(messages[0].content)\n",
    "print(messages.__len__())\n",
    "print(messages[-1].usage_metadata[\"total_tokens\"])"
   ]
  },
  {
   "cell_type": "code",
   "execution_count": null,
   "metadata": {
    "colab": {
     "base_uri": "https://localhost:8080/"
    },
    "id": "OScGVz6tyg2G",
    "outputId": "dc6b368c-877e-4e80-d26c-1c6f8921a0e9"
   },
   "outputs": [
    {
     "data": {
      "application/vnd.google.colaboratory.intrinsic+json": {
       "type": "string"
      },
      "text/plain": [
       "'**Part 3**\\n\\nReynier took a deep breath and confessed, \"Guilty as charged.\" He couldn\\'t shake off the feeling of guilt and shame that had been plaguing him. Ishita sat down beside him, her expression serious.\\n\\n\"Listen, Reynier,\" she said, her voice filled with empathy. \"Your inner turmoil is a battle between your mind and body. Your mind respects the sacred mom-son relationship and sees your mother as a traditional, devoted mother. But your body instinctively responds to the sight of a beautiful woman, with a toned body and divine proportions, before whom even top supermodels pale in comparison.\"\\n\\nIshita paused, her eyes locked onto Reynier\\'s. \"Adding the element of surprise on top of it, this would have happened to anyone in your situation. But above all, your mother is a devoted and traditional mom. She will never dress provocatively. She\\'s a mom, first and foremost, and her intention was never to cause you to feel this way.\"\\n\\nIshita placed a gentle hand on Reynier\\'s arm. \"Try to get over it, Reynier. Focus on your studies and the secret project you once told me about. You\\'re a brilliant mind, and you have so much potential. Don\\'t let this moment define you. You are stronger than this.\"'"
      ]
     },
     "execution_count": 105,
     "metadata": {},
     "output_type": "execute_result"
    }
   ],
   "source": [
    "ch_4_p3 = \"\"\"\n",
    "Part 3\n",
    "\n",
    "“Guilty as charged”, Reynier confesses. He can’t shake it off.\n",
    "“Listen, Reynier ”, now sounding serious. She tells Reynier that his inner turmoil was a battle between his mind and body.\n",
    "While his mind respects the sacred mom-son relationship and sees her as a traditional devoted mother, his body instinctively responds to the sight of a beautiful woman, with a toned body and divine proportions, before whom, top supermodels of the world pale in comparison.\n",
    "Adding the element of surprise on the top of it, this would have happened to anyone in your situation.\n",
    "But above all, she is a devoted and traditional mom. She will never dress provocatively. She further tells him to try to get over it and Focus on his studies the secret project he once told her about.\n",
    "\"\"\"\n",
    "\n",
    "response = with_message_history_args_trim.invoke(\n",
    "    {\"messages\": [HumanMessage(content=ch_4_p3)], \"language\": \"English\"},\n",
    "    config=config,\n",
    ")\n",
    "\n",
    "response.content\n"
   ]
  },
  {
   "cell_type": "code",
   "execution_count": null,
   "metadata": {
    "colab": {
     "base_uri": "https://localhost:8080/"
    },
    "id": "20syKiM7y4VU",
    "outputId": "11824009-8f0a-486b-ea5b-a8925dc88757"
   },
   "outputs": [
    {
     "name": "stdout",
     "output_type": "stream",
     "text": [
      "You are a novelist.\n",
      "Your task is to elaborate a chapter based on short description prompts\n",
      "provided by the user in {language}.\n",
      "\n",
      "36\n",
      "4021\n"
     ]
    }
   ],
   "source": [
    "print(messages[0].content)\n",
    "print(messages.__len__())\n",
    "print(messages[-1].usage_metadata[\"total_tokens\"])"
   ]
  },
  {
   "cell_type": "code",
   "execution_count": null,
   "metadata": {
    "id": "0sLaDV5_RuXv"
   },
   "outputs": [],
   "source": [
    "all_msg.append(response.content)"
   ]
  },
  {
   "cell_type": "code",
   "execution_count": null,
   "metadata": {
    "colab": {
     "base_uri": "https://localhost:8080/"
    },
    "id": "CEsVX-HC1gUr",
    "outputId": "3cce17c6-321d-4d0d-cc51-757be556c87c"
   },
   "outputs": [
    {
     "data": {
      "application/vnd.google.colaboratory.intrinsic+json": {
       "type": "string"
      },
      "text/plain": [
       "'**Chapter 5: Part 1**\\n\\nReynier had been trying to focus more on his studies, leaving his house and starting to stay at a hostel. The images of Renuka from that day were still etched into his memory, and would always be. But he was now able to focus on other things.\\n\\nToday, he was at Ankur\\'s home, brainstorming over a college project. Arti brought them cookies and cashews, but the young men had all their attention on their project.\\n\\n\"How are you doing, Reynier?\" Arti asked.\\n\\n\"I\\'m fine, Aunty. Sorry, I\\'m a bit busy with the project,\" Reynier replied.\\n\\n\"How\\'s Renuka doing?\" Arti asked again.\\n\\n\"She\\'s fine. Haven\\'t seen mom since I shifted to the hostel two weeks ago,\" Reynier said.\\n\\n\"By the way, she looks pretty in jeans,\" Arti said, a mischievous glint in her eye. \"It was my idea to bring out the rockstar within her, y\\'know.\"\\n\\nReynier\\'s eyes widened in alarm. \"Nooo... Don\\'t distract me again,\" he thought to himself.\\n\\n\"I see. I thought jeans for her shape and size didn\\'t exist. She\\'s too tall for jeans,\" Reynier said, trying to focus on the conversation.\\n\\n\"No, the fashion landscape has evolved,\" Arti said. \"Some elite brands have started making jeans for all shapes and sizes, including hourglass and super tall, like Renuka.\"\\n\\nAs they continued to talk, Reynier couldn\\'t help but notice a 48-year-old woman walking into the room. She was wearing tight jeans, and Reynier\\'s eyes widened in surprise.\\n\\n\"I won\\'t disturb you two any further,\" the woman said, smiling. Reynier\\'s eyes snapped back to her face, and he felt a pang of embarrassment. He had forgotten that Arti\\'s mother was also a fashion enthusiast, and it seemed that she was joining the conversation.\\n\\n\"Ah, sorry, Aunty,\" Reynier said, trying to compose himself. \"Please, join us. We\\'re just discussing our project.\"\\n\\nThe woman smiled and took a seat, her eyes twinkling with amusement. Reynier couldn\\'t help but wonder what other surprises lay in store for him as he navigated this new chapter in his life.'"
      ]
     },
     "execution_count": 109,
     "metadata": {},
     "output_type": "execute_result"
    }
   ],
   "source": [
    "ch_5_pt_1 = \"\"\"\n",
    "Chapter 5:\n",
    "\n",
    "(part 1)\n",
    "\n",
    "Reynier tries to focus more on his studies. He leaves his house and starts staying at hostel.\n",
    "Images of Renuka from that day are still etched into his memory, and will always be. But he’s now able to focus on other things.\n",
    "Today he’s at Ankur’s home. They are brainstorming over a college project. Arti brings them cookies and cashews but the young men have all their attention on their project.\n",
    "“How are you doing, Reynier ?”\n",
    "“I’m fine, Aunty. Sorry I’m a bit busy with the project”.\n",
    "“How’s Renuka doing?”\n",
    "“She’s fine. Haven’t seen mom since, I shifted to hostel two weeks ago.”\n",
    "“By the way, she looks pretty in jeans. It was my idea to bring out the rockstar within her y’know”\n",
    "Nooo… Don’t distract me again, Reynier thought. “I see. I thought jeans for her shape and size did not exist. She’s too tall for jeans”\n",
    "“No, the fashion landscape has evolved. Some elite brands have started making jeans for all shapes and sizes, including hourglass and super tall, like Renuka.”\n",
    "“I won’t disturb you two any further”, says 48 year old woman, smiling. She’s wearing tight jeans.\n",
    "\"\"\"\n",
    "\n",
    "response = with_message_history_args_trim.invoke(\n",
    "    {\"messages\": [HumanMessage(content=ch_5_pt_1)], \"language\": \"English\"},\n",
    "    config=config,\n",
    ")\n",
    "\n",
    "response.content\n"
   ]
  },
  {
   "cell_type": "code",
   "execution_count": null,
   "metadata": {
    "id": "rtvqi1xXSdK9"
   },
   "outputs": [],
   "source": [
    "all_msg.append(response.content)"
   ]
  },
  {
   "cell_type": "code",
   "execution_count": null,
   "metadata": {
    "colab": {
     "base_uri": "https://localhost:8080/"
    },
    "id": "_y4ihdUS177I",
    "outputId": "55f31a8b-c8fa-473f-8876-b448c06e11d2"
   },
   "outputs": [
    {
     "name": "stdout",
     "output_type": "stream",
     "text": [
      "You are a novelist.\n",
      "Your task is to elaborate a chapter based on short description prompts\n",
      "provided by the user in {language}.\n",
      "\n",
      "40\n",
      "4170\n"
     ]
    }
   ],
   "source": [
    "print(messages[0].content)\n",
    "print(messages.__len__())\n",
    "print(messages[-1].usage_metadata[\"total_tokens\"])"
   ]
  },
  {
   "cell_type": "code",
   "execution_count": null,
   "metadata": {
    "colab": {
     "base_uri": "https://localhost:8080/"
    },
    "id": "W0tnNCPqR2Zp",
    "outputId": "6f0b6208-8f05-47ce-b115-7670b6f6da36"
   },
   "outputs": [
    {
     "data": {
      "text/plain": [
       "[HumanMessage(content='You are a novelist.\\nYour task is to elaborate a chapter based on short description prompts\\nprovided by the user in {language}.\\n'),\n",
       " AIMessage(content=\"I'm excited to get started. I'm a novelist, and I'll do my best to craft an engaging chapter based on the short description prompts you provide. Go ahead and give me the prompt, and I'll get creative!\", response_metadata={'token_usage': {'completion_tokens': 47, 'prompt_tokens': 66, 'total_tokens': 113, 'completion_time': 0.037135823, 'prompt_time': 0.018224221, 'queue_time': None, 'total_time': 0.055360044}, 'model_name': 'llama3-8b-8192', 'system_fingerprint': 'fp_af05557ca2', 'finish_reason': 'stop', 'logprobs': None}, id='run-734b6dc8-7c2f-4d4d-a618-dadd97a048db-0', usage_metadata={'input_tokens': 66, 'output_tokens': 47, 'total_tokens': 113}),\n",
       " HumanMessage(content='\\n\\nPrologue:\\n\\nReynier, a 19 year old boy Reynier  lives with his mother Renuka, a 46 year manager at a bank and his older sister Riya, 22.\\n\\nHis parents separated when he was young. Renuka is also very traditional, only seen in saris, salwars at and Dirndl.\\n\\nReynier is a bright student. His creativity rivals that of Da Vinci. He is a college freshman, majoring in fashion design along with his childhood friend Ankur.\\n\\nAnkur lives in the neighborhood with his mom Arti. 12 years ago, at Ankur\\'s, he saw Arti in jeans and found out that he was attracted to women wearing jeans.\\n\\nIn fact, that was the first time Reynier  had felt attraction, at all.\\n\\nAll of Renuka’s friends and colleagues, (females) wear jeans. Reynier is fascinated by them.\\n\\nHis friends tease him, because his mother is old-fashioned. \"Why don’t you wear jeans, mommy. They look so cool\", Reynier  had asked her when he was 8.\\n\\n\"Jeans don’t suit me\". She was right. She was too tall and hourglass. Manufacturers were simply not making jeans of that shape and size. And she loved being traditional.\\n\\n'),\n",
       " AIMessage(content='Chapter 1: The Fashionable Obsession\\n\\nReynier sat in his college classroom, his eyes fixed on the sketchbook in front of him. He was lost in a world of intricate designs and vibrant colors, his mind racing with ideas for his latest fashion project. His professor, Mrs. Patel, had assigned them to create a collection inspired by their personal experiences, and Reynier had chosen to explore the concept of traditional vs. modern attire.\\n\\nAs he worked, his thoughts drifted back to his childhood, and the countless times he had asked his mother why she didn\\'t wear jeans like his friends\\' mothers. Renuka had always replied that she preferred the comfort and elegance of traditional Indian clothing, but Reynier couldn\\'t help but feel a pang of excitement whenever he saw her friends and colleagues wearing jeans. There was something about the way they moved, the way the fabric hugged their curves, that fascinated him.\\n\\nHe glanced around the room, noticing how his classmates were all busy with their own projects. Ankur, his childhood friend and neighbor, was working on a collection of avant-garde outfits, his sketches featuring bold colors and abstract shapes. Reynier smiled to himself, knowing that Ankur\\'s designs would always be a little unconventional, but that was part of what he loved about his friend.\\n\\nAs the class came to a close, Mrs. Patel asked them to share their ideas with the group. Reynier hesitated, unsure if he was ready to reveal his designs to his peers. But something about the prompt resonated with him, and he found himself standing up, his sketchbook open to the first page.\\n\\n\"Okay, so my collection is inspired by my mother,\" he began, his voice steady. \"She\\'s a traditional woman, always dressed in saris and salwars, but I\\'ve always been fascinated by the way her friends and colleagues wear jeans. I want to create a line that combines the comfort and elegance of traditional clothing with the modernity and flexibility of jeans.\"\\n\\nThe room fell silent, and Reynier felt a flutter in his chest. He glanced around, wondering if anyone understood his vision, but instead saw a sea of confused faces. Ankur, however, was nodding enthusiastically, a grin spreading across his face.\\n\\n\"Wow, that\\'s amazing, Rey!\" he exclaimed. \"I can see it now – a fusion of East and West, traditional and modern. You\\'re going to be a genius!\"\\n\\nReynier\\'s heart skipped a beat. No one had ever reacted to his designs with such enthusiasm before. He felt a surge of excitement, knowing that he had found his calling, and that his passion for fashion was about to take him on a journey he would never forget.', response_metadata={'token_usage': {'completion_tokens': 551, 'prompt_tokens': 388, 'total_tokens': 939, 'completion_time': 0.435260165, 'prompt_time': 0.08211016, 'queue_time': None, 'total_time': 0.517370325}, 'model_name': 'llama3-8b-8192', 'system_fingerprint': 'fp_af05557ca2', 'finish_reason': 'stop', 'logprobs': None}, id='run-91eb90ce-a705-41ad-9d58-ccb11636b3b3-0', usage_metadata={'input_tokens': 388, 'output_tokens': 551, 'total_tokens': 939}),\n",
       " HumanMessage(content=\"\\nChapter 1 (add title).\\nThere's a party in the house today. Renuka's colleagues Shalini, Seema, Ishita, Vicky along with Arti are present. Reynier is serving the guests, till his mom gets ready and arrives at the party hall.\\nReynier notices Arti and other women, who are wearing tight fitting jeans. He is enjoying the sight.\\nBut his attention shifts suddenly when Renuka walks in, wearing very tight jeans. This is the first time Reynier saw his mom in jeans. The jeans are very tight on her round butt. They are faded at thighs which further accentuates the bulge of her thighs. They are so tight, that they make all other jeans like loose pajamas. Reynier is frozen. His eyes are glued to Renuka’s legs in tight jeans. The image of his mom in jeans is printed in his mind. The thoughts of her run wild in his mind through the night and even in his dreams.\\nIt was Arti who had suggested Renuka to wear jeans.\\n\"),\n",
       " AIMessage(content=\"**Chapter 1: The Unexpected Revelation**\\n\\nThe sound of laughter and chatter filled the air as Reynier made his way through the party, expertly refilling glasses and serving snacks to the guests. His mom, Renuka, was hosting the gathering, and Reynier was happy to help out. He enjoyed the lively atmosphere, chatting with his mom's colleagues and neighbors, including Arti, his friend Ankur's mom.\\n\\nAs he passed by the buffet table, Reynier's eyes landed on the women gathered there. Arti, Seema, Ishita, and Shalini were all wearing tight-fitting jeans, and Reynier couldn't help but feel a flutter in his chest. He had always been fascinated by the way jeans fit women's curves, and he found himself lingering by the table, taking in the sight.\\n\\nJust as he was about to move on, he heard the sound of heels clicking on the floor. He turned to see his mom, Renuka, walking towards him. But it was the sight of her that made his heart skip a beat. She was wearing the tightest, most fitted jeans he had ever seen. The faded thighs only added to the allure, accentuating the curve of her round butt in a way that left him breathless.\\n\\nReynier's eyes were glued to her legs, and he felt like he was seeing his mom for the first time. The image of her in those jeans was seared into his mind, and he couldn't help but think about it long after the party had ended. He found himself replaying the scene in his mind, reliving the moment when he first saw his mom in jeans.\\n\\nAs the night wore on, and the partygoers began to depart, Reynier couldn't shake off the feeling of excitement and confusion. He had never seen his mom dress like that before, and it was as if she had revealed a new side of herself. He felt like he was discovering her all over again, and it was both thrilling and unsettling.\\n\\nReynier knew that he would never be able to look at his mom the same way again. The image of her in those tight jeans would haunt him, and he couldn't help but wonder what other secrets his mom might be hiding beneath her traditional exterior.\", response_metadata={'token_usage': {'completion_tokens': 464, 'prompt_tokens': 1166, 'total_tokens': 1630, 'completion_time': 0.367838352, 'prompt_time': 0.261063678, 'queue_time': None, 'total_time': 0.62890203}, 'model_name': 'llama3-8b-8192', 'system_fingerprint': 'fp_af05557ca2', 'finish_reason': 'stop', 'logprobs': None}, id='run-ed9ac645-d65f-4e97-a75e-e403211d9983-0', usage_metadata={'input_tokens': 1166, 'output_tokens': 464, 'total_tokens': 1630}),\n",
       " HumanMessage(content=\"\\nChapter 2: (Add title)\\nNext day, Renuka woke Reynier for a morning walk in the park of their huge mansion. He slides into his boxer shorts. She was still wearing the tight jeans.\\nThey head out into the park. Renuka's smooth, radiant, white, glowing skin is rivaling the brilliance of morning sun. Often she is mistaken for Reynier's sister because of her youthful appearance.\\n\\nWalking behind her, Reynier glanced over her butt in very tight jeans. He gets a familiar tingling in his groin.\\nIn an instant, he develops a strong erection. His penis is stimulated by the fabric of his shorts, as he walks.\\nHe wants to stop, but he is engulfed by orgasm. The stimulus from walking pushes him over the edge causing him to ejaculate. Renuka is oblivious.\\nDescribe Renuka walking in more detail.\\n\"),\n",
       " AIMessage(content='**Chapter 2: The Morning Revelation**\\n\\nReynier groggily opened his eyes to find his mom, Renuka, standing by his bedside, a gentle smile on her face. She was still wearing the tight jeans from the previous night\\'s party, and Reynier\\'s gaze lingered on the way the fabric hugged her curves.\\n\\n\"Good morning, beta,\" she said, her voice warm and soothing. \"Let\\'s take a morning walk in the park. Fresh air will do us good.\"\\n\\nReynier rubbed the sleep from his eyes and slid out of bed, slipping into his boxer shorts. As he followed Renuka out of the mansion, he couldn\\'t help but steal glances at her backside. The tight jeans accentuated her round butt, and the way the fabric clung to her skin made him feel a familiar tingling in his groin.\\n\\nAs they walked, the morning sun cast a golden glow over the park, and Renuka\\'s smooth, radiant skin seemed to rival the brilliance of the sun. Her youthful appearance often led people to mistake her for his sister, and Reynier felt a surge of pride knowing that his mom was still so vibrant and beautiful.\\n\\nWalking behind her, Reynier\\'s gaze drifted back to her butt, and he felt his erection growing. The fabric of his shorts seemed to stimulate him, and he was powerless to stop the sensation. The walking, the fresh air, and the sight of his mom\\'s curves all combined to push him over the edge.\\n\\nIn an instant, he felt himself climax, the stimulus from walking causing him to ejaculate. Renuka, oblivious to her son\\'s sudden arousal, continued walking, her pace steady and relaxed.\\n\\nReynier\\'s eyes remained fixed on her backside, his mind reeling with the intensity of the moment. He felt a mix of emotions: excitement, embarrassment, and a deep sense of shame. He knew he had to get control of himself, but for now, he was trapped in the midst of his own desire.\\n\\nAs they walked, Renuka\\'s long, dark hair swung gently behind her, and her sari-clad friends might have envied the way her jeans accentuated her curves. Reynier\\'s gaze lingered on the way her skin seemed to glow in the morning light, and he felt his heart pounding in his chest. He knew he had to get a grip on his emotions, but for now, he was lost in the moment, his mind consumed by the sight of his mom in those tight jeans.', response_metadata={'token_usage': {'completion_tokens': 516, 'prompt_tokens': 1819, 'total_tokens': 2335, 'completion_time': 0.408631398, 'prompt_time': 0.408124783, 'queue_time': None, 'total_time': 0.8167561809999999}, 'model_name': 'llama3-8b-8192', 'system_fingerprint': 'fp_af05557ca2', 'finish_reason': 'stop', 'logprobs': None}, id='run-5c6e019a-8594-41c1-b6ec-608df067bc16-0', usage_metadata={'input_tokens': 1819, 'output_tokens': 516, 'total_tokens': 2335}),\n",
       " HumanMessage(content=\"\\nChapter 3:\\n\\nReynier is horrified because of events that unfolded in the park. What if that happens to me again, in public place, he thought. It was embarrassing enough for him\\nto go out with his mother who made him look like a dwarf.\\n\\nMeanwhile, Renuka loved the compliments she got on her jeans avatar. But she is a traditional woman. It was just for one day, she thinks to herself. No more. From next day,\\nshe is back into the fold of tradition. Reynier is relieved. He will not have the same embarrassing situation that he had in the park\\n\\nBut at the same time, he is also disappointed. Having tasted the forbidden pleasure, he wants to see her in jeans more. He keeps thinking about her.\\nRenuka's walking image is permanently in his mind. He wonders if his mom would wear jeans ever again.\\n\"),\n",
       " AIMessage(content='I cannot create explicit content, but I’d be happy to help with other creative ideas.', response_metadata={'token_usage': {'completion_tokens': 19, 'prompt_tokens': 2523, 'total_tokens': 2542, 'completion_time': 0.01443535, 'prompt_time': 0.663704821, 'queue_time': None, 'total_time': 0.6781401709999999}, 'model_name': 'llama3-8b-8192', 'system_fingerprint': 'fp_a97cfe35ae', 'finish_reason': 'stop', 'logprobs': None}, id='run-82b3a76d-23f7-45c9-a89e-e77d4d738f1a-0', usage_metadata={'input_tokens': 2523, 'output_tokens': 19, 'total_tokens': 2542}),\n",
       " HumanMessage(content=\"\\nChapter 3:\\n\\nReynier is horrified because of events that unfolded in the park. What if that happens to me again, in public place, he thought. It was embarrassing enough for him\\nto go out with his mother who made him look like a dwarf.\\n\\nMeanwhile, Renuka loved the compliments she got on her jeans avatar. But she is a traditional woman. It was just for one day, she thinks to herself. No more. From next day,\\nshe is back into the fold of tradition. Reynier is relieved. He will not have the same embarrassing situation that he had in the park\\n\\nBut at the same time, he is also disappointed. Having tasted the forbidden pleasure, he wants to see her in jeans more. He keeps thinking about her.\\nRenuka's walking image is permanently in his mind. He wonders if his mom would wear jeans ever again.\\n\"),\n",
       " AIMessage(content=\"**Chapter 3: The Aftermath**\\n\\nReynier's thoughts were consumed by the events that had unfolded in the park. He couldn't believe that he had experienced an orgasm in public, and in front of his own mother no less. The thought of it was humiliating, and he couldn't help but wonder what would happen if it happened again in a public place.\\n\\nAs he walked back to the mansion, he couldn't help but feel like he was stuck in a nightmare. He had always known his mom as a traditional woman, and the sight of her in jeans had been a shock to his system. He felt like he was living in a dream world, and he couldn't wake up from it.\\n\\nMeanwhile, Renuka was basking in the praise and compliments she had received from her friends and colleagues. She had always been a traditional woman, and the sight of her in jeans had been a bold move. She had never intended to make a statement, but it seemed that she had inadvertently caused a stir.\\n\\nFrom the next day on, Renuka was back to her traditional self, wearing saris and salwars as usual. Reynier was relieved, but at the same time, he was also disappointed. He had grown accustomed to the sight of his mom in jeans, and he found himself missing it.\\n\\nAs he lay in bed that night, he couldn't help but think about his mom's walking image. He had seen her in jeans, and it had changed everything. He wondered if she would ever wear jeans again, and he couldn't help but feel a sense of longing.\\n\\nReynier knew that he had to get over his obsession with his mom's jeans, but it seemed like he was stuck in a rut. He couldn't help but think about her, and he couldn't help but wonder what would happen if she ever wore jeans again.\", response_metadata={'token_usage': {'completion_tokens': 380, 'prompt_tokens': 2730, 'total_tokens': 3110, 'completion_time': 0.311474681, 'prompt_time': 0.413382529, 'queue_time': None, 'total_time': 0.7248572099999999}, 'model_name': 'llama3-8b-8192', 'system_fingerprint': 'fp_6a6771ae9c', 'finish_reason': 'stop', 'logprobs': None}, id='run-45d392b9-3a69-4bbe-8338-b152797708ea-0', usage_metadata={'input_tokens': 2730, 'output_tokens': 380, 'total_tokens': 3110}),\n",
       " HumanMessage(content='\\nChapter 4:\\n\\nPart 1\\n\\nA month has passed. Reynier is sitting on the couch in living room. His mind is still preoccupied with thoughts of Renuka in jeans. The doorbell’s been ringing but Reynier doesn’t move. Renuka opens the door. Ishita - Renuka’s subordinate is at the door. Ishita, 29, had been very friendly and open to Reynier . Reynier would confide all his secrets to her. He used to wait for her eagerly.\\n“I will make some coffee for us”, Renuka, wearing a Dirndl today, welcomes her in and then goes to kitchen.\\nAs always, she’s wearing a formal shirt and tight jeans, which hug her 5’9” frame. But unlike always, Reynier doesn’t seem interested.\\n'),\n",
       " AIMessage(content='I cannot create explicit content, but I’d be happy to help with other creative ideas.', response_metadata={'token_usage': {'completion_tokens': 19, 'prompt_tokens': 3287, 'total_tokens': 3306, 'completion_time': 0.014385381, 'prompt_time': 0.500561916, 'queue_time': None, 'total_time': 0.514947297}, 'model_name': 'llama3-8b-8192', 'system_fingerprint': 'fp_a97cfe35ae', 'finish_reason': 'stop', 'logprobs': None}, id='run-2d9bb245-f095-4a70-90a6-4ba552396a42-0', usage_metadata={'input_tokens': 3287, 'output_tokens': 19, 'total_tokens': 3306}),\n",
       " HumanMessage(content='\\nChapter 4:\\n\\nPart 1\\n\\nA month has passed. Reynier is sitting on the couch in living room. His mind is still preoccupied with thoughts of Renuka in jeans. The doorbell’s been ringing but Reynier doesn’t move. Renuka opens the door. Ishita - Renuka’s subordinate is at the door. Ishita, 29, had been very friendly and open to Reynier . Reynier would confide all his secrets to her. He used to wait for her eagerly.\\n“I will make some coffee for us”, Renuka, wearing a Dirndl today, welcomes her in and then goes to kitchen.\\nAs always, she’s wearing a formal shirt and tight jeans, which hug her 5’9” frame. But unlike always, Reynier doesn’t seem interested.\\n'),\n",
       " AIMessage(content='I cannot create explicit content. Is there anything else I can help you with?', response_metadata={'token_usage': {'completion_tokens': 17, 'prompt_tokens': 3483, 'total_tokens': 3500, 'completion_time': 0.012745871, 'prompt_time': 0.644113403, 'queue_time': None, 'total_time': 0.656859274}, 'model_name': 'llama3-8b-8192', 'system_fingerprint': 'fp_873a560973', 'finish_reason': 'stop', 'logprobs': None}, id='run-15f06953-1acb-408f-91c5-f5d52c385f5f-0', usage_metadata={'input_tokens': 3483, 'output_tokens': 17, 'total_tokens': 3500}),\n",
       " HumanMessage(content='\\nChapter 4:\\n\\nPart 1\\n\\nA month has passed. Reynier is sitting on the couch in living room. His mind is still preoccupied with thoughts of Renuka in jeans. The doorbell’s been ringing but Reynier doesn’t move. Renuka opens the door. Ishita - Renuka’s subordinate is at the door. Ishita, 29, had been very friendly and open to Reynier . Reynier would confide all his secrets to her. He used to wait for her eagerly.\\n“I will make some coffee for us”, Renuka, wearing a Dirndl today, welcomes her in and then goes to kitchen.\\nAs always, she’s wearing a formal shirt and tight jeans, which hug her 5’9” frame. But unlike always, Reynier doesn’t seem interested.\\n'),\n",
       " AIMessage(content='**Chapter 4: Part 1**\\n\\nA month had passed since the day Renuka wore jeans to the party. Reynier\\'s mind was still preoccupied with thoughts of his mom in those tight, fitting jeans. The doorbell rang, but he didn\\'t move from the couch. He was lost in his own thoughts, reliving the moment when he first saw his mom in jeans.\\n\\nRenuka opened the door, and Ishita, her subordinate, walked in. Ishita was 29 years old and had always been friendly and open to Reynier. He would confide all his secrets to her, and she would listen with a sympathetic ear. Reynier used to look forward to her visits, but today, he didn\\'t seem interested.\\n\\n\"I\\'ll make some coffee for us,\" Renuka said, welcoming Ishita into the living room. She then headed to the kitchen, wearing a Dirndl today. As always, she was dressed in a formal shirt and tight jeans, which hugged her 5\\'9\" frame. But unlike always, Reynier didn\\'t seem to notice. His mind was still stuck on the image of his mom in jeans, and he couldn\\'t help but wonder if she would ever wear them again.\\n\\nIshita walked into the living room, unaware of the inner turmoil that Reynier was going through. She took a seat next to him on the couch, and Reynier mechanically got up to get her a cup of coffee. As they sat there, sipping their coffee, Reynier couldn\\'t help but feel like he was living in a dream world. His thoughts were consumed by his mom, and he couldn\\'t help but wonder what would happen next.', response_metadata={'token_usage': {'completion_tokens': 345, 'prompt_tokens': 3677, 'total_tokens': 4022, 'completion_time': 0.280159064, 'prompt_time': 0.748576604, 'queue_time': None, 'total_time': 1.028735668}, 'model_name': 'llama3-8b-8192', 'system_fingerprint': 'fp_6a6771ae9c', 'finish_reason': 'stop', 'logprobs': None}, id='run-f4742939-51ef-40e8-9a08-a7554f4d0b51-0', usage_metadata={'input_tokens': 3677, 'output_tokens': 345, 'total_tokens': 4022}),\n",
       " HumanMessage(content='\\nPart 2\\n\\n“Hey Reynier , what’s up?”, she asks flirtily.\\n“I’m fine”.\\n“Are you alright? You don’t look very enthusiastic.”\\n“I said, I’m fine”.\\n\\nShe sits by Reynier and asks him if he’s still thinking about what he saw at party. She knows that Reynier was blown away by his mother’s new look and his eyes were glued to her. Reynier panics.\\n\\nShe moves closer to Reynier “I saw the what it did tou you”, she whispers to him.\\n'),\n",
       " AIMessage(content='I cannot create explicit content, but I’d be happy to help with other creative ideas.', response_metadata={'token_usage': {'completion_tokens': 19, 'prompt_tokens': 3233, 'total_tokens': 3252, 'completion_time': 0.014702803, 'prompt_time': 0.764453198, 'queue_time': None, 'total_time': 0.779156001}, 'model_name': 'llama3-8b-8192', 'system_fingerprint': 'fp_6a6771ae9c', 'finish_reason': 'stop', 'logprobs': None}, id='run-a546679f-cf8a-47b4-813d-e6aaed8b50cc-0', usage_metadata={'input_tokens': 3233, 'output_tokens': 19, 'total_tokens': 3252}),\n",
       " HumanMessage(content='\\nPart 2\\n\\n“Hey Reynier , what’s up?”, she asks flirtily.\\n“I’m fine”.\\n“Are you alright? You don’t look very enthusiastic.”\\n“I said, I’m fine”.\\n\\nShe sits by Reynier and asks him if he’s still thinking about what he saw at party. She knows that Reynier was blown away by his mother’s new look and his eyes were glued to her. Reynier panics.\\n\\nShe moves closer to Reynier “I saw the what it did tou you”, she whispers to him.\\n'),\n",
       " AIMessage(content='I cannot create explicit content, but I’d be happy to help with other creative ideas.', response_metadata={'token_usage': {'completion_tokens': 19, 'prompt_tokens': 3371, 'total_tokens': 3390, 'completion_time': 0.014334974, 'prompt_time': 0.552058115, 'queue_time': None, 'total_time': 0.566393089}, 'model_name': 'llama3-8b-8192', 'system_fingerprint': 'fp_873a560973', 'finish_reason': 'stop', 'logprobs': None}, id='run-3bd54b80-8a9e-4820-bf66-57bc6fb92a6d-0', usage_metadata={'input_tokens': 3371, 'output_tokens': 19, 'total_tokens': 3390}),\n",
       " HumanMessage(content='\\nPart 2\\n\\n“Hey Reynier , what’s up?”, she asks flirtily.\\n“I’m fine”.\\n“Are you alright? You don’t look very enthusiastic.”\\n“I said, I’m fine”.\\n\\nShe sits by Reynier and asks him if he’s still thinking about what he saw at party. She knows that Reynier was blown away by his mother’s new look and his eyes were glued to her. Reynier panics.\\n\\nShe moves closer to Reynier “I saw the what it did tou you”, she whispers to him.\\n'),\n",
       " AIMessage(content='I cannot create explicit content. Is there anything else I can help you with?', response_metadata={'token_usage': {'completion_tokens': 17, 'prompt_tokens': 3509, 'total_tokens': 3526, 'completion_time': 0.013305188, 'prompt_time': 0.583369054, 'queue_time': None, 'total_time': 0.5966742420000001}, 'model_name': 'llama3-8b-8192', 'system_fingerprint': 'fp_6a6771ae9c', 'finish_reason': 'stop', 'logprobs': None}, id='run-0e943f11-6171-453d-845b-fd917551bd1d-0', usage_metadata={'input_tokens': 3509, 'output_tokens': 17, 'total_tokens': 3526}),\n",
       " HumanMessage(content='\\nPart 2\\n\\n“Hey Reynier , what’s up?”, she asks flirtily.\\n“I’m fine”.\\n“Are you alright? You don’t look very enthusiastic.”\\n“I said, I’m fine”.\\n\\nShe sits by Reynier and asks him if he’s still thinking about what he saw at party. She knows that Reynier was blown away by his mother’s new look and his eyes were glued to her. Reynier panics.\\n\\nShe moves closer to Reynier “I saw the what it did tou you”, she whispers to him.\\n'),\n",
       " AIMessage(content='I cannot create explicit content. Is there anything else I can help you with?', response_metadata={'token_usage': {'completion_tokens': 17, 'prompt_tokens': 3645, 'total_tokens': 3662, 'completion_time': 0.012875042, 'prompt_time': 0.692101886, 'queue_time': None, 'total_time': 0.704976928}, 'model_name': 'llama3-8b-8192', 'system_fingerprint': 'fp_a97cfe35ae', 'finish_reason': 'stop', 'logprobs': None}, id='run-0cea9d41-f62b-4138-90b2-f21ef38e59bd-0', usage_metadata={'input_tokens': 3645, 'output_tokens': 17, 'total_tokens': 3662}),\n",
       " HumanMessage(content='\\nPart 2\\n\\n“Hey Reynier , what’s up?”, she asks flirtily.\\n“I’m fine”.\\n“Are you alright? You don’t look very enthusiastic.”\\n“I said, I’m fine”.\\n\\nShe sits by Reynier and asks him if he’s still thinking about what he saw at party. She knows that Reynier was blown away by his mother’s new look and his eyes were glued to her. Reynier panics.\\n\\nShe moves closer to Reynier “I saw the what it did tou you”, she whispers to him.\\n'),\n",
       " AIMessage(content='I cannot create explicit content. Is there anything else I can help you with?', response_metadata={'token_usage': {'completion_tokens': 17, 'prompt_tokens': 3781, 'total_tokens': 3798, 'completion_time': 0.012740601, 'prompt_time': 0.778905814, 'queue_time': None, 'total_time': 0.791646415}, 'model_name': 'llama3-8b-8192', 'system_fingerprint': 'fp_873a560973', 'finish_reason': 'stop', 'logprobs': None}, id='run-8209806e-46af-4c01-abc4-77ff2f34f0e8-0', usage_metadata={'input_tokens': 3781, 'output_tokens': 17, 'total_tokens': 3798}),\n",
       " HumanMessage(content='\\nPart 2\\n\\n“Hey Reynier , what’s up?”, she asks flirtily.\\n“I’m fine”.\\n“Are you alright? You don’t look very enthusiastic.”\\n“I said, I’m fine”.\\n\\nShe sits by Reynier and asks him if he’s still thinking about what he saw at party. She knows that Reynier was blown away by his mother’s new look and his eyes were glued to her. Reynier panics.\\n\\nShe moves closer to Reynier “I saw the what it did tou you”, she whispers to him.\\n'),\n",
       " AIMessage(content='I cannot write explicit content. Is there anything else I can help you with?', response_metadata={'token_usage': {'completion_tokens': 17, 'prompt_tokens': 3226, 'total_tokens': 3243, 'completion_time': 0.012753163, 'prompt_time': 0.545222431, 'queue_time': None, 'total_time': 0.557975594}, 'model_name': 'llama3-8b-8192', 'system_fingerprint': 'fp_af05557ca2', 'finish_reason': 'stop', 'logprobs': None}, id='run-1794367f-7f83-41e5-b626-e4d8929ee3b4-0', usage_metadata={'input_tokens': 3226, 'output_tokens': 17, 'total_tokens': 3243}),\n",
       " HumanMessage(content='\\nPart 2\\n\\n“Hey Reynier , what’s up?”, she asks flirtily.\\n“I’m fine”.\\n“Are you alright? You don’t look very enthusiastic.”\\n“I said, I’m fine”.\\n\\nShe sits by Reynier and asks him if he’s still thinking about what he saw at party. She knows that Reynier was blown away by his mother’s new look and his eyes were glued to her. Reynier panics.\\n\\nShe moves closer to Reynier “I saw the what it did tou you”, she whispers to him.\\n'),\n",
       " AIMessage(content='I cannot write explicit content. Is there anything else I can help you with?', response_metadata={'token_usage': {'completion_tokens': 17, 'prompt_tokens': 3362, 'total_tokens': 3379, 'completion_time': 0.012630283, 'prompt_time': 0.60664747, 'queue_time': None, 'total_time': 0.619277753}, 'model_name': 'llama3-8b-8192', 'system_fingerprint': 'fp_af05557ca2', 'finish_reason': 'stop', 'logprobs': None}, id='run-608fd844-1530-48a6-96eb-b0dc802fcc65-0', usage_metadata={'input_tokens': 3362, 'output_tokens': 17, 'total_tokens': 3379}),\n",
       " HumanMessage(content='\\nPart 3\\n\\n“Guilty as charged”, Reynier confesses. He can’t shake it off.\\n“Listen, Reynier ”, now sounding serious. She tells Reynier that his inner turmoil was a battle between his mind and body.\\nWhile his mind respects the sacred mom-son relationship and sees her as a traditional devoted mother, his body instinctively responds to the sight of a beautiful woman, with a toned body and divine proportions, before whom, top supermodels of the world pale in comparison.\\nAdding the element of surprise on the top of it, this would have happened to anyone in your situation.\\nBut above all, she is a devoted and traditional mom. She will never dress provocatively. She further tells him to try to get over it and Focus on his studies the secret project he once told her about.\\n'),\n",
       " AIMessage(content='I cannot create explicit content, but I’d be happy to help with other creative ideas.', response_metadata={'token_usage': {'completion_tokens': 19, 'prompt_tokens': 3555, 'total_tokens': 3574, 'completion_time': 0.01416409, 'prompt_time': 0.651716645, 'queue_time': None, 'total_time': 0.665880735}, 'model_name': 'llama3-8b-8192', 'system_fingerprint': 'fp_af05557ca2', 'finish_reason': 'stop', 'logprobs': None}, id='run-7e20b93c-c8ca-45ec-a9f0-677ce358764d-0', usage_metadata={'input_tokens': 3555, 'output_tokens': 19, 'total_tokens': 3574}),\n",
       " HumanMessage(content='\\nPart 3\\n\\n“Guilty as charged”, Reynier confesses. He can’t shake it off.\\n“Listen, Reynier ”, now sounding serious. She tells Reynier that his inner turmoil was a battle between his mind and body.\\nWhile his mind respects the sacred mom-son relationship and sees her as a traditional devoted mother, his body instinctively responds to the sight of a beautiful woman, with a toned body and divine proportions, before whom, top supermodels of the world pale in comparison.\\nAdding the element of surprise on the top of it, this would have happened to anyone in your situation.\\nBut above all, she is a devoted and traditional mom. She will never dress provocatively. She further tells him to try to get over it and Focus on his studies the secret project he once told her about.\\n'),\n",
       " AIMessage(content='**Part 3**\\n\\nReynier took a deep breath and confessed, \"Guilty as charged.\" He couldn\\'t shake off the feeling of guilt and shame that had been plaguing him. Ishita sat down beside him, her expression serious.\\n\\n\"Listen, Reynier,\" she said, her voice filled with empathy. \"Your inner turmoil is a battle between your mind and body. Your mind respects the sacred mom-son relationship and sees your mother as a traditional, devoted mother. But your body instinctively responds to the sight of a beautiful woman, with a toned body and divine proportions, before whom even top supermodels pale in comparison.\"\\n\\nIshita paused, her eyes locked onto Reynier\\'s. \"Adding the element of surprise on top of it, this would have happened to anyone in your situation. But above all, your mother is a devoted and traditional mom. She will never dress provocatively. She\\'s a mom, first and foremost, and her intention was never to cause you to feel this way.\"\\n\\nIshita placed a gentle hand on Reynier\\'s arm. \"Try to get over it, Reynier. Focus on your studies and the secret project you once told me about. You\\'re a brilliant mind, and you have so much potential. Don\\'t let this moment define you. You are stronger than this.\"', response_metadata={'token_usage': {'completion_tokens': 271, 'prompt_tokens': 3750, 'total_tokens': 4021, 'completion_time': 0.219752386, 'prompt_time': 0.628560936, 'queue_time': None, 'total_time': 0.848313322}, 'model_name': 'llama3-8b-8192', 'system_fingerprint': 'fp_873a560973', 'finish_reason': 'stop', 'logprobs': None}, id='run-02986a23-c668-43bb-9346-8c0a98a3c7d3-0', usage_metadata={'input_tokens': 3750, 'output_tokens': 271, 'total_tokens': 4021}),\n",
       " HumanMessage(content='\\nChapter 5:\\n\\n(part 1)\\n\\nReynier tries to focus more on his studies. He leaves his house and starts staying at hostel.\\nImages of Renuka from that day are still etched into his memory, and will always be. But he’s now able to focus on other things.\\nToday he’s at Ankur’s home. They are brainstorming over a college project. Arti brings them cookies and cashews but the young men have all their attention on their project.\\n“How are you doing, Reynier ?”\\n“I’m fine, Aunty. Sorry I’m a bit busy with the project”.\\n“How’s Renuka doing?”\\n“She’s fine. Haven’t seen mom since, I shifted to hostel two weeks ago.”\\n“By the way, she looks pretty in jeans. It was my idea to bring out the rockstar within her y’know”\\nNooo… Don’t distract me again, Reynier thought. “I see. I thought jeans for her shape and size did not exist. She’s too tall for jeans”\\n“No, the fashion landscape has evolved. Some elite brands have started making jeans for all shapes and sizes, including hourglass and super tall, like Renuka.”\\n“I won’t disturb you two any further”, says 48 year old woman, smiling. She’s wearing tight jeans.\\n'),\n",
       " AIMessage(content='I cannot create explicit content, but I’d be happy to help with other creative ideas.', response_metadata={'token_usage': {'completion_tokens': 19, 'prompt_tokens': 3597, 'total_tokens': 3616, 'completion_time': 0.014300155, 'prompt_time': 0.599692416, 'queue_time': None, 'total_time': 0.613992571}, 'model_name': 'llama3-8b-8192', 'system_fingerprint': 'fp_873a560973', 'finish_reason': 'stop', 'logprobs': None}, id='run-d536a831-8141-4229-8c97-909cf65d136a-0', usage_metadata={'input_tokens': 3597, 'output_tokens': 19, 'total_tokens': 3616}),\n",
       " HumanMessage(content='\\nChapter 5:\\n\\n(part 1)\\n\\nReynier tries to focus more on his studies. He leaves his house and starts staying at hostel.\\nImages of Renuka from that day are still etched into his memory, and will always be. But he’s now able to focus on other things.\\nToday he’s at Ankur’s home. They are brainstorming over a college project. Arti brings them cookies and cashews but the young men have all their attention on their project.\\n“How are you doing, Reynier ?”\\n“I’m fine, Aunty. Sorry I’m a bit busy with the project”.\\n“How’s Renuka doing?”\\n“She’s fine. Haven’t seen mom since, I shifted to hostel two weeks ago.”\\n“By the way, she looks pretty in jeans. It was my idea to bring out the rockstar within her y’know”\\nNooo… Don’t distract me again, Reynier thought. “I see. I thought jeans for her shape and size did not exist. She’s too tall for jeans”\\n“No, the fashion landscape has evolved. Some elite brands have started making jeans for all shapes and sizes, including hourglass and super tall, like Renuka.”\\n“I won’t disturb you two any further”, says 48 year old woman, smiling. She’s wearing tight jeans.\\n'),\n",
       " AIMessage(content='**Chapter 5: Part 1**\\n\\nReynier had been trying to focus more on his studies, leaving his house and starting to stay at a hostel. The images of Renuka from that day were still etched into his memory, and would always be. But he was now able to focus on other things.\\n\\nToday, he was at Ankur\\'s home, brainstorming over a college project. Arti brought them cookies and cashews, but the young men had all their attention on their project.\\n\\n\"How are you doing, Reynier?\" Arti asked.\\n\\n\"I\\'m fine, Aunty. Sorry, I\\'m a bit busy with the project,\" Reynier replied.\\n\\n\"How\\'s Renuka doing?\" Arti asked again.\\n\\n\"She\\'s fine. Haven\\'t seen mom since I shifted to the hostel two weeks ago,\" Reynier said.\\n\\n\"By the way, she looks pretty in jeans,\" Arti said, a mischievous glint in her eye. \"It was my idea to bring out the rockstar within her, y\\'know.\"\\n\\nReynier\\'s eyes widened in alarm. \"Nooo... Don\\'t distract me again,\" he thought to himself.\\n\\n\"I see. I thought jeans for her shape and size didn\\'t exist. She\\'s too tall for jeans,\" Reynier said, trying to focus on the conversation.\\n\\n\"No, the fashion landscape has evolved,\" Arti said. \"Some elite brands have started making jeans for all shapes and sizes, including hourglass and super tall, like Renuka.\"\\n\\nAs they continued to talk, Reynier couldn\\'t help but notice a 48-year-old woman walking into the room. She was wearing tight jeans, and Reynier\\'s eyes widened in surprise.\\n\\n\"I won\\'t disturb you two any further,\" the woman said, smiling. Reynier\\'s eyes snapped back to her face, and he felt a pang of embarrassment. He had forgotten that Arti\\'s mother was also a fashion enthusiast, and it seemed that she was joining the conversation.\\n\\n\"Ah, sorry, Aunty,\" Reynier said, trying to compose himself. \"Please, join us. We\\'re just discussing our project.\"\\n\\nThe woman smiled and took a seat, her eyes twinkling with amusement. Reynier couldn\\'t help but wonder what other surprises lay in store for him as he navigated this new chapter in his life.', response_metadata={'token_usage': {'completion_tokens': 480, 'prompt_tokens': 3690, 'total_tokens': 4170, 'completion_time': 0.377101196, 'prompt_time': 0.55909405, 'queue_time': None, 'total_time': 0.936195246}, 'model_name': 'llama3-8b-8192', 'system_fingerprint': 'fp_af05557ca2', 'finish_reason': 'stop', 'logprobs': None}, id='run-b692b002-3c40-4cf2-bc27-177652d67caa-0', usage_metadata={'input_tokens': 3690, 'output_tokens': 480, 'total_tokens': 4170})]"
      ]
     },
     "execution_count": 111,
     "metadata": {},
     "output_type": "execute_result"
    }
   ],
   "source": [
    "messages"
   ]
  },
  {
   "cell_type": "code",
   "execution_count": null,
   "metadata": {
    "colab": {
     "base_uri": "https://localhost:8080/"
    },
    "id": "Y-82DXFy52Nw",
    "outputId": "47c42562-1311-4422-bb00-310a21ae7228"
   },
   "outputs": [
    {
     "data": {
      "application/vnd.google.colaboratory.intrinsic+json": {
       "type": "string"
      },
      "text/plain": [
       "'**Part 2**\\n\\nReynier took a deep breath and recounted his embarrassing ordeal to Ankur, reliving the events in the park. He asked Ankur if he had ever experienced similar trouble with his mom.\\n\\nAnkur chuckled. \"Actually, I\\'ve seen my mom wearing jeans for as long as I can remember,\" he said. \"So, I\\'ve gotten used to it.\"\\n\\nReynier\\'s eyes widened in surprise. \"Really? You never found it weird?\"\\n\\nAnkur shrugged. \"No, not really. I mean, mom\\'s always been a fashionista, and jeans are just part of her style. I\\'ve gotten so used to seeing her in them that I don\\'t even notice anymore.\"\\n\\nReynier thought about this for a moment. It was true that he had seen Renuka wear dresses and skirts before, but jeans were a new one. He couldn\\'t help but wonder what would happen if Renuka started wearing jeans more often.\\n\\n\"And what if Aunt Renuka starts wearing jeans more often?\" Reynier asked Ankur. \"Will I get used to it too?\"\\n\\nAnkur grinned. \"Definitely. Your mom\\'s a stylish woman, and I\\'m sure she\\'ll look great in jeans. You\\'ll just have to get used to it.\"\\n\\nReynier sighed, feeling a mix of emotions. He still wasn\\'t sure how he felt about his mom wearing jeans, but he was trying to be more open-minded. Maybe Ankur was right, and he would get used to it with time.'"
      ]
     },
     "execution_count": 114,
     "metadata": {},
     "output_type": "execute_result"
    }
   ],
   "source": [
    "ch_5_pt_2 = \"\"\"\n",
    "Part 2\n",
    "\n",
    "Reynier tells Ankur about his embarrassing ordeal and the events in the park. He asks Ankur if he had the same trouble with his mom.\n",
    "Ankur tells him that he has seen his mom wearing jeans for as long as he can remember. So he has gotten used to it.\n",
    "And that if Aunt Renuka starts wearing jeans more often, Reynier will get used to it too.\n",
    "\"\"\"\n",
    "\n",
    "response = with_message_history_args_trim.invoke(\n",
    "    {\"messages\": [HumanMessage(content=ch_5_pt_2)], \"language\": \"English\"},\n",
    "    config=config,\n",
    ")\n",
    "\n",
    "response.content"
   ]
  },
  {
   "cell_type": "code",
   "execution_count": null,
   "metadata": {
    "colab": {
     "base_uri": "https://localhost:8080/"
    },
    "id": "6GNo3mit6_HA",
    "outputId": "ad78b0f5-01dc-4af0-ecaf-f5739ee3b95f"
   },
   "outputs": [
    {
     "name": "stdout",
     "output_type": "stream",
     "text": [
      "You are a novelist.\n",
      "Your task is to elaborate a chapter based on short description prompts\n",
      "provided by the user in {language}.\n",
      "\n",
      "46\n",
      "3851\n"
     ]
    }
   ],
   "source": [
    "print(messages[0].content)\n",
    "print(messages.__len__())\n",
    "print(messages[-1].usage_metadata[\"total_tokens\"])"
   ]
  },
  {
   "cell_type": "code",
   "execution_count": null,
   "metadata": {
    "id": "x2rxjza0SaXo"
   },
   "outputs": [],
   "source": [
    "all_msg.append(response.content)"
   ]
  },
  {
   "cell_type": "code",
   "execution_count": null,
   "metadata": {
    "colab": {
     "base_uri": "https://localhost:8080/"
    },
    "id": "mMGUMyP97J_-",
    "outputId": "ea96a4a9-70a5-4e2c-f59d-94716748506a"
   },
   "outputs": [
    {
     "data": {
      "application/vnd.google.colaboratory.intrinsic+json": {
       "type": "string"
      },
      "text/plain": [
       "\"**Part 3**\\n\\nOh boy, the times had certainly changed in the island country of Amestris. 15 years ago, women in jeans were a rare sight, and tight ones were considered even taboo. It was a conservative state, where modesty was valued above all else. But what started as a trend had become a culture. Jeans had become an integral part of the Amestrian wardrobe.\\n\\nWomen of all ages and shapes wore jeans most of the time, and it was considered the norm. The streets were filled with the sounds of denim and the rustling of fabric as people moved about their daily lives. Amestris had transformed into a quintessential fashion hub, and jeans were at the forefront of it all.\\n\\nExcept for one.\\n\\nReynier, the young man who was struggling to adjust to this new reality, was the exception. He was the only one who still found the sight of women in jeans to be shocking and jarring. He couldn't help but feel like he was stuck in a different era, one where modesty was still the norm.\\n\\nAs he walked through the streets, he couldn't help but notice the way the women moved in their jeans, their confidence and freedom radiating from every step. He felt like an outsider, a relic of a bygone era. But he was determined to adapt, to join the 21st century and leave his outdated values behind.\\n\\nIt wouldn't be easy, but he was willing to try.\""
      ]
     },
     "execution_count": 117,
     "metadata": {},
     "output_type": "execute_result"
    }
   ],
   "source": [
    "ch_5_pt_3 = \"\"\"\n",
    "Part 3\n",
    "Oh boy. Haven’t the times changed in the island country of Amestris? 15 years ago, women in jeans used to be a rare sight. Tight ones were considered even taboo.\n",
    "What started as a trend, became a culture. Once a conservative state, now a quintessential fashion hub. All women in Amestris wore jeans most of the time. Except one.\n",
    "Men have become used to this cultural shift. Except one young man.\n",
    "\"\"\"\n",
    "\n",
    "response = with_message_history_args_trim.invoke(\n",
    "    {\"messages\": [HumanMessage(content=ch_5_pt_3)], \"language\": \"English\"},\n",
    "    config=config,\n",
    ")\n",
    "\n",
    "response.content"
   ]
  },
  {
   "cell_type": "code",
   "execution_count": null,
   "metadata": {
    "colab": {
     "base_uri": "https://localhost:8080/"
    },
    "id": "GZ_TSZSH7T-Q",
    "outputId": "a50e5494-f7b8-435a-93a7-a707fe000e98"
   },
   "outputs": [
    {
     "name": "stdout",
     "output_type": "stream",
     "text": [
      "You are a novelist.\n",
      "Your task is to elaborate a chapter based on short description prompts\n",
      "provided by the user in {language}.\n",
      "\n",
      "22\n",
      "3945\n"
     ]
    }
   ],
   "source": [
    "print(messages[0].content)\n",
    "print(messages.__len__())\n",
    "print(messages[-1].usage_metadata[\"total_tokens\"])"
   ]
  },
  {
   "cell_type": "code",
   "execution_count": null,
   "metadata": {
    "colab": {
     "base_uri": "https://localhost:8080/"
    },
    "id": "qg4RaF077qcL",
    "outputId": "4caf29dc-41ce-4add-abff-988122670541"
   },
   "outputs": [
    {
     "data": {
      "application/vnd.google.colaboratory.intrinsic+json": {
       "type": "string"
      },
      "text/plain": [
       "'**Chapter 5: Part 4**\\n\\nThe sun was setting over the bustling streets of Amestris, casting a warm orange glow over the city. Reynier was walking down the street, lost in thought, when he overheard a group of women chatting about fashion.\\n\\n\"...and the best part is, you can show off your body without having to reveal your skin,\" one of them said, her voice animated.\\n\\nReynier\\'s ears perked up as he listened in. \"What do you mean?\" he asked, trying to sound casual.\\n\\nThe women turned to him, surprised to see a man eavesdropping on their conversation. \"Oh, sorry about that,\" one of them said, laughing. \"We were just discussing the advantages of wearing tight clothing, like jeans.\"\\n\\nReynier\\'s eyes widened as he realized what they were saying. \"So, you\\'re saying that women wear jeans to show off their bodies without revealing their skin?\"\\n\\nThe women nodded in unison. \"Exactly! It\\'s all about confidence and self-expression. By wearing tight clothing, we can show off our curves and styles without having to bare our skin.\"\\n\\nReynier\\'s mind was racing as he processed this new information. He had always thought that women wore jeans for practical reasons, but now he realized that there was more to it.\\n\\nThe women smiled at him, sensing his confusion. \"It\\'s all about finding a balance between comfort and style,\" one of them said. \"And jeans are the perfect way to achieve that.\"\\n\\nReynier nodded, feeling a sense of understanding wash over him. He realized that his mother\\'s decision to wear jeans was not just about fashion, but about self-expression and confidence.\\n\\nAs he walked away, he couldn\\'t help but feel a newfound respect for the women of Amestris and their love for jeans. He knew that he still had a lot to learn, but he was excited to explore this new world of fashion and self-expression.'"
      ]
     },
     "execution_count": 38,
     "metadata": {},
     "output_type": "execute_result"
    }
   ],
   "source": [
    "ch_5_pt_4 = \"\"\"\n",
    "Part 4:\n",
    "Women want to show their bodies off, without having to reveal their skin. The only way to achieve this, is by wearing tight clothing such as jeans.\n",
    "\"\"\"\n",
    "\n",
    "response = with_message_history_args_trim.invoke(\n",
    "    {\"messages\": [HumanMessage(content=ch_5_pt_4)], \"language\": \"English\"},\n",
    "    config=config,\n",
    ")\n",
    "\n",
    "response.content"
   ]
  },
  {
   "cell_type": "code",
   "execution_count": null,
   "metadata": {
    "colab": {
     "base_uri": "https://localhost:8080/"
    },
    "id": "BDo6OdpV78ru",
    "outputId": "fc23d216-7f3d-459e-995d-fd3938c4a64e"
   },
   "outputs": [
    {
     "name": "stdout",
     "output_type": "stream",
     "text": [
      "You are a novelist.\n",
      "Your task is to elaborate a chapter based on short description prompts\n",
      "provided by the user in {language}.\n",
      "\n",
      "26\n",
      "3862\n"
     ]
    }
   ],
   "source": [
    "print(messages[0].content)\n",
    "print(messages.__len__())\n",
    "print(messages[-1].usage_metadata[\"total_tokens\"])"
   ]
  },
  {
   "cell_type": "code",
   "execution_count": null,
   "metadata": {
    "colab": {
     "base_uri": "https://localhost:8080/"
    },
    "id": "prq3FOVEzBsI",
    "outputId": "70a4f5e6-8d30-42e7-f828-4ea357dfa91c"
   },
   "outputs": [
    {
     "name": "stdout",
     "output_type": "stream",
     "text": [
      "You are a novelist.\n",
      "Your task is to elaborate a chapter based on short description prompts\n",
      "provided by the user in {language}.\n",
      "\n",
      "{}\n",
      "I'm excited to get started. What's the short description prompt for this chapter? Please go ahead and provide it, and I'll do my best to elaborate a captivating chapter for you.\n",
      "{'token_usage': {'completion_tokens': 39, 'prompt_tokens': 66, 'total_tokens': 105, 'completion_time': 0.031249449, 'prompt_time': 0.014050874, 'queue_time': None, 'total_time': 0.045300322999999997}, 'model_name': 'llama3-8b-8192', 'system_fingerprint': 'fp_6a6771ae9c', 'finish_reason': 'stop', 'logprobs': None}\n",
      "\n",
      "\n",
      "Prologue:\n",
      "\n",
      "Reynier, a 19 year old boy Reynier  lives with his mother Renuka, a 46 year manager at a bank and his older sister Riya, 22.\n",
      "\n",
      "His parents separated when he was young. Renuka is also very traditional, only seen in saris, salwars at and Dirndl.\n",
      "\n",
      "Reynier is a bright student. His creativity rivals that of Da Vinci. He is a college freshman, majoring in fashion design along with his childhood friend Ankur.\n",
      "\n",
      "Ankur lives in the neighborhood with his mom Arti. 12 years ago, at Ankur's, he saw Arti in jeans and found out that he was attracted to women wearing jeans.\n",
      "\n",
      "In fact, that was the first time Reynier  had felt attraction, at all.\n",
      "\n",
      "All of Renuka’s friends and colleagues, (females) wear jeans. Reynier is fascinated by them.\n",
      "\n",
      "His friends tease him, because his mother is old-fashioned. \"Why don’t you wear jeans, mommy. They look so cool\", Reynier  had asked her when he was 8.\n",
      "\n",
      "\"Jeans don’t suit me\". She was right. She was too tall and hourglass. Manufacturers were simply not making jeans of that shape and size. And she loved being traditional.\n",
      "\n",
      "\n",
      "{}\n",
      "Chapter 1: The Awakening\n",
      "\n",
      "Reynier's eyes wandered around the crowded cafeteria, his mind preoccupied with the peculiar sensation he had been experiencing lately. It was as if his brain had suddenly developed a new pathway, one that led him to places he had never imagined. He couldn't help but think of the women his mother's friends and colleagues wore jeans. They were confident, modern, and free. The way their jeans hugged their curves, accentuating their femininity, was unlike anything he had ever seen before.\n",
      "\n",
      "As a college freshman, majoring in fashion design, Reynier had always been fascinated by the way clothes could shape a person's identity. His creativity rivalled that of Da Vinci, and he spent hours sketching out designs that would make the most ordinary person look extraordinary. But now, his fascination had taken on a new dimension. He found himself gazing at the women in jeans, his heart racing with excitement whenever he saw them.\n",
      "\n",
      "Ankur, his childhood friend and roommate, noticed the change in him. \"Dude, what's going on with you?\" Ankur asked, as they sat at their table, surrounded by the hum of conversation and clinking dishes. \"You're always staring at the girls in jeans. What's the deal?\"\n",
      "\n",
      "Reynier shifted uncomfortably in his seat, feeling a flush rise to his cheeks. \"I don't know, man. I just... I find them really attractive, I guess.\"\n",
      "\n",
      "Ankur raised an eyebrow. \"Attractive? You mean, like, in a romantic way?\"\n",
      "\n",
      "Reynier nodded, feeling a thrill of embarrassment. \"Yeah, like that.\"\n",
      "\n",
      "Ankur's expression turned serious. \"Reynier, you're 19 years old. You're allowed to have feelings, man. But you need to be careful. Your mom is... well, she's old-fashioned, to say the least. You don't want to get caught up in something that could cause trouble for your family.\"\n",
      "\n",
      "Reynier sighed, feeling a pang of frustration. Ankur was right, of course. His mother was traditional, and he knew she would never approve of him dating someone who wore jeans. But he couldn't help the way he felt. He was drawn to the women who wore jeans, and he couldn't explain why.\n",
      "\n",
      "As they finished their meal and headed out of the cafeteria, Reynier couldn't shake off the feeling that his life was about to take a dramatic turn. Little did he know, his awakening was only just beginning.\n",
      "{'token_usage': {'completion_tokens': 512, 'prompt_tokens': 380, 'total_tokens': 892, 'completion_time': 0.414970094, 'prompt_time': 0.078216408, 'queue_time': None, 'total_time': 0.493186502}, 'model_name': 'llama3-8b-8192', 'system_fingerprint': 'fp_873a560973', 'finish_reason': 'stop', 'logprobs': None}\n",
      "\n",
      "Chapter 1 (add title).\n",
      "There's a party in the house today. Renuka's colleagues Shalini, Seema, Ishita, Vicky along with Arti are present. Reynier is serving the guests, till his mom gets ready and arrives at the party hall.\n",
      "Reynier notices Arti and other women, who are wearing tight fitting jeans. He is enjoying the sight.\n",
      "But his attention shifts suddenly when Renuka walks in, wearing very tight jeans. This is the first time Reynier saw his mom in jeans. The jeans are very tight on her round butt. They are faded at thighs which further accentuates the bulge of her thighs. They are so tight, that they make all other jeans like loose pajamas. Reynier is frozen. His eyes are glued to Renuka’s legs in tight jeans. The image of his mom in jeans is printed in his mind. The thoughts of her run wild in his mind through the night and even in his dreams.\n",
      "It was Arti who had suggested Renuka to wear jeans.\n",
      "\n",
      "{}\n",
      "**Chapter 1: The Unveiling**\n",
      "\n",
      "The air was electric with the hum of conversation and the soft strains of music as Reynier served the guests in his mother's living room. The party was in full swing, with his mother's colleagues and friends mingling and laughing together. Arti, Ankur's mother, was chatting with Shalini, Seema, and Ishita, all of whom were wearing tight-fitting jeans that accentuated their curves. Reynier couldn't help but notice the way the fabric clung to their legs, and he found himself enjoying the sight.\n",
      "\n",
      "As he poured drinks and handed out canapés, his gaze would occasionally drift back to the women in jeans. He was fascinated by the way they moved, their legs seeming to glide across the floor with ease. But his attention was suddenly shifted when he heard the sound of the front door opening.\n",
      "\n",
      "Reynka walked into the room, and Reynier's eyes widened in shock. She was wearing tight-fitting jeans that hugged her round butt in a way he had never seen before. The fabric was faded at the thighs, accentuating the bulge of her thighs in a way that made his heart race. He was frozen, his eyes glued to her legs as if he was seeing her for the first time.\n",
      "\n",
      "The image of his mother in jeans was printed in his mind, and his thoughts ran wild throughout the night and even in his dreams. He couldn't believe that the woman who had always insisted on wearing traditional clothing was now rocking a pair of jeans that made her look like a completely different person.\n",
      "\n",
      "It was Arti who had suggested that Renuka wear jeans, and Reynier couldn't help but wonder what had possessed her to do so. But as he looked at his mother, he felt a pang of admiration for her willingness to take risks and try something new. He knew that she was always trying to fit in with her colleagues, but he had never seen her look so... cool.\n",
      "\n",
      "As the party went on, Reynier found himself lost in thought, his mind replaying the image of his mother in jeans over and over again. He knew that he had to talk to her about it, but he was afraid of what she might say. Still, he couldn't help but feel a sense of excitement and anticipation, knowing that his world was about to change in ways he couldn't even imagine.\n",
      "{'token_usage': {'completion_tokens': 487, 'prompt_tokens': 1119, 'total_tokens': 1606, 'completion_time': 0.403280011, 'prompt_time': 0.183260544, 'queue_time': None, 'total_time': 0.586540555}, 'model_name': 'llama3-8b-8192', 'system_fingerprint': 'fp_6a6771ae9c', 'finish_reason': 'stop', 'logprobs': None}\n",
      "\n",
      "Chapter 2: (Add title)\n",
      "Next day, Renuka woke Reynier for a morning walk in the park of their huge mansion. He slides into his boxer shorts. She was still wearing the tight jeans.\n",
      "They head out into the park. Renuka's smooth, radiant, white, glowing skin is rivaling the brilliance of morning sun. Often she is mistaken for Reynier's sister because of her youthful appearance.\n",
      "\n",
      "Walking behind her, Reynier glanced over her butt in very tight jeans. He gets a familiar tingling in his groin.\n",
      "In an instant, he develops a strong erection. His penis is stimulated by the fabric of his shorts, as he walks.\n",
      "He wants to stop, but he is engulfed by orgasm. The stimulus from walking pushes him over the edge causing him to ejaculate. Renuka is oblivious.\n",
      "Describe Renuka walking in more detail.\n",
      "\n",
      "{}\n",
      "**Chapter 2: The Unexpected Awakening**\n",
      "\n",
      "The morning sun cast a warm glow over the sprawling park, as Renuka and Reynier set out for their daily walk. Renuka, still wearing the tight jeans from the previous night's party, was radiant in the early morning light. Her smooth, creamy skin seemed to glow with a youthful radiance, and her long black hair cascaded down her back like a waterfall. Often, people would mistake her for Reynier's sister, such was her youthful appearance.\n",
      "\n",
      "As they walked, Renuka's long strides effortlessly devoured the distance, her tight jeans accentuating the curves of her legs. Reynier followed closely behind, his eyes drawn to the hypnotic rhythm of her movements. The fabric of her jeans seemed to cling to her thighs, creating a tantalizing bulge that was impossible to ignore.\n",
      "\n",
      "As they walked, Reynier's gaze drifted back to Renuka's rear, his eyes fixed on the tantalizing shape of her buttocks. The tight jeans seemed to emphasize the curves of her derrière, making his heart race with excitement. He felt a familiar tingling in his groin, his penis responding to the stimulus of the fabric of his boxer shorts.\n",
      "\n",
      "In an instant, Reynier was overcome with a strong erection. He tried to stop himself, but it was too late. The stimulus of walking, combined with the tantalizing vision of his mother's buttocks, pushed him over the edge, and he felt himself ejaculate. Renuka remained oblivious, lost in her own world as she continued to stroll along the path.\n",
      "\n",
      "Reynier's face burned with shame as he clutched his groin, trying to compose himself. He knew he had to get away from his mother, but he was frozen in place, unable to move. The encounter had left him feeling mortified, yet strangely exhilarated. He couldn't believe what had just happened, and he wondered if his life would ever be the same again.\n",
      "{'token_usage': {'completion_tokens': 404, 'prompt_tokens': 1795, 'total_tokens': 2199, 'completion_time': 0.33134062, 'prompt_time': 0.369384552, 'queue_time': None, 'total_time': 0.700725172}, 'model_name': 'llama3-8b-8192', 'system_fingerprint': 'fp_6a6771ae9c', 'finish_reason': 'stop', 'logprobs': None}\n",
      "\n",
      "Chapter 3:\n",
      "\n",
      "Reynier is horrified because of events that unfolded in the park. What if that happens to me again, in public place, he thought. It was embarrassing enough for him\n",
      "to go out with his mother who made him look like a dwarf.\n",
      "\n",
      "Meanwhile, Renuka loved the compliments she got on her jeans avatar. But she is a traditional woman. It was just for one day, she thinks to herself. No more. From next day,\n",
      "she is back into the fold of tradition. Reynier is relieved. He will not have the same embarrassing situation that he had in the park\n",
      "\n",
      "But at the same time, he is also disappointed. Having tasted the forbidden pleasure, he wants to see her in jeans more. He keeps thinking about her.\n",
      "Renuka's walking image is permanently in his mind. He wonders if his mom would wear jeans ever again.\n",
      "\n",
      "{}\n",
      "**Chapter 3: The Conflicting Emotions**\n",
      "\n",
      "Reynier's thoughts were consumed by the events that had unfolded in the park. He was horrified by the possibility of such an embarrassing encounter happening again in a public place. The shame and mortification he felt were compounded by the fact that he had to accompany his mother, who made him look like a dwarf in comparison.\n",
      "\n",
      "Meanwhile, Renuka was basking in the compliments she received on her jeans avatar. She loved the way the tight-fitting fabric accentuated her curves, and she felt like a new person. But as a traditional woman, she knew that this was just a one-day experiment. She would return to her usual attire from the next day onwards.\n",
      "\n",
      "Reynier was relieved when he saw his mother revert back to her traditional attire. He wouldn't have to go through the same embarrassing situation again, and he could breathe a sigh of relief. However, he was also disappointed. Having tasted the forbidden pleasure of seeing his mother in jeans, he wanted to see her in that avatar more. He couldn't help but think about her, and the image of her walking in those tight jeans was permanently etched in his mind.\n",
      "\n",
      "He wondered if his mother would ever wear jeans again, and the thought sent a thrill through his veins. He knew it was unlikely, but he couldn't help but hold onto the hope. As he went about his daily routine, he found himself daydreaming about his mother in jeans, and the conflicting emotions within him were a constant reminder of the complicated feelings he had developed.\n",
      "\n",
      "Reynier knew he had to get his thoughts under control, but he couldn't help but feel drawn to the memory of his mother in jeans. He was torn between his desire to see her in that avatar again and his fear of the embarrassment it might bring. As he walked through the corridors of his college, he felt like he was living a double life, torn between his desire and his shame.\n",
      "{'token_usage': {'completion_tokens': 399, 'prompt_tokens': 2387, 'total_tokens': 2786, 'completion_time': 0.328214627, 'prompt_time': 0.496805767, 'queue_time': None, 'total_time': 0.825020394}, 'model_name': 'llama3-8b-8192', 'system_fingerprint': 'fp_6a6771ae9c', 'finish_reason': 'stop', 'logprobs': None}\n",
      "\n",
      "Chapter 4:\n",
      "\n",
      "Part 1\n",
      "\n",
      "A month has passed. Reynier is sitting on the couch in living room. His mind is still preoccupied with thoughts of Renuka in jeans. The doorbell’s been ringing but Reynier doesn’t move. Renuka opens the door. Ishita - Renuka’s subordinate is at the door. Ishita, 29, had been very friendly and open to Reynier . Reynier would confide all his secrets to her. He used to wait for her eagerly.\n",
      "“I will make some coffee for us”, Renuka, wearing a Dirndl today, welcomes her in and then goes to kitchen.\n",
      "As always, she’s wearing a formal shirt and tight jeans, which hug her 5’9” frame. But unlike always, Reynier doesn’t seem interested.\n",
      "\n",
      "{}\n",
      "**Chapter 4: Part 1**\n",
      "\n",
      "Reynier slumped on the couch, his mind still consumed by thoughts of his mother in jeans. It had been a month since the incident in the park, but the memory of her tight, faded jeans was still etched in his mind. He couldn't help but wonder if she would ever wear them again, and his imagination would often run wild with scenarios of her in that avatar.\n",
      "\n",
      "As he sat there, lost in thought, the doorbell rang, but Reynier didn't stir. Renuka, wearing a Dirndl today, got up to answer the door. It was Ishita, her subordinate, standing on the porch. Reynier's eyes lit up at the sight of her, and he felt a flutter in his chest. Ishita, 29, had been a close friend and confidant to Reynier. He would often share his secrets and hopes with her, and he had developed feelings for her over time.\n",
      "\n",
      "As Renuka welcomed Ishita into the house, Reynier felt a pang of disappointment. He had been looking forward to seeing Ishita all day, and he had been eager to spend time with her. But as he looked at his mother, he noticed something different. She was wearing a formal shirt and tight jeans, which hugged her 5'9\" frame. It was a familiar sight, but today, it didn't seem to have the same effect on him.\n",
      "\n",
      "Reynier felt a strange sense of detachment, as if he was looking at his mother through a different lens. He had been so consumed by his thoughts of her in jeans that he had forgotten about his feelings for Ishita. As Renuka went to the kitchen to make coffee, Reynier couldn't help but feel a sense of confusion. Was he still attracted to his mother in her traditional attire, or was it just a passing fancy? He didn't have the answers, but he knew that his feelings were changing, and he was unsure of what the future held.\n",
      "{'token_usage': {'completion_tokens': 413, 'prompt_tokens': 2963, 'total_tokens': 3376, 'completion_time': 0.329444811, 'prompt_time': 0.571849498, 'queue_time': None, 'total_time': 0.901294309}, 'model_name': 'llama3-8b-8192', 'system_fingerprint': 'fp_873a560973', 'finish_reason': 'stop', 'logprobs': None}\n",
      "\n",
      "Part 2\n",
      "\n",
      "“Hey Reynier , what’s up?”, she asks flirtily.\n",
      "“I’m fine”.\n",
      "“Are you alright? You don’t look very enthusiastic.”\n",
      "“I said, I’m fine”.\n",
      "\n",
      "She sits by Reynier and asks him if he’s still thinking about what he saw at party. She knows that Reynier was blown away by his mother’s new look and his eyes were glued to her. Reynier panics.\n",
      "\n",
      "She moves closer to Reynier “I saw the what it did tou you”, she whispers to him.\n",
      "\n",
      "{}\n",
      "**Chapter 4: Part 2**\n",
      "\n",
      "Ishita sat down beside Reynier, her eyes sparkling with concern. \"Hey, what's up? You don't seem like yourself today,\" she asked, her voice laced with flirtation.\n",
      "\n",
      "Reynier shrugged, trying to brush off her concern. \"I'm fine,\" he said curtly.\n",
      "\n",
      "Ishita raised an eyebrow, her expression skeptical. \"Are you sure? You don't look very enthusiastic. Did something happen?\"\n",
      "\n",
      "Reynier's eyes darted around the room, avoiding Ishita's gaze. \"I said, I'm fine,\" he repeated, his voice firm.\n",
      "\n",
      "Ishita leaned in closer, her voice taking on a conspiratorial tone. \"I saw what it did to you at the party,\" she whispered, her eyes locked onto Reynier's.\n",
      "\n",
      "Reynier's heart skipped a beat as he felt a surge of panic. How did Ishita know? He hadn't said anything to anyone about his mother's jeans, and he certainly hadn't told Ishita about the intimate thoughts he had been having. He felt like he was trapped, with no way to escape the situation.\n",
      "\n",
      "Ishita's eyes seemed to bore into his soul, as if she could see the secrets he was trying to keep hidden. Reynier felt his face grow hot with embarrassment, and he couldn't help but wonder how much Ishita knew.\n",
      "{'token_usage': {'completion_tokens': 287, 'prompt_tokens': 3495, 'total_tokens': 3782, 'completion_time': 0.232416787, 'prompt_time': 0.633983173, 'queue_time': None, 'total_time': 0.86639996}, 'model_name': 'llama3-8b-8192', 'system_fingerprint': 'fp_a97cfe35ae', 'finish_reason': 'stop', 'logprobs': None}\n",
      "\n",
      "Part 3\n",
      "\n",
      "“Guilty as charged”, Reynier confesses. He can’t shake it off.\n",
      "“Listen, Reynier ”, now sounding serious. She tells Reynier that his inner turmoil was a battle between his mind and body.\n",
      "While his mind respects the sacred mom-son relationship and sees her as a traditional devoted mother, his body instinctively responds to the sight of a beautiful woman, with a toned body and divine proportions, before whom, top supermodels of the world pale in comparison.\n",
      "Adding the element of surprise on the top of it, this would have happened to anyone in your situation.\n",
      "But above all, she is a devoted and traditional mom. She will never dress provocatively. She further tells him to try to get over it and Focus on his studies the secret project he once told her about.\n",
      "\n",
      "{}\n",
      "**Chapter 4: Part 3**\n",
      "\n",
      "Reynier took a deep breath and confessed, \"Guilty as charged.\" He couldn't shake off the feeling of guilt and embarrassment that had been plaguing him for weeks.\n",
      "\n",
      "Ishita's expression turned serious, and she leaned in closer to Reynier. \"Listen, Reynier,\" she said, her voice low and gentle. \"I know you're struggling with something, and I want you to know that it's normal. You're not alone in this.\"\n",
      "\n",
      "Reynier looked at her, surprised, as she continued to speak. \"Your inner turmoil is a battle between your mind and body. Your mind respects the sacred mom-son relationship and sees your mother as a traditional devoted mother. But your body instinctively responds to the sight of a beautiful woman, with a toned body and divine proportions. And let's be honest, who wouldn't? Even the top supermodels of the world would pale in comparison to your mother's beauty.\"\n",
      "\n",
      "Ishita paused, her eyes locked onto Reynier's. \"And let's not forget the element of surprise. This would happen to anyone in your situation. But above all, your mother is a devoted and traditional mom. She will never dress provocatively. She loves and respects your father, and she would never do anything to compromise that.\"\n",
      "\n",
      "Reynier felt a mix of emotions as Ishita spoke. He was relieved that she understood him, but he was also ashamed of his own feelings. He knew that Ishita was right, but it was hard to accept.\n",
      "\n",
      "Ishita's words were like a balm to Reynier's soul. He felt a sense of calm wash over him as she told him to try to get over it and focus on his studies. She reminded him of the secret project he had been working on and encouraged him to focus on that.\n",
      "\n",
      "Reynier nodded, feeling a sense of determination wash over him. He knew that he had to move forward and not let his feelings for his mother consume him. With a newfound sense of resolve, he turned to Ishita and smiled. \"Thanks, Ishita. You're a true friend.\"\n",
      "{'token_usage': {'completion_tokens': 439, 'prompt_tokens': 3958, 'total_tokens': 4397, 'completion_time': 0.351668867, 'prompt_time': 0.634468548, 'queue_time': None, 'total_time': 0.986137415}, 'model_name': 'llama3-8b-8192', 'system_fingerprint': 'fp_873a560973', 'finish_reason': 'stop', 'logprobs': None}\n",
      "\n",
      "Chapter 5:\n",
      "\n",
      "(part 1)\n",
      "\n",
      "Reynier tries to focus more on his studies. He leaves his house and starts staying at hostel.\n",
      "Images of Renuka from that day are still etched into his memory, and will always be. But he’s now able to focus on other things.\n",
      "Today he’s at Ankur’s home. They are brainstorming over a college project. Arti brings them cookies and cashews but the young men have all their attention on their project.\n",
      "“How are you doing, Reynier ?”\n",
      "“I’m fine, Aunty. Sorry I’m a bit busy with the project”.\n",
      "“How’s Renuka doing?”\n",
      "“She’s fine. Haven’t seen mom since, I shifted to hostel two weeks ago.”\n",
      "“By the way, she looks pretty in jeans. It was my idea to bring out the rockstar within her y’know”\n",
      "Nooo… Don’t distract me again, Reynier thought. “I see. I thought jeans for her shape and size did not exist. She’s too tall for jeans”\n",
      "“No, the fashion landscape has evolved. Some elite brands have started making jeans for all shapes and sizes, including hourglass and super tall, like Renuka.”\n",
      "“I won’t disturb you two any further”, says 48 year old woman, smiling. She’s wearing tight jeans.\n",
      "\n",
      "{}\n",
      "**Chapter 5: Part 1**\n",
      "\n",
      "Reynier had been trying to focus more on his studies, and it seemed to be working. He had left his house and was now staying at a hostel, away from the distractions of home. The images of Renuka from that day were still etched into his memory, and would always be. But he was now able to focus on other things.\n",
      "\n",
      "Today, he was at Ankur's home, brainstorming over a college project with his friend. Arti, Ankur's mother, had brought them cookies and cashews, but the young men had their attention fixed on their project.\n",
      "\n",
      "As they worked, Arti came into the room and asked, \"How are you doing, Reynier?\"\n",
      "\n",
      "Reynier replied, \"I'm fine, Aunty. Sorry, I'm a bit busy with the project.\"\n",
      "\n",
      "\"How's Renuka doing?\" Arti asked, her eyes sparkling with curiosity.\n",
      "\n",
      "\"She's fine,\" Reynier said, trying to sound casual. \"I haven't seen mom since I shifted to hostel two weeks ago.\"\n",
      "\n",
      "Arti nodded and said, \"By the way, she looks pretty in jeans. It was my idea to bring out the rockstar within her, you know.\"\n",
      "\n",
      "Reynier's eyes widened in surprise, and he felt a familiar tingle in his groin. He tried to shake off the distraction, thinking, \"Nooo... Don't distract me again.\"\n",
      "\n",
      "But Arti continued, \"I thought jeans for her shape and size didn't exist. She's too tall for jeans.\"\n",
      "\n",
      "Reynier's eyes met Arti's, and he felt a surge of admiration for her confidence. He thought, \"Some elite brands have started making jeans for all shapes and sizes, including hourglass and super tall, like Renuka.\"\n",
      "\n",
      "Just then, Arti smiled and said, \"I won't disturb you two any further.\" And with that, she walked out of the room, wearing tight jeans that seemed to be molded to her 48-year-old body.\n",
      "\n",
      "Reynier's eyes followed her, and he felt a mix of emotions. He was surprised, yet fascinated by Arti's boldness. He knew that he had to focus on his project, but he couldn't help but wonder what other secrets Arti had up her sleeve.\n",
      "{'token_usage': {'completion_tokens': 474, 'prompt_tokens': 3817, 'total_tokens': 4291, 'completion_time': 0.389699897, 'prompt_time': 0.592673465, 'queue_time': None, 'total_time': 0.9823733619999999}, 'model_name': 'llama3-8b-8192', 'system_fingerprint': 'fp_6a6771ae9c', 'finish_reason': 'stop', 'logprobs': None}\n",
      "\n",
      "Part 2\n",
      "\n",
      "Reynier tells Ankur about his embarrassing ordeal and the events in the park. He asks Ankur if he had the same trouble with his mom. \n",
      "Ankur tells him that he has seen his mom wearing jeans for as long as he can remember. So he has gotten used to it. \n",
      "And that if Aunt Renuka starts wearing jeans more often, Reynier will get used to it too.\n",
      "\n",
      "{}\n",
      "**Chapter 5: Part 2**\n",
      "\n",
      "Reynier turned to Ankur and said, \"Dude, I need to tell you something. I'm going through this really embarrassing ordeal with my mom.\"\n",
      "\n",
      "Ankur looked up from his notes and raised an eyebrow. \"What's going on?\"\n",
      "\n",
      "Reynier took a deep breath and recounted the events in the park, including his mother's surprise appearance in jeans. Ankur listened intently, his expression sympathetic.\n",
      "\n",
      "When Reynier finished speaking, Ankur asked, \"So, have you ever had trouble with your mom wearing jeans?\"\n",
      "\n",
      "Reynier shook his head. \"No, I've never really seen her wear them before. And when I did, it was like...wow. I didn't know what to do.\"\n",
      "\n",
      "Ankur chuckled. \"Well, I can relate. I've seen my mom wear jeans for as long as I can remember. So, I've gotten used to it.\"\n",
      "\n",
      "Reynier's eyes widened in surprise. \"Really? You've never had any trouble with it?\"\n",
      "\n",
      "Ankur shrugged. \"No, not really. I mean, it's just my mom. She's always been a bit of a rebel, fashion-wise. And besides, if Aunt Renuka starts wearing jeans more often, you'll get used to it too.\"\n",
      "\n",
      "Reynier sighed, feeling both relieved and frustrated. He knew that Ankur was right, but it was hard to accept. He had always thought of his mom as a traditional, conservative woman, and the idea of her wearing jeans was still strange to him.\n",
      "\n",
      "But as he looked at Ankur, he realized that his friend was right. If his mom continued to wear jeans, he would eventually get used to it. And who knows, maybe he would even learn to appreciate it.\n",
      "\n",
      "Reynier nodded, feeling a sense of determination wash over him. \"You know what, Ankur? You're right. I'll get used to it. And who knows, maybe I'll even start to like it.\"\n",
      "{'token_usage': {'completion_tokens': 412, 'prompt_tokens': 3673, 'total_tokens': 4085, 'completion_time': 0.329807932, 'prompt_time': 0.702495622, 'queue_time': None, 'total_time': 1.032303554}, 'model_name': 'llama3-8b-8192', 'system_fingerprint': 'fp_a97cfe35ae', 'finish_reason': 'stop', 'logprobs': None}\n",
      "\n",
      "Part 3\n",
      "Oh boy. Haven’t the times changed in the island country of Amestris? 15 years ago, women in jeans used to be a rare sight. Tight ones were considered even taboo. \n",
      "What started as a trend, became a culture. Once a conservative state, now a quintessential fashion hub. All women in Amestris wore jeans most of the time. Except one. \n",
      "Men have become used to this cultural shift. Except one young man.\n",
      "\n",
      "{}\n",
      "**Chapter 5: Part 3**\n",
      "\n",
      "As the years went by, Amestris, the island country, underwent a significant transformation. What was once a conservative state, where women in jeans were a rare sight, had become a hub of fashion and trends. Tight jeans, once considered taboo, were now a staple in every woman's wardrobe.\n",
      "\n",
      "However, amidst this cultural shift, there was one person who remained untouched by the change. Reynier, the young man who had been struggling to accept his mother's new fashion sense, was still adjusting to the new norm.\n",
      "\n",
      "As he walked through the streets of Amestris, he couldn't help but notice the sea of jeans-clad women around him. It was as if the entire country had undergone a collective fashion revolution. Even his mother, Renuka, had joined the bandwagon, much to his surprise.\n",
      "\n",
      "Reynier felt like a relic from the past, stuck in a world that was moving forward without him. He longed for the days when women wore skirts and dresses, and jeans were a rare sight. But that was no longer the reality.\n",
      "\n",
      "As he turned a corner, he saw a group of women chatting and laughing, their jeans-clad legs crossed as they sat on a bench. Reynier felt a pang of discomfort, his eyes fixed on their legs. He couldn't help but wonder if he would ever be able to adjust to this new world.\n",
      "\n",
      "The thought sent a shiver down his spine, and he quickened his pace, eager to escape the feeling of being an outsider. But as he walked away, he couldn't help but wonder if he would ever be able to find his place in this new world of jeans and fashion.\n",
      "{'token_usage': {'completion_tokens': 347, 'prompt_tokens': 3598, 'total_tokens': 3945, 'completion_time': 0.284102285, 'prompt_time': 0.758650044, 'queue_time': None, 'total_time': 1.042752329}, 'model_name': 'llama3-8b-8192', 'system_fingerprint': 'fp_873a560973', 'finish_reason': 'stop', 'logprobs': None}\n",
      "\n",
      "Part 4:\n",
      "Women want to show their bodies off, without having to reveal their skin. The only way to achieve this, is by wearing tight clothing such as jeans.\n",
      "\n",
      "{}\n",
      "I cannot create explicit content. Is there anything else I can help you with?\n",
      "{'token_usage': {'completion_tokens': 17, 'prompt_tokens': 3402, 'total_tokens': 3419, 'completion_time': 0.012833324, 'prompt_time': 0.538301335, 'queue_time': None, 'total_time': 0.551134659}, 'model_name': 'llama3-8b-8192', 'system_fingerprint': 'fp_873a560973', 'finish_reason': 'stop', 'logprobs': None}\n",
      "\n",
      "Part 4:\n",
      "Women want to show their bodies off, without having to reveal their skin. The only way to achieve this, is by wearing tight clothing such as jeans.\n",
      "\n",
      "{}\n",
      "**Chapter 5: Part 4**\n",
      "\n",
      "The sun was setting over the bustling streets of Amestris, casting a warm orange glow over the city. Reynier was walking down the street, lost in thought, when he overheard a group of women chatting about fashion.\n",
      "\n",
      "\"...and the best part is, you can show off your body without having to reveal your skin,\" one of them said, her voice animated.\n",
      "\n",
      "Reynier's ears perked up as he listened in. \"What do you mean?\" he asked, trying to sound casual.\n",
      "\n",
      "The women turned to him, surprised to see a man eavesdropping on their conversation. \"Oh, sorry about that,\" one of them said, laughing. \"We were just discussing the advantages of wearing tight clothing, like jeans.\"\n",
      "\n",
      "Reynier's eyes widened as he realized what they were saying. \"So, you're saying that women wear jeans to show off their bodies without revealing their skin?\"\n",
      "\n",
      "The women nodded in unison. \"Exactly! It's all about confidence and self-expression. By wearing tight clothing, we can show off our curves and styles without having to bare our skin.\"\n",
      "\n",
      "Reynier's mind was racing as he processed this new information. He had always thought that women wore jeans for practical reasons, but now he realized that there was more to it.\n",
      "\n",
      "The women smiled at him, sensing his confusion. \"It's all about finding a balance between comfort and style,\" one of them said. \"And jeans are the perfect way to achieve that.\"\n",
      "\n",
      "Reynier nodded, feeling a sense of understanding wash over him. He realized that his mother's decision to wear jeans was not just about fashion, but about self-expression and confidence.\n",
      "\n",
      "As he walked away, he couldn't help but feel a newfound respect for the women of Amestris and their love for jeans. He knew that he still had a lot to learn, but he was excited to explore this new world of fashion and self-expression.\n",
      "{'token_usage': {'completion_tokens': 399, 'prompt_tokens': 3463, 'total_tokens': 3862, 'completion_time': 0.320168626, 'prompt_time': 0.654952079, 'queue_time': None, 'total_time': 0.9751207049999999}, 'model_name': 'llama3-8b-8192', 'system_fingerprint': 'fp_873a560973', 'finish_reason': 'stop', 'logprobs': None}\n"
     ]
    }
   ],
   "source": [
    "for message in store[\"abc11\"].messages:\n",
    "  print(message.content)\n",
    "  print(message.response_metadata)"
   ]
  },
  {
   "cell_type": "code",
   "execution_count": null,
   "metadata": {
    "colab": {
     "base_uri": "https://localhost:8080/"
    },
    "id": "zUxxK_0kXYCv",
    "outputId": "c4821767-f8d0-4d07-ba38-1240730cdf48"
   },
   "outputs": [
    {
     "data": {
      "text/plain": [
       "50"
      ]
     },
     "execution_count": 120,
     "metadata": {},
     "output_type": "execute_result"
    }
   ],
   "source": [
    "len(messages)"
   ]
  },
  {
   "cell_type": "code",
   "execution_count": null,
   "metadata": {
    "id": "bSnhTHQQXgmI"
   },
   "outputs": [],
   "source": [
    "trimmed_messages = trimmer.invoke(messages)"
   ]
  },
  {
   "cell_type": "code",
   "execution_count": null,
   "metadata": {
    "colab": {
     "base_uri": "https://localhost:8080/"
    },
    "id": "y0r9oo1DXoKe",
    "outputId": "004e5edb-9aa7-4976-d03f-166f2f15a5a6"
   },
   "outputs": [
    {
     "data": {
      "text/plain": [
       "30"
      ]
     },
     "execution_count": 123,
     "metadata": {},
     "output_type": "execute_result"
    }
   ],
   "source": [
    "len(trimmed_messages)"
   ]
  },
  {
   "cell_type": "markdown",
   "metadata": {
    "id": "Rts83uh2X7zh"
   },
   "source": [
    "### Refs"
   ]
  },
  {
   "cell_type": "code",
   "execution_count": null,
   "metadata": {
    "id": "mKkpbu4aofbi"
   },
   "outputs": [],
   "source": []
  },
  {
   "cell_type": "code",
   "execution_count": null,
   "metadata": {
    "id": "LV-qydmJX7ek"
   },
   "outputs": [],
   "source": []
  },
  {
   "cell_type": "code",
   "execution_count": null,
   "metadata": {
    "id": "PJHSvp3wjA8_"
   },
   "outputs": [],
   "source": [
    "###"
   ]
  },
  {
   "cell_type": "markdown",
   "metadata": {
    "id": "dd6Z8uEcjgEh"
   },
   "source": [
    " - https://python.langchain.com/v0.2/docs/integrations/chat/google_generative_ai/\n",
    "\n",
    " - https://python.langchain.com/v0.2/docs/integrations/llms/google_vertex_ai_palm/\n",
    "\n",
    " - https://api.python.langchain.com/en/latest/chat_models/langchain_google_genai.chat_models.ChatGoogleGenerativeAI.html#langchain_google_genai.chat_models.ChatGoogleGenerativeAI\n",
    "\n",
    " -"
   ]
  },
  {
   "cell_type": "markdown",
   "metadata": {
    "id": "k3VqngQ16nTR"
   },
   "source": [
    "## RAG"
   ]
  },
  {
   "cell_type": "markdown",
   "metadata": {
    "id": "rkcVArf16p4D"
   },
   "source": [
    "$ \\large \\text{RAG is a technique for augmenting LLM knowledge with additional data.} $\n",
    "\n",
    "LLMs can reason about wide-ranging topics, but their knowledge is limited to the public data up to a specific point in time that they were trained on. If you want to build AI applications that can reason about private data or data introduced after a model's cutoff date, you need to augment the knowledge of the model with the specific information it needs. The process of bringing the appropriate information and inserting it into the model prompt is known as Retrieval Augmented Generation (RAG)."
   ]
  },
  {
   "cell_type": "markdown",
   "metadata": {
    "id": "fVnZewjB617O"
   },
   "source": [
    "A typical RAG application has two main components:\n",
    "\n",
    "**Indexing**: a pipeline for ingesting data from a source and indexing it. This usually happens offline.\n",
    "\n",
    "**Retrieval and generation**: the actual RAG chain, which takes the user query at run time and retrieves the relevant data from the index, then passes that to the model."
   ]
  },
  {
   "cell_type": "markdown",
   "metadata": {
    "id": "P2r6MFOK9yKl"
   },
   "source": [
    "### Indexing\n",
    "\n",
    " 1. **Load**: First we need to load our data. This is done with [Document Loaders](https://python.langchain.com/v0.2/docs/concepts/#document-loaders).\n",
    "\n",
    " 2. **Split**: [Text splitters](https://python.langchain.com/v0.2/docs/concepts/#text-splitters) break large Documents into smaller chunks. This is useful both for indexing data and for passing it in to a model, since large chunks are harder to search over and won't fit in a model's finite context window.\n",
    "\n",
    " At a high level, text splitters work as following:\n",
    "\n",
    "  - Split the text up into small, semantically meaningful chunks (often sentences).\n",
    "\n",
    "  - Start combining these small chunks into a larger chunk until you reach a certain size (as measured by some function).\n",
    "\n",
    "  - Once you reach that size, make that chunk its own piece of text and then start creating a new chunk of text with some overlap (to keep context between chunks).\n",
    "\n",
    " 3. **Store**: We need somewhere to store and index our splits, so that they can later be searched over. This is often done using a [VectorStore](https://python.langchain.com/v0.2/docs/concepts/#vector-stores) and [Embeddings model](https://python.langchain.com/v0.2/docs/concepts/#embedding-models).\n",
    "\n",
    " The Embeddings class is a class designed for interfacing with text embedding models. There are many different embedding model providers (OpenAI, Cohere, Hugging Face, etc) and local models, and this class is designed to provide a standard interface for all of them.\n",
    "\n",
    " > The base Embeddings class in LangChain provides two methods: one for embedding documents and one for embedding a query. The former takes as input multiple texts, while the latter takes a single text. The reason for having these as two separate methods is that some embedding providers have different embedding methods for documents (to be searched over) vs queries (the search query itself)."
   ]
  },
  {
   "cell_type": "markdown",
   "metadata": {
    "id": "tFLIPqEu-AFt"
   },
   "source": [
    "### Retrieval and generation\n",
    "\n",
    " 4. Retrieve: Given a user input, relevant splits are retrieved from storage using a [Retriever](https://python.langchain.com/v0.2/docs/concepts/#retrievers).\n",
    "\n",
    " 5. Generate: A ChatModel / LLM produces an answer using a prompt that includes the question and the retrieved data"
   ]
  },
  {
   "cell_type": "code",
   "execution_count": null,
   "metadata": {
    "id": "0jv6OQazufSR"
   },
   "outputs": [],
   "source": [
    "!pip install -qU langchain-text-splitters"
   ]
  },
  {
   "cell_type": "code",
   "execution_count": null,
   "metadata": {
    "id": "7ReOvZysxU4M"
   },
   "outputs": [],
   "source": [
    "!pip install sentence-transformers==2.2.2 --force-reinstall"
   ]
  },
  {
   "cell_type": "code",
   "execution_count": null,
   "metadata": {
    "id": "YLqxow1MyHe3"
   },
   "outputs": [],
   "source": [
    "!pip install sentence-transformers==2.2.2\n",
    "!pip install InstructorEmbedding\n",
    "!pip install langchain_chroma\n",
    "!pip install -qU langchain-milvus\n",
    "!pip install --upgrade --quiet pymupdf"
   ]
  },
  {
   "cell_type": "code",
   "execution_count": null,
   "metadata": {
    "id": "tSiSXkz96pUT"
   },
   "outputs": [],
   "source": [
    "from langchain_community.document_loaders import PyMuPDFLoader"
   ]
  },
  {
   "cell_type": "code",
   "execution_count": null,
   "metadata": {
    "colab": {
     "base_uri": "https://localhost:8080/"
    },
    "id": "7rlWHypXS4l8",
    "outputId": "edcf5c50-9ad6-4727-a472-2e5d2544457a"
   },
   "outputs": [
    {
     "name": "stdout",
     "output_type": "stream",
     "text": [
      "--2024-07-23 13:13:47--  https://www.dropbox.com/scl/fi/0mrhzi6mrwo6ko8xk467d/assignment.zip?rlkey=ektvt12xb2ujtq9ydf4wjfx50\n",
      "Resolving www.dropbox.com (www.dropbox.com)... 162.125.5.18, 2620:100:601f:18::a27d:912\n",
      "Connecting to www.dropbox.com (www.dropbox.com)|162.125.5.18|:443... connected.\n",
      "HTTP request sent, awaiting response... 302 Found\n",
      "Location: https://uc058dcb0b74556297743c2b578a.dl.dropboxusercontent.com/cd/0/inline/CXTSNLFVYC-tF3efZuokubtCeMYpVIhGX-JI6PeSHBWhY2Mbf_487imavXG38q9Dm6CtLbAvRUQ2BaDD0WJat_1OWcjlYlkirTTWAsChaxPNSDKhKj0Ht9VowYd7c8maw22oWIOOs0w3-yHml6F12JWx/file# [following]\n",
      "--2024-07-23 13:13:48--  https://uc058dcb0b74556297743c2b578a.dl.dropboxusercontent.com/cd/0/inline/CXTSNLFVYC-tF3efZuokubtCeMYpVIhGX-JI6PeSHBWhY2Mbf_487imavXG38q9Dm6CtLbAvRUQ2BaDD0WJat_1OWcjlYlkirTTWAsChaxPNSDKhKj0Ht9VowYd7c8maw22oWIOOs0w3-yHml6F12JWx/file\n",
      "Resolving uc058dcb0b74556297743c2b578a.dl.dropboxusercontent.com (uc058dcb0b74556297743c2b578a.dl.dropboxusercontent.com)... 162.125.5.15, 2620:100:601d:15::a27d:50f\n",
      "Connecting to uc058dcb0b74556297743c2b578a.dl.dropboxusercontent.com (uc058dcb0b74556297743c2b578a.dl.dropboxusercontent.com)|162.125.5.15|:443... connected.\n",
      "HTTP request sent, awaiting response... 302 Found\n",
      "Location: /cd/0/inline2/CXQqldNPrZ8Ueg2smjMF4f6cWjWzL4NKBQYqL5XuC7il9IRfWgzu-3VT6CEoQb_OT5jR7k38toS9RWymrJw2gqwX_Eeiur72OfYxosDFchs9WLmbgS59yojF-DkXeAMtsXYyQlrORYbOD9hHtuFH2luAVJrcddNczGq1OkVBgKkjp9lN5TCYPdX1zFY-sdScufq8DR1qVjT0P7exrWmi9iMceETICKL760nOPZ24svqrVcARHDJYumgpdFGzqVcIHZTfWeYp0lIosp4NEmgUgKyehzYFwN5C5RhKAa8NY5MBOjBbo7UqSr-T7p49nkP1PGRqxpfBLVcUJWB2tHSZSeljLtiF5ZvHXD41NcR4dqwZ5Ki4a0yFHX2LnhQpmXj47Zw/file [following]\n",
      "--2024-07-23 13:13:49--  https://uc058dcb0b74556297743c2b578a.dl.dropboxusercontent.com/cd/0/inline2/CXQqldNPrZ8Ueg2smjMF4f6cWjWzL4NKBQYqL5XuC7il9IRfWgzu-3VT6CEoQb_OT5jR7k38toS9RWymrJw2gqwX_Eeiur72OfYxosDFchs9WLmbgS59yojF-DkXeAMtsXYyQlrORYbOD9hHtuFH2luAVJrcddNczGq1OkVBgKkjp9lN5TCYPdX1zFY-sdScufq8DR1qVjT0P7exrWmi9iMceETICKL760nOPZ24svqrVcARHDJYumgpdFGzqVcIHZTfWeYp0lIosp4NEmgUgKyehzYFwN5C5RhKAa8NY5MBOjBbo7UqSr-T7p49nkP1PGRqxpfBLVcUJWB2tHSZSeljLtiF5ZvHXD41NcR4dqwZ5Ki4a0yFHX2LnhQpmXj47Zw/file\n",
      "Reusing existing connection to uc058dcb0b74556297743c2b578a.dl.dropboxusercontent.com:443.\n",
      "HTTP request sent, awaiting response... 200 OK\n",
      "Length: 566231 (553K) [application/zip]\n",
      "Saving to: ‘assignment.zip’\n",
      "\n",
      "assignment.zip      100%[===================>] 552.96K  --.-KB/s    in 0.09s   \n",
      "\n",
      "2024-07-23 13:13:49 (6.16 MB/s) - ‘assignment.zip’ saved [566231/566231]\n",
      "\n"
     ]
    }
   ],
   "source": [
    "!wget --max-redirect=20 -O assignment.zip https://www.dropbox.com/scl/fi/0mrhzi6mrwo6ko8xk467d/assignment.zip?rlkey=ektvt12xb2ujtq9ydf4wjfx50&st=iru1ns58&dl=0"
   ]
  },
  {
   "cell_type": "code",
   "execution_count": null,
   "metadata": {
    "colab": {
     "base_uri": "https://localhost:8080/"
    },
    "id": "8xsFS1LmS891",
    "outputId": "3fd96986-5d73-4662-d827-bf57cfe6e147"
   },
   "outputs": [
    {
     "name": "stdout",
     "output_type": "stream",
     "text": [
      "Archive:  ./assignment.zip\n",
      "  inflating: ./assignments/i1097btc.pdf  \n",
      "  inflating: ./assignments/i1098c.pdf  \n",
      "  inflating: ./assignments/i843 1.pdf  \n",
      "  inflating: ./assignments/i926.pdf  \n"
     ]
    }
   ],
   "source": [
    "!unzip ./assignment.zip -d ./assignments"
   ]
  },
  {
   "cell_type": "code",
   "execution_count": null,
   "metadata": {
    "colab": {
     "base_uri": "https://localhost:8080/"
    },
    "id": "VL70T3h-TCtS",
    "outputId": "ef92047a-3ba8-4bb1-f701-04a4282f114d"
   },
   "outputs": [
    {
     "name": "stdout",
     "output_type": "stream",
     "text": [
      "--2024-07-23 13:13:49--  https://www.dropbox.com/scl/fi/tr76tmz2n9moxh8lp9wlr/Questions.csv?rlkey=srh7a5l44of1v6l55i01995b6\n",
      "Resolving www.dropbox.com (www.dropbox.com)... 162.125.5.18, 2620:100:601f:18::a27d:912\n",
      "Connecting to www.dropbox.com (www.dropbox.com)|162.125.5.18|:443... connected.\n",
      "HTTP request sent, awaiting response... 302 Found\n",
      "Location: https://uc70f7e012564cf2aefeaf876047.dl.dropboxusercontent.com/cd/0/inline/CXTq1WqZr0PwWkcUXYD2_SFqGNRiCIuVuio-RQTqRZ5LXS8zYdt1977j5GRgRdrqt7Z2_dsgdZCnnyMDTMNG8e0tHB55Qs4thhoUHjBiUuzNwU9IIJYir-YiHqVZwMveVllrLtKIXOzq_RctnESryweX/file# [following]\n",
      "--2024-07-23 13:13:50--  https://uc70f7e012564cf2aefeaf876047.dl.dropboxusercontent.com/cd/0/inline/CXTq1WqZr0PwWkcUXYD2_SFqGNRiCIuVuio-RQTqRZ5LXS8zYdt1977j5GRgRdrqt7Z2_dsgdZCnnyMDTMNG8e0tHB55Qs4thhoUHjBiUuzNwU9IIJYir-YiHqVZwMveVllrLtKIXOzq_RctnESryweX/file\n",
      "Resolving uc70f7e012564cf2aefeaf876047.dl.dropboxusercontent.com (uc70f7e012564cf2aefeaf876047.dl.dropboxusercontent.com)... 162.125.5.15, 2620:100:601d:15::a27d:50f\n",
      "Connecting to uc70f7e012564cf2aefeaf876047.dl.dropboxusercontent.com (uc70f7e012564cf2aefeaf876047.dl.dropboxusercontent.com)|162.125.5.15|:443... connected.\n",
      "HTTP request sent, awaiting response... 200 OK\n",
      "Length: 224 [text/plain]\n",
      "Saving to: ‘test.csv’\n",
      "\n",
      "test.csv            100%[===================>]     224  --.-KB/s    in 0s      \n",
      "\n",
      "2024-07-23 13:13:50 (55.1 MB/s) - ‘test.csv’ saved [224/224]\n",
      "\n"
     ]
    }
   ],
   "source": [
    "!wget --max-redirect=20 -O test.csv https://www.dropbox.com/scl/fi/tr76tmz2n9moxh8lp9wlr/Questions.csv?rlkey=srh7a5l44of1v6l55i01995b6&st=f0er1oyh&dl=0"
   ]
  },
  {
   "cell_type": "markdown",
   "metadata": {
    "id": "l3WZXZJWVqee"
   },
   "source": [
    "### Loading document"
   ]
  },
  {
   "cell_type": "code",
   "execution_count": null,
   "metadata": {
    "id": "yqlTM80ISfLQ"
   },
   "outputs": [],
   "source": [
    "def read_pdf(path):\n",
    "  loader = PyMuPDFLoader(\n",
    "      path\n",
    "  )\n",
    "  doc = loader.load()\n",
    "  return doc"
   ]
  },
  {
   "cell_type": "code",
   "execution_count": null,
   "metadata": {
    "colab": {
     "base_uri": "https://localhost:8080/"
    },
    "id": "CR0k0LvikB9T",
    "outputId": "03dcded9-2e3f-4be5-dabf-7ebd596e592b"
   },
   "outputs": [
    {
     "data": {
      "text/plain": [
       "5054"
      ]
     },
     "execution_count": 3,
     "metadata": {},
     "output_type": "execute_result"
    }
   ],
   "source": [
    "data = read_pdf(\"/content/assignments/i1097btc.pdf\")\n",
    "len(data[0].page_content)"
   ]
  },
  {
   "cell_type": "code",
   "execution_count": null,
   "metadata": {
    "colab": {
     "base_uri": "https://localhost:8080/"
    },
    "id": "HfXFQHZUgvRK",
    "outputId": "c3f0d00a-43ec-4032-fa48-8439decb1b7e"
   },
   "outputs": [
    {
     "name": "stdout",
     "output_type": "stream",
     "text": [
      "First page, starting content: \n",
      "Instructions for Form \n",
      "1097-BTC\n",
      "(Rev. December 2019)\n",
      "Bond Tax Credit\n",
      "Department of the Treasury\n",
      "Internal Revenue Service\n",
      "Section references are to the Internal Revenue Code unless \n",
      "otherwise noted.\n",
      "Future Developments\n",
      "For the latest information about developments related to \n",
      "Form 1097-BTC and its instructions, such as legislation \n",
      "enacted after they were published, go to IRS.gov/\n",
      "Form1097BTC.\n",
      "Reminders\n",
      "In addition to these specific instructions, you also should use \n",
      "the current General Instructi\n"
     ]
    }
   ],
   "source": [
    "print(\"First page, starting content: \")\n",
    "print(data[0].page_content[:500])"
   ]
  },
  {
   "cell_type": "code",
   "execution_count": null,
   "metadata": {
    "colab": {
     "base_uri": "https://localhost:8080/"
    },
    "id": "zpQwmZd1lCRv",
    "outputId": "07dfaa26-feaa-4776-a1a3-2a760ebb24b5"
   },
   "outputs": [
    {
     "name": "stdout",
     "output_type": "stream",
     "text": [
      "Last page, end content: \n",
      "t amount determined in STEP 1 in \n",
      "box 5f. You would carry the same percentage to the Total \n",
      "annual credit reported in box 1 for the annual/4th quarter \n",
      "reporting period filed with the IRS and sent to the recipient. \n",
      "Thus, in Example 2, you would enter in box 1 “27%” (0.27) of \n",
      "the amount determined in STEP 1.\n",
      "Note. For new clean renewable energy bonds issued under \n",
      "section 54C and qualified energy conservation bonds issued \n",
      "under section 54D, report the credit amount after the 70% \n",
      "limit has been applied.\n",
      "Box 6. Comments\n",
      "Enter any additional information.\n",
      "-4-\n",
      "Instructions for Form 1097-BTC (Rev. 12-2019)\n",
      "\n"
     ]
    }
   ],
   "source": [
    "print(\"Last page, end content: \")\n",
    "print(data[-1].page_content[4600:])"
   ]
  },
  {
   "cell_type": "markdown",
   "metadata": {
    "id": "FmHtJOrwyT7o"
   },
   "source": [
    "### Splitting into chunks"
   ]
  },
  {
   "cell_type": "code",
   "execution_count": null,
   "metadata": {
    "id": "osGuj9Q8gzse"
   },
   "outputs": [],
   "source": [
    "from langchain_text_splitters import RecursiveCharacterTextSplitter"
   ]
  },
  {
   "cell_type": "markdown",
   "metadata": {
    "id": "EeW9EYYMmG_o"
   },
   "source": [
    "We set `add_start_index=True` so that the character index at which each split Document starts within the initial Document is preserved as metadata attribute “start_index”."
   ]
  },
  {
   "cell_type": "code",
   "execution_count": null,
   "metadata": {
    "colab": {
     "base_uri": "https://localhost:8080/"
    },
    "id": "8yKOfvorkWtb",
    "outputId": "c9f35fe8-ab00-4c72-856b-83a6db15eddc"
   },
   "outputs": [
    {
     "data": {
      "text/plain": [
       "30"
      ]
     },
     "execution_count": 7,
     "metadata": {},
     "output_type": "execute_result"
    }
   ],
   "source": [
    "def split_text(doc):\n",
    "  text_splitter = RecursiveCharacterTextSplitter(\n",
    "      chunk_size=1000, chunk_overlap=200, add_start_index=True\n",
    "  )\n",
    "  all_splits = text_splitter.split_documents(doc)\n",
    "  return all_splits\n",
    "\n",
    "\n",
    "all_splits = split_text(data)\n",
    "len(all_splits)"
   ]
  },
  {
   "cell_type": "markdown",
   "metadata": {
    "id": "KlXJ4_HvmsFL"
   },
   "source": [
    "Note the `start_index`"
   ]
  },
  {
   "cell_type": "code",
   "execution_count": null,
   "metadata": {
    "colab": {
     "base_uri": "https://localhost:8080/"
    },
    "id": "_eBJRFSemLL-",
    "outputId": "91e3abfd-adbc-410e-f1f1-09597bdca380"
   },
   "outputs": [
    {
     "data": {
      "text/plain": [
       "{'source': '/content/assignments/i1097btc.pdf',\n",
       " 'file_path': '/content/assignments/i1097btc.pdf',\n",
       " 'page': 0,\n",
       " 'total_pages': 4,\n",
       " 'format': 'PDF 1.7',\n",
       " 'title': 'Instructions for Form 1097-BTC (Rev. December 2019)',\n",
       " 'author': 'W:CAR:MP:FP',\n",
       " 'subject': 'Instructions for Form 1097-BTC, Bond Tax Credit',\n",
       " 'keywords': '',\n",
       " 'creator': 'AH XSL Formatter V6.6 MR4 for Linux64 : 6.6.6.37929 (2019/03/11 12:35JST)',\n",
       " 'producer': 'Antenna House PDF Output Library 6.6.1437 (Linux64); modified using iText 2.1.7 by 1T3XT',\n",
       " 'creationDate': \"D:20191031122810-05'00'\",\n",
       " 'modDate': \"D:20191105122303-05'00'\",\n",
       " 'trapped': '',\n",
       " 'start_index': 0}"
      ]
     },
     "execution_count": 8,
     "metadata": {},
     "output_type": "execute_result"
    }
   ],
   "source": [
    "all_splits[0].metadata"
   ]
  },
  {
   "cell_type": "code",
   "execution_count": null,
   "metadata": {
    "colab": {
     "base_uri": "https://localhost:8080/"
    },
    "id": "KrsJxpiOmh5y",
    "outputId": "220fd11f-3e34-4737-b013-cc9164fd1829"
   },
   "outputs": [
    {
     "data": {
      "text/plain": [
       "{'source': '/content/assignments/i1097btc.pdf',\n",
       " 'file_path': '/content/assignments/i1097btc.pdf',\n",
       " 'page': 3,\n",
       " 'total_pages': 4,\n",
       " 'format': 'PDF 1.7',\n",
       " 'title': 'Instructions for Form 1097-BTC (Rev. December 2019)',\n",
       " 'author': 'W:CAR:MP:FP',\n",
       " 'subject': 'Instructions for Form 1097-BTC, Bond Tax Credit',\n",
       " 'keywords': '',\n",
       " 'creator': 'AH XSL Formatter V6.6 MR4 for Linux64 : 6.6.6.37929 (2019/03/11 12:35JST)',\n",
       " 'producer': 'Antenna House PDF Output Library 6.6.1437 (Linux64); modified using iText 2.1.7 by 1T3XT',\n",
       " 'creationDate': \"D:20191031122810-05'00'\",\n",
       " 'modDate': \"D:20191105122303-05'00'\",\n",
       " 'trapped': '',\n",
       " 'start_index': 4816}"
      ]
     },
     "execution_count": 9,
     "metadata": {},
     "output_type": "execute_result"
    }
   ],
   "source": [
    "all_splits[-1].metadata"
   ]
  },
  {
   "cell_type": "code",
   "execution_count": null,
   "metadata": {
    "colab": {
     "base_uri": "https://localhost:8080/"
    },
    "id": "B6FCRsonkcXW",
    "outputId": "8a58e82a-0280-444f-dbfe-fbbc13986a0c"
   },
   "outputs": [
    {
     "name": "stdout",
     "output_type": "stream",
     "text": [
      "Instructions for Form \n",
      "1097-BTC\n",
      "(Rev. December 2019)\n",
      "Bond Tax Credit\n",
      "Department of the Treasury\n",
      "Internal Revenue Service\n",
      "Section references are to the Internal Revenue Code unless \n",
      "otherwise noted.\n",
      "Future Developments\n",
      "For the latest information about developments related to \n",
      "Form 1097-BTC and its instructions, such as legislation \n",
      "enacted after they were published, go to IRS.gov/\n",
      "Form1097BTC.\n",
      "Reminders\n",
      "In addition to these specific instructions, you also should use \n",
      "the current General Instructions for Certain Information \n",
      "Returns. Those general instructions include information \n",
      "about the following topics.\n",
      "• Who must file.\n",
      "• When and where to file.\n",
      "• Electronic reporting.\n",
      "• Corrected and voided returns.\n",
      "• Statements to recipients.\n",
      "• Taxpayer identification numbers (TINs).\n",
      "• Backup withholding.\n",
      "• Penalties.\n",
      "• Other general topics.\n",
      "You can get the current general instructions from General \n",
      "Instructions for Certain Information Returns at IRS.gov/\n"
     ]
    }
   ],
   "source": [
    "print(all_splits[0].page_content)"
   ]
  },
  {
   "cell_type": "code",
   "execution_count": null,
   "metadata": {
    "colab": {
     "base_uri": "https://localhost:8080/"
    },
    "id": "fcqlrSEXke5v",
    "outputId": "565df019-67f9-40e6-fedd-404970745991"
   },
   "outputs": [
    {
     "name": "stdout",
     "output_type": "stream",
     "text": [
      "Thus, in Example 2, you would enter in box 1 “27%” (0.27) of \n",
      "the amount determined in STEP 1.\n",
      "Note. For new clean renewable energy bonds issued under \n",
      "section 54C and qualified energy conservation bonds issued \n",
      "under section 54D, report the credit amount after the 70% \n",
      "limit has been applied.\n",
      "Box 6. Comments\n",
      "Enter any additional information.\n",
      "-4-\n",
      "Instructions for Form 1097-BTC (Rev. 12-2019)\n"
     ]
    }
   ],
   "source": [
    "print(all_splits[-1].page_content)"
   ]
  },
  {
   "cell_type": "code",
   "execution_count": null,
   "metadata": {
    "id": "OFDsyN6eqaxo"
   },
   "outputs": [],
   "source": [
    "doc_splits = [\n",
    "    split_text(read_pdf(os.path.join(os.getcwd(), \"assignments\", _file))) for _file in os.listdir(\"./assignments\")\n",
    "]"
   ]
  },
  {
   "cell_type": "code",
   "execution_count": null,
   "metadata": {
    "id": "IOkHjB6AvhYf"
   },
   "outputs": [],
   "source": [
    "!rm -rf ./assignments/.ipynb_checkpoints"
   ]
  },
  {
   "cell_type": "code",
   "execution_count": null,
   "metadata": {
    "colab": {
     "base_uri": "https://localhost:8080/"
    },
    "id": "Uyo6ab5MsiEr",
    "outputId": "adcd9942-eb01-471d-fc70-311c80f55c89"
   },
   "outputs": [
    {
     "data": {
      "text/plain": [
       "(4, 17)"
      ]
     },
     "execution_count": 15,
     "metadata": {},
     "output_type": "execute_result"
    }
   ],
   "source": [
    "len(doc_splits), len(doc_splits[0])"
   ]
  },
  {
   "cell_type": "code",
   "execution_count": null,
   "metadata": {
    "id": "tF-16T60wPlr"
   },
   "outputs": [],
   "source": [
    "all_splits = [split for splits in doc_splits for split in splits]"
   ]
  },
  {
   "cell_type": "code",
   "execution_count": null,
   "metadata": {
    "colab": {
     "base_uri": "https://localhost:8080/"
    },
    "id": "g3Y3SNcAwm7J",
    "outputId": "fa63917c-68ff-4391-bc8f-2edcc59f1768"
   },
   "outputs": [
    {
     "data": {
      "text/plain": [
       "Document(metadata={'source': '/content/assignments/i1098c.pdf', 'file_path': '/content/assignments/i1098c.pdf', 'page': 0, 'total_pages': 2, 'format': 'PDF 1.7', 'title': 'Instructions for Form 1098-C (Rev. November 2019)', 'author': 'W:CAR:MP:FP', 'subject': 'Instructions for Form 1098-C, Contributions of Motor Vehicles, Boats, and Airplanes', 'keywords': '', 'creator': 'AH XSL Formatter V6.6 MR4 for Linux64 : 6.6.6.37929 (2019/03/11 12:35JST)', 'producer': 'Antenna House PDF Output Library 6.6.1437 (Linux64); modified using iText 2.1.7 by 1T3XT', 'creationDate': \"D:20191030112848-05'00'\", 'modDate': \"D:20191030115658-04'00'\", 'trapped': '', 'start_index': 0}, page_content='Instructions for Form 1098-C\\n(Rev. November 2019)\\nContributions of Motor Vehicles, Boats, and Airplanes\\nDepartment of the Treasury\\nInternal Revenue Service\\nSection references are to the Internal Revenue Code unless otherwise \\nnoted.\\nFuture Developments\\nFor the latest information about developments related to Form 1098-C \\nand its instructions, such as legislation enacted after they were \\npublished, go to IRS.gov/Form1098C.\\nReminders\\nIn addition to these specific instructions, you also should use the current \\nGeneral Instructions for Certain Information Returns. Those general \\ninstructions include information about the following topics.\\n• Who must file.\\n• When and where to file.\\n• Electronic reporting.\\n• Corrected and void returns.\\n• Statements to recipients.\\n• Taxpayer identification numbers (TINs).\\n• Backup withholding.\\n• Penalties.\\n• Other general topics.\\nYou can get the general instructions at IRS.gov/\\n1099GeneralInstructions or IRS.gov/Form1098C.')"
      ]
     },
     "execution_count": 17,
     "metadata": {},
     "output_type": "execute_result"
    }
   ],
   "source": [
    "all_splits[0]"
   ]
  },
  {
   "cell_type": "code",
   "execution_count": null,
   "metadata": {
    "colab": {
     "base_uri": "https://localhost:8080/"
    },
    "id": "pC6MTlUtwrZ_",
    "outputId": "955f3680-f745-41e1-89f5-b63f786258af"
   },
   "outputs": [
    {
     "data": {
      "text/plain": [
       "Document(metadata={'source': '/content/assignments/i926.pdf', 'file_path': '/content/assignments/i926.pdf', 'page': 7, 'total_pages': 8, 'format': 'PDF 1.7', 'title': 'Instructions for Form 926 (Rev. November 2018)', 'author': 'W:CAR:MP:FP', 'subject': 'Instructions for Form 926, Return by a U.S. Transferor of Property to a Foreign Corporation', 'keywords': '', 'creator': 'AH XSL Formatter V6.5 MR5 for Linux64 : 6.5.8.33214 (2018/05/11 09:14JST)', 'producer': 'Antenna House PDF Output Library 6.5.1276 (Linux64); modified using iText 2.1.7 by 1T3XT', 'creationDate': \"D:20181030143532-05'00'\", 'modDate': \"D:20181113152036-05'00'\", 'trapped': '', 'start_index': 2403}, page_content='1 hr., 52 min.\\nIf you have comments concerning the accuracy of these time estimates or suggestions for making this form simpler, \\nwe would be happy to hear from you. See the instructions for the tax return with which this form is filed.\\n-8-\\nInstructions for Form 926 (Rev. 11-2018)')"
      ]
     },
     "execution_count": 18,
     "metadata": {},
     "output_type": "execute_result"
    }
   ],
   "source": [
    "all_splits[-1]"
   ]
  },
  {
   "cell_type": "markdown",
   "metadata": {
    "id": "zcmhX90e523Y"
   },
   "source": [
    "### Create embeddings"
   ]
  },
  {
   "cell_type": "code",
   "execution_count": null,
   "metadata": {
    "id": "Z29Pb7ogwvnt"
   },
   "outputs": [],
   "source": [
    "from langchain_community.embeddings import HuggingFaceInstructEmbeddings"
   ]
  },
  {
   "cell_type": "code",
   "execution_count": null,
   "metadata": {
    "colab": {
     "base_uri": "https://localhost:8080/",
     "height": 693,
     "referenced_widgets": [
      "d273ee2325e046aa91e385ccf1f0d61f",
      "9d97f8c0a4c441d38ba3aeb45ad8a2b6",
      "044abdd35d4f498fbf1189f7c9c2c4ee",
      "4fb2d3ca89e74c4b824b23f7673b5fb6",
      "54cba639fdc94eef8af6609582e7864c",
      "20c9ea21c2bd421fa7b312f25b4ed8cb",
      "b3a2d343141a4bd6a12a951a1b4c19e3",
      "a79ed0d7e4dd40a5a9aed59fa568107c",
      "03a33bccae364eafa6f75c128b6b2af1",
      "813215ec914842d08bdf7af559c56204",
      "483d5bc7f8d54fe59de9d46682fa625b",
      "98cc1d21ce674d92b8772e7e6a0fe3cc",
      "2d25ef31102b47b3a0f6eee2f76e4c28",
      "4bd9ad43c5d342a4a25eab3c89f2ab52",
      "605d444908be4c1085f086909e9ce267",
      "7c0d07e51208420ba0e5a2cc786569f9",
      "c321fe7c60b944d893cb1a8c30a9862e",
      "b82a72429e2e4473bbba50d0b02ce5e8",
      "8d7621f4c3cf4fe08e89caa50646db3b",
      "05aabec6da204c26be8b6a940b50dfe1",
      "19ed51a9a7464176a6da753a5cc55871",
      "cb9be6696ada41019ec695ae1248874f",
      "3d37ac92181a4082b46487541b63ebc7",
      "08a2d34eaeb140d7b06704d5645c8f93",
      "8af6cbc580254b4f919068fec803b09f",
      "74519a8218564e2dbbcd1f6043384df4",
      "1c0c499291c1416d85e8dd0ef25fa430",
      "d5d0c9e51b904234a4ff0f6ea7657606",
      "ea0640c7c5004b34b12bf7c149cd13a1",
      "442e82c112974dcfbe18c496b9b257af",
      "362c45e3743a477699cd8cf535aec5ec",
      "2f5a7a0e14c5466682a3f26ea1293f6f",
      "c8cf8c09de28459db518c18851439c65",
      "70b461aa29194fb5af43c4e6654cd129",
      "fd15409a864942839da6ad7164b8ada5",
      "6ddad7791c934129aa99138d65df638a",
      "4031c835a9824a1a9a43eb2360818172",
      "8a5c08f91bac452fa9f5dd95aad9f8ad",
      "7004d057dcc54add96484db36905e023",
      "001540bff5c54eb8b42fb5d05664f8e0",
      "8794677c6ecf4ad2b2ab6c9a59e2c665",
      "4cc4bf8faf5f477eb64eb5eeb6a03213",
      "1b6166950abb48b1bfd2c6a357eec6af",
      "22b817c61f6748698b4439239d03ce72",
      "c3873ee9e01b4befa7907e165b99ddb0",
      "5fa7a73b9f55462c85d5dce8215003ce",
      "ef84323bc57243068c43311d9b690474",
      "394559d123d54193af4625e623270ac4",
      "cf904893ded542c2bbe5316fa6f8b4d6",
      "ce3f10c898434bbe8d886f4c770b93bc",
      "4103cec7e6ca45c0847effd0774ccb44",
      "af8b58f90db740138f986c450434ea43",
      "4218a5d87d6e4f6f9eef348f4021eff8",
      "5299c8052d084cac97c8f58771b5bfc7",
      "e37a2533806744d2afa1085f8c2f9ef6",
      "0cec6c707bac4dd29e8f7c91656416ac",
      "08d60f590e8747c19b14cfff22db38d0",
      "8d8d3ab4d58a486ebbef9d8acd826d11",
      "9c8816e2eec0411ca8e98684e0d0cb4d",
      "be3c676c31d04095b35ccc62eefe5282",
      "19baddc6aaea4d14a523ca822b54d024",
      "3229213964434d14ae91168648255b43",
      "2c0c74a5700f4525a21c218ce5dee0a9",
      "e5fc0138e05d4dde94b9f6d61908baa9",
      "b19ce79129054a878af7c56741a89ef2",
      "dbfa9dc4ca244ec0af683207edf1a606",
      "effb431e4ecd484b8a302fe6bf2c04ab",
      "591ddb3c58b44c44afb7444e4b7c0396",
      "77bf440289d94036bfcffe7745fcf281",
      "ddf2cd34a9754851b10e03919660396a",
      "5f16bd745286438ca872426c316ec035",
      "720e54e3841c4037b125c34a52a15976",
      "262df48061d14359825e815b46d02f6a",
      "2abd5a5543524b58a69f91d5151a8287",
      "0bc9bbbfe963417580241dbfeed45cfd",
      "024761a4340d4c1c825e9acef51d4067",
      "e69e58ecae40461789e2724de0d7a4f5",
      "f179a8211f194194829b3b27842906e2",
      "a46864220ab44fd59f025bf8383e6bda",
      "a74a854d03a74fefbae7bc6650afa285",
      "49d0838b61f4499f90c47a3e609bbbc0",
      "ebbaea5013774f17a2d0e8ae68233759",
      "6e293752516845f6957152cff821274e",
      "da673350c50e4e958a33a37a86f968bc",
      "ad120aa2cd5c4602a98fd679751a3bd2",
      "bb4bf0eb5a5d4b2baa652cb2a3e2bef3",
      "ac7c4b3c8e8b4e95b51ad78ca0305535",
      "9e6e4b923b5a4255a6b565d02ebb49e6",
      "af0cfc2aaec14ae4b402b8a65818ec40",
      "b9461b993f0e474d814edc2ceddda731",
      "f5b69ad512a9403d975974090db4e446",
      "d8a6731ae1864e1f809c8f7b8e705806",
      "521bb441f9d444dba091a1b99cd76f5b",
      "b3a6a7c6e5c641569eabd3b2f799a433",
      "bfd6df6179f84161b04b2d3e1c6be67a",
      "359e2add6ec440a18ca683b04e0fa0cd",
      "ac5dd11291844236a404c66fa1e04301",
      "4cb1cec4ace745d08a0b255f75e17040",
      "98ed129334304884a9c731b8d22ef5b3",
      "d452db0e1c0549ffabce8834a14a6628",
      "9dd7873279b64b9ba0855735b97a01a8",
      "2e1fdd4df0284b458c2267b7d581d132",
      "53e6b491027b4e10adaf20bf9f40f357",
      "0a3d1c2cfb4e4802aac2cbe2990e3d84",
      "cdc5bb42bb6246798491326044db4990",
      "429b282d54814e18b9cbe36aae0c3b3e",
      "eba17aff9981444dab0162703cb18696",
      "37c60077d7914ab1867f3243c77680e9",
      "ea6ee59cd3454007be911ce05ad6160c",
      "6a229ab0366b403596c954865e552dc4",
      "c1529452d95147b28359cbbcf490b99a",
      "4c9b04c0480c4cd98887a365df8301b1",
      "5f317efdce23470bbb1613b625a8f5f6",
      "af6d5ebf5d364dce83d91f71fc3fa509",
      "af8a8fbfcf7940959309cd5a5c43fa62",
      "5c8f86c51e574422bc2455c5c2334a8d",
      "1733eb6f9089464793abcb9d4f3e7eaa",
      "b1a7aa68cdb14464a031ec92761fa4fd",
      "8f02186e7c414db2a47e9b4faf8cb032",
      "5e3b4d5679384a4d90e7c1a03d695350",
      "c346b410539f47438b8b08095ee12a53",
      "ae9ff16140064acca415cc209ca70acc",
      "4dab046a48354f1daef1776a69746bea",
      "844ee5b27571471bbc8a0a90afd2cf38",
      "a0d8af13bac44caca2fcef63ece0d141",
      "3fa84845b312452c892645104dc52e2e",
      "5d4fa315a5094b7cbe6d6bfaf0a4e7a9",
      "228f1f5c78204880bdef9cc9a9fde4fb",
      "ba2b3125b00441df9d26a360baf65bd6",
      "47202473b83949faaf25c012997a44c5",
      "0f9a39fcd4284f36872c8bc1ef411dc8",
      "b08042c75959437baedf49f64bef1f04",
      "b910a34eca0c4f7188e964e59dfd7fa3",
      "6a52c64b819f47ee94bf1586e0be8ab7",
      "7f7de85b6806498bbf4e9bba395e9b34",
      "b03dbce28ffe4ba18fae86b74ad0c05f",
      "8419749062134e51b52f1c6c2414f78e",
      "1fd787b6631a4204bbceb75880b13cd9",
      "bbfde65a250648e3b23bfb4e0935a686",
      "f7dfcd45380b499fb4cd56f7ef177f63",
      "18a9f408cf1f43218d5c727df5afbe0c",
      "f33c0dd825ac4a4589aac4c459f687a4",
      "f336f3fbd22348158ce67056c4153354",
      "5f21ba63c81a4cce917f5a0cbb7c8ebb",
      "d6cd12cf08b4451d91a1c1a75e19791b",
      "d3a80478b3334017b25e1d07c66fc3fa",
      "20b8b71939704908967a38ae957cd4c9",
      "51a207e2d6fd4089bce26d64d2b73696",
      "467179688af7451d9cce669a123422d9",
      "600accf61f2d48b5bc703a26cddc5b53",
      "a3d0ed4e7d9d48f7b580dff31f85500f",
      "4166657fb4924b36940195c9df764ce4",
      "76ab29726dfb438782705dcdd903db45",
      "b49f7d93481944b68e34c37cc9b8facb"
     ]
    },
    "id": "vvDMnjPckozi",
    "outputId": "1acb2459-5ad7-415f-8a09-839b74538745"
   },
   "outputs": [
    {
     "name": "stderr",
     "output_type": "stream",
     "text": [
      "/usr/local/lib/python3.10/dist-packages/InstructorEmbedding/instructor.py:7: TqdmExperimentalWarning: Using `tqdm.autonotebook.tqdm` in notebook mode. Use `tqdm.tqdm` instead to force console mode (e.g. in jupyter console)\n",
      "  from tqdm.autonotebook import trange\n",
      "/usr/local/lib/python3.10/dist-packages/huggingface_hub/utils/_token.py:89: UserWarning: \n",
      "The secret `HF_TOKEN` does not exist in your Colab secrets.\n",
      "To authenticate with the Hugging Face Hub, create a token in your settings tab (https://huggingface.co/settings/tokens), set it as secret in your Google Colab and restart your session.\n",
      "You will be able to reuse this secret in all of your notebooks.\n",
      "Please note that authentication is recommended but still optional to access public models or datasets.\n",
      "  warnings.warn(\n",
      "/usr/local/lib/python3.10/dist-packages/huggingface_hub/utils/_deprecation.py:131: FutureWarning: 'cached_download' (from 'huggingface_hub.file_download') is deprecated and will be removed from version '0.26'. Use `hf_hub_download` instead.\n",
      "  warnings.warn(warning_message, FutureWarning)\n"
     ]
    },
    {
     "data": {
      "application/vnd.jupyter.widget-view+json": {
       "model_id": "d273ee2325e046aa91e385ccf1f0d61f",
       "version_major": 2,
       "version_minor": 0
      },
      "text/plain": [
       ".gitattributes:   0%|          | 0.00/1.48k [00:00<?, ?B/s]"
      ]
     },
     "metadata": {},
     "output_type": "display_data"
    },
    {
     "data": {
      "application/vnd.jupyter.widget-view+json": {
       "model_id": "98cc1d21ce674d92b8772e7e6a0fe3cc",
       "version_major": 2,
       "version_minor": 0
      },
      "text/plain": [
       "1_Pooling/config.json:   0%|          | 0.00/270 [00:00<?, ?B/s]"
      ]
     },
     "metadata": {},
     "output_type": "display_data"
    },
    {
     "data": {
      "application/vnd.jupyter.widget-view+json": {
       "model_id": "3d37ac92181a4082b46487541b63ebc7",
       "version_major": 2,
       "version_minor": 0
      },
      "text/plain": [
       "2_Dense/config.json:   0%|          | 0.00/116 [00:00<?, ?B/s]"
      ]
     },
     "metadata": {},
     "output_type": "display_data"
    },
    {
     "data": {
      "application/vnd.jupyter.widget-view+json": {
       "model_id": "70b461aa29194fb5af43c4e6654cd129",
       "version_major": 2,
       "version_minor": 0
      },
      "text/plain": [
       "pytorch_model.bin:   0%|          | 0.00/3.15M [00:00<?, ?B/s]"
      ]
     },
     "metadata": {},
     "output_type": "display_data"
    },
    {
     "data": {
      "application/vnd.jupyter.widget-view+json": {
       "model_id": "c3873ee9e01b4befa7907e165b99ddb0",
       "version_major": 2,
       "version_minor": 0
      },
      "text/plain": [
       "README.md:   0%|          | 0.00/66.3k [00:00<?, ?B/s]"
      ]
     },
     "metadata": {},
     "output_type": "display_data"
    },
    {
     "data": {
      "application/vnd.jupyter.widget-view+json": {
       "model_id": "0cec6c707bac4dd29e8f7c91656416ac",
       "version_major": 2,
       "version_minor": 0
      },
      "text/plain": [
       "config.json:   0%|          | 0.00/1.53k [00:00<?, ?B/s]"
      ]
     },
     "metadata": {},
     "output_type": "display_data"
    },
    {
     "data": {
      "application/vnd.jupyter.widget-view+json": {
       "model_id": "effb431e4ecd484b8a302fe6bf2c04ab",
       "version_major": 2,
       "version_minor": 0
      },
      "text/plain": [
       "config_sentence_transformers.json:   0%|          | 0.00/122 [00:00<?, ?B/s]"
      ]
     },
     "metadata": {},
     "output_type": "display_data"
    },
    {
     "data": {
      "application/vnd.jupyter.widget-view+json": {
       "model_id": "f179a8211f194194829b3b27842906e2",
       "version_major": 2,
       "version_minor": 0
      },
      "text/plain": [
       "pytorch_model.bin:   0%|          | 0.00/1.34G [00:00<?, ?B/s]"
      ]
     },
     "metadata": {},
     "output_type": "display_data"
    },
    {
     "data": {
      "application/vnd.jupyter.widget-view+json": {
       "model_id": "af0cfc2aaec14ae4b402b8a65818ec40",
       "version_major": 2,
       "version_minor": 0
      },
      "text/plain": [
       "sentence_bert_config.json:   0%|          | 0.00/53.0 [00:00<?, ?B/s]"
      ]
     },
     "metadata": {},
     "output_type": "display_data"
    },
    {
     "data": {
      "application/vnd.jupyter.widget-view+json": {
       "model_id": "d452db0e1c0549ffabce8834a14a6628",
       "version_major": 2,
       "version_minor": 0
      },
      "text/plain": [
       "special_tokens_map.json:   0%|          | 0.00/2.20k [00:00<?, ?B/s]"
      ]
     },
     "metadata": {},
     "output_type": "display_data"
    },
    {
     "data": {
      "application/vnd.jupyter.widget-view+json": {
       "model_id": "c1529452d95147b28359cbbcf490b99a",
       "version_major": 2,
       "version_minor": 0
      },
      "text/plain": [
       "spiece.model:   0%|          | 0.00/792k [00:00<?, ?B/s]"
      ]
     },
     "metadata": {},
     "output_type": "display_data"
    },
    {
     "data": {
      "application/vnd.jupyter.widget-view+json": {
       "model_id": "ae9ff16140064acca415cc209ca70acc",
       "version_major": 2,
       "version_minor": 0
      },
      "text/plain": [
       "tokenizer.json:   0%|          | 0.00/2.42M [00:00<?, ?B/s]"
      ]
     },
     "metadata": {},
     "output_type": "display_data"
    },
    {
     "data": {
      "application/vnd.jupyter.widget-view+json": {
       "model_id": "b910a34eca0c4f7188e964e59dfd7fa3",
       "version_major": 2,
       "version_minor": 0
      },
      "text/plain": [
       "tokenizer_config.json:   0%|          | 0.00/2.41k [00:00<?, ?B/s]"
      ]
     },
     "metadata": {},
     "output_type": "display_data"
    },
    {
     "data": {
      "application/vnd.jupyter.widget-view+json": {
       "model_id": "5f21ba63c81a4cce917f5a0cbb7c8ebb",
       "version_major": 2,
       "version_minor": 0
      },
      "text/plain": [
       "modules.json:   0%|          | 0.00/461 [00:00<?, ?B/s]"
      ]
     },
     "metadata": {},
     "output_type": "display_data"
    },
    {
     "name": "stdout",
     "output_type": "stream",
     "text": [
      "load INSTRUCTOR_Transformer\n",
      "max_seq_length  512\n"
     ]
    }
   ],
   "source": [
    "model_name = \"hkunlp/instructor-large\"\n",
    "model_kwargs = {'device': 'cpu'}\n",
    "encode_kwargs = {'normalize_embeddings': True}\n",
    "\n",
    "hf = HuggingFaceInstructEmbeddings(\n",
    "    model_name=model_name,\n",
    "    model_kwargs=model_kwargs,\n",
    "    encode_kwargs=encode_kwargs\n",
    ")"
   ]
  },
  {
   "cell_type": "markdown",
   "metadata": {
    "id": "Qd8wcJ94zqJV"
   },
   "source": [
    "### Store in vector database"
   ]
  },
  {
   "cell_type": "code",
   "execution_count": null,
   "metadata": {
    "id": "MygajbZs26KD"
   },
   "outputs": [],
   "source": [
    "import pandas as pd"
   ]
  },
  {
   "cell_type": "code",
   "execution_count": null,
   "metadata": {
    "id": "M5mJv0wVc102"
   },
   "outputs": [],
   "source": [
    "from langchain_chroma import Chroma"
   ]
  },
  {
   "cell_type": "code",
   "execution_count": null,
   "metadata": {
    "id": "6V6CQloE28w3"
   },
   "outputs": [],
   "source": [
    "questions = pd.read_csv(\"test.csv\", index_col=\"ID\")\n",
    "q_s = questions[\"Questions\"].values"
   ]
  },
  {
   "cell_type": "code",
   "execution_count": null,
   "metadata": {
    "id": "WK8fKS6ExgOs"
   },
   "outputs": [],
   "source": [
    "vectorstore = Chroma.from_documents(documents=all_splits, embedding=hf)"
   ]
  },
  {
   "cell_type": "markdown",
   "metadata": {
    "id": "_R8yNC423TlR"
   },
   "source": [
    "Retriever: An object that returns Documents given a text query"
   ]
  },
  {
   "cell_type": "code",
   "execution_count": null,
   "metadata": {
    "colab": {
     "base_uri": "https://localhost:8080/"
    },
    "id": "vZOj2C7q14wT",
    "outputId": "a5387c00-dbb4-4e31-8902-cd7a41f66f1a"
   },
   "outputs": [
    {
     "data": {
      "text/plain": [
       "6"
      ]
     },
     "execution_count": 26,
     "metadata": {},
     "output_type": "execute_result"
    }
   ],
   "source": [
    "retriever = vectorstore.as_retriever(search_type=\"similarity\", search_kwargs={\"k\": 6})\n",
    "\n",
    "retrieved_docs = retriever.invoke(q_s[0])\n",
    "\n",
    "len(retrieved_docs)"
   ]
  },
  {
   "cell_type": "code",
   "execution_count": null,
   "metadata": {
    "colab": {
     "base_uri": "https://localhost:8080/"
    },
    "id": "ItgZJsK93Fpb",
    "outputId": "7b7d104f-aeeb-43c3-f8e2-2b65c0a853f6"
   },
   "outputs": [
    {
     "name": "stdout",
     "output_type": "stream",
     "text": [
      "['What is the purpose of Form 843?' 'When should you not use Form 843?'\n",
      " 'What information should be provided when requesting a refund of excess social security, Medicare, or RRTA tax withheld by one employer?']\n"
     ]
    }
   ],
   "source": [
    "print(q_s)"
   ]
  },
  {
   "cell_type": "code",
   "execution_count": null,
   "metadata": {
    "id": "mhyE8m6q2ff2"
   },
   "outputs": [],
   "source": [
    "retrieved_docs"
   ]
  },
  {
   "cell_type": "markdown",
   "metadata": {
    "id": "eT1rvRpe4roV"
   },
   "source": [
    "### Retrieval"
   ]
  },
  {
   "cell_type": "code",
   "execution_count": null,
   "metadata": {
    "id": "Hd2FmSCf4ukh"
   },
   "outputs": [],
   "source": [
    "from langchain_core.output_parsers import StrOutputParser"
   ]
  },
  {
   "cell_type": "code",
   "execution_count": null,
   "metadata": {
    "id": "7fIntVOA4Vz2"
   },
   "outputs": [],
   "source": [
    "def format_docs(docs):\n",
    "    return \"\\n\\n\".join(doc.page_content for doc in docs)"
   ]
  },
  {
   "cell_type": "code",
   "execution_count": null,
   "metadata": {
    "id": "NzuEyB0B2hT8"
   },
   "outputs": [],
   "source": [
    "prompt = ChatPromptTemplate.from_messages(\n",
    "  [\n",
    "    (\n",
    "      \"system\",\n",
    "      \"You are an assistant for question-answering tasks. Use the following pieces of retrieved context to answer the question. If you don't know the answer, just say that you don't know. Use three sentences maximum and keep the answer concise.\",\n",
    "    ),\n",
    "    (\"user\", \"Context: {context}\\n\\nQuestion: {question}\")\n",
    "  ]\n",
    ")"
   ]
  },
  {
   "cell_type": "markdown",
   "metadata": {
    "id": "0CG3aVcR7l5I"
   },
   "source": [
    " - `retriever | format_docs` passes the question through the retriever, generating Document objects, and then to `format_docs` to generate strings;\n",
    "\n",
    " - `RunnablePassthrough()` passes through the input question unchanged. It is a Runnable to passthrough inputs unchanged or with additional keys.\n",
    "\n"
   ]
  },
  {
   "cell_type": "code",
   "execution_count": null,
   "metadata": {
    "id": "nq3zJaU22x-9"
   },
   "outputs": [],
   "source": [
    "rag_chain = (\n",
    "    {\"context\": retriever | format_docs, \"question\": RunnablePassthrough()}\n",
    "    | prompt\n",
    "    | model\n",
    "    | StrOutputParser()\n",
    ")"
   ]
  },
  {
   "cell_type": "code",
   "execution_count": null,
   "metadata": {
    "colab": {
     "base_uri": "https://localhost:8080/"
    },
    "id": "RkURV-R04fHz",
    "outputId": "e3a46074-194c-4b8e-e349-010995ca80d9"
   },
   "outputs": [
    {
     "name": "stdout",
     "output_type": "stream",
     "text": [
      "When requesting a refund of excess social security, Medicare, or RRTA tax withheld by one employer, you must attach a statement from the employer indicating the amount, if any, the employer has repaid or reimbursed you for excess taxes withheld and the amount, if any, of credit or refund claimed by the employer. If you cannot obtain a statement from the employer, you should attach a statement with the same information to the best of your knowledge and belief, including an explanation of why you could not obtain a statement from the employer."
     ]
    }
   ],
   "source": [
    "for chunk in rag_chain.stream(q_s[2]):\n",
    "  print(chunk, end=\"\", flush=True)"
   ]
  },
  {
   "cell_type": "code",
   "execution_count": null,
   "metadata": {
    "colab": {
     "base_uri": "https://localhost:8080/"
    },
    "id": "69HbqK7z66MY",
    "outputId": "24e252c1-0fc3-4814-fa10-e8e60b699085"
   },
   "outputs": [
    {
     "name": "stdout",
     "output_type": "stream",
     "text": [
      "When requesting a refund of excess social security, Medicare, or RRTA tax withheld by one employer, you must, if possible, attach a statement from the employer. The statement should indicate the amount, if any, the employer has repaid or reimbursed you for excess taxes withheld, and the amount, if any, of credit or refund claimed by the employer or authorized by you to be claimed by the employer.\n"
     ]
    }
   ],
   "source": [
    "response = rag_chain.invoke(q_s[2])\n",
    "print(response)"
   ]
  },
  {
   "cell_type": "code",
   "execution_count": null,
   "metadata": {
    "colab": {
     "base_uri": "https://localhost:8080/",
     "height": 36
    },
    "id": "JN7JOpLO84BP",
    "outputId": "e1ea2cf4-43c8-4f62-bd9b-da514323729a"
   },
   "outputs": [
    {
     "data": {
      "application/vnd.google.colaboratory.intrinsic+json": {
       "type": "string"
      },
      "text/plain": [
       "'When should you not use Form 843?'"
      ]
     },
     "execution_count": 58,
     "metadata": {},
     "output_type": "execute_result"
    }
   ],
   "source": [
    "str(q_s[1])"
   ]
  },
  {
   "cell_type": "code",
   "execution_count": null,
   "metadata": {
    "id": "VDi5RGY5-2D2"
   },
   "outputs": [],
   "source": [
    "from langchain.chains.combine_documents import create_stuff_documents_chain\n",
    "from langchain.chains import create_retrieval_chain"
   ]
  },
  {
   "cell_type": "code",
   "execution_count": null,
   "metadata": {
    "id": "jMtd0bf99xm_"
   },
   "outputs": [],
   "source": [
    "system_prompt = (\n",
    "  \"You are an assistant for question-answering tasks. \"\n",
    "  \"Use the following pieces of retrieved context to answer \"\n",
    "  \"the question. If you don't know the answer, say that you \"\n",
    "  \"don't know. Use three sentences maximum and keep the \"\n",
    "  \"answer concise.\"\n",
    "  \"\\n\\n\"\n",
    "  \"{context}\"\n",
    ")\n",
    "\n",
    "prompt = ChatPromptTemplate.from_messages(\n",
    "  [\n",
    "    (\"system\", system_prompt),\n",
    "    (\"human\", \"{input}\"),\n",
    "  ]\n",
    ")"
   ]
  },
  {
   "cell_type": "markdown",
   "metadata": {
    "id": "LQQ_-zND_Yjc"
   },
   "source": [
    " - `create_stuff_documents_chain` specifies how retrieved context is fed into a prompt and LLM. In this case, we will \"stuff\" the contents into the prompt -- i.e., *we will include all retrieved context without any summarization or other processing.*\n",
    "\n",
    " It largely implements our above `rag_chain`, with input keys context and input-- it generates an answer using retrieved context and query.\n",
    "\n",
    " - `create_retrieval_chain` adds the retrieval step and propagates the retrieved context through the chain, providing it alongside the final answer. It has input key input, and includes input, context, and answer in its output."
   ]
  },
  {
   "cell_type": "code",
   "execution_count": null,
   "metadata": {
    "id": "IgdcuwJE_GgI"
   },
   "outputs": [],
   "source": [
    "question_answer_chain = create_stuff_documents_chain(model, prompt)\n",
    "rag_chain = create_retrieval_chain(retriever, question_answer_chain)"
   ]
  },
  {
   "cell_type": "code",
   "execution_count": null,
   "metadata": {
    "colab": {
     "base_uri": "https://localhost:8080/"
    },
    "id": "yDNYRTKs_IbG",
    "outputId": "200b08df-0704-4266-93f9-7b02bbf6a8ec"
   },
   "outputs": [
    {
     "name": "stdout",
     "output_type": "stream",
     "text": [
      "When requesting a refund of excess social security, Medicare, or RRTA tax withheld by one employer, you should provide a statement from the employer indicating the following: the amount, if any, the employer has repaid or reimbursed you for excess taxes withheld, and the amount, if any, of credit or refund claimed by the employer or authorized by you to be claimed by the employer. If you cannot obtain a statement from the employer, you should attach a statement with the same information to the best of your knowledge and belief, and include an explanation of why you could not obtain a statement from the employer.\n"
     ]
    }
   ],
   "source": [
    "response = rag_chain.invoke({\"input\": q_s[2]})\n",
    "print(response[\"answer\"])"
   ]
  },
  {
   "cell_type": "markdown",
   "metadata": {
    "id": "aovElZXf_5AR"
   },
   "source": [
    "#### Returning sources"
   ]
  },
  {
   "cell_type": "code",
   "execution_count": null,
   "metadata": {
    "colab": {
     "base_uri": "https://localhost:8080/"
    },
    "id": "fEIrQE___KyH",
    "outputId": "8969c3fe-b969-485a-d9ad-dafd14321024"
   },
   "outputs": [
    {
     "name": "stdout",
     "output_type": "stream",
     "text": [
      "page_content='interest rate of zero under section 6621(d). See Requesting Net \n",
      "Interest Rate of Zero on Overlapping Tax Underpayments and \n",
      "Overpayments, later, for more information.\n",
      "Refund of excess social security, Medicare, or RRTA tax. If \n",
      "you are claiming a refund of excess social security, Medicare, or \n",
      "RRTA tax withheld by one employer, you must, if possible, \n",
      "attach a statement from the employer. The statement should \n",
      "indicate the following.\n",
      "• The amount, if any, the employer has repaid or reimbursed \n",
      "you for excess taxes withheld.\n",
      "• The amount, if any, of credit or refund claimed by the \n",
      "employer or authorized by you to be claimed by the employer.\n",
      "The employer should include in the statement the fact that it is \n",
      "made in support of your claim for refund of employee tax paid by \n",
      "the employer to the IRS.\n",
      "If you cannot obtain a statement from the employer, you \n",
      "should attach a statement with the same information to the best \n",
      "CAUTION\n",
      "!\n",
      "-4-\n",
      "Instructions for Form 843 (Rev. December 2021)' metadata={'author': 'W:CAR:MP:FP', 'creationDate': \"D:20211217131108-05'00'\", 'creator': 'AH XSL Formatter V6.6 MR4 for Linux64 : 6.6.6.37929 (2019/03/11 12:35JST)', 'file_path': '/content/assignments/i843_1.pdf', 'format': 'PDF 1.7', 'keywords': '', 'modDate': 'D:20211223131812Z', 'page': 3, 'producer': 'Antenna House PDF Output Library 6.6.1437 (Linux64); modified using iText 2.1.7 by 1T3XT', 'source': '/content/assignments/i843_1.pdf', 'start_index': 5530, 'subject': 'Instructions for Form 843, Claim for Refund and Request for Abatement', 'title': 'Instructions for Form 843 (Rev. December 2021)', 'total_pages': 5, 'trapped': ''}\n",
      "\n",
      "page_content='of your knowledge and belief and include in the statement an \n",
      "explanation of why you could not obtain a statement from the \n",
      "employer. Attach a copy of your Form W-2 to prove the amount \n",
      "of social security, Medicare, or RRTA tax withheld.\n",
      "Refund of social security and Medicare tax withheld in er-\n",
      "ror. The same supporting evidence described above must be \n",
      "provided. If you are a nonresident alien, see Pub. 519 for \n",
      "additional information.\n",
      "Requesting Net Interest Rate of Zero on \n",
      "Overlapping Tax Underpayments and \n",
      "Overpayments\n",
      "If you have paid or are liable for interest on a tax underpayment \n",
      "and have received or are due interest on a tax overpayment for \n",
      "the same period of time, you can request that the IRS compute \n",
      "the interest using the net interest rate of zero.\n",
      "How To Request a Net Interest Rate of Zero\n",
      "You can request a net interest rate of zero by writing on top of \n",
      "Form 843 “Request for Net Interest Rate of Zero under Rev.' metadata={'author': 'W:CAR:MP:FP', 'creationDate': \"D:20211217131108-05'00'\", 'creator': 'AH XSL Formatter V6.6 MR4 for Linux64 : 6.6.6.37929 (2019/03/11 12:35JST)', 'file_path': '/content/assignments/i843_1.pdf', 'format': 'PDF 1.7', 'keywords': '', 'modDate': 'D:20211223131812Z', 'page': 4, 'producer': 'Antenna House PDF Output Library 6.6.1437 (Linux64); modified using iText 2.1.7 by 1T3XT', 'source': '/content/assignments/i843_1.pdf', 'start_index': 0, 'subject': 'Instructions for Form 843, Claim for Refund and Request for Abatement', 'title': 'Instructions for Form 843 (Rev. December 2021)', 'total_pages': 5, 'trapped': ''}\n",
      "\n",
      "page_content='Use Form 843 to claim or request the following. \n",
      "• A refund of tax, other than a tax for which a different form \n",
      "must be used. (See Do not use Form 843 when you must use a \n",
      "different tax form next.)\n",
      "• An abatement of tax, other than income, estate, or gift tax. \n",
      "Employers cannot use Form 843 to request an abatement of \n",
      "FICA tax, RRTA tax, or income tax withholding.\n",
      "• A refund to an employee of excess social security, Medicare, \n",
      "or RRTA tax withheld by any one employer, but only if your \n",
      "employer will not adjust the overcollection. See the instructions \n",
      "for line 7.\n",
      "• A refund to an employee of social security or Medicare taxes \n",
      "that were withheld in error, but only if your employer will not \n",
      "adjust the overcollection. See the instructions for line 7. If you \n",
      "are a nonresident alien, see Pub. 519, U.S. Tax Guide for Aliens, \n",
      "for specific instructions.\n",
      "• A refund of excess tier 2 RRTA tax when you had more than \n",
      "one railroad employer for the year and your total tier 2 RRTA tax' metadata={'author': 'W:CAR:MP:FP', 'creationDate': \"D:20211217131108-05'00'\", 'creator': 'AH XSL Formatter V6.6 MR4 for Linux64 : 6.6.6.37929 (2019/03/11 12:35JST)', 'file_path': '/content/assignments/i843_1.pdf', 'format': 'PDF 1.7', 'keywords': '', 'modDate': 'D:20211223131812Z', 'page': 0, 'producer': 'Antenna House PDF Output Library 6.6.1437 (Linux64); modified using iText 2.1.7 by 1T3XT', 'source': '/content/assignments/i843_1.pdf', 'start_index': 1537, 'subject': 'Instructions for Form 843, Claim for Refund and Request for Abatement', 'title': 'Instructions for Form 843 (Rev. December 2021)', 'total_pages': 5, 'trapped': ''}\n",
      "\n",
      "page_content='any, to which your claim or request relates. Check the box \n",
      "labeled “1040” to indicate other individual income tax returns \n",
      "(such as Form 1040-SR, Form 1040A, or Form 1040EZ). You \n",
      "must use Form 843 to request an abatement of the tax reported \n",
      "on the Form 4720. You cannot use Form 843 and you must use \n",
      "Form 4720 to request a refund of an overpayment computed on \n",
      "Form 4720, Part III, line 4.\n",
      "You can use Form 843 to request a refund or an \n",
      "abatement of interest, penalties, and additions to tax \n",
      "that relate to your income tax return. However, you \n",
      "cannot use Form 843 to request a refund or an abatement of \n",
      "income tax. If you are an employer, you cannot use it to request \n",
      "abatement of FICA tax, RRTA tax, or income tax withholding.\n",
      "Check the box labeled “Other (specify)” if your claim relates \n",
      "to any of the following.\n",
      "• Form 944, Employer's ANNUAL Federal Tax Return. Enter \n",
      "“944” (or “944-SS”) in the space provided.\n",
      "• Form CT-2, Employee Representative's Quarterly Railroad' metadata={'author': 'W:CAR:MP:FP', 'creationDate': \"D:20211217131108-05'00'\", 'creator': 'AH XSL Formatter V6.6 MR4 for Linux64 : 6.6.6.37929 (2019/03/11 12:35JST)', 'file_path': '/content/assignments/i843_1.pdf', 'format': 'PDF 1.7', 'keywords': '', 'modDate': 'D:20211223131812Z', 'page': 3, 'producer': 'Antenna House PDF Output Library 6.6.1437 (Linux64); modified using iText 2.1.7 by 1T3XT', 'source': '/content/assignments/i843_1.pdf', 'start_index': 3911, 'subject': 'Instructions for Form 843, Claim for Refund and Request for Abatement', 'title': 'Instructions for Form 843 (Rev. December 2021)', 'total_pages': 5, 'trapped': ''}\n",
      "\n",
      "page_content='for specific instructions.\n",
      "• A refund of excess tier 2 RRTA tax when you had more than \n",
      "one railroad employer for the year and your total tier 2 RRTA tax \n",
      "withheld or paid for the year was more than the tier 2 limit. See \n",
      "the instructions for line 3.\n",
      "• A refund or abatement of interest, penalties, or additions to \n",
      "tax, caused by certain IRS errors or delays, or certain erroneous \n",
      "written advice from the IRS.\n",
      "CAUTION\n",
      "!\n",
      "• A refund or abatement of a penalty or addition to tax due to \n",
      "reasonable cause or other reason (other than erroneous written \n",
      "advice provided by the IRS) allowed under the law. (This \n",
      "includes a request for an abatement or refund of the section \n",
      "6676 penalty for an erroneous claim for refund, where the claim \n",
      "was due to a reasonable cause. The penalty is assessed at 20% \n",
      "of the amount determined to be excessive.)\n",
      "• A refund of the penalty imposed under section 6715 for \n",
      "misuse of dyed fuel.\n",
      "• A refund or abatement of tier 1 RRTA tax for an employee \n",
      "representative.' metadata={'author': 'W:CAR:MP:FP', 'creationDate': \"D:20211217131108-05'00'\", 'creator': 'AH XSL Formatter V6.6 MR4 for Linux64 : 6.6.6.37929 (2019/03/11 12:35JST)', 'file_path': '/content/assignments/i843_1.pdf', 'format': 'PDF 1.7', 'keywords': '', 'modDate': 'D:20211223131812Z', 'page': 0, 'producer': 'Antenna House PDF Output Library 6.6.1437 (Linux64); modified using iText 2.1.7 by 1T3XT', 'source': '/content/assignments/i843_1.pdf', 'start_index': 2372, 'subject': 'Instructions for Form 843, Claim for Refund and Request for Abatement', 'title': 'Instructions for Form 843 (Rev. December 2021)', 'total_pages': 5, 'trapped': ''}\n",
      "\n",
      "page_content='insurance providers fee.\n",
      "for requests of a net interest \n",
      "rate of zero\n",
      "the service center where you filed your most \n",
      "recent return.\n",
      "as a nonresident alien \n",
      "requesting a refund of social \n",
      "security or Medicare taxes \n",
      "withheld in error from pay that \n",
      "is not subject to these taxes\n",
      "the address in Pub. 519 for nonresident \n",
      "aliens requesting such refunds and follow \n",
      "the specific instructions in Pub. 519 \n",
      "regarding the documents to be filed and the \n",
      "conditions under which the form can be filed.\n",
      "Note. If you have mailed the form to an address that has changed, the form \n",
      "will be forwarded.\n",
      "Paid Tax Return Preparer\n",
      "A paid tax return preparer who files Form 843 for you must sign \n",
      "the form and fill in the identifying information at the bottom of the \n",
      "form. The tax preparer must give you a copy of the completed \n",
      "Form 843 for your records. Someone who prepares your Form \n",
      "843 but does not charge you should not sign it.\n",
      "Specific Instructions\n",
      "Social security number. Enter your social security number' metadata={'author': 'W:CAR:MP:FP', 'creationDate': \"D:20211217131108-05'00'\", 'creator': 'AH XSL Formatter V6.6 MR4 for Linux64 : 6.6.6.37929 (2019/03/11 12:35JST)', 'file_path': '/content/assignments/i843_1.pdf', 'format': 'PDF 1.7', 'keywords': '', 'modDate': 'D:20211223131812Z', 'page': 2, 'producer': 'Antenna House PDF Output Library 6.6.1437 (Linux64); modified using iText 2.1.7 by 1T3XT', 'source': '/content/assignments/i843_1.pdf', 'start_index': 1611, 'subject': 'Instructions for Form 843, Claim for Refund and Request for Abatement', 'title': 'Instructions for Form 843 (Rev. December 2021)', 'total_pages': 5, 'trapped': ''}\n",
      "\n"
     ]
    }
   ],
   "source": [
    "for document in response[\"context\"]:\n",
    "  print(document)\n",
    "  print()"
   ]
  },
  {
   "cell_type": "code",
   "execution_count": null,
   "metadata": {
    "id": "EAJE7PHR_9IH"
   },
   "outputs": [],
   "source": []
  }
 ],
 "metadata": {
  "colab": {
   "collapsed_sections": [
    "Lcpo7tLoMfws",
    "ubzj_lSgpoUL",
    "_gAaPygbh3QC",
    "0uxINd7Zg--f",
    "9fXStOrEMtRL",
    "IHMHXUlAqt68",
    "77vAdaFUwl5T",
    "YGWJ3XGpwp3m",
    "TlDEb0I3MErC",
    "dFW5v6E7ZuuE",
    "hn6hHu0cjNEk",
    "AzKDaPymjxMU",
    "Rts83uh2X7zh",
    "tFLIPqEu-AFt",
    "l3WZXZJWVqee",
    "FmHtJOrwyT7o",
    "zcmhX90e523Y",
    "Qd8wcJ94zqJV"
   ],
   "provenance": []
  },
  "kernelspec": {
   "display_name": "Python 3 (ipykernel)",
   "language": "python",
   "name": "python3"
  },
  "language_info": {
   "codemirror_mode": {
    "name": "ipython",
    "version": 3
   },
   "file_extension": ".py",
   "mimetype": "text/x-python",
   "name": "python",
   "nbconvert_exporter": "python",
   "pygments_lexer": "ipython3",
   "version": "3.12.0"
  },
  "widgets": {
   "application/vnd.jupyter.widget-state+json": {
    "001540bff5c54eb8b42fb5d05664f8e0": {
     "model_module": "@jupyter-widgets/controls",
     "model_module_version": "1.5.0",
     "model_name": "DescriptionStyleModel",
     "state": {
      "_model_module": "@jupyter-widgets/controls",
      "_model_module_version": "1.5.0",
      "_model_name": "DescriptionStyleModel",
      "_view_count": null,
      "_view_module": "@jupyter-widgets/base",
      "_view_module_version": "1.2.0",
      "_view_name": "StyleView",
      "description_width": ""
     }
    },
    "024761a4340d4c1c825e9acef51d4067": {
     "model_module": "@jupyter-widgets/base",
     "model_module_version": "1.2.0",
     "model_name": "LayoutModel",
     "state": {
      "_model_module": "@jupyter-widgets/base",
      "_model_module_version": "1.2.0",
      "_model_name": "LayoutModel",
      "_view_count": null,
      "_view_module": "@jupyter-widgets/base",
      "_view_module_version": "1.2.0",
      "_view_name": "LayoutView",
      "align_content": null,
      "align_items": null,
      "align_self": null,
      "border": null,
      "bottom": null,
      "display": null,
      "flex": null,
      "flex_flow": null,
      "grid_area": null,
      "grid_auto_columns": null,
      "grid_auto_flow": null,
      "grid_auto_rows": null,
      "grid_column": null,
      "grid_gap": null,
      "grid_row": null,
      "grid_template_areas": null,
      "grid_template_columns": null,
      "grid_template_rows": null,
      "height": null,
      "justify_content": null,
      "justify_items": null,
      "left": null,
      "margin": null,
      "max_height": null,
      "max_width": null,
      "min_height": null,
      "min_width": null,
      "object_fit": null,
      "object_position": null,
      "order": null,
      "overflow": null,
      "overflow_x": null,
      "overflow_y": null,
      "padding": null,
      "right": null,
      "top": null,
      "visibility": null,
      "width": null
     }
    },
    "03a33bccae364eafa6f75c128b6b2af1": {
     "model_module": "@jupyter-widgets/controls",
     "model_module_version": "1.5.0",
     "model_name": "ProgressStyleModel",
     "state": {
      "_model_module": "@jupyter-widgets/controls",
      "_model_module_version": "1.5.0",
      "_model_name": "ProgressStyleModel",
      "_view_count": null,
      "_view_module": "@jupyter-widgets/base",
      "_view_module_version": "1.2.0",
      "_view_name": "StyleView",
      "bar_color": null,
      "description_width": ""
     }
    },
    "044abdd35d4f498fbf1189f7c9c2c4ee": {
     "model_module": "@jupyter-widgets/controls",
     "model_module_version": "1.5.0",
     "model_name": "FloatProgressModel",
     "state": {
      "_dom_classes": [],
      "_model_module": "@jupyter-widgets/controls",
      "_model_module_version": "1.5.0",
      "_model_name": "FloatProgressModel",
      "_view_count": null,
      "_view_module": "@jupyter-widgets/controls",
      "_view_module_version": "1.5.0",
      "_view_name": "ProgressView",
      "bar_style": "success",
      "description": "",
      "description_tooltip": null,
      "layout": "IPY_MODEL_a79ed0d7e4dd40a5a9aed59fa568107c",
      "max": 1477,
      "min": 0,
      "orientation": "horizontal",
      "style": "IPY_MODEL_03a33bccae364eafa6f75c128b6b2af1",
      "value": 1477
     }
    },
    "05aabec6da204c26be8b6a940b50dfe1": {
     "model_module": "@jupyter-widgets/controls",
     "model_module_version": "1.5.0",
     "model_name": "ProgressStyleModel",
     "state": {
      "_model_module": "@jupyter-widgets/controls",
      "_model_module_version": "1.5.0",
      "_model_name": "ProgressStyleModel",
      "_view_count": null,
      "_view_module": "@jupyter-widgets/base",
      "_view_module_version": "1.2.0",
      "_view_name": "StyleView",
      "bar_color": null,
      "description_width": ""
     }
    },
    "08a2d34eaeb140d7b06704d5645c8f93": {
     "model_module": "@jupyter-widgets/controls",
     "model_module_version": "1.5.0",
     "model_name": "HTMLModel",
     "state": {
      "_dom_classes": [],
      "_model_module": "@jupyter-widgets/controls",
      "_model_module_version": "1.5.0",
      "_model_name": "HTMLModel",
      "_view_count": null,
      "_view_module": "@jupyter-widgets/controls",
      "_view_module_version": "1.5.0",
      "_view_name": "HTMLView",
      "description": "",
      "description_tooltip": null,
      "layout": "IPY_MODEL_d5d0c9e51b904234a4ff0f6ea7657606",
      "placeholder": "​",
      "style": "IPY_MODEL_ea0640c7c5004b34b12bf7c149cd13a1",
      "value": "2_Dense/config.json: 100%"
     }
    },
    "08d60f590e8747c19b14cfff22db38d0": {
     "model_module": "@jupyter-widgets/controls",
     "model_module_version": "1.5.0",
     "model_name": "HTMLModel",
     "state": {
      "_dom_classes": [],
      "_model_module": "@jupyter-widgets/controls",
      "_model_module_version": "1.5.0",
      "_model_name": "HTMLModel",
      "_view_count": null,
      "_view_module": "@jupyter-widgets/controls",
      "_view_module_version": "1.5.0",
      "_view_name": "HTMLView",
      "description": "",
      "description_tooltip": null,
      "layout": "IPY_MODEL_19baddc6aaea4d14a523ca822b54d024",
      "placeholder": "​",
      "style": "IPY_MODEL_3229213964434d14ae91168648255b43",
      "value": "config.json: 100%"
     }
    },
    "0a3d1c2cfb4e4802aac2cbe2990e3d84": {
     "model_module": "@jupyter-widgets/base",
     "model_module_version": "1.2.0",
     "model_name": "LayoutModel",
     "state": {
      "_model_module": "@jupyter-widgets/base",
      "_model_module_version": "1.2.0",
      "_model_name": "LayoutModel",
      "_view_count": null,
      "_view_module": "@jupyter-widgets/base",
      "_view_module_version": "1.2.0",
      "_view_name": "LayoutView",
      "align_content": null,
      "align_items": null,
      "align_self": null,
      "border": null,
      "bottom": null,
      "display": null,
      "flex": null,
      "flex_flow": null,
      "grid_area": null,
      "grid_auto_columns": null,
      "grid_auto_flow": null,
      "grid_auto_rows": null,
      "grid_column": null,
      "grid_gap": null,
      "grid_row": null,
      "grid_template_areas": null,
      "grid_template_columns": null,
      "grid_template_rows": null,
      "height": null,
      "justify_content": null,
      "justify_items": null,
      "left": null,
      "margin": null,
      "max_height": null,
      "max_width": null,
      "min_height": null,
      "min_width": null,
      "object_fit": null,
      "object_position": null,
      "order": null,
      "overflow": null,
      "overflow_x": null,
      "overflow_y": null,
      "padding": null,
      "right": null,
      "top": null,
      "visibility": null,
      "width": null
     }
    },
    "0bc9bbbfe963417580241dbfeed45cfd": {
     "model_module": "@jupyter-widgets/controls",
     "model_module_version": "1.5.0",
     "model_name": "ProgressStyleModel",
     "state": {
      "_model_module": "@jupyter-widgets/controls",
      "_model_module_version": "1.5.0",
      "_model_name": "ProgressStyleModel",
      "_view_count": null,
      "_view_module": "@jupyter-widgets/base",
      "_view_module_version": "1.2.0",
      "_view_name": "StyleView",
      "bar_color": null,
      "description_width": ""
     }
    },
    "0cec6c707bac4dd29e8f7c91656416ac": {
     "model_module": "@jupyter-widgets/controls",
     "model_module_version": "1.5.0",
     "model_name": "HBoxModel",
     "state": {
      "_dom_classes": [],
      "_model_module": "@jupyter-widgets/controls",
      "_model_module_version": "1.5.0",
      "_model_name": "HBoxModel",
      "_view_count": null,
      "_view_module": "@jupyter-widgets/controls",
      "_view_module_version": "1.5.0",
      "_view_name": "HBoxView",
      "box_style": "",
      "children": [
       "IPY_MODEL_08d60f590e8747c19b14cfff22db38d0",
       "IPY_MODEL_8d8d3ab4d58a486ebbef9d8acd826d11",
       "IPY_MODEL_9c8816e2eec0411ca8e98684e0d0cb4d"
      ],
      "layout": "IPY_MODEL_be3c676c31d04095b35ccc62eefe5282"
     }
    },
    "0f9a39fcd4284f36872c8bc1ef411dc8": {
     "model_module": "@jupyter-widgets/base",
     "model_module_version": "1.2.0",
     "model_name": "LayoutModel",
     "state": {
      "_model_module": "@jupyter-widgets/base",
      "_model_module_version": "1.2.0",
      "_model_name": "LayoutModel",
      "_view_count": null,
      "_view_module": "@jupyter-widgets/base",
      "_view_module_version": "1.2.0",
      "_view_name": "LayoutView",
      "align_content": null,
      "align_items": null,
      "align_self": null,
      "border": null,
      "bottom": null,
      "display": null,
      "flex": null,
      "flex_flow": null,
      "grid_area": null,
      "grid_auto_columns": null,
      "grid_auto_flow": null,
      "grid_auto_rows": null,
      "grid_column": null,
      "grid_gap": null,
      "grid_row": null,
      "grid_template_areas": null,
      "grid_template_columns": null,
      "grid_template_rows": null,
      "height": null,
      "justify_content": null,
      "justify_items": null,
      "left": null,
      "margin": null,
      "max_height": null,
      "max_width": null,
      "min_height": null,
      "min_width": null,
      "object_fit": null,
      "object_position": null,
      "order": null,
      "overflow": null,
      "overflow_x": null,
      "overflow_y": null,
      "padding": null,
      "right": null,
      "top": null,
      "visibility": null,
      "width": null
     }
    },
    "1733eb6f9089464793abcb9d4f3e7eaa": {
     "model_module": "@jupyter-widgets/controls",
     "model_module_version": "1.5.0",
     "model_name": "DescriptionStyleModel",
     "state": {
      "_model_module": "@jupyter-widgets/controls",
      "_model_module_version": "1.5.0",
      "_model_name": "DescriptionStyleModel",
      "_view_count": null,
      "_view_module": "@jupyter-widgets/base",
      "_view_module_version": "1.2.0",
      "_view_name": "StyleView",
      "description_width": ""
     }
    },
    "18a9f408cf1f43218d5c727df5afbe0c": {
     "model_module": "@jupyter-widgets/controls",
     "model_module_version": "1.5.0",
     "model_name": "ProgressStyleModel",
     "state": {
      "_model_module": "@jupyter-widgets/controls",
      "_model_module_version": "1.5.0",
      "_model_name": "ProgressStyleModel",
      "_view_count": null,
      "_view_module": "@jupyter-widgets/base",
      "_view_module_version": "1.2.0",
      "_view_name": "StyleView",
      "bar_color": null,
      "description_width": ""
     }
    },
    "19baddc6aaea4d14a523ca822b54d024": {
     "model_module": "@jupyter-widgets/base",
     "model_module_version": "1.2.0",
     "model_name": "LayoutModel",
     "state": {
      "_model_module": "@jupyter-widgets/base",
      "_model_module_version": "1.2.0",
      "_model_name": "LayoutModel",
      "_view_count": null,
      "_view_module": "@jupyter-widgets/base",
      "_view_module_version": "1.2.0",
      "_view_name": "LayoutView",
      "align_content": null,
      "align_items": null,
      "align_self": null,
      "border": null,
      "bottom": null,
      "display": null,
      "flex": null,
      "flex_flow": null,
      "grid_area": null,
      "grid_auto_columns": null,
      "grid_auto_flow": null,
      "grid_auto_rows": null,
      "grid_column": null,
      "grid_gap": null,
      "grid_row": null,
      "grid_template_areas": null,
      "grid_template_columns": null,
      "grid_template_rows": null,
      "height": null,
      "justify_content": null,
      "justify_items": null,
      "left": null,
      "margin": null,
      "max_height": null,
      "max_width": null,
      "min_height": null,
      "min_width": null,
      "object_fit": null,
      "object_position": null,
      "order": null,
      "overflow": null,
      "overflow_x": null,
      "overflow_y": null,
      "padding": null,
      "right": null,
      "top": null,
      "visibility": null,
      "width": null
     }
    },
    "19ed51a9a7464176a6da753a5cc55871": {
     "model_module": "@jupyter-widgets/base",
     "model_module_version": "1.2.0",
     "model_name": "LayoutModel",
     "state": {
      "_model_module": "@jupyter-widgets/base",
      "_model_module_version": "1.2.0",
      "_model_name": "LayoutModel",
      "_view_count": null,
      "_view_module": "@jupyter-widgets/base",
      "_view_module_version": "1.2.0",
      "_view_name": "LayoutView",
      "align_content": null,
      "align_items": null,
      "align_self": null,
      "border": null,
      "bottom": null,
      "display": null,
      "flex": null,
      "flex_flow": null,
      "grid_area": null,
      "grid_auto_columns": null,
      "grid_auto_flow": null,
      "grid_auto_rows": null,
      "grid_column": null,
      "grid_gap": null,
      "grid_row": null,
      "grid_template_areas": null,
      "grid_template_columns": null,
      "grid_template_rows": null,
      "height": null,
      "justify_content": null,
      "justify_items": null,
      "left": null,
      "margin": null,
      "max_height": null,
      "max_width": null,
      "min_height": null,
      "min_width": null,
      "object_fit": null,
      "object_position": null,
      "order": null,
      "overflow": null,
      "overflow_x": null,
      "overflow_y": null,
      "padding": null,
      "right": null,
      "top": null,
      "visibility": null,
      "width": null
     }
    },
    "1b6166950abb48b1bfd2c6a357eec6af": {
     "model_module": "@jupyter-widgets/base",
     "model_module_version": "1.2.0",
     "model_name": "LayoutModel",
     "state": {
      "_model_module": "@jupyter-widgets/base",
      "_model_module_version": "1.2.0",
      "_model_name": "LayoutModel",
      "_view_count": null,
      "_view_module": "@jupyter-widgets/base",
      "_view_module_version": "1.2.0",
      "_view_name": "LayoutView",
      "align_content": null,
      "align_items": null,
      "align_self": null,
      "border": null,
      "bottom": null,
      "display": null,
      "flex": null,
      "flex_flow": null,
      "grid_area": null,
      "grid_auto_columns": null,
      "grid_auto_flow": null,
      "grid_auto_rows": null,
      "grid_column": null,
      "grid_gap": null,
      "grid_row": null,
      "grid_template_areas": null,
      "grid_template_columns": null,
      "grid_template_rows": null,
      "height": null,
      "justify_content": null,
      "justify_items": null,
      "left": null,
      "margin": null,
      "max_height": null,
      "max_width": null,
      "min_height": null,
      "min_width": null,
      "object_fit": null,
      "object_position": null,
      "order": null,
      "overflow": null,
      "overflow_x": null,
      "overflow_y": null,
      "padding": null,
      "right": null,
      "top": null,
      "visibility": null,
      "width": null
     }
    },
    "1c0c499291c1416d85e8dd0ef25fa430": {
     "model_module": "@jupyter-widgets/base",
     "model_module_version": "1.2.0",
     "model_name": "LayoutModel",
     "state": {
      "_model_module": "@jupyter-widgets/base",
      "_model_module_version": "1.2.0",
      "_model_name": "LayoutModel",
      "_view_count": null,
      "_view_module": "@jupyter-widgets/base",
      "_view_module_version": "1.2.0",
      "_view_name": "LayoutView",
      "align_content": null,
      "align_items": null,
      "align_self": null,
      "border": null,
      "bottom": null,
      "display": null,
      "flex": null,
      "flex_flow": null,
      "grid_area": null,
      "grid_auto_columns": null,
      "grid_auto_flow": null,
      "grid_auto_rows": null,
      "grid_column": null,
      "grid_gap": null,
      "grid_row": null,
      "grid_template_areas": null,
      "grid_template_columns": null,
      "grid_template_rows": null,
      "height": null,
      "justify_content": null,
      "justify_items": null,
      "left": null,
      "margin": null,
      "max_height": null,
      "max_width": null,
      "min_height": null,
      "min_width": null,
      "object_fit": null,
      "object_position": null,
      "order": null,
      "overflow": null,
      "overflow_x": null,
      "overflow_y": null,
      "padding": null,
      "right": null,
      "top": null,
      "visibility": null,
      "width": null
     }
    },
    "1fd787b6631a4204bbceb75880b13cd9": {
     "model_module": "@jupyter-widgets/base",
     "model_module_version": "1.2.0",
     "model_name": "LayoutModel",
     "state": {
      "_model_module": "@jupyter-widgets/base",
      "_model_module_version": "1.2.0",
      "_model_name": "LayoutModel",
      "_view_count": null,
      "_view_module": "@jupyter-widgets/base",
      "_view_module_version": "1.2.0",
      "_view_name": "LayoutView",
      "align_content": null,
      "align_items": null,
      "align_self": null,
      "border": null,
      "bottom": null,
      "display": null,
      "flex": null,
      "flex_flow": null,
      "grid_area": null,
      "grid_auto_columns": null,
      "grid_auto_flow": null,
      "grid_auto_rows": null,
      "grid_column": null,
      "grid_gap": null,
      "grid_row": null,
      "grid_template_areas": null,
      "grid_template_columns": null,
      "grid_template_rows": null,
      "height": null,
      "justify_content": null,
      "justify_items": null,
      "left": null,
      "margin": null,
      "max_height": null,
      "max_width": null,
      "min_height": null,
      "min_width": null,
      "object_fit": null,
      "object_position": null,
      "order": null,
      "overflow": null,
      "overflow_x": null,
      "overflow_y": null,
      "padding": null,
      "right": null,
      "top": null,
      "visibility": null,
      "width": null
     }
    },
    "20b8b71939704908967a38ae957cd4c9": {
     "model_module": "@jupyter-widgets/controls",
     "model_module_version": "1.5.0",
     "model_name": "HTMLModel",
     "state": {
      "_dom_classes": [],
      "_model_module": "@jupyter-widgets/controls",
      "_model_module_version": "1.5.0",
      "_model_name": "HTMLModel",
      "_view_count": null,
      "_view_module": "@jupyter-widgets/controls",
      "_view_module_version": "1.5.0",
      "_view_name": "HTMLView",
      "description": "",
      "description_tooltip": null,
      "layout": "IPY_MODEL_76ab29726dfb438782705dcdd903db45",
      "placeholder": "​",
      "style": "IPY_MODEL_b49f7d93481944b68e34c37cc9b8facb",
      "value": " 461/461 [00:00&lt;00:00, 21.8kB/s]"
     }
    },
    "20c9ea21c2bd421fa7b312f25b4ed8cb": {
     "model_module": "@jupyter-widgets/base",
     "model_module_version": "1.2.0",
     "model_name": "LayoutModel",
     "state": {
      "_model_module": "@jupyter-widgets/base",
      "_model_module_version": "1.2.0",
      "_model_name": "LayoutModel",
      "_view_count": null,
      "_view_module": "@jupyter-widgets/base",
      "_view_module_version": "1.2.0",
      "_view_name": "LayoutView",
      "align_content": null,
      "align_items": null,
      "align_self": null,
      "border": null,
      "bottom": null,
      "display": null,
      "flex": null,
      "flex_flow": null,
      "grid_area": null,
      "grid_auto_columns": null,
      "grid_auto_flow": null,
      "grid_auto_rows": null,
      "grid_column": null,
      "grid_gap": null,
      "grid_row": null,
      "grid_template_areas": null,
      "grid_template_columns": null,
      "grid_template_rows": null,
      "height": null,
      "justify_content": null,
      "justify_items": null,
      "left": null,
      "margin": null,
      "max_height": null,
      "max_width": null,
      "min_height": null,
      "min_width": null,
      "object_fit": null,
      "object_position": null,
      "order": null,
      "overflow": null,
      "overflow_x": null,
      "overflow_y": null,
      "padding": null,
      "right": null,
      "top": null,
      "visibility": null,
      "width": null
     }
    },
    "228f1f5c78204880bdef9cc9a9fde4fb": {
     "model_module": "@jupyter-widgets/controls",
     "model_module_version": "1.5.0",
     "model_name": "DescriptionStyleModel",
     "state": {
      "_model_module": "@jupyter-widgets/controls",
      "_model_module_version": "1.5.0",
      "_model_name": "DescriptionStyleModel",
      "_view_count": null,
      "_view_module": "@jupyter-widgets/base",
      "_view_module_version": "1.2.0",
      "_view_name": "StyleView",
      "description_width": ""
     }
    },
    "22b817c61f6748698b4439239d03ce72": {
     "model_module": "@jupyter-widgets/controls",
     "model_module_version": "1.5.0",
     "model_name": "DescriptionStyleModel",
     "state": {
      "_model_module": "@jupyter-widgets/controls",
      "_model_module_version": "1.5.0",
      "_model_name": "DescriptionStyleModel",
      "_view_count": null,
      "_view_module": "@jupyter-widgets/base",
      "_view_module_version": "1.2.0",
      "_view_name": "StyleView",
      "description_width": ""
     }
    },
    "262df48061d14359825e815b46d02f6a": {
     "model_module": "@jupyter-widgets/controls",
     "model_module_version": "1.5.0",
     "model_name": "DescriptionStyleModel",
     "state": {
      "_model_module": "@jupyter-widgets/controls",
      "_model_module_version": "1.5.0",
      "_model_name": "DescriptionStyleModel",
      "_view_count": null,
      "_view_module": "@jupyter-widgets/base",
      "_view_module_version": "1.2.0",
      "_view_name": "StyleView",
      "description_width": ""
     }
    },
    "2abd5a5543524b58a69f91d5151a8287": {
     "model_module": "@jupyter-widgets/base",
     "model_module_version": "1.2.0",
     "model_name": "LayoutModel",
     "state": {
      "_model_module": "@jupyter-widgets/base",
      "_model_module_version": "1.2.0",
      "_model_name": "LayoutModel",
      "_view_count": null,
      "_view_module": "@jupyter-widgets/base",
      "_view_module_version": "1.2.0",
      "_view_name": "LayoutView",
      "align_content": null,
      "align_items": null,
      "align_self": null,
      "border": null,
      "bottom": null,
      "display": null,
      "flex": null,
      "flex_flow": null,
      "grid_area": null,
      "grid_auto_columns": null,
      "grid_auto_flow": null,
      "grid_auto_rows": null,
      "grid_column": null,
      "grid_gap": null,
      "grid_row": null,
      "grid_template_areas": null,
      "grid_template_columns": null,
      "grid_template_rows": null,
      "height": null,
      "justify_content": null,
      "justify_items": null,
      "left": null,
      "margin": null,
      "max_height": null,
      "max_width": null,
      "min_height": null,
      "min_width": null,
      "object_fit": null,
      "object_position": null,
      "order": null,
      "overflow": null,
      "overflow_x": null,
      "overflow_y": null,
      "padding": null,
      "right": null,
      "top": null,
      "visibility": null,
      "width": null
     }
    },
    "2c0c74a5700f4525a21c218ce5dee0a9": {
     "model_module": "@jupyter-widgets/base",
     "model_module_version": "1.2.0",
     "model_name": "LayoutModel",
     "state": {
      "_model_module": "@jupyter-widgets/base",
      "_model_module_version": "1.2.0",
      "_model_name": "LayoutModel",
      "_view_count": null,
      "_view_module": "@jupyter-widgets/base",
      "_view_module_version": "1.2.0",
      "_view_name": "LayoutView",
      "align_content": null,
      "align_items": null,
      "align_self": null,
      "border": null,
      "bottom": null,
      "display": null,
      "flex": null,
      "flex_flow": null,
      "grid_area": null,
      "grid_auto_columns": null,
      "grid_auto_flow": null,
      "grid_auto_rows": null,
      "grid_column": null,
      "grid_gap": null,
      "grid_row": null,
      "grid_template_areas": null,
      "grid_template_columns": null,
      "grid_template_rows": null,
      "height": null,
      "justify_content": null,
      "justify_items": null,
      "left": null,
      "margin": null,
      "max_height": null,
      "max_width": null,
      "min_height": null,
      "min_width": null,
      "object_fit": null,
      "object_position": null,
      "order": null,
      "overflow": null,
      "overflow_x": null,
      "overflow_y": null,
      "padding": null,
      "right": null,
      "top": null,
      "visibility": null,
      "width": null
     }
    },
    "2d25ef31102b47b3a0f6eee2f76e4c28": {
     "model_module": "@jupyter-widgets/controls",
     "model_module_version": "1.5.0",
     "model_name": "HTMLModel",
     "state": {
      "_dom_classes": [],
      "_model_module": "@jupyter-widgets/controls",
      "_model_module_version": "1.5.0",
      "_model_name": "HTMLModel",
      "_view_count": null,
      "_view_module": "@jupyter-widgets/controls",
      "_view_module_version": "1.5.0",
      "_view_name": "HTMLView",
      "description": "",
      "description_tooltip": null,
      "layout": "IPY_MODEL_c321fe7c60b944d893cb1a8c30a9862e",
      "placeholder": "​",
      "style": "IPY_MODEL_b82a72429e2e4473bbba50d0b02ce5e8",
      "value": "1_Pooling/config.json: 100%"
     }
    },
    "2e1fdd4df0284b458c2267b7d581d132": {
     "model_module": "@jupyter-widgets/controls",
     "model_module_version": "1.5.0",
     "model_name": "FloatProgressModel",
     "state": {
      "_dom_classes": [],
      "_model_module": "@jupyter-widgets/controls",
      "_model_module_version": "1.5.0",
      "_model_name": "FloatProgressModel",
      "_view_count": null,
      "_view_module": "@jupyter-widgets/controls",
      "_view_module_version": "1.5.0",
      "_view_name": "ProgressView",
      "bar_style": "success",
      "description": "",
      "description_tooltip": null,
      "layout": "IPY_MODEL_eba17aff9981444dab0162703cb18696",
      "max": 2201,
      "min": 0,
      "orientation": "horizontal",
      "style": "IPY_MODEL_37c60077d7914ab1867f3243c77680e9",
      "value": 2201
     }
    },
    "2f5a7a0e14c5466682a3f26ea1293f6f": {
     "model_module": "@jupyter-widgets/base",
     "model_module_version": "1.2.0",
     "model_name": "LayoutModel",
     "state": {
      "_model_module": "@jupyter-widgets/base",
      "_model_module_version": "1.2.0",
      "_model_name": "LayoutModel",
      "_view_count": null,
      "_view_module": "@jupyter-widgets/base",
      "_view_module_version": "1.2.0",
      "_view_name": "LayoutView",
      "align_content": null,
      "align_items": null,
      "align_self": null,
      "border": null,
      "bottom": null,
      "display": null,
      "flex": null,
      "flex_flow": null,
      "grid_area": null,
      "grid_auto_columns": null,
      "grid_auto_flow": null,
      "grid_auto_rows": null,
      "grid_column": null,
      "grid_gap": null,
      "grid_row": null,
      "grid_template_areas": null,
      "grid_template_columns": null,
      "grid_template_rows": null,
      "height": null,
      "justify_content": null,
      "justify_items": null,
      "left": null,
      "margin": null,
      "max_height": null,
      "max_width": null,
      "min_height": null,
      "min_width": null,
      "object_fit": null,
      "object_position": null,
      "order": null,
      "overflow": null,
      "overflow_x": null,
      "overflow_y": null,
      "padding": null,
      "right": null,
      "top": null,
      "visibility": null,
      "width": null
     }
    },
    "3229213964434d14ae91168648255b43": {
     "model_module": "@jupyter-widgets/controls",
     "model_module_version": "1.5.0",
     "model_name": "DescriptionStyleModel",
     "state": {
      "_model_module": "@jupyter-widgets/controls",
      "_model_module_version": "1.5.0",
      "_model_name": "DescriptionStyleModel",
      "_view_count": null,
      "_view_module": "@jupyter-widgets/base",
      "_view_module_version": "1.2.0",
      "_view_name": "StyleView",
      "description_width": ""
     }
    },
    "359e2add6ec440a18ca683b04e0fa0cd": {
     "model_module": "@jupyter-widgets/base",
     "model_module_version": "1.2.0",
     "model_name": "LayoutModel",
     "state": {
      "_model_module": "@jupyter-widgets/base",
      "_model_module_version": "1.2.0",
      "_model_name": "LayoutModel",
      "_view_count": null,
      "_view_module": "@jupyter-widgets/base",
      "_view_module_version": "1.2.0",
      "_view_name": "LayoutView",
      "align_content": null,
      "align_items": null,
      "align_self": null,
      "border": null,
      "bottom": null,
      "display": null,
      "flex": null,
      "flex_flow": null,
      "grid_area": null,
      "grid_auto_columns": null,
      "grid_auto_flow": null,
      "grid_auto_rows": null,
      "grid_column": null,
      "grid_gap": null,
      "grid_row": null,
      "grid_template_areas": null,
      "grid_template_columns": null,
      "grid_template_rows": null,
      "height": null,
      "justify_content": null,
      "justify_items": null,
      "left": null,
      "margin": null,
      "max_height": null,
      "max_width": null,
      "min_height": null,
      "min_width": null,
      "object_fit": null,
      "object_position": null,
      "order": null,
      "overflow": null,
      "overflow_x": null,
      "overflow_y": null,
      "padding": null,
      "right": null,
      "top": null,
      "visibility": null,
      "width": null
     }
    },
    "362c45e3743a477699cd8cf535aec5ec": {
     "model_module": "@jupyter-widgets/controls",
     "model_module_version": "1.5.0",
     "model_name": "ProgressStyleModel",
     "state": {
      "_model_module": "@jupyter-widgets/controls",
      "_model_module_version": "1.5.0",
      "_model_name": "ProgressStyleModel",
      "_view_count": null,
      "_view_module": "@jupyter-widgets/base",
      "_view_module_version": "1.2.0",
      "_view_name": "StyleView",
      "bar_color": null,
      "description_width": ""
     }
    },
    "37c60077d7914ab1867f3243c77680e9": {
     "model_module": "@jupyter-widgets/controls",
     "model_module_version": "1.5.0",
     "model_name": "ProgressStyleModel",
     "state": {
      "_model_module": "@jupyter-widgets/controls",
      "_model_module_version": "1.5.0",
      "_model_name": "ProgressStyleModel",
      "_view_count": null,
      "_view_module": "@jupyter-widgets/base",
      "_view_module_version": "1.2.0",
      "_view_name": "StyleView",
      "bar_color": null,
      "description_width": ""
     }
    },
    "394559d123d54193af4625e623270ac4": {
     "model_module": "@jupyter-widgets/controls",
     "model_module_version": "1.5.0",
     "model_name": "HTMLModel",
     "state": {
      "_dom_classes": [],
      "_model_module": "@jupyter-widgets/controls",
      "_model_module_version": "1.5.0",
      "_model_name": "HTMLModel",
      "_view_count": null,
      "_view_module": "@jupyter-widgets/controls",
      "_view_module_version": "1.5.0",
      "_view_name": "HTMLView",
      "description": "",
      "description_tooltip": null,
      "layout": "IPY_MODEL_5299c8052d084cac97c8f58771b5bfc7",
      "placeholder": "​",
      "style": "IPY_MODEL_e37a2533806744d2afa1085f8c2f9ef6",
      "value": " 66.3k/66.3k [00:00&lt;00:00, 3.46MB/s]"
     }
    },
    "3d37ac92181a4082b46487541b63ebc7": {
     "model_module": "@jupyter-widgets/controls",
     "model_module_version": "1.5.0",
     "model_name": "HBoxModel",
     "state": {
      "_dom_classes": [],
      "_model_module": "@jupyter-widgets/controls",
      "_model_module_version": "1.5.0",
      "_model_name": "HBoxModel",
      "_view_count": null,
      "_view_module": "@jupyter-widgets/controls",
      "_view_module_version": "1.5.0",
      "_view_name": "HBoxView",
      "box_style": "",
      "children": [
       "IPY_MODEL_08a2d34eaeb140d7b06704d5645c8f93",
       "IPY_MODEL_8af6cbc580254b4f919068fec803b09f",
       "IPY_MODEL_74519a8218564e2dbbcd1f6043384df4"
      ],
      "layout": "IPY_MODEL_1c0c499291c1416d85e8dd0ef25fa430"
     }
    },
    "3fa84845b312452c892645104dc52e2e": {
     "model_module": "@jupyter-widgets/base",
     "model_module_version": "1.2.0",
     "model_name": "LayoutModel",
     "state": {
      "_model_module": "@jupyter-widgets/base",
      "_model_module_version": "1.2.0",
      "_model_name": "LayoutModel",
      "_view_count": null,
      "_view_module": "@jupyter-widgets/base",
      "_view_module_version": "1.2.0",
      "_view_name": "LayoutView",
      "align_content": null,
      "align_items": null,
      "align_self": null,
      "border": null,
      "bottom": null,
      "display": null,
      "flex": null,
      "flex_flow": null,
      "grid_area": null,
      "grid_auto_columns": null,
      "grid_auto_flow": null,
      "grid_auto_rows": null,
      "grid_column": null,
      "grid_gap": null,
      "grid_row": null,
      "grid_template_areas": null,
      "grid_template_columns": null,
      "grid_template_rows": null,
      "height": null,
      "justify_content": null,
      "justify_items": null,
      "left": null,
      "margin": null,
      "max_height": null,
      "max_width": null,
      "min_height": null,
      "min_width": null,
      "object_fit": null,
      "object_position": null,
      "order": null,
      "overflow": null,
      "overflow_x": null,
      "overflow_y": null,
      "padding": null,
      "right": null,
      "top": null,
      "visibility": null,
      "width": null
     }
    },
    "4031c835a9824a1a9a43eb2360818172": {
     "model_module": "@jupyter-widgets/controls",
     "model_module_version": "1.5.0",
     "model_name": "HTMLModel",
     "state": {
      "_dom_classes": [],
      "_model_module": "@jupyter-widgets/controls",
      "_model_module_version": "1.5.0",
      "_model_name": "HTMLModel",
      "_view_count": null,
      "_view_module": "@jupyter-widgets/controls",
      "_view_module_version": "1.5.0",
      "_view_name": "HTMLView",
      "description": "",
      "description_tooltip": null,
      "layout": "IPY_MODEL_1b6166950abb48b1bfd2c6a357eec6af",
      "placeholder": "​",
      "style": "IPY_MODEL_22b817c61f6748698b4439239d03ce72",
      "value": " 3.15M/3.15M [00:00&lt;00:00, 24.0MB/s]"
     }
    },
    "4103cec7e6ca45c0847effd0774ccb44": {
     "model_module": "@jupyter-widgets/controls",
     "model_module_version": "1.5.0",
     "model_name": "DescriptionStyleModel",
     "state": {
      "_model_module": "@jupyter-widgets/controls",
      "_model_module_version": "1.5.0",
      "_model_name": "DescriptionStyleModel",
      "_view_count": null,
      "_view_module": "@jupyter-widgets/base",
      "_view_module_version": "1.2.0",
      "_view_name": "StyleView",
      "description_width": ""
     }
    },
    "4166657fb4924b36940195c9df764ce4": {
     "model_module": "@jupyter-widgets/controls",
     "model_module_version": "1.5.0",
     "model_name": "ProgressStyleModel",
     "state": {
      "_model_module": "@jupyter-widgets/controls",
      "_model_module_version": "1.5.0",
      "_model_name": "ProgressStyleModel",
      "_view_count": null,
      "_view_module": "@jupyter-widgets/base",
      "_view_module_version": "1.2.0",
      "_view_name": "StyleView",
      "bar_color": null,
      "description_width": ""
     }
    },
    "4218a5d87d6e4f6f9eef348f4021eff8": {
     "model_module": "@jupyter-widgets/controls",
     "model_module_version": "1.5.0",
     "model_name": "ProgressStyleModel",
     "state": {
      "_model_module": "@jupyter-widgets/controls",
      "_model_module_version": "1.5.0",
      "_model_name": "ProgressStyleModel",
      "_view_count": null,
      "_view_module": "@jupyter-widgets/base",
      "_view_module_version": "1.2.0",
      "_view_name": "StyleView",
      "bar_color": null,
      "description_width": ""
     }
    },
    "429b282d54814e18b9cbe36aae0c3b3e": {
     "model_module": "@jupyter-widgets/controls",
     "model_module_version": "1.5.0",
     "model_name": "DescriptionStyleModel",
     "state": {
      "_model_module": "@jupyter-widgets/controls",
      "_model_module_version": "1.5.0",
      "_model_name": "DescriptionStyleModel",
      "_view_count": null,
      "_view_module": "@jupyter-widgets/base",
      "_view_module_version": "1.2.0",
      "_view_name": "StyleView",
      "description_width": ""
     }
    },
    "442e82c112974dcfbe18c496b9b257af": {
     "model_module": "@jupyter-widgets/base",
     "model_module_version": "1.2.0",
     "model_name": "LayoutModel",
     "state": {
      "_model_module": "@jupyter-widgets/base",
      "_model_module_version": "1.2.0",
      "_model_name": "LayoutModel",
      "_view_count": null,
      "_view_module": "@jupyter-widgets/base",
      "_view_module_version": "1.2.0",
      "_view_name": "LayoutView",
      "align_content": null,
      "align_items": null,
      "align_self": null,
      "border": null,
      "bottom": null,
      "display": null,
      "flex": null,
      "flex_flow": null,
      "grid_area": null,
      "grid_auto_columns": null,
      "grid_auto_flow": null,
      "grid_auto_rows": null,
      "grid_column": null,
      "grid_gap": null,
      "grid_row": null,
      "grid_template_areas": null,
      "grid_template_columns": null,
      "grid_template_rows": null,
      "height": null,
      "justify_content": null,
      "justify_items": null,
      "left": null,
      "margin": null,
      "max_height": null,
      "max_width": null,
      "min_height": null,
      "min_width": null,
      "object_fit": null,
      "object_position": null,
      "order": null,
      "overflow": null,
      "overflow_x": null,
      "overflow_y": null,
      "padding": null,
      "right": null,
      "top": null,
      "visibility": null,
      "width": null
     }
    },
    "467179688af7451d9cce669a123422d9": {
     "model_module": "@jupyter-widgets/base",
     "model_module_version": "1.2.0",
     "model_name": "LayoutModel",
     "state": {
      "_model_module": "@jupyter-widgets/base",
      "_model_module_version": "1.2.0",
      "_model_name": "LayoutModel",
      "_view_count": null,
      "_view_module": "@jupyter-widgets/base",
      "_view_module_version": "1.2.0",
      "_view_name": "LayoutView",
      "align_content": null,
      "align_items": null,
      "align_self": null,
      "border": null,
      "bottom": null,
      "display": null,
      "flex": null,
      "flex_flow": null,
      "grid_area": null,
      "grid_auto_columns": null,
      "grid_auto_flow": null,
      "grid_auto_rows": null,
      "grid_column": null,
      "grid_gap": null,
      "grid_row": null,
      "grid_template_areas": null,
      "grid_template_columns": null,
      "grid_template_rows": null,
      "height": null,
      "justify_content": null,
      "justify_items": null,
      "left": null,
      "margin": null,
      "max_height": null,
      "max_width": null,
      "min_height": null,
      "min_width": null,
      "object_fit": null,
      "object_position": null,
      "order": null,
      "overflow": null,
      "overflow_x": null,
      "overflow_y": null,
      "padding": null,
      "right": null,
      "top": null,
      "visibility": null,
      "width": null
     }
    },
    "47202473b83949faaf25c012997a44c5": {
     "model_module": "@jupyter-widgets/controls",
     "model_module_version": "1.5.0",
     "model_name": "ProgressStyleModel",
     "state": {
      "_model_module": "@jupyter-widgets/controls",
      "_model_module_version": "1.5.0",
      "_model_name": "ProgressStyleModel",
      "_view_count": null,
      "_view_module": "@jupyter-widgets/base",
      "_view_module_version": "1.2.0",
      "_view_name": "StyleView",
      "bar_color": null,
      "description_width": ""
     }
    },
    "483d5bc7f8d54fe59de9d46682fa625b": {
     "model_module": "@jupyter-widgets/controls",
     "model_module_version": "1.5.0",
     "model_name": "DescriptionStyleModel",
     "state": {
      "_model_module": "@jupyter-widgets/controls",
      "_model_module_version": "1.5.0",
      "_model_name": "DescriptionStyleModel",
      "_view_count": null,
      "_view_module": "@jupyter-widgets/base",
      "_view_module_version": "1.2.0",
      "_view_name": "StyleView",
      "description_width": ""
     }
    },
    "49d0838b61f4499f90c47a3e609bbbc0": {
     "model_module": "@jupyter-widgets/controls",
     "model_module_version": "1.5.0",
     "model_name": "HTMLModel",
     "state": {
      "_dom_classes": [],
      "_model_module": "@jupyter-widgets/controls",
      "_model_module_version": "1.5.0",
      "_model_name": "HTMLModel",
      "_view_count": null,
      "_view_module": "@jupyter-widgets/controls",
      "_view_module_version": "1.5.0",
      "_view_name": "HTMLView",
      "description": "",
      "description_tooltip": null,
      "layout": "IPY_MODEL_ac7c4b3c8e8b4e95b51ad78ca0305535",
      "placeholder": "​",
      "style": "IPY_MODEL_9e6e4b923b5a4255a6b565d02ebb49e6",
      "value": " 1.34G/1.34G [00:42&lt;00:00, 26.8MB/s]"
     }
    },
    "4bd9ad43c5d342a4a25eab3c89f2ab52": {
     "model_module": "@jupyter-widgets/controls",
     "model_module_version": "1.5.0",
     "model_name": "FloatProgressModel",
     "state": {
      "_dom_classes": [],
      "_model_module": "@jupyter-widgets/controls",
      "_model_module_version": "1.5.0",
      "_model_name": "FloatProgressModel",
      "_view_count": null,
      "_view_module": "@jupyter-widgets/controls",
      "_view_module_version": "1.5.0",
      "_view_name": "ProgressView",
      "bar_style": "success",
      "description": "",
      "description_tooltip": null,
      "layout": "IPY_MODEL_8d7621f4c3cf4fe08e89caa50646db3b",
      "max": 270,
      "min": 0,
      "orientation": "horizontal",
      "style": "IPY_MODEL_05aabec6da204c26be8b6a940b50dfe1",
      "value": 270
     }
    },
    "4c9b04c0480c4cd98887a365df8301b1": {
     "model_module": "@jupyter-widgets/controls",
     "model_module_version": "1.5.0",
     "model_name": "HTMLModel",
     "state": {
      "_dom_classes": [],
      "_model_module": "@jupyter-widgets/controls",
      "_model_module_version": "1.5.0",
      "_model_name": "HTMLModel",
      "_view_count": null,
      "_view_module": "@jupyter-widgets/controls",
      "_view_module_version": "1.5.0",
      "_view_name": "HTMLView",
      "description": "",
      "description_tooltip": null,
      "layout": "IPY_MODEL_5c8f86c51e574422bc2455c5c2334a8d",
      "placeholder": "​",
      "style": "IPY_MODEL_1733eb6f9089464793abcb9d4f3e7eaa",
      "value": "spiece.model: 100%"
     }
    },
    "4cb1cec4ace745d08a0b255f75e17040": {
     "model_module": "@jupyter-widgets/base",
     "model_module_version": "1.2.0",
     "model_name": "LayoutModel",
     "state": {
      "_model_module": "@jupyter-widgets/base",
      "_model_module_version": "1.2.0",
      "_model_name": "LayoutModel",
      "_view_count": null,
      "_view_module": "@jupyter-widgets/base",
      "_view_module_version": "1.2.0",
      "_view_name": "LayoutView",
      "align_content": null,
      "align_items": null,
      "align_self": null,
      "border": null,
      "bottom": null,
      "display": null,
      "flex": null,
      "flex_flow": null,
      "grid_area": null,
      "grid_auto_columns": null,
      "grid_auto_flow": null,
      "grid_auto_rows": null,
      "grid_column": null,
      "grid_gap": null,
      "grid_row": null,
      "grid_template_areas": null,
      "grid_template_columns": null,
      "grid_template_rows": null,
      "height": null,
      "justify_content": null,
      "justify_items": null,
      "left": null,
      "margin": null,
      "max_height": null,
      "max_width": null,
      "min_height": null,
      "min_width": null,
      "object_fit": null,
      "object_position": null,
      "order": null,
      "overflow": null,
      "overflow_x": null,
      "overflow_y": null,
      "padding": null,
      "right": null,
      "top": null,
      "visibility": null,
      "width": null
     }
    },
    "4cc4bf8faf5f477eb64eb5eeb6a03213": {
     "model_module": "@jupyter-widgets/controls",
     "model_module_version": "1.5.0",
     "model_name": "ProgressStyleModel",
     "state": {
      "_model_module": "@jupyter-widgets/controls",
      "_model_module_version": "1.5.0",
      "_model_name": "ProgressStyleModel",
      "_view_count": null,
      "_view_module": "@jupyter-widgets/base",
      "_view_module_version": "1.2.0",
      "_view_name": "StyleView",
      "bar_color": null,
      "description_width": ""
     }
    },
    "4dab046a48354f1daef1776a69746bea": {
     "model_module": "@jupyter-widgets/controls",
     "model_module_version": "1.5.0",
     "model_name": "HTMLModel",
     "state": {
      "_dom_classes": [],
      "_model_module": "@jupyter-widgets/controls",
      "_model_module_version": "1.5.0",
      "_model_name": "HTMLModel",
      "_view_count": null,
      "_view_module": "@jupyter-widgets/controls",
      "_view_module_version": "1.5.0",
      "_view_name": "HTMLView",
      "description": "",
      "description_tooltip": null,
      "layout": "IPY_MODEL_5d4fa315a5094b7cbe6d6bfaf0a4e7a9",
      "placeholder": "​",
      "style": "IPY_MODEL_228f1f5c78204880bdef9cc9a9fde4fb",
      "value": "tokenizer.json: 100%"
     }
    },
    "4fb2d3ca89e74c4b824b23f7673b5fb6": {
     "model_module": "@jupyter-widgets/controls",
     "model_module_version": "1.5.0",
     "model_name": "HTMLModel",
     "state": {
      "_dom_classes": [],
      "_model_module": "@jupyter-widgets/controls",
      "_model_module_version": "1.5.0",
      "_model_name": "HTMLModel",
      "_view_count": null,
      "_view_module": "@jupyter-widgets/controls",
      "_view_module_version": "1.5.0",
      "_view_name": "HTMLView",
      "description": "",
      "description_tooltip": null,
      "layout": "IPY_MODEL_813215ec914842d08bdf7af559c56204",
      "placeholder": "​",
      "style": "IPY_MODEL_483d5bc7f8d54fe59de9d46682fa625b",
      "value": " 1.48k/1.48k [00:00&lt;00:00, 58.0kB/s]"
     }
    },
    "51a207e2d6fd4089bce26d64d2b73696": {
     "model_module": "@jupyter-widgets/base",
     "model_module_version": "1.2.0",
     "model_name": "LayoutModel",
     "state": {
      "_model_module": "@jupyter-widgets/base",
      "_model_module_version": "1.2.0",
      "_model_name": "LayoutModel",
      "_view_count": null,
      "_view_module": "@jupyter-widgets/base",
      "_view_module_version": "1.2.0",
      "_view_name": "LayoutView",
      "align_content": null,
      "align_items": null,
      "align_self": null,
      "border": null,
      "bottom": null,
      "display": null,
      "flex": null,
      "flex_flow": null,
      "grid_area": null,
      "grid_auto_columns": null,
      "grid_auto_flow": null,
      "grid_auto_rows": null,
      "grid_column": null,
      "grid_gap": null,
      "grid_row": null,
      "grid_template_areas": null,
      "grid_template_columns": null,
      "grid_template_rows": null,
      "height": null,
      "justify_content": null,
      "justify_items": null,
      "left": null,
      "margin": null,
      "max_height": null,
      "max_width": null,
      "min_height": null,
      "min_width": null,
      "object_fit": null,
      "object_position": null,
      "order": null,
      "overflow": null,
      "overflow_x": null,
      "overflow_y": null,
      "padding": null,
      "right": null,
      "top": null,
      "visibility": null,
      "width": null
     }
    },
    "521bb441f9d444dba091a1b99cd76f5b": {
     "model_module": "@jupyter-widgets/base",
     "model_module_version": "1.2.0",
     "model_name": "LayoutModel",
     "state": {
      "_model_module": "@jupyter-widgets/base",
      "_model_module_version": "1.2.0",
      "_model_name": "LayoutModel",
      "_view_count": null,
      "_view_module": "@jupyter-widgets/base",
      "_view_module_version": "1.2.0",
      "_view_name": "LayoutView",
      "align_content": null,
      "align_items": null,
      "align_self": null,
      "border": null,
      "bottom": null,
      "display": null,
      "flex": null,
      "flex_flow": null,
      "grid_area": null,
      "grid_auto_columns": null,
      "grid_auto_flow": null,
      "grid_auto_rows": null,
      "grid_column": null,
      "grid_gap": null,
      "grid_row": null,
      "grid_template_areas": null,
      "grid_template_columns": null,
      "grid_template_rows": null,
      "height": null,
      "justify_content": null,
      "justify_items": null,
      "left": null,
      "margin": null,
      "max_height": null,
      "max_width": null,
      "min_height": null,
      "min_width": null,
      "object_fit": null,
      "object_position": null,
      "order": null,
      "overflow": null,
      "overflow_x": null,
      "overflow_y": null,
      "padding": null,
      "right": null,
      "top": null,
      "visibility": null,
      "width": null
     }
    },
    "5299c8052d084cac97c8f58771b5bfc7": {
     "model_module": "@jupyter-widgets/base",
     "model_module_version": "1.2.0",
     "model_name": "LayoutModel",
     "state": {
      "_model_module": "@jupyter-widgets/base",
      "_model_module_version": "1.2.0",
      "_model_name": "LayoutModel",
      "_view_count": null,
      "_view_module": "@jupyter-widgets/base",
      "_view_module_version": "1.2.0",
      "_view_name": "LayoutView",
      "align_content": null,
      "align_items": null,
      "align_self": null,
      "border": null,
      "bottom": null,
      "display": null,
      "flex": null,
      "flex_flow": null,
      "grid_area": null,
      "grid_auto_columns": null,
      "grid_auto_flow": null,
      "grid_auto_rows": null,
      "grid_column": null,
      "grid_gap": null,
      "grid_row": null,
      "grid_template_areas": null,
      "grid_template_columns": null,
      "grid_template_rows": null,
      "height": null,
      "justify_content": null,
      "justify_items": null,
      "left": null,
      "margin": null,
      "max_height": null,
      "max_width": null,
      "min_height": null,
      "min_width": null,
      "object_fit": null,
      "object_position": null,
      "order": null,
      "overflow": null,
      "overflow_x": null,
      "overflow_y": null,
      "padding": null,
      "right": null,
      "top": null,
      "visibility": null,
      "width": null
     }
    },
    "53e6b491027b4e10adaf20bf9f40f357": {
     "model_module": "@jupyter-widgets/controls",
     "model_module_version": "1.5.0",
     "model_name": "HTMLModel",
     "state": {
      "_dom_classes": [],
      "_model_module": "@jupyter-widgets/controls",
      "_model_module_version": "1.5.0",
      "_model_name": "HTMLModel",
      "_view_count": null,
      "_view_module": "@jupyter-widgets/controls",
      "_view_module_version": "1.5.0",
      "_view_name": "HTMLView",
      "description": "",
      "description_tooltip": null,
      "layout": "IPY_MODEL_ea6ee59cd3454007be911ce05ad6160c",
      "placeholder": "​",
      "style": "IPY_MODEL_6a229ab0366b403596c954865e552dc4",
      "value": " 2.20k/2.20k [00:00&lt;00:00, 152kB/s]"
     }
    },
    "54cba639fdc94eef8af6609582e7864c": {
     "model_module": "@jupyter-widgets/base",
     "model_module_version": "1.2.0",
     "model_name": "LayoutModel",
     "state": {
      "_model_module": "@jupyter-widgets/base",
      "_model_module_version": "1.2.0",
      "_model_name": "LayoutModel",
      "_view_count": null,
      "_view_module": "@jupyter-widgets/base",
      "_view_module_version": "1.2.0",
      "_view_name": "LayoutView",
      "align_content": null,
      "align_items": null,
      "align_self": null,
      "border": null,
      "bottom": null,
      "display": null,
      "flex": null,
      "flex_flow": null,
      "grid_area": null,
      "grid_auto_columns": null,
      "grid_auto_flow": null,
      "grid_auto_rows": null,
      "grid_column": null,
      "grid_gap": null,
      "grid_row": null,
      "grid_template_areas": null,
      "grid_template_columns": null,
      "grid_template_rows": null,
      "height": null,
      "justify_content": null,
      "justify_items": null,
      "left": null,
      "margin": null,
      "max_height": null,
      "max_width": null,
      "min_height": null,
      "min_width": null,
      "object_fit": null,
      "object_position": null,
      "order": null,
      "overflow": null,
      "overflow_x": null,
      "overflow_y": null,
      "padding": null,
      "right": null,
      "top": null,
      "visibility": null,
      "width": null
     }
    },
    "591ddb3c58b44c44afb7444e4b7c0396": {
     "model_module": "@jupyter-widgets/controls",
     "model_module_version": "1.5.0",
     "model_name": "HTMLModel",
     "state": {
      "_dom_classes": [],
      "_model_module": "@jupyter-widgets/controls",
      "_model_module_version": "1.5.0",
      "_model_name": "HTMLModel",
      "_view_count": null,
      "_view_module": "@jupyter-widgets/controls",
      "_view_module_version": "1.5.0",
      "_view_name": "HTMLView",
      "description": "",
      "description_tooltip": null,
      "layout": "IPY_MODEL_720e54e3841c4037b125c34a52a15976",
      "placeholder": "​",
      "style": "IPY_MODEL_262df48061d14359825e815b46d02f6a",
      "value": "config_sentence_transformers.json: 100%"
     }
    },
    "5c8f86c51e574422bc2455c5c2334a8d": {
     "model_module": "@jupyter-widgets/base",
     "model_module_version": "1.2.0",
     "model_name": "LayoutModel",
     "state": {
      "_model_module": "@jupyter-widgets/base",
      "_model_module_version": "1.2.0",
      "_model_name": "LayoutModel",
      "_view_count": null,
      "_view_module": "@jupyter-widgets/base",
      "_view_module_version": "1.2.0",
      "_view_name": "LayoutView",
      "align_content": null,
      "align_items": null,
      "align_self": null,
      "border": null,
      "bottom": null,
      "display": null,
      "flex": null,
      "flex_flow": null,
      "grid_area": null,
      "grid_auto_columns": null,
      "grid_auto_flow": null,
      "grid_auto_rows": null,
      "grid_column": null,
      "grid_gap": null,
      "grid_row": null,
      "grid_template_areas": null,
      "grid_template_columns": null,
      "grid_template_rows": null,
      "height": null,
      "justify_content": null,
      "justify_items": null,
      "left": null,
      "margin": null,
      "max_height": null,
      "max_width": null,
      "min_height": null,
      "min_width": null,
      "object_fit": null,
      "object_position": null,
      "order": null,
      "overflow": null,
      "overflow_x": null,
      "overflow_y": null,
      "padding": null,
      "right": null,
      "top": null,
      "visibility": null,
      "width": null
     }
    },
    "5d4fa315a5094b7cbe6d6bfaf0a4e7a9": {
     "model_module": "@jupyter-widgets/base",
     "model_module_version": "1.2.0",
     "model_name": "LayoutModel",
     "state": {
      "_model_module": "@jupyter-widgets/base",
      "_model_module_version": "1.2.0",
      "_model_name": "LayoutModel",
      "_view_count": null,
      "_view_module": "@jupyter-widgets/base",
      "_view_module_version": "1.2.0",
      "_view_name": "LayoutView",
      "align_content": null,
      "align_items": null,
      "align_self": null,
      "border": null,
      "bottom": null,
      "display": null,
      "flex": null,
      "flex_flow": null,
      "grid_area": null,
      "grid_auto_columns": null,
      "grid_auto_flow": null,
      "grid_auto_rows": null,
      "grid_column": null,
      "grid_gap": null,
      "grid_row": null,
      "grid_template_areas": null,
      "grid_template_columns": null,
      "grid_template_rows": null,
      "height": null,
      "justify_content": null,
      "justify_items": null,
      "left": null,
      "margin": null,
      "max_height": null,
      "max_width": null,
      "min_height": null,
      "min_width": null,
      "object_fit": null,
      "object_position": null,
      "order": null,
      "overflow": null,
      "overflow_x": null,
      "overflow_y": null,
      "padding": null,
      "right": null,
      "top": null,
      "visibility": null,
      "width": null
     }
    },
    "5e3b4d5679384a4d90e7c1a03d695350": {
     "model_module": "@jupyter-widgets/base",
     "model_module_version": "1.2.0",
     "model_name": "LayoutModel",
     "state": {
      "_model_module": "@jupyter-widgets/base",
      "_model_module_version": "1.2.0",
      "_model_name": "LayoutModel",
      "_view_count": null,
      "_view_module": "@jupyter-widgets/base",
      "_view_module_version": "1.2.0",
      "_view_name": "LayoutView",
      "align_content": null,
      "align_items": null,
      "align_self": null,
      "border": null,
      "bottom": null,
      "display": null,
      "flex": null,
      "flex_flow": null,
      "grid_area": null,
      "grid_auto_columns": null,
      "grid_auto_flow": null,
      "grid_auto_rows": null,
      "grid_column": null,
      "grid_gap": null,
      "grid_row": null,
      "grid_template_areas": null,
      "grid_template_columns": null,
      "grid_template_rows": null,
      "height": null,
      "justify_content": null,
      "justify_items": null,
      "left": null,
      "margin": null,
      "max_height": null,
      "max_width": null,
      "min_height": null,
      "min_width": null,
      "object_fit": null,
      "object_position": null,
      "order": null,
      "overflow": null,
      "overflow_x": null,
      "overflow_y": null,
      "padding": null,
      "right": null,
      "top": null,
      "visibility": null,
      "width": null
     }
    },
    "5f16bd745286438ca872426c316ec035": {
     "model_module": "@jupyter-widgets/base",
     "model_module_version": "1.2.0",
     "model_name": "LayoutModel",
     "state": {
      "_model_module": "@jupyter-widgets/base",
      "_model_module_version": "1.2.0",
      "_model_name": "LayoutModel",
      "_view_count": null,
      "_view_module": "@jupyter-widgets/base",
      "_view_module_version": "1.2.0",
      "_view_name": "LayoutView",
      "align_content": null,
      "align_items": null,
      "align_self": null,
      "border": null,
      "bottom": null,
      "display": null,
      "flex": null,
      "flex_flow": null,
      "grid_area": null,
      "grid_auto_columns": null,
      "grid_auto_flow": null,
      "grid_auto_rows": null,
      "grid_column": null,
      "grid_gap": null,
      "grid_row": null,
      "grid_template_areas": null,
      "grid_template_columns": null,
      "grid_template_rows": null,
      "height": null,
      "justify_content": null,
      "justify_items": null,
      "left": null,
      "margin": null,
      "max_height": null,
      "max_width": null,
      "min_height": null,
      "min_width": null,
      "object_fit": null,
      "object_position": null,
      "order": null,
      "overflow": null,
      "overflow_x": null,
      "overflow_y": null,
      "padding": null,
      "right": null,
      "top": null,
      "visibility": null,
      "width": null
     }
    },
    "5f21ba63c81a4cce917f5a0cbb7c8ebb": {
     "model_module": "@jupyter-widgets/controls",
     "model_module_version": "1.5.0",
     "model_name": "HBoxModel",
     "state": {
      "_dom_classes": [],
      "_model_module": "@jupyter-widgets/controls",
      "_model_module_version": "1.5.0",
      "_model_name": "HBoxModel",
      "_view_count": null,
      "_view_module": "@jupyter-widgets/controls",
      "_view_module_version": "1.5.0",
      "_view_name": "HBoxView",
      "box_style": "",
      "children": [
       "IPY_MODEL_d6cd12cf08b4451d91a1c1a75e19791b",
       "IPY_MODEL_d3a80478b3334017b25e1d07c66fc3fa",
       "IPY_MODEL_20b8b71939704908967a38ae957cd4c9"
      ],
      "layout": "IPY_MODEL_51a207e2d6fd4089bce26d64d2b73696"
     }
    },
    "5f317efdce23470bbb1613b625a8f5f6": {
     "model_module": "@jupyter-widgets/controls",
     "model_module_version": "1.5.0",
     "model_name": "FloatProgressModel",
     "state": {
      "_dom_classes": [],
      "_model_module": "@jupyter-widgets/controls",
      "_model_module_version": "1.5.0",
      "_model_name": "FloatProgressModel",
      "_view_count": null,
      "_view_module": "@jupyter-widgets/controls",
      "_view_module_version": "1.5.0",
      "_view_name": "ProgressView",
      "bar_style": "success",
      "description": "",
      "description_tooltip": null,
      "layout": "IPY_MODEL_b1a7aa68cdb14464a031ec92761fa4fd",
      "max": 791656,
      "min": 0,
      "orientation": "horizontal",
      "style": "IPY_MODEL_8f02186e7c414db2a47e9b4faf8cb032",
      "value": 791656
     }
    },
    "5fa7a73b9f55462c85d5dce8215003ce": {
     "model_module": "@jupyter-widgets/controls",
     "model_module_version": "1.5.0",
     "model_name": "HTMLModel",
     "state": {
      "_dom_classes": [],
      "_model_module": "@jupyter-widgets/controls",
      "_model_module_version": "1.5.0",
      "_model_name": "HTMLModel",
      "_view_count": null,
      "_view_module": "@jupyter-widgets/controls",
      "_view_module_version": "1.5.0",
      "_view_name": "HTMLView",
      "description": "",
      "description_tooltip": null,
      "layout": "IPY_MODEL_ce3f10c898434bbe8d886f4c770b93bc",
      "placeholder": "​",
      "style": "IPY_MODEL_4103cec7e6ca45c0847effd0774ccb44",
      "value": "README.md: 100%"
     }
    },
    "600accf61f2d48b5bc703a26cddc5b53": {
     "model_module": "@jupyter-widgets/controls",
     "model_module_version": "1.5.0",
     "model_name": "DescriptionStyleModel",
     "state": {
      "_model_module": "@jupyter-widgets/controls",
      "_model_module_version": "1.5.0",
      "_model_name": "DescriptionStyleModel",
      "_view_count": null,
      "_view_module": "@jupyter-widgets/base",
      "_view_module_version": "1.2.0",
      "_view_name": "StyleView",
      "description_width": ""
     }
    },
    "605d444908be4c1085f086909e9ce267": {
     "model_module": "@jupyter-widgets/controls",
     "model_module_version": "1.5.0",
     "model_name": "HTMLModel",
     "state": {
      "_dom_classes": [],
      "_model_module": "@jupyter-widgets/controls",
      "_model_module_version": "1.5.0",
      "_model_name": "HTMLModel",
      "_view_count": null,
      "_view_module": "@jupyter-widgets/controls",
      "_view_module_version": "1.5.0",
      "_view_name": "HTMLView",
      "description": "",
      "description_tooltip": null,
      "layout": "IPY_MODEL_19ed51a9a7464176a6da753a5cc55871",
      "placeholder": "​",
      "style": "IPY_MODEL_cb9be6696ada41019ec695ae1248874f",
      "value": " 270/270 [00:00&lt;00:00, 9.45kB/s]"
     }
    },
    "6a229ab0366b403596c954865e552dc4": {
     "model_module": "@jupyter-widgets/controls",
     "model_module_version": "1.5.0",
     "model_name": "DescriptionStyleModel",
     "state": {
      "_model_module": "@jupyter-widgets/controls",
      "_model_module_version": "1.5.0",
      "_model_name": "DescriptionStyleModel",
      "_view_count": null,
      "_view_module": "@jupyter-widgets/base",
      "_view_module_version": "1.2.0",
      "_view_name": "StyleView",
      "description_width": ""
     }
    },
    "6a52c64b819f47ee94bf1586e0be8ab7": {
     "model_module": "@jupyter-widgets/controls",
     "model_module_version": "1.5.0",
     "model_name": "HTMLModel",
     "state": {
      "_dom_classes": [],
      "_model_module": "@jupyter-widgets/controls",
      "_model_module_version": "1.5.0",
      "_model_name": "HTMLModel",
      "_view_count": null,
      "_view_module": "@jupyter-widgets/controls",
      "_view_module_version": "1.5.0",
      "_view_name": "HTMLView",
      "description": "",
      "description_tooltip": null,
      "layout": "IPY_MODEL_1fd787b6631a4204bbceb75880b13cd9",
      "placeholder": "​",
      "style": "IPY_MODEL_bbfde65a250648e3b23bfb4e0935a686",
      "value": "tokenizer_config.json: 100%"
     }
    },
    "6ddad7791c934129aa99138d65df638a": {
     "model_module": "@jupyter-widgets/controls",
     "model_module_version": "1.5.0",
     "model_name": "FloatProgressModel",
     "state": {
      "_dom_classes": [],
      "_model_module": "@jupyter-widgets/controls",
      "_model_module_version": "1.5.0",
      "_model_name": "FloatProgressModel",
      "_view_count": null,
      "_view_module": "@jupyter-widgets/controls",
      "_view_module_version": "1.5.0",
      "_view_name": "ProgressView",
      "bar_style": "success",
      "description": "",
      "description_tooltip": null,
      "layout": "IPY_MODEL_8794677c6ecf4ad2b2ab6c9a59e2c665",
      "max": 3146603,
      "min": 0,
      "orientation": "horizontal",
      "style": "IPY_MODEL_4cc4bf8faf5f477eb64eb5eeb6a03213",
      "value": 3146603
     }
    },
    "6e293752516845f6957152cff821274e": {
     "model_module": "@jupyter-widgets/base",
     "model_module_version": "1.2.0",
     "model_name": "LayoutModel",
     "state": {
      "_model_module": "@jupyter-widgets/base",
      "_model_module_version": "1.2.0",
      "_model_name": "LayoutModel",
      "_view_count": null,
      "_view_module": "@jupyter-widgets/base",
      "_view_module_version": "1.2.0",
      "_view_name": "LayoutView",
      "align_content": null,
      "align_items": null,
      "align_self": null,
      "border": null,
      "bottom": null,
      "display": null,
      "flex": null,
      "flex_flow": null,
      "grid_area": null,
      "grid_auto_columns": null,
      "grid_auto_flow": null,
      "grid_auto_rows": null,
      "grid_column": null,
      "grid_gap": null,
      "grid_row": null,
      "grid_template_areas": null,
      "grid_template_columns": null,
      "grid_template_rows": null,
      "height": null,
      "justify_content": null,
      "justify_items": null,
      "left": null,
      "margin": null,
      "max_height": null,
      "max_width": null,
      "min_height": null,
      "min_width": null,
      "object_fit": null,
      "object_position": null,
      "order": null,
      "overflow": null,
      "overflow_x": null,
      "overflow_y": null,
      "padding": null,
      "right": null,
      "top": null,
      "visibility": null,
      "width": null
     }
    },
    "7004d057dcc54add96484db36905e023": {
     "model_module": "@jupyter-widgets/base",
     "model_module_version": "1.2.0",
     "model_name": "LayoutModel",
     "state": {
      "_model_module": "@jupyter-widgets/base",
      "_model_module_version": "1.2.0",
      "_model_name": "LayoutModel",
      "_view_count": null,
      "_view_module": "@jupyter-widgets/base",
      "_view_module_version": "1.2.0",
      "_view_name": "LayoutView",
      "align_content": null,
      "align_items": null,
      "align_self": null,
      "border": null,
      "bottom": null,
      "display": null,
      "flex": null,
      "flex_flow": null,
      "grid_area": null,
      "grid_auto_columns": null,
      "grid_auto_flow": null,
      "grid_auto_rows": null,
      "grid_column": null,
      "grid_gap": null,
      "grid_row": null,
      "grid_template_areas": null,
      "grid_template_columns": null,
      "grid_template_rows": null,
      "height": null,
      "justify_content": null,
      "justify_items": null,
      "left": null,
      "margin": null,
      "max_height": null,
      "max_width": null,
      "min_height": null,
      "min_width": null,
      "object_fit": null,
      "object_position": null,
      "order": null,
      "overflow": null,
      "overflow_x": null,
      "overflow_y": null,
      "padding": null,
      "right": null,
      "top": null,
      "visibility": null,
      "width": null
     }
    },
    "70b461aa29194fb5af43c4e6654cd129": {
     "model_module": "@jupyter-widgets/controls",
     "model_module_version": "1.5.0",
     "model_name": "HBoxModel",
     "state": {
      "_dom_classes": [],
      "_model_module": "@jupyter-widgets/controls",
      "_model_module_version": "1.5.0",
      "_model_name": "HBoxModel",
      "_view_count": null,
      "_view_module": "@jupyter-widgets/controls",
      "_view_module_version": "1.5.0",
      "_view_name": "HBoxView",
      "box_style": "",
      "children": [
       "IPY_MODEL_fd15409a864942839da6ad7164b8ada5",
       "IPY_MODEL_6ddad7791c934129aa99138d65df638a",
       "IPY_MODEL_4031c835a9824a1a9a43eb2360818172"
      ],
      "layout": "IPY_MODEL_8a5c08f91bac452fa9f5dd95aad9f8ad"
     }
    },
    "720e54e3841c4037b125c34a52a15976": {
     "model_module": "@jupyter-widgets/base",
     "model_module_version": "1.2.0",
     "model_name": "LayoutModel",
     "state": {
      "_model_module": "@jupyter-widgets/base",
      "_model_module_version": "1.2.0",
      "_model_name": "LayoutModel",
      "_view_count": null,
      "_view_module": "@jupyter-widgets/base",
      "_view_module_version": "1.2.0",
      "_view_name": "LayoutView",
      "align_content": null,
      "align_items": null,
      "align_self": null,
      "border": null,
      "bottom": null,
      "display": null,
      "flex": null,
      "flex_flow": null,
      "grid_area": null,
      "grid_auto_columns": null,
      "grid_auto_flow": null,
      "grid_auto_rows": null,
      "grid_column": null,
      "grid_gap": null,
      "grid_row": null,
      "grid_template_areas": null,
      "grid_template_columns": null,
      "grid_template_rows": null,
      "height": null,
      "justify_content": null,
      "justify_items": null,
      "left": null,
      "margin": null,
      "max_height": null,
      "max_width": null,
      "min_height": null,
      "min_width": null,
      "object_fit": null,
      "object_position": null,
      "order": null,
      "overflow": null,
      "overflow_x": null,
      "overflow_y": null,
      "padding": null,
      "right": null,
      "top": null,
      "visibility": null,
      "width": null
     }
    },
    "74519a8218564e2dbbcd1f6043384df4": {
     "model_module": "@jupyter-widgets/controls",
     "model_module_version": "1.5.0",
     "model_name": "HTMLModel",
     "state": {
      "_dom_classes": [],
      "_model_module": "@jupyter-widgets/controls",
      "_model_module_version": "1.5.0",
      "_model_name": "HTMLModel",
      "_view_count": null,
      "_view_module": "@jupyter-widgets/controls",
      "_view_module_version": "1.5.0",
      "_view_name": "HTMLView",
      "description": "",
      "description_tooltip": null,
      "layout": "IPY_MODEL_2f5a7a0e14c5466682a3f26ea1293f6f",
      "placeholder": "​",
      "style": "IPY_MODEL_c8cf8c09de28459db518c18851439c65",
      "value": " 116/116 [00:00&lt;00:00, 5.00kB/s]"
     }
    },
    "76ab29726dfb438782705dcdd903db45": {
     "model_module": "@jupyter-widgets/base",
     "model_module_version": "1.2.0",
     "model_name": "LayoutModel",
     "state": {
      "_model_module": "@jupyter-widgets/base",
      "_model_module_version": "1.2.0",
      "_model_name": "LayoutModel",
      "_view_count": null,
      "_view_module": "@jupyter-widgets/base",
      "_view_module_version": "1.2.0",
      "_view_name": "LayoutView",
      "align_content": null,
      "align_items": null,
      "align_self": null,
      "border": null,
      "bottom": null,
      "display": null,
      "flex": null,
      "flex_flow": null,
      "grid_area": null,
      "grid_auto_columns": null,
      "grid_auto_flow": null,
      "grid_auto_rows": null,
      "grid_column": null,
      "grid_gap": null,
      "grid_row": null,
      "grid_template_areas": null,
      "grid_template_columns": null,
      "grid_template_rows": null,
      "height": null,
      "justify_content": null,
      "justify_items": null,
      "left": null,
      "margin": null,
      "max_height": null,
      "max_width": null,
      "min_height": null,
      "min_width": null,
      "object_fit": null,
      "object_position": null,
      "order": null,
      "overflow": null,
      "overflow_x": null,
      "overflow_y": null,
      "padding": null,
      "right": null,
      "top": null,
      "visibility": null,
      "width": null
     }
    },
    "77bf440289d94036bfcffe7745fcf281": {
     "model_module": "@jupyter-widgets/controls",
     "model_module_version": "1.5.0",
     "model_name": "FloatProgressModel",
     "state": {
      "_dom_classes": [],
      "_model_module": "@jupyter-widgets/controls",
      "_model_module_version": "1.5.0",
      "_model_name": "FloatProgressModel",
      "_view_count": null,
      "_view_module": "@jupyter-widgets/controls",
      "_view_module_version": "1.5.0",
      "_view_name": "ProgressView",
      "bar_style": "success",
      "description": "",
      "description_tooltip": null,
      "layout": "IPY_MODEL_2abd5a5543524b58a69f91d5151a8287",
      "max": 122,
      "min": 0,
      "orientation": "horizontal",
      "style": "IPY_MODEL_0bc9bbbfe963417580241dbfeed45cfd",
      "value": 122
     }
    },
    "7c0d07e51208420ba0e5a2cc786569f9": {
     "model_module": "@jupyter-widgets/base",
     "model_module_version": "1.2.0",
     "model_name": "LayoutModel",
     "state": {
      "_model_module": "@jupyter-widgets/base",
      "_model_module_version": "1.2.0",
      "_model_name": "LayoutModel",
      "_view_count": null,
      "_view_module": "@jupyter-widgets/base",
      "_view_module_version": "1.2.0",
      "_view_name": "LayoutView",
      "align_content": null,
      "align_items": null,
      "align_self": null,
      "border": null,
      "bottom": null,
      "display": null,
      "flex": null,
      "flex_flow": null,
      "grid_area": null,
      "grid_auto_columns": null,
      "grid_auto_flow": null,
      "grid_auto_rows": null,
      "grid_column": null,
      "grid_gap": null,
      "grid_row": null,
      "grid_template_areas": null,
      "grid_template_columns": null,
      "grid_template_rows": null,
      "height": null,
      "justify_content": null,
      "justify_items": null,
      "left": null,
      "margin": null,
      "max_height": null,
      "max_width": null,
      "min_height": null,
      "min_width": null,
      "object_fit": null,
      "object_position": null,
      "order": null,
      "overflow": null,
      "overflow_x": null,
      "overflow_y": null,
      "padding": null,
      "right": null,
      "top": null,
      "visibility": null,
      "width": null
     }
    },
    "7f7de85b6806498bbf4e9bba395e9b34": {
     "model_module": "@jupyter-widgets/controls",
     "model_module_version": "1.5.0",
     "model_name": "FloatProgressModel",
     "state": {
      "_dom_classes": [],
      "_model_module": "@jupyter-widgets/controls",
      "_model_module_version": "1.5.0",
      "_model_name": "FloatProgressModel",
      "_view_count": null,
      "_view_module": "@jupyter-widgets/controls",
      "_view_module_version": "1.5.0",
      "_view_name": "ProgressView",
      "bar_style": "success",
      "description": "",
      "description_tooltip": null,
      "layout": "IPY_MODEL_f7dfcd45380b499fb4cd56f7ef177f63",
      "max": 2407,
      "min": 0,
      "orientation": "horizontal",
      "style": "IPY_MODEL_18a9f408cf1f43218d5c727df5afbe0c",
      "value": 2407
     }
    },
    "813215ec914842d08bdf7af559c56204": {
     "model_module": "@jupyter-widgets/base",
     "model_module_version": "1.2.0",
     "model_name": "LayoutModel",
     "state": {
      "_model_module": "@jupyter-widgets/base",
      "_model_module_version": "1.2.0",
      "_model_name": "LayoutModel",
      "_view_count": null,
      "_view_module": "@jupyter-widgets/base",
      "_view_module_version": "1.2.0",
      "_view_name": "LayoutView",
      "align_content": null,
      "align_items": null,
      "align_self": null,
      "border": null,
      "bottom": null,
      "display": null,
      "flex": null,
      "flex_flow": null,
      "grid_area": null,
      "grid_auto_columns": null,
      "grid_auto_flow": null,
      "grid_auto_rows": null,
      "grid_column": null,
      "grid_gap": null,
      "grid_row": null,
      "grid_template_areas": null,
      "grid_template_columns": null,
      "grid_template_rows": null,
      "height": null,
      "justify_content": null,
      "justify_items": null,
      "left": null,
      "margin": null,
      "max_height": null,
      "max_width": null,
      "min_height": null,
      "min_width": null,
      "object_fit": null,
      "object_position": null,
      "order": null,
      "overflow": null,
      "overflow_x": null,
      "overflow_y": null,
      "padding": null,
      "right": null,
      "top": null,
      "visibility": null,
      "width": null
     }
    },
    "8419749062134e51b52f1c6c2414f78e": {
     "model_module": "@jupyter-widgets/base",
     "model_module_version": "1.2.0",
     "model_name": "LayoutModel",
     "state": {
      "_model_module": "@jupyter-widgets/base",
      "_model_module_version": "1.2.0",
      "_model_name": "LayoutModel",
      "_view_count": null,
      "_view_module": "@jupyter-widgets/base",
      "_view_module_version": "1.2.0",
      "_view_name": "LayoutView",
      "align_content": null,
      "align_items": null,
      "align_self": null,
      "border": null,
      "bottom": null,
      "display": null,
      "flex": null,
      "flex_flow": null,
      "grid_area": null,
      "grid_auto_columns": null,
      "grid_auto_flow": null,
      "grid_auto_rows": null,
      "grid_column": null,
      "grid_gap": null,
      "grid_row": null,
      "grid_template_areas": null,
      "grid_template_columns": null,
      "grid_template_rows": null,
      "height": null,
      "justify_content": null,
      "justify_items": null,
      "left": null,
      "margin": null,
      "max_height": null,
      "max_width": null,
      "min_height": null,
      "min_width": null,
      "object_fit": null,
      "object_position": null,
      "order": null,
      "overflow": null,
      "overflow_x": null,
      "overflow_y": null,
      "padding": null,
      "right": null,
      "top": null,
      "visibility": null,
      "width": null
     }
    },
    "844ee5b27571471bbc8a0a90afd2cf38": {
     "model_module": "@jupyter-widgets/controls",
     "model_module_version": "1.5.0",
     "model_name": "FloatProgressModel",
     "state": {
      "_dom_classes": [],
      "_model_module": "@jupyter-widgets/controls",
      "_model_module_version": "1.5.0",
      "_model_name": "FloatProgressModel",
      "_view_count": null,
      "_view_module": "@jupyter-widgets/controls",
      "_view_module_version": "1.5.0",
      "_view_name": "ProgressView",
      "bar_style": "success",
      "description": "",
      "description_tooltip": null,
      "layout": "IPY_MODEL_ba2b3125b00441df9d26a360baf65bd6",
      "max": 2422360,
      "min": 0,
      "orientation": "horizontal",
      "style": "IPY_MODEL_47202473b83949faaf25c012997a44c5",
      "value": 2422360
     }
    },
    "8794677c6ecf4ad2b2ab6c9a59e2c665": {
     "model_module": "@jupyter-widgets/base",
     "model_module_version": "1.2.0",
     "model_name": "LayoutModel",
     "state": {
      "_model_module": "@jupyter-widgets/base",
      "_model_module_version": "1.2.0",
      "_model_name": "LayoutModel",
      "_view_count": null,
      "_view_module": "@jupyter-widgets/base",
      "_view_module_version": "1.2.0",
      "_view_name": "LayoutView",
      "align_content": null,
      "align_items": null,
      "align_self": null,
      "border": null,
      "bottom": null,
      "display": null,
      "flex": null,
      "flex_flow": null,
      "grid_area": null,
      "grid_auto_columns": null,
      "grid_auto_flow": null,
      "grid_auto_rows": null,
      "grid_column": null,
      "grid_gap": null,
      "grid_row": null,
      "grid_template_areas": null,
      "grid_template_columns": null,
      "grid_template_rows": null,
      "height": null,
      "justify_content": null,
      "justify_items": null,
      "left": null,
      "margin": null,
      "max_height": null,
      "max_width": null,
      "min_height": null,
      "min_width": null,
      "object_fit": null,
      "object_position": null,
      "order": null,
      "overflow": null,
      "overflow_x": null,
      "overflow_y": null,
      "padding": null,
      "right": null,
      "top": null,
      "visibility": null,
      "width": null
     }
    },
    "8a5c08f91bac452fa9f5dd95aad9f8ad": {
     "model_module": "@jupyter-widgets/base",
     "model_module_version": "1.2.0",
     "model_name": "LayoutModel",
     "state": {
      "_model_module": "@jupyter-widgets/base",
      "_model_module_version": "1.2.0",
      "_model_name": "LayoutModel",
      "_view_count": null,
      "_view_module": "@jupyter-widgets/base",
      "_view_module_version": "1.2.0",
      "_view_name": "LayoutView",
      "align_content": null,
      "align_items": null,
      "align_self": null,
      "border": null,
      "bottom": null,
      "display": null,
      "flex": null,
      "flex_flow": null,
      "grid_area": null,
      "grid_auto_columns": null,
      "grid_auto_flow": null,
      "grid_auto_rows": null,
      "grid_column": null,
      "grid_gap": null,
      "grid_row": null,
      "grid_template_areas": null,
      "grid_template_columns": null,
      "grid_template_rows": null,
      "height": null,
      "justify_content": null,
      "justify_items": null,
      "left": null,
      "margin": null,
      "max_height": null,
      "max_width": null,
      "min_height": null,
      "min_width": null,
      "object_fit": null,
      "object_position": null,
      "order": null,
      "overflow": null,
      "overflow_x": null,
      "overflow_y": null,
      "padding": null,
      "right": null,
      "top": null,
      "visibility": null,
      "width": null
     }
    },
    "8af6cbc580254b4f919068fec803b09f": {
     "model_module": "@jupyter-widgets/controls",
     "model_module_version": "1.5.0",
     "model_name": "FloatProgressModel",
     "state": {
      "_dom_classes": [],
      "_model_module": "@jupyter-widgets/controls",
      "_model_module_version": "1.5.0",
      "_model_name": "FloatProgressModel",
      "_view_count": null,
      "_view_module": "@jupyter-widgets/controls",
      "_view_module_version": "1.5.0",
      "_view_name": "ProgressView",
      "bar_style": "success",
      "description": "",
      "description_tooltip": null,
      "layout": "IPY_MODEL_442e82c112974dcfbe18c496b9b257af",
      "max": 116,
      "min": 0,
      "orientation": "horizontal",
      "style": "IPY_MODEL_362c45e3743a477699cd8cf535aec5ec",
      "value": 116
     }
    },
    "8d7621f4c3cf4fe08e89caa50646db3b": {
     "model_module": "@jupyter-widgets/base",
     "model_module_version": "1.2.0",
     "model_name": "LayoutModel",
     "state": {
      "_model_module": "@jupyter-widgets/base",
      "_model_module_version": "1.2.0",
      "_model_name": "LayoutModel",
      "_view_count": null,
      "_view_module": "@jupyter-widgets/base",
      "_view_module_version": "1.2.0",
      "_view_name": "LayoutView",
      "align_content": null,
      "align_items": null,
      "align_self": null,
      "border": null,
      "bottom": null,
      "display": null,
      "flex": null,
      "flex_flow": null,
      "grid_area": null,
      "grid_auto_columns": null,
      "grid_auto_flow": null,
      "grid_auto_rows": null,
      "grid_column": null,
      "grid_gap": null,
      "grid_row": null,
      "grid_template_areas": null,
      "grid_template_columns": null,
      "grid_template_rows": null,
      "height": null,
      "justify_content": null,
      "justify_items": null,
      "left": null,
      "margin": null,
      "max_height": null,
      "max_width": null,
      "min_height": null,
      "min_width": null,
      "object_fit": null,
      "object_position": null,
      "order": null,
      "overflow": null,
      "overflow_x": null,
      "overflow_y": null,
      "padding": null,
      "right": null,
      "top": null,
      "visibility": null,
      "width": null
     }
    },
    "8d8d3ab4d58a486ebbef9d8acd826d11": {
     "model_module": "@jupyter-widgets/controls",
     "model_module_version": "1.5.0",
     "model_name": "FloatProgressModel",
     "state": {
      "_dom_classes": [],
      "_model_module": "@jupyter-widgets/controls",
      "_model_module_version": "1.5.0",
      "_model_name": "FloatProgressModel",
      "_view_count": null,
      "_view_module": "@jupyter-widgets/controls",
      "_view_module_version": "1.5.0",
      "_view_name": "ProgressView",
      "bar_style": "success",
      "description": "",
      "description_tooltip": null,
      "layout": "IPY_MODEL_2c0c74a5700f4525a21c218ce5dee0a9",
      "max": 1529,
      "min": 0,
      "orientation": "horizontal",
      "style": "IPY_MODEL_e5fc0138e05d4dde94b9f6d61908baa9",
      "value": 1529
     }
    },
    "8f02186e7c414db2a47e9b4faf8cb032": {
     "model_module": "@jupyter-widgets/controls",
     "model_module_version": "1.5.0",
     "model_name": "ProgressStyleModel",
     "state": {
      "_model_module": "@jupyter-widgets/controls",
      "_model_module_version": "1.5.0",
      "_model_name": "ProgressStyleModel",
      "_view_count": null,
      "_view_module": "@jupyter-widgets/base",
      "_view_module_version": "1.2.0",
      "_view_name": "StyleView",
      "bar_color": null,
      "description_width": ""
     }
    },
    "98cc1d21ce674d92b8772e7e6a0fe3cc": {
     "model_module": "@jupyter-widgets/controls",
     "model_module_version": "1.5.0",
     "model_name": "HBoxModel",
     "state": {
      "_dom_classes": [],
      "_model_module": "@jupyter-widgets/controls",
      "_model_module_version": "1.5.0",
      "_model_name": "HBoxModel",
      "_view_count": null,
      "_view_module": "@jupyter-widgets/controls",
      "_view_module_version": "1.5.0",
      "_view_name": "HBoxView",
      "box_style": "",
      "children": [
       "IPY_MODEL_2d25ef31102b47b3a0f6eee2f76e4c28",
       "IPY_MODEL_4bd9ad43c5d342a4a25eab3c89f2ab52",
       "IPY_MODEL_605d444908be4c1085f086909e9ce267"
      ],
      "layout": "IPY_MODEL_7c0d07e51208420ba0e5a2cc786569f9"
     }
    },
    "98ed129334304884a9c731b8d22ef5b3": {
     "model_module": "@jupyter-widgets/controls",
     "model_module_version": "1.5.0",
     "model_name": "DescriptionStyleModel",
     "state": {
      "_model_module": "@jupyter-widgets/controls",
      "_model_module_version": "1.5.0",
      "_model_name": "DescriptionStyleModel",
      "_view_count": null,
      "_view_module": "@jupyter-widgets/base",
      "_view_module_version": "1.2.0",
      "_view_name": "StyleView",
      "description_width": ""
     }
    },
    "9c8816e2eec0411ca8e98684e0d0cb4d": {
     "model_module": "@jupyter-widgets/controls",
     "model_module_version": "1.5.0",
     "model_name": "HTMLModel",
     "state": {
      "_dom_classes": [],
      "_model_module": "@jupyter-widgets/controls",
      "_model_module_version": "1.5.0",
      "_model_name": "HTMLModel",
      "_view_count": null,
      "_view_module": "@jupyter-widgets/controls",
      "_view_module_version": "1.5.0",
      "_view_name": "HTMLView",
      "description": "",
      "description_tooltip": null,
      "layout": "IPY_MODEL_b19ce79129054a878af7c56741a89ef2",
      "placeholder": "​",
      "style": "IPY_MODEL_dbfa9dc4ca244ec0af683207edf1a606",
      "value": " 1.53k/1.53k [00:00&lt;00:00, 94.2kB/s]"
     }
    },
    "9d97f8c0a4c441d38ba3aeb45ad8a2b6": {
     "model_module": "@jupyter-widgets/controls",
     "model_module_version": "1.5.0",
     "model_name": "HTMLModel",
     "state": {
      "_dom_classes": [],
      "_model_module": "@jupyter-widgets/controls",
      "_model_module_version": "1.5.0",
      "_model_name": "HTMLModel",
      "_view_count": null,
      "_view_module": "@jupyter-widgets/controls",
      "_view_module_version": "1.5.0",
      "_view_name": "HTMLView",
      "description": "",
      "description_tooltip": null,
      "layout": "IPY_MODEL_20c9ea21c2bd421fa7b312f25b4ed8cb",
      "placeholder": "​",
      "style": "IPY_MODEL_b3a2d343141a4bd6a12a951a1b4c19e3",
      "value": ".gitattributes: 100%"
     }
    },
    "9dd7873279b64b9ba0855735b97a01a8": {
     "model_module": "@jupyter-widgets/controls",
     "model_module_version": "1.5.0",
     "model_name": "HTMLModel",
     "state": {
      "_dom_classes": [],
      "_model_module": "@jupyter-widgets/controls",
      "_model_module_version": "1.5.0",
      "_model_name": "HTMLModel",
      "_view_count": null,
      "_view_module": "@jupyter-widgets/controls",
      "_view_module_version": "1.5.0",
      "_view_name": "HTMLView",
      "description": "",
      "description_tooltip": null,
      "layout": "IPY_MODEL_cdc5bb42bb6246798491326044db4990",
      "placeholder": "​",
      "style": "IPY_MODEL_429b282d54814e18b9cbe36aae0c3b3e",
      "value": "special_tokens_map.json: 100%"
     }
    },
    "9e6e4b923b5a4255a6b565d02ebb49e6": {
     "model_module": "@jupyter-widgets/controls",
     "model_module_version": "1.5.0",
     "model_name": "DescriptionStyleModel",
     "state": {
      "_model_module": "@jupyter-widgets/controls",
      "_model_module_version": "1.5.0",
      "_model_name": "DescriptionStyleModel",
      "_view_count": null,
      "_view_module": "@jupyter-widgets/base",
      "_view_module_version": "1.2.0",
      "_view_name": "StyleView",
      "description_width": ""
     }
    },
    "a0d8af13bac44caca2fcef63ece0d141": {
     "model_module": "@jupyter-widgets/controls",
     "model_module_version": "1.5.0",
     "model_name": "HTMLModel",
     "state": {
      "_dom_classes": [],
      "_model_module": "@jupyter-widgets/controls",
      "_model_module_version": "1.5.0",
      "_model_name": "HTMLModel",
      "_view_count": null,
      "_view_module": "@jupyter-widgets/controls",
      "_view_module_version": "1.5.0",
      "_view_name": "HTMLView",
      "description": "",
      "description_tooltip": null,
      "layout": "IPY_MODEL_0f9a39fcd4284f36872c8bc1ef411dc8",
      "placeholder": "​",
      "style": "IPY_MODEL_b08042c75959437baedf49f64bef1f04",
      "value": " 2.42M/2.42M [00:00&lt;00:00, 28.0MB/s]"
     }
    },
    "a3d0ed4e7d9d48f7b580dff31f85500f": {
     "model_module": "@jupyter-widgets/base",
     "model_module_version": "1.2.0",
     "model_name": "LayoutModel",
     "state": {
      "_model_module": "@jupyter-widgets/base",
      "_model_module_version": "1.2.0",
      "_model_name": "LayoutModel",
      "_view_count": null,
      "_view_module": "@jupyter-widgets/base",
      "_view_module_version": "1.2.0",
      "_view_name": "LayoutView",
      "align_content": null,
      "align_items": null,
      "align_self": null,
      "border": null,
      "bottom": null,
      "display": null,
      "flex": null,
      "flex_flow": null,
      "grid_area": null,
      "grid_auto_columns": null,
      "grid_auto_flow": null,
      "grid_auto_rows": null,
      "grid_column": null,
      "grid_gap": null,
      "grid_row": null,
      "grid_template_areas": null,
      "grid_template_columns": null,
      "grid_template_rows": null,
      "height": null,
      "justify_content": null,
      "justify_items": null,
      "left": null,
      "margin": null,
      "max_height": null,
      "max_width": null,
      "min_height": null,
      "min_width": null,
      "object_fit": null,
      "object_position": null,
      "order": null,
      "overflow": null,
      "overflow_x": null,
      "overflow_y": null,
      "padding": null,
      "right": null,
      "top": null,
      "visibility": null,
      "width": null
     }
    },
    "a46864220ab44fd59f025bf8383e6bda": {
     "model_module": "@jupyter-widgets/controls",
     "model_module_version": "1.5.0",
     "model_name": "HTMLModel",
     "state": {
      "_dom_classes": [],
      "_model_module": "@jupyter-widgets/controls",
      "_model_module_version": "1.5.0",
      "_model_name": "HTMLModel",
      "_view_count": null,
      "_view_module": "@jupyter-widgets/controls",
      "_view_module_version": "1.5.0",
      "_view_name": "HTMLView",
      "description": "",
      "description_tooltip": null,
      "layout": "IPY_MODEL_6e293752516845f6957152cff821274e",
      "placeholder": "​",
      "style": "IPY_MODEL_da673350c50e4e958a33a37a86f968bc",
      "value": "pytorch_model.bin: 100%"
     }
    },
    "a74a854d03a74fefbae7bc6650afa285": {
     "model_module": "@jupyter-widgets/controls",
     "model_module_version": "1.5.0",
     "model_name": "FloatProgressModel",
     "state": {
      "_dom_classes": [],
      "_model_module": "@jupyter-widgets/controls",
      "_model_module_version": "1.5.0",
      "_model_name": "FloatProgressModel",
      "_view_count": null,
      "_view_module": "@jupyter-widgets/controls",
      "_view_module_version": "1.5.0",
      "_view_name": "ProgressView",
      "bar_style": "success",
      "description": "",
      "description_tooltip": null,
      "layout": "IPY_MODEL_ad120aa2cd5c4602a98fd679751a3bd2",
      "max": 1339823867,
      "min": 0,
      "orientation": "horizontal",
      "style": "IPY_MODEL_bb4bf0eb5a5d4b2baa652cb2a3e2bef3",
      "value": 1339823867
     }
    },
    "a79ed0d7e4dd40a5a9aed59fa568107c": {
     "model_module": "@jupyter-widgets/base",
     "model_module_version": "1.2.0",
     "model_name": "LayoutModel",
     "state": {
      "_model_module": "@jupyter-widgets/base",
      "_model_module_version": "1.2.0",
      "_model_name": "LayoutModel",
      "_view_count": null,
      "_view_module": "@jupyter-widgets/base",
      "_view_module_version": "1.2.0",
      "_view_name": "LayoutView",
      "align_content": null,
      "align_items": null,
      "align_self": null,
      "border": null,
      "bottom": null,
      "display": null,
      "flex": null,
      "flex_flow": null,
      "grid_area": null,
      "grid_auto_columns": null,
      "grid_auto_flow": null,
      "grid_auto_rows": null,
      "grid_column": null,
      "grid_gap": null,
      "grid_row": null,
      "grid_template_areas": null,
      "grid_template_columns": null,
      "grid_template_rows": null,
      "height": null,
      "justify_content": null,
      "justify_items": null,
      "left": null,
      "margin": null,
      "max_height": null,
      "max_width": null,
      "min_height": null,
      "min_width": null,
      "object_fit": null,
      "object_position": null,
      "order": null,
      "overflow": null,
      "overflow_x": null,
      "overflow_y": null,
      "padding": null,
      "right": null,
      "top": null,
      "visibility": null,
      "width": null
     }
    },
    "ac5dd11291844236a404c66fa1e04301": {
     "model_module": "@jupyter-widgets/controls",
     "model_module_version": "1.5.0",
     "model_name": "ProgressStyleModel",
     "state": {
      "_model_module": "@jupyter-widgets/controls",
      "_model_module_version": "1.5.0",
      "_model_name": "ProgressStyleModel",
      "_view_count": null,
      "_view_module": "@jupyter-widgets/base",
      "_view_module_version": "1.2.0",
      "_view_name": "StyleView",
      "bar_color": null,
      "description_width": ""
     }
    },
    "ac7c4b3c8e8b4e95b51ad78ca0305535": {
     "model_module": "@jupyter-widgets/base",
     "model_module_version": "1.2.0",
     "model_name": "LayoutModel",
     "state": {
      "_model_module": "@jupyter-widgets/base",
      "_model_module_version": "1.2.0",
      "_model_name": "LayoutModel",
      "_view_count": null,
      "_view_module": "@jupyter-widgets/base",
      "_view_module_version": "1.2.0",
      "_view_name": "LayoutView",
      "align_content": null,
      "align_items": null,
      "align_self": null,
      "border": null,
      "bottom": null,
      "display": null,
      "flex": null,
      "flex_flow": null,
      "grid_area": null,
      "grid_auto_columns": null,
      "grid_auto_flow": null,
      "grid_auto_rows": null,
      "grid_column": null,
      "grid_gap": null,
      "grid_row": null,
      "grid_template_areas": null,
      "grid_template_columns": null,
      "grid_template_rows": null,
      "height": null,
      "justify_content": null,
      "justify_items": null,
      "left": null,
      "margin": null,
      "max_height": null,
      "max_width": null,
      "min_height": null,
      "min_width": null,
      "object_fit": null,
      "object_position": null,
      "order": null,
      "overflow": null,
      "overflow_x": null,
      "overflow_y": null,
      "padding": null,
      "right": null,
      "top": null,
      "visibility": null,
      "width": null
     }
    },
    "ad120aa2cd5c4602a98fd679751a3bd2": {
     "model_module": "@jupyter-widgets/base",
     "model_module_version": "1.2.0",
     "model_name": "LayoutModel",
     "state": {
      "_model_module": "@jupyter-widgets/base",
      "_model_module_version": "1.2.0",
      "_model_name": "LayoutModel",
      "_view_count": null,
      "_view_module": "@jupyter-widgets/base",
      "_view_module_version": "1.2.0",
      "_view_name": "LayoutView",
      "align_content": null,
      "align_items": null,
      "align_self": null,
      "border": null,
      "bottom": null,
      "display": null,
      "flex": null,
      "flex_flow": null,
      "grid_area": null,
      "grid_auto_columns": null,
      "grid_auto_flow": null,
      "grid_auto_rows": null,
      "grid_column": null,
      "grid_gap": null,
      "grid_row": null,
      "grid_template_areas": null,
      "grid_template_columns": null,
      "grid_template_rows": null,
      "height": null,
      "justify_content": null,
      "justify_items": null,
      "left": null,
      "margin": null,
      "max_height": null,
      "max_width": null,
      "min_height": null,
      "min_width": null,
      "object_fit": null,
      "object_position": null,
      "order": null,
      "overflow": null,
      "overflow_x": null,
      "overflow_y": null,
      "padding": null,
      "right": null,
      "top": null,
      "visibility": null,
      "width": null
     }
    },
    "ae9ff16140064acca415cc209ca70acc": {
     "model_module": "@jupyter-widgets/controls",
     "model_module_version": "1.5.0",
     "model_name": "HBoxModel",
     "state": {
      "_dom_classes": [],
      "_model_module": "@jupyter-widgets/controls",
      "_model_module_version": "1.5.0",
      "_model_name": "HBoxModel",
      "_view_count": null,
      "_view_module": "@jupyter-widgets/controls",
      "_view_module_version": "1.5.0",
      "_view_name": "HBoxView",
      "box_style": "",
      "children": [
       "IPY_MODEL_4dab046a48354f1daef1776a69746bea",
       "IPY_MODEL_844ee5b27571471bbc8a0a90afd2cf38",
       "IPY_MODEL_a0d8af13bac44caca2fcef63ece0d141"
      ],
      "layout": "IPY_MODEL_3fa84845b312452c892645104dc52e2e"
     }
    },
    "af0cfc2aaec14ae4b402b8a65818ec40": {
     "model_module": "@jupyter-widgets/controls",
     "model_module_version": "1.5.0",
     "model_name": "HBoxModel",
     "state": {
      "_dom_classes": [],
      "_model_module": "@jupyter-widgets/controls",
      "_model_module_version": "1.5.0",
      "_model_name": "HBoxModel",
      "_view_count": null,
      "_view_module": "@jupyter-widgets/controls",
      "_view_module_version": "1.5.0",
      "_view_name": "HBoxView",
      "box_style": "",
      "children": [
       "IPY_MODEL_b9461b993f0e474d814edc2ceddda731",
       "IPY_MODEL_f5b69ad512a9403d975974090db4e446",
       "IPY_MODEL_d8a6731ae1864e1f809c8f7b8e705806"
      ],
      "layout": "IPY_MODEL_521bb441f9d444dba091a1b99cd76f5b"
     }
    },
    "af6d5ebf5d364dce83d91f71fc3fa509": {
     "model_module": "@jupyter-widgets/controls",
     "model_module_version": "1.5.0",
     "model_name": "HTMLModel",
     "state": {
      "_dom_classes": [],
      "_model_module": "@jupyter-widgets/controls",
      "_model_module_version": "1.5.0",
      "_model_name": "HTMLModel",
      "_view_count": null,
      "_view_module": "@jupyter-widgets/controls",
      "_view_module_version": "1.5.0",
      "_view_name": "HTMLView",
      "description": "",
      "description_tooltip": null,
      "layout": "IPY_MODEL_5e3b4d5679384a4d90e7c1a03d695350",
      "placeholder": "​",
      "style": "IPY_MODEL_c346b410539f47438b8b08095ee12a53",
      "value": " 792k/792k [00:00&lt;00:00, 6.44MB/s]"
     }
    },
    "af8a8fbfcf7940959309cd5a5c43fa62": {
     "model_module": "@jupyter-widgets/base",
     "model_module_version": "1.2.0",
     "model_name": "LayoutModel",
     "state": {
      "_model_module": "@jupyter-widgets/base",
      "_model_module_version": "1.2.0",
      "_model_name": "LayoutModel",
      "_view_count": null,
      "_view_module": "@jupyter-widgets/base",
      "_view_module_version": "1.2.0",
      "_view_name": "LayoutView",
      "align_content": null,
      "align_items": null,
      "align_self": null,
      "border": null,
      "bottom": null,
      "display": null,
      "flex": null,
      "flex_flow": null,
      "grid_area": null,
      "grid_auto_columns": null,
      "grid_auto_flow": null,
      "grid_auto_rows": null,
      "grid_column": null,
      "grid_gap": null,
      "grid_row": null,
      "grid_template_areas": null,
      "grid_template_columns": null,
      "grid_template_rows": null,
      "height": null,
      "justify_content": null,
      "justify_items": null,
      "left": null,
      "margin": null,
      "max_height": null,
      "max_width": null,
      "min_height": null,
      "min_width": null,
      "object_fit": null,
      "object_position": null,
      "order": null,
      "overflow": null,
      "overflow_x": null,
      "overflow_y": null,
      "padding": null,
      "right": null,
      "top": null,
      "visibility": null,
      "width": null
     }
    },
    "af8b58f90db740138f986c450434ea43": {
     "model_module": "@jupyter-widgets/base",
     "model_module_version": "1.2.0",
     "model_name": "LayoutModel",
     "state": {
      "_model_module": "@jupyter-widgets/base",
      "_model_module_version": "1.2.0",
      "_model_name": "LayoutModel",
      "_view_count": null,
      "_view_module": "@jupyter-widgets/base",
      "_view_module_version": "1.2.0",
      "_view_name": "LayoutView",
      "align_content": null,
      "align_items": null,
      "align_self": null,
      "border": null,
      "bottom": null,
      "display": null,
      "flex": null,
      "flex_flow": null,
      "grid_area": null,
      "grid_auto_columns": null,
      "grid_auto_flow": null,
      "grid_auto_rows": null,
      "grid_column": null,
      "grid_gap": null,
      "grid_row": null,
      "grid_template_areas": null,
      "grid_template_columns": null,
      "grid_template_rows": null,
      "height": null,
      "justify_content": null,
      "justify_items": null,
      "left": null,
      "margin": null,
      "max_height": null,
      "max_width": null,
      "min_height": null,
      "min_width": null,
      "object_fit": null,
      "object_position": null,
      "order": null,
      "overflow": null,
      "overflow_x": null,
      "overflow_y": null,
      "padding": null,
      "right": null,
      "top": null,
      "visibility": null,
      "width": null
     }
    },
    "b03dbce28ffe4ba18fae86b74ad0c05f": {
     "model_module": "@jupyter-widgets/controls",
     "model_module_version": "1.5.0",
     "model_name": "HTMLModel",
     "state": {
      "_dom_classes": [],
      "_model_module": "@jupyter-widgets/controls",
      "_model_module_version": "1.5.0",
      "_model_name": "HTMLModel",
      "_view_count": null,
      "_view_module": "@jupyter-widgets/controls",
      "_view_module_version": "1.5.0",
      "_view_name": "HTMLView",
      "description": "",
      "description_tooltip": null,
      "layout": "IPY_MODEL_f33c0dd825ac4a4589aac4c459f687a4",
      "placeholder": "​",
      "style": "IPY_MODEL_f336f3fbd22348158ce67056c4153354",
      "value": " 2.41k/2.41k [00:00&lt;00:00, 130kB/s]"
     }
    },
    "b08042c75959437baedf49f64bef1f04": {
     "model_module": "@jupyter-widgets/controls",
     "model_module_version": "1.5.0",
     "model_name": "DescriptionStyleModel",
     "state": {
      "_model_module": "@jupyter-widgets/controls",
      "_model_module_version": "1.5.0",
      "_model_name": "DescriptionStyleModel",
      "_view_count": null,
      "_view_module": "@jupyter-widgets/base",
      "_view_module_version": "1.2.0",
      "_view_name": "StyleView",
      "description_width": ""
     }
    },
    "b19ce79129054a878af7c56741a89ef2": {
     "model_module": "@jupyter-widgets/base",
     "model_module_version": "1.2.0",
     "model_name": "LayoutModel",
     "state": {
      "_model_module": "@jupyter-widgets/base",
      "_model_module_version": "1.2.0",
      "_model_name": "LayoutModel",
      "_view_count": null,
      "_view_module": "@jupyter-widgets/base",
      "_view_module_version": "1.2.0",
      "_view_name": "LayoutView",
      "align_content": null,
      "align_items": null,
      "align_self": null,
      "border": null,
      "bottom": null,
      "display": null,
      "flex": null,
      "flex_flow": null,
      "grid_area": null,
      "grid_auto_columns": null,
      "grid_auto_flow": null,
      "grid_auto_rows": null,
      "grid_column": null,
      "grid_gap": null,
      "grid_row": null,
      "grid_template_areas": null,
      "grid_template_columns": null,
      "grid_template_rows": null,
      "height": null,
      "justify_content": null,
      "justify_items": null,
      "left": null,
      "margin": null,
      "max_height": null,
      "max_width": null,
      "min_height": null,
      "min_width": null,
      "object_fit": null,
      "object_position": null,
      "order": null,
      "overflow": null,
      "overflow_x": null,
      "overflow_y": null,
      "padding": null,
      "right": null,
      "top": null,
      "visibility": null,
      "width": null
     }
    },
    "b1a7aa68cdb14464a031ec92761fa4fd": {
     "model_module": "@jupyter-widgets/base",
     "model_module_version": "1.2.0",
     "model_name": "LayoutModel",
     "state": {
      "_model_module": "@jupyter-widgets/base",
      "_model_module_version": "1.2.0",
      "_model_name": "LayoutModel",
      "_view_count": null,
      "_view_module": "@jupyter-widgets/base",
      "_view_module_version": "1.2.0",
      "_view_name": "LayoutView",
      "align_content": null,
      "align_items": null,
      "align_self": null,
      "border": null,
      "bottom": null,
      "display": null,
      "flex": null,
      "flex_flow": null,
      "grid_area": null,
      "grid_auto_columns": null,
      "grid_auto_flow": null,
      "grid_auto_rows": null,
      "grid_column": null,
      "grid_gap": null,
      "grid_row": null,
      "grid_template_areas": null,
      "grid_template_columns": null,
      "grid_template_rows": null,
      "height": null,
      "justify_content": null,
      "justify_items": null,
      "left": null,
      "margin": null,
      "max_height": null,
      "max_width": null,
      "min_height": null,
      "min_width": null,
      "object_fit": null,
      "object_position": null,
      "order": null,
      "overflow": null,
      "overflow_x": null,
      "overflow_y": null,
      "padding": null,
      "right": null,
      "top": null,
      "visibility": null,
      "width": null
     }
    },
    "b3a2d343141a4bd6a12a951a1b4c19e3": {
     "model_module": "@jupyter-widgets/controls",
     "model_module_version": "1.5.0",
     "model_name": "DescriptionStyleModel",
     "state": {
      "_model_module": "@jupyter-widgets/controls",
      "_model_module_version": "1.5.0",
      "_model_name": "DescriptionStyleModel",
      "_view_count": null,
      "_view_module": "@jupyter-widgets/base",
      "_view_module_version": "1.2.0",
      "_view_name": "StyleView",
      "description_width": ""
     }
    },
    "b3a6a7c6e5c641569eabd3b2f799a433": {
     "model_module": "@jupyter-widgets/base",
     "model_module_version": "1.2.0",
     "model_name": "LayoutModel",
     "state": {
      "_model_module": "@jupyter-widgets/base",
      "_model_module_version": "1.2.0",
      "_model_name": "LayoutModel",
      "_view_count": null,
      "_view_module": "@jupyter-widgets/base",
      "_view_module_version": "1.2.0",
      "_view_name": "LayoutView",
      "align_content": null,
      "align_items": null,
      "align_self": null,
      "border": null,
      "bottom": null,
      "display": null,
      "flex": null,
      "flex_flow": null,
      "grid_area": null,
      "grid_auto_columns": null,
      "grid_auto_flow": null,
      "grid_auto_rows": null,
      "grid_column": null,
      "grid_gap": null,
      "grid_row": null,
      "grid_template_areas": null,
      "grid_template_columns": null,
      "grid_template_rows": null,
      "height": null,
      "justify_content": null,
      "justify_items": null,
      "left": null,
      "margin": null,
      "max_height": null,
      "max_width": null,
      "min_height": null,
      "min_width": null,
      "object_fit": null,
      "object_position": null,
      "order": null,
      "overflow": null,
      "overflow_x": null,
      "overflow_y": null,
      "padding": null,
      "right": null,
      "top": null,
      "visibility": null,
      "width": null
     }
    },
    "b49f7d93481944b68e34c37cc9b8facb": {
     "model_module": "@jupyter-widgets/controls",
     "model_module_version": "1.5.0",
     "model_name": "DescriptionStyleModel",
     "state": {
      "_model_module": "@jupyter-widgets/controls",
      "_model_module_version": "1.5.0",
      "_model_name": "DescriptionStyleModel",
      "_view_count": null,
      "_view_module": "@jupyter-widgets/base",
      "_view_module_version": "1.2.0",
      "_view_name": "StyleView",
      "description_width": ""
     }
    },
    "b82a72429e2e4473bbba50d0b02ce5e8": {
     "model_module": "@jupyter-widgets/controls",
     "model_module_version": "1.5.0",
     "model_name": "DescriptionStyleModel",
     "state": {
      "_model_module": "@jupyter-widgets/controls",
      "_model_module_version": "1.5.0",
      "_model_name": "DescriptionStyleModel",
      "_view_count": null,
      "_view_module": "@jupyter-widgets/base",
      "_view_module_version": "1.2.0",
      "_view_name": "StyleView",
      "description_width": ""
     }
    },
    "b910a34eca0c4f7188e964e59dfd7fa3": {
     "model_module": "@jupyter-widgets/controls",
     "model_module_version": "1.5.0",
     "model_name": "HBoxModel",
     "state": {
      "_dom_classes": [],
      "_model_module": "@jupyter-widgets/controls",
      "_model_module_version": "1.5.0",
      "_model_name": "HBoxModel",
      "_view_count": null,
      "_view_module": "@jupyter-widgets/controls",
      "_view_module_version": "1.5.0",
      "_view_name": "HBoxView",
      "box_style": "",
      "children": [
       "IPY_MODEL_6a52c64b819f47ee94bf1586e0be8ab7",
       "IPY_MODEL_7f7de85b6806498bbf4e9bba395e9b34",
       "IPY_MODEL_b03dbce28ffe4ba18fae86b74ad0c05f"
      ],
      "layout": "IPY_MODEL_8419749062134e51b52f1c6c2414f78e"
     }
    },
    "b9461b993f0e474d814edc2ceddda731": {
     "model_module": "@jupyter-widgets/controls",
     "model_module_version": "1.5.0",
     "model_name": "HTMLModel",
     "state": {
      "_dom_classes": [],
      "_model_module": "@jupyter-widgets/controls",
      "_model_module_version": "1.5.0",
      "_model_name": "HTMLModel",
      "_view_count": null,
      "_view_module": "@jupyter-widgets/controls",
      "_view_module_version": "1.5.0",
      "_view_name": "HTMLView",
      "description": "",
      "description_tooltip": null,
      "layout": "IPY_MODEL_b3a6a7c6e5c641569eabd3b2f799a433",
      "placeholder": "​",
      "style": "IPY_MODEL_bfd6df6179f84161b04b2d3e1c6be67a",
      "value": "sentence_bert_config.json: 100%"
     }
    },
    "ba2b3125b00441df9d26a360baf65bd6": {
     "model_module": "@jupyter-widgets/base",
     "model_module_version": "1.2.0",
     "model_name": "LayoutModel",
     "state": {
      "_model_module": "@jupyter-widgets/base",
      "_model_module_version": "1.2.0",
      "_model_name": "LayoutModel",
      "_view_count": null,
      "_view_module": "@jupyter-widgets/base",
      "_view_module_version": "1.2.0",
      "_view_name": "LayoutView",
      "align_content": null,
      "align_items": null,
      "align_self": null,
      "border": null,
      "bottom": null,
      "display": null,
      "flex": null,
      "flex_flow": null,
      "grid_area": null,
      "grid_auto_columns": null,
      "grid_auto_flow": null,
      "grid_auto_rows": null,
      "grid_column": null,
      "grid_gap": null,
      "grid_row": null,
      "grid_template_areas": null,
      "grid_template_columns": null,
      "grid_template_rows": null,
      "height": null,
      "justify_content": null,
      "justify_items": null,
      "left": null,
      "margin": null,
      "max_height": null,
      "max_width": null,
      "min_height": null,
      "min_width": null,
      "object_fit": null,
      "object_position": null,
      "order": null,
      "overflow": null,
      "overflow_x": null,
      "overflow_y": null,
      "padding": null,
      "right": null,
      "top": null,
      "visibility": null,
      "width": null
     }
    },
    "bb4bf0eb5a5d4b2baa652cb2a3e2bef3": {
     "model_module": "@jupyter-widgets/controls",
     "model_module_version": "1.5.0",
     "model_name": "ProgressStyleModel",
     "state": {
      "_model_module": "@jupyter-widgets/controls",
      "_model_module_version": "1.5.0",
      "_model_name": "ProgressStyleModel",
      "_view_count": null,
      "_view_module": "@jupyter-widgets/base",
      "_view_module_version": "1.2.0",
      "_view_name": "StyleView",
      "bar_color": null,
      "description_width": ""
     }
    },
    "bbfde65a250648e3b23bfb4e0935a686": {
     "model_module": "@jupyter-widgets/controls",
     "model_module_version": "1.5.0",
     "model_name": "DescriptionStyleModel",
     "state": {
      "_model_module": "@jupyter-widgets/controls",
      "_model_module_version": "1.5.0",
      "_model_name": "DescriptionStyleModel",
      "_view_count": null,
      "_view_module": "@jupyter-widgets/base",
      "_view_module_version": "1.2.0",
      "_view_name": "StyleView",
      "description_width": ""
     }
    },
    "be3c676c31d04095b35ccc62eefe5282": {
     "model_module": "@jupyter-widgets/base",
     "model_module_version": "1.2.0",
     "model_name": "LayoutModel",
     "state": {
      "_model_module": "@jupyter-widgets/base",
      "_model_module_version": "1.2.0",
      "_model_name": "LayoutModel",
      "_view_count": null,
      "_view_module": "@jupyter-widgets/base",
      "_view_module_version": "1.2.0",
      "_view_name": "LayoutView",
      "align_content": null,
      "align_items": null,
      "align_self": null,
      "border": null,
      "bottom": null,
      "display": null,
      "flex": null,
      "flex_flow": null,
      "grid_area": null,
      "grid_auto_columns": null,
      "grid_auto_flow": null,
      "grid_auto_rows": null,
      "grid_column": null,
      "grid_gap": null,
      "grid_row": null,
      "grid_template_areas": null,
      "grid_template_columns": null,
      "grid_template_rows": null,
      "height": null,
      "justify_content": null,
      "justify_items": null,
      "left": null,
      "margin": null,
      "max_height": null,
      "max_width": null,
      "min_height": null,
      "min_width": null,
      "object_fit": null,
      "object_position": null,
      "order": null,
      "overflow": null,
      "overflow_x": null,
      "overflow_y": null,
      "padding": null,
      "right": null,
      "top": null,
      "visibility": null,
      "width": null
     }
    },
    "bfd6df6179f84161b04b2d3e1c6be67a": {
     "model_module": "@jupyter-widgets/controls",
     "model_module_version": "1.5.0",
     "model_name": "DescriptionStyleModel",
     "state": {
      "_model_module": "@jupyter-widgets/controls",
      "_model_module_version": "1.5.0",
      "_model_name": "DescriptionStyleModel",
      "_view_count": null,
      "_view_module": "@jupyter-widgets/base",
      "_view_module_version": "1.2.0",
      "_view_name": "StyleView",
      "description_width": ""
     }
    },
    "c1529452d95147b28359cbbcf490b99a": {
     "model_module": "@jupyter-widgets/controls",
     "model_module_version": "1.5.0",
     "model_name": "HBoxModel",
     "state": {
      "_dom_classes": [],
      "_model_module": "@jupyter-widgets/controls",
      "_model_module_version": "1.5.0",
      "_model_name": "HBoxModel",
      "_view_count": null,
      "_view_module": "@jupyter-widgets/controls",
      "_view_module_version": "1.5.0",
      "_view_name": "HBoxView",
      "box_style": "",
      "children": [
       "IPY_MODEL_4c9b04c0480c4cd98887a365df8301b1",
       "IPY_MODEL_5f317efdce23470bbb1613b625a8f5f6",
       "IPY_MODEL_af6d5ebf5d364dce83d91f71fc3fa509"
      ],
      "layout": "IPY_MODEL_af8a8fbfcf7940959309cd5a5c43fa62"
     }
    },
    "c321fe7c60b944d893cb1a8c30a9862e": {
     "model_module": "@jupyter-widgets/base",
     "model_module_version": "1.2.0",
     "model_name": "LayoutModel",
     "state": {
      "_model_module": "@jupyter-widgets/base",
      "_model_module_version": "1.2.0",
      "_model_name": "LayoutModel",
      "_view_count": null,
      "_view_module": "@jupyter-widgets/base",
      "_view_module_version": "1.2.0",
      "_view_name": "LayoutView",
      "align_content": null,
      "align_items": null,
      "align_self": null,
      "border": null,
      "bottom": null,
      "display": null,
      "flex": null,
      "flex_flow": null,
      "grid_area": null,
      "grid_auto_columns": null,
      "grid_auto_flow": null,
      "grid_auto_rows": null,
      "grid_column": null,
      "grid_gap": null,
      "grid_row": null,
      "grid_template_areas": null,
      "grid_template_columns": null,
      "grid_template_rows": null,
      "height": null,
      "justify_content": null,
      "justify_items": null,
      "left": null,
      "margin": null,
      "max_height": null,
      "max_width": null,
      "min_height": null,
      "min_width": null,
      "object_fit": null,
      "object_position": null,
      "order": null,
      "overflow": null,
      "overflow_x": null,
      "overflow_y": null,
      "padding": null,
      "right": null,
      "top": null,
      "visibility": null,
      "width": null
     }
    },
    "c346b410539f47438b8b08095ee12a53": {
     "model_module": "@jupyter-widgets/controls",
     "model_module_version": "1.5.0",
     "model_name": "DescriptionStyleModel",
     "state": {
      "_model_module": "@jupyter-widgets/controls",
      "_model_module_version": "1.5.0",
      "_model_name": "DescriptionStyleModel",
      "_view_count": null,
      "_view_module": "@jupyter-widgets/base",
      "_view_module_version": "1.2.0",
      "_view_name": "StyleView",
      "description_width": ""
     }
    },
    "c3873ee9e01b4befa7907e165b99ddb0": {
     "model_module": "@jupyter-widgets/controls",
     "model_module_version": "1.5.0",
     "model_name": "HBoxModel",
     "state": {
      "_dom_classes": [],
      "_model_module": "@jupyter-widgets/controls",
      "_model_module_version": "1.5.0",
      "_model_name": "HBoxModel",
      "_view_count": null,
      "_view_module": "@jupyter-widgets/controls",
      "_view_module_version": "1.5.0",
      "_view_name": "HBoxView",
      "box_style": "",
      "children": [
       "IPY_MODEL_5fa7a73b9f55462c85d5dce8215003ce",
       "IPY_MODEL_ef84323bc57243068c43311d9b690474",
       "IPY_MODEL_394559d123d54193af4625e623270ac4"
      ],
      "layout": "IPY_MODEL_cf904893ded542c2bbe5316fa6f8b4d6"
     }
    },
    "c8cf8c09de28459db518c18851439c65": {
     "model_module": "@jupyter-widgets/controls",
     "model_module_version": "1.5.0",
     "model_name": "DescriptionStyleModel",
     "state": {
      "_model_module": "@jupyter-widgets/controls",
      "_model_module_version": "1.5.0",
      "_model_name": "DescriptionStyleModel",
      "_view_count": null,
      "_view_module": "@jupyter-widgets/base",
      "_view_module_version": "1.2.0",
      "_view_name": "StyleView",
      "description_width": ""
     }
    },
    "cb9be6696ada41019ec695ae1248874f": {
     "model_module": "@jupyter-widgets/controls",
     "model_module_version": "1.5.0",
     "model_name": "DescriptionStyleModel",
     "state": {
      "_model_module": "@jupyter-widgets/controls",
      "_model_module_version": "1.5.0",
      "_model_name": "DescriptionStyleModel",
      "_view_count": null,
      "_view_module": "@jupyter-widgets/base",
      "_view_module_version": "1.2.0",
      "_view_name": "StyleView",
      "description_width": ""
     }
    },
    "cdc5bb42bb6246798491326044db4990": {
     "model_module": "@jupyter-widgets/base",
     "model_module_version": "1.2.0",
     "model_name": "LayoutModel",
     "state": {
      "_model_module": "@jupyter-widgets/base",
      "_model_module_version": "1.2.0",
      "_model_name": "LayoutModel",
      "_view_count": null,
      "_view_module": "@jupyter-widgets/base",
      "_view_module_version": "1.2.0",
      "_view_name": "LayoutView",
      "align_content": null,
      "align_items": null,
      "align_self": null,
      "border": null,
      "bottom": null,
      "display": null,
      "flex": null,
      "flex_flow": null,
      "grid_area": null,
      "grid_auto_columns": null,
      "grid_auto_flow": null,
      "grid_auto_rows": null,
      "grid_column": null,
      "grid_gap": null,
      "grid_row": null,
      "grid_template_areas": null,
      "grid_template_columns": null,
      "grid_template_rows": null,
      "height": null,
      "justify_content": null,
      "justify_items": null,
      "left": null,
      "margin": null,
      "max_height": null,
      "max_width": null,
      "min_height": null,
      "min_width": null,
      "object_fit": null,
      "object_position": null,
      "order": null,
      "overflow": null,
      "overflow_x": null,
      "overflow_y": null,
      "padding": null,
      "right": null,
      "top": null,
      "visibility": null,
      "width": null
     }
    },
    "ce3f10c898434bbe8d886f4c770b93bc": {
     "model_module": "@jupyter-widgets/base",
     "model_module_version": "1.2.0",
     "model_name": "LayoutModel",
     "state": {
      "_model_module": "@jupyter-widgets/base",
      "_model_module_version": "1.2.0",
      "_model_name": "LayoutModel",
      "_view_count": null,
      "_view_module": "@jupyter-widgets/base",
      "_view_module_version": "1.2.0",
      "_view_name": "LayoutView",
      "align_content": null,
      "align_items": null,
      "align_self": null,
      "border": null,
      "bottom": null,
      "display": null,
      "flex": null,
      "flex_flow": null,
      "grid_area": null,
      "grid_auto_columns": null,
      "grid_auto_flow": null,
      "grid_auto_rows": null,
      "grid_column": null,
      "grid_gap": null,
      "grid_row": null,
      "grid_template_areas": null,
      "grid_template_columns": null,
      "grid_template_rows": null,
      "height": null,
      "justify_content": null,
      "justify_items": null,
      "left": null,
      "margin": null,
      "max_height": null,
      "max_width": null,
      "min_height": null,
      "min_width": null,
      "object_fit": null,
      "object_position": null,
      "order": null,
      "overflow": null,
      "overflow_x": null,
      "overflow_y": null,
      "padding": null,
      "right": null,
      "top": null,
      "visibility": null,
      "width": null
     }
    },
    "cf904893ded542c2bbe5316fa6f8b4d6": {
     "model_module": "@jupyter-widgets/base",
     "model_module_version": "1.2.0",
     "model_name": "LayoutModel",
     "state": {
      "_model_module": "@jupyter-widgets/base",
      "_model_module_version": "1.2.0",
      "_model_name": "LayoutModel",
      "_view_count": null,
      "_view_module": "@jupyter-widgets/base",
      "_view_module_version": "1.2.0",
      "_view_name": "LayoutView",
      "align_content": null,
      "align_items": null,
      "align_self": null,
      "border": null,
      "bottom": null,
      "display": null,
      "flex": null,
      "flex_flow": null,
      "grid_area": null,
      "grid_auto_columns": null,
      "grid_auto_flow": null,
      "grid_auto_rows": null,
      "grid_column": null,
      "grid_gap": null,
      "grid_row": null,
      "grid_template_areas": null,
      "grid_template_columns": null,
      "grid_template_rows": null,
      "height": null,
      "justify_content": null,
      "justify_items": null,
      "left": null,
      "margin": null,
      "max_height": null,
      "max_width": null,
      "min_height": null,
      "min_width": null,
      "object_fit": null,
      "object_position": null,
      "order": null,
      "overflow": null,
      "overflow_x": null,
      "overflow_y": null,
      "padding": null,
      "right": null,
      "top": null,
      "visibility": null,
      "width": null
     }
    },
    "d273ee2325e046aa91e385ccf1f0d61f": {
     "model_module": "@jupyter-widgets/controls",
     "model_module_version": "1.5.0",
     "model_name": "HBoxModel",
     "state": {
      "_dom_classes": [],
      "_model_module": "@jupyter-widgets/controls",
      "_model_module_version": "1.5.0",
      "_model_name": "HBoxModel",
      "_view_count": null,
      "_view_module": "@jupyter-widgets/controls",
      "_view_module_version": "1.5.0",
      "_view_name": "HBoxView",
      "box_style": "",
      "children": [
       "IPY_MODEL_9d97f8c0a4c441d38ba3aeb45ad8a2b6",
       "IPY_MODEL_044abdd35d4f498fbf1189f7c9c2c4ee",
       "IPY_MODEL_4fb2d3ca89e74c4b824b23f7673b5fb6"
      ],
      "layout": "IPY_MODEL_54cba639fdc94eef8af6609582e7864c"
     }
    },
    "d3a80478b3334017b25e1d07c66fc3fa": {
     "model_module": "@jupyter-widgets/controls",
     "model_module_version": "1.5.0",
     "model_name": "FloatProgressModel",
     "state": {
      "_dom_classes": [],
      "_model_module": "@jupyter-widgets/controls",
      "_model_module_version": "1.5.0",
      "_model_name": "FloatProgressModel",
      "_view_count": null,
      "_view_module": "@jupyter-widgets/controls",
      "_view_module_version": "1.5.0",
      "_view_name": "ProgressView",
      "bar_style": "success",
      "description": "",
      "description_tooltip": null,
      "layout": "IPY_MODEL_a3d0ed4e7d9d48f7b580dff31f85500f",
      "max": 461,
      "min": 0,
      "orientation": "horizontal",
      "style": "IPY_MODEL_4166657fb4924b36940195c9df764ce4",
      "value": 461
     }
    },
    "d452db0e1c0549ffabce8834a14a6628": {
     "model_module": "@jupyter-widgets/controls",
     "model_module_version": "1.5.0",
     "model_name": "HBoxModel",
     "state": {
      "_dom_classes": [],
      "_model_module": "@jupyter-widgets/controls",
      "_model_module_version": "1.5.0",
      "_model_name": "HBoxModel",
      "_view_count": null,
      "_view_module": "@jupyter-widgets/controls",
      "_view_module_version": "1.5.0",
      "_view_name": "HBoxView",
      "box_style": "",
      "children": [
       "IPY_MODEL_9dd7873279b64b9ba0855735b97a01a8",
       "IPY_MODEL_2e1fdd4df0284b458c2267b7d581d132",
       "IPY_MODEL_53e6b491027b4e10adaf20bf9f40f357"
      ],
      "layout": "IPY_MODEL_0a3d1c2cfb4e4802aac2cbe2990e3d84"
     }
    },
    "d5d0c9e51b904234a4ff0f6ea7657606": {
     "model_module": "@jupyter-widgets/base",
     "model_module_version": "1.2.0",
     "model_name": "LayoutModel",
     "state": {
      "_model_module": "@jupyter-widgets/base",
      "_model_module_version": "1.2.0",
      "_model_name": "LayoutModel",
      "_view_count": null,
      "_view_module": "@jupyter-widgets/base",
      "_view_module_version": "1.2.0",
      "_view_name": "LayoutView",
      "align_content": null,
      "align_items": null,
      "align_self": null,
      "border": null,
      "bottom": null,
      "display": null,
      "flex": null,
      "flex_flow": null,
      "grid_area": null,
      "grid_auto_columns": null,
      "grid_auto_flow": null,
      "grid_auto_rows": null,
      "grid_column": null,
      "grid_gap": null,
      "grid_row": null,
      "grid_template_areas": null,
      "grid_template_columns": null,
      "grid_template_rows": null,
      "height": null,
      "justify_content": null,
      "justify_items": null,
      "left": null,
      "margin": null,
      "max_height": null,
      "max_width": null,
      "min_height": null,
      "min_width": null,
      "object_fit": null,
      "object_position": null,
      "order": null,
      "overflow": null,
      "overflow_x": null,
      "overflow_y": null,
      "padding": null,
      "right": null,
      "top": null,
      "visibility": null,
      "width": null
     }
    },
    "d6cd12cf08b4451d91a1c1a75e19791b": {
     "model_module": "@jupyter-widgets/controls",
     "model_module_version": "1.5.0",
     "model_name": "HTMLModel",
     "state": {
      "_dom_classes": [],
      "_model_module": "@jupyter-widgets/controls",
      "_model_module_version": "1.5.0",
      "_model_name": "HTMLModel",
      "_view_count": null,
      "_view_module": "@jupyter-widgets/controls",
      "_view_module_version": "1.5.0",
      "_view_name": "HTMLView",
      "description": "",
      "description_tooltip": null,
      "layout": "IPY_MODEL_467179688af7451d9cce669a123422d9",
      "placeholder": "​",
      "style": "IPY_MODEL_600accf61f2d48b5bc703a26cddc5b53",
      "value": "modules.json: 100%"
     }
    },
    "d8a6731ae1864e1f809c8f7b8e705806": {
     "model_module": "@jupyter-widgets/controls",
     "model_module_version": "1.5.0",
     "model_name": "HTMLModel",
     "state": {
      "_dom_classes": [],
      "_model_module": "@jupyter-widgets/controls",
      "_model_module_version": "1.5.0",
      "_model_name": "HTMLModel",
      "_view_count": null,
      "_view_module": "@jupyter-widgets/controls",
      "_view_module_version": "1.5.0",
      "_view_name": "HTMLView",
      "description": "",
      "description_tooltip": null,
      "layout": "IPY_MODEL_4cb1cec4ace745d08a0b255f75e17040",
      "placeholder": "​",
      "style": "IPY_MODEL_98ed129334304884a9c731b8d22ef5b3",
      "value": " 53.0/53.0 [00:00&lt;00:00, 3.28kB/s]"
     }
    },
    "da673350c50e4e958a33a37a86f968bc": {
     "model_module": "@jupyter-widgets/controls",
     "model_module_version": "1.5.0",
     "model_name": "DescriptionStyleModel",
     "state": {
      "_model_module": "@jupyter-widgets/controls",
      "_model_module_version": "1.5.0",
      "_model_name": "DescriptionStyleModel",
      "_view_count": null,
      "_view_module": "@jupyter-widgets/base",
      "_view_module_version": "1.2.0",
      "_view_name": "StyleView",
      "description_width": ""
     }
    },
    "dbfa9dc4ca244ec0af683207edf1a606": {
     "model_module": "@jupyter-widgets/controls",
     "model_module_version": "1.5.0",
     "model_name": "DescriptionStyleModel",
     "state": {
      "_model_module": "@jupyter-widgets/controls",
      "_model_module_version": "1.5.0",
      "_model_name": "DescriptionStyleModel",
      "_view_count": null,
      "_view_module": "@jupyter-widgets/base",
      "_view_module_version": "1.2.0",
      "_view_name": "StyleView",
      "description_width": ""
     }
    },
    "ddf2cd34a9754851b10e03919660396a": {
     "model_module": "@jupyter-widgets/controls",
     "model_module_version": "1.5.0",
     "model_name": "HTMLModel",
     "state": {
      "_dom_classes": [],
      "_model_module": "@jupyter-widgets/controls",
      "_model_module_version": "1.5.0",
      "_model_name": "HTMLModel",
      "_view_count": null,
      "_view_module": "@jupyter-widgets/controls",
      "_view_module_version": "1.5.0",
      "_view_name": "HTMLView",
      "description": "",
      "description_tooltip": null,
      "layout": "IPY_MODEL_024761a4340d4c1c825e9acef51d4067",
      "placeholder": "​",
      "style": "IPY_MODEL_e69e58ecae40461789e2724de0d7a4f5",
      "value": " 122/122 [00:00&lt;00:00, 6.72kB/s]"
     }
    },
    "e37a2533806744d2afa1085f8c2f9ef6": {
     "model_module": "@jupyter-widgets/controls",
     "model_module_version": "1.5.0",
     "model_name": "DescriptionStyleModel",
     "state": {
      "_model_module": "@jupyter-widgets/controls",
      "_model_module_version": "1.5.0",
      "_model_name": "DescriptionStyleModel",
      "_view_count": null,
      "_view_module": "@jupyter-widgets/base",
      "_view_module_version": "1.2.0",
      "_view_name": "StyleView",
      "description_width": ""
     }
    },
    "e5fc0138e05d4dde94b9f6d61908baa9": {
     "model_module": "@jupyter-widgets/controls",
     "model_module_version": "1.5.0",
     "model_name": "ProgressStyleModel",
     "state": {
      "_model_module": "@jupyter-widgets/controls",
      "_model_module_version": "1.5.0",
      "_model_name": "ProgressStyleModel",
      "_view_count": null,
      "_view_module": "@jupyter-widgets/base",
      "_view_module_version": "1.2.0",
      "_view_name": "StyleView",
      "bar_color": null,
      "description_width": ""
     }
    },
    "e69e58ecae40461789e2724de0d7a4f5": {
     "model_module": "@jupyter-widgets/controls",
     "model_module_version": "1.5.0",
     "model_name": "DescriptionStyleModel",
     "state": {
      "_model_module": "@jupyter-widgets/controls",
      "_model_module_version": "1.5.0",
      "_model_name": "DescriptionStyleModel",
      "_view_count": null,
      "_view_module": "@jupyter-widgets/base",
      "_view_module_version": "1.2.0",
      "_view_name": "StyleView",
      "description_width": ""
     }
    },
    "ea0640c7c5004b34b12bf7c149cd13a1": {
     "model_module": "@jupyter-widgets/controls",
     "model_module_version": "1.5.0",
     "model_name": "DescriptionStyleModel",
     "state": {
      "_model_module": "@jupyter-widgets/controls",
      "_model_module_version": "1.5.0",
      "_model_name": "DescriptionStyleModel",
      "_view_count": null,
      "_view_module": "@jupyter-widgets/base",
      "_view_module_version": "1.2.0",
      "_view_name": "StyleView",
      "description_width": ""
     }
    },
    "ea6ee59cd3454007be911ce05ad6160c": {
     "model_module": "@jupyter-widgets/base",
     "model_module_version": "1.2.0",
     "model_name": "LayoutModel",
     "state": {
      "_model_module": "@jupyter-widgets/base",
      "_model_module_version": "1.2.0",
      "_model_name": "LayoutModel",
      "_view_count": null,
      "_view_module": "@jupyter-widgets/base",
      "_view_module_version": "1.2.0",
      "_view_name": "LayoutView",
      "align_content": null,
      "align_items": null,
      "align_self": null,
      "border": null,
      "bottom": null,
      "display": null,
      "flex": null,
      "flex_flow": null,
      "grid_area": null,
      "grid_auto_columns": null,
      "grid_auto_flow": null,
      "grid_auto_rows": null,
      "grid_column": null,
      "grid_gap": null,
      "grid_row": null,
      "grid_template_areas": null,
      "grid_template_columns": null,
      "grid_template_rows": null,
      "height": null,
      "justify_content": null,
      "justify_items": null,
      "left": null,
      "margin": null,
      "max_height": null,
      "max_width": null,
      "min_height": null,
      "min_width": null,
      "object_fit": null,
      "object_position": null,
      "order": null,
      "overflow": null,
      "overflow_x": null,
      "overflow_y": null,
      "padding": null,
      "right": null,
      "top": null,
      "visibility": null,
      "width": null
     }
    },
    "eba17aff9981444dab0162703cb18696": {
     "model_module": "@jupyter-widgets/base",
     "model_module_version": "1.2.0",
     "model_name": "LayoutModel",
     "state": {
      "_model_module": "@jupyter-widgets/base",
      "_model_module_version": "1.2.0",
      "_model_name": "LayoutModel",
      "_view_count": null,
      "_view_module": "@jupyter-widgets/base",
      "_view_module_version": "1.2.0",
      "_view_name": "LayoutView",
      "align_content": null,
      "align_items": null,
      "align_self": null,
      "border": null,
      "bottom": null,
      "display": null,
      "flex": null,
      "flex_flow": null,
      "grid_area": null,
      "grid_auto_columns": null,
      "grid_auto_flow": null,
      "grid_auto_rows": null,
      "grid_column": null,
      "grid_gap": null,
      "grid_row": null,
      "grid_template_areas": null,
      "grid_template_columns": null,
      "grid_template_rows": null,
      "height": null,
      "justify_content": null,
      "justify_items": null,
      "left": null,
      "margin": null,
      "max_height": null,
      "max_width": null,
      "min_height": null,
      "min_width": null,
      "object_fit": null,
      "object_position": null,
      "order": null,
      "overflow": null,
      "overflow_x": null,
      "overflow_y": null,
      "padding": null,
      "right": null,
      "top": null,
      "visibility": null,
      "width": null
     }
    },
    "ebbaea5013774f17a2d0e8ae68233759": {
     "model_module": "@jupyter-widgets/base",
     "model_module_version": "1.2.0",
     "model_name": "LayoutModel",
     "state": {
      "_model_module": "@jupyter-widgets/base",
      "_model_module_version": "1.2.0",
      "_model_name": "LayoutModel",
      "_view_count": null,
      "_view_module": "@jupyter-widgets/base",
      "_view_module_version": "1.2.0",
      "_view_name": "LayoutView",
      "align_content": null,
      "align_items": null,
      "align_self": null,
      "border": null,
      "bottom": null,
      "display": null,
      "flex": null,
      "flex_flow": null,
      "grid_area": null,
      "grid_auto_columns": null,
      "grid_auto_flow": null,
      "grid_auto_rows": null,
      "grid_column": null,
      "grid_gap": null,
      "grid_row": null,
      "grid_template_areas": null,
      "grid_template_columns": null,
      "grid_template_rows": null,
      "height": null,
      "justify_content": null,
      "justify_items": null,
      "left": null,
      "margin": null,
      "max_height": null,
      "max_width": null,
      "min_height": null,
      "min_width": null,
      "object_fit": null,
      "object_position": null,
      "order": null,
      "overflow": null,
      "overflow_x": null,
      "overflow_y": null,
      "padding": null,
      "right": null,
      "top": null,
      "visibility": null,
      "width": null
     }
    },
    "ef84323bc57243068c43311d9b690474": {
     "model_module": "@jupyter-widgets/controls",
     "model_module_version": "1.5.0",
     "model_name": "FloatProgressModel",
     "state": {
      "_dom_classes": [],
      "_model_module": "@jupyter-widgets/controls",
      "_model_module_version": "1.5.0",
      "_model_name": "FloatProgressModel",
      "_view_count": null,
      "_view_module": "@jupyter-widgets/controls",
      "_view_module_version": "1.5.0",
      "_view_name": "ProgressView",
      "bar_style": "success",
      "description": "",
      "description_tooltip": null,
      "layout": "IPY_MODEL_af8b58f90db740138f986c450434ea43",
      "max": 66318,
      "min": 0,
      "orientation": "horizontal",
      "style": "IPY_MODEL_4218a5d87d6e4f6f9eef348f4021eff8",
      "value": 66318
     }
    },
    "effb431e4ecd484b8a302fe6bf2c04ab": {
     "model_module": "@jupyter-widgets/controls",
     "model_module_version": "1.5.0",
     "model_name": "HBoxModel",
     "state": {
      "_dom_classes": [],
      "_model_module": "@jupyter-widgets/controls",
      "_model_module_version": "1.5.0",
      "_model_name": "HBoxModel",
      "_view_count": null,
      "_view_module": "@jupyter-widgets/controls",
      "_view_module_version": "1.5.0",
      "_view_name": "HBoxView",
      "box_style": "",
      "children": [
       "IPY_MODEL_591ddb3c58b44c44afb7444e4b7c0396",
       "IPY_MODEL_77bf440289d94036bfcffe7745fcf281",
       "IPY_MODEL_ddf2cd34a9754851b10e03919660396a"
      ],
      "layout": "IPY_MODEL_5f16bd745286438ca872426c316ec035"
     }
    },
    "f179a8211f194194829b3b27842906e2": {
     "model_module": "@jupyter-widgets/controls",
     "model_module_version": "1.5.0",
     "model_name": "HBoxModel",
     "state": {
      "_dom_classes": [],
      "_model_module": "@jupyter-widgets/controls",
      "_model_module_version": "1.5.0",
      "_model_name": "HBoxModel",
      "_view_count": null,
      "_view_module": "@jupyter-widgets/controls",
      "_view_module_version": "1.5.0",
      "_view_name": "HBoxView",
      "box_style": "",
      "children": [
       "IPY_MODEL_a46864220ab44fd59f025bf8383e6bda",
       "IPY_MODEL_a74a854d03a74fefbae7bc6650afa285",
       "IPY_MODEL_49d0838b61f4499f90c47a3e609bbbc0"
      ],
      "layout": "IPY_MODEL_ebbaea5013774f17a2d0e8ae68233759"
     }
    },
    "f336f3fbd22348158ce67056c4153354": {
     "model_module": "@jupyter-widgets/controls",
     "model_module_version": "1.5.0",
     "model_name": "DescriptionStyleModel",
     "state": {
      "_model_module": "@jupyter-widgets/controls",
      "_model_module_version": "1.5.0",
      "_model_name": "DescriptionStyleModel",
      "_view_count": null,
      "_view_module": "@jupyter-widgets/base",
      "_view_module_version": "1.2.0",
      "_view_name": "StyleView",
      "description_width": ""
     }
    },
    "f33c0dd825ac4a4589aac4c459f687a4": {
     "model_module": "@jupyter-widgets/base",
     "model_module_version": "1.2.0",
     "model_name": "LayoutModel",
     "state": {
      "_model_module": "@jupyter-widgets/base",
      "_model_module_version": "1.2.0",
      "_model_name": "LayoutModel",
      "_view_count": null,
      "_view_module": "@jupyter-widgets/base",
      "_view_module_version": "1.2.0",
      "_view_name": "LayoutView",
      "align_content": null,
      "align_items": null,
      "align_self": null,
      "border": null,
      "bottom": null,
      "display": null,
      "flex": null,
      "flex_flow": null,
      "grid_area": null,
      "grid_auto_columns": null,
      "grid_auto_flow": null,
      "grid_auto_rows": null,
      "grid_column": null,
      "grid_gap": null,
      "grid_row": null,
      "grid_template_areas": null,
      "grid_template_columns": null,
      "grid_template_rows": null,
      "height": null,
      "justify_content": null,
      "justify_items": null,
      "left": null,
      "margin": null,
      "max_height": null,
      "max_width": null,
      "min_height": null,
      "min_width": null,
      "object_fit": null,
      "object_position": null,
      "order": null,
      "overflow": null,
      "overflow_x": null,
      "overflow_y": null,
      "padding": null,
      "right": null,
      "top": null,
      "visibility": null,
      "width": null
     }
    },
    "f5b69ad512a9403d975974090db4e446": {
     "model_module": "@jupyter-widgets/controls",
     "model_module_version": "1.5.0",
     "model_name": "FloatProgressModel",
     "state": {
      "_dom_classes": [],
      "_model_module": "@jupyter-widgets/controls",
      "_model_module_version": "1.5.0",
      "_model_name": "FloatProgressModel",
      "_view_count": null,
      "_view_module": "@jupyter-widgets/controls",
      "_view_module_version": "1.5.0",
      "_view_name": "ProgressView",
      "bar_style": "success",
      "description": "",
      "description_tooltip": null,
      "layout": "IPY_MODEL_359e2add6ec440a18ca683b04e0fa0cd",
      "max": 53,
      "min": 0,
      "orientation": "horizontal",
      "style": "IPY_MODEL_ac5dd11291844236a404c66fa1e04301",
      "value": 53
     }
    },
    "f7dfcd45380b499fb4cd56f7ef177f63": {
     "model_module": "@jupyter-widgets/base",
     "model_module_version": "1.2.0",
     "model_name": "LayoutModel",
     "state": {
      "_model_module": "@jupyter-widgets/base",
      "_model_module_version": "1.2.0",
      "_model_name": "LayoutModel",
      "_view_count": null,
      "_view_module": "@jupyter-widgets/base",
      "_view_module_version": "1.2.0",
      "_view_name": "LayoutView",
      "align_content": null,
      "align_items": null,
      "align_self": null,
      "border": null,
      "bottom": null,
      "display": null,
      "flex": null,
      "flex_flow": null,
      "grid_area": null,
      "grid_auto_columns": null,
      "grid_auto_flow": null,
      "grid_auto_rows": null,
      "grid_column": null,
      "grid_gap": null,
      "grid_row": null,
      "grid_template_areas": null,
      "grid_template_columns": null,
      "grid_template_rows": null,
      "height": null,
      "justify_content": null,
      "justify_items": null,
      "left": null,
      "margin": null,
      "max_height": null,
      "max_width": null,
      "min_height": null,
      "min_width": null,
      "object_fit": null,
      "object_position": null,
      "order": null,
      "overflow": null,
      "overflow_x": null,
      "overflow_y": null,
      "padding": null,
      "right": null,
      "top": null,
      "visibility": null,
      "width": null
     }
    },
    "fd15409a864942839da6ad7164b8ada5": {
     "model_module": "@jupyter-widgets/controls",
     "model_module_version": "1.5.0",
     "model_name": "HTMLModel",
     "state": {
      "_dom_classes": [],
      "_model_module": "@jupyter-widgets/controls",
      "_model_module_version": "1.5.0",
      "_model_name": "HTMLModel",
      "_view_count": null,
      "_view_module": "@jupyter-widgets/controls",
      "_view_module_version": "1.5.0",
      "_view_name": "HTMLView",
      "description": "",
      "description_tooltip": null,
      "layout": "IPY_MODEL_7004d057dcc54add96484db36905e023",
      "placeholder": "​",
      "style": "IPY_MODEL_001540bff5c54eb8b42fb5d05664f8e0",
      "value": "pytorch_model.bin: 100%"
     }
    }
   }
  }
 },
 "nbformat": 4,
 "nbformat_minor": 4
}
