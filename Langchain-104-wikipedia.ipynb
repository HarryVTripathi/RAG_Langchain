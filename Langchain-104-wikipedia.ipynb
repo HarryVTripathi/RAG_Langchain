{
 "cells": [
  {
   "cell_type": "markdown",
   "id": "1baba3de-c385-46ab-ab0f-f1d3afb210a2",
   "metadata": {},
   "source": [
    " - https://unstructured.io/?ref=blog.langchain.dev\n",
    "\n",
    " - https://blog.langchain.dev/semi-structured-multi-modal-rag/\n",
    "\n",
    " - https://arxiv.org/pdf/2411.13773v1"
   ]
  },
  {
   "cell_type": "code",
   "execution_count": null,
   "id": "72e1e7bc-932e-4a10-a3dc-f31ccf7db8c8",
   "metadata": {},
   "outputs": [],
   "source": [
    "\"\"\"\n",
    "A Presidential election was held\n",
    "\n",
    "\n",
    "\n",
    "== Nominees ==\n",
    "\n",
    "\n",
    "=== Republican Party ===\n",
    "\n",
    "The fight for the Republican nomination...\n",
    "\n",
    "\n",
    "\n",
    "==== Republican National Convention ====\n",
    "\n",
    "When the 1952 Republican National Convention opened in Chicago...\n",
    "\n",
    "\n",
    "\n",
    "=== Democratic Party ===\n",
    "\n",
    "\n",
    "The expected candidate for the Democratic nomination was the incumbent President Harry S. Truman...\n",
    "\n",
    "\n",
    "\n",
    "==== Democratic National Convention ====\n",
    "The 1952 Democratic National Convention was held in Chicago...\n",
    "\n",
    "\n",
    "== General election ==\n",
    "\n",
    "\n",
    "=== Campaign issues ===\n",
    "The Eisenhower campaign was one of the first presidential campaigns\n",
    "\n",
    "\"\"\""
   ]
  },
  {
   "cell_type": "code",
   "execution_count": null,
   "id": "a31957f5-ba3f-42dc-83ad-b32ae5fb43e4",
   "metadata": {},
   "outputs": [],
   "source": [
    "{\n",
    "    \"introduction\": \"A Presidential election was held\",\n",
    "    \"Nominees\": {\n",
    "        \"section_text\": \"\",\n",
    "        \"subsections\": [\n",
    "            {\n",
    "                \"Republican Party\": {\n",
    "                    \"section_text\": \"The fight for the Republican nomination...\"  ,\n",
    "                    \"subsections\": [\n",
    "                        {\n",
    "                            \"Republican National Convention\": {\n",
    "                                \"section_text\": \"When the 1952 Republican National Convention opened in Chicago...\",\n",
    "                                \"subsections\": []\n",
    "                            },\n",
    "                            \n",
    "                        }\n",
    "                    ]\n",
    "                }   \n",
    "            },\n",
    "            {\n",
    "                \"Democratic Party\": {\n",
    "                    \"section_text\": \"The expected candidate for the Democratic nomination was the incumbent President Harry S. Truman...\",\n",
    "                    \"subsections\": [\n",
    "                        {\n",
    "                            \"Democratic National Convention\": {\n",
    "                                \"section_text\": \"The 1952 Democratic National Convention was held in Chicago...\",\n",
    "                                \"subsections\": []\n",
    "                            }\n",
    "                        }\n",
    "                    ]\n",
    "                },\n",
    "            }\n",
    "        ]\n",
    "    },\n",
    "    \"General election\": {\n",
    "        \"section_text\": \"\",\n",
    "        \"subsections\": [\n",
    "            {\n",
    "                \"Campaign issues\": {\n",
    "                    \"section_text\": \"The Eisenhower campaign was one of the first presidential campaigns\"  ,\n",
    "                    \"subsections\": []\n",
    "                }\n",
    "            },\n",
    "        ]\n",
    "    }\n",
    "}"
   ]
  },
  {
   "cell_type": "code",
   "execution_count": 1,
   "id": "296d2f04-a399-443a-b38c-7f8c3306a2a1",
   "metadata": {},
   "outputs": [],
   "source": [
    "import getpass\n",
    "import os\n",
    "import re"
   ]
  },
  {
   "cell_type": "code",
   "execution_count": 2,
   "id": "25141fb2-2e9f-4740-a1d9-65558667a939",
   "metadata": {},
   "outputs": [],
   "source": [
    "from langchain_groq import ChatGroq"
   ]
  },
  {
   "cell_type": "code",
   "execution_count": 3,
   "id": "8fd0674f-48fc-4fe1-853b-302aac4dd085",
   "metadata": {},
   "outputs": [
    {
     "name": "stdin",
     "output_type": "stream",
     "text": [
      " ········\n"
     ]
    }
   ],
   "source": [
    "os.environ[\"GROQ_API_KEY\"] = getpass.getpass()"
   ]
  },
  {
   "cell_type": "code",
   "execution_count": 4,
   "id": "f65b450c-398d-46f0-a0e3-15ec006e133a",
   "metadata": {},
   "outputs": [],
   "source": [
    "LLAMA_8B = \"llama3-8b-8192\"\n",
    "LLAMA_70B = \"llama3-70b-8192\"\n",
    "GEMMA2_9B = \"gemma2-9b-it\"\n",
    "\n",
    "model = ChatGroq(model=LLAMA_8B)"
   ]
  },
  {
   "cell_type": "code",
   "execution_count": 3,
   "id": "ced78c78-4680-4137-a01f-d87512017d63",
   "metadata": {},
   "outputs": [],
   "source": [
    "from langchain_core.output_parsers import StrOutputParser\n",
    "from langchain_core.prompts import ChatPromptTemplate\n",
    "from langchain_core.runnables import RunnablePassthrough"
   ]
  },
  {
   "cell_type": "code",
   "execution_count": 4,
   "id": "833a4fd9-abc4-4538-992a-ce9d4504baef",
   "metadata": {},
   "outputs": [],
   "source": [
    "from langchain_community.tools import WikipediaQueryRun\n",
    "from langchain_community.utilities import WikipediaAPIWrapper\n",
    "from langchain_community.document_loaders import WikipediaLoader\n",
    "from langchain_community.retrievers import WikipediaRetriever"
   ]
  },
  {
   "cell_type": "code",
   "execution_count": 5,
   "id": "6eba3717-27bb-45f8-8c83-5f4a92f29549",
   "metadata": {},
   "outputs": [],
   "source": [
    "retriever = WikipediaRetriever(doc_content_chars_max=100000)\n",
    "loader = WikipediaLoader(query=\"1952 United States presidential election\", load_max_docs=1, doc_content_chars_max=100000)"
   ]
  },
  {
   "cell_type": "code",
   "execution_count": 6,
   "id": "e2b41a10-eaf0-4dfe-9ef7-31695e5defe2",
   "metadata": {},
   "outputs": [],
   "source": [
    "docs = retriever.invoke(\"1952 United States presidential election\")"
   ]
  },
  {
   "cell_type": "code",
   "execution_count": 19,
   "id": "f56b9ac4-1ba1-44e8-b409-889ffa1cab43",
   "metadata": {},
   "outputs": [],
   "source": [
    "raw_text = docs[0].page_content"
   ]
  },
  {
   "cell_type": "code",
   "execution_count": 21,
   "id": "9eca0e9e-2ef2-4153-b4f7-44c02049e39a",
   "metadata": {},
   "outputs": [
    {
     "data": {
      "text/plain": [
       "38149"
      ]
     },
     "execution_count": 21,
     "metadata": {},
     "output_type": "execute_result"
    }
   ],
   "source": [
    "len(raw_text)"
   ]
  },
  {
   "cell_type": "code",
   "execution_count": 13,
   "id": "26e5b579-cbd1-42c0-b1b1-15271671f942",
   "metadata": {},
   "outputs": [],
   "source": [
    "def split_text_by_section_markers(text):\n",
    "    pattern = r\"==\\s*[\\w\\s]+\\s*==\"\n",
    "    sections = re.split(pattern, text)\n",
    "    \n",
    "    sections = [section.strip() for section in sections if section.strip()]\n",
    "    return sections"
   ]
  },
  {
   "cell_type": "code",
   "execution_count": 22,
   "id": "0a9d3d62-e18d-4da5-8adc-8d4c88c81bd4",
   "metadata": {},
   "outputs": [],
   "source": [
    "def load_and_split_wikipedia_sections(raw_text):\n",
    "    section_pattern = r\"(?m)^(==+)\\s*(.*?)\\s*\\1$\"\n",
    "\n",
    "    sections = {}\n",
    "    current_section = \"Introduction\"\n",
    "    sections[current_section] = []\n",
    "\n",
    "    for line in raw_text.split(\"\\n\"):\n",
    "        match = re.match(section_pattern, line)\n",
    "        if match:\n",
    "            current_section = match.group(2).strip()\n",
    "            sections[current_section] = []\n",
    "        else:\n",
    "            sections[current_section].append(line.strip())\n",
    "\n",
    "    sections = {key: \" \".join(filter(None, value)) for key, value in sections.items()}\n",
    "    return sections\n"
   ]
  },
  {
   "cell_type": "code",
   "execution_count": 29,
   "id": "13649b2b-54d5-4c14-9b3d-d5d54b03aedf",
   "metadata": {},
   "outputs": [],
   "source": [
    "def load_and_convert_to_json(raw_text):\n",
    "    # Regular expression to identify section and subsection headers\n",
    "    section_pattern = r\"(?m)^(==+)\\s*(.*?)\\s*\\1$\"\n",
    "\n",
    "    # Parse text into sections\n",
    "    sections = []\n",
    "    current_hierarchy = []  # Keeps track of section nesting\n",
    "    section_map = {}        # Map section titles to their content and subsections\n",
    "    section_stack = []      # Track the nested sections as a stack for JSON hierarchy\n",
    "\n",
    "    for line in raw_text.split(\"\\n\"):\n",
    "        match = re.match(section_pattern, line)\n",
    "        if match:\n",
    "            # Get the header level and title\n",
    "            header_level = len(match.group(1))  # Number of `=` defines level\n",
    "            section_title = match.group(2).strip()\n",
    "\n",
    "            # Create a new section entry\n",
    "            section_entry = {\n",
    "                \"section_text\": \"\",\n",
    "                \"subsections\": {}\n",
    "            }\n",
    "\n",
    "            # Adjust the current hierarchy based on header level\n",
    "            while len(current_hierarchy) >= header_level:\n",
    "                current_hierarchy.pop()\n",
    "                section_stack.pop()\n",
    "            \n",
    "            # Add to the parent section in the stack\n",
    "            if section_stack:\n",
    "                parent_section = section_stack[-1][\"subsections\"]\n",
    "                parent_section[section_title] = section_entry\n",
    "            else:\n",
    "                section_map[section_title] = section_entry\n",
    "\n",
    "            # Update current hierarchy and stack\n",
    "            current_hierarchy.append(section_title)\n",
    "            section_stack.append(section_entry)\n",
    "        else:\n",
    "            # Add content to the current section text\n",
    "            if section_stack:\n",
    "                section_stack[-1][\"section_text\"] += line.strip() + \" \"\n",
    "\n",
    "    # Combine the top-level sections into a JSON structure\n",
    "    return section_map\n"
   ]
  },
  {
   "cell_type": "code",
   "execution_count": 36,
   "id": "8504a2a1-9f95-4a21-ab11-6e6e7eba34b0",
   "metadata": {},
   "outputs": [],
   "source": [
    "def parse_sections_recursive(text, current_level=2):\n",
    "    \"\"\"\n",
    "    Recursively parse text into sections and subsections.\n",
    "    Args:\n",
    "        text (str): The Wikipedia-like content.\n",
    "        current_level (int): The current header level to process (default is 2 for `==`).\n",
    "    Returns:\n",
    "        list: A structured representation of the sections.\n",
    "    \"\"\"\n",
    "    # Regular expression to identify section headers at the current level\n",
    "    section_pattern = rf\"(?m)^(={'=' * current_level})\\s*(.*?)\\s*\\1$\"\n",
    "    matches = list(re.finditer(section_pattern, text))\n",
    "\n",
    "    if not matches:\n",
    "        return []\n",
    "\n",
    "    sections = []\n",
    "    for i, match in enumerate(matches):\n",
    "        section_title = match.group(2).strip()\n",
    "        start_pos = match.end()\n",
    "        end_pos = matches[i + 1].start() if i + 1 < len(matches) else len(text)\n",
    "\n",
    "        # Get the section content and process its subsections\n",
    "        section_content = text[start_pos:end_pos].strip()\n",
    "        subsections = parse_sections_recursive(section_content, current_level + 1)\n",
    "\n",
    "        sections.append({\n",
    "            section_title: {\n",
    "                \"section_text\": section_content if not subsections else \"\",\n",
    "                \"subsections\": subsections\n",
    "            }\n",
    "        })\n",
    "\n",
    "    return sections\n",
    "\n",
    "\n",
    "def wikipedia_to_json(text):\n",
    "    \"\"\"\n",
    "    Converts Wikipedia-like text into a nested JSON structure.\n",
    "    Args:\n",
    "        text (str): The Wikipedia-like content.\n",
    "    Returns:\n",
    "        dict: The JSON representation of the content.\n",
    "    \"\"\"\n",
    "    # Extract introduction (before the first header)\n",
    "    section_pattern = r\"(?m)^==+\\s*.*?\\s*==+$\"\n",
    "    match = re.search(section_pattern, text)\n",
    "    introduction = text[:match.start()].strip() if match else text.strip()\n",
    "\n",
    "    # Parse main sections\n",
    "    main_sections = parse_sections_recursive(text)\n",
    "\n",
    "    return {\n",
    "        \"introduction\": introduction,\n",
    "        **{list(section.keys())[0]: list(section.values())[0] for section in main_sections}\n",
    "    }"
   ]
  },
  {
   "cell_type": "code",
   "execution_count": 50,
   "id": "16c0373c-34e6-4665-a5e4-90c94fd580d6",
   "metadata": {},
   "outputs": [],
   "source": [
    "import re\n",
    "import json\n",
    "\n",
    "def parse_text_to_json(text):\n",
    "    \"\"\"\n",
    "    Parse the given semi-structured Wikipedia text into a nested JSON structure.\n",
    "    \"\"\"\n",
    "    section_pattern = r\"(?m)^(==+)\\s*(.*?)\\s*\\1$\"\n",
    "    matches = list(re.finditer(section_pattern, text))\n",
    "    \n",
    "    def create_section_hierarchy(matches, text, level=2):\n",
    "        \"\"\"\n",
    "        Recursively build a section hierarchy based on header levels.\n",
    "        \"\"\"\n",
    "        sections = []\n",
    "        i = 0\n",
    "\n",
    "        while i < len(matches):\n",
    "            match = matches[i]\n",
    "            current_level = len(match.group(1))  # Number of '=' indicates header level\n",
    "            title = match.group(2).strip()\n",
    "\n",
    "            # Ensure we're processing only the headers at the current level\n",
    "            if current_level != level:\n",
    "                i += 1\n",
    "                continue\n",
    "\n",
    "            # Find the start and end positions of this section\n",
    "            start_pos = match.end()\n",
    "            end_pos = matches[i + 1].start() if i + 1 < len(matches) else len(text)\n",
    "\n",
    "            # Extract section text and process subsections\n",
    "            section_text = text[start_pos:end_pos].strip()\n",
    "            subsections = create_section_hierarchy(matches[i + 1:], text, level + 1)\n",
    "\n",
    "            # Create the section dictionary\n",
    "            section = {\n",
    "                title: {\n",
    "                    \"section_text\": section_text,\n",
    "                    \"subsections\": subsections\n",
    "                }\n",
    "            }\n",
    "            sections.append(section)\n",
    "\n",
    "            # Skip processed subsections\n",
    "            i += 1\n",
    "            while i < len(matches) and len(matches[i].group(1)) > level:\n",
    "                i += 1\n",
    "\n",
    "        return sections\n",
    "\n",
    "    # Parse the introduction (content before the first header)\n",
    "    introduction_end = matches[0].start() if matches else len(text)\n",
    "    introduction = text[:introduction_end].strip()\n",
    "\n",
    "    # Build the sections hierarchy\n",
    "    sections = create_section_hierarchy(matches, text)\n",
    "\n",
    "    # Combine introduction with the main sections\n",
    "    result = {\"introduction\": introduction}\n",
    "    for section in sections:\n",
    "        result.update(section)\n",
    "\n",
    "    return result\n"
   ]
  },
  {
   "cell_type": "code",
   "execution_count": 14,
   "id": "db03aec5-22f3-44ad-b598-db128420e5a1",
   "metadata": {},
   "outputs": [],
   "source": [
    "sections = split_text_by_section_markers(docs[0].page_content[:8000])"
   ]
  },
  {
   "cell_type": "code",
   "execution_count": 23,
   "id": "bac61c55-e827-49b2-a9ba-5607d7a34375",
   "metadata": {},
   "outputs": [],
   "source": [
    "sections = load_and_split_wikipedia_sections(raw_text)"
   ]
  },
  {
   "cell_type": "code",
   "execution_count": 30,
   "id": "7289111a-be8a-4051-9565-cf1315076166",
   "metadata": {},
   "outputs": [],
   "source": [
    "sections = load_and_convert_to_json(raw_text)"
   ]
  },
  {
   "cell_type": "code",
   "execution_count": 37,
   "id": "cb1c1901-395f-445a-bd96-ced76907c115",
   "metadata": {},
   "outputs": [],
   "source": [
    "sections = parse_sections_recursive(raw_text)"
   ]
  },
  {
   "cell_type": "code",
   "execution_count": 51,
   "id": "28c65b42-c404-49c7-af2d-7472ac00ea38",
   "metadata": {},
   "outputs": [],
   "source": [
    "sections = parse_text_to_json(raw_text)"
   ]
  },
  {
   "cell_type": "code",
   "execution_count": 53,
   "id": "7406e064-6805-448f-ac1b-028691cf9e3a",
   "metadata": {},
   "outputs": [
    {
     "name": "stdout",
     "output_type": "stream",
     "text": [
      "dict_keys(['introduction', 'Nominees', 'General election', 'See also', 'Notes', 'References', 'Further reading', 'External links'])\n"
     ]
    }
   ],
   "source": [
    "print(sections.keys())"
   ]
  },
  {
   "cell_type": "code",
   "execution_count": 56,
   "id": "ce0791b1-1ecd-4f80-b160-28a36df2e29c",
   "metadata": {},
   "outputs": [
    {
     "data": {
      "text/plain": [
       "{'Republican Party': {'section_text': \"The fight for the Republican nomination was between General Dwight D. Eisenhower, who became the candidate of the party's moderate Eastern Establishment; Senator Robert A. Taft from Ohio, the longtime leader of the party's conservative wing; Governor Earl Warren of California, who appealed to Western delegates and independent voters; and former Governor Harold Stassen of Minnesota, who still had a base of support in the Midwest.\\nThe moderate Eastern Republicans were led by New York Governor Thomas E. Dewey, the party's presidential nominee in 1944 and 1948. The moderates tended to be interventionists who felt that the country needed to fight the Cold War overseas and confront the Soviet Union in Eurasia. They were also willing to accept most aspects of the social welfare state created by the New Deal in the 1930s but sought to reform the programs to be more efficient and business-friendly. The moderates were also concerned with ending the Republicans' losing streak in presidential elections and felt that the popular Eisenhower had the best chance of beating the Democrats. For that reason, Dewey declined the notion of a third run for president despite his large amount of support within the party. The Republicans had been out of power for 20 years, and there was a strong sentiment that a proper two-party system needed to be re-established. It was also felt that the party winning the White House would have more incentive to rein in radicals and demagogues such as Wisconsin Senator Joseph McCarthy.\\nThe conservative Republicans, led by Taft, were based in the Midwest and parts of the South. The Midwest was a bastion of conservatism and isolationist sentiment. Dislike of Europeans, in particular the British, was common, and there was a widespread feeling that the British manipulated American foreign policy and were eager to kowtow to the Soviet Union, although such attitudes had begun to change among the younger generation who had fought in World War II. In addition, the conservatives opposed much of the New Deal, regarding these programs as diminishing individual liberty and economic freedom. Taft had unsuccessfully sought the Republican nomination in the 1940 and 1948 presidential elections but lost both times to moderate candidates from New York: Wilkie and Dewey respectively. At the age of 63, Taft felt that it was his last chance to run for president so his friends and supporters, encompassing many party regulars, worked diligently on his behalf. His feelings were correct, as he died about nine months after the election.\\nWarren, although highly popular in California, refused to campaign in the presidential primaries, which limited his chances of winning the nomination. He retained the support of the California delegation, and his supporters hoped that in the event of an Eisenhower–Taft deadlock, Warren might emerge as a compromise candidate.\\nAfter being persuaded to run, Eisenhower scored a major victory in the New Hampshire primary in which his supporters wrote his name onto the ballot and gave him an upset victory over Taft. However, until the Republican National Convention, the primaries were divided fairly evenly between the two, and when the convention opened, the race for the nomination was still too close to call. Taft won the Nebraska, Wisconsin, Illinois, and South Dakota primaries, and Eisenhower won those in New Jersey, Pennsylvania, Massachusetts and Oregon. Stassen and Warren won only their home states of Minnesota and California respectively, which effectively ended their chances of earning the nomination. General Douglas MacArthur also won the support of ten delegates from various states (mostly in Oregon) but had made it clear from early in the race that he had no interest in being nominated.\",\n",
       "  'subsections': [{'Republican National Convention': {'section_text': 'When the 1952 Republican National Convention opened in Chicago, most political experts rated Taft and Eisenhower as about equal in delegate vote totals. Eisenhower\\'s managers, led by both Dewey and Massachusetts Senator Henry Cabot Lodge Jr., accused Taft of \"stealing\" delegate votes in Southern states such as Texas and Georgia, and claimed that Taft\\'s leaders in those states had unfairly denied delegate spots to Eisenhower supporters, putting Taft delegates in their place. Lodge and Dewey proposed to evict the Taft delegates in those states and replace them with Eisenhower delegates and called the proposal \"Fair Play.\" Although Taft and his supporters angrily denied that charge, the convention voted to support Fair Play 658 to 548, and Taft lost many Southern delegates. Eisenhower\\'s chances were boosted when several uncommitted state delegations, such as Michigan and Pennsylvania, decided to support him and also when Stassen released his delegates and asked them to support Eisenhower. The removal of many Southern delegates and the support of the uncommitted states decided the nomination in Eisenhower\\'s favor.\\nHowever, the convention was among the most bitter and emotional in American history. When Senator Everett Dirksen from Illinois, a Taft supporter, pointed at Dewey on the convention floor during a speech and accused him of leading the Republicans \"down the road to defeat,\" mixed boos and cheers rang out from the delegates, and there were even fistfights between some Taft and Eisenhower delegates.\\nIn the end, Eisenhower narrowly defeated Taft on the first ballot. To heal the wounds caused by the battle, he visited Taft\\'s hotel suite and met with him. Taft issued a brief statement congratulating Eisenhower on his victory, but he was bitter about the accusation that he had stolen delegates and withheld his active support for Eisenhower for several weeks after the convention. In September 1952, Taft and Eisenhower met again at Morningside Heights, in New York City. Taft promised there an active support of Eisenhower in exchange for the fulfillment of a number of requests such as a demand that Eisenhower would offer Taft\\'s followers a fair share of patronage positions if he won the election and that Eisenhower would agree to balance the federal budget and \"fight creeping domestic socialism in every field.\" Eisenhower agreed to the terms, and Taft campaigned assiduously for the Republican ticket. In fact, Eisenhower and Taft agreed on most domestic issues, and their disagreements were primarily on foreign policy.\\nThough there were initial suggestions that Warren could earn the party\\'s vice-presidential slot for the second successive election if he withdrew and endorsed Eisenhower, he ultimately chose not to do so. Eisenhower wished to award the vice-presidential nod to Stassen, who had endorsed Eisenhower and held generally similar political positions. However, the party bosses wanted to find a running mate who could mollify Taft\\'s supporters, as the schism between the moderate and conservative wings was so severe that it was feared that party\\'s conservatives would run Taft as a third-party candidate.\\nEisenhower had apparently given little thought to choosing his running mate. When asked, he replied that he assumed the convention would pick someone. The spot ultimately fell to the young California Senator Richard Nixon, who was viewed as a centrist. Nixon was known as an aggressive campaigner and a fierce anti-communist but as one who shied away from some of the more extreme ideas of the party\\'s right wing, including isolationism and the dismantling of the New Deal. Most historians now believe that Eisenhower\\'s nomination was the result of his perceived electability against the Democrats. Most of the delegates were conservatives who would probably have supported Taft if they felt that he could win the general election.\\nDespite not earning the presidential or the vice-presidential nomination, Warren would be appointed as Chief Justice of the United States in October 1953, and Stassen would hold various positions within Eisenhower\\'s administration.\\nThe balloting at the Republican convention went as follows:',\n",
       "     'subsections': []}},\n",
       "   {'Democratic National Convention': {'section_text': \"The 1952 Democratic National Convention was held in Chicago in the same Coliseum that the Republicans had gathered in several weeks earlier. Since the convention was being held in his home state, Governor Stevenson, who still proclaimed that he was not a presidential candidate, was asked to give the welcoming address to the delegates. He proceeded to give a witty and stirring address that led his supporters to begin a renewed round of efforts to nominate him despite his protests. After meeting with Jacob Arvey, the boss of the Illinois delegation, Stevenson finally agreed to enter his name as a candidate for the nomination. The party bosses from other large Northern and Midwestern states quickly joined in support. Kefauver led on the first ballot, but he had far fewer votes than necessary to win. Stevenson gradually gained strength until he was nominated on the third ballot.\\nAfter the delegates nominated Stevenson, the convention then turned to selecting a vice-presidential nominee. After narrowing it down to Senators John Sparkman, and A. S. Mike Monroney, President Truman and a small group of political insiders chose Sparkman, a conservative segregationist from Alabama, for the nomination. The convention largely complied and nominated Sparkman as Stevenson's running mate. He was chosen because of his Southern identity and conservative record, which party leaders hoped would create a balanced ticket.\\nSparkman remained in the Senate until his retirement in 1978.\",\n",
       "     'subsections': []}},\n",
       "   {'States that flipped from Democratic to Republican': {'section_text': 'Arizona\\nCalifornia\\nColorado\\nFlorida\\nIdaho\\nIllinois\\nIowa\\nMassachusetts\\nMinnesota\\nMissouri\\nMontana\\nNevada\\nNew Mexico\\nOhio\\nOklahoma\\nRhode Island\\nTennessee\\nTexas\\nUtah\\nVirginia\\nWashington\\nWisconsin\\nWyoming',\n",
       "     'subsections': []}},\n",
       "   {'States that flipped from Dixiecrat to Democratic': {'section_text': 'Alabama\\nLouisiana\\nMississippi\\nSouth Carolina',\n",
       "     'subsections': []}},\n",
       "   {'Statistics': {'section_text': 'Counties with highest percent of vote (Republican)\\n\\nPlaquemines Parish, Louisiana 92.97%\\nGillespie County, Texas 92.29%\\nMcIntosh County, North Dakota 90.89%\\nCampbell County, South Dakota 90.14%\\nKenedy County, Texas 88.52%\\nCounties with highest percent of vote (Democratic)\\n\\nGreene County, North Carolina 94.12%\\nHart County, Georgia 94.08%\\nTreutlen County, Georgia 93.34%\\nMartin County, North Carolina 92.98%\\nWalton County, Georgia 91.89%',\n",
       "     'subsections': []}}]}}"
      ]
     },
     "execution_count": 56,
     "metadata": {},
     "output_type": "execute_result"
    }
   ],
   "source": [
    "sections[\"Nominees\"][\"subsections\"][0]"
   ]
  },
  {
   "cell_type": "code",
   "execution_count": 32,
   "id": "4c09ef53-f7b3-47cb-8c6f-a895438419d1",
   "metadata": {},
   "outputs": [],
   "source": [
    "prompt = ChatPromptTemplate.from_template(\n",
    "    \"\"\"\n",
    "    Answer the question on US elections based only on the context provided.\n",
    "    Context: {context}\n",
    "    Question: {question}\n",
    "    \"\"\"\n",
    ")\n",
    "\n",
    "\n",
    "def format_docs(docs):\n",
    "    return \"\\n\\n\".join(doc.page_content for doc in docs)\n",
    "\n",
    "\n",
    "chain = (\n",
    "    {\"context\": retriever | format_docs, \"question\": RunnablePassthrough()}\n",
    "    | prompt\n",
    "    | model\n",
    "    | StrOutputParser()\n",
    ")"
   ]
  },
  {
   "cell_type": "code",
   "execution_count": 33,
   "id": "e4190a65-6910-494b-b300-39996626beec",
   "metadata": {},
   "outputs": [
    {
     "ename": "APIStatusError",
     "evalue": "Error code: 413 - {'error': {'message': 'Request too large for model `llama3-8b-8192` in organization `org_01j2xje983ftybdz1qzan5tk9v` on tokens per minute (TPM): Limit 30000, Requested 68259, please reduce your message size and try again. Visit https://console.groq.com/docs/rate-limits for more information.', 'type': 'tokens', 'code': 'rate_limit_exceeded'}}",
     "output_type": "error",
     "traceback": [
      "\u001b[1;31m---------------------------------------------------------------------------\u001b[0m",
      "\u001b[1;31mAPIStatusError\u001b[0m                            Traceback (most recent call last)",
      "Cell \u001b[1;32mIn[33], line 3\u001b[0m\n\u001b[0;32m      1\u001b[0m question \u001b[38;5;241m=\u001b[39m \u001b[38;5;124m\"\u001b[39m\u001b[38;5;124mMention the key election campaign issues and the positions of both the parties\u001b[39m\u001b[38;5;124m\"\u001b[39m\n\u001b[1;32m----> 3\u001b[0m response \u001b[38;5;241m=\u001b[39m \u001b[43mchain\u001b[49m\u001b[38;5;241;43m.\u001b[39;49m\u001b[43minvoke\u001b[49m\u001b[43m(\u001b[49m\u001b[43mquestion\u001b[49m\u001b[43m)\u001b[49m\n",
      "File \u001b[1;32m~\\Documents\\DS\\RAG\\RAG_Langchain\\Lib\\site-packages\\langchain_core\\runnables\\base.py:3024\u001b[0m, in \u001b[0;36mRunnableSequence.invoke\u001b[1;34m(self, input, config, **kwargs)\u001b[0m\n\u001b[0;32m   3022\u001b[0m             \u001b[38;5;28minput\u001b[39m \u001b[38;5;241m=\u001b[39m context\u001b[38;5;241m.\u001b[39mrun(step\u001b[38;5;241m.\u001b[39minvoke, \u001b[38;5;28minput\u001b[39m, config, \u001b[38;5;241m*\u001b[39m\u001b[38;5;241m*\u001b[39mkwargs)\n\u001b[0;32m   3023\u001b[0m         \u001b[38;5;28;01melse\u001b[39;00m:\n\u001b[1;32m-> 3024\u001b[0m             \u001b[38;5;28minput\u001b[39m \u001b[38;5;241m=\u001b[39m \u001b[43mcontext\u001b[49m\u001b[38;5;241;43m.\u001b[39;49m\u001b[43mrun\u001b[49m\u001b[43m(\u001b[49m\u001b[43mstep\u001b[49m\u001b[38;5;241;43m.\u001b[39;49m\u001b[43minvoke\u001b[49m\u001b[43m,\u001b[49m\u001b[43m \u001b[49m\u001b[38;5;28;43minput\u001b[39;49m\u001b[43m,\u001b[49m\u001b[43m \u001b[49m\u001b[43mconfig\u001b[49m\u001b[43m)\u001b[49m\n\u001b[0;32m   3025\u001b[0m \u001b[38;5;66;03m# finish the root run\u001b[39;00m\n\u001b[0;32m   3026\u001b[0m \u001b[38;5;28;01mexcept\u001b[39;00m \u001b[38;5;167;01mBaseException\u001b[39;00m \u001b[38;5;28;01mas\u001b[39;00m e:\n",
      "File \u001b[1;32m~\\Documents\\DS\\RAG\\RAG_Langchain\\Lib\\site-packages\\langchain_core\\language_models\\chat_models.py:286\u001b[0m, in \u001b[0;36mBaseChatModel.invoke\u001b[1;34m(self, input, config, stop, **kwargs)\u001b[0m\n\u001b[0;32m    275\u001b[0m \u001b[38;5;28;01mdef\u001b[39;00m \u001b[38;5;21minvoke\u001b[39m(\n\u001b[0;32m    276\u001b[0m     \u001b[38;5;28mself\u001b[39m,\n\u001b[0;32m    277\u001b[0m     \u001b[38;5;28minput\u001b[39m: LanguageModelInput,\n\u001b[1;32m   (...)\u001b[0m\n\u001b[0;32m    281\u001b[0m     \u001b[38;5;241m*\u001b[39m\u001b[38;5;241m*\u001b[39mkwargs: Any,\n\u001b[0;32m    282\u001b[0m ) \u001b[38;5;241m-\u001b[39m\u001b[38;5;241m>\u001b[39m BaseMessage:\n\u001b[0;32m    283\u001b[0m     config \u001b[38;5;241m=\u001b[39m ensure_config(config)\n\u001b[0;32m    284\u001b[0m     \u001b[38;5;28;01mreturn\u001b[39;00m cast(\n\u001b[0;32m    285\u001b[0m         ChatGeneration,\n\u001b[1;32m--> 286\u001b[0m         \u001b[38;5;28;43mself\u001b[39;49m\u001b[38;5;241;43m.\u001b[39;49m\u001b[43mgenerate_prompt\u001b[49m\u001b[43m(\u001b[49m\n\u001b[0;32m    287\u001b[0m \u001b[43m            \u001b[49m\u001b[43m[\u001b[49m\u001b[38;5;28;43mself\u001b[39;49m\u001b[38;5;241;43m.\u001b[39;49m\u001b[43m_convert_input\u001b[49m\u001b[43m(\u001b[49m\u001b[38;5;28;43minput\u001b[39;49m\u001b[43m)\u001b[49m\u001b[43m]\u001b[49m\u001b[43m,\u001b[49m\n\u001b[0;32m    288\u001b[0m \u001b[43m            \u001b[49m\u001b[43mstop\u001b[49m\u001b[38;5;241;43m=\u001b[39;49m\u001b[43mstop\u001b[49m\u001b[43m,\u001b[49m\n\u001b[0;32m    289\u001b[0m \u001b[43m            \u001b[49m\u001b[43mcallbacks\u001b[49m\u001b[38;5;241;43m=\u001b[39;49m\u001b[43mconfig\u001b[49m\u001b[38;5;241;43m.\u001b[39;49m\u001b[43mget\u001b[49m\u001b[43m(\u001b[49m\u001b[38;5;124;43m\"\u001b[39;49m\u001b[38;5;124;43mcallbacks\u001b[39;49m\u001b[38;5;124;43m\"\u001b[39;49m\u001b[43m)\u001b[49m\u001b[43m,\u001b[49m\n\u001b[0;32m    290\u001b[0m \u001b[43m            \u001b[49m\u001b[43mtags\u001b[49m\u001b[38;5;241;43m=\u001b[39;49m\u001b[43mconfig\u001b[49m\u001b[38;5;241;43m.\u001b[39;49m\u001b[43mget\u001b[49m\u001b[43m(\u001b[49m\u001b[38;5;124;43m\"\u001b[39;49m\u001b[38;5;124;43mtags\u001b[39;49m\u001b[38;5;124;43m\"\u001b[39;49m\u001b[43m)\u001b[49m\u001b[43m,\u001b[49m\n\u001b[0;32m    291\u001b[0m \u001b[43m            \u001b[49m\u001b[43mmetadata\u001b[49m\u001b[38;5;241;43m=\u001b[39;49m\u001b[43mconfig\u001b[49m\u001b[38;5;241;43m.\u001b[39;49m\u001b[43mget\u001b[49m\u001b[43m(\u001b[49m\u001b[38;5;124;43m\"\u001b[39;49m\u001b[38;5;124;43mmetadata\u001b[39;49m\u001b[38;5;124;43m\"\u001b[39;49m\u001b[43m)\u001b[49m\u001b[43m,\u001b[49m\n\u001b[0;32m    292\u001b[0m \u001b[43m            \u001b[49m\u001b[43mrun_name\u001b[49m\u001b[38;5;241;43m=\u001b[39;49m\u001b[43mconfig\u001b[49m\u001b[38;5;241;43m.\u001b[39;49m\u001b[43mget\u001b[49m\u001b[43m(\u001b[49m\u001b[38;5;124;43m\"\u001b[39;49m\u001b[38;5;124;43mrun_name\u001b[39;49m\u001b[38;5;124;43m\"\u001b[39;49m\u001b[43m)\u001b[49m\u001b[43m,\u001b[49m\n\u001b[0;32m    293\u001b[0m \u001b[43m            \u001b[49m\u001b[43mrun_id\u001b[49m\u001b[38;5;241;43m=\u001b[39;49m\u001b[43mconfig\u001b[49m\u001b[38;5;241;43m.\u001b[39;49m\u001b[43mpop\u001b[49m\u001b[43m(\u001b[49m\u001b[38;5;124;43m\"\u001b[39;49m\u001b[38;5;124;43mrun_id\u001b[39;49m\u001b[38;5;124;43m\"\u001b[39;49m\u001b[43m,\u001b[49m\u001b[43m \u001b[49m\u001b[38;5;28;43;01mNone\u001b[39;49;00m\u001b[43m)\u001b[49m\u001b[43m,\u001b[49m\n\u001b[0;32m    294\u001b[0m \u001b[43m            \u001b[49m\u001b[38;5;241;43m*\u001b[39;49m\u001b[38;5;241;43m*\u001b[39;49m\u001b[43mkwargs\u001b[49m\u001b[43m,\u001b[49m\n\u001b[0;32m    295\u001b[0m \u001b[43m        \u001b[49m\u001b[43m)\u001b[49m\u001b[38;5;241m.\u001b[39mgenerations[\u001b[38;5;241m0\u001b[39m][\u001b[38;5;241m0\u001b[39m],\n\u001b[0;32m    296\u001b[0m     )\u001b[38;5;241m.\u001b[39mmessage\n",
      "File \u001b[1;32m~\\Documents\\DS\\RAG\\RAG_Langchain\\Lib\\site-packages\\langchain_core\\language_models\\chat_models.py:786\u001b[0m, in \u001b[0;36mBaseChatModel.generate_prompt\u001b[1;34m(self, prompts, stop, callbacks, **kwargs)\u001b[0m\n\u001b[0;32m    778\u001b[0m \u001b[38;5;28;01mdef\u001b[39;00m \u001b[38;5;21mgenerate_prompt\u001b[39m(\n\u001b[0;32m    779\u001b[0m     \u001b[38;5;28mself\u001b[39m,\n\u001b[0;32m    780\u001b[0m     prompts: \u001b[38;5;28mlist\u001b[39m[PromptValue],\n\u001b[1;32m   (...)\u001b[0m\n\u001b[0;32m    783\u001b[0m     \u001b[38;5;241m*\u001b[39m\u001b[38;5;241m*\u001b[39mkwargs: Any,\n\u001b[0;32m    784\u001b[0m ) \u001b[38;5;241m-\u001b[39m\u001b[38;5;241m>\u001b[39m LLMResult:\n\u001b[0;32m    785\u001b[0m     prompt_messages \u001b[38;5;241m=\u001b[39m [p\u001b[38;5;241m.\u001b[39mto_messages() \u001b[38;5;28;01mfor\u001b[39;00m p \u001b[38;5;129;01min\u001b[39;00m prompts]\n\u001b[1;32m--> 786\u001b[0m     \u001b[38;5;28;01mreturn\u001b[39;00m \u001b[38;5;28;43mself\u001b[39;49m\u001b[38;5;241;43m.\u001b[39;49m\u001b[43mgenerate\u001b[49m\u001b[43m(\u001b[49m\u001b[43mprompt_messages\u001b[49m\u001b[43m,\u001b[49m\u001b[43m \u001b[49m\u001b[43mstop\u001b[49m\u001b[38;5;241;43m=\u001b[39;49m\u001b[43mstop\u001b[49m\u001b[43m,\u001b[49m\u001b[43m \u001b[49m\u001b[43mcallbacks\u001b[49m\u001b[38;5;241;43m=\u001b[39;49m\u001b[43mcallbacks\u001b[49m\u001b[43m,\u001b[49m\u001b[43m \u001b[49m\u001b[38;5;241;43m*\u001b[39;49m\u001b[38;5;241;43m*\u001b[39;49m\u001b[43mkwargs\u001b[49m\u001b[43m)\u001b[49m\n",
      "File \u001b[1;32m~\\Documents\\DS\\RAG\\RAG_Langchain\\Lib\\site-packages\\langchain_core\\language_models\\chat_models.py:643\u001b[0m, in \u001b[0;36mBaseChatModel.generate\u001b[1;34m(self, messages, stop, callbacks, tags, metadata, run_name, run_id, **kwargs)\u001b[0m\n\u001b[0;32m    641\u001b[0m         \u001b[38;5;28;01mif\u001b[39;00m run_managers:\n\u001b[0;32m    642\u001b[0m             run_managers[i]\u001b[38;5;241m.\u001b[39mon_llm_error(e, response\u001b[38;5;241m=\u001b[39mLLMResult(generations\u001b[38;5;241m=\u001b[39m[]))\n\u001b[1;32m--> 643\u001b[0m         \u001b[38;5;28;01mraise\u001b[39;00m e\n\u001b[0;32m    644\u001b[0m flattened_outputs \u001b[38;5;241m=\u001b[39m [\n\u001b[0;32m    645\u001b[0m     LLMResult(generations\u001b[38;5;241m=\u001b[39m[res\u001b[38;5;241m.\u001b[39mgenerations], llm_output\u001b[38;5;241m=\u001b[39mres\u001b[38;5;241m.\u001b[39mllm_output)  \u001b[38;5;66;03m# type: ignore[list-item]\u001b[39;00m\n\u001b[0;32m    646\u001b[0m     \u001b[38;5;28;01mfor\u001b[39;00m res \u001b[38;5;129;01min\u001b[39;00m results\n\u001b[0;32m    647\u001b[0m ]\n\u001b[0;32m    648\u001b[0m llm_output \u001b[38;5;241m=\u001b[39m \u001b[38;5;28mself\u001b[39m\u001b[38;5;241m.\u001b[39m_combine_llm_outputs([res\u001b[38;5;241m.\u001b[39mllm_output \u001b[38;5;28;01mfor\u001b[39;00m res \u001b[38;5;129;01min\u001b[39;00m results])\n",
      "File \u001b[1;32m~\\Documents\\DS\\RAG\\RAG_Langchain\\Lib\\site-packages\\langchain_core\\language_models\\chat_models.py:633\u001b[0m, in \u001b[0;36mBaseChatModel.generate\u001b[1;34m(self, messages, stop, callbacks, tags, metadata, run_name, run_id, **kwargs)\u001b[0m\n\u001b[0;32m    630\u001b[0m \u001b[38;5;28;01mfor\u001b[39;00m i, m \u001b[38;5;129;01min\u001b[39;00m \u001b[38;5;28menumerate\u001b[39m(messages):\n\u001b[0;32m    631\u001b[0m     \u001b[38;5;28;01mtry\u001b[39;00m:\n\u001b[0;32m    632\u001b[0m         results\u001b[38;5;241m.\u001b[39mappend(\n\u001b[1;32m--> 633\u001b[0m             \u001b[38;5;28;43mself\u001b[39;49m\u001b[38;5;241;43m.\u001b[39;49m\u001b[43m_generate_with_cache\u001b[49m\u001b[43m(\u001b[49m\n\u001b[0;32m    634\u001b[0m \u001b[43m                \u001b[49m\u001b[43mm\u001b[49m\u001b[43m,\u001b[49m\n\u001b[0;32m    635\u001b[0m \u001b[43m                \u001b[49m\u001b[43mstop\u001b[49m\u001b[38;5;241;43m=\u001b[39;49m\u001b[43mstop\u001b[49m\u001b[43m,\u001b[49m\n\u001b[0;32m    636\u001b[0m \u001b[43m                \u001b[49m\u001b[43mrun_manager\u001b[49m\u001b[38;5;241;43m=\u001b[39;49m\u001b[43mrun_managers\u001b[49m\u001b[43m[\u001b[49m\u001b[43mi\u001b[49m\u001b[43m]\u001b[49m\u001b[43m \u001b[49m\u001b[38;5;28;43;01mif\u001b[39;49;00m\u001b[43m \u001b[49m\u001b[43mrun_managers\u001b[49m\u001b[43m \u001b[49m\u001b[38;5;28;43;01melse\u001b[39;49;00m\u001b[43m \u001b[49m\u001b[38;5;28;43;01mNone\u001b[39;49;00m\u001b[43m,\u001b[49m\n\u001b[0;32m    637\u001b[0m \u001b[43m                \u001b[49m\u001b[38;5;241;43m*\u001b[39;49m\u001b[38;5;241;43m*\u001b[39;49m\u001b[43mkwargs\u001b[49m\u001b[43m,\u001b[49m\n\u001b[0;32m    638\u001b[0m \u001b[43m            \u001b[49m\u001b[43m)\u001b[49m\n\u001b[0;32m    639\u001b[0m         )\n\u001b[0;32m    640\u001b[0m     \u001b[38;5;28;01mexcept\u001b[39;00m \u001b[38;5;167;01mBaseException\u001b[39;00m \u001b[38;5;28;01mas\u001b[39;00m e:\n\u001b[0;32m    641\u001b[0m         \u001b[38;5;28;01mif\u001b[39;00m run_managers:\n",
      "File \u001b[1;32m~\\Documents\\DS\\RAG\\RAG_Langchain\\Lib\\site-packages\\langchain_core\\language_models\\chat_models.py:851\u001b[0m, in \u001b[0;36mBaseChatModel._generate_with_cache\u001b[1;34m(self, messages, stop, run_manager, **kwargs)\u001b[0m\n\u001b[0;32m    849\u001b[0m \u001b[38;5;28;01melse\u001b[39;00m:\n\u001b[0;32m    850\u001b[0m     \u001b[38;5;28;01mif\u001b[39;00m inspect\u001b[38;5;241m.\u001b[39msignature(\u001b[38;5;28mself\u001b[39m\u001b[38;5;241m.\u001b[39m_generate)\u001b[38;5;241m.\u001b[39mparameters\u001b[38;5;241m.\u001b[39mget(\u001b[38;5;124m\"\u001b[39m\u001b[38;5;124mrun_manager\u001b[39m\u001b[38;5;124m\"\u001b[39m):\n\u001b[1;32m--> 851\u001b[0m         result \u001b[38;5;241m=\u001b[39m \u001b[38;5;28;43mself\u001b[39;49m\u001b[38;5;241;43m.\u001b[39;49m\u001b[43m_generate\u001b[49m\u001b[43m(\u001b[49m\n\u001b[0;32m    852\u001b[0m \u001b[43m            \u001b[49m\u001b[43mmessages\u001b[49m\u001b[43m,\u001b[49m\u001b[43m \u001b[49m\u001b[43mstop\u001b[49m\u001b[38;5;241;43m=\u001b[39;49m\u001b[43mstop\u001b[49m\u001b[43m,\u001b[49m\u001b[43m \u001b[49m\u001b[43mrun_manager\u001b[49m\u001b[38;5;241;43m=\u001b[39;49m\u001b[43mrun_manager\u001b[49m\u001b[43m,\u001b[49m\u001b[43m \u001b[49m\u001b[38;5;241;43m*\u001b[39;49m\u001b[38;5;241;43m*\u001b[39;49m\u001b[43mkwargs\u001b[49m\n\u001b[0;32m    853\u001b[0m \u001b[43m        \u001b[49m\u001b[43m)\u001b[49m\n\u001b[0;32m    854\u001b[0m     \u001b[38;5;28;01melse\u001b[39;00m:\n\u001b[0;32m    855\u001b[0m         result \u001b[38;5;241m=\u001b[39m \u001b[38;5;28mself\u001b[39m\u001b[38;5;241m.\u001b[39m_generate(messages, stop\u001b[38;5;241m=\u001b[39mstop, \u001b[38;5;241m*\u001b[39m\u001b[38;5;241m*\u001b[39mkwargs)\n",
      "File \u001b[1;32m~\\Documents\\DS\\RAG\\RAG_Langchain\\Lib\\site-packages\\langchain_groq\\chat_models.py:474\u001b[0m, in \u001b[0;36mChatGroq._generate\u001b[1;34m(self, messages, stop, run_manager, **kwargs)\u001b[0m\n\u001b[0;32m    469\u001b[0m message_dicts, params \u001b[38;5;241m=\u001b[39m \u001b[38;5;28mself\u001b[39m\u001b[38;5;241m.\u001b[39m_create_message_dicts(messages, stop)\n\u001b[0;32m    470\u001b[0m params \u001b[38;5;241m=\u001b[39m {\n\u001b[0;32m    471\u001b[0m     \u001b[38;5;241m*\u001b[39m\u001b[38;5;241m*\u001b[39mparams,\n\u001b[0;32m    472\u001b[0m     \u001b[38;5;241m*\u001b[39m\u001b[38;5;241m*\u001b[39mkwargs,\n\u001b[0;32m    473\u001b[0m }\n\u001b[1;32m--> 474\u001b[0m response \u001b[38;5;241m=\u001b[39m \u001b[38;5;28;43mself\u001b[39;49m\u001b[38;5;241;43m.\u001b[39;49m\u001b[43mclient\u001b[49m\u001b[38;5;241;43m.\u001b[39;49m\u001b[43mcreate\u001b[49m\u001b[43m(\u001b[49m\u001b[43mmessages\u001b[49m\u001b[38;5;241;43m=\u001b[39;49m\u001b[43mmessage_dicts\u001b[49m\u001b[43m,\u001b[49m\u001b[43m \u001b[49m\u001b[38;5;241;43m*\u001b[39;49m\u001b[38;5;241;43m*\u001b[39;49m\u001b[43mparams\u001b[49m\u001b[43m)\u001b[49m\n\u001b[0;32m    475\u001b[0m \u001b[38;5;28;01mreturn\u001b[39;00m \u001b[38;5;28mself\u001b[39m\u001b[38;5;241m.\u001b[39m_create_chat_result(response)\n",
      "File \u001b[1;32m~\\Documents\\DS\\RAG\\RAG_Langchain\\Lib\\site-packages\\groq\\resources\\chat\\completions.py:287\u001b[0m, in \u001b[0;36mCompletions.create\u001b[1;34m(self, messages, model, frequency_penalty, function_call, functions, logit_bias, logprobs, max_tokens, n, parallel_tool_calls, presence_penalty, response_format, seed, stop, stream, temperature, tool_choice, tools, top_logprobs, top_p, user, extra_headers, extra_query, extra_body, timeout)\u001b[0m\n\u001b[0;32m    146\u001b[0m \u001b[38;5;28;01mdef\u001b[39;00m \u001b[38;5;21mcreate\u001b[39m(\n\u001b[0;32m    147\u001b[0m     \u001b[38;5;28mself\u001b[39m,\n\u001b[0;32m    148\u001b[0m     \u001b[38;5;241m*\u001b[39m,\n\u001b[1;32m   (...)\u001b[0m\n\u001b[0;32m    175\u001b[0m     timeout: \u001b[38;5;28mfloat\u001b[39m \u001b[38;5;241m|\u001b[39m httpx\u001b[38;5;241m.\u001b[39mTimeout \u001b[38;5;241m|\u001b[39m \u001b[38;5;28;01mNone\u001b[39;00m \u001b[38;5;241m|\u001b[39m NotGiven \u001b[38;5;241m=\u001b[39m NOT_GIVEN,\n\u001b[0;32m    176\u001b[0m ) \u001b[38;5;241m-\u001b[39m\u001b[38;5;241m>\u001b[39m ChatCompletion \u001b[38;5;241m|\u001b[39m Stream[ChatCompletionChunk]:\n\u001b[0;32m    177\u001b[0m \u001b[38;5;250m    \u001b[39m\u001b[38;5;124;03m\"\"\"\u001b[39;00m\n\u001b[0;32m    178\u001b[0m \u001b[38;5;124;03m    Creates a model response for the given chat conversation.\u001b[39;00m\n\u001b[0;32m    179\u001b[0m \n\u001b[1;32m   (...)\u001b[0m\n\u001b[0;32m    285\u001b[0m \u001b[38;5;124;03m      timeout: Override the client-level default timeout for this request, in seconds\u001b[39;00m\n\u001b[0;32m    286\u001b[0m \u001b[38;5;124;03m    \"\"\"\u001b[39;00m\n\u001b[1;32m--> 287\u001b[0m     \u001b[38;5;28;01mreturn\u001b[39;00m \u001b[38;5;28;43mself\u001b[39;49m\u001b[38;5;241;43m.\u001b[39;49m\u001b[43m_post\u001b[49m\u001b[43m(\u001b[49m\n\u001b[0;32m    288\u001b[0m \u001b[43m        \u001b[49m\u001b[38;5;124;43m\"\u001b[39;49m\u001b[38;5;124;43m/openai/v1/chat/completions\u001b[39;49m\u001b[38;5;124;43m\"\u001b[39;49m\u001b[43m,\u001b[49m\n\u001b[0;32m    289\u001b[0m \u001b[43m        \u001b[49m\u001b[43mbody\u001b[49m\u001b[38;5;241;43m=\u001b[39;49m\u001b[43mmaybe_transform\u001b[49m\u001b[43m(\u001b[49m\n\u001b[0;32m    290\u001b[0m \u001b[43m            \u001b[49m\u001b[43m{\u001b[49m\n\u001b[0;32m    291\u001b[0m \u001b[43m                \u001b[49m\u001b[38;5;124;43m\"\u001b[39;49m\u001b[38;5;124;43mmessages\u001b[39;49m\u001b[38;5;124;43m\"\u001b[39;49m\u001b[43m:\u001b[49m\u001b[43m \u001b[49m\u001b[43mmessages\u001b[49m\u001b[43m,\u001b[49m\n\u001b[0;32m    292\u001b[0m \u001b[43m                \u001b[49m\u001b[38;5;124;43m\"\u001b[39;49m\u001b[38;5;124;43mmodel\u001b[39;49m\u001b[38;5;124;43m\"\u001b[39;49m\u001b[43m:\u001b[49m\u001b[43m \u001b[49m\u001b[43mmodel\u001b[49m\u001b[43m,\u001b[49m\n\u001b[0;32m    293\u001b[0m \u001b[43m                \u001b[49m\u001b[38;5;124;43m\"\u001b[39;49m\u001b[38;5;124;43mfrequency_penalty\u001b[39;49m\u001b[38;5;124;43m\"\u001b[39;49m\u001b[43m:\u001b[49m\u001b[43m \u001b[49m\u001b[43mfrequency_penalty\u001b[49m\u001b[43m,\u001b[49m\n\u001b[0;32m    294\u001b[0m \u001b[43m                \u001b[49m\u001b[38;5;124;43m\"\u001b[39;49m\u001b[38;5;124;43mfunction_call\u001b[39;49m\u001b[38;5;124;43m\"\u001b[39;49m\u001b[43m:\u001b[49m\u001b[43m \u001b[49m\u001b[43mfunction_call\u001b[49m\u001b[43m,\u001b[49m\n\u001b[0;32m    295\u001b[0m \u001b[43m                \u001b[49m\u001b[38;5;124;43m\"\u001b[39;49m\u001b[38;5;124;43mfunctions\u001b[39;49m\u001b[38;5;124;43m\"\u001b[39;49m\u001b[43m:\u001b[49m\u001b[43m \u001b[49m\u001b[43mfunctions\u001b[49m\u001b[43m,\u001b[49m\n\u001b[0;32m    296\u001b[0m \u001b[43m                \u001b[49m\u001b[38;5;124;43m\"\u001b[39;49m\u001b[38;5;124;43mlogit_bias\u001b[39;49m\u001b[38;5;124;43m\"\u001b[39;49m\u001b[43m:\u001b[49m\u001b[43m \u001b[49m\u001b[43mlogit_bias\u001b[49m\u001b[43m,\u001b[49m\n\u001b[0;32m    297\u001b[0m \u001b[43m                \u001b[49m\u001b[38;5;124;43m\"\u001b[39;49m\u001b[38;5;124;43mlogprobs\u001b[39;49m\u001b[38;5;124;43m\"\u001b[39;49m\u001b[43m:\u001b[49m\u001b[43m \u001b[49m\u001b[43mlogprobs\u001b[49m\u001b[43m,\u001b[49m\n\u001b[0;32m    298\u001b[0m \u001b[43m                \u001b[49m\u001b[38;5;124;43m\"\u001b[39;49m\u001b[38;5;124;43mmax_tokens\u001b[39;49m\u001b[38;5;124;43m\"\u001b[39;49m\u001b[43m:\u001b[49m\u001b[43m \u001b[49m\u001b[43mmax_tokens\u001b[49m\u001b[43m,\u001b[49m\n\u001b[0;32m    299\u001b[0m \u001b[43m                \u001b[49m\u001b[38;5;124;43m\"\u001b[39;49m\u001b[38;5;124;43mn\u001b[39;49m\u001b[38;5;124;43m\"\u001b[39;49m\u001b[43m:\u001b[49m\u001b[43m \u001b[49m\u001b[43mn\u001b[49m\u001b[43m,\u001b[49m\n\u001b[0;32m    300\u001b[0m \u001b[43m                \u001b[49m\u001b[38;5;124;43m\"\u001b[39;49m\u001b[38;5;124;43mparallel_tool_calls\u001b[39;49m\u001b[38;5;124;43m\"\u001b[39;49m\u001b[43m:\u001b[49m\u001b[43m \u001b[49m\u001b[43mparallel_tool_calls\u001b[49m\u001b[43m,\u001b[49m\n\u001b[0;32m    301\u001b[0m \u001b[43m                \u001b[49m\u001b[38;5;124;43m\"\u001b[39;49m\u001b[38;5;124;43mpresence_penalty\u001b[39;49m\u001b[38;5;124;43m\"\u001b[39;49m\u001b[43m:\u001b[49m\u001b[43m \u001b[49m\u001b[43mpresence_penalty\u001b[49m\u001b[43m,\u001b[49m\n\u001b[0;32m    302\u001b[0m \u001b[43m                \u001b[49m\u001b[38;5;124;43m\"\u001b[39;49m\u001b[38;5;124;43mresponse_format\u001b[39;49m\u001b[38;5;124;43m\"\u001b[39;49m\u001b[43m:\u001b[49m\u001b[43m \u001b[49m\u001b[43mresponse_format\u001b[49m\u001b[43m,\u001b[49m\n\u001b[0;32m    303\u001b[0m \u001b[43m                \u001b[49m\u001b[38;5;124;43m\"\u001b[39;49m\u001b[38;5;124;43mseed\u001b[39;49m\u001b[38;5;124;43m\"\u001b[39;49m\u001b[43m:\u001b[49m\u001b[43m \u001b[49m\u001b[43mseed\u001b[49m\u001b[43m,\u001b[49m\n\u001b[0;32m    304\u001b[0m \u001b[43m                \u001b[49m\u001b[38;5;124;43m\"\u001b[39;49m\u001b[38;5;124;43mstop\u001b[39;49m\u001b[38;5;124;43m\"\u001b[39;49m\u001b[43m:\u001b[49m\u001b[43m \u001b[49m\u001b[43mstop\u001b[49m\u001b[43m,\u001b[49m\n\u001b[0;32m    305\u001b[0m \u001b[43m                \u001b[49m\u001b[38;5;124;43m\"\u001b[39;49m\u001b[38;5;124;43mstream\u001b[39;49m\u001b[38;5;124;43m\"\u001b[39;49m\u001b[43m:\u001b[49m\u001b[43m \u001b[49m\u001b[43mstream\u001b[49m\u001b[43m,\u001b[49m\n\u001b[0;32m    306\u001b[0m \u001b[43m                \u001b[49m\u001b[38;5;124;43m\"\u001b[39;49m\u001b[38;5;124;43mtemperature\u001b[39;49m\u001b[38;5;124;43m\"\u001b[39;49m\u001b[43m:\u001b[49m\u001b[43m \u001b[49m\u001b[43mtemperature\u001b[49m\u001b[43m,\u001b[49m\n\u001b[0;32m    307\u001b[0m \u001b[43m                \u001b[49m\u001b[38;5;124;43m\"\u001b[39;49m\u001b[38;5;124;43mtool_choice\u001b[39;49m\u001b[38;5;124;43m\"\u001b[39;49m\u001b[43m:\u001b[49m\u001b[43m \u001b[49m\u001b[43mtool_choice\u001b[49m\u001b[43m,\u001b[49m\n\u001b[0;32m    308\u001b[0m \u001b[43m                \u001b[49m\u001b[38;5;124;43m\"\u001b[39;49m\u001b[38;5;124;43mtools\u001b[39;49m\u001b[38;5;124;43m\"\u001b[39;49m\u001b[43m:\u001b[49m\u001b[43m \u001b[49m\u001b[43mtools\u001b[49m\u001b[43m,\u001b[49m\n\u001b[0;32m    309\u001b[0m \u001b[43m                \u001b[49m\u001b[38;5;124;43m\"\u001b[39;49m\u001b[38;5;124;43mtop_logprobs\u001b[39;49m\u001b[38;5;124;43m\"\u001b[39;49m\u001b[43m:\u001b[49m\u001b[43m \u001b[49m\u001b[43mtop_logprobs\u001b[49m\u001b[43m,\u001b[49m\n\u001b[0;32m    310\u001b[0m \u001b[43m                \u001b[49m\u001b[38;5;124;43m\"\u001b[39;49m\u001b[38;5;124;43mtop_p\u001b[39;49m\u001b[38;5;124;43m\"\u001b[39;49m\u001b[43m:\u001b[49m\u001b[43m \u001b[49m\u001b[43mtop_p\u001b[49m\u001b[43m,\u001b[49m\n\u001b[0;32m    311\u001b[0m \u001b[43m                \u001b[49m\u001b[38;5;124;43m\"\u001b[39;49m\u001b[38;5;124;43muser\u001b[39;49m\u001b[38;5;124;43m\"\u001b[39;49m\u001b[43m:\u001b[49m\u001b[43m \u001b[49m\u001b[43muser\u001b[49m\u001b[43m,\u001b[49m\n\u001b[0;32m    312\u001b[0m \u001b[43m            \u001b[49m\u001b[43m}\u001b[49m\u001b[43m,\u001b[49m\n\u001b[0;32m    313\u001b[0m \u001b[43m            \u001b[49m\u001b[43mcompletion_create_params\u001b[49m\u001b[38;5;241;43m.\u001b[39;49m\u001b[43mCompletionCreateParams\u001b[49m\u001b[43m,\u001b[49m\n\u001b[0;32m    314\u001b[0m \u001b[43m        \u001b[49m\u001b[43m)\u001b[49m\u001b[43m,\u001b[49m\n\u001b[0;32m    315\u001b[0m \u001b[43m        \u001b[49m\u001b[43moptions\u001b[49m\u001b[38;5;241;43m=\u001b[39;49m\u001b[43mmake_request_options\u001b[49m\u001b[43m(\u001b[49m\n\u001b[0;32m    316\u001b[0m \u001b[43m            \u001b[49m\u001b[43mextra_headers\u001b[49m\u001b[38;5;241;43m=\u001b[39;49m\u001b[43mextra_headers\u001b[49m\u001b[43m,\u001b[49m\u001b[43m \u001b[49m\u001b[43mextra_query\u001b[49m\u001b[38;5;241;43m=\u001b[39;49m\u001b[43mextra_query\u001b[49m\u001b[43m,\u001b[49m\u001b[43m \u001b[49m\u001b[43mextra_body\u001b[49m\u001b[38;5;241;43m=\u001b[39;49m\u001b[43mextra_body\u001b[49m\u001b[43m,\u001b[49m\u001b[43m \u001b[49m\u001b[43mtimeout\u001b[49m\u001b[38;5;241;43m=\u001b[39;49m\u001b[43mtimeout\u001b[49m\n\u001b[0;32m    317\u001b[0m \u001b[43m        \u001b[49m\u001b[43m)\u001b[49m\u001b[43m,\u001b[49m\n\u001b[0;32m    318\u001b[0m \u001b[43m        \u001b[49m\u001b[43mcast_to\u001b[49m\u001b[38;5;241;43m=\u001b[39;49m\u001b[43mChatCompletion\u001b[49m\u001b[43m,\u001b[49m\n\u001b[0;32m    319\u001b[0m \u001b[43m        \u001b[49m\u001b[43mstream\u001b[49m\u001b[38;5;241;43m=\u001b[39;49m\u001b[43mstream\u001b[49m\u001b[43m \u001b[49m\u001b[38;5;129;43;01mor\u001b[39;49;00m\u001b[43m \u001b[49m\u001b[38;5;28;43;01mFalse\u001b[39;49;00m\u001b[43m,\u001b[49m\n\u001b[0;32m    320\u001b[0m \u001b[43m        \u001b[49m\u001b[43mstream_cls\u001b[49m\u001b[38;5;241;43m=\u001b[39;49m\u001b[43mStream\u001b[49m\u001b[43m[\u001b[49m\u001b[43mChatCompletionChunk\u001b[49m\u001b[43m]\u001b[49m\u001b[43m,\u001b[49m\n\u001b[0;32m    321\u001b[0m \u001b[43m    \u001b[49m\u001b[43m)\u001b[49m\n",
      "File \u001b[1;32m~\\Documents\\DS\\RAG\\RAG_Langchain\\Lib\\site-packages\\groq\\_base_client.py:1244\u001b[0m, in \u001b[0;36mSyncAPIClient.post\u001b[1;34m(self, path, cast_to, body, options, files, stream, stream_cls)\u001b[0m\n\u001b[0;32m   1230\u001b[0m \u001b[38;5;28;01mdef\u001b[39;00m \u001b[38;5;21mpost\u001b[39m(\n\u001b[0;32m   1231\u001b[0m     \u001b[38;5;28mself\u001b[39m,\n\u001b[0;32m   1232\u001b[0m     path: \u001b[38;5;28mstr\u001b[39m,\n\u001b[1;32m   (...)\u001b[0m\n\u001b[0;32m   1239\u001b[0m     stream_cls: \u001b[38;5;28mtype\u001b[39m[_StreamT] \u001b[38;5;241m|\u001b[39m \u001b[38;5;28;01mNone\u001b[39;00m \u001b[38;5;241m=\u001b[39m \u001b[38;5;28;01mNone\u001b[39;00m,\n\u001b[0;32m   1240\u001b[0m ) \u001b[38;5;241m-\u001b[39m\u001b[38;5;241m>\u001b[39m ResponseT \u001b[38;5;241m|\u001b[39m _StreamT:\n\u001b[0;32m   1241\u001b[0m     opts \u001b[38;5;241m=\u001b[39m FinalRequestOptions\u001b[38;5;241m.\u001b[39mconstruct(\n\u001b[0;32m   1242\u001b[0m         method\u001b[38;5;241m=\u001b[39m\u001b[38;5;124m\"\u001b[39m\u001b[38;5;124mpost\u001b[39m\u001b[38;5;124m\"\u001b[39m, url\u001b[38;5;241m=\u001b[39mpath, json_data\u001b[38;5;241m=\u001b[39mbody, files\u001b[38;5;241m=\u001b[39mto_httpx_files(files), \u001b[38;5;241m*\u001b[39m\u001b[38;5;241m*\u001b[39moptions\n\u001b[0;32m   1243\u001b[0m     )\n\u001b[1;32m-> 1244\u001b[0m     \u001b[38;5;28;01mreturn\u001b[39;00m cast(ResponseT, \u001b[38;5;28;43mself\u001b[39;49m\u001b[38;5;241;43m.\u001b[39;49m\u001b[43mrequest\u001b[49m\u001b[43m(\u001b[49m\u001b[43mcast_to\u001b[49m\u001b[43m,\u001b[49m\u001b[43m \u001b[49m\u001b[43mopts\u001b[49m\u001b[43m,\u001b[49m\u001b[43m \u001b[49m\u001b[43mstream\u001b[49m\u001b[38;5;241;43m=\u001b[39;49m\u001b[43mstream\u001b[49m\u001b[43m,\u001b[49m\u001b[43m \u001b[49m\u001b[43mstream_cls\u001b[49m\u001b[38;5;241;43m=\u001b[39;49m\u001b[43mstream_cls\u001b[49m\u001b[43m)\u001b[49m)\n",
      "File \u001b[1;32m~\\Documents\\DS\\RAG\\RAG_Langchain\\Lib\\site-packages\\groq\\_base_client.py:936\u001b[0m, in \u001b[0;36mSyncAPIClient.request\u001b[1;34m(self, cast_to, options, remaining_retries, stream, stream_cls)\u001b[0m\n\u001b[0;32m    927\u001b[0m \u001b[38;5;28;01mdef\u001b[39;00m \u001b[38;5;21mrequest\u001b[39m(\n\u001b[0;32m    928\u001b[0m     \u001b[38;5;28mself\u001b[39m,\n\u001b[0;32m    929\u001b[0m     cast_to: Type[ResponseT],\n\u001b[1;32m   (...)\u001b[0m\n\u001b[0;32m    934\u001b[0m     stream_cls: \u001b[38;5;28mtype\u001b[39m[_StreamT] \u001b[38;5;241m|\u001b[39m \u001b[38;5;28;01mNone\u001b[39;00m \u001b[38;5;241m=\u001b[39m \u001b[38;5;28;01mNone\u001b[39;00m,\n\u001b[0;32m    935\u001b[0m ) \u001b[38;5;241m-\u001b[39m\u001b[38;5;241m>\u001b[39m ResponseT \u001b[38;5;241m|\u001b[39m _StreamT:\n\u001b[1;32m--> 936\u001b[0m     \u001b[38;5;28;01mreturn\u001b[39;00m \u001b[38;5;28;43mself\u001b[39;49m\u001b[38;5;241;43m.\u001b[39;49m\u001b[43m_request\u001b[49m\u001b[43m(\u001b[49m\n\u001b[0;32m    937\u001b[0m \u001b[43m        \u001b[49m\u001b[43mcast_to\u001b[49m\u001b[38;5;241;43m=\u001b[39;49m\u001b[43mcast_to\u001b[49m\u001b[43m,\u001b[49m\n\u001b[0;32m    938\u001b[0m \u001b[43m        \u001b[49m\u001b[43moptions\u001b[49m\u001b[38;5;241;43m=\u001b[39;49m\u001b[43moptions\u001b[49m\u001b[43m,\u001b[49m\n\u001b[0;32m    939\u001b[0m \u001b[43m        \u001b[49m\u001b[43mstream\u001b[49m\u001b[38;5;241;43m=\u001b[39;49m\u001b[43mstream\u001b[49m\u001b[43m,\u001b[49m\n\u001b[0;32m    940\u001b[0m \u001b[43m        \u001b[49m\u001b[43mstream_cls\u001b[49m\u001b[38;5;241;43m=\u001b[39;49m\u001b[43mstream_cls\u001b[49m\u001b[43m,\u001b[49m\n\u001b[0;32m    941\u001b[0m \u001b[43m        \u001b[49m\u001b[43mremaining_retries\u001b[49m\u001b[38;5;241;43m=\u001b[39;49m\u001b[43mremaining_retries\u001b[49m\u001b[43m,\u001b[49m\n\u001b[0;32m    942\u001b[0m \u001b[43m    \u001b[49m\u001b[43m)\u001b[49m\n",
      "File \u001b[1;32m~\\Documents\\DS\\RAG\\RAG_Langchain\\Lib\\site-packages\\groq\\_base_client.py:1039\u001b[0m, in \u001b[0;36mSyncAPIClient._request\u001b[1;34m(self, cast_to, options, remaining_retries, stream, stream_cls)\u001b[0m\n\u001b[0;32m   1036\u001b[0m         err\u001b[38;5;241m.\u001b[39mresponse\u001b[38;5;241m.\u001b[39mread()\n\u001b[0;32m   1038\u001b[0m     log\u001b[38;5;241m.\u001b[39mdebug(\u001b[38;5;124m\"\u001b[39m\u001b[38;5;124mRe-raising status error\u001b[39m\u001b[38;5;124m\"\u001b[39m)\n\u001b[1;32m-> 1039\u001b[0m     \u001b[38;5;28;01mraise\u001b[39;00m \u001b[38;5;28mself\u001b[39m\u001b[38;5;241m.\u001b[39m_make_status_error_from_response(err\u001b[38;5;241m.\u001b[39mresponse) \u001b[38;5;28;01mfrom\u001b[39;00m \u001b[38;5;28;01mNone\u001b[39;00m\n\u001b[0;32m   1041\u001b[0m \u001b[38;5;28;01mreturn\u001b[39;00m \u001b[38;5;28mself\u001b[39m\u001b[38;5;241m.\u001b[39m_process_response(\n\u001b[0;32m   1042\u001b[0m     cast_to\u001b[38;5;241m=\u001b[39mcast_to,\n\u001b[0;32m   1043\u001b[0m     options\u001b[38;5;241m=\u001b[39moptions,\n\u001b[1;32m   (...)\u001b[0m\n\u001b[0;32m   1047\u001b[0m     retries_taken\u001b[38;5;241m=\u001b[39moptions\u001b[38;5;241m.\u001b[39mget_max_retries(\u001b[38;5;28mself\u001b[39m\u001b[38;5;241m.\u001b[39mmax_retries) \u001b[38;5;241m-\u001b[39m retries,\n\u001b[0;32m   1048\u001b[0m )\n",
      "\u001b[1;31mAPIStatusError\u001b[0m: Error code: 413 - {'error': {'message': 'Request too large for model `llama3-8b-8192` in organization `org_01j2xje983ftybdz1qzan5tk9v` on tokens per minute (TPM): Limit 30000, Requested 68259, please reduce your message size and try again. Visit https://console.groq.com/docs/rate-limits for more information.', 'type': 'tokens', 'code': 'rate_limit_exceeded'}}"
     ]
    }
   ],
   "source": [
    "question = \"Mention the key election campaign issues and the positions of both the parties\"\n",
    "\n",
    "response = chain.invoke(question)"
   ]
  },
  {
   "cell_type": "code",
   "execution_count": 32,
   "id": "4b8066bb-d5b6-40d5-95fa-758b47e2a0d3",
   "metadata": {},
   "outputs": [
    {
     "name": "stdout",
     "output_type": "stream",
     "text": [
      "Based on the provided context, the key election campaign issues and positions of both parties in the 2020 and 2024 US presidential elections are as follows:\n",
      "\n",
      "**2020 Election:**\n",
      "\n",
      "* Public health and economic impacts of the ongoing COVID-19 pandemic\n",
      "* Civil unrest in reaction to the police murder of George Floyd and others\n",
      "* Supreme Court following the death of Ruth Bader Ginsburg and confirmation of Amy Coney Barrett\n",
      "* Future of the Affordable Care Act\n",
      "\n",
      "Democratic Party:\n",
      "\n",
      "* Advocated for healthcare reform, universal child care, paid sick leave, and supporting unions\n",
      "* Supported liberal internationalism as well as tough stances against China and Russia\n",
      "* Favored abortion rights, voting rights, LGBT rights, action on climate change, and the legalization of marijuana\n",
      "\n",
      "Republican Party:\n",
      "\n",
      "* Opposed liberal internationalism and advocated for a more isolationist foreign policy\n",
      "* Favored a more conservative economic agenda, including tax cuts and deregulation\n",
      "* Opposed abortion rights and advocated for stricter voter ID laws\n",
      "\n",
      "**2024 Election:**\n",
      "\n",
      "* Economy\n",
      "* Healthcare\n",
      "* Democracy\n",
      "* Foreign policy (notably U.S. support for Israel and for Ukraine)\n",
      "* Violent crime\n",
      "* Immigration\n",
      "* Gun policy\n",
      "* Abortion\n",
      "* Racial and ethnic inequality\n",
      "* Climate change\n",
      "* Education\n",
      "* LGBTQ rights\n",
      "\n",
      "Democratic Party:\n",
      "\n",
      "* Favored progressive economic policies, including increasing taxes on the wealthy and large corporations\n",
      "* Supported expanding healthcare coverage, including Medicare for All\n",
      "* Advocated for stricter gun control laws and increased funding for public education\n",
      "* Favored more progressive immigration policies, including a pathway to citizenship for undocumented immigrants\n",
      "* Supported action on climate change, including transitioning to renewable energy sources\n",
      "\n",
      "Republican Party:\n",
      "\n",
      "* Favored a more conservative economic agenda, including tax cuts and deregulation\n",
      "* Opposed expanding healthcare coverage and advocated for a repeal of the Affordable Care Act\n",
      "* Favored stricter gun control laws and increased funding for border security\n",
      "* Opposed more progressive immigration policies and advocated for a wall along the US-Mexico border\n",
      "* Favored a more aggressive approach to foreign policy, including increased military spending and a tougher stance on trade with China.\n"
     ]
    }
   ],
   "source": [
    "print(response)"
   ]
  },
  {
   "cell_type": "code",
   "execution_count": null,
   "id": "db9c9584-296e-486d-adb4-32fbda5ee267",
   "metadata": {},
   "outputs": [],
   "source": [
    "\"\"\"\n",
    "    Can you extract information from the provided context in the given format?\n",
    "\n",
    "    Republican candidate: \n",
    "    Democratic candidate: \n",
    "\n",
    "    Key issues:\n",
    "        issue 1:\n",
    "            republican position:\n",
    "            democratic position:\n",
    "        issue 2:\n",
    "            \n",
    "    Republican vote percent: \n",
    "    Democratic vote percent:\n",
    "\n",
    "    Republican electoral votes:\n",
    "    Democratic electoral votes:\n",
    "\n",
    "    Republican states carried: [<list of states>]\n",
    "    Democratic states carried: []\n",
    "    \n",
    "    Context: {context}\n",
    "    Question: {question}\n",
    "\"\"\""
   ]
  }
 ],
 "metadata": {
  "kernelspec": {
   "display_name": "Python 3 (ipykernel)",
   "language": "python",
   "name": "python3"
  },
  "language_info": {
   "codemirror_mode": {
    "name": "ipython",
    "version": 3
   },
   "file_extension": ".py",
   "mimetype": "text/x-python",
   "name": "python",
   "nbconvert_exporter": "python",
   "pygments_lexer": "ipython3",
   "version": "3.12.0"
  }
 },
 "nbformat": 4,
 "nbformat_minor": 5
}
