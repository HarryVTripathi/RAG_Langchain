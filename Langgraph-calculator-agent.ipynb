{
 "cells": [
  {
   "cell_type": "code",
   "execution_count": 1,
   "id": "83b528b3-a642-4aaa-9bdd-6781bf812293",
   "metadata": {},
   "outputs": [],
   "source": [
    "import getpass\n",
    "import os\n",
    "from langchain_groq import ChatGroq"
   ]
  },
  {
   "cell_type": "code",
   "execution_count": 2,
   "id": "935ededc-2a60-41a0-9e68-afc920650be7",
   "metadata": {},
   "outputs": [
    {
     "name": "stdin",
     "output_type": "stream",
     "text": [
      " ········\n"
     ]
    }
   ],
   "source": [
    "os.environ[\"GROQ_API_KEY\"] = getpass.getpass()"
   ]
  },
  {
   "cell_type": "code",
   "execution_count": 3,
   "id": "be067b35-d702-4bab-9b82-705710935c5f",
   "metadata": {},
   "outputs": [],
   "source": [
    "from langchain_core.messages import HumanMessage, AIMessage\n",
    "from langchain_core.prompts import ChatPromptTemplate, MessagesPlaceholder\n",
    "from langchain.chains import LLMChain\n",
    "from langchain_core.runnables import RunnableSequence, RunnableMap, RunnableParallel\n",
    "from langchain_core.runnables.history import RunnableWithMessageHistory\n",
    "\n",
    "from langchain_core.chat_history import (\n",
    "    BaseChatMessageHistory,\n",
    "    InMemoryChatMessageHistory,\n",
    ")\n",
    "from langchain_core.messages import SystemMessage, trim_messages\n",
    "from operator import itemgetter\n",
    "from langchain_core.runnables import RunnablePassthrough\n",
    "from langchain_community.document_loaders import PyMuPDFLoader\n",
    "from langchain_text_splitters import RecursiveCharacterTextSplitter\n",
    "from langchain_community.embeddings import HuggingFaceInstructEmbeddings\n",
    "from langchain_chroma import Chroma\n",
    "\n",
    "from langchain.chains.combine_documents import create_stuff_documents_chain\n",
    "from langchain.chains import create_retrieval_chain"
   ]
  },
  {
   "cell_type": "code",
   "execution_count": 4,
   "id": "ffdf8064-c847-467b-be79-664d848c3052",
   "metadata": {},
   "outputs": [],
   "source": [
    "LLAMA_8B = \"llama3-8b-8192\"\n",
    "LLAMA_70B = \"llama3-70b-8192\"\n",
    "GEMMA2_9B = \"gemma2-9b-it\"\n",
    "\n",
    "model = ChatGroq(model=LLAMA_8B)"
   ]
  },
  {
   "cell_type": "code",
   "execution_count": 5,
   "id": "5ff68290-4ac4-4080-a9cb-1e64bdc6f851",
   "metadata": {},
   "outputs": [],
   "source": [
    "llm = model"
   ]
  },
  {
   "cell_type": "code",
   "execution_count": 10,
   "id": "b45ad362-1cd8-4fcf-8aee-280f9100d332",
   "metadata": {},
   "outputs": [
    {
     "data": {
      "text/plain": [
       "ChatGroq(client=<groq.resources.chat.completions.Completions object at 0x000001FCFFE21E50>, async_client=<groq.resources.chat.completions.AsyncCompletions object at 0x000001FCFFD83B90>, model_name='llama3-8b-8192', model_kwargs={}, groq_api_key=SecretStr('**********'))"
      ]
     },
     "execution_count": 10,
     "metadata": {},
     "output_type": "execute_result"
    }
   ],
   "source": [
    "llm"
   ]
  },
  {
   "cell_type": "code",
   "execution_count": 6,
   "id": "1a5b8143-94a0-4dde-a71e-0de35e3371ce",
   "metadata": {},
   "outputs": [],
   "source": [
    "from langchain_core.tools import tool\n",
    "from langchain_core.messages import SystemMessage\n",
    "from langgraph.prebuilt import ToolNode\n",
    "from langgraph.graph import MessagesState, StateGraph\n",
    "from langgraph.checkpoint.memory import MemorySaver"
   ]
  },
  {
   "cell_type": "code",
   "execution_count": 7,
   "id": "f3202bf8-6b0a-4e23-83f3-820fb68f1c9c",
   "metadata": {},
   "outputs": [],
   "source": [
    "from langgraph.graph import START, StateGraph, END\n",
    "from typing_extensions import List, TypedDict"
   ]
  },
  {
   "cell_type": "code",
   "execution_count": 30,
   "id": "c767eba9-864e-43ae-a308-ad85bc6bd5bb",
   "metadata": {},
   "outputs": [],
   "source": [
    "from pydantic import BaseModel\n",
    "from collections.abc import Callable\n",
    "from langchain_core.documents import Document\n",
    "from typing import Optional, Any, Iterable, Iterator, Generator"
   ]
  },
  {
   "cell_type": "markdown",
   "id": "ddc808fd-1508-4436-b7b6-5228ed5683b8",
   "metadata": {},
   "source": [
    " - `class collections.abc.Iterator`\n",
    "\n",
    "$ \\hspace{10mm} $ ABC for classes that provide the `__iter__()` and `__next__()` methods.\n",
    "\n",
    "\n",
    " - `class collections.abc.Iterable`\r\n",
    "\n",
    "$ \\hspace{10mm} $ ABC for classes that provide the `__iter__()` method.\n",
    "\n",
    " - `class collections.abc.Generator`\n",
    "\n",
    "$ \\hspace{10mm} $ ABC for generator classes that implement the protocol defined in PEP 342 that extends iterators with the `send()`, `throw()` and `close()` methods.\r\n",
    "."
   ]
  },
  {
   "cell_type": "markdown",
   "id": "2ddceeaa-eb5b-4a63-8c05-6f2aa39a97a5",
   "metadata": {},
   "source": [
    "### Basic calculator agent"
   ]
  },
  {
   "cell_type": "code",
   "execution_count": 22,
   "id": "b424b0d7-1e4e-4114-9d2d-c00923399147",
   "metadata": {},
   "outputs": [],
   "source": [
    "# @tool\n",
    "def add(a: float, b: float) -> float:\n",
    "    \"\"\"Adds two numbers.\"\"\"\n",
    "    return a + b\n",
    "\n",
    "# @tool\n",
    "def subtract(a: float, b: float) -> float:\n",
    "    \"\"\"Subtracts two numbers.\"\"\"\n",
    "    return a - b\n",
    "\n",
    "# @tool\n",
    "def multiply(a: float, b: float) -> float:\n",
    "    \"\"\"Multiplies two numbers.\"\"\"\n",
    "    return a * b\n",
    "\n",
    "# @tool\n",
    "def divide(a: float, b: float) -> float:\n",
    "    \"\"\"Divides two numbers.\"\"\"\n",
    "    if b == 0:\n",
    "        return \"Cannot divide by zero.\"\n",
    "    return a / b\n",
    "\n",
    "\n",
    "tools = [add, subtract, multiply, divide]"
   ]
  },
  {
   "cell_type": "code",
   "execution_count": 46,
   "id": "70029c4f-e97b-4f5e-8dfb-3d28878777fc",
   "metadata": {},
   "outputs": [],
   "source": [
    "from langchain_core.language_models.chat_models import BaseChatModel\n",
    "from langchain_core.runnables.graph import Graph\n",
    "from langchain_core.runnables.base import Runnable\n"
   ]
  },
  {
   "cell_type": "code",
   "execution_count": 47,
   "id": "2fbf679e-f9b7-480e-9735-d75aad45d82c",
   "metadata": {},
   "outputs": [
    {
     "data": {
      "text/plain": [
       "False"
      ]
     },
     "execution_count": 47,
     "metadata": {},
     "output_type": "execute_result"
    }
   ],
   "source": [
    "issubclass(Graph, Runnable)"
   ]
  },
  {
   "cell_type": "code",
   "execution_count": 67,
   "id": "6320e389-8e34-4aa9-84ab-df622a139400",
   "metadata": {},
   "outputs": [],
   "source": [
    "class State(TypedDict):\n",
    "    question: str\n",
    "    answer: str\n",
    "    context: Optional[List[Document]]\n",
    "\n",
    "\n",
    "class Agent(BaseModel):\n",
    "    model: BaseChatModel\n",
    "    tools: List[Callable]\n",
    "    context: Optional[List[Document]]\n",
    "    workflow: Any = None\n",
    "\n",
    "\n",
    "    def _create_agent_workflow(self):\n",
    "        def bind(state: State):\n",
    "            llm_with_tools = self.model.bind_tools(tools)\n",
    "            response = llm_with_tools.invoke(state[\"question\"])\n",
    "            return {\"answer\": [response]}\n",
    "\n",
    "        toolnode = ToolNode(tools)\n",
    "        tools_cache = {tool.__name__: tool for tool in tools}\n",
    "\n",
    "        def call_tool(state: State):\n",
    "            last_message = state[\"answer\"][-1]\n",
    "            tool_call = last_message.tool_calls[0]\n",
    "            tool_name = tool_call[\"name\"]\n",
    "            arguments = tool_call[\"args\"]\n",
    "        \n",
    "            if tool_name not in tools_cache:\n",
    "                output = f\"Tool `{tool_name}` is not defined\"\n",
    "\n",
    "            else:\n",
    "                output = tools_cache[tool_name](**arguments)\n",
    "        \n",
    "            return {\n",
    "                \"question\": state[\"question\"],\n",
    "                \"answer\": str(output),\n",
    "            }\n",
    "\n",
    "        graph_builder = StateGraph(State)\n",
    "\n",
    "        graph_builder.add_node(bind)\n",
    "        graph_builder.add_node(toolnode)\n",
    "        graph_builder.add_node(call_tool)\n",
    "        \n",
    "        graph_builder.add_edge(START, \"bind\")\n",
    "        graph_builder.add_edge(\"bind\", \"call_tool\")\n",
    "        self.workflow = graph_builder.compile()\n",
    "\n",
    "\n",
    "    def run(self, input):\n",
    "        if not self.workflow:\n",
    "            print(\"Initializing workflow\")\n",
    "            self._create_agent_workflow()\n",
    "\n",
    "        response = self.workflow.invoke(input)\n",
    "        return response"
   ]
  },
  {
   "cell_type": "code",
   "execution_count": 68,
   "id": "60af2729-f316-4f90-9e0a-bf3552624abc",
   "metadata": {},
   "outputs": [],
   "source": [
    "calculator = Agent(model=model, tools=tools, context=[])"
   ]
  },
  {
   "cell_type": "code",
   "execution_count": 69,
   "id": "b0858ab3-ff4c-4ca7-9b39-ab2df2bef4b6",
   "metadata": {},
   "outputs": [
    {
     "name": "stdout",
     "output_type": "stream",
     "text": [
      "Initializing workflow\n"
     ]
    },
    {
     "data": {
      "text/plain": [
       "{'question': 'What if you have 3 and then I take one from you?', 'answer': '2'}"
      ]
     },
     "execution_count": 69,
     "metadata": {},
     "output_type": "execute_result"
    }
   ],
   "source": [
    "calculator.run({\"question\": \"What if you have 3 and then I take one from you?\"})"
   ]
  },
  {
   "cell_type": "code",
   "execution_count": null,
   "id": "8e88b670-f032-4264-a5eb-6e8b78a25c8d",
   "metadata": {},
   "outputs": [],
   "source": []
  },
  {
   "cell_type": "markdown",
   "id": "37ad5c83-17c4-4bf7-8c45-b9b02f1773cc",
   "metadata": {},
   "source": [
    "### Basic calculator agent"
   ]
  },
  {
   "cell_type": "code",
   "execution_count": 15,
   "id": "41159f1a-49e9-4812-84b9-76b9b0a49457",
   "metadata": {},
   "outputs": [],
   "source": [
    "class State(TypedDict):\n",
    "    question: str\n",
    "    answer: str"
   ]
  },
  {
   "cell_type": "code",
   "execution_count": 19,
   "id": "85a79167-77a4-4932-95a5-24780308d316",
   "metadata": {},
   "outputs": [],
   "source": [
    "def calculate(state: State):\n",
    "    llm_with_tools = llm.bind_tools(tool_list)\n",
    "    response = llm_with_tools.invoke(state[\"question\"])\n",
    "    return {\"answer\": [response]}\n",
    "\n",
    "\n",
    "tools = ToolNode(tool_list)\n",
    "\n",
    "\n",
    "def call_tool(state: State):\n",
    "    last_message = state[\"answer\"][-1]\n",
    "    tool_call = last_message.tool_calls[0]\n",
    "    function_name = tool_call[\"name\"]\n",
    "    arguments = tool_call[\"args\"]\n",
    "\n",
    "    if function_name == \"add\":\n",
    "        output = add(**arguments)\n",
    "    elif function_name == \"subtract\":\n",
    "         output = subtract(**arguments)\n",
    "    elif function_name == \"multiply\":\n",
    "        output = multiply(**arguments)\n",
    "    elif function_name == \"divide\":\n",
    "         output = divide(**arguments)\n",
    "    else:\n",
    "        output = f\"Tool `{function_name}` is not defined\"\n",
    "\n",
    "    return {\n",
    "        \"question\": state[\"question\"],\n",
    "        \"answer\": str(output),\n",
    "    }"
   ]
  },
  {
   "cell_type": "code",
   "execution_count": 64,
   "id": "69599444-6fbe-4c1f-a72e-f1c87e898d91",
   "metadata": {},
   "outputs": [],
   "source": [
    "graph_builder = StateGraph(State)\n",
    "\n",
    "graph_builder.add_node(calculate)\n",
    "graph_builder.add_node(tools)\n",
    "graph_builder.add_node(call_tool)\n",
    "\n",
    "graph_builder.add_edge(START, \"calculate\")\n",
    "graph_builder.add_edge(\"calculate\", \"call_tool\")\n",
    "graph = graph_builder.compile()"
   ]
  },
  {
   "cell_type": "code",
   "execution_count": 65,
   "id": "f710b178-e330-445f-acd4-08916fdb2dca",
   "metadata": {},
   "outputs": [
    {
     "data": {
      "text/plain": [
       "'What if you have 2 and then you have one more?'"
      ]
     },
     "execution_count": 65,
     "metadata": {},
     "output_type": "execute_result"
    }
   ],
   "source": [
    "\"What if you have 2 and then you have one more?\""
   ]
  },
  {
   "cell_type": "code",
   "execution_count": 66,
   "id": "34f70327-9f22-42d7-89d3-84a76ef65636",
   "metadata": {},
   "outputs": [
    {
     "name": "stdout",
     "output_type": "stream",
     "text": [
      "2\n"
     ]
    }
   ],
   "source": [
    "response = graph.invoke({\"question\": \"What if you have 3 and then I take one from you?\"})\n",
    "print(response[\"answer\"])"
   ]
  },
  {
   "cell_type": "code",
   "execution_count": 67,
   "id": "f53b255d-e579-4409-a508-30348a0ebfb6",
   "metadata": {},
   "outputs": [
    {
     "data": {
      "text/plain": [
       "{'question': 'What if you have 3 and then I take one from you?', 'answer': '2'}"
      ]
     },
     "execution_count": 67,
     "metadata": {},
     "output_type": "execute_result"
    }
   ],
   "source": [
    "response"
   ]
  },
  {
   "cell_type": "markdown",
   "id": "fbf36e90-cf73-4a6b-ad97-ad1c70caa7c9",
   "metadata": {},
   "source": [
    "### Basic calculator agent with system prompt"
   ]
  },
  {
   "cell_type": "code",
   "execution_count": 9,
   "id": "dca6ccd4-4a35-4431-b1a8-0be028018ab5",
   "metadata": {},
   "outputs": [],
   "source": [
    "prompt = ChatPromptTemplate.from_messages(\n",
    "    [\n",
    "        (\"system\", \"You are a helpful calculator. You have the following functions available to you: {functions} \\n. When using a function, reply in the following format. \\n```tool_code\\n{{ function_name: <function name>, arguments: {{ arg1: <value>, arg2: <value> }} }} \\n```\"),\n",
    "        MessagesPlaceholder(variable_name=\"messages\"),\n",
    "    ]\n",
    ")"
   ]
  },
  {
   "cell_type": "code",
   "execution_count": 10,
   "id": "bf445502-ddee-47c0-90fb-0c4251b45a7f",
   "metadata": {},
   "outputs": [],
   "source": [
    "class CalculatorState(TypedDict):\n",
    "    messages: List[AIMessage | HumanMessage]\n",
    "    tool_output: str = None\n",
    "    output: str = None"
   ]
  },
  {
   "cell_type": "code",
   "execution_count": 16,
   "id": "b96d3d41-0dc9-43c8-bcb9-8cda3811490e",
   "metadata": {},
   "outputs": [],
   "source": [
    "def call_llm(state: CalculatorState):\n",
    "    \"\"\"Call the LLM to decide next step.\"\"\"\n",
    "    runnable = (prompt | llm.bind_tools(tool_list))\n",
    "    runnable.invoke({\"messages\": state[\"messages\"]})\n",
    "    return {\"messages\": state[\"messages\"] + [response]}\n",
    "\n",
    "\n",
    "def check_tool_call(state: CalculatorState):\n",
    "    \"\"\"Check if llm is asking to use tool or not.\"\"\"\n",
    "    last_message = state[\"messages\"][-1]\n",
    "    if last_message.tool_calls:\n",
    "        return \"call_tool\"\n",
    "    return \"user_response\"\n",
    "\n",
    "\n",
    "def call_tool(state: CalculatorState):\n",
    "    \"\"\"If llm returned a tool call, call the tool\"\"\"\n",
    "    last_message = state[\"messages\"][-1]\n",
    "    tool_call = last_message.tool_calls[0]\n",
    "    function_name = tool_call.function.name\n",
    "    arguments = tool_call.function.arguments\n",
    "\n",
    "    if function_name == \"add\":\n",
    "        output = add(**arguments)\n",
    "    elif function_name == \"subtract\":\n",
    "         output = subtract(**arguments)\n",
    "    elif function_name == \"multiply\":\n",
    "        output = multiply(**arguments)\n",
    "    elif function_name == \"divide\":\n",
    "         output = divide(**arguments)\n",
    "    else:\n",
    "        output = f\"Tool `{function_name}` is not defined\"\n",
    "\n",
    "    return {\n",
    "       \"messages\": state.messages + [AIMessage(content=\"\", tool_call_id=tool_call.id, tool_call_result=str(output))],\n",
    "        \"tool_output\": output\n",
    "    }\n",
    "\n",
    "\n",
    "def user_response(state: CalculatorState):\n",
    "    \"\"\"Return last llm output to user.\"\"\"\n",
    "    last_message = state.messages[-1]\n",
    "    return {\"messages\": state.messages, \"output\": last_message.content}\n"
   ]
  },
  {
   "cell_type": "code",
   "execution_count": 17,
   "id": "7cb7092b-dfea-4837-a72e-9e91b381638a",
   "metadata": {},
   "outputs": [],
   "source": [
    "workflow = StateGraph(CalculatorState)\n",
    "workflow.add_node(\"call_llm\", call_llm)\n",
    "workflow.add_node(\"check_tool_call\", check_tool_call)\n",
    "workflow.add_node(\"call_tool\", call_tool)\n",
    "workflow.add_node(\"user_response\", user_response)\n",
    "\n",
    "workflow.set_entry_point(\"call_llm\")\n",
    "\n",
    "workflow.add_conditional_edges(\n",
    "    \"call_llm\",\n",
    "    check_tool_call,\n",
    "    {\n",
    "        \"call_tool\": \"call_tool\",\n",
    "        \"user_response\": \"user_response\"\n",
    "    },\n",
    ")\n",
    "\n",
    "workflow.add_edge(\"call_tool\", \"call_llm\")\n",
    "workflow.add_edge(\"user_response\", END)\n",
    "\n",
    "app = workflow.compile()"
   ]
  },
  {
   "cell_type": "code",
   "execution_count": 18,
   "id": "d1210c06-388a-4854-827e-76a0a87beaa7",
   "metadata": {},
   "outputs": [],
   "source": [
    "input_question = \"What if you have 3 and then I take one from you?\""
   ]
  },
  {
   "cell_type": "code",
   "execution_count": 19,
   "id": "e16389b5-911b-4f3e-9839-9d26c8d4485a",
   "metadata": {},
   "outputs": [
    {
     "ename": "KeyError",
     "evalue": "\"Input to ChatPromptTemplate is missing variables {'functions'}.  Expected: ['functions', 'messages'] Received: ['messages']\\nNote: if you intended {functions} to be part of the string and not a variable, please escape it with double curly braces like: '{{functions}}'.\\nFor troubleshooting, visit: https://python.langchain.com/docs/troubleshooting/errors/INVALID_PROMPT_INPUT \"",
     "output_type": "error",
     "traceback": [
      "\u001b[1;31m---------------------------------------------------------------------------\u001b[0m",
      "\u001b[1;31mKeyError\u001b[0m                                  Traceback (most recent call last)",
      "Cell \u001b[1;32mIn[19], line 3\u001b[0m\n\u001b[0;32m      1\u001b[0m inputs \u001b[38;5;241m=\u001b[39m {\u001b[38;5;124m\"\u001b[39m\u001b[38;5;124mmessages\u001b[39m\u001b[38;5;124m\"\u001b[39m: [HumanMessage(content\u001b[38;5;241m=\u001b[39minput_question)]}\n\u001b[1;32m----> 3\u001b[0m \u001b[43mapp\u001b[49m\u001b[38;5;241;43m.\u001b[39;49m\u001b[43minvoke\u001b[49m\u001b[43m(\u001b[49m\u001b[43minputs\u001b[49m\u001b[43m)\u001b[49m\n",
      "File \u001b[1;32m~\\Documents\\DS\\RAG\\RAG_Langchain\\Lib\\site-packages\\langgraph\\pregel\\__init__.py:1936\u001b[0m, in \u001b[0;36mPregel.invoke\u001b[1;34m(self, input, config, stream_mode, output_keys, interrupt_before, interrupt_after, debug, **kwargs)\u001b[0m\n\u001b[0;32m   1934\u001b[0m \u001b[38;5;28;01melse\u001b[39;00m:\n\u001b[0;32m   1935\u001b[0m     chunks \u001b[38;5;241m=\u001b[39m []\n\u001b[1;32m-> 1936\u001b[0m \u001b[43m\u001b[49m\u001b[38;5;28;43;01mfor\u001b[39;49;00m\u001b[43m \u001b[49m\u001b[43mchunk\u001b[49m\u001b[43m \u001b[49m\u001b[38;5;129;43;01min\u001b[39;49;00m\u001b[43m \u001b[49m\u001b[38;5;28;43mself\u001b[39;49m\u001b[38;5;241;43m.\u001b[39;49m\u001b[43mstream\u001b[49m\u001b[43m(\u001b[49m\n\u001b[0;32m   1937\u001b[0m \u001b[43m    \u001b[49m\u001b[38;5;28;43minput\u001b[39;49m\u001b[43m,\u001b[49m\n\u001b[0;32m   1938\u001b[0m \u001b[43m    \u001b[49m\u001b[43mconfig\u001b[49m\u001b[43m,\u001b[49m\n\u001b[0;32m   1939\u001b[0m \u001b[43m    \u001b[49m\u001b[43mstream_mode\u001b[49m\u001b[38;5;241;43m=\u001b[39;49m\u001b[43mstream_mode\u001b[49m\u001b[43m,\u001b[49m\n\u001b[0;32m   1940\u001b[0m \u001b[43m    \u001b[49m\u001b[43moutput_keys\u001b[49m\u001b[38;5;241;43m=\u001b[39;49m\u001b[43moutput_keys\u001b[49m\u001b[43m,\u001b[49m\n\u001b[0;32m   1941\u001b[0m \u001b[43m    \u001b[49m\u001b[43minterrupt_before\u001b[49m\u001b[38;5;241;43m=\u001b[39;49m\u001b[43minterrupt_before\u001b[49m\u001b[43m,\u001b[49m\n\u001b[0;32m   1942\u001b[0m \u001b[43m    \u001b[49m\u001b[43minterrupt_after\u001b[49m\u001b[38;5;241;43m=\u001b[39;49m\u001b[43minterrupt_after\u001b[49m\u001b[43m,\u001b[49m\n\u001b[0;32m   1943\u001b[0m \u001b[43m    \u001b[49m\u001b[43mdebug\u001b[49m\u001b[38;5;241;43m=\u001b[39;49m\u001b[43mdebug\u001b[49m\u001b[43m,\u001b[49m\n\u001b[0;32m   1944\u001b[0m \u001b[43m    \u001b[49m\u001b[38;5;241;43m*\u001b[39;49m\u001b[38;5;241;43m*\u001b[39;49m\u001b[43mkwargs\u001b[49m\u001b[43m,\u001b[49m\n\u001b[0;32m   1945\u001b[0m \u001b[43m\u001b[49m\u001b[43m)\u001b[49m\u001b[43m:\u001b[49m\n\u001b[0;32m   1946\u001b[0m \u001b[43m    \u001b[49m\u001b[38;5;28;43;01mif\u001b[39;49;00m\u001b[43m \u001b[49m\u001b[43mstream_mode\u001b[49m\u001b[43m \u001b[49m\u001b[38;5;241;43m==\u001b[39;49m\u001b[43m \u001b[49m\u001b[38;5;124;43m\"\u001b[39;49m\u001b[38;5;124;43mvalues\u001b[39;49m\u001b[38;5;124;43m\"\u001b[39;49m\u001b[43m:\u001b[49m\n\u001b[0;32m   1947\u001b[0m \u001b[43m        \u001b[49m\u001b[43mlatest\u001b[49m\u001b[43m \u001b[49m\u001b[38;5;241;43m=\u001b[39;49m\u001b[43m \u001b[49m\u001b[43mchunk\u001b[49m\n",
      "File \u001b[1;32m~\\Documents\\DS\\RAG\\RAG_Langchain\\Lib\\site-packages\\langgraph\\pregel\\__init__.py:1656\u001b[0m, in \u001b[0;36mPregel.stream\u001b[1;34m(self, input, config, stream_mode, output_keys, interrupt_before, interrupt_after, debug, subgraphs)\u001b[0m\n\u001b[0;32m   1650\u001b[0m     \u001b[38;5;66;03m# Similarly to Bulk Synchronous Parallel / Pregel model\u001b[39;00m\n\u001b[0;32m   1651\u001b[0m     \u001b[38;5;66;03m# computation proceeds in steps, while there are channel updates\u001b[39;00m\n\u001b[0;32m   1652\u001b[0m     \u001b[38;5;66;03m# channel updates from step N are only visible in step N+1\u001b[39;00m\n\u001b[0;32m   1653\u001b[0m     \u001b[38;5;66;03m# channels are guaranteed to be immutable for the duration of the step,\u001b[39;00m\n\u001b[0;32m   1654\u001b[0m     \u001b[38;5;66;03m# with channel updates applied only at the transition between steps\u001b[39;00m\n\u001b[0;32m   1655\u001b[0m     \u001b[38;5;28;01mwhile\u001b[39;00m loop\u001b[38;5;241m.\u001b[39mtick(input_keys\u001b[38;5;241m=\u001b[39m\u001b[38;5;28mself\u001b[39m\u001b[38;5;241m.\u001b[39minput_channels):\n\u001b[1;32m-> 1656\u001b[0m \u001b[43m        \u001b[49m\u001b[38;5;28;43;01mfor\u001b[39;49;00m\u001b[43m \u001b[49m\u001b[43m_\u001b[49m\u001b[43m \u001b[49m\u001b[38;5;129;43;01min\u001b[39;49;00m\u001b[43m \u001b[49m\u001b[43mrunner\u001b[49m\u001b[38;5;241;43m.\u001b[39;49m\u001b[43mtick\u001b[49m\u001b[43m(\u001b[49m\n\u001b[0;32m   1657\u001b[0m \u001b[43m            \u001b[49m\u001b[43mloop\u001b[49m\u001b[38;5;241;43m.\u001b[39;49m\u001b[43mtasks\u001b[49m\u001b[38;5;241;43m.\u001b[39;49m\u001b[43mvalues\u001b[49m\u001b[43m(\u001b[49m\u001b[43m)\u001b[49m\u001b[43m,\u001b[49m\n\u001b[0;32m   1658\u001b[0m \u001b[43m            \u001b[49m\u001b[43mtimeout\u001b[49m\u001b[38;5;241;43m=\u001b[39;49m\u001b[38;5;28;43mself\u001b[39;49m\u001b[38;5;241;43m.\u001b[39;49m\u001b[43mstep_timeout\u001b[49m\u001b[43m,\u001b[49m\n\u001b[0;32m   1659\u001b[0m \u001b[43m            \u001b[49m\u001b[43mretry_policy\u001b[49m\u001b[38;5;241;43m=\u001b[39;49m\u001b[38;5;28;43mself\u001b[39;49m\u001b[38;5;241;43m.\u001b[39;49m\u001b[43mretry_policy\u001b[49m\u001b[43m,\u001b[49m\n\u001b[0;32m   1660\u001b[0m \u001b[43m            \u001b[49m\u001b[43mget_waiter\u001b[49m\u001b[38;5;241;43m=\u001b[39;49m\u001b[43mget_waiter\u001b[49m\u001b[43m,\u001b[49m\n\u001b[0;32m   1661\u001b[0m \u001b[43m        \u001b[49m\u001b[43m)\u001b[49m\u001b[43m:\u001b[49m\n\u001b[0;32m   1662\u001b[0m \u001b[43m            \u001b[49m\u001b[38;5;66;43;03m# emit output\u001b[39;49;00m\n\u001b[0;32m   1663\u001b[0m \u001b[43m            \u001b[49m\u001b[38;5;28;43;01myield from\u001b[39;49;00m\u001b[43m \u001b[49m\u001b[43moutput\u001b[49m\u001b[43m(\u001b[49m\u001b[43m)\u001b[49m\n\u001b[0;32m   1664\u001b[0m \u001b[38;5;66;03m# emit output\u001b[39;00m\n",
      "File \u001b[1;32m~\\Documents\\DS\\RAG\\RAG_Langchain\\Lib\\site-packages\\langgraph\\pregel\\runner.py:167\u001b[0m, in \u001b[0;36mPregelRunner.tick\u001b[1;34m(self, tasks, reraise, timeout, retry_policy, get_waiter)\u001b[0m\n\u001b[0;32m    165\u001b[0m t \u001b[38;5;241m=\u001b[39m tasks[\u001b[38;5;241m0\u001b[39m]\n\u001b[0;32m    166\u001b[0m \u001b[38;5;28;01mtry\u001b[39;00m:\n\u001b[1;32m--> 167\u001b[0m     \u001b[43mrun_with_retry\u001b[49m\u001b[43m(\u001b[49m\n\u001b[0;32m    168\u001b[0m \u001b[43m        \u001b[49m\u001b[43mt\u001b[49m\u001b[43m,\u001b[49m\n\u001b[0;32m    169\u001b[0m \u001b[43m        \u001b[49m\u001b[43mretry_policy\u001b[49m\u001b[43m,\u001b[49m\n\u001b[0;32m    170\u001b[0m \u001b[43m        \u001b[49m\u001b[43mconfigurable\u001b[49m\u001b[38;5;241;43m=\u001b[39;49m\u001b[43m{\u001b[49m\n\u001b[0;32m    171\u001b[0m \u001b[43m            \u001b[49m\u001b[43mCONFIG_KEY_SEND\u001b[49m\u001b[43m:\u001b[49m\u001b[43m \u001b[49m\u001b[43mpartial\u001b[49m\u001b[43m(\u001b[49m\u001b[43mwriter\u001b[49m\u001b[43m,\u001b[49m\u001b[43m \u001b[49m\u001b[43mt\u001b[49m\u001b[43m)\u001b[49m\u001b[43m,\u001b[49m\n\u001b[0;32m    172\u001b[0m \u001b[43m            \u001b[49m\u001b[43mCONFIG_KEY_CALL\u001b[49m\u001b[43m:\u001b[49m\u001b[43m \u001b[49m\u001b[43mpartial\u001b[49m\u001b[43m(\u001b[49m\u001b[43mcall\u001b[49m\u001b[43m,\u001b[49m\u001b[43m \u001b[49m\u001b[43mt\u001b[49m\u001b[43m)\u001b[49m\u001b[43m,\u001b[49m\n\u001b[0;32m    173\u001b[0m \u001b[43m        \u001b[49m\u001b[43m}\u001b[49m\u001b[43m,\u001b[49m\n\u001b[0;32m    174\u001b[0m \u001b[43m    \u001b[49m\u001b[43m)\u001b[49m\n\u001b[0;32m    175\u001b[0m     \u001b[38;5;28mself\u001b[39m\u001b[38;5;241m.\u001b[39mcommit(t, \u001b[38;5;28;01mNone\u001b[39;00m)\n\u001b[0;32m    176\u001b[0m \u001b[38;5;28;01mexcept\u001b[39;00m \u001b[38;5;167;01mException\u001b[39;00m \u001b[38;5;28;01mas\u001b[39;00m exc:\n",
      "File \u001b[1;32m~\\Documents\\DS\\RAG\\RAG_Langchain\\Lib\\site-packages\\langgraph\\pregel\\retry.py:40\u001b[0m, in \u001b[0;36mrun_with_retry\u001b[1;34m(task, retry_policy, configurable)\u001b[0m\n\u001b[0;32m     38\u001b[0m     task\u001b[38;5;241m.\u001b[39mwrites\u001b[38;5;241m.\u001b[39mclear()\n\u001b[0;32m     39\u001b[0m     \u001b[38;5;66;03m# run the task\u001b[39;00m\n\u001b[1;32m---> 40\u001b[0m     \u001b[38;5;28;01mreturn\u001b[39;00m \u001b[43mtask\u001b[49m\u001b[38;5;241;43m.\u001b[39;49m\u001b[43mproc\u001b[49m\u001b[38;5;241;43m.\u001b[39;49m\u001b[43minvoke\u001b[49m\u001b[43m(\u001b[49m\u001b[43mtask\u001b[49m\u001b[38;5;241;43m.\u001b[39;49m\u001b[43minput\u001b[49m\u001b[43m,\u001b[49m\u001b[43m \u001b[49m\u001b[43mconfig\u001b[49m\u001b[43m)\u001b[49m\n\u001b[0;32m     41\u001b[0m \u001b[38;5;28;01mexcept\u001b[39;00m ParentCommand \u001b[38;5;28;01mas\u001b[39;00m exc:\n\u001b[0;32m     42\u001b[0m     ns: \u001b[38;5;28mstr\u001b[39m \u001b[38;5;241m=\u001b[39m config[CONF][CONFIG_KEY_CHECKPOINT_NS]\n",
      "File \u001b[1;32m~\\Documents\\DS\\RAG\\RAG_Langchain\\Lib\\site-packages\\langgraph\\utils\\runnable.py:408\u001b[0m, in \u001b[0;36mRunnableSeq.invoke\u001b[1;34m(self, input, config, **kwargs)\u001b[0m\n\u001b[0;32m    404\u001b[0m config \u001b[38;5;241m=\u001b[39m patch_config(\n\u001b[0;32m    405\u001b[0m     config, callbacks\u001b[38;5;241m=\u001b[39mrun_manager\u001b[38;5;241m.\u001b[39mget_child(\u001b[38;5;124mf\u001b[39m\u001b[38;5;124m\"\u001b[39m\u001b[38;5;124mseq:step:\u001b[39m\u001b[38;5;132;01m{\u001b[39;00mi\u001b[38;5;241m+\u001b[39m\u001b[38;5;241m1\u001b[39m\u001b[38;5;132;01m}\u001b[39;00m\u001b[38;5;124m\"\u001b[39m)\n\u001b[0;32m    406\u001b[0m )\n\u001b[0;32m    407\u001b[0m \u001b[38;5;28;01mif\u001b[39;00m i \u001b[38;5;241m==\u001b[39m \u001b[38;5;241m0\u001b[39m:\n\u001b[1;32m--> 408\u001b[0m     \u001b[38;5;28minput\u001b[39m \u001b[38;5;241m=\u001b[39m \u001b[43mstep\u001b[49m\u001b[38;5;241;43m.\u001b[39;49m\u001b[43minvoke\u001b[49m\u001b[43m(\u001b[49m\u001b[38;5;28;43minput\u001b[39;49m\u001b[43m,\u001b[49m\u001b[43m \u001b[49m\u001b[43mconfig\u001b[49m\u001b[43m,\u001b[49m\u001b[43m \u001b[49m\u001b[38;5;241;43m*\u001b[39;49m\u001b[38;5;241;43m*\u001b[39;49m\u001b[43mkwargs\u001b[49m\u001b[43m)\u001b[49m\n\u001b[0;32m    409\u001b[0m \u001b[38;5;28;01melse\u001b[39;00m:\n\u001b[0;32m    410\u001b[0m     \u001b[38;5;28minput\u001b[39m \u001b[38;5;241m=\u001b[39m step\u001b[38;5;241m.\u001b[39minvoke(\u001b[38;5;28minput\u001b[39m, config)\n",
      "File \u001b[1;32m~\\Documents\\DS\\RAG\\RAG_Langchain\\Lib\\site-packages\\langgraph\\utils\\runnable.py:184\u001b[0m, in \u001b[0;36mRunnableCallable.invoke\u001b[1;34m(self, input, config, **kwargs)\u001b[0m\n\u001b[0;32m    182\u001b[0m \u001b[38;5;28;01melse\u001b[39;00m:\n\u001b[0;32m    183\u001b[0m     context\u001b[38;5;241m.\u001b[39mrun(_set_config_context, config)\n\u001b[1;32m--> 184\u001b[0m     ret \u001b[38;5;241m=\u001b[39m \u001b[43mcontext\u001b[49m\u001b[38;5;241;43m.\u001b[39;49m\u001b[43mrun\u001b[49m\u001b[43m(\u001b[49m\u001b[38;5;28;43mself\u001b[39;49m\u001b[38;5;241;43m.\u001b[39;49m\u001b[43mfunc\u001b[49m\u001b[43m,\u001b[49m\u001b[43m \u001b[49m\u001b[38;5;28;43minput\u001b[39;49m\u001b[43m,\u001b[49m\u001b[43m \u001b[49m\u001b[38;5;241;43m*\u001b[39;49m\u001b[38;5;241;43m*\u001b[39;49m\u001b[43mkwargs\u001b[49m\u001b[43m)\u001b[49m\n\u001b[0;32m    185\u001b[0m \u001b[38;5;28;01mif\u001b[39;00m \u001b[38;5;28misinstance\u001b[39m(ret, Runnable) \u001b[38;5;129;01mand\u001b[39;00m \u001b[38;5;28mself\u001b[39m\u001b[38;5;241m.\u001b[39mrecurse:\n\u001b[0;32m    186\u001b[0m     \u001b[38;5;28;01mreturn\u001b[39;00m ret\u001b[38;5;241m.\u001b[39minvoke(\u001b[38;5;28minput\u001b[39m, config)\n",
      "Cell \u001b[1;32mIn[16], line 4\u001b[0m, in \u001b[0;36mcall_llm\u001b[1;34m(state)\u001b[0m\n\u001b[0;32m      2\u001b[0m \u001b[38;5;250m\u001b[39m\u001b[38;5;124;03m\"\"\"Call the LLM to decide next step.\"\"\"\u001b[39;00m\n\u001b[0;32m      3\u001b[0m runnable \u001b[38;5;241m=\u001b[39m (prompt \u001b[38;5;241m|\u001b[39m llm\u001b[38;5;241m.\u001b[39mbind_tools(tool_list))\n\u001b[1;32m----> 4\u001b[0m \u001b[43mrunnable\u001b[49m\u001b[38;5;241;43m.\u001b[39;49m\u001b[43minvoke\u001b[49m\u001b[43m(\u001b[49m\u001b[43m{\u001b[49m\u001b[38;5;124;43m\"\u001b[39;49m\u001b[38;5;124;43mmessages\u001b[39;49m\u001b[38;5;124;43m\"\u001b[39;49m\u001b[43m:\u001b[49m\u001b[43m \u001b[49m\u001b[43mstate\u001b[49m\u001b[43m[\u001b[49m\u001b[38;5;124;43m\"\u001b[39;49m\u001b[38;5;124;43mmessages\u001b[39;49m\u001b[38;5;124;43m\"\u001b[39;49m\u001b[43m]\u001b[49m\u001b[43m}\u001b[49m\u001b[43m)\u001b[49m\n\u001b[0;32m      5\u001b[0m \u001b[38;5;28;01mreturn\u001b[39;00m {\u001b[38;5;124m\"\u001b[39m\u001b[38;5;124mmessages\u001b[39m\u001b[38;5;124m\"\u001b[39m: state[\u001b[38;5;124m\"\u001b[39m\u001b[38;5;124mmessages\u001b[39m\u001b[38;5;124m\"\u001b[39m] \u001b[38;5;241m+\u001b[39m [response]}\n",
      "File \u001b[1;32m~\\Documents\\DS\\RAG\\RAG_Langchain\\Lib\\site-packages\\langchain_core\\runnables\\base.py:3022\u001b[0m, in \u001b[0;36mRunnableSequence.invoke\u001b[1;34m(self, input, config, **kwargs)\u001b[0m\n\u001b[0;32m   3020\u001b[0m context\u001b[38;5;241m.\u001b[39mrun(_set_config_context, config)\n\u001b[0;32m   3021\u001b[0m \u001b[38;5;28;01mif\u001b[39;00m i \u001b[38;5;241m==\u001b[39m \u001b[38;5;241m0\u001b[39m:\n\u001b[1;32m-> 3022\u001b[0m     \u001b[38;5;28minput\u001b[39m \u001b[38;5;241m=\u001b[39m \u001b[43mcontext\u001b[49m\u001b[38;5;241;43m.\u001b[39;49m\u001b[43mrun\u001b[49m\u001b[43m(\u001b[49m\u001b[43mstep\u001b[49m\u001b[38;5;241;43m.\u001b[39;49m\u001b[43minvoke\u001b[49m\u001b[43m,\u001b[49m\u001b[43m \u001b[49m\u001b[38;5;28;43minput\u001b[39;49m\u001b[43m,\u001b[49m\u001b[43m \u001b[49m\u001b[43mconfig\u001b[49m\u001b[43m,\u001b[49m\u001b[43m \u001b[49m\u001b[38;5;241;43m*\u001b[39;49m\u001b[38;5;241;43m*\u001b[39;49m\u001b[43mkwargs\u001b[49m\u001b[43m)\u001b[49m\n\u001b[0;32m   3023\u001b[0m \u001b[38;5;28;01melse\u001b[39;00m:\n\u001b[0;32m   3024\u001b[0m     \u001b[38;5;28minput\u001b[39m \u001b[38;5;241m=\u001b[39m context\u001b[38;5;241m.\u001b[39mrun(step\u001b[38;5;241m.\u001b[39minvoke, \u001b[38;5;28minput\u001b[39m, config)\n",
      "File \u001b[1;32m~\\Documents\\DS\\RAG\\RAG_Langchain\\Lib\\site-packages\\langchain_core\\prompts\\base.py:208\u001b[0m, in \u001b[0;36mBasePromptTemplate.invoke\u001b[1;34m(self, input, config, **kwargs)\u001b[0m\n\u001b[0;32m    206\u001b[0m \u001b[38;5;28;01mif\u001b[39;00m \u001b[38;5;28mself\u001b[39m\u001b[38;5;241m.\u001b[39mtags:\n\u001b[0;32m    207\u001b[0m     config[\u001b[38;5;124m\"\u001b[39m\u001b[38;5;124mtags\u001b[39m\u001b[38;5;124m\"\u001b[39m] \u001b[38;5;241m=\u001b[39m config[\u001b[38;5;124m\"\u001b[39m\u001b[38;5;124mtags\u001b[39m\u001b[38;5;124m\"\u001b[39m] \u001b[38;5;241m+\u001b[39m \u001b[38;5;28mself\u001b[39m\u001b[38;5;241m.\u001b[39mtags\n\u001b[1;32m--> 208\u001b[0m \u001b[38;5;28;01mreturn\u001b[39;00m \u001b[38;5;28;43mself\u001b[39;49m\u001b[38;5;241;43m.\u001b[39;49m\u001b[43m_call_with_config\u001b[49m\u001b[43m(\u001b[49m\n\u001b[0;32m    209\u001b[0m \u001b[43m    \u001b[49m\u001b[38;5;28;43mself\u001b[39;49m\u001b[38;5;241;43m.\u001b[39;49m\u001b[43m_format_prompt_with_error_handling\u001b[49m\u001b[43m,\u001b[49m\n\u001b[0;32m    210\u001b[0m \u001b[43m    \u001b[49m\u001b[38;5;28;43minput\u001b[39;49m\u001b[43m,\u001b[49m\n\u001b[0;32m    211\u001b[0m \u001b[43m    \u001b[49m\u001b[43mconfig\u001b[49m\u001b[43m,\u001b[49m\n\u001b[0;32m    212\u001b[0m \u001b[43m    \u001b[49m\u001b[43mrun_type\u001b[49m\u001b[38;5;241;43m=\u001b[39;49m\u001b[38;5;124;43m\"\u001b[39;49m\u001b[38;5;124;43mprompt\u001b[39;49m\u001b[38;5;124;43m\"\u001b[39;49m\u001b[43m,\u001b[49m\n\u001b[0;32m    213\u001b[0m \u001b[43m    \u001b[49m\u001b[43mserialized\u001b[49m\u001b[38;5;241;43m=\u001b[39;49m\u001b[38;5;28;43mself\u001b[39;49m\u001b[38;5;241;43m.\u001b[39;49m\u001b[43m_serialized\u001b[49m\u001b[43m,\u001b[49m\n\u001b[0;32m    214\u001b[0m \u001b[43m\u001b[49m\u001b[43m)\u001b[49m\n",
      "File \u001b[1;32m~\\Documents\\DS\\RAG\\RAG_Langchain\\Lib\\site-packages\\langchain_core\\runnables\\base.py:1927\u001b[0m, in \u001b[0;36mRunnable._call_with_config\u001b[1;34m(self, func, input, config, run_type, serialized, **kwargs)\u001b[0m\n\u001b[0;32m   1923\u001b[0m     context \u001b[38;5;241m=\u001b[39m copy_context()\n\u001b[0;32m   1924\u001b[0m     context\u001b[38;5;241m.\u001b[39mrun(_set_config_context, child_config)\n\u001b[0;32m   1925\u001b[0m     output \u001b[38;5;241m=\u001b[39m cast(\n\u001b[0;32m   1926\u001b[0m         Output,\n\u001b[1;32m-> 1927\u001b[0m         \u001b[43mcontext\u001b[49m\u001b[38;5;241;43m.\u001b[39;49m\u001b[43mrun\u001b[49m\u001b[43m(\u001b[49m\n\u001b[0;32m   1928\u001b[0m \u001b[43m            \u001b[49m\u001b[43mcall_func_with_variable_args\u001b[49m\u001b[43m,\u001b[49m\u001b[43m  \u001b[49m\u001b[38;5;66;43;03m# type: ignore[arg-type]\u001b[39;49;00m\n\u001b[0;32m   1929\u001b[0m \u001b[43m            \u001b[49m\u001b[43mfunc\u001b[49m\u001b[43m,\u001b[49m\u001b[43m  \u001b[49m\u001b[38;5;66;43;03m# type: ignore[arg-type]\u001b[39;49;00m\n\u001b[0;32m   1930\u001b[0m \u001b[43m            \u001b[49m\u001b[38;5;28;43minput\u001b[39;49m\u001b[43m,\u001b[49m\u001b[43m  \u001b[49m\u001b[38;5;66;43;03m# type: ignore[arg-type]\u001b[39;49;00m\n\u001b[0;32m   1931\u001b[0m \u001b[43m            \u001b[49m\u001b[43mconfig\u001b[49m\u001b[43m,\u001b[49m\n\u001b[0;32m   1932\u001b[0m \u001b[43m            \u001b[49m\u001b[43mrun_manager\u001b[49m\u001b[43m,\u001b[49m\n\u001b[0;32m   1933\u001b[0m \u001b[43m            \u001b[49m\u001b[38;5;241;43m*\u001b[39;49m\u001b[38;5;241;43m*\u001b[39;49m\u001b[43mkwargs\u001b[49m\u001b[43m,\u001b[49m\n\u001b[0;32m   1934\u001b[0m \u001b[43m        \u001b[49m\u001b[43m)\u001b[49m,\n\u001b[0;32m   1935\u001b[0m     )\n\u001b[0;32m   1936\u001b[0m \u001b[38;5;28;01mexcept\u001b[39;00m \u001b[38;5;167;01mBaseException\u001b[39;00m \u001b[38;5;28;01mas\u001b[39;00m e:\n\u001b[0;32m   1937\u001b[0m     run_manager\u001b[38;5;241m.\u001b[39mon_chain_error(e)\n",
      "File \u001b[1;32m~\\Documents\\DS\\RAG\\RAG_Langchain\\Lib\\site-packages\\langchain_core\\runnables\\config.py:396\u001b[0m, in \u001b[0;36mcall_func_with_variable_args\u001b[1;34m(func, input, config, run_manager, **kwargs)\u001b[0m\n\u001b[0;32m    394\u001b[0m \u001b[38;5;28;01mif\u001b[39;00m run_manager \u001b[38;5;129;01mis\u001b[39;00m \u001b[38;5;129;01mnot\u001b[39;00m \u001b[38;5;28;01mNone\u001b[39;00m \u001b[38;5;129;01mand\u001b[39;00m accepts_run_manager(func):\n\u001b[0;32m    395\u001b[0m     kwargs[\u001b[38;5;124m\"\u001b[39m\u001b[38;5;124mrun_manager\u001b[39m\u001b[38;5;124m\"\u001b[39m] \u001b[38;5;241m=\u001b[39m run_manager\n\u001b[1;32m--> 396\u001b[0m \u001b[38;5;28;01mreturn\u001b[39;00m \u001b[43mfunc\u001b[49m\u001b[43m(\u001b[49m\u001b[38;5;28;43minput\u001b[39;49m\u001b[43m,\u001b[49m\u001b[43m \u001b[49m\u001b[38;5;241;43m*\u001b[39;49m\u001b[38;5;241;43m*\u001b[39;49m\u001b[43mkwargs\u001b[49m\u001b[43m)\u001b[49m\n",
      "File \u001b[1;32m~\\Documents\\DS\\RAG\\RAG_Langchain\\Lib\\site-packages\\langchain_core\\prompts\\base.py:182\u001b[0m, in \u001b[0;36mBasePromptTemplate._format_prompt_with_error_handling\u001b[1;34m(self, inner_input)\u001b[0m\n\u001b[0;32m    181\u001b[0m \u001b[38;5;28;01mdef\u001b[39;00m \u001b[38;5;21m_format_prompt_with_error_handling\u001b[39m(\u001b[38;5;28mself\u001b[39m, inner_input: \u001b[38;5;28mdict\u001b[39m) \u001b[38;5;241m-\u001b[39m\u001b[38;5;241m>\u001b[39m PromptValue:\n\u001b[1;32m--> 182\u001b[0m     _inner_input \u001b[38;5;241m=\u001b[39m \u001b[38;5;28;43mself\u001b[39;49m\u001b[38;5;241;43m.\u001b[39;49m\u001b[43m_validate_input\u001b[49m\u001b[43m(\u001b[49m\u001b[43minner_input\u001b[49m\u001b[43m)\u001b[49m\n\u001b[0;32m    183\u001b[0m     \u001b[38;5;28;01mreturn\u001b[39;00m \u001b[38;5;28mself\u001b[39m\u001b[38;5;241m.\u001b[39mformat_prompt(\u001b[38;5;241m*\u001b[39m\u001b[38;5;241m*\u001b[39m_inner_input)\n",
      "File \u001b[1;32m~\\Documents\\DS\\RAG\\RAG_Langchain\\Lib\\site-packages\\langchain_core\\prompts\\base.py:176\u001b[0m, in \u001b[0;36mBasePromptTemplate._validate_input\u001b[1;34m(self, inner_input)\u001b[0m\n\u001b[0;32m    170\u001b[0m     example_key \u001b[38;5;241m=\u001b[39m missing\u001b[38;5;241m.\u001b[39mpop()\n\u001b[0;32m    171\u001b[0m     msg \u001b[38;5;241m+\u001b[39m\u001b[38;5;241m=\u001b[39m (\n\u001b[0;32m    172\u001b[0m         \u001b[38;5;124mf\u001b[39m\u001b[38;5;124m\"\u001b[39m\u001b[38;5;130;01m\\n\u001b[39;00m\u001b[38;5;124mNote: if you intended \u001b[39m\u001b[38;5;130;01m{{\u001b[39;00m\u001b[38;5;132;01m{\u001b[39;00mexample_key\u001b[38;5;132;01m}\u001b[39;00m\u001b[38;5;130;01m}}\u001b[39;00m\u001b[38;5;124m to be part of the string\u001b[39m\u001b[38;5;124m\"\u001b[39m\n\u001b[0;32m    173\u001b[0m         \u001b[38;5;124m\"\u001b[39m\u001b[38;5;124m and not a variable, please escape it with double curly braces like: \u001b[39m\u001b[38;5;124m\"\u001b[39m\n\u001b[0;32m    174\u001b[0m         \u001b[38;5;124mf\u001b[39m\u001b[38;5;124m\"\u001b[39m\u001b[38;5;124m'\u001b[39m\u001b[38;5;130;01m{{\u001b[39;00m\u001b[38;5;130;01m{{\u001b[39;00m\u001b[38;5;132;01m{\u001b[39;00mexample_key\u001b[38;5;132;01m}\u001b[39;00m\u001b[38;5;130;01m}}\u001b[39;00m\u001b[38;5;130;01m}}\u001b[39;00m\u001b[38;5;124m'\u001b[39m\u001b[38;5;124m.\u001b[39m\u001b[38;5;124m\"\u001b[39m\n\u001b[0;32m    175\u001b[0m     )\n\u001b[1;32m--> 176\u001b[0m     \u001b[38;5;28;01mraise\u001b[39;00m \u001b[38;5;167;01mKeyError\u001b[39;00m(\n\u001b[0;32m    177\u001b[0m         create_message(message\u001b[38;5;241m=\u001b[39mmsg, error_code\u001b[38;5;241m=\u001b[39mErrorCode\u001b[38;5;241m.\u001b[39mINVALID_PROMPT_INPUT)\n\u001b[0;32m    178\u001b[0m     )\n\u001b[0;32m    179\u001b[0m \u001b[38;5;28;01mreturn\u001b[39;00m inner_input\n",
      "\u001b[1;31mKeyError\u001b[0m: \"Input to ChatPromptTemplate is missing variables {'functions'}.  Expected: ['functions', 'messages'] Received: ['messages']\\nNote: if you intended {functions} to be part of the string and not a variable, please escape it with double curly braces like: '{{functions}}'.\\nFor troubleshooting, visit: https://python.langchain.com/docs/troubleshooting/errors/INVALID_PROMPT_INPUT \"",
      "\u001b[0mDuring task with name 'call_llm' and id 'e6c5a412-66a6-b012-859f-49c33e825a16'"
     ]
    }
   ],
   "source": [
    "inputs = {\"messages\": [HumanMessage(content=input_question)]}\n",
    "\n",
    "app.invoke(inputs)"
   ]
  },
  {
   "cell_type": "code",
   "execution_count": null,
   "id": "7edd4c5e-b560-49d5-ad3a-a7d6e80d909e",
   "metadata": {},
   "outputs": [],
   "source": []
  },
  {
   "cell_type": "code",
   "execution_count": null,
   "id": "ee848d91-b2fd-4946-9a93-3f104e492b19",
   "metadata": {},
   "outputs": [],
   "source": []
  },
  {
   "cell_type": "code",
   "execution_count": null,
   "id": "853dc16b-dc51-4fdd-9d29-f1ae5c390b81",
   "metadata": {},
   "outputs": [],
   "source": [
    "\n",
    "tools = [\n",
    "    Tool(\n",
    "        name=\"add\",\n",
    "        func=add,\n",
    "        description=\"Adds two numbers.\",\n",
    "    ),\n",
    "    Tool(\n",
    "        name=\"subtract\",\n",
    "        func=subtract,\n",
    "        description=\"Subtracts two numbers.\",\n",
    "    ),\n",
    "    Tool(\n",
    "        name=\"multiply\",\n",
    "        func=multiply,\n",
    "        description=\"Multiplies two numbers.\",\n",
    "    ),\n",
    "    Tool(\n",
    "        name=\"divide\",\n",
    "        func=divide,\n",
    "        description=\"Divides two numbers.\",\n",
    "    ),\n",
    "]\n",
    "\n",
    "prompt = ChatPromptTemplate.from_messages(\n",
    "    [\n",
    "        (\"system\", \"You are a helpful calculator. You have the following functions available to you: {functions} \\n. When using a function, reply in the following format. \\n```tool_code\\n{{ function_name: <function name>, arguments: {{ arg1: <value>, arg2: <value> }} }} \\n```\"),\n",
    "        MessagesPlaceholder(variable_name=\"messages\"),\n",
    "    ]\n",
    ")\n",
    "\n",
    "def agent(messages, agent_scratchpad):\n",
    "    formatted_messages = prompt.format_messages(\n",
    "        messages=messages,\n",
    "        agent_scratchpad=format_to_openai_function_messages(agent_scratchpad),\n",
    "    )\n",
    "    response = llm.invoke(formatted_messages)\n",
    "    return response\n",
    "\n",
    "output_parser = OpenAIFunctionsAgentOutputParser()\n",
    "\n",
    "tool_executor = ToolExecutor(tools)\n",
    "\n",
    "class AgentState:\n",
    "    messages: List\n",
    "    agent_scratchpad: List\n",
    "    tool_output: dict\n",
    "\n",
    "\n",
    "def call_tool(state):\n",
    "    \"\"\"Calls the tool and updates intermediate steps\"\"\"\n",
    "    response = output_parser.parse(state.intermediate_steps.pop())\n",
    "    \n",
    "    if response.tool not in [\"add\", \"subtract\", \"multiply\", \"divide\"]:\n",
    "        return {\"messages\": state.messages, \"agent_scratchpad\":state.agent_scratchpad, \"tool_output\": None, \"intermediate_steps\":state.intermediate_steps}\n",
    "    \n",
    "    tool_output = tool_executor.invoke(\n",
    "        {\"tool_call\": response.tool, \"tool_input\": response.tool_input}\n",
    "    )\n",
    "    \n",
    "    state.intermediate_steps.append(AIMessage(content=str(tool_output),tool_calls=[])) # Add output as agent message\n",
    "    return {\"messages\": state.messages, \"agent_scratchpad\":state.agent_scratchpad, \"tool_output\": tool_output, \"intermediate_steps\":state.intermediate_steps}\n",
    "    \n",
    "def end(state):\n",
    "    return {\"messages\": state.messages, \"agent_scratchpad\": state.agent_scratchpad, \"tool_output\": None, \"intermediate_steps\": state.intermediate_steps}\n",
    "\n",
    "workflow = StateGraph(AgentState)\n",
    "workflow.add_node(\"agent\", agent)\n",
    "workflow.add_node(\"call_tool\", call_tool)\n",
    "workflow.add_node(\"end\", end)\n",
    "\n",
    "workflow.set_entry_point(\"agent\")\n",
    "workflow.add_conditional_edges(\n",
    "    \"agent\",\n",
    "    should_continue,\n",
    "    {\n",
    "      \"call_tool\": \"call_tool\",\n",
    "      \"end\": \"end\"\n",
    "     }\n",
    ")\n",
    "workflow.add_edge(\"call_tool\",\"agent\")\n",
    "\n",
    "app = workflow.compile()\n",
    "\n",
    "# 8. Run the Agent\n",
    "inputs = {\"messages\": [HumanMessage(content=\"What is 2 + 2 and then multiply by 10?\")] , \"agent_scratchpad\": [], \"intermediate_steps\": [], \"tool_output\": None}\n",
    "result = app.invoke(inputs)\n",
    "\n",
    "print(\"Result: \")\n",
    "if result[\"tool_output\"] is not None:\n",
    "    print(result[\"tool_output\"])\n",
    "else:\n",
    "    print(result[\"messages\"][-1].content)"
   ]
  },
  {
   "cell_type": "code",
   "execution_count": null,
   "id": "8f470af8-50ba-428e-ab99-3377368fb4dd",
   "metadata": {},
   "outputs": [],
   "source": []
  },
  {
   "cell_type": "code",
   "execution_count": null,
   "id": "821616cc-020b-4a43-8552-c46be0350b99",
   "metadata": {},
   "outputs": [],
   "source": []
  },
  {
   "cell_type": "code",
   "execution_count": null,
   "id": "74230715-2eb6-4f2f-95bf-5370f62e8fa3",
   "metadata": {},
   "outputs": [],
   "source": []
  },
  {
   "cell_type": "code",
   "execution_count": 24,
   "id": "67b01257-a212-4ecc-a5e7-433ddecd58fc",
   "metadata": {},
   "outputs": [],
   "source": [
    "tools_dict = {tool.__name__: tool for tool in tools}"
   ]
  },
  {
   "cell_type": "code",
   "execution_count": 26,
   "id": "6ba26f3d-02a3-4426-aa34-69497bae01b6",
   "metadata": {},
   "outputs": [
    {
     "data": {
      "text/plain": [
       "4"
      ]
     },
     "execution_count": 26,
     "metadata": {},
     "output_type": "execute_result"
    }
   ],
   "source": [
    "tools_dict[\"add\"](1, 3)"
   ]
  },
  {
   "cell_type": "code",
   "execution_count": null,
   "id": "fc4b42c4-026d-42c6-ac40-c039fbe5f568",
   "metadata": {},
   "outputs": [],
   "source": []
  },
  {
   "cell_type": "code",
   "execution_count": null,
   "id": "c94d1199-8eb1-473d-8fd1-34de17daf0cb",
   "metadata": {},
   "outputs": [],
   "source": []
  },
  {
   "cell_type": "code",
   "execution_count": null,
   "id": "65b95797-7816-4567-a960-b3015356cbf2",
   "metadata": {},
   "outputs": [],
   "source": []
  },
  {
   "cell_type": "code",
   "execution_count": null,
   "id": "40f647c2-c013-453d-8238-9620399b2633",
   "metadata": {},
   "outputs": [],
   "source": []
  }
 ],
 "metadata": {
  "kernelspec": {
   "display_name": "Python 3 (ipykernel)",
   "language": "python",
   "name": "python3"
  },
  "language_info": {
   "codemirror_mode": {
    "name": "ipython",
    "version": 3
   },
   "file_extension": ".py",
   "mimetype": "text/x-python",
   "name": "python",
   "nbconvert_exporter": "python",
   "pygments_lexer": "ipython3",
   "version": "3.12.0"
  }
 },
 "nbformat": 4,
 "nbformat_minor": 5
}
